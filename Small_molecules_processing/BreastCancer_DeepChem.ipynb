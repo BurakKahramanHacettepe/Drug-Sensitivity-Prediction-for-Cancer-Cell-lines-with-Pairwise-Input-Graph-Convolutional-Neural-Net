{
 "cells": [
  {
   "cell_type": "code",
   "execution_count": 1,
   "metadata": {
    "scrolled": true
   },
   "outputs": [
    {
     "name": "stderr",
     "output_type": "stream",
     "text": [
      "D:\\Anaconda\\envs\\my-rdkit-env\\lib\\site-packages\\tensorflow\\python\\framework\\dtypes.py:526: FutureWarning: Passing (type, 1) or '1type' as a synonym of type is deprecated; in a future version of numpy, it will be understood as (type, (1,)) / '(1,)type'.\n",
      "  _np_qint8 = np.dtype([(\"qint8\", np.int8, 1)])\n",
      "D:\\Anaconda\\envs\\my-rdkit-env\\lib\\site-packages\\tensorflow\\python\\framework\\dtypes.py:527: FutureWarning: Passing (type, 1) or '1type' as a synonym of type is deprecated; in a future version of numpy, it will be understood as (type, (1,)) / '(1,)type'.\n",
      "  _np_quint8 = np.dtype([(\"quint8\", np.uint8, 1)])\n",
      "D:\\Anaconda\\envs\\my-rdkit-env\\lib\\site-packages\\tensorflow\\python\\framework\\dtypes.py:528: FutureWarning: Passing (type, 1) or '1type' as a synonym of type is deprecated; in a future version of numpy, it will be understood as (type, (1,)) / '(1,)type'.\n",
      "  _np_qint16 = np.dtype([(\"qint16\", np.int16, 1)])\n",
      "D:\\Anaconda\\envs\\my-rdkit-env\\lib\\site-packages\\tensorflow\\python\\framework\\dtypes.py:529: FutureWarning: Passing (type, 1) or '1type' as a synonym of type is deprecated; in a future version of numpy, it will be understood as (type, (1,)) / '(1,)type'.\n",
      "  _np_quint16 = np.dtype([(\"quint16\", np.uint16, 1)])\n",
      "D:\\Anaconda\\envs\\my-rdkit-env\\lib\\site-packages\\tensorflow\\python\\framework\\dtypes.py:530: FutureWarning: Passing (type, 1) or '1type' as a synonym of type is deprecated; in a future version of numpy, it will be understood as (type, (1,)) / '(1,)type'.\n",
      "  _np_qint32 = np.dtype([(\"qint32\", np.int32, 1)])\n",
      "D:\\Anaconda\\envs\\my-rdkit-env\\lib\\site-packages\\tensorflow\\python\\framework\\dtypes.py:535: FutureWarning: Passing (type, 1) or '1type' as a synonym of type is deprecated; in a future version of numpy, it will be understood as (type, (1,)) / '(1,)type'.\n",
      "  np_resource = np.dtype([(\"resource\", np.ubyte, 1)])\n",
      "D:\\Anaconda\\envs\\my-rdkit-env\\lib\\site-packages\\sklearn\\externals\\joblib\\__init__.py:15: FutureWarning: sklearn.externals.joblib is deprecated in 0.21 and will be removed in 0.23. Please import this functionality directly from joblib, which can be installed with: pip install joblib. If this warning is raised when loading pickled models, you may need to re-serialize those models with scikit-learn 0.21+.\n",
      "  warnings.warn(msg, category=FutureWarning)\n",
      "RDKit WARNING: [16:23:08] Enabling RDKit 2019.09.2 jupyter extensions\n"
     ]
    }
   ],
   "source": [
    "from __future__ import division\n",
    "from __future__ import print_function\n",
    "from __future__ import unicode_literals\n",
    "\n",
    "import numpy as np\n",
    "import tensorflow as tf\n",
    "import deepchem as dc\n",
    "from deepchem.models.tensorgraph.models.graph_models import GraphConvModel"
   ]
  },
  {
   "cell_type": "code",
   "execution_count": 2,
   "metadata": {
    "scrolled": true
   },
   "outputs": [
    {
     "name": "stdout",
     "output_type": "stream",
     "text": [
      "Loading raw samples now.\n",
      "shard_size: 8192\n",
      "About to start loading CSV from BreastCancerInteraction.csv\n",
      "Loading shard 1 of size 8192.\n",
      "Featurizing sample 0\n",
      "Featurizing sample 1000\n",
      "Featurizing sample 2000\n",
      "Featurizing sample 3000\n",
      "Featurizing sample 4000\n",
      "Featurizing sample 5000\n",
      "Featurizing sample 6000\n",
      "Featurizing sample 7000\n",
      "Featurizing sample 8000\n",
      "TIMING: featurizing shard 0 took 16.748 s\n",
      "Loading shard 2 of size 8192.\n",
      "Featurizing sample 0\n",
      "Featurizing sample 1000\n",
      "Featurizing sample 2000\n",
      "Featurizing sample 3000\n",
      "Featurizing sample 4000\n",
      "Featurizing sample 5000\n",
      "Featurizing sample 6000\n",
      "Featurizing sample 7000\n",
      "Featurizing sample 8000\n",
      "TIMING: featurizing shard 1 took 16.651 s\n",
      "Loading shard 3 of size 8192.\n",
      "Featurizing sample 0\n",
      "TIMING: featurizing shard 2 took 0.890 s\n",
      "TIMING: dataset construction took 41.672 s\n",
      "Loading dataset from disk.\n"
     ]
    }
   ],
   "source": [
    "dataset_file = 'BreastCancerInteraction.csv'\n",
    "task = ['pChEMBL Value']\n",
    "featurizer_func = dc.feat.ConvMolFeaturizer()\n",
    "\n",
    "loader = dc.data.CSVLoader(tasks=task, smiles_field='Smiles', featurizer=featurizer_func)\n",
    "dataset = loader.featurize(dataset_file)"
   ]
  },
  {
   "cell_type": "code",
   "execution_count": 3,
   "metadata": {
    "scrolled": true
   },
   "outputs": [
    {
     "name": "stdout",
     "output_type": "stream",
     "text": [
      "TIMING: dataset construction took 11.725 s\n",
      "Loading dataset from disk.\n",
      "TIMING: dataset construction took 5.589 s\n",
      "Loading dataset from disk.\n",
      "TIMING: dataset construction took 5.602 s\n",
      "Loading dataset from disk.\n"
     ]
    }
   ],
   "source": [
    "splitter = dc.splits.splitters.RandomSplitter()\n",
    "train_dataset, valid_dataset, test_dataset = splitter.train_valid_test_split( dataset )"
   ]
  },
  {
   "cell_type": "code",
   "execution_count": 4,
   "metadata": {
    "scrolled": true
   },
   "outputs": [
    {
     "data": {
      "text/plain": [
       "13480"
      ]
     },
     "execution_count": 4,
     "metadata": {},
     "output_type": "execute_result"
    }
   ],
   "source": [
    "len(train_dataset)"
   ]
  },
  {
   "cell_type": "code",
   "execution_count": 5,
   "metadata": {},
   "outputs": [
    {
     "data": {
      "text/plain": [
       "1685"
      ]
     },
     "execution_count": 5,
     "metadata": {},
     "output_type": "execute_result"
    }
   ],
   "source": [
    "len(valid_dataset)"
   ]
  },
  {
   "cell_type": "code",
   "execution_count": 6,
   "metadata": {},
   "outputs": [
    {
     "data": {
      "text/plain": [
       "1685"
      ]
     },
     "execution_count": 6,
     "metadata": {},
     "output_type": "execute_result"
    }
   ],
   "source": [
    "len(test_dataset)"
   ]
  },
  {
   "cell_type": "code",
   "execution_count": 7,
   "metadata": {},
   "outputs": [
    {
     "name": "stdout",
     "output_type": "stream",
     "text": [
      "[7.52]\n"
     ]
    }
   ],
   "source": [
    "for x,y,w,smiles in test_dataset.itersamples():\n",
    "    print(y)\n",
    "    break"
   ]
  },
  {
   "cell_type": "markdown",
   "metadata": {},
   "source": [
    "----\n",
    "Model v1"
   ]
  },
  {
   "cell_type": "code",
   "execution_count": 16,
   "metadata": {
    "scrolled": true
   },
   "outputs": [],
   "source": [
    "metric = dc.metrics.Metric(dc.metrics.pearson_r2_score, np.mean)"
   ]
  },
  {
   "cell_type": "code",
   "execution_count": 18,
   "metadata": {
    "scrolled": true
   },
   "outputs": [
    {
     "data": {
      "text/plain": [
       "161.03053327225754"
      ]
     },
     "execution_count": 18,
     "metadata": {},
     "output_type": "execute_result"
    }
   ],
   "source": [
    "# Do setup required for tf/keras models\n",
    "# Number of features on conv-mols\n",
    "n_feat = 75\n",
    "# Batch size of models\n",
    "batch_size = 64\n",
    "model = GraphConvModel(\n",
    "    1, batch_size=batch_size, mode='regression')\n",
    "\n",
    "# Fit trained model\n",
    "model.fit(train_dataset, nb_epoch=100)"
   ]
  },
  {
   "cell_type": "code",
   "execution_count": 19,
   "metadata": {
    "scrolled": true
   },
   "outputs": [
    {
     "name": "stdout",
     "output_type": "stream",
     "text": [
      "Evaluating model\n",
      "computed_metrics: [0.7979245585252843]\n",
      "computed_metrics: [0.6619205798498607]\n",
      "Train scores\n",
      "{'mean-pearson_r2_score': 0.7979245585252843}\n",
      "Validation scores\n",
      "{'mean-pearson_r2_score': 0.6619205798498607}\n"
     ]
    }
   ],
   "source": [
    "print(\"Evaluating model\")\n",
    "train_scores = model.evaluate(train_dataset, [metric])\n",
    "valid_scores = model.evaluate(valid_dataset, [metric])\n",
    "\n",
    "print(\"Train scores\")\n",
    "print(train_scores)\n",
    "\n",
    "print(\"Validation scores\")\n",
    "print(valid_scores)"
   ]
  },
  {
   "cell_type": "markdown",
   "metadata": {},
   "source": [
    "---"
   ]
  },
  {
   "cell_type": "markdown",
   "metadata": {},
   "source": [
    "---"
   ]
  },
  {
   "cell_type": "markdown",
   "metadata": {},
   "source": [
    "----"
   ]
  },
  {
   "cell_type": "code",
   "execution_count": 9,
   "metadata": {},
   "outputs": [],
   "source": [
    "mean_pearson_r2 = dc.metrics.Metric(dc.metrics.pearson_r2_score, np.mean)\n",
    "rms = dc.metrics.Metric(dc.metrics.rms_score)\n",
    "mae_score = dc.metrics.Metric(dc.metrics.mae_score)"
   ]
  },
  {
   "cell_type": "code",
   "execution_count": 10,
   "metadata": {},
   "outputs": [
    {
     "name": "stdout",
     "output_type": "stream",
     "text": [
      "WARNING:tensorflow:From D:\\Anaconda\\envs\\my-rdkit-env\\lib\\site-packages\\tensorflow\\python\\ops\\resource_variable_ops.py:435: colocate_with (from tensorflow.python.framework.ops) is deprecated and will be removed in a future version.\n",
      "Instructions for updating:\n",
      "Colocations handled automatically by placer.\n"
     ]
    },
    {
     "name": "stderr",
     "output_type": "stream",
     "text": [
      "WARNING:tensorflow:From D:\\Anaconda\\envs\\my-rdkit-env\\lib\\site-packages\\tensorflow\\python\\ops\\resource_variable_ops.py:435: colocate_with (from tensorflow.python.framework.ops) is deprecated and will be removed in a future version.\n",
      "Instructions for updating:\n",
      "Colocations handled automatically by placer.\n"
     ]
    },
    {
     "name": "stdout",
     "output_type": "stream",
     "text": [
      "WARNING:tensorflow:From D:\\Anaconda\\envs\\my-rdkit-env\\lib\\site-packages\\tensorflow\\python\\ops\\math_ops.py:3066: to_int32 (from tensorflow.python.ops.math_ops) is deprecated and will be removed in a future version.\n",
      "Instructions for updating:\n",
      "Use tf.cast instead.\n"
     ]
    },
    {
     "name": "stderr",
     "output_type": "stream",
     "text": [
      "WARNING:tensorflow:From D:\\Anaconda\\envs\\my-rdkit-env\\lib\\site-packages\\tensorflow\\python\\ops\\math_ops.py:3066: to_int32 (from tensorflow.python.ops.math_ops) is deprecated and will be removed in a future version.\n",
      "Instructions for updating:\n",
      "Use tf.cast instead.\n"
     ]
    },
    {
     "name": "stdout",
     "output_type": "stream",
     "text": [
      "WARNING:tensorflow:From D:\\Anaconda\\envs\\my-rdkit-env\\lib\\site-packages\\tensorflow\\python\\ops\\math_grad.py:317: div (from tensorflow.python.ops.math_ops) is deprecated and will be removed in a future version.\n",
      "Instructions for updating:\n",
      "Deprecated in favor of operator or tf.math.divide.\n"
     ]
    },
    {
     "name": "stderr",
     "output_type": "stream",
     "text": [
      "WARNING:tensorflow:From D:\\Anaconda\\envs\\my-rdkit-env\\lib\\site-packages\\tensorflow\\python\\ops\\math_grad.py:317: div (from tensorflow.python.ops.math_ops) is deprecated and will be removed in a future version.\n",
      "Instructions for updating:\n",
      "Deprecated in favor of operator or tf.math.divide.\n",
      "D:\\Anaconda\\envs\\my-rdkit-env\\lib\\site-packages\\tensorflow\\python\\ops\\gradients_impl.py:110: UserWarning: Converting sparse IndexedSlices to a dense Tensor of unknown shape. This may consume a large amount of memory.\n",
      "  \"Converting sparse IndexedSlices to a dense Tensor of unknown shape. \"\n"
     ]
    },
    {
     "name": "stdout",
     "output_type": "stream",
     "text": [
      "WARNING:tensorflow:From D:\\Anaconda\\envs\\my-rdkit-env\\lib\\site-packages\\tensorflow\\python\\training\\checkpoint_management.py:624: remove_checkpoint (from tensorflow.python.training.checkpoint_management) is deprecated and will be removed in a future version.\n",
      "Instructions for updating:\n",
      "Use standard file APIs to delete files with this prefix.\n"
     ]
    },
    {
     "name": "stderr",
     "output_type": "stream",
     "text": [
      "WARNING:tensorflow:From D:\\Anaconda\\envs\\my-rdkit-env\\lib\\site-packages\\tensorflow\\python\\training\\checkpoint_management.py:624: remove_checkpoint (from tensorflow.python.training.checkpoint_management) is deprecated and will be removed in a future version.\n",
      "Instructions for updating:\n",
      "Use standard file APIs to delete files with this prefix.\n"
     ]
    },
    {
     "name": "stdout",
     "output_type": "stream",
     "text": [
      "computed_metrics: [0.7336332561439536]\n",
      "computed_metrics: [0.6115481558870729]\n",
      "computed_metrics: [0.4621811338859941]\n",
      "computed_metrics: [0.5909477359861101]\n",
      "computed_metrics: [0.7600228060906277]\n",
      "computed_metrics: [0.5611828722493515]\n",
      "16 {'mean-pearson_r2_score': 0.7336332561439536, 'rms_score': 0.6115481558870729, 'mae_score': 0.4621811338859941} {'mean-pearson_r2_score': 0.5909477359861101, 'rms_score': 0.7600228060906277, 'mae_score': 0.5611828722493515}\n"
     ]
    },
    {
     "name": "stderr",
     "output_type": "stream",
     "text": [
      "D:\\Anaconda\\envs\\my-rdkit-env\\lib\\site-packages\\tensorflow\\python\\ops\\gradients_impl.py:110: UserWarning: Converting sparse IndexedSlices to a dense Tensor of unknown shape. This may consume a large amount of memory.\n",
      "  \"Converting sparse IndexedSlices to a dense Tensor of unknown shape. \"\n"
     ]
    },
    {
     "name": "stdout",
     "output_type": "stream",
     "text": [
      "computed_metrics: [0.7341761474198387]\n",
      "computed_metrics: [0.6359171638480258]\n",
      "computed_metrics: [0.4910917646562831]\n",
      "computed_metrics: [0.6116095664964718]\n",
      "computed_metrics: [0.762952250100537]\n",
      "computed_metrics: [0.5834743872345021]\n",
      "32 {'mean-pearson_r2_score': 0.7341761474198387, 'rms_score': 0.6359171638480258, 'mae_score': 0.4910917646562831} {'mean-pearson_r2_score': 0.6116095664964718, 'rms_score': 0.762952250100537, 'mae_score': 0.5834743872345021}\n"
     ]
    },
    {
     "name": "stderr",
     "output_type": "stream",
     "text": [
      "D:\\Anaconda\\envs\\my-rdkit-env\\lib\\site-packages\\tensorflow\\python\\ops\\gradients_impl.py:110: UserWarning: Converting sparse IndexedSlices to a dense Tensor of unknown shape. This may consume a large amount of memory.\n",
      "  \"Converting sparse IndexedSlices to a dense Tensor of unknown shape. \"\n"
     ]
    },
    {
     "name": "stdout",
     "output_type": "stream",
     "text": [
      "computed_metrics: [0.7145914791500313]\n",
      "computed_metrics: [0.6282099693851281]\n",
      "computed_metrics: [0.46768381725617014]\n",
      "computed_metrics: [0.5900127001856899]\n",
      "computed_metrics: [0.753457871387942]\n",
      "computed_metrics: [0.5562551207508144]\n",
      "64 {'mean-pearson_r2_score': 0.7145914791500313, 'rms_score': 0.6282099693851281, 'mae_score': 0.46768381725617014} {'mean-pearson_r2_score': 0.5900127001856899, 'rms_score': 0.753457871387942, 'mae_score': 0.5562551207508144}\n"
     ]
    },
    {
     "name": "stderr",
     "output_type": "stream",
     "text": [
      "D:\\Anaconda\\envs\\my-rdkit-env\\lib\\site-packages\\tensorflow\\python\\ops\\gradients_impl.py:110: UserWarning: Converting sparse IndexedSlices to a dense Tensor of unknown shape. This may consume a large amount of memory.\n",
      "  \"Converting sparse IndexedSlices to a dense Tensor of unknown shape. \"\n"
     ]
    },
    {
     "name": "stdout",
     "output_type": "stream",
     "text": [
      "computed_metrics: [0.6532435411520785]\n",
      "computed_metrics: [0.6978178586199407]\n",
      "computed_metrics: [0.5308692302304703]\n",
      "computed_metrics: [0.5654983586761151]\n",
      "computed_metrics: [0.7790005366969989]\n",
      "computed_metrics: [0.5877304416531887]\n",
      "128 {'mean-pearson_r2_score': 0.6532435411520785, 'rms_score': 0.6978178586199407, 'mae_score': 0.5308692302304703} {'mean-pearson_r2_score': 0.5654983586761151, 'rms_score': 0.7790005366969989, 'mae_score': 0.5877304416531887}\n"
     ]
    },
    {
     "name": "stderr",
     "output_type": "stream",
     "text": [
      "D:\\Anaconda\\envs\\my-rdkit-env\\lib\\site-packages\\tensorflow\\python\\ops\\gradients_impl.py:110: UserWarning: Converting sparse IndexedSlices to a dense Tensor of unknown shape. This may consume a large amount of memory.\n",
      "  \"Converting sparse IndexedSlices to a dense Tensor of unknown shape. \"\n"
     ]
    },
    {
     "name": "stdout",
     "output_type": "stream",
     "text": [
      "computed_metrics: [0.5647261581441428]\n",
      "computed_metrics: [0.7763367022488467]\n",
      "computed_metrics: [0.5865429648971181]\n",
      "computed_metrics: [0.496869048932964]\n",
      "computed_metrics: [0.8347514232770402]\n",
      "computed_metrics: [0.6227572844607053]\n",
      "256 {'mean-pearson_r2_score': 0.5647261581441428, 'rms_score': 0.7763367022488467, 'mae_score': 0.5865429648971181} {'mean-pearson_r2_score': 0.496869048932964, 'rms_score': 0.8347514232770402, 'mae_score': 0.6227572844607053}\n"
     ]
    },
    {
     "name": "stderr",
     "output_type": "stream",
     "text": [
      "D:\\Anaconda\\envs\\my-rdkit-env\\lib\\site-packages\\tensorflow\\python\\ops\\gradients_impl.py:110: UserWarning: Converting sparse IndexedSlices to a dense Tensor of unknown shape. This may consume a large amount of memory.\n",
      "  \"Converting sparse IndexedSlices to a dense Tensor of unknown shape. \"\n"
     ]
    },
    {
     "name": "stdout",
     "output_type": "stream",
     "text": [
      "computed_metrics: [0.43152243212356656]\n",
      "computed_metrics: [0.8998092912401446]\n",
      "computed_metrics: [0.6822503543447448]\n",
      "computed_metrics: [0.4011337777371783]\n",
      "computed_metrics: [0.9209163586212479]\n",
      "computed_metrics: [0.6971077144040381]\n",
      "512 {'mean-pearson_r2_score': 0.43152243212356656, 'rms_score': 0.8998092912401446, 'mae_score': 0.6822503543447448} {'mean-pearson_r2_score': 0.4011337777371783, 'rms_score': 0.9209163586212479, 'mae_score': 0.6971077144040381}\n"
     ]
    }
   ],
   "source": [
    "r_squared_train_scores = []\n",
    "r_squared_validation_scores = []\n",
    "\n",
    "rms_train_scores = []\n",
    "rms_validation_scores = []\n",
    "\n",
    "mae_train_scores = []\n",
    "mae_validation_scores = []\n",
    "\n",
    "for i in range(4,10):\n",
    "    n_feat = 75\n",
    "    # Batch size of models\n",
    "    batch_size = 2**i\n",
    "    model = GraphConvModel(\n",
    "    1, batch_size=batch_size, mode='regression')\n",
    "\n",
    "    # Fit trained model\n",
    "    model.fit(train_dataset, nb_epoch = 20)\n",
    "    train_scores = model.evaluate(train_dataset, [mean_pearson_r2,rms,mae_score])\n",
    "    valid_scores = model.evaluate(valid_dataset, [mean_pearson_r2,rms,mae_score])\n",
    "    \n",
    "    print(batch_size,train_scores,valid_scores)\n",
    "    #Append To arrays\n",
    "    r_squared_train_scores.append(train_scores.get(\"mean-pearson_r2_score\"))\n",
    "    r_squared_validation_scores.append(valid_scores.get(\"mean-pearson_r2_score\"))\n",
    "    \n",
    "    rms_train_scores.append(train_scores.get(\"rms_score\"))\n",
    "    rms_validation_scores.append(valid_scores.get(\"rms_score\"))\n",
    "    \n",
    "    mae_train_scores.append(train_scores.get(\"mae_score\"))\n",
    "    mae_validation_scores.append(valid_scores.get(\"mae_score\"))"
   ]
  },
  {
   "cell_type": "code",
   "execution_count": 12,
   "metadata": {},
   "outputs": [],
   "source": [
    "import matplotlib.pyplot as plt\n",
    "%matplotlib inline"
   ]
  },
  {
   "cell_type": "code",
   "execution_count": 13,
   "metadata": {},
   "outputs": [
    {
     "data": {
      "image/png": "[encoded data removed]",
      "text/plain": [
       "<Figure size 432x288 with 1 Axes>"
      ]
     },
     "metadata": {
      "needs_background": "light"
     },
     "output_type": "display_data"
    }
   ],
   "source": [
    "y_train = r_squared_train_scores\n",
    "y_valid = r_squared_validation_scores\n",
    "x = [2**i for i in range(4,10)]\n",
    "\n",
    "# Create plots with pre-defined labels.\n",
    "fig, ax = plt.subplots()\n",
    "ax.set_title('MEAN PEARSON R^2 SCORE FOR DIFFERENT BATCH SIZES')\n",
    "\n",
    "ax.plot(x, y_train,color ='red', label='Train Scores')\n",
    "ax.plot(x, y_valid, color = 'blue', label='Validation Scores')\n",
    "\n",
    "ax.set_xlabel('Batch Size')\n",
    "ax.set_ylabel('mean pearson r^2')\n",
    "legend = ax.legend( shadow=False)\n",
    "\n",
    "# Put a nicer background color on the legend.\n",
    "legend.get_frame().set_facecolor('C0')\n",
    "\n",
    "plt.show()"
   ]
  },
  {
   "cell_type": "code",
   "execution_count": 14,
   "metadata": {},
   "outputs": [
    {
     "data": {
      "image/png": "[encoded data removed]",
      "text/plain": [
       "<Figure size 432x288 with 1 Axes>"
      ]
     },
     "metadata": {
      "needs_background": "light"
     },
     "output_type": "display_data"
    }
   ],
   "source": [
    "y_train = rms_train_scores\n",
    "y_valid = rms_validation_scores\n",
    "x = [2**i for i in range(4,10)]\n",
    "\n",
    "# Create plots with pre-defined labels.\n",
    "fig, ax = plt.subplots()\n",
    "ax.set_title('RMS SCORE FOR DIFFERENT BATCH SIZES')\n",
    "\n",
    "ax.plot(x, y_train,color ='red', label='Train Scores')\n",
    "ax.plot(x, y_valid, color = 'blue', label='Validation Scores')\n",
    "\n",
    "ax.set_xlabel('Batch Size')\n",
    "ax.set_ylabel('rms score')\n",
    "legend = ax.legend( shadow=False)\n",
    "\n",
    "# Put a nicer background color on the legend.\n",
    "legend.get_frame().set_facecolor('C0')\n",
    "\n",
    "plt.show()"
   ]
  },
  {
   "cell_type": "code",
   "execution_count": 15,
   "metadata": {},
   "outputs": [
    {
     "data": {
      "image/png": "[encoded data removed]",
      "text/plain": [
       "<Figure size 432x288 with 1 Axes>"
      ]
     },
     "metadata": {
      "needs_background": "light"
     },
     "output_type": "display_data"
    }
   ],
   "source": [
    "y_train = mae_train_scores\n",
    "y_valid = mae_validation_scores\n",
    "x = [2**i for i in range(4,10)]\n",
    "\n",
    "# Create plots with pre-defined labels.\n",
    "fig, ax = plt.subplots()\n",
    "ax.set_title('MAE SCORE FOR DIFFERENT BATCH SIZES')\n",
    "\n",
    "ax.plot(x, y_train,color ='red', label='Train Scores')\n",
    "ax.plot(x, y_valid, color = 'blue', label='Validation Scores')\n",
    "\n",
    "ax.set_xlabel('Batch Size')\n",
    "ax.set_ylabel('mae score')\n",
    "legend = ax.legend( shadow=False)\n",
    "\n",
    "# Put a nicer background color on the legend.\n",
    "legend.get_frame().set_facecolor('C0')\n",
    "\n",
    "plt.show()"
   ]
  },
  {
   "cell_type": "code",
   "execution_count": 16,
   "metadata": {
    "scrolled": true
   },
   "outputs": [
    {
     "name": "stderr",
     "output_type": "stream",
     "text": [
      "D:\\Anaconda\\envs\\my-rdkit-env\\lib\\site-packages\\tensorflow\\python\\ops\\gradients_impl.py:110: UserWarning: Converting sparse IndexedSlices to a dense Tensor of unknown shape. This may consume a large amount of memory.\n",
      "  \"Converting sparse IndexedSlices to a dense Tensor of unknown shape. \"\n"
     ]
    },
    {
     "name": "stdout",
     "output_type": "stream",
     "text": [
      "computed_metrics: [0.15613732909309008]\n",
      "computed_metrics: [1.080875525014625]\n",
      "computed_metrics: [0.8278355877579325]\n",
      "computed_metrics: [0.1446766950522991]\n",
      "computed_metrics: [1.090000739400728]\n",
      "computed_metrics: [0.8334830357152466]\n",
      "32 {'mean-pearson_r2_score': 0.15613732909309008, 'rms_score': 1.080875525014625, 'mae_score': 0.8278355877579325} {'mean-pearson_r2_score': 0.1446766950522991, 'rms_score': 1.090000739400728, 'mae_score': 0.8334830357152466}\n"
     ]
    },
    {
     "name": "stderr",
     "output_type": "stream",
     "text": [
      "D:\\Anaconda\\envs\\my-rdkit-env\\lib\\site-packages\\tensorflow\\python\\ops\\gradients_impl.py:110: UserWarning: Converting sparse IndexedSlices to a dense Tensor of unknown shape. This may consume a large amount of memory.\n",
      "  \"Converting sparse IndexedSlices to a dense Tensor of unknown shape. \"\n"
     ]
    },
    {
     "name": "stdout",
     "output_type": "stream",
     "text": [
      "computed_metrics: [0.4980683487396351]\n",
      "computed_metrics: [0.8393397888315264]\n",
      "computed_metrics: [0.6238563932111639]\n",
      "computed_metrics: [0.45346218093136437]\n",
      "computed_metrics: [0.873328919785655]\n",
      "computed_metrics: [0.6483657903703245]\n",
      "32 {'mean-pearson_r2_score': 0.4980683487396351, 'rms_score': 0.8393397888315264, 'mae_score': 0.6238563932111639} {'mean-pearson_r2_score': 0.45346218093136437, 'rms_score': 0.873328919785655, 'mae_score': 0.6483657903703245}\n"
     ]
    },
    {
     "name": "stderr",
     "output_type": "stream",
     "text": [
      "D:\\Anaconda\\envs\\my-rdkit-env\\lib\\site-packages\\tensorflow\\python\\ops\\gradients_impl.py:110: UserWarning: Converting sparse IndexedSlices to a dense Tensor of unknown shape. This may consume a large amount of memory.\n",
      "  \"Converting sparse IndexedSlices to a dense Tensor of unknown shape. \"\n"
     ]
    },
    {
     "name": "stdout",
     "output_type": "stream",
     "text": [
      "computed_metrics: [0.5811632334459099]\n",
      "computed_metrics: [0.8030334009397283]\n",
      "computed_metrics: [0.5847688113057637]\n",
      "computed_metrics: [0.5131281665133784]\n",
      "computed_metrics: [0.8551201804403481]\n",
      "computed_metrics: [0.6133506935532438]\n",
      "32 {'mean-pearson_r2_score': 0.5811632334459099, 'rms_score': 0.8030334009397283, 'mae_score': 0.5847688113057637} {'mean-pearson_r2_score': 0.5131281665133784, 'rms_score': 0.8551201804403481, 'mae_score': 0.6133506935532438}\n"
     ]
    },
    {
     "name": "stderr",
     "output_type": "stream",
     "text": [
      "D:\\Anaconda\\envs\\my-rdkit-env\\lib\\site-packages\\tensorflow\\python\\ops\\gradients_impl.py:110: UserWarning: Converting sparse IndexedSlices to a dense Tensor of unknown shape. This may consume a large amount of memory.\n",
      "  \"Converting sparse IndexedSlices to a dense Tensor of unknown shape. \"\n"
     ]
    },
    {
     "name": "stdout",
     "output_type": "stream",
     "text": [
      "computed_metrics: [0.7414041073631157]\n",
      "computed_metrics: [0.5949331778987934]\n",
      "computed_metrics: [0.4422407554387227]\n",
      "computed_metrics: [0.5840275469181968]\n",
      "computed_metrics: [0.7610658258338906]\n",
      "computed_metrics: [0.5548532233538865]\n",
      "32 {'mean-pearson_r2_score': 0.7414041073631157, 'rms_score': 0.5949331778987934, 'mae_score': 0.4422407554387227} {'mean-pearson_r2_score': 0.5840275469181968, 'rms_score': 0.7610658258338906, 'mae_score': 0.5548532233538865}\n"
     ]
    },
    {
     "name": "stderr",
     "output_type": "stream",
     "text": [
      "D:\\Anaconda\\envs\\my-rdkit-env\\lib\\site-packages\\tensorflow\\python\\ops\\gradients_impl.py:110: UserWarning: Converting sparse IndexedSlices to a dense Tensor of unknown shape. This may consume a large amount of memory.\n",
      "  \"Converting sparse IndexedSlices to a dense Tensor of unknown shape. \"\n"
     ]
    },
    {
     "name": "stdout",
     "output_type": "stream",
     "text": [
      "computed_metrics: [0.7907235957421664]\n",
      "computed_metrics: [0.5367365261597372]\n",
      "computed_metrics: [0.4057066005254581]\n",
      "computed_metrics: [0.642868576508426]\n",
      "computed_metrics: [0.7075261246812157]\n",
      "computed_metrics: [0.5187984012374406]\n",
      "32 {'mean-pearson_r2_score': 0.7907235957421664, 'rms_score': 0.5367365261597372, 'mae_score': 0.4057066005254581} {'mean-pearson_r2_score': 0.642868576508426, 'rms_score': 0.7075261246812157, 'mae_score': 0.5187984012374406}\n"
     ]
    },
    {
     "name": "stderr",
     "output_type": "stream",
     "text": [
      "D:\\Anaconda\\envs\\my-rdkit-env\\lib\\site-packages\\tensorflow\\python\\ops\\gradients_impl.py:110: UserWarning: Converting sparse IndexedSlices to a dense Tensor of unknown shape. This may consume a large amount of memory.\n",
      "  \"Converting sparse IndexedSlices to a dense Tensor of unknown shape. \"\n"
     ]
    },
    {
     "name": "stdout",
     "output_type": "stream",
     "text": [
      "computed_metrics: [0.8567416759880903]\n",
      "computed_metrics: [0.47589935012307094]\n",
      "computed_metrics: [0.36752770406005253]\n",
      "computed_metrics: [0.6525810932393877]\n",
      "computed_metrics: [0.7223381010398654]\n",
      "computed_metrics: [0.5348672068263713]\n",
      "32 {'mean-pearson_r2_score': 0.8567416759880903, 'rms_score': 0.47589935012307094, 'mae_score': 0.36752770406005253} {'mean-pearson_r2_score': 0.6525810932393877, 'rms_score': 0.7223381010398654, 'mae_score': 0.5348672068263713}\n"
     ]
    },
    {
     "name": "stderr",
     "output_type": "stream",
     "text": [
      "D:\\Anaconda\\envs\\my-rdkit-env\\lib\\site-packages\\tensorflow\\python\\ops\\gradients_impl.py:110: UserWarning: Converting sparse IndexedSlices to a dense Tensor of unknown shape. This may consume a large amount of memory.\n",
      "  \"Converting sparse IndexedSlices to a dense Tensor of unknown shape. \"\n"
     ]
    },
    {
     "name": "stdout",
     "output_type": "stream",
     "text": [
      "computed_metrics: [0.8958800776821406]\n",
      "computed_metrics: [0.377624700586168]\n",
      "computed_metrics: [0.28265122551292515]\n",
      "computed_metrics: [0.6824604696276506]\n",
      "computed_metrics: [0.6666477962575369]\n",
      "computed_metrics: [0.48760829685112034]\n",
      "32 {'mean-pearson_r2_score': 0.8958800776821406, 'rms_score': 0.377624700586168, 'mae_score': 0.28265122551292515} {'mean-pearson_r2_score': 0.6824604696276506, 'rms_score': 0.6666477962575369, 'mae_score': 0.48760829685112034}\n"
     ]
    },
    {
     "name": "stderr",
     "output_type": "stream",
     "text": [
      "D:\\Anaconda\\envs\\my-rdkit-env\\lib\\site-packages\\tensorflow\\python\\ops\\gradients_impl.py:110: UserWarning: Converting sparse IndexedSlices to a dense Tensor of unknown shape. This may consume a large amount of memory.\n",
      "  \"Converting sparse IndexedSlices to a dense Tensor of unknown shape. \"\n"
     ]
    },
    {
     "name": "stdout",
     "output_type": "stream",
     "text": [
      "computed_metrics: [0.9247084209403232]\n",
      "computed_metrics: [0.3217452602275445]\n",
      "computed_metrics: [0.23813063868972634]\n",
      "computed_metrics: [0.6699881864076944]\n",
      "computed_metrics: [0.6920369947975051]\n",
      "computed_metrics: [0.5006720904560908]\n",
      "32 {'mean-pearson_r2_score': 0.9247084209403232, 'rms_score': 0.3217452602275445, 'mae_score': 0.23813063868972634} {'mean-pearson_r2_score': 0.6699881864076944, 'rms_score': 0.6920369947975051, 'mae_score': 0.5006720904560908}\n"
     ]
    }
   ],
   "source": [
    "r_squared_train_scores = []\n",
    "r_squared_validation_scores = []\n",
    "\n",
    "rms_train_scores = []\n",
    "rms_validation_scores = []\n",
    "\n",
    "mae_train_scores = []\n",
    "mae_validation_scores = []\n",
    "\n",
    "epochs= [1,5,10,20,30,50,100,200]\n",
    "for i in epochs:\n",
    "    n_feat = 75\n",
    "    # Batch size of models\n",
    "    batch_size = 32\n",
    "    model = GraphConvModel(\n",
    "    1, batch_size=batch_size, mode='regression')\n",
    "\n",
    "    # Fit trained model\n",
    "    model.fit(train_dataset, nb_epoch = i)\n",
    "    train_scores = model.evaluate(train_dataset, [mean_pearson_r2,rms,mae_score])\n",
    "    valid_scores = model.evaluate(valid_dataset, [mean_pearson_r2,rms,mae_score])\n",
    "    \n",
    "    print(i,train_scores,valid_scores)\n",
    "    #Append To arrays\n",
    "    r_squared_train_scores.append(train_scores.get(\"mean-pearson_r2_score\"))\n",
    "    r_squared_validation_scores.append(valid_scores.get(\"mean-pearson_r2_score\"))\n",
    "    \n",
    "    rms_train_scores.append(train_scores.get(\"rms_score\"))\n",
    "    rms_validation_scores.append(valid_scores.get(\"rms_score\"))\n",
    "    \n",
    "    mae_train_scores.append(train_scores.get(\"mae_score\"))\n",
    "    mae_validation_scores.append(valid_scores.get(\"mae_score\"))"
   ]
  },
  {
   "cell_type": "code",
   "execution_count": 17,
   "metadata": {},
   "outputs": [
    {
     "data": {
      "image/png": "[encoded data removed]",
      "text/plain": [
       "<Figure size 432x288 with 1 Axes>"
      ]
     },
     "metadata": {
      "needs_background": "light"
     },
     "output_type": "display_data"
    }
   ],
   "source": [
    "y_train = r_squared_train_scores\n",
    "y_valid = r_squared_validation_scores\n",
    "x = epochs\n",
    "\n",
    "# Create plots with pre-defined labels.\n",
    "fig, ax = plt.subplots()\n",
    "ax.set_title('MEAN PEARSON R^2 SCORE FOR DIFFERENT EPOCHS')\n",
    "\n",
    "ax.plot(x, y_train,color ='red', label='Train Scores')\n",
    "ax.plot(x, y_valid, color = 'blue', label='Validation Scores')\n",
    "\n",
    "ax.set_xlabel('epochs')\n",
    "ax.set_ylabel('mean pearson r^2')\n",
    "legend = ax.legend( shadow=False)\n",
    "\n",
    "# Put a nicer background color on the legend.\n",
    "legend.get_frame().set_facecolor('C0')\n",
    "\n",
    "plt.show()"
   ]
  },
  {
   "cell_type": "code",
   "execution_count": 20,
   "metadata": {},
   "outputs": [
    {
     "data": {
      "image/png": "[encoded data removed]",
      "text/plain": [
       "<Figure size 432x288 with 1 Axes>"
      ]
     },
     "metadata": {
      "needs_background": "light"
     },
     "output_type": "display_data"
    }
   ],
   "source": [
    "y_train = rms_train_scores\n",
    "y_valid = rms_validation_scores\n",
    "x = epochs\n",
    "\n",
    "# Create plots with pre-defined labels.\n",
    "fig, ax = plt.subplots()\n",
    "ax.set_title('RMS SCORE FOR DIFFERENT EPOCHS')\n",
    "\n",
    "ax.plot(x, y_train,color ='red', label='Train Scores')\n",
    "ax.plot(x, y_valid, color = 'blue', label='Validation Scores')\n",
    "\n",
    "ax.set_xlabel('epochs')\n",
    "ax.set_ylabel('rms score')\n",
    "legend = ax.legend( shadow=False)\n",
    "\n",
    "# Put a nicer background color on the legend.\n",
    "legend.get_frame().set_facecolor('C0')\n",
    "\n",
    "plt.show()"
   ]
  },
  {
   "cell_type": "code",
   "execution_count": 21,
   "metadata": {},
   "outputs": [
    {
     "data": {
      "image/png": "[encoded data removed]",
      "text/plain": [
       "<Figure size 432x288 with 1 Axes>"
      ]
     },
     "metadata": {
      "needs_background": "light"
     },
     "output_type": "display_data"
    }
   ],
   "source": [
    "y_train = mae_train_scores\n",
    "y_valid = mae_validation_scores\n",
    "x = epochs\n",
    "\n",
    "# Create plots with pre-defined labels.\n",
    "fig, ax = plt.subplots()\n",
    "ax.set_title('MAE SCORE FOR DIFFERENT EPOCHS')\n",
    "\n",
    "ax.plot(x, y_train,color ='red', label='Train Scores')\n",
    "ax.plot(x, y_valid, color = 'blue', label='Validation Scores')\n",
    "\n",
    "ax.set_xlabel('epochs')\n",
    "ax.set_ylabel('mae score')\n",
    "legend = ax.legend( shadow=False)\n",
    "\n",
    "# Put a nicer background color on the legend.\n",
    "legend.get_frame().set_facecolor('C0')\n",
    "\n",
    "plt.show()"
   ]
  },
  {
   "cell_type": "code",
   "execution_count": 10,
   "metadata": {},
   "outputs": [
    {
     "name": "stdout",
     "output_type": "stream",
     "text": [
      "computed_metrics: [0.777959738820487]\n",
      "computed_metrics: [0.558412535481222]\n",
      "computed_metrics: [0.41679296191163523]\n",
      "computed_metrics: [0.6652171441822016]\n",
      "computed_metrics: [0.7149804252209974]\n",
      "computed_metrics: [0.5208996546723296]\n",
      "10 {'mean-pearson_r2_score': 0.777959738820487, 'rms_score': 0.558412535481222, 'mae_score': 0.41679296191163523} {'mean-pearson_r2_score': 0.6652171441822016, 'rms_score': 0.7149804252209974, 'mae_score': 0.5208996546723296}\n"
     ]
    },
    {
     "name": "stderr",
     "output_type": "stream",
     "text": [
      "D:\\Anaconda\\envs\\my-rdkit-env\\lib\\site-packages\\tensorflow\\python\\ops\\gradients_impl.py:110: UserWarning: Converting sparse IndexedSlices to a dense Tensor of unknown shape. This may consume a large amount of memory.\n",
      "  \"Converting sparse IndexedSlices to a dense Tensor of unknown shape. \"\n"
     ]
    },
    {
     "name": "stdout",
     "output_type": "stream",
     "text": [
      "computed_metrics: [0.7877468712742292]\n",
      "computed_metrics: [0.5386606715382724]\n",
      "computed_metrics: [0.4061789430364378]\n",
      "computed_metrics: [0.6597259695348652]\n",
      "computed_metrics: [0.7157834031478437]\n",
      "computed_metrics: [0.5230282280429513]\n",
      "20 {'mean-pearson_r2_score': 0.7877468712742292, 'rms_score': 0.5386606715382724, 'mae_score': 0.4061789430364378} {'mean-pearson_r2_score': 0.6597259695348652, 'rms_score': 0.7157834031478437, 'mae_score': 0.5230282280429513}\n"
     ]
    },
    {
     "name": "stderr",
     "output_type": "stream",
     "text": [
      "D:\\Anaconda\\envs\\my-rdkit-env\\lib\\site-packages\\tensorflow\\python\\ops\\gradients_impl.py:110: UserWarning: Converting sparse IndexedSlices to a dense Tensor of unknown shape. This may consume a large amount of memory.\n",
      "  \"Converting sparse IndexedSlices to a dense Tensor of unknown shape. \"\n"
     ]
    },
    {
     "name": "stdout",
     "output_type": "stream",
     "text": [
      "computed_metrics: [0.7366108305567034]\n",
      "computed_metrics: [0.6033975397365964]\n",
      "computed_metrics: [0.4601268103513255]\n",
      "computed_metrics: [0.6252112793780846]\n",
      "computed_metrics: [0.7553312805579996]\n",
      "computed_metrics: [0.5685034863598366]\n",
      "30 {'mean-pearson_r2_score': 0.7366108305567034, 'rms_score': 0.6033975397365964, 'mae_score': 0.4601268103513255} {'mean-pearson_r2_score': 0.6252112793780846, 'rms_score': 0.7553312805579996, 'mae_score': 0.5685034863598366}\n"
     ]
    },
    {
     "name": "stderr",
     "output_type": "stream",
     "text": [
      "D:\\Anaconda\\envs\\my-rdkit-env\\lib\\site-packages\\tensorflow\\python\\ops\\gradients_impl.py:110: UserWarning: Converting sparse IndexedSlices to a dense Tensor of unknown shape. This may consume a large amount of memory.\n",
      "  \"Converting sparse IndexedSlices to a dense Tensor of unknown shape. \"\n"
     ]
    },
    {
     "name": "stdout",
     "output_type": "stream",
     "text": [
      "computed_metrics: [0.7676496144826737]\n",
      "computed_metrics: [0.5649792975960333]\n",
      "computed_metrics: [0.42908322692537487]\n",
      "computed_metrics: [0.637741386249703]\n",
      "computed_metrics: [0.7376626207034891]\n",
      "computed_metrics: [0.5465969672538856]\n",
      "40 {'mean-pearson_r2_score': 0.7676496144826737, 'rms_score': 0.5649792975960333, 'mae_score': 0.42908322692537487} {'mean-pearson_r2_score': 0.637741386249703, 'rms_score': 0.7376626207034891, 'mae_score': 0.5465969672538856}\n"
     ]
    },
    {
     "name": "stderr",
     "output_type": "stream",
     "text": [
      "D:\\Anaconda\\envs\\my-rdkit-env\\lib\\site-packages\\tensorflow\\python\\ops\\gradients_impl.py:110: UserWarning: Converting sparse IndexedSlices to a dense Tensor of unknown shape. This may consume a large amount of memory.\n",
      "  \"Converting sparse IndexedSlices to a dense Tensor of unknown shape. \"\n"
     ]
    },
    {
     "name": "stdout",
     "output_type": "stream",
     "text": [
      "computed_metrics: [0.7407166787745024]\n",
      "computed_metrics: [0.601174305619886]\n",
      "computed_metrics: [0.45874956489098423]\n",
      "computed_metrics: [0.61474375357317]\n",
      "computed_metrics: [0.7646901004446388]\n",
      "computed_metrics: [0.5689370988838931]\n",
      "50 {'mean-pearson_r2_score': 0.7407166787745024, 'rms_score': 0.601174305619886, 'mae_score': 0.45874956489098423} {'mean-pearson_r2_score': 0.61474375357317, 'rms_score': 0.7646901004446388, 'mae_score': 0.5689370988838931}\n"
     ]
    },
    {
     "name": "stderr",
     "output_type": "stream",
     "text": [
      "D:\\Anaconda\\envs\\my-rdkit-env\\lib\\site-packages\\tensorflow\\python\\ops\\gradients_impl.py:110: UserWarning: Converting sparse IndexedSlices to a dense Tensor of unknown shape. This may consume a large amount of memory.\n",
      "  \"Converting sparse IndexedSlices to a dense Tensor of unknown shape. \"\n"
     ]
    },
    {
     "name": "stdout",
     "output_type": "stream",
     "text": [
      "computed_metrics: [0.7807865460322878]\n",
      "computed_metrics: [0.5443176098561393]\n",
      "computed_metrics: [0.4079157189010526]\n",
      "computed_metrics: [0.6501692832427428]\n",
      "computed_metrics: [0.7228192841305016]\n",
      "computed_metrics: [0.5240575559939619]\n",
      "60 {'mean-pearson_r2_score': 0.7807865460322878, 'rms_score': 0.5443176098561393, 'mae_score': 0.4079157189010526} {'mean-pearson_r2_score': 0.6501692832427428, 'rms_score': 0.7228192841305016, 'mae_score': 0.5240575559939619}\n"
     ]
    },
    {
     "name": "stderr",
     "output_type": "stream",
     "text": [
      "D:\\Anaconda\\envs\\my-rdkit-env\\lib\\site-packages\\tensorflow\\python\\ops\\gradients_impl.py:110: UserWarning: Converting sparse IndexedSlices to a dense Tensor of unknown shape. This may consume a large amount of memory.\n",
      "  \"Converting sparse IndexedSlices to a dense Tensor of unknown shape. \"\n"
     ]
    },
    {
     "name": "stdout",
     "output_type": "stream",
     "text": [
      "computed_metrics: [0.7785991073028398]\n",
      "computed_metrics: [0.5445435549219432]\n",
      "computed_metrics: [0.4099169572370301]\n",
      "computed_metrics: [0.635591845850196]\n",
      "computed_metrics: [0.7392235720257955]\n",
      "computed_metrics: [0.5425591025413484]\n",
      "70 {'mean-pearson_r2_score': 0.7785991073028398, 'rms_score': 0.5445435549219432, 'mae_score': 0.4099169572370301} {'mean-pearson_r2_score': 0.635591845850196, 'rms_score': 0.7392235720257955, 'mae_score': 0.5425591025413484}\n"
     ]
    },
    {
     "name": "stderr",
     "output_type": "stream",
     "text": [
      "D:\\Anaconda\\envs\\my-rdkit-env\\lib\\site-packages\\tensorflow\\python\\ops\\gradients_impl.py:110: UserWarning: Converting sparse IndexedSlices to a dense Tensor of unknown shape. This may consume a large amount of memory.\n",
      "  \"Converting sparse IndexedSlices to a dense Tensor of unknown shape. \"\n"
     ]
    },
    {
     "name": "stdout",
     "output_type": "stream",
     "text": [
      "computed_metrics: [0.760520983234017]\n",
      "computed_metrics: [0.5682858465138372]\n",
      "computed_metrics: [0.42866530586185775]\n",
      "computed_metrics: [0.6492643579669201]\n",
      "computed_metrics: [0.722905748126927]\n",
      "computed_metrics: [0.5310133759360853]\n",
      "80 {'mean-pearson_r2_score': 0.760520983234017, 'rms_score': 0.5682858465138372, 'mae_score': 0.42866530586185775} {'mean-pearson_r2_score': 0.6492643579669201, 'rms_score': 0.722905748126927, 'mae_score': 0.5310133759360853}\n"
     ]
    },
    {
     "name": "stderr",
     "output_type": "stream",
     "text": [
      "D:\\Anaconda\\envs\\my-rdkit-env\\lib\\site-packages\\tensorflow\\python\\ops\\gradients_impl.py:110: UserWarning: Converting sparse IndexedSlices to a dense Tensor of unknown shape. This may consume a large amount of memory.\n",
      "  \"Converting sparse IndexedSlices to a dense Tensor of unknown shape. \"\n"
     ]
    },
    {
     "name": "stdout",
     "output_type": "stream",
     "text": [
      "computed_metrics: [0.7483741366430452]\n",
      "computed_metrics: [0.5822058897609965]\n",
      "computed_metrics: [0.44121004329739255]\n",
      "computed_metrics: [0.6401811725503687]\n",
      "computed_metrics: [0.734884499899773]\n",
      "computed_metrics: [0.5344322531217144]\n",
      "90 {'mean-pearson_r2_score': 0.7483741366430452, 'rms_score': 0.5822058897609965, 'mae_score': 0.44121004329739255} {'mean-pearson_r2_score': 0.6401811725503687, 'rms_score': 0.734884499899773, 'mae_score': 0.5344322531217144}\n"
     ]
    },
    {
     "name": "stderr",
     "output_type": "stream",
     "text": [
      "D:\\Anaconda\\envs\\my-rdkit-env\\lib\\site-packages\\tensorflow\\python\\ops\\gradients_impl.py:110: UserWarning: Converting sparse IndexedSlices to a dense Tensor of unknown shape. This may consume a large amount of memory.\n",
      "  \"Converting sparse IndexedSlices to a dense Tensor of unknown shape. \"\n"
     ]
    },
    {
     "name": "stdout",
     "output_type": "stream",
     "text": [
      "computed_metrics: [0.7782048726186004]\n",
      "computed_metrics: [0.5795447726334001]\n",
      "computed_metrics: [0.4486881109520372]\n",
      "computed_metrics: [0.6456065327915621]\n",
      "computed_metrics: [0.7490424401150931]\n",
      "computed_metrics: [0.5635211273030863]\n",
      "100 {'mean-pearson_r2_score': 0.7782048726186004, 'rms_score': 0.5795447726334001, 'mae_score': 0.4486881109520372} {'mean-pearson_r2_score': 0.6456065327915621, 'rms_score': 0.7490424401150931, 'mae_score': 0.5635211273030863}\n"
     ]
    }
   ],
   "source": [
    "r_squared_train_scores = []\n",
    "r_squared_validation_scores = []\n",
    "\n",
    "rms_train_scores = []\n",
    "rms_validation_scores = []\n",
    "\n",
    "mae_train_scores = []\n",
    "mae_validation_scores = []\n",
    "\n",
    "feat= [10,20,30,40,50,60,70,80,90,100]\n",
    "for i in feat:\n",
    "    n_feat = i\n",
    "    # Batch size of models\n",
    "    batch_size = 32\n",
    "    model = GraphConvModel(\n",
    "    1, batch_size=batch_size, mode='regression')\n",
    "\n",
    "    # Fit trained model\n",
    "    model.fit(train_dataset, nb_epoch = 25)\n",
    "    train_scores = model.evaluate(train_dataset, [mean_pearson_r2,rms,mae_score])\n",
    "    valid_scores = model.evaluate(valid_dataset, [mean_pearson_r2,rms,mae_score])\n",
    "    \n",
    "    print(i,train_scores,valid_scores)\n",
    "    #Append To arrays\n",
    "    r_squared_train_scores.append(train_scores.get(\"mean-pearson_r2_score\"))\n",
    "    r_squared_validation_scores.append(valid_scores.get(\"mean-pearson_r2_score\"))\n",
    "    \n",
    "    rms_train_scores.append(train_scores.get(\"rms_score\"))\n",
    "    rms_validation_scores.append(valid_scores.get(\"rms_score\"))\n",
    "    \n",
    "    mae_train_scores.append(train_scores.get(\"mae_score\"))\n",
    "    mae_validation_scores.append(valid_scores.get(\"mae_score\"))"
   ]
  },
  {
   "cell_type": "code",
   "execution_count": 13,
   "metadata": {},
   "outputs": [
    {
     "data": {
      "image/png": "[encoded data removed]",
      "text/plain": [
       "<Figure size 432x288 with 1 Axes>"
      ]
     },
     "metadata": {
      "needs_background": "light"
     },
     "output_type": "display_data"
    }
   ],
   "source": [
    "y_train = r_squared_train_scores\n",
    "y_valid = r_squared_validation_scores\n",
    "x = feat\n",
    "\n",
    "# Create plots with pre-defined labels.\n",
    "fig, ax = plt.subplots()\n",
    "ax.set_title('MEAN PEARSON R^2 SCORE FOR DIFFERENT Mol.Feature Count')\n",
    "\n",
    "ax.plot(x, y_train,color ='red', label='Train Scores')\n",
    "ax.plot(x, y_valid, color = 'blue', label='Validation Scores')\n",
    "\n",
    "ax.set_xlabel('feats')\n",
    "ax.set_ylabel('mean pearson r^2')\n",
    "legend = ax.legend( shadow=False)\n",
    "\n",
    "# Put a nicer background color on the legend.\n",
    "legend.get_frame().set_facecolor('C0')\n",
    "\n",
    "plt.show()"
   ]
  },
  {
   "cell_type": "code",
   "execution_count": 14,
   "metadata": {},
   "outputs": [
    {
     "data": {
      "image/png": "[encoded data removed]",
      "text/plain": [
       "<Figure size 432x288 with 1 Axes>"
      ]
     },
     "metadata": {
      "needs_background": "light"
     },
     "output_type": "display_data"
    }
   ],
   "source": [
    "y_train = rms_train_scores\n",
    "y_valid = rms_validation_scores\n",
    "x = feat\n",
    "\n",
    "# Create plots with pre-defined labels.\n",
    "fig, ax = plt.subplots()\n",
    "ax.set_title('RMS SCORE FOR DIFFERENT Mol.Feature Count')\n",
    "\n",
    "ax.plot(x, y_train,color ='red', label='Train Scores')\n",
    "ax.plot(x, y_valid, color = 'blue', label='Validation Scores')\n",
    "\n",
    "ax.set_xlabel('feats')\n",
    "ax.set_ylabel('rms score')\n",
    "legend = ax.legend( shadow=False)\n",
    "\n",
    "# Put a nicer background color on the legend.\n",
    "legend.get_frame().set_facecolor('C0')\n",
    "\n",
    "plt.show()"
   ]
  },
  {
   "cell_type": "code",
   "execution_count": 15,
   "metadata": {},
   "outputs": [
    {
     "data": {
      "image/png": "[encoded data removed]",
      "text/plain": [
       "<Figure size 432x288 with 1 Axes>"
      ]
     },
     "metadata": {
      "needs_background": "light"
     },
     "output_type": "display_data"
    }
   ],
   "source": [
    "y_train = mae_train_scores\n",
    "y_valid = mae_validation_scores\n",
    "x = feat\n",
    "\n",
    "# Create plots with pre-defined labels.\n",
    "fig, ax = plt.subplots()\n",
    "ax.set_title('MAE SCORE FOR DMol.Feature Count')\n",
    "\n",
    "ax.plot(x, y_train,color ='red', label='Train Scores')\n",
    "ax.plot(x, y_valid, color = 'blue', label='Validation Scores')\n",
    "\n",
    "ax.set_xlabel('feats')\n",
    "ax.set_ylabel('mae score')\n",
    "legend = ax.legend( shadow=False)\n",
    "\n",
    "# Put a nicer background color on the legend.\n",
    "legend.get_frame().set_facecolor('C0')\n",
    "\n",
    "plt.show()"
   ]
  },
  {
   "cell_type": "code",
   "execution_count": null,
   "metadata": {},
   "outputs": [],
   "source": []
  }
 ],
 "metadata": {
  "kernelspec": {
   "display_name": "Python 3",
   "language": "python",
   "name": "python3"
  },
  "language_info": {
   "codemirror_mode": {
    "name": "ipython",
    "version": 3
   },
   "file_extension": ".py",
   "mimetype": "text/x-python",
   "name": "python",
   "nbconvert_exporter": "python",
   "pygments_lexer": "ipython3",
   "version": "3.7.5"
  }
 },
 "nbformat": 4,
 "nbformat_minor": 2
}
