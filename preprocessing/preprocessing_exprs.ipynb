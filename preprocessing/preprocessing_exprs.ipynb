{
 "cells": [
  {
   "cell_type": "code",
   "execution_count": 1,
   "metadata": {},
   "outputs": [],
   "source": [
    "from __future__ import print_function\n",
    "import pandas as pd \n",
    "import matplotlib.pyplot as plt \n",
    "import numpy as np \n",
    "from scipy.stats import zscore\n",
    "import seaborn as sns\n",
    "import sys,os\n",
    "from mapper import expand, parse_mapping_table, apply_mappers\n",
    "%matplotlib  inline"
   ]
  },
  {
   "cell_type": "code",
   "execution_count": 2,
   "metadata": {},
   "outputs": [],
   "source": [
    "gene_id = \"ENTREZID\"\n",
    "raw_data_dir = \"data/\" \n",
    "preprocessed_data_dir =  \"preprocessed/exprs/\"\n",
    "root_dir = \"data/\""
   ]
  },
  {
   "cell_type": "markdown",
   "metadata": {},
   "source": [
    "### PDX"
   ]
  },
  {
   "cell_type": "code",
   "execution_count": 3,
   "metadata": {},
   "outputs": [
    {
     "name": "stdout",
     "output_type": "stream",
     "text": [
      "(22665, 399)\n"
     ]
    },
    {
     "data": {
      "text/html": [
       "<div>\n",
       "<style scoped>\n",
       "    .dataframe tbody tr th:only-of-type {\n",
       "        vertical-align: middle;\n",
       "    }\n",
       "\n",
       "    .dataframe tbody tr th {\n",
       "        vertical-align: top;\n",
       "    }\n",
       "\n",
       "    .dataframe thead th {\n",
       "        text-align: right;\n",
       "    }\n",
       "</style>\n",
       "<table border=\"1\" class=\"dataframe\">\n",
       "  <thead>\n",
       "    <tr style=\"text-align: right;\">\n",
       "      <th></th>\n",
       "      <th>X-1004</th>\n",
       "      <th>X-1008</th>\n",
       "      <th>X-1027</th>\n",
       "      <th>X-1095</th>\n",
       "      <th>X-1119</th>\n",
       "      <th>X-1156</th>\n",
       "      <th>X-1167</th>\n",
       "      <th>X-1169</th>\n",
       "      <th>X-1172</th>\n",
       "      <th>X-1173</th>\n",
       "      <th>...</th>\n",
       "      <th>X-5713</th>\n",
       "      <th>X-5717</th>\n",
       "      <th>X-5727</th>\n",
       "      <th>X-5739</th>\n",
       "      <th>X-5808</th>\n",
       "      <th>X-5959</th>\n",
       "      <th>X-5974</th>\n",
       "      <th>X-5975</th>\n",
       "      <th>X-6030</th>\n",
       "      <th>X-6047</th>\n",
       "    </tr>\n",
       "    <tr>\n",
       "      <th>Sample</th>\n",
       "      <th></th>\n",
       "      <th></th>\n",
       "      <th></th>\n",
       "      <th></th>\n",
       "      <th></th>\n",
       "      <th></th>\n",
       "      <th></th>\n",
       "      <th></th>\n",
       "      <th></th>\n",
       "      <th></th>\n",
       "      <th></th>\n",
       "      <th></th>\n",
       "      <th></th>\n",
       "      <th></th>\n",
       "      <th></th>\n",
       "      <th></th>\n",
       "      <th></th>\n",
       "      <th></th>\n",
       "      <th></th>\n",
       "      <th></th>\n",
       "      <th></th>\n",
       "    </tr>\n",
       "  </thead>\n",
       "  <tbody>\n",
       "    <tr>\n",
       "      <th>A1BG</th>\n",
       "      <td>2.75</td>\n",
       "      <td>8.97</td>\n",
       "      <td>0.14</td>\n",
       "      <td>0.13</td>\n",
       "      <td>0.08</td>\n",
       "      <td>17.52</td>\n",
       "      <td>0.18</td>\n",
       "      <td>0.41</td>\n",
       "      <td>0.08</td>\n",
       "      <td>0.00</td>\n",
       "      <td>...</td>\n",
       "      <td>21.24</td>\n",
       "      <td>0.46</td>\n",
       "      <td>18.70</td>\n",
       "      <td>0.00</td>\n",
       "      <td>8.30</td>\n",
       "      <td>14.41</td>\n",
       "      <td>5.09</td>\n",
       "      <td>6.35</td>\n",
       "      <td>0.09</td>\n",
       "      <td>3.22</td>\n",
       "    </tr>\n",
       "    <tr>\n",
       "      <th>A1BG-AS1</th>\n",
       "      <td>2.48</td>\n",
       "      <td>3.25</td>\n",
       "      <td>0.00</td>\n",
       "      <td>0.00</td>\n",
       "      <td>0.00</td>\n",
       "      <td>6.52</td>\n",
       "      <td>0.00</td>\n",
       "      <td>0.00</td>\n",
       "      <td>0.00</td>\n",
       "      <td>0.00</td>\n",
       "      <td>...</td>\n",
       "      <td>15.21</td>\n",
       "      <td>0.09</td>\n",
       "      <td>3.42</td>\n",
       "      <td>0.00</td>\n",
       "      <td>8.30</td>\n",
       "      <td>8.36</td>\n",
       "      <td>3.71</td>\n",
       "      <td>4.52</td>\n",
       "      <td>0.00</td>\n",
       "      <td>3.24</td>\n",
       "    </tr>\n",
       "    <tr>\n",
       "      <th>A1CF</th>\n",
       "      <td>0.02</td>\n",
       "      <td>0.03</td>\n",
       "      <td>1.30</td>\n",
       "      <td>2.83</td>\n",
       "      <td>2.87</td>\n",
       "      <td>0.72</td>\n",
       "      <td>3.41</td>\n",
       "      <td>0.01</td>\n",
       "      <td>1.84</td>\n",
       "      <td>2.96</td>\n",
       "      <td>...</td>\n",
       "      <td>0.01</td>\n",
       "      <td>0.45</td>\n",
       "      <td>0.00</td>\n",
       "      <td>0.01</td>\n",
       "      <td>0.00</td>\n",
       "      <td>0.00</td>\n",
       "      <td>0.02</td>\n",
       "      <td>0.03</td>\n",
       "      <td>4.63</td>\n",
       "      <td>0.02</td>\n",
       "    </tr>\n",
       "    <tr>\n",
       "      <th>A2LD1</th>\n",
       "      <td>4.87</td>\n",
       "      <td>0.81</td>\n",
       "      <td>6.45</td>\n",
       "      <td>4.94</td>\n",
       "      <td>11.07</td>\n",
       "      <td>0.87</td>\n",
       "      <td>3.28</td>\n",
       "      <td>0.32</td>\n",
       "      <td>0.61</td>\n",
       "      <td>7.10</td>\n",
       "      <td>...</td>\n",
       "      <td>1.33</td>\n",
       "      <td>2.51</td>\n",
       "      <td>2.67</td>\n",
       "      <td>3.13</td>\n",
       "      <td>0.44</td>\n",
       "      <td>2.96</td>\n",
       "      <td>0.00</td>\n",
       "      <td>1.99</td>\n",
       "      <td>2.57</td>\n",
       "      <td>1.50</td>\n",
       "    </tr>\n",
       "    <tr>\n",
       "      <th>A2M</th>\n",
       "      <td>0.01</td>\n",
       "      <td>71.17</td>\n",
       "      <td>0.00</td>\n",
       "      <td>3.69</td>\n",
       "      <td>0.00</td>\n",
       "      <td>58.16</td>\n",
       "      <td>0.00</td>\n",
       "      <td>0.02</td>\n",
       "      <td>94.12</td>\n",
       "      <td>0.02</td>\n",
       "      <td>...</td>\n",
       "      <td>463.32</td>\n",
       "      <td>0.04</td>\n",
       "      <td>33.35</td>\n",
       "      <td>0.00</td>\n",
       "      <td>254.97</td>\n",
       "      <td>41.52</td>\n",
       "      <td>2.32</td>\n",
       "      <td>0.00</td>\n",
       "      <td>0.00</td>\n",
       "      <td>0.16</td>\n",
       "    </tr>\n",
       "  </tbody>\n",
       "</table>\n",
       "<p>5 rows × 399 columns</p>\n",
       "</div>"
      ],
      "text/plain": [
       "          X-1004  X-1008  X-1027  X-1095  X-1119  X-1156  X-1167  X-1169  \\\n",
       "Sample                                                                     \n",
       "A1BG        2.75    8.97    0.14    0.13    0.08   17.52    0.18    0.41   \n",
       "A1BG-AS1    2.48    3.25    0.00    0.00    0.00    6.52    0.00    0.00   \n",
       "A1CF        0.02    0.03    1.30    2.83    2.87    0.72    3.41    0.01   \n",
       "A2LD1       4.87    0.81    6.45    4.94   11.07    0.87    3.28    0.32   \n",
       "A2M         0.01   71.17    0.00    3.69    0.00   58.16    0.00    0.02   \n",
       "\n",
       "          X-1172  X-1173  ...  X-5713  X-5717  X-5727  X-5739  X-5808  X-5959  \\\n",
       "Sample                    ...                                                   \n",
       "A1BG        0.08    0.00  ...   21.24    0.46   18.70    0.00    8.30   14.41   \n",
       "A1BG-AS1    0.00    0.00  ...   15.21    0.09    3.42    0.00    8.30    8.36   \n",
       "A1CF        1.84    2.96  ...    0.01    0.45    0.00    0.01    0.00    0.00   \n",
       "A2LD1       0.61    7.10  ...    1.33    2.51    2.67    3.13    0.44    2.96   \n",
       "A2M        94.12    0.02  ...  463.32    0.04   33.35    0.00  254.97   41.52   \n",
       "\n",
       "          X-5974  X-5975  X-6030  X-6047  \n",
       "Sample                                    \n",
       "A1BG        5.09    6.35    0.09    3.22  \n",
       "A1BG-AS1    3.71    4.52    0.00    3.24  \n",
       "A1CF        0.02    0.03    4.63    0.02  \n",
       "A2LD1       0.00    1.99    2.57    1.50  \n",
       "A2M         2.32    0.00    0.00    0.16  \n",
       "\n",
       "[5 rows x 399 columns]"
      ]
     },
     "execution_count": 3,
     "metadata": {},
     "output_type": "execute_result"
    }
   ],
   "source": [
    "exprs  = pd.read_excel(raw_data_dir+\"PDX/nm.3954-S2.xlsx\",\"RNAseq_fpkm\")\n",
    "exprs.set_index(\"Sample\",inplace=True,drop=True)\n",
    "print(exprs.shape)\n",
    "exprs.head() "
   ]
  },
  {
   "cell_type": "markdown",
   "metadata": {},
   "source": [
    " ### Mapping of gene symbols to EntrezID using current gene_info file prowided by NCBI:"
   ]
  },
  {
   "cell_type": "code",
   "execution_count": 4,
   "metadata": {},
   "outputs": [
    {
     "name": "stderr",
     "output_type": "stream",
     "text": [
      "1800 rows with both Previous symbols and NCBI Gene ID empty\n",
      "Ok: no duplicated pairs detected\n",
      "28125 rows with empty Previous symbols were excluded\n",
      "193 Previous symbols ids mapped to no NCBI Gene ID\n",
      "84 Previous symbols mapped to multiple NCBI Gene ID\n",
      "5042 different Previous symbols mapped to the same NCBI Gene ID\n",
      "9515 Previous symbols can be mapped directly to NCBI Gene ID\n"
     ]
    }
   ],
   "source": [
    "hgnc_file = raw_data_dir+\"custom.txt\"\n",
    "\n",
    "hgnc = pd.read_csv(hgnc_file, sep =\"\\t\",index_col=0)#\n",
    "#print(hgnc.shape, len(set(hgnc.index.values)))\n",
    "approved = hgnc.loc[hgnc[\"Status\"] == \"Approved\",:]\n",
    "hgnc_prev =  expand(approved[[\"Previous symbols\",\"NCBI Gene ID\"]],column=\"Previous symbols\",sep=\", \") \n",
    "hgnc_prev = parse_mapping_table(hgnc_prev, \"Previous symbols\",\"NCBI Gene ID\")"
   ]
  },
  {
   "cell_type": "code",
   "execution_count": 5,
   "metadata": {},
   "outputs": [
    {
     "name": "stderr",
     "output_type": "stream",
     "text": [
      "1887 rows with both Alias names and NCBI Gene ID empty\n",
      "16 duplicated pairs dropped\n",
      "33429 rows with empty Alias names were excluded\n",
      "120 Alias names ids mapped to no NCBI Gene ID\n",
      "264 Alias names mapped to multiple NCBI Gene ID\n",
      "5252 different Alias names mapped to the same NCBI Gene ID\n",
      "4345 Alias names can be mapped directly to NCBI Gene ID\n"
     ]
    }
   ],
   "source": [
    "hgnc_syn =  expand(approved[[\"Alias names\",\"NCBI Gene ID\"]],column=\"Alias names\",sep=\", \") \n",
    "hgnc_syn = parse_mapping_table(hgnc_syn, \"Alias names\",\"NCBI Gene ID\")"
   ]
  },
  {
   "cell_type": "code",
   "execution_count": 6,
   "metadata": {},
   "outputs": [
    {
     "name": "stderr",
     "output_type": "stream",
     "text": [
      "Ok: no empty rows detected\n",
      "Ok: no duplicated pairs detected\n",
      "Ok: All Symbol rows are not empty.\n",
      "Ok: All Symbol are mapped to GeneID\n",
      "9 Symbol mapped to multiple GeneID\n",
      "Ok: All GeneID are unique\n",
      "60205 Symbol can be mapped directly to GeneID\n"
     ]
    }
   ],
   "source": [
    "NCBI = pd.read_csv(raw_data_dir+\"Homo_sapiens.gene_info\",sep = \"\\t\")\n",
    "NCBI = NCBI[[\"#tax_id\",\"GeneID\",\"Symbol\",\"Synonyms\",\"type_of_gene\"]]\n",
    "NCBI = NCBI.loc[NCBI[\"#tax_id\"] == 9606]\n",
    "NCBI = NCBI.loc[NCBI[\"type_of_gene\"] != \"unknown\"]\n",
    "ncbi_symbols = parse_mapping_table(NCBI, \"Symbol\",\"GeneID\")"
   ]
  },
  {
   "cell_type": "code",
   "execution_count": 7,
   "metadata": {},
   "outputs": [
    {
     "name": "stderr",
     "output_type": "stream",
     "text": [
      "Ok: no empty rows detected\n",
      "Ok: no duplicated pairs detected\n",
      "Ok: All Synonyms rows are not empty.\n",
      "Ok: All Synonyms are mapped to GeneID\n",
      "3258 Synonyms mapped to multiple GeneID\n",
      "50734 different Synonyms mapped to the same GeneID\n",
      "10915 Synonyms can be mapped directly to GeneID\n"
     ]
    }
   ],
   "source": [
    "ncbi_synonyms = expand(NCBI[[\"Synonyms\",\"GeneID\"]],column=\"Synonyms\",sep=\"|\") \n",
    "ncbi_synonyms = parse_mapping_table(ncbi_synonyms, \"Synonyms\",\"GeneID\")"
   ]
  },
  {
   "cell_type": "code",
   "execution_count": 8,
   "metadata": {},
   "outputs": [
    {
     "name": "stdout",
     "output_type": "stream",
     "text": [
      "Mapped: 22437 \n",
      "\tdirectly via main_mapper 19905 \n",
      "\tvia alternative mapper 522 \n",
      "\tvia one of multiple synonyms in alternative mapper 1270 \n",
      "\tLOC 740 \n",
      "Unmapped: 228 \n",
      "\trecognized symbols without Entrez ID 0 \n",
      "\tmultiple query_ids map to the same target_id 0 \n",
      "\tquery_ids map to multiple target_ids in the main mapper 0 \n",
      "\tquery_ids map to multiple target_ids in the alternative mapper 71 \n",
      "\tLOC not found in Entrez 32 \n",
      "\tNot found at all: 125\n",
      "Warning: query IDs mapping to duplicated target IDs in mapping table: 69\n",
      "Warning: query IDs not mapped to any target IDs excluded: 228\n"
     ]
    },
    {
     "data": {
      "text/html": [
       "<div>\n",
       "<style scoped>\n",
       "    .dataframe tbody tr th:only-of-type {\n",
       "        vertical-align: middle;\n",
       "    }\n",
       "\n",
       "    .dataframe tbody tr th {\n",
       "        vertical-align: top;\n",
       "    }\n",
       "\n",
       "    .dataframe thead th {\n",
       "        text-align: right;\n",
       "    }\n",
       "</style>\n",
       "<table border=\"1\" class=\"dataframe\">\n",
       "  <thead>\n",
       "    <tr style=\"text-align: right;\">\n",
       "      <th></th>\n",
       "      <th>X-1004</th>\n",
       "      <th>X-1008</th>\n",
       "      <th>X-1027</th>\n",
       "      <th>X-1095</th>\n",
       "      <th>X-1119</th>\n",
       "      <th>X-1156</th>\n",
       "      <th>X-1167</th>\n",
       "      <th>X-1169</th>\n",
       "      <th>X-1172</th>\n",
       "      <th>X-1173</th>\n",
       "      <th>...</th>\n",
       "      <th>X-5713</th>\n",
       "      <th>X-5717</th>\n",
       "      <th>X-5727</th>\n",
       "      <th>X-5739</th>\n",
       "      <th>X-5808</th>\n",
       "      <th>X-5959</th>\n",
       "      <th>X-5974</th>\n",
       "      <th>X-5975</th>\n",
       "      <th>X-6030</th>\n",
       "      <th>X-6047</th>\n",
       "    </tr>\n",
       "    <tr>\n",
       "      <th>Sample</th>\n",
       "      <th></th>\n",
       "      <th></th>\n",
       "      <th></th>\n",
       "      <th></th>\n",
       "      <th></th>\n",
       "      <th></th>\n",
       "      <th></th>\n",
       "      <th></th>\n",
       "      <th></th>\n",
       "      <th></th>\n",
       "      <th></th>\n",
       "      <th></th>\n",
       "      <th></th>\n",
       "      <th></th>\n",
       "      <th></th>\n",
       "      <th></th>\n",
       "      <th></th>\n",
       "      <th></th>\n",
       "      <th></th>\n",
       "      <th></th>\n",
       "      <th></th>\n",
       "    </tr>\n",
       "  </thead>\n",
       "  <tbody>\n",
       "    <tr>\n",
       "      <th>1</th>\n",
       "      <td>2.75</td>\n",
       "      <td>8.97</td>\n",
       "      <td>0.14</td>\n",
       "      <td>0.13</td>\n",
       "      <td>0.08</td>\n",
       "      <td>17.52</td>\n",
       "      <td>0.18</td>\n",
       "      <td>0.41</td>\n",
       "      <td>0.08</td>\n",
       "      <td>0.00</td>\n",
       "      <td>...</td>\n",
       "      <td>21.24</td>\n",
       "      <td>0.46</td>\n",
       "      <td>18.70</td>\n",
       "      <td>0.00</td>\n",
       "      <td>8.30</td>\n",
       "      <td>14.41</td>\n",
       "      <td>5.09</td>\n",
       "      <td>6.35</td>\n",
       "      <td>0.09</td>\n",
       "      <td>3.22</td>\n",
       "    </tr>\n",
       "    <tr>\n",
       "      <th>2</th>\n",
       "      <td>0.01</td>\n",
       "      <td>71.17</td>\n",
       "      <td>0.00</td>\n",
       "      <td>3.69</td>\n",
       "      <td>0.00</td>\n",
       "      <td>58.16</td>\n",
       "      <td>0.00</td>\n",
       "      <td>0.02</td>\n",
       "      <td>94.12</td>\n",
       "      <td>0.02</td>\n",
       "      <td>...</td>\n",
       "      <td>463.32</td>\n",
       "      <td>0.04</td>\n",
       "      <td>33.35</td>\n",
       "      <td>0.00</td>\n",
       "      <td>254.97</td>\n",
       "      <td>41.52</td>\n",
       "      <td>2.32</td>\n",
       "      <td>0.00</td>\n",
       "      <td>0.00</td>\n",
       "      <td>0.16</td>\n",
       "    </tr>\n",
       "    <tr>\n",
       "      <th>3</th>\n",
       "      <td>0.00</td>\n",
       "      <td>0.01</td>\n",
       "      <td>0.00</td>\n",
       "      <td>0.00</td>\n",
       "      <td>0.00</td>\n",
       "      <td>0.10</td>\n",
       "      <td>0.00</td>\n",
       "      <td>0.00</td>\n",
       "      <td>0.02</td>\n",
       "      <td>0.00</td>\n",
       "      <td>...</td>\n",
       "      <td>0.03</td>\n",
       "      <td>0.10</td>\n",
       "      <td>0.01</td>\n",
       "      <td>0.02</td>\n",
       "      <td>0.01</td>\n",
       "      <td>0.00</td>\n",
       "      <td>0.00</td>\n",
       "      <td>0.01</td>\n",
       "      <td>0.00</td>\n",
       "      <td>0.02</td>\n",
       "    </tr>\n",
       "    <tr>\n",
       "      <th>9</th>\n",
       "      <td>1.47</td>\n",
       "      <td>0.74</td>\n",
       "      <td>5.64</td>\n",
       "      <td>1.98</td>\n",
       "      <td>9.98</td>\n",
       "      <td>3.71</td>\n",
       "      <td>12.41</td>\n",
       "      <td>2.57</td>\n",
       "      <td>1.38</td>\n",
       "      <td>4.77</td>\n",
       "      <td>...</td>\n",
       "      <td>1.19</td>\n",
       "      <td>1.93</td>\n",
       "      <td>0.93</td>\n",
       "      <td>1.27</td>\n",
       "      <td>1.99</td>\n",
       "      <td>3.34</td>\n",
       "      <td>0.27</td>\n",
       "      <td>1.64</td>\n",
       "      <td>11.12</td>\n",
       "      <td>1.60</td>\n",
       "    </tr>\n",
       "    <tr>\n",
       "      <th>10</th>\n",
       "      <td>0.00</td>\n",
       "      <td>0.00</td>\n",
       "      <td>0.99</td>\n",
       "      <td>3.06</td>\n",
       "      <td>9.65</td>\n",
       "      <td>0.00</td>\n",
       "      <td>2.31</td>\n",
       "      <td>0.00</td>\n",
       "      <td>0.11</td>\n",
       "      <td>4.48</td>\n",
       "      <td>...</td>\n",
       "      <td>0.02</td>\n",
       "      <td>0.00</td>\n",
       "      <td>0.00</td>\n",
       "      <td>0.00</td>\n",
       "      <td>0.02</td>\n",
       "      <td>0.00</td>\n",
       "      <td>0.03</td>\n",
       "      <td>0.16</td>\n",
       "      <td>1.92</td>\n",
       "      <td>0.04</td>\n",
       "    </tr>\n",
       "  </tbody>\n",
       "</table>\n",
       "<p>5 rows × 399 columns</p>\n",
       "</div>"
      ],
      "text/plain": [
       "        X-1004  X-1008  X-1027  X-1095  X-1119  X-1156  X-1167  X-1169  \\\n",
       "Sample                                                                   \n",
       "1         2.75    8.97    0.14    0.13    0.08   17.52    0.18    0.41   \n",
       "2         0.01   71.17    0.00    3.69    0.00   58.16    0.00    0.02   \n",
       "3         0.00    0.01    0.00    0.00    0.00    0.10    0.00    0.00   \n",
       "9         1.47    0.74    5.64    1.98    9.98    3.71   12.41    2.57   \n",
       "10        0.00    0.00    0.99    3.06    9.65    0.00    2.31    0.00   \n",
       "\n",
       "        X-1172  X-1173  ...  X-5713  X-5717  X-5727  X-5739  X-5808  X-5959  \\\n",
       "Sample                  ...                                                   \n",
       "1         0.08    0.00  ...   21.24    0.46   18.70    0.00    8.30   14.41   \n",
       "2        94.12    0.02  ...  463.32    0.04   33.35    0.00  254.97   41.52   \n",
       "3         0.02    0.00  ...    0.03    0.10    0.01    0.02    0.01    0.00   \n",
       "9         1.38    4.77  ...    1.19    1.93    0.93    1.27    1.99    3.34   \n",
       "10        0.11    4.48  ...    0.02    0.00    0.00    0.00    0.02    0.00   \n",
       "\n",
       "        X-5974  X-5975  X-6030  X-6047  \n",
       "Sample                                  \n",
       "1         5.09    6.35    0.09    3.22  \n",
       "2         2.32    0.00    0.00    0.16  \n",
       "3         0.00    0.01    0.00    0.02  \n",
       "9         0.27    1.64   11.12    1.60  \n",
       "10        0.03    0.16    1.92    0.04  \n",
       "\n",
       "[5 rows x 399 columns]"
      ]
     },
     "execution_count": 8,
     "metadata": {},
     "output_type": "execute_result"
    }
   ],
   "source": [
    "exprs = apply_mappers(exprs, ncbi_symbols, ncbi_synonyms, verbose = True,handle_duplicates = \"sum\")[0]\n",
    "exprs.head(5)"
   ]
  },
  {
   "cell_type": "markdown",
   "metadata": {},
   "source": [
    "### FPKM to TPM conversion"
   ]
  },
  {
   "cell_type": "code",
   "execution_count": 9,
   "metadata": {},
   "outputs": [
    {
     "data": {
      "text/plain": [
       "X-1004    387779.59\n",
       "X-1008    488681.10\n",
       "X-1027    722773.26\n",
       "X-1095    448767.63\n",
       "X-1119    608770.40\n",
       "dtype: float64"
      ]
     },
     "execution_count": 9,
     "metadata": {},
     "output_type": "execute_result"
    }
   ],
   "source": [
    "##  FPKM convert to log2(TPM+1)\n",
    "sum_fpkm = exprs.apply(sum,axis=0)\n",
    "sum_fpkm.head()"
   ]
  },
  {
   "cell_type": "code",
   "execution_count": 10,
   "metadata": {},
   "outputs": [
    {
     "data": {
      "text/html": [
       "<div>\n",
       "<style scoped>\n",
       "    .dataframe tbody tr th:only-of-type {\n",
       "        vertical-align: middle;\n",
       "    }\n",
       "\n",
       "    .dataframe tbody tr th {\n",
       "        vertical-align: top;\n",
       "    }\n",
       "\n",
       "    .dataframe thead th {\n",
       "        text-align: right;\n",
       "    }\n",
       "</style>\n",
       "<table border=\"1\" class=\"dataframe\">\n",
       "  <thead>\n",
       "    <tr style=\"text-align: right;\">\n",
       "      <th></th>\n",
       "      <th>X-1004</th>\n",
       "      <th>X-1008</th>\n",
       "      <th>X-1027</th>\n",
       "      <th>X-1095</th>\n",
       "      <th>X-1119</th>\n",
       "      <th>X-1156</th>\n",
       "      <th>X-1167</th>\n",
       "      <th>X-1169</th>\n",
       "      <th>X-1172</th>\n",
       "      <th>X-1173</th>\n",
       "      <th>...</th>\n",
       "      <th>X-5713</th>\n",
       "      <th>X-5717</th>\n",
       "      <th>X-5727</th>\n",
       "      <th>X-5739</th>\n",
       "      <th>X-5808</th>\n",
       "      <th>X-5959</th>\n",
       "      <th>X-5974</th>\n",
       "      <th>X-5975</th>\n",
       "      <th>X-6030</th>\n",
       "      <th>X-6047</th>\n",
       "    </tr>\n",
       "    <tr>\n",
       "      <th>Sample</th>\n",
       "      <th></th>\n",
       "      <th></th>\n",
       "      <th></th>\n",
       "      <th></th>\n",
       "      <th></th>\n",
       "      <th></th>\n",
       "      <th></th>\n",
       "      <th></th>\n",
       "      <th></th>\n",
       "      <th></th>\n",
       "      <th></th>\n",
       "      <th></th>\n",
       "      <th></th>\n",
       "      <th></th>\n",
       "      <th></th>\n",
       "      <th></th>\n",
       "      <th></th>\n",
       "      <th></th>\n",
       "      <th></th>\n",
       "      <th></th>\n",
       "      <th></th>\n",
       "    </tr>\n",
       "  </thead>\n",
       "  <tbody>\n",
       "    <tr>\n",
       "      <th>1</th>\n",
       "      <td>8.091657</td>\n",
       "      <td>19.355529</td>\n",
       "      <td>1.193698</td>\n",
       "      <td>1.289682</td>\n",
       "      <td>1.131412</td>\n",
       "      <td>33.704426</td>\n",
       "      <td>1.364492</td>\n",
       "      <td>1.780126</td>\n",
       "      <td>1.165758</td>\n",
       "      <td>1.000000</td>\n",
       "      <td>...</td>\n",
       "      <td>44.878131</td>\n",
       "      <td>1.790526</td>\n",
       "      <td>35.007766</td>\n",
       "      <td>1.000000</td>\n",
       "      <td>17.000994</td>\n",
       "      <td>28.579781</td>\n",
       "      <td>11.788326</td>\n",
       "      <td>12.300361</td>\n",
       "      <td>1.170096</td>\n",
       "      <td>7.065444</td>\n",
       "    </tr>\n",
       "    <tr>\n",
       "      <th>2</th>\n",
       "      <td>1.025788</td>\n",
       "      <td>146.636899</td>\n",
       "      <td>1.000000</td>\n",
       "      <td>9.222518</td>\n",
       "      <td>1.000000</td>\n",
       "      <td>109.566747</td>\n",
       "      <td>1.000000</td>\n",
       "      <td>1.038055</td>\n",
       "      <td>196.014790</td>\n",
       "      <td>1.030450</td>\n",
       "      <td>...</td>\n",
       "      <td>958.138214</td>\n",
       "      <td>1.068741</td>\n",
       "      <td>61.650214</td>\n",
       "      <td>1.000000</td>\n",
       "      <td>492.538964</td>\n",
       "      <td>80.466516</td>\n",
       "      <td>5.917272</td>\n",
       "      <td>1.000000</td>\n",
       "      <td>1.000000</td>\n",
       "      <td>1.301389</td>\n",
       "    </tr>\n",
       "    <tr>\n",
       "      <th>3</th>\n",
       "      <td>1.000000</td>\n",
       "      <td>1.020463</td>\n",
       "      <td>1.000000</td>\n",
       "      <td>1.000000</td>\n",
       "      <td>1.000000</td>\n",
       "      <td>1.186669</td>\n",
       "      <td>1.000000</td>\n",
       "      <td>1.000000</td>\n",
       "      <td>1.041440</td>\n",
       "      <td>1.000000</td>\n",
       "      <td>...</td>\n",
       "      <td>1.061975</td>\n",
       "      <td>1.171853</td>\n",
       "      <td>1.018186</td>\n",
       "      <td>1.041251</td>\n",
       "      <td>1.019278</td>\n",
       "      <td>1.000000</td>\n",
       "      <td>1.000000</td>\n",
       "      <td>1.017796</td>\n",
       "      <td>1.000000</td>\n",
       "      <td>1.037674</td>\n",
       "    </tr>\n",
       "    <tr>\n",
       "      <th>9</th>\n",
       "      <td>4.790813</td>\n",
       "      <td>2.514280</td>\n",
       "      <td>8.803277</td>\n",
       "      <td>5.412083</td>\n",
       "      <td>17.393701</td>\n",
       "      <td>7.925424</td>\n",
       "      <td>26.129695</td>\n",
       "      <td>5.890058</td>\n",
       "      <td>3.859333</td>\n",
       "      <td>8.262344</td>\n",
       "      <td>...</td>\n",
       "      <td>3.458332</td>\n",
       "      <td>4.316771</td>\n",
       "      <td>2.691295</td>\n",
       "      <td>3.619447</td>\n",
       "      <td>4.836383</td>\n",
       "      <td>7.392538</td>\n",
       "      <td>1.572269</td>\n",
       "      <td>3.918518</td>\n",
       "      <td>22.016334</td>\n",
       "      <td>4.013885</td>\n",
       "    </tr>\n",
       "    <tr>\n",
       "      <th>10</th>\n",
       "      <td>1.000000</td>\n",
       "      <td>1.000000</td>\n",
       "      <td>2.369724</td>\n",
       "      <td>7.818674</td>\n",
       "      <td>16.851625</td>\n",
       "      <td>1.000000</td>\n",
       "      <td>5.677647</td>\n",
       "      <td>1.000000</td>\n",
       "      <td>1.227918</td>\n",
       "      <td>7.820818</td>\n",
       "      <td>...</td>\n",
       "      <td>1.041317</td>\n",
       "      <td>1.000000</td>\n",
       "      <td>1.000000</td>\n",
       "      <td>1.000000</td>\n",
       "      <td>1.038557</td>\n",
       "      <td>1.000000</td>\n",
       "      <td>1.063585</td>\n",
       "      <td>1.284734</td>\n",
       "      <td>4.628719</td>\n",
       "      <td>1.075347</td>\n",
       "    </tr>\n",
       "  </tbody>\n",
       "</table>\n",
       "<p>5 rows × 399 columns</p>\n",
       "</div>"
      ],
      "text/plain": [
       "          X-1004      X-1008    X-1027    X-1095     X-1119      X-1156  \\\n",
       "Sample                                                                    \n",
       "1       8.091657   19.355529  1.193698  1.289682   1.131412   33.704426   \n",
       "2       1.025788  146.636899  1.000000  9.222518   1.000000  109.566747   \n",
       "3       1.000000    1.020463  1.000000  1.000000   1.000000    1.186669   \n",
       "9       4.790813    2.514280  8.803277  5.412083  17.393701    7.925424   \n",
       "10      1.000000    1.000000  2.369724  7.818674  16.851625    1.000000   \n",
       "\n",
       "           X-1167    X-1169      X-1172    X-1173  ...      X-5713    X-5717  \\\n",
       "Sample                                             ...                         \n",
       "1        1.364492  1.780126    1.165758  1.000000  ...   44.878131  1.790526   \n",
       "2        1.000000  1.038055  196.014790  1.030450  ...  958.138214  1.068741   \n",
       "3        1.000000  1.000000    1.041440  1.000000  ...    1.061975  1.171853   \n",
       "9       26.129695  5.890058    3.859333  8.262344  ...    3.458332  4.316771   \n",
       "10       5.677647  1.000000    1.227918  7.820818  ...    1.041317  1.000000   \n",
       "\n",
       "           X-5727    X-5739      X-5808     X-5959     X-5974     X-5975  \\\n",
       "Sample                                                                     \n",
       "1       35.007766  1.000000   17.000994  28.579781  11.788326  12.300361   \n",
       "2       61.650214  1.000000  492.538964  80.466516   5.917272   1.000000   \n",
       "3        1.018186  1.041251    1.019278   1.000000   1.000000   1.017796   \n",
       "9        2.691295  3.619447    4.836383   7.392538   1.572269   3.918518   \n",
       "10       1.000000  1.000000    1.038557   1.000000   1.063585   1.284734   \n",
       "\n",
       "           X-6030    X-6047  \n",
       "Sample                       \n",
       "1        1.170096  7.065444  \n",
       "2        1.000000  1.301389  \n",
       "3        1.000000  1.037674  \n",
       "9       22.016334  4.013885  \n",
       "10       4.628719  1.075347  \n",
       "\n",
       "[5 rows x 399 columns]"
      ]
     },
     "execution_count": 10,
     "metadata": {},
     "output_type": "execute_result"
    }
   ],
   "source": [
    "tpm = exprs / sum_fpkm *1000000 +1\n",
    "tpm.head()"
   ]
  },
  {
   "cell_type": "code",
   "execution_count": 11,
   "metadata": {},
   "outputs": [
    {
     "name": "stdout",
     "output_type": "stream",
     "text": [
      "(22401, 399)\n"
     ]
    },
    {
     "data": {
      "text/plain": [
       "<bound method NDFrame.head of              X-1004    X-1008    X-1027    X-1095    X-1119    X-1156  \\\n",
       "Sample                                                                  \n",
       "1          3.016435  4.274674  0.255438  0.367016  0.178125  5.074866   \n",
       "2          0.036732  7.196104  0.000000  3.205161  0.000000  6.775666   \n",
       "3          0.000000  0.029224  0.000000  0.000000  0.000000  0.246918   \n",
       "9          2.260271  1.330145  3.138041  2.436184  4.120493  2.986488   \n",
       "10         0.000000  0.000000  1.244719  2.966924  4.074816  0.000000   \n",
       "...             ...       ...       ...       ...       ...       ...   \n",
       "102724473  0.000000  0.085954  0.000000  0.000000  0.000000  0.078611   \n",
       "103091865  2.830198  4.360533  1.112493  1.521952  0.811982  0.725385   \n",
       "105375355  0.600038  0.430687  0.472380  2.448015  1.454815  0.496383   \n",
       "109623460  0.000000  0.000000  0.000000  0.000000  0.000000  0.000000   \n",
       "109731405  3.655870  3.916398  3.247177  3.430599  4.691364  2.434399   \n",
       "\n",
       "             X-1167    X-1169    X-1172    X-1173  ...    X-5713    X-5717  \\\n",
       "Sample                                             ...                       \n",
       "1          0.448364  0.831979  0.221269  0.000000  ...  5.487941  0.840383   \n",
       "2          0.000000  0.053883  7.614819  0.043275  ...  9.904090  0.095913   \n",
       "3          0.000000  0.000000  0.058579  0.000000  ...  0.086749  0.228792   \n",
       "9          4.707618  2.558282  1.948351  3.046551  ...  1.790076  2.109953   \n",
       "10         2.505293  0.000000  0.296214  2.967319  ...  0.058409  0.000000   \n",
       "...             ...       ...       ...       ...  ...       ...       ...   \n",
       "102724473  0.000000  0.000000  0.296214  0.000000  ...  0.086749  0.000000   \n",
       "103091865  0.469617  0.404322  0.562236  1.119242  ...  2.809734  0.798233   \n",
       "105375355  5.530992  9.038465  0.344098  2.453165  ...  1.566832  8.431454   \n",
       "109623460  0.000000  0.000000  0.000000  0.000000  ...  0.000000  0.000000   \n",
       "109731405  5.342257  4.764569  4.525139  5.142922  ...  5.232907  3.741299   \n",
       "\n",
       "             X-5727    X-5739    X-5808    X-5959    X-5974    X-5975  \\\n",
       "Sample                                                                  \n",
       "1          5.129603  0.000000  4.087547  4.836923  3.559287  3.620629   \n",
       "2          5.946034  0.000000  8.944094  6.330317  2.564932  0.000000   \n",
       "3          0.026001  0.058318  0.027548  0.000000  0.000000  0.025448   \n",
       "9          1.428301  1.855769  2.273928  2.886070  0.652848  1.970308   \n",
       "10         0.000000  0.000000  0.054580  0.000000  0.088936  0.361469   \n",
       "...             ...       ...       ...       ...       ...       ...   \n",
       "102724473  0.101306  0.086616  0.081115  0.487410  0.000000  0.075036   \n",
       "103091865  0.905294  0.962568  1.278933  1.403804  2.280219  2.523936   \n",
       "105375355  0.051542  1.079826  0.529472  1.712631  0.966269  1.369511   \n",
       "109623460  0.000000  0.000000  0.000000  0.000000  0.000000  0.000000   \n",
       "109731405  4.282348  2.171958  2.597154  2.908308  4.473549  4.109812   \n",
       "\n",
       "             X-6030    X-6047  \n",
       "Sample                         \n",
       "1          0.226627  2.820780  \n",
       "2          0.000000  0.380052  \n",
       "3          0.000000  0.053353  \n",
       "9          4.460502  2.004999  \n",
       "10         2.210613  0.104802  \n",
       "...             ...       ...  \n",
       "102724473  0.000000  0.000000  \n",
       "103091865  0.462567  0.628789  \n",
       "105375355  2.907171  0.461252  \n",
       "109623460  0.000000  0.000000  \n",
       "109731405  5.615411  4.075581  \n",
       "\n",
       "[22401 rows x 399 columns]>"
      ]
     },
     "execution_count": 11,
     "metadata": {},
     "output_type": "execute_result"
    }
   ],
   "source": [
    "\n",
    "tpm = tpm.applymap(np.log2)\n",
    "tpm.to_csv(preprocessed_data_dir + \"PDX.FPKM2TPMplus1log2.Expr.tsv\",sep=\"\\t\")\n",
    "print(tpm.shape)\n",
    "tpm.head"
   ]
  },
  {
   "cell_type": "markdown",
   "metadata": {},
   "source": [
    "### TCGA"
   ]
  },
  {
   "cell_type": "code",
   "execution_count": 12,
   "metadata": {},
   "outputs": [],
   "source": [
    "tcga_tmp_dir = raw_data_dir + \"TCGA_seq/\""
   ]
  },
  {
   "cell_type": "code",
   "execution_count": 13,
   "metadata": {},
   "outputs": [
    {
     "name": "stdout",
     "output_type": "stream",
     "text": [
      "ACC\n",
      "data/TCGA_seq/ACC.rnaseqv2__illuminahiseq_rnaseqv2__unc_edu__Level_3__RSEM_genes__data.data.txt\n"
     ]
    },
    {
     "name": "stderr",
     "output_type": "stream",
     "text": [
      "D:\\Anaconda3\\lib\\site-packages\\IPython\\core\\interactiveshell.py:3051: DtypeWarning: Columns (1,2,4,5,7,8,10,11,13,14,16,17,19,20,22,23,25,26,28,29,31,32,34,35,37,38,40,41,43,44,46,47,49,50,52,53,55,56,58,59,61,62,64,65,67,68,70,71,73,74,76,77,79,80,82,83,85,86,88,89,91,92,94,95,97,98,100,101,103,104,106,107,109,110,112,113,115,116,118,119,121,122,124,125,127,128,130,131,133,134,136,137,139,140,142,143,145,146,148,149,151,152,154,155,157,158,160,161,163,164,166,167,169,170,172,173,175,176,178,179,181,182,184,185,187,188,190,191,193,194,196,197,199,200,202,203,205,206,208,209,211,212,214,215,217,218,220,221,223,224,226,227,229,230,232,233,235,236) have mixed types. Specify dtype option on import or set low_memory=False.\n",
      "  interactivity=interactivity, compiler=compiler, result=result)\n"
     ]
    },
    {
     "name": "stdout",
     "output_type": "stream",
     "text": [
      "ACC (20531, 79)\n",
      "BLCA\n",
      "data/TCGA_seq/BLCA.rnaseqv2__illuminahiseq_rnaseqv2__unc_edu__Level_3__RSEM_genes__data.data.txt\n"
     ]
    },
    {
     "name": "stderr",
     "output_type": "stream",
     "text": [
      "D:\\Anaconda3\\lib\\site-packages\\IPython\\core\\interactiveshell.py:3051: DtypeWarning: Columns (1,2,4,5,7,8,10,11,13,14,16,17,19,20,22,23,25,26,28,29,31,32,34,35,37,38,40,41,43,44,46,47,49,50,52,53,55,56,58,59,61,62,64,65,67,68,70,71,73,74,76,77,79,80,82,83,85,86,88,89,91,92,94,95,97,98,100,101,103,104,106,107,109,110,112,113,115,116,118,119,121,122,124,125,127,128,130,131,133,134,136,137,139,140,142,143,145,146,148,149,151,152,154,155,157,158,160,161,163,164,166,167,169,170,172,173,175,176,178,179,181,182,184,185,187,188,190,191,193,194,196,197,199,200,202,203,205,206,208,209,211,212,214,215,217,218,220,221,223,224,226,227,229,230,232,233,235,236,238,239,241,242,244,245,247,248,250,251,253,254,256,257,259,260,262,263,265,266,268,269,271,272,274,275,277,278,280,281,283,284,286,287,289,290,292,293,295,296,298,299,301,302,304,305,307,308,310,311,313,314,316,317,319,320,322,323,325,326,328,329,331,332,334,335,337,338,340,341,343,344,346,347,349,350,352,353,355,356,358,359,361,362,364,365,367,368,370,371,373,374,376,377,379,380,382,383,385,386,388,389,391,392,394,395,397,398,400,401,403,404,406,407,409,410,412,413,415,416,418,419,421,422,424,425,427,428,430,431,433,434,436,437,439,440,442,443,445,446,448,449,451,452,454,455,457,458,460,461,463,464,466,467,469,470,472,473,475,476,478,479,481,482,484,485,487,488,490,491,493,494,496,497,499,500,502,503,505,506,508,509,511,512,514,515,517,518,520,521,523,524,526,527,529,530,532,533,535,536,538,539,541,542,544,545,547,548,550,551,553,554,556,557,559,560,562,563,565,566,568,569,571,572,574,575,577,578,580,581,583,584,586,587,589,590,592,593,595,596,598,599,601,602,604,605,607,608,610,611,613,614,616,617,619,620,622,623,625,626,628,629,631,632,634,635,637,638,640,641,643,644,646,647,649,650,652,653,655,656,658,659,661,662,664,665,667,668,670,671,673,674,676,677,679,680,682,683,685,686,688,689,691,692,694,695,697,698,700,701,703,704,706,707,709,710,712,713,715,716,718,719,721,722,724,725,727,728,730,731,733,734,736,737,739,740,742,743,745,746,748,749,751,752,754,755,757,758,760,761,763,764,766,767,769,770,772,773,775,776,778,779,781,782,784,785,787,788,790,791,793,794,796,797,799,800,802,803,805,806,808,809,811,812,814,815,817,818,820,821,823,824,826,827,829,830,832,833,835,836,838,839,841,842,844,845,847,848,850,851,853,854,856,857,859,860,862,863,865,866,868,869,871,872,874,875,877,878,880,881,883,884,886,887,889,890,892,893,895,896,898,899,901,902,904,905,907,908,910,911,913,914,916,917,919,920,922,923,925,926,928,929,931,932,934,935,937,938,940,941,943,944,946,947,949,950,952,953,955,956,958,959,961,962,964,965,967,968,970,971,973,974,976,977,979,980,982,983,985,986,988,989,991,992,994,995,997,998,1000,1001,1003,1004,1006,1007,1009,1010,1012,1013,1015,1016,1018,1019,1021,1022,1024,1025,1027,1028,1030,1031,1033,1034,1036,1037,1039,1040,1042,1043,1045,1046,1048,1049,1051,1052,1054,1055,1057,1058,1060,1061,1063,1064,1066,1067,1069,1070,1072,1073,1075,1076,1078,1079,1081,1082,1084,1085,1087,1088,1090,1091,1093,1094,1096,1097,1099,1100,1102,1103,1105,1106,1108,1109,1111,1112,1114,1115,1117,1118,1120,1121,1123,1124,1126,1127,1129,1130,1132,1133,1135,1136,1138,1139,1141,1142,1144,1145,1147,1148,1150,1151,1153,1154,1156,1157,1159,1160,1162,1163,1165,1166,1168,1169,1171,1172,1174,1175,1177,1178,1180,1181,1183,1184,1186,1187,1189,1190,1192,1193,1195,1196,1198,1199,1201,1202,1204,1205,1207,1208,1210,1211,1213,1214,1216,1217,1219,1220,1222,1223,1225,1226,1228,1229,1231,1232,1234,1235,1237,1238,1240,1241,1243,1244,1246,1247,1249,1250,1252,1253,1255,1256,1258,1259,1261,1262,1264,1265,1267,1268,1270,1271,1273,1274,1276,1277,1279,1280) have mixed types. Specify dtype option on import or set low_memory=False.\n",
      "  interactivity=interactivity, compiler=compiler, result=result)\n"
     ]
    },
    {
     "name": "stdout",
     "output_type": "stream",
     "text": [
      "BLCA (20531, 427)\n",
      "BRCA\n",
      "data/TCGA_seq/BRCA.rnaseqv2__illuminahiseq_rnaseqv2__unc_edu__Level_3__RSEM_genes__data.data.txt\n"
     ]
    },
    {
     "name": "stderr",
     "output_type": "stream",
     "text": [
      "D:\\Anaconda3\\lib\\site-packages\\IPython\\core\\interactiveshell.py:3051: DtypeWarning: Columns (1,2,4,5,7,8,10,11,13,14,16,17,19,20,22,23,25,26,28,29,31,32,34,35,37,38,40,41,43,44,46,47,49,50,52,53,55,56,58,59,61,62,64,65,67,68,70,71,73,74,76,77,79,80,82,83,85,86,88,89,91,92,94,95,97,98,100,101,103,104,106,107,109,110,112,113,115,116,118,119,121,122,124,125,127,128,130,131,133,134,136,137,139,140,142,143,145,146,148,149,151,152,154,155,157,158,160,161,163,164,166,167,169,170,172,173,175,176,178,179,181,182,184,185,187,188,190,191,193,194,196,197,199,200,202,203,205,206,208,209,211,212,214,215,217,218,220,221,223,224,226,227,229,230,232,233,235,236,238,239,241,242,244,245,247,248,250,251,253,254,256,257,259,260,262,263,265,266,268,269,271,272,274,275,277,278,280,281,283,284,286,287,289,290,292,293,295,296,298,299,301,302,304,305,307,308,310,311,313,314,316,317,319,320,322,323,325,326,328,329,331,332,334,335,337,338,340,341,343,344,346,347,349,350,352,353,355,356,358,359,361,362,364,365,367,368,370,371,373,374,376,377,379,380,382,383,385,386,388,389,391,392,394,395,397,398,400,401,403,404,406,407,409,410,412,413,415,416,418,419,421,422,424,425,427,428,430,431,433,434,436,437,439,440,442,443,445,446,448,449,451,452,454,455,457,458,460,461,463,464,466,467,469,470,472,473,475,476,478,479,481,482,484,485,487,488,490,491,493,494,496,497,499,500,502,503,505,506,508,509,511,512,514,515,517,518,520,521,523,524,526,527,529,530,532,533,535,536,538,539,541,542,544,545,547,548,550,551,553,554,556,557,559,560,562,563,565,566,568,569,571,572,574,575,577,578,580,581,583,584,586,587,589,590,592,593,595,596,598,599,601,602,604,605,607,608,610,611,613,614,616,617,619,620,622,623,625,626,628,629,631,632,634,635,637,638,640,641,643,644,646,647,649,650,652,653,655,656,658,659,661,662,664,665,667,668,670,671,673,674,676,677,679,680,682,683,685,686,688,689,691,692,694,695,697,698,700,701,703,704,706,707,709,710,712,713,715,716,718,719,721,722,724,725,727,728,730,731,733,734,736,737,739,740,742,743,745,746,748,749,751,752,754,755,757,758,760,761,763,764,766,767,769,770,772,773,775,776,778,779,781,782,784,785,787,788,790,791,793,794,796,797,799,800,802,803,805,806,808,809,811,812,814,815,817,818,820,821,823,824,826,827,829,830,832,833,835,836,838,839,841,842,844,845,847,848,850,851,853,854,856,857,859,860,862,863,865,866,868,869,871,872,874,875,877,878,880,881,883,884,886,887,889,890,892,893,895,896,898,899,901,902,904,905,907,908,910,911,913,914,916,917,919,920,922,923,925,926,928,929,931,932,934,935,937,938,940,941,943,944,946,947,949,950,952,953,955,956,958,959,961,962,964,965,967,968,970,971,973,974,976,977,979,980,982,983,985,986,988,989,991,992,994,995,997,998,1000,1001,1003,1004,1006,1007,1009,1010,1012,1013,1015,1016,1018,1019,1021,1022,1024,1025,1027,1028,1030,1031,1033,1034,1036,1037,1039,1040,1042,1043,1045,1046,1048,1049,1051,1052,1054,1055,1057,1058,1060,1061,1063,1064,1066,1067,1069,1070,1072,1073,1075,1076,1078,1079,1081,1082,1084,1085,1087,1088,1090,1091,1093,1094,1096,1097,1099,1100,1102,1103,1105,1106,1108,1109,1111,1112,1114,1115,1117,1118,1120,1121,1123,1124,1126,1127,1129,1130,1132,1133,1135,1136,1138,1139,1141,1142,1144,1145,1147,1148,1150,1151,1153,1154,1156,1157,1159,1160,1162,1163,1165,1166,1168,1169,1171,1172,1174,1175,1177,1178,1180,1181,1183,1184,1186,1187,1189,1190,1192,1193,1195,1196,1198,1199,1201,1202,1204,1205,1207,1208,1210,1211,1213,1214,1216,1217,1219,1220,1222,1223,1225,1226,1228,1229,1231,1232,1234,1235,1237,1238,1240,1241,1243,1244,1246,1247,1249,1250,1252,1253,1255,1256,1258,1259,1261,1262,1264,1265,1267,1268,1270,1271,1273,1274,1276,1277,1279,1280,1282,1283,1285,1286,1288,1289,1291,1292,1294,1295,1297,1298,1300,1301,1303,1304,1306,1307,1309,1310,1312,1313,1315,1316,1318,1319,1321,1322,1324,1325,1327,1328,1330,1331,1333,1334,1336,1337,1339,1340,1342,1343,1345,1346,1348,1349,1351,1352,1354,1355,1357,1358,1360,1361,1363,1364,1366,1367,1369,1370,1372,1373,1375,1376,1378,1379,1381,1382,1384,1385,1387,1388,1390,1391,1393,1394,1396,1397,1399,1400,1402,1403,1405,1406,1408,1409,1411,1412,1414,1415,1417,1418,1420,1421,1423,1424,1426,1427,1429,1430,1432,1433,1435,1436,1438,1439,1441,1442,1444,1445,1447,1448,1450,1451,1453,1454,1456,1457,1459,1460,1462,1463,1465,1466,1468,1469,1471,1472,1474,1475,1477,1478,1480,1481,1483,1484,1486,1487,1489,1490,1492,1493,1495,1496,1498,1499,1501,1502,1504,1505,1507,1508,1510,1511,1513,1514,1516,1517,1519,1520,1522,1523,1525,1526,1528,1529,1531,1532,1534,1535,1537,1538,1540,1541,1543,1544,1546,1547,1549,1550,1552,1553,1555,1556,1558,1559,1561,1562,1564,1565,1567,1568,1570,1571,1573,1574,1576,1577,1579,1580,1582,1583,1585,1586,1588,1589,1591,1592,1594,1595,1597,1598,1600,1601,1603,1604,1606,1607,1609,1610,1612,1613,1615,1616,1618,1619,1621,1622,1624,1625,1627,1628,1630,1631,1633,1634,1636,1637,1639,1640,1642,1643,1645,1646,1648,1649,1651,1652,1654,1655,1657,1658,1660,1661,1663,1664,1666,1667,1669,1670,1672,1673,1675,1676,1678,1679,1681,1682,1684,1685,1687,1688,1690,1691,1693,1694,1696,1697,1699,1700,1702,1703,1705,1706,1708,1709,1711,1712,1714,1715,1717,1718,1720,1721,1723,1724,1726,1727,1729,1730,1732,1733,1735,1736,1738,1739,1741,1742,1744,1745,1747,1748,1750,1751,1753,1754,1756,1757,1759,1760,1762,1763,1765,1766,1768,1769,1771,1772,1774,1775,1777,1778,1780,1781,1783,1784,1786,1787,1789,1790,1792,1793,1795,1796,1798,1799,1801,1802,1804,1805,1807,1808,1810,1811,1813,1814,1816,1817,1819,1820,1822,1823,1825,1826,1828,1829,1831,1832,1834,1835,1837,1838,1840,1841,1843,1844,1846,1847,1849,1850,1852,1853,1855,1856,1858,1859,1861,1862,1864,1865,1867,1868,1870,1871,1873,1874,1876,1877,1879,1880,1882,1883,1885,1886,1888,1889,1891,1892,1894,1895,1897,1898,1900,1901,1903,1904,1906,1907,1909,1910,1912,1913,1915,1916,1918,1919,1921,1922,1924,1925,1927,1928,1930,1931,1933,1934,1936,1937,1939,1940,1942,1943,1945,1946,1948,1949,1951,1952,1954,1955,1957,1958,1960,1961,1963,1964,1966,1967,1969,1970,1972,1973,1975,1976,1978,1979,1981,1982,1984,1985,1987,1988,1990,1991,1993,1994,1996,1997,1999,2000,2002,2003,2005,2006,2008,2009,2011,2012,2014,2015,2017,2018,2020,2021,2023,2024,2026,2027,2029,2030,2032,2033,2035,2036,2038,2039,2041,2042,2044,2045,2047,2048,2050,2051,2053,2054,2056,2057,2059,2060,2062,2063,2065,2066,2068,2069,2071,2072,2074,2075,2077,2078,2080,2081,2083,2084,2086,2087,2089,2090,2092,2093,2095,2096,2098,2099,2101,2102,2104,2105,2107,2108,2110,2111,2113,2114,2116,2117,2119,2120,2122,2123,2125,2126,2128,2129,2131,2132,2134,2135,2137,2138,2140,2141,2143,2144,2146,2147,2149,2150,2152,2153,2155,2156,2158,2159,2161,2162,2164,2165,2167,2168,2170,2171,2173,2174,2176,2177,2179,2180,2182,2183,2185,2186,2188,2189,2191,2192,2194,2195,2197,2198,2200,2201,2203,2204,2206,2207,2209,2210,2212,2213,2215,2216,2218,2219,2221,2222,2224,2225,2227,2228,2230,2231,2233,2234,2236,2237,2239,2240,2242,2243,2245,2246,2248,2249,2251,2252,2254,2255,2257,2258,2260,2261,2263,2264,2266,2267,2269,2270,2272,2273,2275,2276,2278,2279,2281,2282,2284,2285,2287,2288,2290,2291,2293,2294,2296,2297,2299,2300,2302,2303,2305,2306,2308,2309,2311,2312,2314,2315,2317,2318,2320,2321,2323,2324,2326,2327,2329,2330,2332,2333,2335,2336,2338,2339,2341,2342,2344,2345,2347,2348,2350,2351,2353,2354,2356,2357,2359,2360,2362,2363,2365,2366,2368,2369,2371,2372,2374,2375,2377,2378,2380,2381,2383,2384,2386,2387,2389,2390,2392,2393,2395,2396,2398,2399,2401,2402,2404,2405,2407,2408,2410,2411,2413,2414,2416,2417,2419,2420,2422,2423,2425,2426,2428,2429,2431,2432,2434,2435,2437,2438,2440,2441,2443,2444,2446,2447,2449,2450,2452,2453,2455,2456,2458,2459,2461,2462,2464,2465,2467,2468,2470,2471,2473,2474,2476,2477,2479,2480,2482,2483,2485,2486,2488,2489,2491,2492,2494,2495,2497,2498,2500,2501,2503,2504,2506,2507,2509,2510,2512,2513,2515,2516,2518,2519,2521,2522,2524,2525,2527,2528,2530,2531,2533,2534,2536,2537,2539,2540,2542,2543,2545,2546,2548,2549,2551,2552,2554,2555,2557,2558,2560,2561,2563,2564,2566,2567,2569,2570,2572,2573,2575,2576,2578,2579,2581,2582,2584,2585,2587,2588,2590,2591,2593,2594,2596,2597,2599,2600,2602,2603,2605,2606,2608,2609,2611,2612,2614,2615,2617,2618,2620,2621,2623,2624,2626,2627,2629,2630,2632,2633,2635,2636,2638,2639,2641,2642,2644,2645,2647,2648,2650,2651,2653,2654,2656,2657,2659,2660,2662,2663,2665,2666,2668,2669,2671,2672,2674,2675,2677,2678,2680,2681,2683,2684,2686,2687,2689,2690,2692,2693,2695,2696,2698,2699,2701,2702,2704,2705,2707,2708,2710,2711,2713,2714,2716,2717,2719,2720,2722,2723,2725,2726,2728,2729,2731,2732,2734,2735,2737,2738,2740,2741,2743,2744,2746,2747,2749,2750,2752,2753,2755,2756,2758,2759,2761,2762,2764,2765,2767,2768,2770,2771,2773,2774,2776,2777,2779,2780,2782,2783,2785,2786,2788,2789,2791,2792,2794,2795,2797,2798,2800,2801,2803,2804,2806,2807,2809,2810,2812,2813,2815,2816,2818,2819,2821,2822,2824,2825,2827,2828,2830,2831,2833,2834,2836,2837,2839,2840,2842,2843,2845,2846,2848,2849,2851,2852,2854,2855,2857,2858,2860,2861,2863,2864,2866,2867,2869,2870,2872,2873,2875,2876,2878,2879,2881,2882,2884,2885,2887,2888,2890,2891,2893,2894,2896,2897,2899,2900,2902,2903,2905,2906,2908,2909,2911,2912,2914,2915,2917,2918,2920,2921,2923,2924,2926,2927,2929,2930,2932,2933,2935,2936,2938,2939,2941,2942,2944,2945,2947,2948,2950,2951,2953,2954,2956,2957,2959,2960,2962,2963,2965,2966,2968,2969,2971,2972,2974,2975,2977,2978,2980,2981,2983,2984,2986,2987,2989,2990,2992,2993,2995,2996,2998,2999,3001,3002,3004,3005,3007,3008,3010,3011,3013,3014,3016,3017,3019,3020,3022,3023,3025,3026,3028,3029,3031,3032,3034,3035,3037,3038,3040,3041,3043,3044,3046,3047,3049,3050,3052,3053,3055,3056,3058,3059,3061,3062,3064,3065,3067,3068,3070,3071,3073,3074,3076,3077,3079,3080,3082,3083,3085,3086,3088,3089,3091,3092,3094,3095,3097,3098,3100,3101,3103,3104,3106,3107,3109,3110,3112,3113,3115,3116,3118,3119,3121,3122,3124,3125,3127,3128,3130,3131,3133,3134,3136,3137,3139,3140,3142,3143,3145,3146,3148,3149,3151,3152,3154,3155,3157,3158,3160,3161,3163,3164,3166,3167,3169,3170,3172,3173,3175,3176,3178,3179,3181,3182,3184,3185,3187,3188,3190,3191,3193,3194,3196,3197,3199,3200,3202,3203,3205,3206,3208,3209,3211,3212,3214,3215,3217,3218,3220,3221,3223,3224,3226,3227,3229,3230,3232,3233,3235,3236,3238,3239,3241,3242,3244,3245,3247,3248,3250,3251,3253,3254,3256,3257,3259,3260,3262,3263,3265,3266,3268,3269,3271,3272,3274,3275,3277,3278,3280,3281,3283,3284,3286,3287,3289,3290,3292,3293,3295,3296,3298,3299,3301,3302,3304,3305,3307,3308,3310,3311,3313,3314,3316,3317,3319,3320,3322,3323,3325,3326,3328,3329,3331,3332,3334,3335,3337,3338,3340,3341,3343,3344,3346,3347,3349,3350,3352,3353,3355,3356,3358,3359,3361,3362,3364,3365,3367,3368,3370,3371,3373,3374,3376,3377,3379,3380,3382,3383,3385,3386,3388,3389,3391,3392,3394,3395,3397,3398,3400,3401,3403,3404,3406,3407,3409,3410,3412,3413,3415,3416,3418,3419,3421,3422,3424,3425,3427,3428,3430,3431,3433,3434,3436,3437,3439,3440,3442,3443,3445,3446,3448,3449,3451,3452,3454,3455,3457,3458,3460,3461,3463,3464,3466,3467,3469,3470,3472,3473,3475,3476,3478,3479,3481,3482,3484,3485,3487,3488,3490,3491,3493,3494,3496,3497,3499,3500,3502,3503,3505,3506,3508,3509,3511,3512,3514,3515,3517,3518,3520,3521,3523,3524,3526,3527,3529,3530,3532,3533,3535,3536,3538,3539,3541,3542,3544,3545,3547,3548,3550,3551,3553,3554,3556,3557,3559,3560,3562,3563,3565,3566,3568,3569,3571,3572,3574,3575,3577,3578,3580,3581,3583,3584,3586,3587,3589,3590,3592,3593,3595,3596,3598,3599,3601,3602,3604,3605,3607,3608,3610,3611,3613,3614,3616,3617,3619,3620,3622,3623,3625,3626,3628,3629,3631,3632,3634,3635) have mixed types. Specify dtype option on import or set low_memory=False.\n",
      "  interactivity=interactivity, compiler=compiler, result=result)\n"
     ]
    },
    {
     "name": "stdout",
     "output_type": "stream",
     "text": [
      "BRCA (20531, 1212)\n",
      "CESC\n",
      "data/TCGA_seq/CESC.rnaseqv2__illuminahiseq_rnaseqv2__unc_edu__Level_3__RSEM_genes__data.data.txt\n"
     ]
    },
    {
     "name": "stderr",
     "output_type": "stream",
     "text": [
      "D:\\Anaconda3\\lib\\site-packages\\IPython\\core\\interactiveshell.py:3051: DtypeWarning: Columns (1,2,4,5,7,8,10,11,13,14,16,17,19,20,22,23,25,26,28,29,31,32,34,35,37,38,40,41,43,44,46,47,49,50,52,53,55,56,58,59,61,62,64,65,67,68,70,71,73,74,76,77,79,80,82,83,85,86,88,89,91,92,94,95,97,98,100,101,103,104,106,107,109,110,112,113,115,116,118,119,121,122,124,125,127,128,130,131,133,134,136,137,139,140,142,143,145,146,148,149,151,152,154,155,157,158,160,161,163,164,166,167,169,170,172,173,175,176,178,179,181,182,184,185,187,188,190,191,193,194,196,197,199,200,202,203,205,206,208,209,211,212,214,215,217,218,220,221,223,224,226,227,229,230,232,233,235,236,238,239,241,242,244,245,247,248,250,251,253,254,256,257,259,260,262,263,265,266,268,269,271,272,274,275,277,278,280,281,283,284,286,287,289,290,292,293,295,296,298,299,301,302,304,305,307,308,310,311,313,314,316,317,319,320,322,323,325,326,328,329,331,332,334,335,337,338,340,341,343,344,346,347,349,350,352,353,355,356,358,359,361,362,364,365,367,368,370,371,373,374,376,377,379,380,382,383,385,386,388,389,391,392,394,395,397,398,400,401,403,404,406,407,409,410,412,413,415,416,418,419,421,422,424,425,427,428,430,431,433,434,436,437,439,440,442,443,445,446,448,449,451,452,454,455,457,458,460,461,463,464,466,467,469,470,472,473,475,476,478,479,481,482,484,485,487,488,490,491,493,494,496,497,499,500,502,503,505,506,508,509,511,512,514,515,517,518,520,521,523,524,526,527,529,530,532,533,535,536,538,539,541,542,544,545,547,548,550,551,553,554,556,557,559,560,562,563,565,566,568,569,571,572,574,575,577,578,580,581,583,584,586,587,589,590,592,593,595,596,598,599,601,602,604,605,607,608,610,611,613,614,616,617,619,620,622,623,625,626,628,629,631,632,634,635,637,638,640,641,643,644,646,647,649,650,652,653,655,656,658,659,661,662,664,665,667,668,670,671,673,674,676,677,679,680,682,683,685,686,688,689,691,692,694,695,697,698,700,701,703,704,706,707,709,710,712,713,715,716,718,719,721,722,724,725,727,728,730,731,733,734,736,737,739,740,742,743,745,746,748,749,751,752,754,755,757,758,760,761,763,764,766,767,769,770,772,773,775,776,778,779,781,782,784,785,787,788,790,791,793,794,796,797,799,800,802,803,805,806,808,809,811,812,814,815,817,818,820,821,823,824,826,827,829,830,832,833,835,836,838,839,841,842,844,845,847,848,850,851,853,854,856,857,859,860,862,863,865,866,868,869,871,872,874,875,877,878,880,881,883,884,886,887,889,890,892,893,895,896,898,899,901,902,904,905,907,908,910,911,913,914,916,917,919,920,922,923,925,926) have mixed types. Specify dtype option on import or set low_memory=False.\n",
      "  interactivity=interactivity, compiler=compiler, result=result)\n"
     ]
    },
    {
     "name": "stdout",
     "output_type": "stream",
     "text": [
      "CESC (20531, 309)\n",
      "CHOL\n",
      "data/TCGA_seq/CHOL.rnaseqv2__illuminahiseq_rnaseqv2__unc_edu__Level_3__RSEM_genes__data.data.txt\n"
     ]
    },
    {
     "name": "stderr",
     "output_type": "stream",
     "text": [
      "D:\\Anaconda3\\lib\\site-packages\\IPython\\core\\interactiveshell.py:3051: DtypeWarning: Columns (1,2,4,5,7,8,10,11,13,14,16,17,19,20,22,23,25,26,28,29,31,32,34,35,37,38,40,41,43,44,46,47,49,50,52,53,55,56,58,59,61,62,64,65,67,68,70,71,73,74,76,77,79,80,82,83,85,86,88,89,91,92,94,95,97,98,100,101,103,104,106,107,109,110,112,113,115,116,118,119,121,122,124,125,127,128,130,131,133,134) have mixed types. Specify dtype option on import or set low_memory=False.\n",
      "  interactivity=interactivity, compiler=compiler, result=result)\n"
     ]
    },
    {
     "name": "stdout",
     "output_type": "stream",
     "text": [
      "CHOL (20531, 45)\n",
      "COAD\n",
      "data/TCGA_seq/COAD.rnaseqv2__illuminaga_rnaseqv2__unc_edu__Level_3__RSEM_genes__data.data.txt\n"
     ]
    },
    {
     "name": "stderr",
     "output_type": "stream",
     "text": [
      "D:\\Anaconda3\\lib\\site-packages\\IPython\\core\\interactiveshell.py:3051: DtypeWarning: Columns (1,2,4,5,7,8,10,11,13,14,16,17,19,20,22,23,25,26,28,29,31,32,34,35,37,38,40,41,43,44,46,47,49,50,52,53,55,56,58,59,61,62,64,65,67,68,70,71,73,74,76,77,79,80,82,83,85,86,88,89,91,92,94,95,97,98,100,101,103,104,106,107,109,110,112,113,115,116,118,119,121,122,124,125,127,128,130,131,133,134,136,137,139,140,142,143,145,146,148,149,151,152,154,155,157,158,160,161,163,164,166,167,169,170,172,173,175,176,178,179,181,182,184,185,187,188,190,191,193,194,196,197,199,200,202,203,205,206,208,209,211,212,214,215,217,218,220,221,223,224,226,227,229,230,232,233,235,236,238,239,241,242,244,245,247,248,250,251,253,254,256,257,259,260,262,263,265,266,268,269,271,272,274,275,277,278,280,281,283,284,286,287,289,290,292,293,295,296,298,299,301,302,304,305,307,308,310,311,313,314,316,317,319,320,322,323,325,326,328,329,331,332,334,335,337,338,340,341,343,344,346,347,349,350,352,353,355,356,358,359,361,362,364,365,367,368,370,371,373,374,376,377,379,380,382,383,385,386,388,389,391,392,394,395,397,398,400,401,403,404,406,407,409,410,412,413,415,416,418,419,421,422,424,425,427,428,430,431,433,434,436,437,439,440,442,443,445,446,448,449,451,452,454,455,457,458,460,461,463,464,466,467,469,470,472,473,475,476,478,479,481,482,484,485,487,488,490,491,493,494,496,497,499,500,502,503,505,506,508,509,511,512,514,515,517,518,520,521,523,524,526,527,529,530,532,533,535,536,538,539,541,542,544,545,547,548,550,551,553,554,556,557,559,560,562,563,565,566,568,569,571,572) have mixed types. Specify dtype option on import or set low_memory=False.\n",
      "  interactivity=interactivity, compiler=compiler, result=result)\n"
     ]
    },
    {
     "name": "stdout",
     "output_type": "stream",
     "text": [
      "COAD (20531, 191)\n",
      "COADREAD\n",
      "data/TCGA_seq/COADREAD.rnaseqv2__illuminaga_rnaseqv2__unc_edu__Level_3__RSEM_genes__data.data.txt\n"
     ]
    },
    {
     "name": "stderr",
     "output_type": "stream",
     "text": [
      "D:\\Anaconda3\\lib\\site-packages\\IPython\\core\\interactiveshell.py:3051: DtypeWarning: Columns (1,2,4,5,7,8,10,11,13,14,16,17,19,20,22,23,25,26,28,29,31,32,34,35,37,38,40,41,43,44,46,47,49,50,52,53,55,56,58,59,61,62,64,65,67,68,70,71,73,74,76,77,79,80,82,83,85,86,88,89,91,92,94,95,97,98,100,101,103,104,106,107,109,110,112,113,115,116,118,119,121,122,124,125,127,128,130,131,133,134,136,137,139,140,142,143,145,146,148,149,151,152,154,155,157,158,160,161,163,164,166,167,169,170,172,173,175,176,178,179,181,182,184,185,187,188,190,191,193,194,196,197,199,200,202,203,205,206,208,209,211,212,214,215,217,218,220,221,223,224,226,227,229,230,232,233,235,236,238,239,241,242,244,245,247,248,250,251,253,254,256,257,259,260,262,263,265,266,268,269,271,272,274,275,277,278,280,281,283,284,286,287,289,290,292,293,295,296,298,299,301,302,304,305,307,308,310,311,313,314,316,317,319,320,322,323,325,326,328,329,331,332,334,335,337,338,340,341,343,344,346,347,349,350,352,353,355,356,358,359,361,362,364,365,367,368,370,371,373,374,376,377,379,380,382,383,385,386,388,389,391,392,394,395,397,398,400,401,403,404,406,407,409,410,412,413,415,416,418,419,421,422,424,425,427,428,430,431,433,434,436,437,439,440,442,443,445,446,448,449,451,452,454,455,457,458,460,461,463,464,466,467,469,470,472,473,475,476,478,479,481,482,484,485,487,488,490,491,493,494,496,497,499,500,502,503,505,506,508,509,511,512,514,515,517,518,520,521,523,524,526,527,529,530,532,533,535,536,538,539,541,542,544,545,547,548,550,551,553,554,556,557,559,560,562,563,565,566,568,569,571,572,574,575,577,578,580,581,583,584,586,587,589,590,592,593,595,596,598,599,601,602,604,605,607,608,610,611,613,614,616,617,619,620,622,623,625,626,628,629,631,632,634,635,637,638,640,641,643,644,646,647,649,650,652,653,655,656,658,659,661,662,664,665,667,668,670,671,673,674,676,677,679,680,682,683,685,686,688,689,691,692,694,695,697,698,700,701,703,704,706,707,709,710,712,713,715,716,718,719,721,722,724,725,727,728,730,731,733,734,736,737,739,740,742,743,745,746,748,749,751,752,754,755,757,758,760,761,763,764,766,767,769,770,772,773,775,776,778,779,781,782,784,785,787,788) have mixed types. Specify dtype option on import or set low_memory=False.\n",
      "  interactivity=interactivity, compiler=compiler, result=result)\n"
     ]
    },
    {
     "name": "stdout",
     "output_type": "stream",
     "text": [
      "COADREAD (20531, 263)\n",
      "ESCA\n",
      "data/TCGA_seq/ESCA.rnaseqv2__illuminahiseq_rnaseqv2__unc_edu__Level_3__RSEM_genes__data.data.txt\n"
     ]
    },
    {
     "name": "stderr",
     "output_type": "stream",
     "text": [
      "D:\\Anaconda3\\lib\\site-packages\\IPython\\core\\interactiveshell.py:3051: DtypeWarning: Columns (1,2,4,5,7,8,10,11,13,14,16,17,19,20,22,23,25,26,28,29,31,32,34,35,37,38,40,41,43,44,46,47,49,50,52,53,55,56,58,59,61,62,64,65,67,68,70,71,73,74,76,77,79,80,82,83,85,86,88,89,91,92,94,95,97,98,100,101,103,104,106,107,109,110,112,113,115,116,118,119,121,122,124,125,127,128,130,131,133,134,136,137,139,140,142,143,145,146,148,149,151,152,154,155,157,158,160,161,163,164,166,167,169,170,172,173,175,176,178,179,181,182,184,185,187,188,190,191,193,194,196,197,199,200,202,203,205,206,208,209,211,212,214,215,217,218,220,221,223,224,226,227,229,230,232,233,235,236,238,239,241,242,244,245,247,248,250,251,253,254,256,257,259,260,262,263,265,266,268,269,271,272,274,275,277,278,280,281,283,284,286,287,289,290,292,293,295,296,298,299,301,302,304,305,307,308,310,311,313,314,316,317,319,320,322,323,325,326,328,329,331,332,334,335,337,338,340,341,343,344,346,347,349,350,352,353,355,356,358,359,361,362,364,365,367,368,370,371,373,374,376,377,379,380,382,383,385,386,388,389,391,392,394,395,397,398,400,401,403,404,406,407,409,410,412,413,415,416,418,419,421,422,424,425,427,428,430,431,433,434,436,437,439,440,442,443,445,446,448,449,451,452,454,455,457,458,460,461,463,464,466,467,469,470,472,473,475,476,478,479,481,482,484,485,487,488,490,491,493,494,496,497,499,500,502,503,505,506,508,509,511,512,514,515,517,518,520,521,523,524,526,527,529,530,532,533,535,536,538,539,541,542,544,545,547,548,550,551,553,554,556,557,559,560,562,563,565,566,568,569,571,572,574,575,577,578,580,581,583,584,586,587) have mixed types. Specify dtype option on import or set low_memory=False.\n",
      "  interactivity=interactivity, compiler=compiler, result=result)\n"
     ]
    },
    {
     "name": "stdout",
     "output_type": "stream",
     "text": [
      "ESCA (20531, 196)\n",
      "GBM\n",
      "data/TCGA_seq/GBM.rnaseqv2__illuminahiseq_rnaseqv2__unc_edu__Level_3__RSEM_genes__data.data.txt\n"
     ]
    },
    {
     "name": "stderr",
     "output_type": "stream",
     "text": [
      "D:\\Anaconda3\\lib\\site-packages\\IPython\\core\\interactiveshell.py:3051: DtypeWarning: Columns (1,2,4,5,7,8,10,11,13,14,16,17,19,20,22,23,25,26,28,29,31,32,34,35,37,38,40,41,43,44,46,47,49,50,52,53,55,56,58,59,61,62,64,65,67,68,70,71,73,74,76,77,79,80,82,83,85,86,88,89,91,92,94,95,97,98,100,101,103,104,106,107,109,110,112,113,115,116,118,119,121,122,124,125,127,128,130,131,133,134,136,137,139,140,142,143,145,146,148,149,151,152,154,155,157,158,160,161,163,164,166,167,169,170,172,173,175,176,178,179,181,182,184,185,187,188,190,191,193,194,196,197,199,200,202,203,205,206,208,209,211,212,214,215,217,218,220,221,223,224,226,227,229,230,232,233,235,236,238,239,241,242,244,245,247,248,250,251,253,254,256,257,259,260,262,263,265,266,268,269,271,272,274,275,277,278,280,281,283,284,286,287,289,290,292,293,295,296,298,299,301,302,304,305,307,308,310,311,313,314,316,317,319,320,322,323,325,326,328,329,331,332,334,335,337,338,340,341,343,344,346,347,349,350,352,353,355,356,358,359,361,362,364,365,367,368,370,371,373,374,376,377,379,380,382,383,385,386,388,389,391,392,394,395,397,398,400,401,403,404,406,407,409,410,412,413,415,416,418,419,421,422,424,425,427,428,430,431,433,434,436,437,439,440,442,443,445,446,448,449,451,452,454,455,457,458,460,461,463,464,466,467,469,470,472,473,475,476,478,479,481,482,484,485,487,488,490,491,493,494,496,497,499,500,502,503,505,506,508,509,511,512) have mixed types. Specify dtype option on import or set low_memory=False.\n",
      "  interactivity=interactivity, compiler=compiler, result=result)\n"
     ]
    },
    {
     "name": "stdout",
     "output_type": "stream",
     "text": [
      "GBM (20531, 171)\n",
      "GBMLGG\n",
      "data/TCGA_seq/GBMLGG.rnaseqv2__illuminahiseq_rnaseqv2__unc_edu__Level_3__RSEM_genes__data.data.txt\n"
     ]
    },
    {
     "name": "stderr",
     "output_type": "stream",
     "text": [
      "D:\\Anaconda3\\lib\\site-packages\\IPython\\core\\interactiveshell.py:3051: DtypeWarning: Columns (1,2,4,5,7,8,10,11,13,14,16,17,19,20,22,23,25,26,28,29,31,32,34,35,37,38,40,41,43,44,46,47,49,50,52,53,55,56,58,59,61,62,64,65,67,68,70,71,73,74,76,77,79,80,82,83,85,86,88,89,91,92,94,95,97,98,100,101,103,104,106,107,109,110,112,113,115,116,118,119,121,122,124,125,127,128,130,131,133,134,136,137,139,140,142,143,145,146,148,149,151,152,154,155,157,158,160,161,163,164,166,167,169,170,172,173,175,176,178,179,181,182,184,185,187,188,190,191,193,194,196,197,199,200,202,203,205,206,208,209,211,212,214,215,217,218,220,221,223,224,226,227,229,230,232,233,235,236,238,239,241,242,244,245,247,248,250,251,253,254,256,257,259,260,262,263,265,266,268,269,271,272,274,275,277,278,280,281,283,284,286,287,289,290,292,293,295,296,298,299,301,302,304,305,307,308,310,311,313,314,316,317,319,320,322,323,325,326,328,329,331,332,334,335,337,338,340,341,343,344,346,347,349,350,352,353,355,356,358,359,361,362,364,365,367,368,370,371,373,374,376,377,379,380,382,383,385,386,388,389,391,392,394,395,397,398,400,401,403,404,406,407,409,410,412,413,415,416,418,419,421,422,424,425,427,428,430,431,433,434,436,437,439,440,442,443,445,446,448,449,451,452,454,455,457,458,460,461,463,464,466,467,469,470,472,473,475,476,478,479,481,482,484,485,487,488,490,491,493,494,496,497,499,500,502,503,505,506,508,509,511,512,514,515,517,518,520,521,523,524,526,527,529,530,532,533,535,536,538,539,541,542,544,545,547,548,550,551,553,554,556,557,559,560,562,563,565,566,568,569,571,572,574,575,577,578,580,581,583,584,586,587,589,590,592,593,595,596,598,599,601,602,604,605,607,608,610,611,613,614,616,617,619,620,622,623,625,626,628,629,631,632,634,635,637,638,640,641,643,644,646,647,649,650,652,653,655,656,658,659,661,662,664,665,667,668,670,671,673,674,676,677,679,680,682,683,685,686,688,689,691,692,694,695,697,698,700,701,703,704,706,707,709,710,712,713,715,716,718,719,721,722,724,725,727,728,730,731,733,734,736,737,739,740,742,743,745,746,748,749,751,752,754,755,757,758,760,761,763,764,766,767,769,770,772,773,775,776,778,779,781,782,784,785,787,788,790,791,793,794,796,797,799,800,802,803,805,806,808,809,811,812,814,815,817,818,820,821,823,824,826,827,829,830,832,833,835,836,838,839,841,842,844,845,847,848,850,851,853,854,856,857,859,860,862,863,865,866,868,869,871,872,874,875,877,878,880,881,883,884,886,887,889,890,892,893,895,896,898,899,901,902,904,905,907,908,910,911,913,914,916,917,919,920,922,923,925,926,928,929,931,932,934,935,937,938,940,941,943,944,946,947,949,950,952,953,955,956,958,959,961,962,964,965,967,968,970,971,973,974,976,977,979,980,982,983,985,986,988,989,991,992,994,995,997,998,1000,1001,1003,1004,1006,1007,1009,1010,1012,1013,1015,1016,1018,1019,1021,1022,1024,1025,1027,1028,1030,1031,1033,1034,1036,1037,1039,1040,1042,1043,1045,1046,1048,1049,1051,1052,1054,1055,1057,1058,1060,1061,1063,1064,1066,1067,1069,1070,1072,1073,1075,1076,1078,1079,1081,1082,1084,1085,1087,1088,1090,1091,1093,1094,1096,1097,1099,1100,1102,1103,1105,1106,1108,1109,1111,1112,1114,1115,1117,1118,1120,1121,1123,1124,1126,1127,1129,1130,1132,1133,1135,1136,1138,1139,1141,1142,1144,1145,1147,1148,1150,1151,1153,1154,1156,1157,1159,1160,1162,1163,1165,1166,1168,1169,1171,1172,1174,1175,1177,1178,1180,1181,1183,1184,1186,1187,1189,1190,1192,1193,1195,1196,1198,1199,1201,1202,1204,1205,1207,1208,1210,1211,1213,1214,1216,1217,1219,1220,1222,1223,1225,1226,1228,1229,1231,1232,1234,1235,1237,1238,1240,1241,1243,1244,1246,1247,1249,1250,1252,1253,1255,1256,1258,1259,1261,1262,1264,1265,1267,1268,1270,1271,1273,1274,1276,1277,1279,1280,1282,1283,1285,1286,1288,1289,1291,1292,1294,1295,1297,1298,1300,1301,1303,1304,1306,1307,1309,1310,1312,1313,1315,1316,1318,1319,1321,1322,1324,1325,1327,1328,1330,1331,1333,1334,1336,1337,1339,1340,1342,1343,1345,1346,1348,1349,1351,1352,1354,1355,1357,1358,1360,1361,1363,1364,1366,1367,1369,1370,1372,1373,1375,1376,1378,1379,1381,1382,1384,1385,1387,1388,1390,1391,1393,1394,1396,1397,1399,1400,1402,1403,1405,1406,1408,1409,1411,1412,1414,1415,1417,1418,1420,1421,1423,1424,1426,1427,1429,1430,1432,1433,1435,1436,1438,1439,1441,1442,1444,1445,1447,1448,1450,1451,1453,1454,1456,1457,1459,1460,1462,1463,1465,1466,1468,1469,1471,1472,1474,1475,1477,1478,1480,1481,1483,1484,1486,1487,1489,1490,1492,1493,1495,1496,1498,1499,1501,1502,1504,1505,1507,1508,1510,1511,1513,1514,1516,1517,1519,1520,1522,1523,1525,1526,1528,1529,1531,1532,1534,1535,1537,1538,1540,1541,1543,1544,1546,1547,1549,1550,1552,1553,1555,1556,1558,1559,1561,1562,1564,1565,1567,1568,1570,1571,1573,1574,1576,1577,1579,1580,1582,1583,1585,1586,1588,1589,1591,1592,1594,1595,1597,1598,1600,1601,1603,1604,1606,1607,1609,1610,1612,1613,1615,1616,1618,1619,1621,1622,1624,1625,1627,1628,1630,1631,1633,1634,1636,1637,1639,1640,1642,1643,1645,1646,1648,1649,1651,1652,1654,1655,1657,1658,1660,1661,1663,1664,1666,1667,1669,1670,1672,1673,1675,1676,1678,1679,1681,1682,1684,1685,1687,1688,1690,1691,1693,1694,1696,1697,1699,1700,1702,1703,1705,1706,1708,1709,1711,1712,1714,1715,1717,1718,1720,1721,1723,1724,1726,1727,1729,1730,1732,1733,1735,1736,1738,1739,1741,1742,1744,1745,1747,1748,1750,1751,1753,1754,1756,1757,1759,1760,1762,1763,1765,1766,1768,1769,1771,1772,1774,1775,1777,1778,1780,1781,1783,1784,1786,1787,1789,1790,1792,1793,1795,1796,1798,1799,1801,1802,1804,1805,1807,1808,1810,1811,1813,1814,1816,1817,1819,1820,1822,1823,1825,1826,1828,1829,1831,1832,1834,1835,1837,1838,1840,1841,1843,1844,1846,1847,1849,1850,1852,1853,1855,1856,1858,1859,1861,1862,1864,1865,1867,1868,1870,1871,1873,1874,1876,1877,1879,1880,1882,1883,1885,1886,1888,1889,1891,1892,1894,1895,1897,1898,1900,1901,1903,1904,1906,1907,1909,1910,1912,1913,1915,1916,1918,1919,1921,1922,1924,1925,1927,1928,1930,1931,1933,1934,1936,1937,1939,1940,1942,1943,1945,1946,1948,1949,1951,1952,1954,1955,1957,1958,1960,1961,1963,1964,1966,1967,1969,1970,1972,1973,1975,1976,1978,1979,1981,1982,1984,1985,1987,1988,1990,1991,1993,1994,1996,1997,1999,2000,2002,2003,2005,2006,2008,2009,2011,2012,2014,2015,2017,2018,2020,2021,2023,2024,2026,2027,2029,2030,2032,2033,2035,2036,2038,2039,2041,2042,2044,2045,2047,2048,2050,2051,2053,2054,2056,2057,2059,2060,2062,2063,2065,2066,2068,2069,2071,2072,2074,2075,2077,2078,2080,2081,2083,2084,2086,2087,2089,2090,2092,2093,2095,2096,2098,2099,2101,2102) have mixed types. Specify dtype option on import or set low_memory=False.\n",
      "  interactivity=interactivity, compiler=compiler, result=result)\n"
     ]
    },
    {
     "name": "stdout",
     "output_type": "stream",
     "text": [
      "GBMLGG (20531, 701)\n",
      "HNSC\n",
      "data/TCGA_seq/HNSC.rnaseqv2__illuminahiseq_rnaseqv2__unc_edu__Level_3__RSEM_genes__data.data.txt\n"
     ]
    },
    {
     "name": "stderr",
     "output_type": "stream",
     "text": [
      "D:\\Anaconda3\\lib\\site-packages\\IPython\\core\\interactiveshell.py:3051: DtypeWarning: Columns (1,2,4,5,7,8,10,11,13,14,16,17,19,20,22,23,25,26,28,29,31,32,34,35,37,38,40,41,43,44,46,47,49,50,52,53,55,56,58,59,61,62,64,65,67,68,70,71,73,74,76,77,79,80,82,83,85,86,88,89,91,92,94,95,97,98,100,101,103,104,106,107,109,110,112,113,115,116,118,119,121,122,124,125,127,128,130,131,133,134,136,137,139,140,142,143,145,146,148,149,151,152,154,155,157,158,160,161,163,164,166,167,169,170,172,173,175,176,178,179,181,182,184,185,187,188,190,191,193,194,196,197,199,200,202,203,205,206,208,209,211,212,214,215,217,218,220,221,223,224,226,227,229,230,232,233,235,236,238,239,241,242,244,245,247,248,250,251,253,254,256,257,259,260,262,263,265,266,268,269,271,272,274,275,277,278,280,281,283,284,286,287,289,290,292,293,295,296,298,299,301,302,304,305,307,308,310,311,313,314,316,317,319,320,322,323,325,326,328,329,331,332,334,335,337,338,340,341,343,344,346,347,349,350,352,353,355,356,358,359,361,362,364,365,367,368,370,371,373,374,376,377,379,380,382,383,385,386,388,389,391,392,394,395,397,398,400,401,403,404,406,407,409,410,412,413,415,416,418,419,421,422,424,425,427,428,430,431,433,434,436,437,439,440,442,443,445,446,448,449,451,452,454,455,457,458,460,461,463,464,466,467,469,470,472,473,475,476,478,479,481,482,484,485,487,488,490,491,493,494,496,497,499,500,502,503,505,506,508,509,511,512,514,515,517,518,520,521,523,524,526,527,529,530,532,533,535,536,538,539,541,542,544,545,547,548,550,551,553,554,556,557,559,560,562,563,565,566,568,569,571,572,574,575,577,578,580,581,583,584,586,587,589,590,592,593,595,596,598,599,601,602,604,605,607,608,610,611,613,614,616,617,619,620,622,623,625,626,628,629,631,632,634,635,637,638,640,641,643,644,646,647,649,650,652,653,655,656,658,659,661,662,664,665,667,668,670,671,673,674,676,677,679,680,682,683,685,686,688,689,691,692,694,695,697,698,700,701,703,704,706,707,709,710,712,713,715,716,718,719,721,722,724,725,727,728,730,731,733,734,736,737,739,740,742,743,745,746,748,749,751,752,754,755,757,758,760,761,763,764,766,767,769,770,772,773,775,776,778,779,781,782,784,785,787,788,790,791,793,794,796,797,799,800,802,803,805,806,808,809,811,812,814,815,817,818,820,821,823,824,826,827,829,830,832,833,835,836,838,839,841,842,844,845,847,848,850,851,853,854,856,857,859,860,862,863,865,866,868,869,871,872,874,875,877,878,880,881,883,884,886,887,889,890,892,893,895,896,898,899,901,902,904,905,907,908,910,911,913,914,916,917,919,920,922,923,925,926,928,929,931,932,934,935,937,938,940,941,943,944,946,947,949,950,952,953,955,956,958,959,961,962,964,965,967,968,970,971,973,974,976,977,979,980,982,983,985,986,988,989,991,992,994,995,997,998,1000,1001,1003,1004,1006,1007,1009,1010,1012,1013,1015,1016,1018,1019,1021,1022,1024,1025,1027,1028,1030,1031,1033,1034,1036,1037,1039,1040,1042,1043,1045,1046,1048,1049,1051,1052,1054,1055,1057,1058,1060,1061,1063,1064,1066,1067,1069,1070,1072,1073,1075,1076,1078,1079,1081,1082,1084,1085,1087,1088,1090,1091,1093,1094,1096,1097,1099,1100,1102,1103,1105,1106,1108,1109,1111,1112,1114,1115,1117,1118,1120,1121,1123,1124,1126,1127,1129,1130,1132,1133,1135,1136,1138,1139,1141,1142,1144,1145,1147,1148,1150,1151,1153,1154,1156,1157,1159,1160,1162,1163,1165,1166,1168,1169,1171,1172,1174,1175,1177,1178,1180,1181,1183,1184,1186,1187,1189,1190,1192,1193,1195,1196,1198,1199,1201,1202,1204,1205,1207,1208,1210,1211,1213,1214,1216,1217,1219,1220,1222,1223,1225,1226,1228,1229,1231,1232,1234,1235,1237,1238,1240,1241,1243,1244,1246,1247,1249,1250,1252,1253,1255,1256,1258,1259,1261,1262,1264,1265,1267,1268,1270,1271,1273,1274,1276,1277,1279,1280,1282,1283,1285,1286,1288,1289,1291,1292,1294,1295,1297,1298,1300,1301,1303,1304,1306,1307,1309,1310,1312,1313,1315,1316,1318,1319,1321,1322,1324,1325,1327,1328,1330,1331,1333,1334,1336,1337,1339,1340,1342,1343,1345,1346,1348,1349,1351,1352,1354,1355,1357,1358,1360,1361,1363,1364,1366,1367,1369,1370,1372,1373,1375,1376,1378,1379,1381,1382,1384,1385,1387,1388,1390,1391,1393,1394,1396,1397,1399,1400,1402,1403,1405,1406,1408,1409,1411,1412,1414,1415,1417,1418,1420,1421,1423,1424,1426,1427,1429,1430,1432,1433,1435,1436,1438,1439,1441,1442,1444,1445,1447,1448,1450,1451,1453,1454,1456,1457,1459,1460,1462,1463,1465,1466,1468,1469,1471,1472,1474,1475,1477,1478,1480,1481,1483,1484,1486,1487,1489,1490,1492,1493,1495,1496,1498,1499,1501,1502,1504,1505,1507,1508,1510,1511,1513,1514,1516,1517,1519,1520,1522,1523,1525,1526,1528,1529,1531,1532,1534,1535,1537,1538,1540,1541,1543,1544,1546,1547,1549,1550,1552,1553,1555,1556,1558,1559,1561,1562,1564,1565,1567,1568,1570,1571,1573,1574,1576,1577,1579,1580,1582,1583,1585,1586,1588,1589,1591,1592,1594,1595,1597,1598,1600,1601,1603,1604,1606,1607,1609,1610,1612,1613,1615,1616,1618,1619,1621,1622,1624,1625,1627,1628,1630,1631,1633,1634,1636,1637,1639,1640,1642,1643,1645,1646,1648,1649,1651,1652,1654,1655,1657,1658,1660,1661,1663,1664,1666,1667,1669,1670,1672,1673,1675,1676,1678,1679,1681,1682,1684,1685,1687,1688,1690,1691,1693,1694,1696,1697) have mixed types. Specify dtype option on import or set low_memory=False.\n",
      "  interactivity=interactivity, compiler=compiler, result=result)\n"
     ]
    },
    {
     "name": "stdout",
     "output_type": "stream",
     "text": [
      "HNSC (20531, 566)\n",
      "KICH\n",
      "data/TCGA_seq/KICH.rnaseqv2__illuminahiseq_rnaseqv2__unc_edu__Level_3__RSEM_genes__data.data.txt\n"
     ]
    },
    {
     "name": "stderr",
     "output_type": "stream",
     "text": [
      "D:\\Anaconda3\\lib\\site-packages\\IPython\\core\\interactiveshell.py:3051: DtypeWarning: Columns (1,2,4,5,7,8,10,11,13,14,16,17,19,20,22,23,25,26,28,29,31,32,34,35,37,38,40,41,43,44,46,47,49,50,52,53,55,56,58,59,61,62,64,65,67,68,70,71,73,74,76,77,79,80,82,83,85,86,88,89,91,92,94,95,97,98,100,101,103,104,106,107,109,110,112,113,115,116,118,119,121,122,124,125,127,128,130,131,133,134,136,137,139,140,142,143,145,146,148,149,151,152,154,155,157,158,160,161,163,164,166,167,169,170,172,173,175,176,178,179,181,182,184,185,187,188,190,191,193,194,196,197,199,200,202,203,205,206,208,209,211,212,214,215,217,218,220,221,223,224,226,227,229,230,232,233,235,236,238,239,241,242,244,245,247,248,250,251,253,254,256,257,259,260,262,263,265,266,268,269,271,272) have mixed types. Specify dtype option on import or set low_memory=False.\n",
      "  interactivity=interactivity, compiler=compiler, result=result)\n"
     ]
    },
    {
     "name": "stdout",
     "output_type": "stream",
     "text": [
      "KICH (20531, 91)\n",
      "KIPAN\n",
      "data/TCGA_seq/KIPAN.rnaseqv2__illuminahiseq_rnaseqv2__unc_edu__Level_3__RSEM_genes__data.data.txt\n"
     ]
    },
    {
     "name": "stderr",
     "output_type": "stream",
     "text": [
      "D:\\Anaconda3\\lib\\site-packages\\IPython\\core\\interactiveshell.py:3051: DtypeWarning: Columns (1,2,4,5,7,8,10,11,13,14,16,17,19,20,22,23,25,26,28,29,31,32,34,35,37,38,40,41,43,44,46,47,49,50,52,53,55,56,58,59,61,62,64,65,67,68,70,71,73,74,76,77,79,80,82,83,85,86,88,89,91,92,94,95,97,98,100,101,103,104,106,107,109,110,112,113,115,116,118,119,121,122,124,125,127,128,130,131,133,134,136,137,139,140,142,143,145,146,148,149,151,152,154,155,157,158,160,161,163,164,166,167,169,170,172,173,175,176,178,179,181,182,184,185,187,188,190,191,193,194,196,197,199,200,202,203,205,206,208,209,211,212,214,215,217,218,220,221,223,224,226,227,229,230,232,233,235,236,238,239,241,242,244,245,247,248,250,251,253,254,256,257,259,260,262,263,265,266,268,269,271,272,274,275,277,278,280,281,283,284,286,287,289,290,292,293,295,296,298,299,301,302,304,305,307,308,310,311,313,314,316,317,319,320,322,323,325,326,328,329,331,332,334,335,337,338,340,341,343,344,346,347,349,350,352,353,355,356,358,359,361,362,364,365,367,368,370,371,373,374,376,377,379,380,382,383,385,386,388,389,391,392,394,395,397,398,400,401,403,404,406,407,409,410,412,413,415,416,418,419,421,422,424,425,427,428,430,431,433,434,436,437,439,440,442,443,445,446,448,449,451,452,454,455,457,458,460,461,463,464,466,467,469,470,472,473,475,476,478,479,481,482,484,485,487,488,490,491,493,494,496,497,499,500,502,503,505,506,508,509,511,512,514,515,517,518,520,521,523,524,526,527,529,530,532,533,535,536,538,539,541,542,544,545,547,548,550,551,553,554,556,557,559,560,562,563,565,566,568,569,571,572,574,575,577,578,580,581,583,584,586,587,589,590,592,593,595,596,598,599,601,602,604,605,607,608,610,611,613,614,616,617,619,620,622,623,625,626,628,629,631,632,634,635,637,638,640,641,643,644,646,647,649,650,652,653,655,656,658,659,661,662,664,665,667,668,670,671,673,674,676,677,679,680,682,683,685,686,688,689,691,692,694,695,697,698,700,701,703,704,706,707,709,710,712,713,715,716,718,719,721,722,724,725,727,728,730,731,733,734,736,737,739,740,742,743,745,746,748,749,751,752,754,755,757,758,760,761,763,764,766,767,769,770,772,773,775,776,778,779,781,782,784,785,787,788,790,791,793,794,796,797,799,800,802,803,805,806,808,809,811,812,814,815,817,818,820,821,823,824,826,827,829,830,832,833,835,836,838,839,841,842,844,845,847,848,850,851,853,854,856,857,859,860,862,863,865,866,868,869,871,872,874,875,877,878,880,881,883,884,886,887,889,890,892,893,895,896,898,899,901,902,904,905,907,908,910,911,913,914,916,917,919,920,922,923,925,926,928,929,931,932,934,935,937,938,940,941,943,944,946,947,949,950,952,953,955,956,958,959,961,962,964,965,967,968,970,971,973,974,976,977,979,980,982,983,985,986,988,989,991,992,994,995,997,998,1000,1001,1003,1004,1006,1007,1009,1010,1012,1013,1015,1016,1018,1019,1021,1022,1024,1025,1027,1028,1030,1031,1033,1034,1036,1037,1039,1040,1042,1043,1045,1046,1048,1049,1051,1052,1054,1055,1057,1058,1060,1061,1063,1064,1066,1067,1069,1070,1072,1073,1075,1076,1078,1079,1081,1082,1084,1085,1087,1088,1090,1091,1093,1094,1096,1097,1099,1100,1102,1103,1105,1106,1108,1109,1111,1112,1114,1115,1117,1118,1120,1121,1123,1124,1126,1127,1129,1130,1132,1133,1135,1136,1138,1139,1141,1142,1144,1145,1147,1148,1150,1151,1153,1154,1156,1157,1159,1160,1162,1163,1165,1166,1168,1169,1171,1172,1174,1175,1177,1178,1180,1181,1183,1184,1186,1187,1189,1190,1192,1193,1195,1196,1198,1199,1201,1202,1204,1205,1207,1208,1210,1211,1213,1214,1216,1217,1219,1220,1222,1223,1225,1226,1228,1229,1231,1232,1234,1235,1237,1238,1240,1241,1243,1244,1246,1247,1249,1250,1252,1253,1255,1256,1258,1259,1261,1262,1264,1265,1267,1268,1270,1271,1273,1274,1276,1277,1279,1280,1282,1283,1285,1286,1288,1289,1291,1292,1294,1295,1297,1298,1300,1301,1303,1304,1306,1307,1309,1310,1312,1313,1315,1316,1318,1319,1321,1322,1324,1325,1327,1328,1330,1331,1333,1334,1336,1337,1339,1340,1342,1343,1345,1346,1348,1349,1351,1352,1354,1355,1357,1358,1360,1361,1363,1364,1366,1367,1369,1370,1372,1373,1375,1376,1378,1379,1381,1382,1384,1385,1387,1388,1390,1391,1393,1394,1396,1397,1399,1400,1402,1403,1405,1406,1408,1409,1411,1412,1414,1415,1417,1418,1420,1421,1423,1424,1426,1427,1429,1430,1432,1433,1435,1436,1438,1439,1441,1442,1444,1445,1447,1448,1450,1451,1453,1454,1456,1457,1459,1460,1462,1463,1465,1466,1468,1469,1471,1472,1474,1475,1477,1478,1480,1481,1483,1484,1486,1487,1489,1490,1492,1493,1495,1496,1498,1499,1501,1502,1504,1505,1507,1508,1510,1511,1513,1514,1516,1517,1519,1520,1522,1523,1525,1526,1528,1529,1531,1532,1534,1535,1537,1538,1540,1541,1543,1544,1546,1547,1549,1550,1552,1553,1555,1556,1558,1559,1561,1562,1564,1565,1567,1568,1570,1571,1573,1574,1576,1577,1579,1580,1582,1583,1585,1586,1588,1589,1591,1592,1594,1595,1597,1598,1600,1601,1603,1604,1606,1607,1609,1610,1612,1613,1615,1616,1618,1619,1621,1622,1624,1625,1627,1628,1630,1631,1633,1634,1636,1637,1639,1640,1642,1643,1645,1646,1648,1649,1651,1652,1654,1655,1657,1658,1660,1661,1663,1664,1666,1667,1669,1670,1672,1673,1675,1676,1678,1679,1681,1682,1684,1685,1687,1688,1690,1691,1693,1694,1696,1697,1699,1700,1702,1703,1705,1706,1708,1709,1711,1712,1714,1715,1717,1718,1720,1721,1723,1724,1726,1727,1729,1730,1732,1733,1735,1736,1738,1739,1741,1742,1744,1745,1747,1748,1750,1751,1753,1754,1756,1757,1759,1760,1762,1763,1765,1766,1768,1769,1771,1772,1774,1775,1777,1778,1780,1781,1783,1784,1786,1787,1789,1790,1792,1793,1795,1796,1798,1799,1801,1802,1804,1805,1807,1808,1810,1811,1813,1814,1816,1817,1819,1820,1822,1823,1825,1826,1828,1829,1831,1832,1834,1835,1837,1838,1840,1841,1843,1844,1846,1847,1849,1850,1852,1853,1855,1856,1858,1859,1861,1862,1864,1865,1867,1868,1870,1871,1873,1874,1876,1877,1879,1880,1882,1883,1885,1886,1888,1889,1891,1892,1894,1895,1897,1898,1900,1901,1903,1904,1906,1907,1909,1910,1912,1913,1915,1916,1918,1919,1921,1922,1924,1925,1927,1928,1930,1931,1933,1934,1936,1937,1939,1940,1942,1943,1945,1946,1948,1949,1951,1952,1954,1955,1957,1958,1960,1961,1963,1964,1966,1967,1969,1970,1972,1973,1975,1976,1978,1979,1981,1982,1984,1985,1987,1988,1990,1991,1993,1994,1996,1997,1999,2000,2002,2003,2005,2006,2008,2009,2011,2012,2014,2015,2017,2018,2020,2021,2023,2024,2026,2027,2029,2030,2032,2033,2035,2036,2038,2039,2041,2042,2044,2045,2047,2048,2050,2051,2053,2054,2056,2057,2059,2060,2062,2063,2065,2066,2068,2069,2071,2072,2074,2075,2077,2078,2080,2081,2083,2084,2086,2087,2089,2090,2092,2093,2095,2096,2098,2099,2101,2102,2104,2105,2107,2108,2110,2111,2113,2114,2116,2117,2119,2120,2122,2123,2125,2126,2128,2129,2131,2132,2134,2135,2137,2138,2140,2141,2143,2144,2146,2147,2149,2150,2152,2153,2155,2156,2158,2159,2161,2162,2164,2165,2167,2168,2170,2171,2173,2174,2176,2177,2179,2180,2182,2183,2185,2186,2188,2189,2191,2192,2194,2195,2197,2198,2200,2201,2203,2204,2206,2207,2209,2210,2212,2213,2215,2216,2218,2219,2221,2222,2224,2225,2227,2228,2230,2231,2233,2234,2236,2237,2239,2240,2242,2243,2245,2246,2248,2249,2251,2252,2254,2255,2257,2258,2260,2261,2263,2264,2266,2267,2269,2270,2272,2273,2275,2276,2278,2279,2281,2282,2284,2285,2287,2288,2290,2291,2293,2294,2296,2297,2299,2300,2302,2303,2305,2306,2308,2309,2311,2312,2314,2315,2317,2318,2320,2321,2323,2324,2326,2327,2329,2330,2332,2333,2335,2336,2338,2339,2341,2342,2344,2345,2347,2348,2350,2351,2353,2354,2356,2357,2359,2360,2362,2363,2365,2366,2368,2369,2371,2372,2374,2375,2377,2378,2380,2381,2383,2384,2386,2387,2389,2390,2392,2393,2395,2396,2398,2399,2401,2402,2404,2405,2407,2408,2410,2411,2413,2414,2416,2417,2419,2420,2422,2423,2425,2426,2428,2429,2431,2432,2434,2435,2437,2438,2440,2441,2443,2444,2446,2447,2449,2450,2452,2453,2455,2456,2458,2459,2461,2462,2464,2465,2467,2468,2470,2471,2473,2474,2476,2477,2479,2480,2482,2483,2485,2486,2488,2489,2491,2492,2494,2495,2497,2498,2500,2501,2503,2504,2506,2507,2509,2510,2512,2513,2515,2516,2518,2519,2521,2522,2524,2525,2527,2528,2530,2531,2533,2534,2536,2537,2539,2540,2542,2543,2545,2546,2548,2549,2551,2552,2554,2555,2557,2558,2560,2561,2563,2564,2566,2567,2569,2570,2572,2573,2575,2576,2578,2579,2581,2582,2584,2585,2587,2588,2590,2591,2593,2594,2596,2597,2599,2600,2602,2603,2605,2606,2608,2609,2611,2612,2614,2615,2617,2618,2620,2621,2623,2624,2626,2627,2629,2630,2632,2633,2635,2636,2638,2639,2641,2642,2644,2645,2647,2648,2650,2651,2653,2654,2656,2657,2659,2660,2662,2663,2665,2666,2668,2669,2671,2672,2674,2675,2677,2678,2680,2681,2683,2684,2686,2687,2689,2690,2692,2693,2695,2696,2698,2699,2701,2702,2704,2705,2707,2708,2710,2711,2713,2714,2716,2717,2719,2720,2722,2723,2725,2726,2728,2729,2731,2732,2734,2735,2737,2738,2740,2741,2743,2744,2746,2747,2749,2750,2752,2753,2755,2756,2758,2759,2761,2762,2764,2765,2767,2768,2770,2771,2773,2774,2776,2777,2779,2780,2782,2783,2785,2786,2788,2789,2791,2792,2794,2795,2797,2798,2800,2801,2803,2804,2806,2807,2809,2810,2812,2813,2815,2816,2818,2819,2821,2822,2824,2825,2827,2828,2830,2831,2833,2834,2836,2837,2839,2840,2842,2843,2845,2846,2848,2849,2851,2852,2854,2855,2857,2858,2860,2861,2863,2864,2866,2867,2869,2870,2872,2873,2875,2876,2878,2879,2881,2882,2884,2885,2887,2888,2890,2891,2893,2894,2896,2897,2899,2900,2902,2903,2905,2906,2908,2909,2911,2912,2914,2915,2917,2918,2920,2921,2923,2924,2926,2927,2929,2930,2932,2933,2935,2936,2938,2939,2941,2942,2944,2945,2947,2948,2950,2951,2953,2954,2956,2957,2959,2960,2962,2963,2965,2966,2968,2969,2971,2972,2974,2975,2977,2978,2980,2981,2983,2984,2986,2987,2989,2990,2992,2993,2995,2996,2998,2999,3001,3002,3004,3005,3007,3008,3010,3011,3013,3014,3016,3017,3019,3020,3022,3023,3025,3026,3028,3029,3031,3032,3034,3035,3037,3038,3040,3041,3043,3044,3046,3047,3049,3050,3052,3053,3055,3056,3058,3059) have mixed types. Specify dtype option on import or set low_memory=False.\n",
      "  interactivity=interactivity, compiler=compiler, result=result)\n"
     ]
    },
    {
     "name": "stdout",
     "output_type": "stream",
     "text": [
      "KIPAN (20531, 1020)\n",
      "KIRC\n",
      "data/TCGA_seq/KIRC.rnaseqv2__illuminahiseq_rnaseqv2__unc_edu__Level_3__RSEM_genes__data.data.txt\n"
     ]
    },
    {
     "name": "stderr",
     "output_type": "stream",
     "text": [
      "D:\\Anaconda3\\lib\\site-packages\\IPython\\core\\interactiveshell.py:3051: DtypeWarning: Columns (1,2,4,5,7,8,10,11,13,14,16,17,19,20,22,23,25,26,28,29,31,32,34,35,37,38,40,41,43,44,46,47,49,50,52,53,55,56,58,59,61,62,64,65,67,68,70,71,73,74,76,77,79,80,82,83,85,86,88,89,91,92,94,95,97,98,100,101,103,104,106,107,109,110,112,113,115,116,118,119,121,122,124,125,127,128,130,131,133,134,136,137,139,140,142,143,145,146,148,149,151,152,154,155,157,158,160,161,163,164,166,167,169,170,172,173,175,176,178,179,181,182,184,185,187,188,190,191,193,194,196,197,199,200,202,203,205,206,208,209,211,212,214,215,217,218,220,221,223,224,226,227,229,230,232,233,235,236,238,239,241,242,244,245,247,248,250,251,253,254,256,257,259,260,262,263,265,266,268,269,271,272,274,275,277,278,280,281,283,284,286,287,289,290,292,293,295,296,298,299,301,302,304,305,307,308,310,311,313,314,316,317,319,320,322,323,325,326,328,329,331,332,334,335,337,338,340,341,343,344,346,347,349,350,352,353,355,356,358,359,361,362,364,365,367,368,370,371,373,374,376,377,379,380,382,383,385,386,388,389,391,392,394,395,397,398,400,401,403,404,406,407,409,410,412,413,415,416,418,419,421,422,424,425,427,428,430,431,433,434,436,437,439,440,442,443,445,446,448,449,451,452,454,455,457,458,460,461,463,464,466,467,469,470,472,473,475,476,478,479,481,482,484,485,487,488,490,491,493,494,496,497,499,500,502,503,505,506,508,509,511,512,514,515,517,518,520,521,523,524,526,527,529,530,532,533,535,536,538,539,541,542,544,545,547,548,550,551,553,554,556,557,559,560,562,563,565,566,568,569,571,572,574,575,577,578,580,581,583,584,586,587,589,590,592,593,595,596,598,599,601,602,604,605,607,608,610,611,613,614,616,617,619,620,622,623,625,626,628,629,631,632,634,635,637,638,640,641,643,644,646,647,649,650,652,653,655,656,658,659,661,662,664,665,667,668,670,671,673,674,676,677,679,680,682,683,685,686,688,689,691,692,694,695,697,698,700,701,703,704,706,707,709,710,712,713,715,716,718,719,721,722,724,725,727,728,730,731,733,734,736,737,739,740,742,743,745,746,748,749,751,752,754,755,757,758,760,761,763,764,766,767,769,770,772,773,775,776,778,779,781,782,784,785,787,788,790,791,793,794,796,797,799,800,802,803,805,806,808,809,811,812,814,815,817,818,820,821,823,824,826,827,829,830,832,833,835,836,838,839,841,842,844,845,847,848,850,851,853,854,856,857,859,860,862,863,865,866,868,869,871,872,874,875,877,878,880,881,883,884,886,887,889,890,892,893,895,896,898,899,901,902,904,905,907,908,910,911,913,914,916,917,919,920,922,923,925,926,928,929,931,932,934,935,937,938,940,941,943,944,946,947,949,950,952,953,955,956,958,959,961,962,964,965,967,968,970,971,973,974,976,977,979,980,982,983,985,986,988,989,991,992,994,995,997,998,1000,1001,1003,1004,1006,1007,1009,1010,1012,1013,1015,1016,1018,1019,1021,1022,1024,1025,1027,1028,1030,1031,1033,1034,1036,1037,1039,1040,1042,1043,1045,1046,1048,1049,1051,1052,1054,1055,1057,1058,1060,1061,1063,1064,1066,1067,1069,1070,1072,1073,1075,1076,1078,1079,1081,1082,1084,1085,1087,1088,1090,1091,1093,1094,1096,1097,1099,1100,1102,1103,1105,1106,1108,1109,1111,1112,1114,1115,1117,1118,1120,1121,1123,1124,1126,1127,1129,1130,1132,1133,1135,1136,1138,1139,1141,1142,1144,1145,1147,1148,1150,1151,1153,1154,1156,1157,1159,1160,1162,1163,1165,1166,1168,1169,1171,1172,1174,1175,1177,1178,1180,1181,1183,1184,1186,1187,1189,1190,1192,1193,1195,1196,1198,1199,1201,1202,1204,1205,1207,1208,1210,1211,1213,1214,1216,1217,1219,1220,1222,1223,1225,1226,1228,1229,1231,1232,1234,1235,1237,1238,1240,1241,1243,1244,1246,1247,1249,1250,1252,1253,1255,1256,1258,1259,1261,1262,1264,1265,1267,1268,1270,1271,1273,1274,1276,1277,1279,1280,1282,1283,1285,1286,1288,1289,1291,1292,1294,1295,1297,1298,1300,1301,1303,1304,1306,1307,1309,1310,1312,1313,1315,1316,1318,1319,1321,1322,1324,1325,1327,1328,1330,1331,1333,1334,1336,1337,1339,1340,1342,1343,1345,1346,1348,1349,1351,1352,1354,1355,1357,1358,1360,1361,1363,1364,1366,1367,1369,1370,1372,1373,1375,1376,1378,1379,1381,1382,1384,1385,1387,1388,1390,1391,1393,1394,1396,1397,1399,1400,1402,1403,1405,1406,1408,1409,1411,1412,1414,1415,1417,1418,1420,1421,1423,1424,1426,1427,1429,1430,1432,1433,1435,1436,1438,1439,1441,1442,1444,1445,1447,1448,1450,1451,1453,1454,1456,1457,1459,1460,1462,1463,1465,1466,1468,1469,1471,1472,1474,1475,1477,1478,1480,1481,1483,1484,1486,1487,1489,1490,1492,1493,1495,1496,1498,1499,1501,1502,1504,1505,1507,1508,1510,1511,1513,1514,1516,1517,1519,1520,1522,1523,1525,1526,1528,1529,1531,1532,1534,1535,1537,1538,1540,1541,1543,1544,1546,1547,1549,1550,1552,1553,1555,1556,1558,1559,1561,1562,1564,1565,1567,1568,1570,1571,1573,1574,1576,1577,1579,1580,1582,1583,1585,1586,1588,1589,1591,1592,1594,1595,1597,1598,1600,1601,1603,1604,1606,1607,1609,1610,1612,1613,1615,1616,1618,1619,1621,1622,1624,1625,1627,1628,1630,1631,1633,1634,1636,1637,1639,1640,1642,1643,1645,1646,1648,1649,1651,1652,1654,1655,1657,1658,1660,1661,1663,1664,1666,1667,1669,1670,1672,1673,1675,1676,1678,1679,1681,1682,1684,1685,1687,1688,1690,1691,1693,1694,1696,1697,1699,1700,1702,1703,1705,1706,1708,1709,1711,1712,1714,1715,1717,1718,1720,1721,1723,1724,1726,1727,1729,1730,1732,1733,1735,1736,1738,1739,1741,1742,1744,1745,1747,1748,1750,1751,1753,1754,1756,1757,1759,1760,1762,1763,1765,1766,1768,1769,1771,1772,1774,1775,1777,1778,1780,1781,1783,1784,1786,1787,1789,1790,1792,1793,1795,1796,1798,1799,1801,1802,1804,1805,1807,1808,1810,1811,1813,1814,1816,1817) have mixed types. Specify dtype option on import or set low_memory=False.\n",
      "  interactivity=interactivity, compiler=compiler, result=result)\n"
     ]
    },
    {
     "name": "stdout",
     "output_type": "stream",
     "text": [
      "KIRC (20531, 606)\n",
      "KIRP\n",
      "data/TCGA_seq/KIRP.rnaseqv2__illuminahiseq_rnaseqv2__unc_edu__Level_3__RSEM_genes__data.data.txt\n"
     ]
    },
    {
     "name": "stderr",
     "output_type": "stream",
     "text": [
      "D:\\Anaconda3\\lib\\site-packages\\IPython\\core\\interactiveshell.py:3051: DtypeWarning: Columns (1,2,4,5,7,8,10,11,13,14,16,17,19,20,22,23,25,26,28,29,31,32,34,35,37,38,40,41,43,44,46,47,49,50,52,53,55,56,58,59,61,62,64,65,67,68,70,71,73,74,76,77,79,80,82,83,85,86,88,89,91,92,94,95,97,98,100,101,103,104,106,107,109,110,112,113,115,116,118,119,121,122,124,125,127,128,130,131,133,134,136,137,139,140,142,143,145,146,148,149,151,152,154,155,157,158,160,161,163,164,166,167,169,170,172,173,175,176,178,179,181,182,184,185,187,188,190,191,193,194,196,197,199,200,202,203,205,206,208,209,211,212,214,215,217,218,220,221,223,224,226,227,229,230,232,233,235,236,238,239,241,242,244,245,247,248,250,251,253,254,256,257,259,260,262,263,265,266,268,269,271,272,274,275,277,278,280,281,283,284,286,287,289,290,292,293,295,296,298,299,301,302,304,305,307,308,310,311,313,314,316,317,319,320,322,323,325,326,328,329,331,332,334,335,337,338,340,341,343,344,346,347,349,350,352,353,355,356,358,359,361,362,364,365,367,368,370,371,373,374,376,377,379,380,382,383,385,386,388,389,391,392,394,395,397,398,400,401,403,404,406,407,409,410,412,413,415,416,418,419,421,422,424,425,427,428,430,431,433,434,436,437,439,440,442,443,445,446,448,449,451,452,454,455,457,458,460,461,463,464,466,467,469,470,472,473,475,476,478,479,481,482,484,485,487,488,490,491,493,494,496,497,499,500,502,503,505,506,508,509,511,512,514,515,517,518,520,521,523,524,526,527,529,530,532,533,535,536,538,539,541,542,544,545,547,548,550,551,553,554,556,557,559,560,562,563,565,566,568,569,571,572,574,575,577,578,580,581,583,584,586,587,589,590,592,593,595,596,598,599,601,602,604,605,607,608,610,611,613,614,616,617,619,620,622,623,625,626,628,629,631,632,634,635,637,638,640,641,643,644,646,647,649,650,652,653,655,656,658,659,661,662,664,665,667,668,670,671,673,674,676,677,679,680,682,683,685,686,688,689,691,692,694,695,697,698,700,701,703,704,706,707,709,710,712,713,715,716,718,719,721,722,724,725,727,728,730,731,733,734,736,737,739,740,742,743,745,746,748,749,751,752,754,755,757,758,760,761,763,764,766,767,769,770,772,773,775,776,778,779,781,782,784,785,787,788,790,791,793,794,796,797,799,800,802,803,805,806,808,809,811,812,814,815,817,818,820,821,823,824,826,827,829,830,832,833,835,836,838,839,841,842,844,845,847,848,850,851,853,854,856,857,859,860,862,863,865,866,868,869,871,872,874,875,877,878,880,881,883,884,886,887,889,890,892,893,895,896,898,899,901,902,904,905,907,908,910,911,913,914,916,917,919,920,922,923,925,926,928,929,931,932,934,935,937,938,940,941,943,944,946,947,949,950,952,953,955,956,958,959,961,962,964,965,967,968) have mixed types. Specify dtype option on import or set low_memory=False.\n",
      "  interactivity=interactivity, compiler=compiler, result=result)\n"
     ]
    },
    {
     "name": "stdout",
     "output_type": "stream",
     "text": [
      "KIRP (20531, 323)\n",
      "LAML\n",
      "data/TCGA_seq/LAML.rnaseqv2__illuminahiseq_rnaseqv2__unc_edu__Level_3__RSEM_genes__data.data.txt\n"
     ]
    },
    {
     "name": "stderr",
     "output_type": "stream",
     "text": [
      "D:\\Anaconda3\\lib\\site-packages\\IPython\\core\\interactiveshell.py:3051: DtypeWarning: Columns (1,2,4,5,7,8,10,11,13,14,16,17,19,20,22,23,25,26,28,29,31,32,34,35,37,38,40,41,43,44,46,47,49,50,52,53,55,56,58,59,61,62,64,65,67,68,70,71,73,74,76,77,79,80,82,83,85,86,88,89,91,92,94,95,97,98,100,101,103,104,106,107,109,110,112,113,115,116,118,119,121,122,124,125,127,128,130,131,133,134,136,137,139,140,142,143,145,146,148,149,151,152,154,155,157,158,160,161,163,164,166,167,169,170,172,173,175,176,178,179,181,182,184,185,187,188,190,191,193,194,196,197,199,200,202,203,205,206,208,209,211,212,214,215,217,218,220,221,223,224,226,227,229,230,232,233,235,236,238,239,241,242,244,245,247,248,250,251,253,254,256,257,259,260,262,263,265,266,268,269,271,272,274,275,277,278,280,281,283,284,286,287,289,290,292,293,295,296,298,299,301,302,304,305,307,308,310,311,313,314,316,317,319,320,322,323,325,326,328,329,331,332,334,335,337,338,340,341,343,344,346,347,349,350,352,353,355,356,358,359,361,362,364,365,367,368,370,371,373,374,376,377,379,380,382,383,385,386,388,389,391,392,394,395,397,398,400,401,403,404,406,407,409,410,412,413,415,416,418,419,421,422,424,425,427,428,430,431,433,434,436,437,439,440,442,443,445,446,448,449,451,452,454,455,457,458,460,461,463,464,466,467,469,470,472,473,475,476,478,479,481,482,484,485,487,488,490,491,493,494,496,497,499,500,502,503,505,506,508,509,511,512,514,515,517,518) have mixed types. Specify dtype option on import or set low_memory=False.\n",
      "  interactivity=interactivity, compiler=compiler, result=result)\n"
     ]
    },
    {
     "name": "stdout",
     "output_type": "stream",
     "text": [
      "LAML (20531, 173)\n",
      "LGG\n",
      "data/TCGA_seq/LGG.rnaseqv2__illuminahiseq_rnaseqv2__unc_edu__Level_3__RSEM_genes__data.data.txt\n"
     ]
    },
    {
     "name": "stderr",
     "output_type": "stream",
     "text": [
      "D:\\Anaconda3\\lib\\site-packages\\IPython\\core\\interactiveshell.py:3051: DtypeWarning: Columns (1,2,4,5,7,8,10,11,13,14,16,17,19,20,22,23,25,26,28,29,31,32,34,35,37,38,40,41,43,44,46,47,49,50,52,53,55,56,58,59,61,62,64,65,67,68,70,71,73,74,76,77,79,80,82,83,85,86,88,89,91,92,94,95,97,98,100,101,103,104,106,107,109,110,112,113,115,116,118,119,121,122,124,125,127,128,130,131,133,134,136,137,139,140,142,143,145,146,148,149,151,152,154,155,157,158,160,161,163,164,166,167,169,170,172,173,175,176,178,179,181,182,184,185,187,188,190,191,193,194,196,197,199,200,202,203,205,206,208,209,211,212,214,215,217,218,220,221,223,224,226,227,229,230,232,233,235,236,238,239,241,242,244,245,247,248,250,251,253,254,256,257,259,260,262,263,265,266,268,269,271,272,274,275,277,278,280,281,283,284,286,287,289,290,292,293,295,296,298,299,301,302,304,305,307,308,310,311,313,314,316,317,319,320,322,323,325,326,328,329,331,332,334,335,337,338,340,341,343,344,346,347,349,350,352,353,355,356,358,359,361,362,364,365,367,368,370,371,373,374,376,377,379,380,382,383,385,386,388,389,391,392,394,395,397,398,400,401,403,404,406,407,409,410,412,413,415,416,418,419,421,422,424,425,427,428,430,431,433,434,436,437,439,440,442,443,445,446,448,449,451,452,454,455,457,458,460,461,463,464,466,467,469,470,472,473,475,476,478,479,481,482,484,485,487,488,490,491,493,494,496,497,499,500,502,503,505,506,508,509,511,512,514,515,517,518,520,521,523,524,526,527,529,530,532,533,535,536,538,539,541,542,544,545,547,548,550,551,553,554,556,557,559,560,562,563,565,566,568,569,571,572,574,575,577,578,580,581,583,584,586,587,589,590,592,593,595,596,598,599,601,602,604,605,607,608,610,611,613,614,616,617,619,620,622,623,625,626,628,629,631,632,634,635,637,638,640,641,643,644,646,647,649,650,652,653,655,656,658,659,661,662,664,665,667,668,670,671,673,674,676,677,679,680,682,683,685,686,688,689,691,692,694,695,697,698,700,701,703,704,706,707,709,710,712,713,715,716,718,719,721,722,724,725,727,728,730,731,733,734,736,737,739,740,742,743,745,746,748,749,751,752,754,755,757,758,760,761,763,764,766,767,769,770,772,773,775,776,778,779,781,782,784,785,787,788,790,791,793,794,796,797,799,800,802,803,805,806,808,809,811,812,814,815,817,818,820,821,823,824,826,827,829,830,832,833,835,836,838,839,841,842,844,845,847,848,850,851,853,854,856,857,859,860,862,863,865,866,868,869,871,872,874,875,877,878,880,881,883,884,886,887,889,890,892,893,895,896,898,899,901,902,904,905,907,908,910,911,913,914,916,917,919,920,922,923,925,926,928,929,931,932,934,935,937,938,940,941,943,944,946,947,949,950,952,953,955,956,958,959,961,962,964,965,967,968,970,971,973,974,976,977,979,980,982,983,985,986,988,989,991,992,994,995,997,998,1000,1001,1003,1004,1006,1007,1009,1010,1012,1013,1015,1016,1018,1019,1021,1022,1024,1025,1027,1028,1030,1031,1033,1034,1036,1037,1039,1040,1042,1043,1045,1046,1048,1049,1051,1052,1054,1055,1057,1058,1060,1061,1063,1064,1066,1067,1069,1070,1072,1073,1075,1076,1078,1079,1081,1082,1084,1085,1087,1088,1090,1091,1093,1094,1096,1097,1099,1100,1102,1103,1105,1106,1108,1109,1111,1112,1114,1115,1117,1118,1120,1121,1123,1124,1126,1127,1129,1130,1132,1133,1135,1136,1138,1139,1141,1142,1144,1145,1147,1148,1150,1151,1153,1154,1156,1157,1159,1160,1162,1163,1165,1166,1168,1169,1171,1172,1174,1175,1177,1178,1180,1181,1183,1184,1186,1187,1189,1190,1192,1193,1195,1196,1198,1199,1201,1202,1204,1205,1207,1208,1210,1211,1213,1214,1216,1217,1219,1220,1222,1223,1225,1226,1228,1229,1231,1232,1234,1235,1237,1238,1240,1241,1243,1244,1246,1247,1249,1250,1252,1253,1255,1256,1258,1259,1261,1262,1264,1265,1267,1268,1270,1271,1273,1274,1276,1277,1279,1280,1282,1283,1285,1286,1288,1289,1291,1292,1294,1295,1297,1298,1300,1301,1303,1304,1306,1307,1309,1310,1312,1313,1315,1316,1318,1319,1321,1322,1324,1325,1327,1328,1330,1331,1333,1334,1336,1337,1339,1340,1342,1343,1345,1346,1348,1349,1351,1352,1354,1355,1357,1358,1360,1361,1363,1364,1366,1367,1369,1370,1372,1373,1375,1376,1378,1379,1381,1382,1384,1385,1387,1388,1390,1391,1393,1394,1396,1397,1399,1400,1402,1403,1405,1406,1408,1409,1411,1412,1414,1415,1417,1418,1420,1421,1423,1424,1426,1427,1429,1430,1432,1433,1435,1436,1438,1439,1441,1442,1444,1445,1447,1448,1450,1451,1453,1454,1456,1457,1459,1460,1462,1463,1465,1466,1468,1469,1471,1472,1474,1475,1477,1478,1480,1481,1483,1484,1486,1487,1489,1490,1492,1493,1495,1496,1498,1499,1501,1502,1504,1505,1507,1508,1510,1511,1513,1514,1516,1517,1519,1520,1522,1523,1525,1526,1528,1529,1531,1532,1534,1535,1537,1538,1540,1541,1543,1544,1546,1547,1549,1550,1552,1553,1555,1556,1558,1559,1561,1562,1564,1565,1567,1568,1570,1571,1573,1574,1576,1577,1579,1580,1582,1583,1585,1586,1588,1589) have mixed types. Specify dtype option on import or set low_memory=False.\n",
      "  interactivity=interactivity, compiler=compiler, result=result)\n"
     ]
    },
    {
     "name": "stdout",
     "output_type": "stream",
     "text": [
      "LGG (20531, 530)\n",
      "LIHC\n",
      "data/TCGA_seq/LIHC.rnaseqv2__illuminahiseq_rnaseqv2__unc_edu__Level_3__RSEM_genes__data.data.txt\n"
     ]
    },
    {
     "name": "stderr",
     "output_type": "stream",
     "text": [
      "D:\\Anaconda3\\lib\\site-packages\\IPython\\core\\interactiveshell.py:3051: DtypeWarning: Columns (1,2,4,5,7,8,10,11,13,14,16,17,19,20,22,23,25,26,28,29,31,32,34,35,37,38,40,41,43,44,46,47,49,50,52,53,55,56,58,59,61,62,64,65,67,68,70,71,73,74,76,77,79,80,82,83,85,86,88,89,91,92,94,95,97,98,100,101,103,104,106,107,109,110,112,113,115,116,118,119,121,122,124,125,127,128,130,131,133,134,136,137,139,140,142,143,145,146,148,149,151,152,154,155,157,158,160,161,163,164,166,167,169,170,172,173,175,176,178,179,181,182,184,185,187,188,190,191,193,194,196,197,199,200,202,203,205,206,208,209,211,212,214,215,217,218,220,221,223,224,226,227,229,230,232,233,235,236,238,239,241,242,244,245,247,248,250,251,253,254,256,257,259,260,262,263,265,266,268,269,271,272,274,275,277,278,280,281,283,284,286,287,289,290,292,293,295,296,298,299,301,302,304,305,307,308,310,311,313,314,316,317,319,320,322,323,325,326,328,329,331,332,334,335,337,338,340,341,343,344,346,347,349,350,352,353,355,356,358,359,361,362,364,365,367,368,370,371,373,374,376,377,379,380,382,383,385,386,388,389,391,392,394,395,397,398,400,401,403,404,406,407,409,410,412,413,415,416,418,419,421,422,424,425,427,428,430,431,433,434,436,437,439,440,442,443,445,446,448,449,451,452,454,455,457,458,460,461,463,464,466,467,469,470,472,473,475,476,478,479,481,482,484,485,487,488,490,491,493,494,496,497,499,500,502,503,505,506,508,509,511,512,514,515,517,518,520,521,523,524,526,527,529,530,532,533,535,536,538,539,541,542,544,545,547,548,550,551,553,554,556,557,559,560,562,563,565,566,568,569,571,572,574,575,577,578,580,581,583,584,586,587,589,590,592,593,595,596,598,599,601,602,604,605,607,608,610,611,613,614,616,617,619,620,622,623,625,626,628,629,631,632,634,635,637,638,640,641,643,644,646,647,649,650,652,653,655,656,658,659,661,662,664,665,667,668,670,671,673,674,676,677,679,680,682,683,685,686,688,689,691,692,694,695,697,698,700,701,703,704,706,707,709,710,712,713,715,716,718,719,721,722,724,725,727,728,730,731,733,734,736,737,739,740,742,743,745,746,748,749,751,752,754,755,757,758,760,761,763,764,766,767,769,770,772,773,775,776,778,779,781,782,784,785,787,788,790,791,793,794,796,797,799,800,802,803,805,806,808,809,811,812,814,815,817,818,820,821,823,824,826,827,829,830,832,833,835,836,838,839,841,842,844,845,847,848,850,851,853,854,856,857,859,860,862,863,865,866,868,869,871,872,874,875,877,878,880,881,883,884,886,887,889,890,892,893,895,896,898,899,901,902,904,905,907,908,910,911,913,914,916,917,919,920,922,923,925,926,928,929,931,932,934,935,937,938,940,941,943,944,946,947,949,950,952,953,955,956,958,959,961,962,964,965,967,968,970,971,973,974,976,977,979,980,982,983,985,986,988,989,991,992,994,995,997,998,1000,1001,1003,1004,1006,1007,1009,1010,1012,1013,1015,1016,1018,1019,1021,1022,1024,1025,1027,1028,1030,1031,1033,1034,1036,1037,1039,1040,1042,1043,1045,1046,1048,1049,1051,1052,1054,1055,1057,1058,1060,1061,1063,1064,1066,1067,1069,1070,1072,1073,1075,1076,1078,1079,1081,1082,1084,1085,1087,1088,1090,1091,1093,1094,1096,1097,1099,1100,1102,1103,1105,1106,1108,1109,1111,1112,1114,1115,1117,1118,1120,1121,1123,1124,1126,1127,1129,1130,1132,1133,1135,1136,1138,1139,1141,1142,1144,1145,1147,1148,1150,1151,1153,1154,1156,1157,1159,1160,1162,1163,1165,1166,1168,1169,1171,1172,1174,1175,1177,1178,1180,1181,1183,1184,1186,1187,1189,1190,1192,1193,1195,1196,1198,1199,1201,1202,1204,1205,1207,1208,1210,1211,1213,1214,1216,1217,1219,1220,1222,1223,1225,1226,1228,1229,1231,1232,1234,1235,1237,1238,1240,1241,1243,1244,1246,1247,1249,1250,1252,1253,1255,1256,1258,1259,1261,1262,1264,1265,1267,1268) have mixed types. Specify dtype option on import or set low_memory=False.\n",
      "  interactivity=interactivity, compiler=compiler, result=result)\n"
     ]
    },
    {
     "name": "stdout",
     "output_type": "stream",
     "text": [
      "LIHC (20531, 423)\n",
      "LUAD\n",
      "data/TCGA_seq/LUAD.rnaseqv2__illuminahiseq_rnaseqv2__unc_edu__Level_3__RSEM_genes__data.data.txt\n"
     ]
    },
    {
     "name": "stderr",
     "output_type": "stream",
     "text": [
      "D:\\Anaconda3\\lib\\site-packages\\IPython\\core\\interactiveshell.py:3051: DtypeWarning: Columns (1,2,4,5,7,8,10,11,13,14,16,17,19,20,22,23,25,26,28,29,31,32,34,35,37,38,40,41,43,44,46,47,49,50,52,53,55,56,58,59,61,62,64,65,67,68,70,71,73,74,76,77,79,80,82,83,85,86,88,89,91,92,94,95,97,98,100,101,103,104,106,107,109,110,112,113,115,116,118,119,121,122,124,125,127,128,130,131,133,134,136,137,139,140,142,143,145,146,148,149,151,152,154,155,157,158,160,161,163,164,166,167,169,170,172,173,175,176,178,179,181,182,184,185,187,188,190,191,193,194,196,197,199,200,202,203,205,206,208,209,211,212,214,215,217,218,220,221,223,224,226,227,229,230,232,233,235,236,238,239,241,242,244,245,247,248,250,251,253,254,256,257,259,260,262,263,265,266,268,269,271,272,274,275,277,278,280,281,283,284,286,287,289,290,292,293,295,296,298,299,301,302,304,305,307,308,310,311,313,314,316,317,319,320,322,323,325,326,328,329,331,332,334,335,337,338,340,341,343,344,346,347,349,350,352,353,355,356,358,359,361,362,364,365,367,368,370,371,373,374,376,377,379,380,382,383,385,386,388,389,391,392,394,395,397,398,400,401,403,404,406,407,409,410,412,413,415,416,418,419,421,422,424,425,427,428,430,431,433,434,436,437,439,440,442,443,445,446,448,449,451,452,454,455,457,458,460,461,463,464,466,467,469,470,472,473,475,476,478,479,481,482,484,485,487,488,490,491,493,494,496,497,499,500,502,503,505,506,508,509,511,512,514,515,517,518,520,521,523,524,526,527,529,530,532,533,535,536,538,539,541,542,544,545,547,548,550,551,553,554,556,557,559,560,562,563,565,566,568,569,571,572,574,575,577,578,580,581,583,584,586,587,589,590,592,593,595,596,598,599,601,602,604,605,607,608,610,611,613,614,616,617,619,620,622,623,625,626,628,629,631,632,634,635,637,638,640,641,643,644,646,647,649,650,652,653,655,656,658,659,661,662,664,665,667,668,670,671,673,674,676,677,679,680,682,683,685,686,688,689,691,692,694,695,697,698,700,701,703,704,706,707,709,710,712,713,715,716,718,719,721,722,724,725,727,728,730,731,733,734,736,737,739,740,742,743,745,746,748,749,751,752,754,755,757,758,760,761,763,764,766,767,769,770,772,773,775,776,778,779,781,782,784,785,787,788,790,791,793,794,796,797,799,800,802,803,805,806,808,809,811,812,814,815,817,818,820,821,823,824,826,827,829,830,832,833,835,836,838,839,841,842,844,845,847,848,850,851,853,854,856,857,859,860,862,863,865,866,868,869,871,872,874,875,877,878,880,881,883,884,886,887,889,890,892,893,895,896,898,899,901,902,904,905,907,908,910,911,913,914,916,917,919,920,922,923,925,926,928,929,931,932,934,935,937,938,940,941,943,944,946,947,949,950,952,953,955,956,958,959,961,962,964,965,967,968,970,971,973,974,976,977,979,980,982,983,985,986,988,989,991,992,994,995,997,998,1000,1001,1003,1004,1006,1007,1009,1010,1012,1013,1015,1016,1018,1019,1021,1022,1024,1025,1027,1028,1030,1031,1033,1034,1036,1037,1039,1040,1042,1043,1045,1046,1048,1049,1051,1052,1054,1055,1057,1058,1060,1061,1063,1064,1066,1067,1069,1070,1072,1073,1075,1076,1078,1079,1081,1082,1084,1085,1087,1088,1090,1091,1093,1094,1096,1097,1099,1100,1102,1103,1105,1106,1108,1109,1111,1112,1114,1115,1117,1118,1120,1121,1123,1124,1126,1127,1129,1130,1132,1133,1135,1136,1138,1139,1141,1142,1144,1145,1147,1148,1150,1151,1153,1154,1156,1157,1159,1160,1162,1163,1165,1166,1168,1169,1171,1172,1174,1175,1177,1178,1180,1181,1183,1184,1186,1187,1189,1190,1192,1193,1195,1196,1198,1199,1201,1202,1204,1205,1207,1208,1210,1211,1213,1214,1216,1217,1219,1220,1222,1223,1225,1226,1228,1229,1231,1232,1234,1235,1237,1238,1240,1241,1243,1244,1246,1247,1249,1250,1252,1253,1255,1256,1258,1259,1261,1262,1264,1265,1267,1268,1270,1271,1273,1274,1276,1277,1279,1280,1282,1283,1285,1286,1288,1289,1291,1292,1294,1295,1297,1298,1300,1301,1303,1304,1306,1307,1309,1310,1312,1313,1315,1316,1318,1319,1321,1322,1324,1325,1327,1328,1330,1331,1333,1334,1336,1337,1339,1340,1342,1343,1345,1346,1348,1349,1351,1352,1354,1355,1357,1358,1360,1361,1363,1364,1366,1367,1369,1370,1372,1373,1375,1376,1378,1379,1381,1382,1384,1385,1387,1388,1390,1391,1393,1394,1396,1397,1399,1400,1402,1403,1405,1406,1408,1409,1411,1412,1414,1415,1417,1418,1420,1421,1423,1424,1426,1427,1429,1430,1432,1433,1435,1436,1438,1439,1441,1442,1444,1445,1447,1448,1450,1451,1453,1454,1456,1457,1459,1460,1462,1463,1465,1466,1468,1469,1471,1472,1474,1475,1477,1478,1480,1481,1483,1484,1486,1487,1489,1490,1492,1493,1495,1496,1498,1499,1501,1502,1504,1505,1507,1508,1510,1511,1513,1514,1516,1517,1519,1520,1522,1523,1525,1526,1528,1529,1531,1532,1534,1535,1537,1538,1540,1541,1543,1544,1546,1547,1549,1550,1552,1553,1555,1556,1558,1559,1561,1562,1564,1565,1567,1568,1570,1571,1573,1574,1576,1577,1579,1580,1582,1583,1585,1586,1588,1589,1591,1592,1594,1595,1597,1598,1600,1601,1603,1604,1606,1607,1609,1610,1612,1613,1615,1616,1618,1619,1621,1622,1624,1625,1627,1628,1630,1631,1633,1634,1636,1637,1639,1640,1642,1643,1645,1646,1648,1649,1651,1652,1654,1655,1657,1658,1660,1661,1663,1664,1666,1667,1669,1670,1672,1673,1675,1676,1678,1679,1681,1682,1684,1685,1687,1688,1690,1691,1693,1694,1696,1697,1699,1700,1702,1703,1705,1706,1708,1709,1711,1712,1714,1715,1717,1718,1720,1721,1723,1724,1726,1727) have mixed types. Specify dtype option on import or set low_memory=False.\n",
      "  interactivity=interactivity, compiler=compiler, result=result)\n"
     ]
    },
    {
     "name": "stdout",
     "output_type": "stream",
     "text": [
      "LUAD (20531, 576)\n",
      "LUSC\n",
      "data/TCGA_seq/LUSC.rnaseqv2__illuminahiseq_rnaseqv2__unc_edu__Level_3__RSEM_genes__data.data.txt\n"
     ]
    },
    {
     "name": "stderr",
     "output_type": "stream",
     "text": [
      "D:\\Anaconda3\\lib\\site-packages\\IPython\\core\\interactiveshell.py:3051: DtypeWarning: Columns (1,2,4,5,7,8,10,11,13,14,16,17,19,20,22,23,25,26,28,29,31,32,34,35,37,38,40,41,43,44,46,47,49,50,52,53,55,56,58,59,61,62,64,65,67,68,70,71,73,74,76,77,79,80,82,83,85,86,88,89,91,92,94,95,97,98,100,101,103,104,106,107,109,110,112,113,115,116,118,119,121,122,124,125,127,128,130,131,133,134,136,137,139,140,142,143,145,146,148,149,151,152,154,155,157,158,160,161,163,164,166,167,169,170,172,173,175,176,178,179,181,182,184,185,187,188,190,191,193,194,196,197,199,200,202,203,205,206,208,209,211,212,214,215,217,218,220,221,223,224,226,227,229,230,232,233,235,236,238,239,241,242,244,245,247,248,250,251,253,254,256,257,259,260,262,263,265,266,268,269,271,272,274,275,277,278,280,281,283,284,286,287,289,290,292,293,295,296,298,299,301,302,304,305,307,308,310,311,313,314,316,317,319,320,322,323,325,326,328,329,331,332,334,335,337,338,340,341,343,344,346,347,349,350,352,353,355,356,358,359,361,362,364,365,367,368,370,371,373,374,376,377,379,380,382,383,385,386,388,389,391,392,394,395,397,398,400,401,403,404,406,407,409,410,412,413,415,416,418,419,421,422,424,425,427,428,430,431,433,434,436,437,439,440,442,443,445,446,448,449,451,452,454,455,457,458,460,461,463,464,466,467,469,470,472,473,475,476,478,479,481,482,484,485,487,488,490,491,493,494,496,497,499,500,502,503,505,506,508,509,511,512,514,515,517,518,520,521,523,524,526,527,529,530,532,533,535,536,538,539,541,542,544,545,547,548,550,551,553,554,556,557,559,560,562,563,565,566,568,569,571,572,574,575,577,578,580,581,583,584,586,587,589,590,592,593,595,596,598,599,601,602,604,605,607,608,610,611,613,614,616,617,619,620,622,623,625,626,628,629,631,632,634,635,637,638,640,641,643,644,646,647,649,650,652,653,655,656,658,659,661,662,664,665,667,668,670,671,673,674,676,677,679,680,682,683,685,686,688,689,691,692,694,695,697,698,700,701,703,704,706,707,709,710,712,713,715,716,718,719,721,722,724,725,727,728,730,731,733,734,736,737,739,740,742,743,745,746,748,749,751,752,754,755,757,758,760,761,763,764,766,767,769,770,772,773,775,776,778,779,781,782,784,785,787,788,790,791,793,794,796,797,799,800,802,803,805,806,808,809,811,812,814,815,817,818,820,821,823,824,826,827,829,830,832,833,835,836,838,839,841,842,844,845,847,848,850,851,853,854,856,857,859,860,862,863,865,866,868,869,871,872,874,875,877,878,880,881,883,884,886,887,889,890,892,893,895,896,898,899,901,902,904,905,907,908,910,911,913,914,916,917,919,920,922,923,925,926,928,929,931,932,934,935,937,938,940,941,943,944,946,947,949,950,952,953,955,956,958,959,961,962,964,965,967,968,970,971,973,974,976,977,979,980,982,983,985,986,988,989,991,992,994,995,997,998,1000,1001,1003,1004,1006,1007,1009,1010,1012,1013,1015,1016,1018,1019,1021,1022,1024,1025,1027,1028,1030,1031,1033,1034,1036,1037,1039,1040,1042,1043,1045,1046,1048,1049,1051,1052,1054,1055,1057,1058,1060,1061,1063,1064,1066,1067,1069,1070,1072,1073,1075,1076,1078,1079,1081,1082,1084,1085,1087,1088,1090,1091,1093,1094,1096,1097,1099,1100,1102,1103,1105,1106,1108,1109,1111,1112,1114,1115,1117,1118,1120,1121,1123,1124,1126,1127,1129,1130,1132,1133,1135,1136,1138,1139,1141,1142,1144,1145,1147,1148,1150,1151,1153,1154,1156,1157,1159,1160,1162,1163,1165,1166,1168,1169,1171,1172,1174,1175,1177,1178,1180,1181,1183,1184,1186,1187,1189,1190,1192,1193,1195,1196,1198,1199,1201,1202,1204,1205,1207,1208,1210,1211,1213,1214,1216,1217,1219,1220,1222,1223,1225,1226,1228,1229,1231,1232,1234,1235,1237,1238,1240,1241,1243,1244,1246,1247,1249,1250,1252,1253,1255,1256,1258,1259,1261,1262,1264,1265,1267,1268,1270,1271,1273,1274,1276,1277,1279,1280,1282,1283,1285,1286,1288,1289,1291,1292,1294,1295,1297,1298,1300,1301,1303,1304,1306,1307,1309,1310,1312,1313,1315,1316,1318,1319,1321,1322,1324,1325,1327,1328,1330,1331,1333,1334,1336,1337,1339,1340,1342,1343,1345,1346,1348,1349,1351,1352,1354,1355,1357,1358,1360,1361,1363,1364,1366,1367,1369,1370,1372,1373,1375,1376,1378,1379,1381,1382,1384,1385,1387,1388,1390,1391,1393,1394,1396,1397,1399,1400,1402,1403,1405,1406,1408,1409,1411,1412,1414,1415,1417,1418,1420,1421,1423,1424,1426,1427,1429,1430,1432,1433,1435,1436,1438,1439,1441,1442,1444,1445,1447,1448,1450,1451,1453,1454,1456,1457,1459,1460,1462,1463,1465,1466,1468,1469,1471,1472,1474,1475,1477,1478,1480,1481,1483,1484,1486,1487,1489,1490,1492,1493,1495,1496,1498,1499,1501,1502,1504,1505,1507,1508,1510,1511,1513,1514,1516,1517,1519,1520,1522,1523,1525,1526,1528,1529,1531,1532,1534,1535,1537,1538,1540,1541,1543,1544,1546,1547,1549,1550,1552,1553,1555,1556,1558,1559,1561,1562,1564,1565,1567,1568,1570,1571,1573,1574,1576,1577,1579,1580,1582,1583,1585,1586,1588,1589,1591,1592,1594,1595,1597,1598,1600,1601,1603,1604,1606,1607,1609,1610,1612,1613,1615,1616,1618,1619,1621,1622,1624,1625,1627,1628,1630,1631,1633,1634,1636,1637,1639,1640,1642,1643,1645,1646,1648,1649,1651,1652,1654,1655) have mixed types. Specify dtype option on import or set low_memory=False.\n",
      "  interactivity=interactivity, compiler=compiler, result=result)\n"
     ]
    },
    {
     "name": "stdout",
     "output_type": "stream",
     "text": [
      "LUSC (20531, 552)\n",
      "MESO\n",
      "data/TCGA_seq/MESO.rnaseqv2__illuminahiseq_rnaseqv2__unc_edu__Level_3__RSEM_genes__data.data.txt\n"
     ]
    },
    {
     "name": "stderr",
     "output_type": "stream",
     "text": [
      "D:\\Anaconda3\\lib\\site-packages\\IPython\\core\\interactiveshell.py:3051: DtypeWarning: Columns (1,2,4,5,7,8,10,11,13,14,16,17,19,20,22,23,25,26,28,29,31,32,34,35,37,38,40,41,43,44,46,47,49,50,52,53,55,56,58,59,61,62,64,65,67,68,70,71,73,74,76,77,79,80,82,83,85,86,88,89,91,92,94,95,97,98,100,101,103,104,106,107,109,110,112,113,115,116,118,119,121,122,124,125,127,128,130,131,133,134,136,137,139,140,142,143,145,146,148,149,151,152,154,155,157,158,160,161,163,164,166,167,169,170,172,173,175,176,178,179,181,182,184,185,187,188,190,191,193,194,196,197,199,200,202,203,205,206,208,209,211,212,214,215,217,218,220,221,223,224,226,227,229,230,232,233,235,236,238,239,241,242,244,245,247,248,250,251,253,254,256,257,259,260) have mixed types. Specify dtype option on import or set low_memory=False.\n",
      "  interactivity=interactivity, compiler=compiler, result=result)\n"
     ]
    },
    {
     "name": "stdout",
     "output_type": "stream",
     "text": [
      "MESO (20531, 87)\n",
      "OV\n",
      "data/TCGA_seq/OV.rnaseqv2__illuminahiseq_rnaseqv2__unc_edu__Level_3__RSEM_genes__data.data.txt\n"
     ]
    },
    {
     "name": "stderr",
     "output_type": "stream",
     "text": [
      "D:\\Anaconda3\\lib\\site-packages\\IPython\\core\\interactiveshell.py:3051: DtypeWarning: Columns (1,2,4,5,7,8,10,11,13,14,16,17,19,20,22,23,25,26,28,29,31,32,34,35,37,38,40,41,43,44,46,47,49,50,52,53,55,56,58,59,61,62,64,65,67,68,70,71,73,74,76,77,79,80,82,83,85,86,88,89,91,92,94,95,97,98,100,101,103,104,106,107,109,110,112,113,115,116,118,119,121,122,124,125,127,128,130,131,133,134,136,137,139,140,142,143,145,146,148,149,151,152,154,155,157,158,160,161,163,164,166,167,169,170,172,173,175,176,178,179,181,182,184,185,187,188,190,191,193,194,196,197,199,200,202,203,205,206,208,209,211,212,214,215,217,218,220,221,223,224,226,227,229,230,232,233,235,236,238,239,241,242,244,245,247,248,250,251,253,254,256,257,259,260,262,263,265,266,268,269,271,272,274,275,277,278,280,281,283,284,286,287,289,290,292,293,295,296,298,299,301,302,304,305,307,308,310,311,313,314,316,317,319,320,322,323,325,326,328,329,331,332,334,335,337,338,340,341,343,344,346,347,349,350,352,353,355,356,358,359,361,362,364,365,367,368,370,371,373,374,376,377,379,380,382,383,385,386,388,389,391,392,394,395,397,398,400,401,403,404,406,407,409,410,412,413,415,416,418,419,421,422,424,425,427,428,430,431,433,434,436,437,439,440,442,443,445,446,448,449,451,452,454,455,457,458,460,461,463,464,466,467,469,470,472,473,475,476,478,479,481,482,484,485,487,488,490,491,493,494,496,497,499,500,502,503,505,506,508,509,511,512,514,515,517,518,520,521,523,524,526,527,529,530,532,533,535,536,538,539,541,542,544,545,547,548,550,551,553,554,556,557,559,560,562,563,565,566,568,569,571,572,574,575,577,578,580,581,583,584,586,587,589,590,592,593,595,596,598,599,601,602,604,605,607,608,610,611,613,614,616,617,619,620,622,623,625,626,628,629,631,632,634,635,637,638,640,641,643,644,646,647,649,650,652,653,655,656,658,659,661,662,664,665,667,668,670,671,673,674,676,677,679,680,682,683,685,686,688,689,691,692,694,695,697,698,700,701,703,704,706,707,709,710,712,713,715,716,718,719,721,722,724,725,727,728,730,731,733,734,736,737,739,740,742,743,745,746,748,749,751,752,754,755,757,758,760,761,763,764,766,767,769,770,772,773,775,776,778,779,781,782,784,785,787,788,790,791,793,794,796,797,799,800,802,803,805,806,808,809,811,812,814,815,817,818,820,821,823,824,826,827,829,830,832,833,835,836,838,839,841,842,844,845,847,848,850,851,853,854,856,857,859,860,862,863,865,866,868,869,871,872,874,875,877,878,880,881,883,884,886,887,889,890,892,893,895,896,898,899,901,902,904,905,907,908,910,911,913,914,916,917,919,920) have mixed types. Specify dtype option on import or set low_memory=False.\n",
      "  interactivity=interactivity, compiler=compiler, result=result)\n"
     ]
    },
    {
     "name": "stdout",
     "output_type": "stream",
     "text": [
      "OV (20531, 307)\n",
      "PAAD\n",
      "data/TCGA_seq/PAAD.rnaseqv2__illuminahiseq_rnaseqv2__unc_edu__Level_3__RSEM_genes__data.data.txt\n"
     ]
    },
    {
     "name": "stderr",
     "output_type": "stream",
     "text": [
      "D:\\Anaconda3\\lib\\site-packages\\IPython\\core\\interactiveshell.py:3051: DtypeWarning: Columns (1,2,4,5,7,8,10,11,13,14,16,17,19,20,22,23,25,26,28,29,31,32,34,35,37,38,40,41,43,44,46,47,49,50,52,53,55,56,58,59,61,62,64,65,67,68,70,71,73,74,76,77,79,80,82,83,85,86,88,89,91,92,94,95,97,98,100,101,103,104,106,107,109,110,112,113,115,116,118,119,121,122,124,125,127,128,130,131,133,134,136,137,139,140,142,143,145,146,148,149,151,152,154,155,157,158,160,161,163,164,166,167,169,170,172,173,175,176,178,179,181,182,184,185,187,188,190,191,193,194,196,197,199,200,202,203,205,206,208,209,211,212,214,215,217,218,220,221,223,224,226,227,229,230,232,233,235,236,238,239,241,242,244,245,247,248,250,251,253,254,256,257,259,260,262,263,265,266,268,269,271,272,274,275,277,278,280,281,283,284,286,287,289,290,292,293,295,296,298,299,301,302,304,305,307,308,310,311,313,314,316,317,319,320,322,323,325,326,328,329,331,332,334,335,337,338,340,341,343,344,346,347,349,350,352,353,355,356,358,359,361,362,364,365,367,368,370,371,373,374,376,377,379,380,382,383,385,386,388,389,391,392,394,395,397,398,400,401,403,404,406,407,409,410,412,413,415,416,418,419,421,422,424,425,427,428,430,431,433,434,436,437,439,440,442,443,445,446,448,449,451,452,454,455,457,458,460,461,463,464,466,467,469,470,472,473,475,476,478,479,481,482,484,485,487,488,490,491,493,494,496,497,499,500,502,503,505,506,508,509,511,512,514,515,517,518,520,521,523,524,526,527,529,530,532,533,535,536,538,539,541,542,544,545,547,548) have mixed types. Specify dtype option on import or set low_memory=False.\n",
      "  interactivity=interactivity, compiler=compiler, result=result)\n"
     ]
    },
    {
     "name": "stdout",
     "output_type": "stream",
     "text": [
      "PAAD (20531, 183)\n",
      "PCPG\n",
      "data/TCGA_seq/PCPG.rnaseqv2__illuminahiseq_rnaseqv2__unc_edu__Level_3__RSEM_genes__data.data.txt\n"
     ]
    },
    {
     "name": "stderr",
     "output_type": "stream",
     "text": [
      "D:\\Anaconda3\\lib\\site-packages\\IPython\\core\\interactiveshell.py:3051: DtypeWarning: Columns (1,2,4,5,7,8,10,11,13,14,16,17,19,20,22,23,25,26,28,29,31,32,34,35,37,38,40,41,43,44,46,47,49,50,52,53,55,56,58,59,61,62,64,65,67,68,70,71,73,74,76,77,79,80,82,83,85,86,88,89,91,92,94,95,97,98,100,101,103,104,106,107,109,110,112,113,115,116,118,119,121,122,124,125,127,128,130,131,133,134,136,137,139,140,142,143,145,146,148,149,151,152,154,155,157,158,160,161,163,164,166,167,169,170,172,173,175,176,178,179,181,182,184,185,187,188,190,191,193,194,196,197,199,200,202,203,205,206,208,209,211,212,214,215,217,218,220,221,223,224,226,227,229,230,232,233,235,236,238,239,241,242,244,245,247,248,250,251,253,254,256,257,259,260,262,263,265,266,268,269,271,272,274,275,277,278,280,281,283,284,286,287,289,290,292,293,295,296,298,299,301,302,304,305,307,308,310,311,313,314,316,317,319,320,322,323,325,326,328,329,331,332,334,335,337,338,340,341,343,344,346,347,349,350,352,353,355,356,358,359,361,362,364,365,367,368,370,371,373,374,376,377,379,380,382,383,385,386,388,389,391,392,394,395,397,398,400,401,403,404,406,407,409,410,412,413,415,416,418,419,421,422,424,425,427,428,430,431,433,434,436,437,439,440,442,443,445,446,448,449,451,452,454,455,457,458,460,461,463,464,466,467,469,470,472,473,475,476,478,479,481,482,484,485,487,488,490,491,493,494,496,497,499,500,502,503,505,506,508,509,511,512,514,515,517,518,520,521,523,524,526,527,529,530,532,533,535,536,538,539,541,542,544,545,547,548,550,551,553,554,556,557,559,560) have mixed types. Specify dtype option on import or set low_memory=False.\n",
      "  interactivity=interactivity, compiler=compiler, result=result)\n"
     ]
    },
    {
     "name": "stdout",
     "output_type": "stream",
     "text": [
      "PCPG (20531, 187)\n",
      "PRAD\n",
      "data/TCGA_seq/PRAD.rnaseqv2__illuminahiseq_rnaseqv2__unc_edu__Level_3__RSEM_genes__data.data.txt\n"
     ]
    },
    {
     "name": "stderr",
     "output_type": "stream",
     "text": [
      "D:\\Anaconda3\\lib\\site-packages\\IPython\\core\\interactiveshell.py:3051: DtypeWarning: Columns (1,2,4,5,7,8,10,11,13,14,16,17,19,20,22,23,25,26,28,29,31,32,34,35,37,38,40,41,43,44,46,47,49,50,52,53,55,56,58,59,61,62,64,65,67,68,70,71,73,74,76,77,79,80,82,83,85,86,88,89,91,92,94,95,97,98,100,101,103,104,106,107,109,110,112,113,115,116,118,119,121,122,124,125,127,128,130,131,133,134,136,137,139,140,142,143,145,146,148,149,151,152,154,155,157,158,160,161,163,164,166,167,169,170,172,173,175,176,178,179,181,182,184,185,187,188,190,191,193,194,196,197,199,200,202,203,205,206,208,209,211,212,214,215,217,218,220,221,223,224,226,227,229,230,232,233,235,236,238,239,241,242,244,245,247,248,250,251,253,254,256,257,259,260,262,263,265,266,268,269,271,272,274,275,277,278,280,281,283,284,286,287,289,290,292,293,295,296,298,299,301,302,304,305,307,308,310,311,313,314,316,317,319,320,322,323,325,326,328,329,331,332,334,335,337,338,340,341,343,344,346,347,349,350,352,353,355,356,358,359,361,362,364,365,367,368,370,371,373,374,376,377,379,380,382,383,385,386,388,389,391,392,394,395,397,398,400,401,403,404,406,407,409,410,412,413,415,416,418,419,421,422,424,425,427,428,430,431,433,434,436,437,439,440,442,443,445,446,448,449,451,452,454,455,457,458,460,461,463,464,466,467,469,470,472,473,475,476,478,479,481,482,484,485,487,488,490,491,493,494,496,497,499,500,502,503,505,506,508,509,511,512,514,515,517,518,520,521,523,524,526,527,529,530,532,533,535,536,538,539,541,542,544,545,547,548,550,551,553,554,556,557,559,560,562,563,565,566,568,569,571,572,574,575,577,578,580,581,583,584,586,587,589,590,592,593,595,596,598,599,601,602,604,605,607,608,610,611,613,614,616,617,619,620,622,623,625,626,628,629,631,632,634,635,637,638,640,641,643,644,646,647,649,650,652,653,655,656,658,659,661,662,664,665,667,668,670,671,673,674,676,677,679,680,682,683,685,686,688,689,691,692,694,695,697,698,700,701,703,704,706,707,709,710,712,713,715,716,718,719,721,722,724,725,727,728,730,731,733,734,736,737,739,740,742,743,745,746,748,749,751,752,754,755,757,758,760,761,763,764,766,767,769,770,772,773,775,776,778,779,781,782,784,785,787,788,790,791,793,794,796,797,799,800,802,803,805,806,808,809,811,812,814,815,817,818,820,821,823,824,826,827,829,830,832,833,835,836,838,839,841,842,844,845,847,848,850,851,853,854,856,857,859,860,862,863,865,866,868,869,871,872,874,875,877,878,880,881,883,884,886,887,889,890,892,893,895,896,898,899,901,902,904,905,907,908,910,911,913,914,916,917,919,920,922,923,925,926,928,929,931,932,934,935,937,938,940,941,943,944,946,947,949,950,952,953,955,956,958,959,961,962,964,965,967,968,970,971,973,974,976,977,979,980,982,983,985,986,988,989,991,992,994,995,997,998,1000,1001,1003,1004,1006,1007,1009,1010,1012,1013,1015,1016,1018,1019,1021,1022,1024,1025,1027,1028,1030,1031,1033,1034,1036,1037,1039,1040,1042,1043,1045,1046,1048,1049,1051,1052,1054,1055,1057,1058,1060,1061,1063,1064,1066,1067,1069,1070,1072,1073,1075,1076,1078,1079,1081,1082,1084,1085,1087,1088,1090,1091,1093,1094,1096,1097,1099,1100,1102,1103,1105,1106,1108,1109,1111,1112,1114,1115,1117,1118,1120,1121,1123,1124,1126,1127,1129,1130,1132,1133,1135,1136,1138,1139,1141,1142,1144,1145,1147,1148,1150,1151,1153,1154,1156,1157,1159,1160,1162,1163,1165,1166,1168,1169,1171,1172,1174,1175,1177,1178,1180,1181,1183,1184,1186,1187,1189,1190,1192,1193,1195,1196,1198,1199,1201,1202,1204,1205,1207,1208,1210,1211,1213,1214,1216,1217,1219,1220,1222,1223,1225,1226,1228,1229,1231,1232,1234,1235,1237,1238,1240,1241,1243,1244,1246,1247,1249,1250,1252,1253,1255,1256,1258,1259,1261,1262,1264,1265,1267,1268,1270,1271,1273,1274,1276,1277,1279,1280,1282,1283,1285,1286,1288,1289,1291,1292,1294,1295,1297,1298,1300,1301,1303,1304,1306,1307,1309,1310,1312,1313,1315,1316,1318,1319,1321,1322,1324,1325,1327,1328,1330,1331,1333,1334,1336,1337,1339,1340,1342,1343,1345,1346,1348,1349,1351,1352,1354,1355,1357,1358,1360,1361,1363,1364,1366,1367,1369,1370,1372,1373,1375,1376,1378,1379,1381,1382,1384,1385,1387,1388,1390,1391,1393,1394,1396,1397,1399,1400,1402,1403,1405,1406,1408,1409,1411,1412,1414,1415,1417,1418,1420,1421,1423,1424,1426,1427,1429,1430,1432,1433,1435,1436,1438,1439,1441,1442,1444,1445,1447,1448,1450,1451,1453,1454,1456,1457,1459,1460,1462,1463,1465,1466,1468,1469,1471,1472,1474,1475,1477,1478,1480,1481,1483,1484,1486,1487,1489,1490,1492,1493,1495,1496,1498,1499,1501,1502,1504,1505,1507,1508,1510,1511,1513,1514,1516,1517,1519,1520,1522,1523,1525,1526,1528,1529,1531,1532,1534,1535,1537,1538,1540,1541,1543,1544,1546,1547,1549,1550,1552,1553,1555,1556,1558,1559,1561,1562,1564,1565,1567,1568,1570,1571,1573,1574,1576,1577,1579,1580,1582,1583,1585,1586,1588,1589,1591,1592,1594,1595,1597,1598,1600,1601,1603,1604,1606,1607,1609,1610,1612,1613,1615,1616,1618,1619,1621,1622,1624,1625,1627,1628,1630,1631,1633,1634,1636,1637,1639,1640,1642,1643,1645,1646,1648,1649) have mixed types. Specify dtype option on import or set low_memory=False.\n",
      "  interactivity=interactivity, compiler=compiler, result=result)\n"
     ]
    },
    {
     "name": "stdout",
     "output_type": "stream",
     "text": [
      "PRAD (20531, 550)\n",
      "READ\n",
      "data/TCGA_seq/READ.rnaseqv2__illuminaga_rnaseqv2__unc_edu__Level_3__RSEM_genes__data.data.txt\n"
     ]
    },
    {
     "name": "stderr",
     "output_type": "stream",
     "text": [
      "D:\\Anaconda3\\lib\\site-packages\\IPython\\core\\interactiveshell.py:3051: DtypeWarning: Columns (1,2,4,5,7,8,10,11,13,14,16,17,19,20,22,23,25,26,28,29,31,32,34,35,37,38,40,41,43,44,46,47,49,50,52,53,55,56,58,59,61,62,64,65,67,68,70,71,73,74,76,77,79,80,82,83,85,86,88,89,91,92,94,95,97,98,100,101,103,104,106,107,109,110,112,113,115,116,118,119,121,122,124,125,127,128,130,131,133,134,136,137,139,140,142,143,145,146,148,149,151,152,154,155,157,158,160,161,163,164,166,167,169,170,172,173,175,176,178,179,181,182,184,185,187,188,190,191,193,194,196,197,199,200,202,203,205,206,208,209,211,212,214,215) have mixed types. Specify dtype option on import or set low_memory=False.\n",
      "  interactivity=interactivity, compiler=compiler, result=result)\n"
     ]
    },
    {
     "name": "stdout",
     "output_type": "stream",
     "text": [
      "READ (20531, 72)\n",
      "SARC\n",
      "data/TCGA_seq/SARC.rnaseqv2__illuminahiseq_rnaseqv2__unc_edu__Level_3__RSEM_genes__data.data.txt\n"
     ]
    },
    {
     "name": "stderr",
     "output_type": "stream",
     "text": [
      "D:\\Anaconda3\\lib\\site-packages\\IPython\\core\\interactiveshell.py:3051: DtypeWarning: Columns (1,2,4,5,7,8,10,11,13,14,16,17,19,20,22,23,25,26,28,29,31,32,34,35,37,38,40,41,43,44,46,47,49,50,52,53,55,56,58,59,61,62,64,65,67,68,70,71,73,74,76,77,79,80,82,83,85,86,88,89,91,92,94,95,97,98,100,101,103,104,106,107,109,110,112,113,115,116,118,119,121,122,124,125,127,128,130,131,133,134,136,137,139,140,142,143,145,146,148,149,151,152,154,155,157,158,160,161,163,164,166,167,169,170,172,173,175,176,178,179,181,182,184,185,187,188,190,191,193,194,196,197,199,200,202,203,205,206,208,209,211,212,214,215,217,218,220,221,223,224,226,227,229,230,232,233,235,236,238,239,241,242,244,245,247,248,250,251,253,254,256,257,259,260,262,263,265,266,268,269,271,272,274,275,277,278,280,281,283,284,286,287,289,290,292,293,295,296,298,299,301,302,304,305,307,308,310,311,313,314,316,317,319,320,322,323,325,326,328,329,331,332,334,335,337,338,340,341,343,344,346,347,349,350,352,353,355,356,358,359,361,362,364,365,367,368,370,371,373,374,376,377,379,380,382,383,385,386,388,389,391,392,394,395,397,398,400,401,403,404,406,407,409,410,412,413,415,416,418,419,421,422,424,425,427,428,430,431,433,434,436,437,439,440,442,443,445,446,448,449,451,452,454,455,457,458,460,461,463,464,466,467,469,470,472,473,475,476,478,479,481,482,484,485,487,488,490,491,493,494,496,497,499,500,502,503,505,506,508,509,511,512,514,515,517,518,520,521,523,524,526,527,529,530,532,533,535,536,538,539,541,542,544,545,547,548,550,551,553,554,556,557,559,560,562,563,565,566,568,569,571,572,574,575,577,578,580,581,583,584,586,587,589,590,592,593,595,596,598,599,601,602,604,605,607,608,610,611,613,614,616,617,619,620,622,623,625,626,628,629,631,632,634,635,637,638,640,641,643,644,646,647,649,650,652,653,655,656,658,659,661,662,664,665,667,668,670,671,673,674,676,677,679,680,682,683,685,686,688,689,691,692,694,695,697,698,700,701,703,704,706,707,709,710,712,713,715,716,718,719,721,722,724,725,727,728,730,731,733,734,736,737,739,740,742,743,745,746,748,749,751,752,754,755,757,758,760,761,763,764,766,767,769,770,772,773,775,776,778,779,781,782,784,785,787,788,790,791,793,794) have mixed types. Specify dtype option on import or set low_memory=False.\n",
      "  interactivity=interactivity, compiler=compiler, result=result)\n"
     ]
    },
    {
     "name": "stdout",
     "output_type": "stream",
     "text": [
      "SARC (20531, 265)\n",
      "SKCM\n",
      "data/TCGA_seq/SKCM.rnaseqv2__illuminahiseq_rnaseqv2__unc_edu__Level_3__RSEM_genes__data.data.txt\n"
     ]
    },
    {
     "name": "stderr",
     "output_type": "stream",
     "text": [
      "D:\\Anaconda3\\lib\\site-packages\\IPython\\core\\interactiveshell.py:3051: DtypeWarning: Columns (1,2,4,5,7,8,10,11,13,14,16,17,19,20,22,23,25,26,28,29,31,32,34,35,37,38,40,41,43,44,46,47,49,50,52,53,55,56,58,59,61,62,64,65,67,68,70,71,73,74,76,77,79,80,82,83,85,86,88,89,91,92,94,95,97,98,100,101,103,104,106,107,109,110,112,113,115,116,118,119,121,122,124,125,127,128,130,131,133,134,136,137,139,140,142,143,145,146,148,149,151,152,154,155,157,158,160,161,163,164,166,167,169,170,172,173,175,176,178,179,181,182,184,185,187,188,190,191,193,194,196,197,199,200,202,203,205,206,208,209,211,212,214,215,217,218,220,221,223,224,226,227,229,230,232,233,235,236,238,239,241,242,244,245,247,248,250,251,253,254,256,257,259,260,262,263,265,266,268,269,271,272,274,275,277,278,280,281,283,284,286,287,289,290,292,293,295,296,298,299,301,302,304,305,307,308,310,311,313,314,316,317,319,320,322,323,325,326,328,329,331,332,334,335,337,338,340,341,343,344,346,347,349,350,352,353,355,356,358,359,361,362,364,365,367,368,370,371,373,374,376,377,379,380,382,383,385,386,388,389,391,392,394,395,397,398,400,401,403,404,406,407,409,410,412,413,415,416,418,419,421,422,424,425,427,428,430,431,433,434,436,437,439,440,442,443,445,446,448,449,451,452,454,455,457,458,460,461,463,464,466,467,469,470,472,473,475,476,478,479,481,482,484,485,487,488,490,491,493,494,496,497,499,500,502,503,505,506,508,509,511,512,514,515,517,518,520,521,523,524,526,527,529,530,532,533,535,536,538,539,541,542,544,545,547,548,550,551,553,554,556,557,559,560,562,563,565,566,568,569,571,572,574,575,577,578,580,581,583,584,586,587,589,590,592,593,595,596,598,599,601,602,604,605,607,608,610,611,613,614,616,617,619,620,622,623,625,626,628,629,631,632,634,635,637,638,640,641,643,644,646,647,649,650,652,653,655,656,658,659,661,662,664,665,667,668,670,671,673,674,676,677,679,680,682,683,685,686,688,689,691,692,694,695,697,698,700,701,703,704,706,707,709,710,712,713,715,716,718,719,721,722,724,725,727,728,730,731,733,734,736,737,739,740,742,743,745,746,748,749,751,752,754,755,757,758,760,761,763,764,766,767,769,770,772,773,775,776,778,779,781,782,784,785,787,788,790,791,793,794,796,797,799,800,802,803,805,806,808,809,811,812,814,815,817,818,820,821,823,824,826,827,829,830,832,833,835,836,838,839,841,842,844,845,847,848,850,851,853,854,856,857,859,860,862,863,865,866,868,869,871,872,874,875,877,878,880,881,883,884,886,887,889,890,892,893,895,896,898,899,901,902,904,905,907,908,910,911,913,914,916,917,919,920,922,923,925,926,928,929,931,932,934,935,937,938,940,941,943,944,946,947,949,950,952,953,955,956,958,959,961,962,964,965,967,968,970,971,973,974,976,977,979,980,982,983,985,986,988,989,991,992,994,995,997,998,1000,1001,1003,1004,1006,1007,1009,1010,1012,1013,1015,1016,1018,1019,1021,1022,1024,1025,1027,1028,1030,1031,1033,1034,1036,1037,1039,1040,1042,1043,1045,1046,1048,1049,1051,1052,1054,1055,1057,1058,1060,1061,1063,1064,1066,1067,1069,1070,1072,1073,1075,1076,1078,1079,1081,1082,1084,1085,1087,1088,1090,1091,1093,1094,1096,1097,1099,1100,1102,1103,1105,1106,1108,1109,1111,1112,1114,1115,1117,1118,1120,1121,1123,1124,1126,1127,1129,1130,1132,1133,1135,1136,1138,1139,1141,1142,1144,1145,1147,1148,1150,1151,1153,1154,1156,1157,1159,1160,1162,1163,1165,1166,1168,1169,1171,1172,1174,1175,1177,1178,1180,1181,1183,1184,1186,1187,1189,1190,1192,1193,1195,1196,1198,1199,1201,1202,1204,1205,1207,1208,1210,1211,1213,1214,1216,1217,1219,1220,1222,1223,1225,1226,1228,1229,1231,1232,1234,1235,1237,1238,1240,1241,1243,1244,1246,1247,1249,1250,1252,1253,1255,1256,1258,1259,1261,1262,1264,1265,1267,1268,1270,1271,1273,1274,1276,1277,1279,1280,1282,1283,1285,1286,1288,1289,1291,1292,1294,1295,1297,1298,1300,1301,1303,1304,1306,1307,1309,1310,1312,1313,1315,1316,1318,1319,1321,1322,1324,1325,1327,1328,1330,1331,1333,1334,1336,1337,1339,1340,1342,1343,1345,1346,1348,1349,1351,1352,1354,1355,1357,1358,1360,1361,1363,1364,1366,1367,1369,1370,1372,1373,1375,1376,1378,1379,1381,1382,1384,1385,1387,1388,1390,1391,1393,1394,1396,1397,1399,1400,1402,1403,1405,1406,1408,1409,1411,1412,1414,1415,1417,1418) have mixed types. Specify dtype option on import or set low_memory=False.\n",
      "  interactivity=interactivity, compiler=compiler, result=result)\n"
     ]
    },
    {
     "name": "stdout",
     "output_type": "stream",
     "text": [
      "SKCM (20531, 473)\n",
      "STAD\n",
      "data/TCGA_seq/STAD.rnaseqv2__illuminahiseq_rnaseqv2__unc_edu__Level_3__RSEM_genes__data.data.txt\n"
     ]
    },
    {
     "name": "stderr",
     "output_type": "stream",
     "text": [
      "D:\\Anaconda3\\lib\\site-packages\\IPython\\core\\interactiveshell.py:3051: DtypeWarning: Columns (1,2,4,5,7,8,10,11,13,14,16,17,19,20,22,23,25,26,28,29,31,32,34,35,37,38,40,41,43,44,46,47,49,50,52,53,55,56,58,59,61,62,64,65,67,68,70,71,73,74,76,77,79,80,82,83,85,86,88,89,91,92,94,95,97,98,100,101,103,104,106,107,109,110,112,113,115,116,118,119,121,122,124,125,127,128,130,131,133,134,136,137,139,140,142,143,145,146,148,149,151,152,154,155,157,158,160,161,163,164,166,167,169,170,172,173,175,176,178,179,181,182,184,185,187,188,190,191,193,194,196,197,199,200,202,203,205,206,208,209,211,212,214,215,217,218,220,221,223,224,226,227,229,230,232,233,235,236,238,239,241,242,244,245,247,248,250,251,253,254,256,257,259,260,262,263,265,266,268,269,271,272,274,275,277,278,280,281,283,284,286,287,289,290,292,293,295,296,298,299,301,302,304,305,307,308,310,311,313,314,316,317,319,320,322,323,325,326,328,329,331,332,334,335,337,338,340,341,343,344,346,347,349,350,352,353,355,356,358,359,361,362,364,365,367,368,370,371,373,374,376,377,379,380,382,383,385,386,388,389,391,392,394,395,397,398,400,401,403,404,406,407,409,410,412,413,415,416,418,419,421,422,424,425,427,428,430,431,433,434,436,437,439,440,442,443,445,446,448,449,451,452,454,455,457,458,460,461,463,464,466,467,469,470,472,473,475,476,478,479,481,482,484,485,487,488,490,491,493,494,496,497,499,500,502,503,505,506,508,509,511,512,514,515,517,518,520,521,523,524,526,527,529,530,532,533,535,536,538,539,541,542,544,545,547,548,550,551,553,554,556,557,559,560,562,563,565,566,568,569,571,572,574,575,577,578,580,581,583,584,586,587,589,590,592,593,595,596,598,599,601,602,604,605,607,608,610,611,613,614,616,617,619,620,622,623,625,626,628,629,631,632,634,635,637,638,640,641,643,644,646,647,649,650,652,653,655,656,658,659,661,662,664,665,667,668,670,671,673,674,676,677,679,680,682,683,685,686,688,689,691,692,694,695,697,698,700,701,703,704,706,707,709,710,712,713,715,716,718,719,721,722,724,725,727,728,730,731,733,734,736,737,739,740,742,743,745,746,748,749,751,752,754,755,757,758,760,761,763,764,766,767,769,770,772,773,775,776,778,779,781,782,784,785,787,788,790,791,793,794,796,797,799,800,802,803,805,806,808,809,811,812,814,815,817,818,820,821,823,824,826,827,829,830,832,833,835,836,838,839,841,842,844,845,847,848,850,851,853,854,856,857,859,860,862,863,865,866,868,869,871,872,874,875,877,878,880,881,883,884,886,887,889,890,892,893,895,896,898,899,901,902,904,905,907,908,910,911,913,914,916,917,919,920,922,923,925,926,928,929,931,932,934,935,937,938,940,941,943,944,946,947,949,950,952,953,955,956,958,959,961,962,964,965,967,968,970,971,973,974,976,977,979,980,982,983,985,986,988,989,991,992,994,995,997,998,1000,1001,1003,1004,1006,1007,1009,1010,1012,1013,1015,1016,1018,1019,1021,1022,1024,1025,1027,1028,1030,1031,1033,1034,1036,1037,1039,1040,1042,1043,1045,1046,1048,1049,1051,1052,1054,1055,1057,1058,1060,1061,1063,1064,1066,1067,1069,1070,1072,1073,1075,1076,1078,1079,1081,1082,1084,1085,1087,1088,1090,1091,1093,1094,1096,1097,1099,1100,1102,1103,1105,1106,1108,1109,1111,1112,1114,1115,1117,1118,1120,1121,1123,1124,1126,1127,1129,1130,1132,1133,1135,1136,1138,1139,1141,1142,1144,1145,1147,1148,1150,1151,1153,1154,1156,1157,1159,1160,1162,1163,1165,1166,1168,1169,1171,1172,1174,1175,1177,1178,1180,1181,1183,1184,1186,1187,1189,1190,1192,1193,1195,1196,1198,1199,1201,1202,1204,1205,1207,1208,1210,1211,1213,1214,1216,1217,1219,1220,1222,1223,1225,1226,1228,1229,1231,1232,1234,1235,1237,1238,1240,1241,1243,1244,1246,1247,1249,1250,1252,1253,1255,1256,1258,1259,1261,1262,1264,1265,1267,1268,1270,1271,1273,1274,1276,1277,1279,1280,1282,1283,1285,1286,1288,1289,1291,1292,1294,1295,1297,1298,1300,1301,1303,1304,1306,1307,1309,1310,1312,1313,1315,1316,1318,1319,1321,1322,1324,1325,1327,1328,1330,1331,1333,1334,1336,1337,1339,1340,1342,1343,1345,1346,1348,1349) have mixed types. Specify dtype option on import or set low_memory=False.\n",
      "  interactivity=interactivity, compiler=compiler, result=result)\n"
     ]
    },
    {
     "name": "stdout",
     "output_type": "stream",
     "text": [
      "STAD (20531, 450)\n",
      "STES\n",
      "data/TCGA_seq/STES.rnaseqv2__illuminahiseq_rnaseqv2__unc_edu__Level_3__RSEM_genes__data.data.txt\n"
     ]
    },
    {
     "name": "stderr",
     "output_type": "stream",
     "text": [
      "D:\\Anaconda3\\lib\\site-packages\\IPython\\core\\interactiveshell.py:3051: DtypeWarning: Columns (1,2,4,5,7,8,10,11,13,14,16,17,19,20,22,23,25,26,28,29,31,32,34,35,37,38,40,41,43,44,46,47,49,50,52,53,55,56,58,59,61,62,64,65,67,68,70,71,73,74,76,77,79,80,82,83,85,86,88,89,91,92,94,95,97,98,100,101,103,104,106,107,109,110,112,113,115,116,118,119,121,122,124,125,127,128,130,131,133,134,136,137,139,140,142,143,145,146,148,149,151,152,154,155,157,158,160,161,163,164,166,167,169,170,172,173,175,176,178,179,181,182,184,185,187,188,190,191,193,194,196,197,199,200,202,203,205,206,208,209,211,212,214,215,217,218,220,221,223,224,226,227,229,230,232,233,235,236,238,239,241,242,244,245,247,248,250,251,253,254,256,257,259,260,262,263,265,266,268,269,271,272,274,275,277,278,280,281,283,284,286,287,289,290,292,293,295,296,298,299,301,302,304,305,307,308,310,311,313,314,316,317,319,320,322,323,325,326,328,329,331,332,334,335,337,338,340,341,343,344,346,347,349,350,352,353,355,356,358,359,361,362,364,365,367,368,370,371,373,374,376,377,379,380,382,383,385,386,388,389,391,392,394,395,397,398,400,401,403,404,406,407,409,410,412,413,415,416,418,419,421,422,424,425,427,428,430,431,433,434,436,437,439,440,442,443,445,446,448,449,451,452,454,455,457,458,460,461,463,464,466,467,469,470,472,473,475,476,478,479,481,482,484,485,487,488,490,491,493,494,496,497,499,500,502,503,505,506,508,509,511,512,514,515,517,518,520,521,523,524,526,527,529,530,532,533,535,536,538,539,541,542,544,545,547,548,550,551,553,554,556,557,559,560,562,563,565,566,568,569,571,572,574,575,577,578,580,581,583,584,586,587,589,590,592,593,595,596,598,599,601,602,604,605,607,608,610,611,613,614,616,617,619,620,622,623,625,626,628,629,631,632,634,635,637,638,640,641,643,644,646,647,649,650,652,653,655,656,658,659,661,662,664,665,667,668,670,671,673,674,676,677,679,680,682,683,685,686,688,689,691,692,694,695,697,698,700,701,703,704,706,707,709,710,712,713,715,716,718,719,721,722,724,725,727,728,730,731,733,734,736,737,739,740,742,743,745,746,748,749,751,752,754,755,757,758,760,761,763,764,766,767,769,770,772,773,775,776,778,779,781,782,784,785,787,788,790,791,793,794,796,797,799,800,802,803,805,806,808,809,811,812,814,815,817,818,820,821,823,824,826,827,829,830,832,833,835,836,838,839,841,842,844,845,847,848,850,851,853,854,856,857,859,860,862,863,865,866,868,869,871,872,874,875,877,878,880,881,883,884,886,887,889,890,892,893,895,896,898,899,901,902,904,905,907,908,910,911,913,914,916,917,919,920,922,923,925,926,928,929,931,932,934,935,937,938,940,941,943,944,946,947,949,950,952,953,955,956,958,959,961,962,964,965,967,968,970,971,973,974,976,977,979,980,982,983,985,986,988,989,991,992,994,995,997,998,1000,1001,1003,1004,1006,1007,1009,1010,1012,1013,1015,1016,1018,1019,1021,1022,1024,1025,1027,1028,1030,1031,1033,1034,1036,1037,1039,1040,1042,1043,1045,1046,1048,1049,1051,1052,1054,1055,1057,1058,1060,1061,1063,1064,1066,1067,1069,1070,1072,1073,1075,1076,1078,1079,1081,1082,1084,1085,1087,1088,1090,1091,1093,1094,1096,1097,1099,1100,1102,1103,1105,1106,1108,1109,1111,1112,1114,1115,1117,1118,1120,1121,1123,1124,1126,1127,1129,1130,1132,1133,1135,1136,1138,1139,1141,1142,1144,1145,1147,1148,1150,1151,1153,1154,1156,1157,1159,1160,1162,1163,1165,1166,1168,1169,1171,1172,1174,1175,1177,1178,1180,1181,1183,1184,1186,1187,1189,1190,1192,1193,1195,1196,1198,1199,1201,1202,1204,1205,1207,1208,1210,1211,1213,1214,1216,1217,1219,1220,1222,1223,1225,1226,1228,1229,1231,1232,1234,1235,1237,1238,1240,1241,1243,1244,1246,1247,1249,1250,1252,1253,1255,1256,1258,1259,1261,1262,1264,1265,1267,1268,1270,1271,1273,1274,1276,1277,1279,1280,1282,1283,1285,1286,1288,1289,1291,1292,1294,1295,1297,1298,1300,1301,1303,1304,1306,1307,1309,1310,1312,1313,1315,1316,1318,1319,1321,1322,1324,1325,1327,1328,1330,1331,1333,1334,1336,1337,1339,1340,1342,1343,1345,1346,1348,1349,1351,1352,1354,1355,1357,1358,1360,1361,1363,1364,1366,1367,1369,1370,1372,1373,1375,1376,1378,1379,1381,1382,1384,1385,1387,1388,1390,1391,1393,1394,1396,1397,1399,1400,1402,1403,1405,1406,1408,1409,1411,1412,1414,1415,1417,1418,1420,1421,1423,1424,1426,1427,1429,1430,1432,1433,1435,1436,1438,1439,1441,1442,1444,1445,1447,1448,1450,1451,1453,1454,1456,1457,1459,1460,1462,1463,1465,1466,1468,1469,1471,1472,1474,1475,1477,1478,1480,1481,1483,1484,1486,1487,1489,1490,1492,1493,1495,1496,1498,1499,1501,1502,1504,1505,1507,1508,1510,1511,1513,1514,1516,1517,1519,1520,1522,1523,1525,1526,1528,1529,1531,1532,1534,1535,1537,1538,1540,1541,1543,1544,1546,1547,1549,1550,1552,1553,1555,1556,1558,1559,1561,1562,1564,1565,1567,1568,1570,1571,1573,1574,1576,1577,1579,1580,1582,1583,1585,1586,1588,1589,1591,1592,1594,1595,1597,1598,1600,1601,1603,1604,1606,1607,1609,1610,1612,1613,1615,1616,1618,1619,1621,1622,1624,1625,1627,1628,1630,1631,1633,1634,1636,1637,1639,1640,1642,1643,1645,1646,1648,1649,1651,1652,1654,1655,1657,1658,1660,1661,1663,1664,1666,1667,1669,1670,1672,1673,1675,1676,1678,1679,1681,1682,1684,1685,1687,1688,1690,1691,1693,1694,1696,1697,1699,1700,1702,1703,1705,1706,1708,1709,1711,1712,1714,1715,1717,1718,1720,1721,1723,1724,1726,1727,1729,1730,1732,1733,1735,1736,1738,1739,1741,1742,1744,1745,1747,1748,1750,1751,1753,1754,1756,1757,1759,1760,1762,1763,1765,1766,1768,1769,1771,1772,1774,1775,1777,1778,1780,1781,1783,1784,1786,1787,1789,1790,1792,1793,1795,1796,1798,1799,1801,1802,1804,1805,1807,1808,1810,1811,1813,1814,1816,1817,1819,1820,1822,1823,1825,1826,1828,1829,1831,1832,1834,1835,1837,1838,1840,1841,1843,1844,1846,1847,1849,1850,1852,1853,1855,1856,1858,1859,1861,1862,1864,1865,1867,1868,1870,1871,1873,1874,1876,1877,1879,1880,1882,1883,1885,1886,1888,1889,1891,1892,1894,1895,1897,1898,1900,1901,1903,1904,1906,1907,1909,1910,1912,1913,1915,1916,1918,1919,1921,1922,1924,1925,1927,1928,1930,1931,1933,1934,1936,1937) have mixed types. Specify dtype option on import or set low_memory=False.\n",
      "  interactivity=interactivity, compiler=compiler, result=result)\n"
     ]
    },
    {
     "name": "stdout",
     "output_type": "stream",
     "text": [
      "STES (20531, 646)\n",
      "TGCT\n",
      "data/TCGA_seq/TGCT.rnaseqv2__illuminahiseq_rnaseqv2__unc_edu__Level_3__RSEM_genes__data.data.txt\n"
     ]
    },
    {
     "name": "stderr",
     "output_type": "stream",
     "text": [
      "D:\\Anaconda3\\lib\\site-packages\\IPython\\core\\interactiveshell.py:3051: DtypeWarning: Columns (1,2,4,5,7,8,10,11,13,14,16,17,19,20,22,23,25,26,28,29,31,32,34,35,37,38,40,41,43,44,46,47,49,50,52,53,55,56,58,59,61,62,64,65,67,68,70,71,73,74,76,77,79,80,82,83,85,86,88,89,91,92,94,95,97,98,100,101,103,104,106,107,109,110,112,113,115,116,118,119,121,122,124,125,127,128,130,131,133,134,136,137,139,140,142,143,145,146,148,149,151,152,154,155,157,158,160,161,163,164,166,167,169,170,172,173,175,176,178,179,181,182,184,185,187,188,190,191,193,194,196,197,199,200,202,203,205,206,208,209,211,212,214,215,217,218,220,221,223,224,226,227,229,230,232,233,235,236,238,239,241,242,244,245,247,248,250,251,253,254,256,257,259,260,262,263,265,266,268,269,271,272,274,275,277,278,280,281,283,284,286,287,289,290,292,293,295,296,298,299,301,302,304,305,307,308,310,311,313,314,316,317,319,320,322,323,325,326,328,329,331,332,334,335,337,338,340,341,343,344,346,347,349,350,352,353,355,356,358,359,361,362,364,365,367,368,370,371,373,374,376,377,379,380,382,383,385,386,388,389,391,392,394,395,397,398,400,401,403,404,406,407,409,410,412,413,415,416,418,419,421,422,424,425,427,428,430,431,433,434,436,437,439,440,442,443,445,446,448,449,451,452,454,455,457,458,460,461,463,464,466,467) have mixed types. Specify dtype option on import or set low_memory=False.\n",
      "  interactivity=interactivity, compiler=compiler, result=result)\n"
     ]
    },
    {
     "name": "stdout",
     "output_type": "stream",
     "text": [
      "TGCT (20531, 156)\n",
      "THCA\n",
      "data/TCGA_seq/THCA.rnaseqv2__illuminahiseq_rnaseqv2__unc_edu__Level_3__RSEM_genes__data.data.txt\n"
     ]
    },
    {
     "name": "stderr",
     "output_type": "stream",
     "text": [
      "D:\\Anaconda3\\lib\\site-packages\\IPython\\core\\interactiveshell.py:3051: DtypeWarning: Columns (1,2,4,5,7,8,10,11,13,14,16,17,19,20,22,23,25,26,28,29,31,32,34,35,37,38,40,41,43,44,46,47,49,50,52,53,55,56,58,59,61,62,64,65,67,68,70,71,73,74,76,77,79,80,82,83,85,86,88,89,91,92,94,95,97,98,100,101,103,104,106,107,109,110,112,113,115,116,118,119,121,122,124,125,127,128,130,131,133,134,136,137,139,140,142,143,145,146,148,149,151,152,154,155,157,158,160,161,163,164,166,167,169,170,172,173,175,176,178,179,181,182,184,185,187,188,190,191,193,194,196,197,199,200,202,203,205,206,208,209,211,212,214,215,217,218,220,221,223,224,226,227,229,230,232,233,235,236,238,239,241,242,244,245,247,248,250,251,253,254,256,257,259,260,262,263,265,266,268,269,271,272,274,275,277,278,280,281,283,284,286,287,289,290,292,293,295,296,298,299,301,302,304,305,307,308,310,311,313,314,316,317,319,320,322,323,325,326,328,329,331,332,334,335,337,338,340,341,343,344,346,347,349,350,352,353,355,356,358,359,361,362,364,365,367,368,370,371,373,374,376,377,379,380,382,383,385,386,388,389,391,392,394,395,397,398,400,401,403,404,406,407,409,410,412,413,415,416,418,419,421,422,424,425,427,428,430,431,433,434,436,437,439,440,442,443,445,446,448,449,451,452,454,455,457,458,460,461,463,464,466,467,469,470,472,473,475,476,478,479,481,482,484,485,487,488,490,491,493,494,496,497,499,500,502,503,505,506,508,509,511,512,514,515,517,518,520,521,523,524,526,527,529,530,532,533,535,536,538,539,541,542,544,545,547,548,550,551,553,554,556,557,559,560,562,563,565,566,568,569,571,572,574,575,577,578,580,581,583,584,586,587,589,590,592,593,595,596,598,599,601,602,604,605,607,608,610,611,613,614,616,617,619,620,622,623,625,626,628,629,631,632,634,635,637,638,640,641,643,644,646,647,649,650,652,653,655,656,658,659,661,662,664,665,667,668,670,671,673,674,676,677,679,680,682,683,685,686,688,689,691,692,694,695,697,698,700,701,703,704,706,707,709,710,712,713,715,716,718,719,721,722,724,725,727,728,730,731,733,734,736,737,739,740,742,743,745,746,748,749,751,752,754,755,757,758,760,761,763,764,766,767,769,770,772,773,775,776,778,779,781,782,784,785,787,788,790,791,793,794,796,797,799,800,802,803,805,806,808,809,811,812,814,815,817,818,820,821,823,824,826,827,829,830,832,833,835,836,838,839,841,842,844,845,847,848,850,851,853,854,856,857,859,860,862,863,865,866,868,869,871,872,874,875,877,878,880,881,883,884,886,887,889,890,892,893,895,896,898,899,901,902,904,905,907,908,910,911,913,914,916,917,919,920,922,923,925,926,928,929,931,932,934,935,937,938,940,941,943,944,946,947,949,950,952,953,955,956,958,959,961,962,964,965,967,968,970,971,973,974,976,977,979,980,982,983,985,986,988,989,991,992,994,995,997,998,1000,1001,1003,1004,1006,1007,1009,1010,1012,1013,1015,1016,1018,1019,1021,1022,1024,1025,1027,1028,1030,1031,1033,1034,1036,1037,1039,1040,1042,1043,1045,1046,1048,1049,1051,1052,1054,1055,1057,1058,1060,1061,1063,1064,1066,1067,1069,1070,1072,1073,1075,1076,1078,1079,1081,1082,1084,1085,1087,1088,1090,1091,1093,1094,1096,1097,1099,1100,1102,1103,1105,1106,1108,1109,1111,1112,1114,1115,1117,1118,1120,1121,1123,1124,1126,1127,1129,1130,1132,1133,1135,1136,1138,1139,1141,1142,1144,1145,1147,1148,1150,1151,1153,1154,1156,1157,1159,1160,1162,1163,1165,1166,1168,1169,1171,1172,1174,1175,1177,1178,1180,1181,1183,1184,1186,1187,1189,1190,1192,1193,1195,1196,1198,1199,1201,1202,1204,1205,1207,1208,1210,1211,1213,1214,1216,1217,1219,1220,1222,1223,1225,1226,1228,1229,1231,1232,1234,1235,1237,1238,1240,1241,1243,1244,1246,1247,1249,1250,1252,1253,1255,1256,1258,1259,1261,1262,1264,1265,1267,1268,1270,1271,1273,1274,1276,1277,1279,1280,1282,1283,1285,1286,1288,1289,1291,1292,1294,1295,1297,1298,1300,1301,1303,1304,1306,1307,1309,1310,1312,1313,1315,1316,1318,1319,1321,1322,1324,1325,1327,1328,1330,1331,1333,1334,1336,1337,1339,1340,1342,1343,1345,1346,1348,1349,1351,1352,1354,1355,1357,1358,1360,1361,1363,1364,1366,1367,1369,1370,1372,1373,1375,1376,1378,1379,1381,1382,1384,1385,1387,1388,1390,1391,1393,1394,1396,1397,1399,1400,1402,1403,1405,1406,1408,1409,1411,1412,1414,1415,1417,1418,1420,1421,1423,1424,1426,1427,1429,1430,1432,1433,1435,1436,1438,1439,1441,1442,1444,1445,1447,1448,1450,1451,1453,1454,1456,1457,1459,1460,1462,1463,1465,1466,1468,1469,1471,1472,1474,1475,1477,1478,1480,1481,1483,1484,1486,1487,1489,1490,1492,1493,1495,1496,1498,1499,1501,1502,1504,1505,1507,1508,1510,1511,1513,1514,1516,1517,1519,1520,1522,1523,1525,1526,1528,1529,1531,1532,1534,1535,1537,1538,1540,1541,1543,1544,1546,1547,1549,1550,1552,1553,1555,1556,1558,1559,1561,1562,1564,1565,1567,1568,1570,1571,1573,1574,1576,1577,1579,1580,1582,1583,1585,1586,1588,1589,1591,1592,1594,1595,1597,1598,1600,1601,1603,1604,1606,1607,1609,1610,1612,1613,1615,1616,1618,1619,1621,1622,1624,1625,1627,1628,1630,1631,1633,1634,1636,1637,1639,1640,1642,1643,1645,1646,1648,1649,1651,1652,1654,1655,1657,1658,1660,1661,1663,1664,1666,1667,1669,1670,1672,1673,1675,1676,1678,1679,1681,1682,1684,1685,1687,1688,1690,1691,1693,1694,1696,1697,1699,1700,1702,1703) have mixed types. Specify dtype option on import or set low_memory=False.\n",
      "  interactivity=interactivity, compiler=compiler, result=result)\n"
     ]
    },
    {
     "name": "stdout",
     "output_type": "stream",
     "text": [
      "THCA (20531, 568)\n",
      "THYM\n",
      "data/TCGA_seq/THYM.rnaseqv2__illuminahiseq_rnaseqv2__unc_edu__Level_3__RSEM_genes__data.data.txt\n"
     ]
    },
    {
     "name": "stderr",
     "output_type": "stream",
     "text": [
      "D:\\Anaconda3\\lib\\site-packages\\IPython\\core\\interactiveshell.py:3051: DtypeWarning: Columns (1,2,4,5,7,8,10,11,13,14,16,17,19,20,22,23,25,26,28,29,31,32,34,35,37,38,40,41,43,44,46,47,49,50,52,53,55,56,58,59,61,62,64,65,67,68,70,71,73,74,76,77,79,80,82,83,85,86,88,89,91,92,94,95,97,98,100,101,103,104,106,107,109,110,112,113,115,116,118,119,121,122,124,125,127,128,130,131,133,134,136,137,139,140,142,143,145,146,148,149,151,152,154,155,157,158,160,161,163,164,166,167,169,170,172,173,175,176,178,179,181,182,184,185,187,188,190,191,193,194,196,197,199,200,202,203,205,206,208,209,211,212,214,215,217,218,220,221,223,224,226,227,229,230,232,233,235,236,238,239,241,242,244,245,247,248,250,251,253,254,256,257,259,260,262,263,265,266,268,269,271,272,274,275,277,278,280,281,283,284,286,287,289,290,292,293,295,296,298,299,301,302,304,305,307,308,310,311,313,314,316,317,319,320,322,323,325,326,328,329,331,332,334,335,337,338,340,341,343,344,346,347,349,350,352,353,355,356,358,359,361,362,364,365) have mixed types. Specify dtype option on import or set low_memory=False.\n",
      "  interactivity=interactivity, compiler=compiler, result=result)\n"
     ]
    },
    {
     "name": "stdout",
     "output_type": "stream",
     "text": [
      "THYM (20531, 122)\n",
      "UCEC\n",
      "data/TCGA_seq/UCEC.rnaseqv2__illuminaga_rnaseqv2__unc_edu__Level_3__RSEM_genes__data.data.txt\n"
     ]
    },
    {
     "name": "stderr",
     "output_type": "stream",
     "text": [
      "D:\\Anaconda3\\lib\\site-packages\\IPython\\core\\interactiveshell.py:3051: DtypeWarning: Columns (1,2,4,5,7,8,10,11,13,14,16,17,19,20,22,23,25,26,28,29,31,32,34,35,37,38,40,41,43,44,46,47,49,50,52,53,55,56,58,59,61,62,64,65,67,68,70,71,73,74,76,77,79,80,82,83,85,86,88,89,91,92,94,95,97,98,100,101,103,104,106,107,109,110,112,113,115,116,118,119,121,122,124,125,127,128,130,131,133,134,136,137,139,140,142,143,145,146,148,149,151,152,154,155,157,158,160,161,163,164,166,167,169,170,172,173,175,176,178,179,181,182,184,185,187,188,190,191,193,194,196,197,199,200,202,203,205,206,208,209,211,212,214,215,217,218,220,221,223,224,226,227,229,230,232,233,235,236,238,239,241,242,244,245,247,248,250,251,253,254,256,257,259,260,262,263,265,266,268,269,271,272,274,275,277,278,280,281,283,284,286,287,289,290,292,293,295,296,298,299,301,302,304,305,307,308,310,311,313,314,316,317,319,320,322,323,325,326,328,329,331,332,334,335,337,338,340,341,343,344,346,347,349,350,352,353,355,356,358,359,361,362,364,365,367,368,370,371,373,374,376,377,379,380,382,383,385,386,388,389,391,392,394,395,397,398,400,401,403,404,406,407,409,410,412,413,415,416,418,419,421,422,424,425,427,428,430,431,433,434,436,437,439,440,442,443,445,446,448,449,451,452,454,455,457,458,460,461,463,464,466,467,469,470,472,473,475,476,478,479,481,482,484,485,487,488,490,491,493,494,496,497,499,500,502,503,505,506,508,509,511,512,514,515,517,518,520,521,523,524,526,527,529,530,532,533,535,536,538,539,541,542,544,545,547,548,550,551,553,554,556,557,559,560,562,563,565,566,568,569,571,572,574,575,577,578,580,581,583,584,586,587,589,590,592,593,595,596,598,599,601,602,604,605,607,608,610,611,613,614,616,617,619,620,622,623,625,626,628,629,631,632,634,635,637,638,640,641,643,644,646,647,649,650,652,653,655,656,658,659,661,662,664,665,667,668,670,671,673,674,676,677,679,680,682,683,685,686,688,689,691,692,694,695,697,698,700,701,703,704,706,707,709,710,712,713,715,716,718,719,721,722,724,725,727,728,730,731,733,734,736,737,739,740,742,743,745,746,748,749,751,752,754,755,757,758,760,761,763,764,766,767,769,770,772,773,775,776,778,779,781,782,784,785,787,788,790,791,793,794,796,797,799,800,802,803,805,806,808,809,811,812,814,815,817,818,820,821,823,824,826,827,829,830,832,833,835,836,838,839,841,842,844,845,847,848,850,851,853,854,856,857,859,860,862,863,865,866,868,869,871,872,874,875,877,878,880,881,883,884,886,887,889,890,892,893,895,896,898,899,901,902,904,905,907,908,910,911,913,914,916,917,919,920,922,923,925,926,928,929,931,932,934,935,937,938,940,941,943,944,946,947,949,950,952,953,955,956,958,959,961,962,964,965,967,968,970,971,973,974,976,977,979,980,982,983,985,986,988,989,991,992,994,995,997,998,1000,1001,1003,1004,1006,1007,1009,1010,1012,1013,1015,1016,1018,1019,1021,1022,1024,1025,1027,1028,1030,1031,1033,1034,1036,1037,1039,1040,1042,1043,1045,1046,1048,1049,1051,1052,1054,1055,1057,1058,1060,1061,1063,1064,1066,1067,1069,1070,1072,1073,1075,1076,1078,1079,1081,1082,1084,1085,1087,1088,1090,1091,1093,1094,1096,1097,1099,1100,1102,1103,1105,1106,1108,1109,1111,1112,1114,1115,1117,1118,1120,1121,1123,1124,1126,1127,1129,1130,1132,1133,1135,1136,1138,1139,1141,1142) have mixed types. Specify dtype option on import or set low_memory=False.\n",
      "  interactivity=interactivity, compiler=compiler, result=result)\n"
     ]
    },
    {
     "name": "stdout",
     "output_type": "stream",
     "text": [
      "UCEC (20531, 381)\n",
      "UCS\n",
      "data/TCGA_seq/UCS.rnaseqv2__illuminahiseq_rnaseqv2__unc_edu__Level_3__RSEM_genes__data.data.txt\n"
     ]
    },
    {
     "name": "stderr",
     "output_type": "stream",
     "text": [
      "D:\\Anaconda3\\lib\\site-packages\\IPython\\core\\interactiveshell.py:3051: DtypeWarning: Columns (1,2,4,5,7,8,10,11,13,14,16,17,19,20,22,23,25,26,28,29,31,32,34,35,37,38,40,41,43,44,46,47,49,50,52,53,55,56,58,59,61,62,64,65,67,68,70,71,73,74,76,77,79,80,82,83,85,86,88,89,91,92,94,95,97,98,100,101,103,104,106,107,109,110,112,113,115,116,118,119,121,122,124,125,127,128,130,131,133,134,136,137,139,140,142,143,145,146,148,149,151,152,154,155,157,158,160,161,163,164,166,167,169,170) have mixed types. Specify dtype option on import or set low_memory=False.\n",
      "  interactivity=interactivity, compiler=compiler, result=result)\n"
     ]
    },
    {
     "name": "stdout",
     "output_type": "stream",
     "text": [
      "UCS (20531, 57)\n",
      "UVM\n",
      "data/TCGA_seq/UVM.rnaseqv2__illuminahiseq_rnaseqv2__unc_edu__Level_3__RSEM_genes__data.data.txt\n"
     ]
    },
    {
     "name": "stderr",
     "output_type": "stream",
     "text": [
      "D:\\Anaconda3\\lib\\site-packages\\IPython\\core\\interactiveshell.py:3051: DtypeWarning: Columns (1,2,4,5,7,8,10,11,13,14,16,17,19,20,22,23,25,26,28,29,31,32,34,35,37,38,40,41,43,44,46,47,49,50,52,53,55,56,58,59,61,62,64,65,67,68,70,71,73,74,76,77,79,80,82,83,85,86,88,89,91,92,94,95,97,98,100,101,103,104,106,107,109,110,112,113,115,116,118,119,121,122,124,125,127,128,130,131,133,134,136,137,139,140,142,143,145,146,148,149,151,152,154,155,157,158,160,161,163,164,166,167,169,170,172,173,175,176,178,179,181,182,184,185,187,188,190,191,193,194,196,197,199,200,202,203,205,206,208,209,211,212,214,215,217,218,220,221,223,224,226,227,229,230,232,233,235,236,238,239) have mixed types. Specify dtype option on import or set low_memory=False.\n",
      "  interactivity=interactivity, compiler=compiler, result=result)\n"
     ]
    },
    {
     "name": "stdout",
     "output_type": "stream",
     "text": [
      "UVM (20531, 80)\n"
     ]
    }
   ],
   "source": [
    "f_ext = \".rnaseqv2__illuminahiseq_rnaseqv2__unc_edu__Level_3__RSEM_genes__data.data.txt\"\n",
    "for fpath in os.listdir(tcga_tmp_dir):\n",
    "    if not fpath.endswith(\".tar.gz\") :\n",
    "        cohort = fpath.split(\".\")[0]\n",
    "        print(cohort)\n",
    "        fname = cohort + f_ext\n",
    "        print(tcga_tmp_dir+fpath)\n",
    "        exprs = pd.read_csv(tcga_tmp_dir+fpath,sep=\"\\t\",index_col=0)\n",
    "        # drop \"gene_id\" and keep only \"scaled_estimate\" columns\n",
    "        try:\n",
    "            exprs = pd.read_csv(tcga_tmp_dir+fpath,sep=\"\\t\",index_col=0)\n",
    "            # drop \"gene_id\" and keep only \"scaled_estimate\" columns\n",
    "            exprs = exprs.loc[:,exprs.T.loc[exprs.T[\"gene_id\"]==\"scaled_estimate\",:].index]\n",
    "            exprs = exprs.iloc[1:,]\n",
    "            exprs.rename(index = lambda x :  int(x.split(\"|\")[1]),\n",
    "                         columns = lambda x : x.replace(\".1\",\"\"),inplace = True)\n",
    "            exprs.index.name = \"ENTREZID\"\n",
    "            # convert scaled_extimates to log2(TPM+1)\n",
    "            exprs = exprs.applymap(lambda x : np.log2(float(x)*1000000+1))\n",
    "            exprs = exprs.sort_index()\n",
    "            exprs.to_csv(preprocessed_data_dir +\"TCGA-\"+cohort+\"_exprs.RSEMscaled_est2TPMplus1log2.tsv\",sep  =\"\\t\")\n",
    "            print(cohort,exprs.shape)\n",
    "        except:\n",
    "            print(cohort,\"No expression data.\")"
   ]
  },
  {
   "cell_type": "code",
   "execution_count": 14,
   "metadata": {},
   "outputs": [
    {
     "data": {
      "text/plain": [
       "TCGA-RZ-AB0B-01A-11R-A405-07    53158.188717\n",
       "TCGA-V3-A9ZX-01A-11R-A405-07    53227.417609\n",
       "TCGA-V3-A9ZY-01A-11R-A405-07    42076.508745\n",
       "TCGA-V4-A9E5-01A-11R-A405-07    41459.897618\n",
       "TCGA-V4-A9E7-01A-11R-A405-07    46592.806687\n",
       "dtype: float64"
      ]
     },
     "execution_count": 14,
     "metadata": {},
     "output_type": "execute_result"
    }
   ],
   "source": [
    "##  FPKM convert to log2(TPM+1)\n",
    "sum_fpkm = exprs.apply(sum,axis=0)\n",
    "sum_fpkm.head()"
   ]
  },
  {
   "cell_type": "code",
   "execution_count": 15,
   "metadata": {},
   "outputs": [
    {
     "data": {
      "text/html": [
       "<div>\n",
       "<style scoped>\n",
       "    .dataframe tbody tr th:only-of-type {\n",
       "        vertical-align: middle;\n",
       "    }\n",
       "\n",
       "    .dataframe tbody tr th {\n",
       "        vertical-align: top;\n",
       "    }\n",
       "\n",
       "    .dataframe thead th {\n",
       "        text-align: right;\n",
       "    }\n",
       "</style>\n",
       "<table border=\"1\" class=\"dataframe\">\n",
       "  <thead>\n",
       "    <tr style=\"text-align: right;\">\n",
       "      <th></th>\n",
       "      <th>TCGA-RZ-AB0B-01A-11R-A405-07</th>\n",
       "      <th>TCGA-V3-A9ZX-01A-11R-A405-07</th>\n",
       "      <th>TCGA-V3-A9ZY-01A-11R-A405-07</th>\n",
       "      <th>TCGA-V4-A9E5-01A-11R-A405-07</th>\n",
       "      <th>TCGA-V4-A9E7-01A-11R-A405-07</th>\n",
       "      <th>TCGA-V4-A9E8-01A-11R-A405-07</th>\n",
       "      <th>TCGA-V4-A9E9-01A-11R-A405-07</th>\n",
       "      <th>TCGA-V4-A9EA-01A-11R-A405-07</th>\n",
       "      <th>TCGA-V4-A9EC-01A-11R-A405-07</th>\n",
       "      <th>TCGA-V4-A9ED-01A-11R-A405-07</th>\n",
       "      <th>...</th>\n",
       "      <th>TCGA-WC-A885-01A-11R-A405-07</th>\n",
       "      <th>TCGA-WC-A888-01A-11R-A405-07</th>\n",
       "      <th>TCGA-WC-A88A-01A-11R-A405-07</th>\n",
       "      <th>TCGA-WC-AA9A-01A-11R-A405-07</th>\n",
       "      <th>TCGA-WC-AA9E-01A-11R-A405-07</th>\n",
       "      <th>TCGA-YZ-A980-01A-11R-A405-07</th>\n",
       "      <th>TCGA-YZ-A982-01A-11R-A405-07</th>\n",
       "      <th>TCGA-YZ-A983-01A-11R-A405-07</th>\n",
       "      <th>TCGA-YZ-A984-01A-11R-A405-07</th>\n",
       "      <th>TCGA-YZ-A985-01A-11R-A405-07</th>\n",
       "    </tr>\n",
       "    <tr>\n",
       "      <th>ENTREZID</th>\n",
       "      <th></th>\n",
       "      <th></th>\n",
       "      <th></th>\n",
       "      <th></th>\n",
       "      <th></th>\n",
       "      <th></th>\n",
       "      <th></th>\n",
       "      <th></th>\n",
       "      <th></th>\n",
       "      <th></th>\n",
       "      <th></th>\n",
       "      <th></th>\n",
       "      <th></th>\n",
       "      <th></th>\n",
       "      <th></th>\n",
       "      <th></th>\n",
       "      <th></th>\n",
       "      <th></th>\n",
       "      <th></th>\n",
       "      <th></th>\n",
       "      <th></th>\n",
       "    </tr>\n",
       "  </thead>\n",
       "  <tbody>\n",
       "    <tr>\n",
       "      <th>1</th>\n",
       "      <td>57.338242</td>\n",
       "      <td>68.695426</td>\n",
       "      <td>107.344460</td>\n",
       "      <td>76.762849</td>\n",
       "      <td>60.605496</td>\n",
       "      <td>78.924186</td>\n",
       "      <td>90.447568</td>\n",
       "      <td>86.848087</td>\n",
       "      <td>103.820670</td>\n",
       "      <td>63.680926</td>\n",
       "      <td>...</td>\n",
       "      <td>93.874433</td>\n",
       "      <td>70.061003</td>\n",
       "      <td>59.681281</td>\n",
       "      <td>50.254368</td>\n",
       "      <td>76.646400</td>\n",
       "      <td>54.388235</td>\n",
       "      <td>59.010027</td>\n",
       "      <td>91.742235</td>\n",
       "      <td>32.147755</td>\n",
       "      <td>34.144815</td>\n",
       "    </tr>\n",
       "    <tr>\n",
       "      <th>2</th>\n",
       "      <td>197.900442</td>\n",
       "      <td>201.391953</td>\n",
       "      <td>237.514589</td>\n",
       "      <td>235.004967</td>\n",
       "      <td>205.474380</td>\n",
       "      <td>194.940901</td>\n",
       "      <td>247.930725</td>\n",
       "      <td>251.431148</td>\n",
       "      <td>196.396207</td>\n",
       "      <td>228.491690</td>\n",
       "      <td>...</td>\n",
       "      <td>207.305970</td>\n",
       "      <td>216.638642</td>\n",
       "      <td>194.284084</td>\n",
       "      <td>198.320010</td>\n",
       "      <td>211.724076</td>\n",
       "      <td>165.727596</td>\n",
       "      <td>183.295199</td>\n",
       "      <td>215.327757</td>\n",
       "      <td>204.329778</td>\n",
       "      <td>225.372707</td>\n",
       "    </tr>\n",
       "    <tr>\n",
       "      <th>9</th>\n",
       "      <td>51.496292</td>\n",
       "      <td>29.846832</td>\n",
       "      <td>25.730741</td>\n",
       "      <td>31.863587</td>\n",
       "      <td>18.305232</td>\n",
       "      <td>40.307134</td>\n",
       "      <td>31.763156</td>\n",
       "      <td>15.679087</td>\n",
       "      <td>28.727742</td>\n",
       "      <td>31.895415</td>\n",
       "      <td>...</td>\n",
       "      <td>17.485826</td>\n",
       "      <td>36.280252</td>\n",
       "      <td>20.514909</td>\n",
       "      <td>53.829497</td>\n",
       "      <td>20.770005</td>\n",
       "      <td>30.162363</td>\n",
       "      <td>15.280548</td>\n",
       "      <td>27.198230</td>\n",
       "      <td>30.479879</td>\n",
       "      <td>29.089414</td>\n",
       "    </tr>\n",
       "    <tr>\n",
       "      <th>10</th>\n",
       "      <td>1.804006</td>\n",
       "      <td>1.000000</td>\n",
       "      <td>1.832833</td>\n",
       "      <td>1.000000</td>\n",
       "      <td>1.000000</td>\n",
       "      <td>1.000000</td>\n",
       "      <td>1.000000</td>\n",
       "      <td>1.000000</td>\n",
       "      <td>1.000000</td>\n",
       "      <td>6.602092</td>\n",
       "      <td>...</td>\n",
       "      <td>1.000000</td>\n",
       "      <td>1.000000</td>\n",
       "      <td>1.000000</td>\n",
       "      <td>2.079162</td>\n",
       "      <td>2.148258</td>\n",
       "      <td>2.267579</td>\n",
       "      <td>1.000000</td>\n",
       "      <td>1.000000</td>\n",
       "      <td>2.160605</td>\n",
       "      <td>3.991786</td>\n",
       "    </tr>\n",
       "    <tr>\n",
       "      <th>12</th>\n",
       "      <td>94.566432</td>\n",
       "      <td>116.521495</td>\n",
       "      <td>34.653783</td>\n",
       "      <td>104.584201</td>\n",
       "      <td>25.058621</td>\n",
       "      <td>41.627616</td>\n",
       "      <td>17.935722</td>\n",
       "      <td>41.729270</td>\n",
       "      <td>79.561263</td>\n",
       "      <td>121.308063</td>\n",
       "      <td>...</td>\n",
       "      <td>25.792118</td>\n",
       "      <td>78.760457</td>\n",
       "      <td>49.042052</td>\n",
       "      <td>15.887044</td>\n",
       "      <td>29.685352</td>\n",
       "      <td>161.124243</td>\n",
       "      <td>81.569903</td>\n",
       "      <td>20.049252</td>\n",
       "      <td>194.879795</td>\n",
       "      <td>25.934106</td>\n",
       "    </tr>\n",
       "  </tbody>\n",
       "</table>\n",
       "<p>5 rows × 80 columns</p>\n",
       "</div>"
      ],
      "text/plain": [
       "          TCGA-RZ-AB0B-01A-11R-A405-07  TCGA-V3-A9ZX-01A-11R-A405-07  \\\n",
       "ENTREZID                                                               \n",
       "1                            57.338242                     68.695426   \n",
       "2                           197.900442                    201.391953   \n",
       "9                            51.496292                     29.846832   \n",
       "10                            1.804006                      1.000000   \n",
       "12                           94.566432                    116.521495   \n",
       "\n",
       "          TCGA-V3-A9ZY-01A-11R-A405-07  TCGA-V4-A9E5-01A-11R-A405-07  \\\n",
       "ENTREZID                                                               \n",
       "1                           107.344460                     76.762849   \n",
       "2                           237.514589                    235.004967   \n",
       "9                            25.730741                     31.863587   \n",
       "10                            1.832833                      1.000000   \n",
       "12                           34.653783                    104.584201   \n",
       "\n",
       "          TCGA-V4-A9E7-01A-11R-A405-07  TCGA-V4-A9E8-01A-11R-A405-07  \\\n",
       "ENTREZID                                                               \n",
       "1                            60.605496                     78.924186   \n",
       "2                           205.474380                    194.940901   \n",
       "9                            18.305232                     40.307134   \n",
       "10                            1.000000                      1.000000   \n",
       "12                           25.058621                     41.627616   \n",
       "\n",
       "          TCGA-V4-A9E9-01A-11R-A405-07  TCGA-V4-A9EA-01A-11R-A405-07  \\\n",
       "ENTREZID                                                               \n",
       "1                            90.447568                     86.848087   \n",
       "2                           247.930725                    251.431148   \n",
       "9                            31.763156                     15.679087   \n",
       "10                            1.000000                      1.000000   \n",
       "12                           17.935722                     41.729270   \n",
       "\n",
       "          TCGA-V4-A9EC-01A-11R-A405-07  TCGA-V4-A9ED-01A-11R-A405-07  ...  \\\n",
       "ENTREZID                                                              ...   \n",
       "1                           103.820670                     63.680926  ...   \n",
       "2                           196.396207                    228.491690  ...   \n",
       "9                            28.727742                     31.895415  ...   \n",
       "10                            1.000000                      6.602092  ...   \n",
       "12                           79.561263                    121.308063  ...   \n",
       "\n",
       "          TCGA-WC-A885-01A-11R-A405-07  TCGA-WC-A888-01A-11R-A405-07  \\\n",
       "ENTREZID                                                               \n",
       "1                            93.874433                     70.061003   \n",
       "2                           207.305970                    216.638642   \n",
       "9                            17.485826                     36.280252   \n",
       "10                            1.000000                      1.000000   \n",
       "12                           25.792118                     78.760457   \n",
       "\n",
       "          TCGA-WC-A88A-01A-11R-A405-07  TCGA-WC-AA9A-01A-11R-A405-07  \\\n",
       "ENTREZID                                                               \n",
       "1                            59.681281                     50.254368   \n",
       "2                           194.284084                    198.320010   \n",
       "9                            20.514909                     53.829497   \n",
       "10                            1.000000                      2.079162   \n",
       "12                           49.042052                     15.887044   \n",
       "\n",
       "          TCGA-WC-AA9E-01A-11R-A405-07  TCGA-YZ-A980-01A-11R-A405-07  \\\n",
       "ENTREZID                                                               \n",
       "1                            76.646400                     54.388235   \n",
       "2                           211.724076                    165.727596   \n",
       "9                            20.770005                     30.162363   \n",
       "10                            2.148258                      2.267579   \n",
       "12                           29.685352                    161.124243   \n",
       "\n",
       "          TCGA-YZ-A982-01A-11R-A405-07  TCGA-YZ-A983-01A-11R-A405-07  \\\n",
       "ENTREZID                                                               \n",
       "1                            59.010027                     91.742235   \n",
       "2                           183.295199                    215.327757   \n",
       "9                            15.280548                     27.198230   \n",
       "10                            1.000000                      1.000000   \n",
       "12                           81.569903                     20.049252   \n",
       "\n",
       "          TCGA-YZ-A984-01A-11R-A405-07  TCGA-YZ-A985-01A-11R-A405-07  \n",
       "ENTREZID                                                              \n",
       "1                            32.147755                     34.144815  \n",
       "2                           204.329778                    225.372707  \n",
       "9                            30.479879                     29.089414  \n",
       "10                            2.160605                      3.991786  \n",
       "12                          194.879795                     25.934106  \n",
       "\n",
       "[5 rows x 80 columns]"
      ]
     },
     "execution_count": 15,
     "metadata": {},
     "output_type": "execute_result"
    }
   ],
   "source": [
    "tpm = exprs / sum_fpkm *1000000 +1\n",
    "tpm.head()"
   ]
  },
  {
   "cell_type": "code",
   "execution_count": 16,
   "metadata": {},
   "outputs": [
    {
     "name": "stdout",
     "output_type": "stream",
     "text": [
      "(20531, 80)\n"
     ]
    },
    {
     "data": {
      "text/html": [
       "<div>\n",
       "<style scoped>\n",
       "    .dataframe tbody tr th:only-of-type {\n",
       "        vertical-align: middle;\n",
       "    }\n",
       "\n",
       "    .dataframe tbody tr th {\n",
       "        vertical-align: top;\n",
       "    }\n",
       "\n",
       "    .dataframe thead th {\n",
       "        text-align: right;\n",
       "    }\n",
       "</style>\n",
       "<table border=\"1\" class=\"dataframe\">\n",
       "  <thead>\n",
       "    <tr style=\"text-align: right;\">\n",
       "      <th></th>\n",
       "      <th>TCGA-RZ-AB0B-01A-11R-A405-07</th>\n",
       "      <th>TCGA-V3-A9ZX-01A-11R-A405-07</th>\n",
       "      <th>TCGA-V3-A9ZY-01A-11R-A405-07</th>\n",
       "      <th>TCGA-V4-A9E5-01A-11R-A405-07</th>\n",
       "      <th>TCGA-V4-A9E7-01A-11R-A405-07</th>\n",
       "      <th>TCGA-V4-A9E8-01A-11R-A405-07</th>\n",
       "      <th>TCGA-V4-A9E9-01A-11R-A405-07</th>\n",
       "      <th>TCGA-V4-A9EA-01A-11R-A405-07</th>\n",
       "      <th>TCGA-V4-A9EC-01A-11R-A405-07</th>\n",
       "      <th>TCGA-V4-A9ED-01A-11R-A405-07</th>\n",
       "      <th>...</th>\n",
       "      <th>TCGA-WC-A885-01A-11R-A405-07</th>\n",
       "      <th>TCGA-WC-A888-01A-11R-A405-07</th>\n",
       "      <th>TCGA-WC-A88A-01A-11R-A405-07</th>\n",
       "      <th>TCGA-WC-AA9A-01A-11R-A405-07</th>\n",
       "      <th>TCGA-WC-AA9E-01A-11R-A405-07</th>\n",
       "      <th>TCGA-YZ-A980-01A-11R-A405-07</th>\n",
       "      <th>TCGA-YZ-A982-01A-11R-A405-07</th>\n",
       "      <th>TCGA-YZ-A983-01A-11R-A405-07</th>\n",
       "      <th>TCGA-YZ-A984-01A-11R-A405-07</th>\n",
       "      <th>TCGA-YZ-A985-01A-11R-A405-07</th>\n",
       "    </tr>\n",
       "    <tr>\n",
       "      <th>ENTREZID</th>\n",
       "      <th></th>\n",
       "      <th></th>\n",
       "      <th></th>\n",
       "      <th></th>\n",
       "      <th></th>\n",
       "      <th></th>\n",
       "      <th></th>\n",
       "      <th></th>\n",
       "      <th></th>\n",
       "      <th></th>\n",
       "      <th></th>\n",
       "      <th></th>\n",
       "      <th></th>\n",
       "      <th></th>\n",
       "      <th></th>\n",
       "      <th></th>\n",
       "      <th></th>\n",
       "      <th></th>\n",
       "      <th></th>\n",
       "      <th></th>\n",
       "      <th></th>\n",
       "    </tr>\n",
       "  </thead>\n",
       "  <tbody>\n",
       "    <tr>\n",
       "      <th>1</th>\n",
       "      <td>5.841426</td>\n",
       "      <td>6.102142</td>\n",
       "      <td>6.746104</td>\n",
       "      <td>6.262336</td>\n",
       "      <td>5.921377</td>\n",
       "      <td>6.302396</td>\n",
       "      <td>6.499010</td>\n",
       "      <td>6.440422</td>\n",
       "      <td>6.697950</td>\n",
       "      <td>5.992789</td>\n",
       "      <td>...</td>\n",
       "      <td>6.552660</td>\n",
       "      <td>6.130540</td>\n",
       "      <td>5.899207</td>\n",
       "      <td>5.651177</td>\n",
       "      <td>6.260146</td>\n",
       "      <td>5.765223</td>\n",
       "      <td>5.882888</td>\n",
       "      <td>6.519514</td>\n",
       "      <td>5.006646</td>\n",
       "      <td>5.093595</td>\n",
       "    </tr>\n",
       "    <tr>\n",
       "      <th>2</th>\n",
       "      <td>7.628631</td>\n",
       "      <td>7.653862</td>\n",
       "      <td>7.891872</td>\n",
       "      <td>7.876547</td>\n",
       "      <td>7.682815</td>\n",
       "      <td>7.606893</td>\n",
       "      <td>7.953793</td>\n",
       "      <td>7.974020</td>\n",
       "      <td>7.617623</td>\n",
       "      <td>7.835998</td>\n",
       "      <td>...</td>\n",
       "      <td>7.695618</td>\n",
       "      <td>7.759147</td>\n",
       "      <td>7.602024</td>\n",
       "      <td>7.631686</td>\n",
       "      <td>7.726042</td>\n",
       "      <td>7.372670</td>\n",
       "      <td>7.518025</td>\n",
       "      <td>7.750390</td>\n",
       "      <td>7.674756</td>\n",
       "      <td>7.816169</td>\n",
       "    </tr>\n",
       "    <tr>\n",
       "      <th>9</th>\n",
       "      <td>5.686397</td>\n",
       "      <td>4.899506</td>\n",
       "      <td>4.685421</td>\n",
       "      <td>4.993837</td>\n",
       "      <td>4.194184</td>\n",
       "      <td>5.332963</td>\n",
       "      <td>4.989282</td>\n",
       "      <td>3.970770</td>\n",
       "      <td>4.844373</td>\n",
       "      <td>4.995277</td>\n",
       "      <td>...</td>\n",
       "      <td>4.128114</td>\n",
       "      <td>5.181113</td>\n",
       "      <td>4.358601</td>\n",
       "      <td>5.750325</td>\n",
       "      <td>4.376430</td>\n",
       "      <td>4.914678</td>\n",
       "      <td>3.933624</td>\n",
       "      <td>4.765441</td>\n",
       "      <td>4.929785</td>\n",
       "      <td>4.862422</td>\n",
       "    </tr>\n",
       "    <tr>\n",
       "      <th>10</th>\n",
       "      <td>0.851204</td>\n",
       "      <td>0.000000</td>\n",
       "      <td>0.874075</td>\n",
       "      <td>0.000000</td>\n",
       "      <td>0.000000</td>\n",
       "      <td>0.000000</td>\n",
       "      <td>0.000000</td>\n",
       "      <td>0.000000</td>\n",
       "      <td>0.000000</td>\n",
       "      <td>2.722923</td>\n",
       "      <td>...</td>\n",
       "      <td>0.000000</td>\n",
       "      <td>0.000000</td>\n",
       "      <td>0.000000</td>\n",
       "      <td>1.056002</td>\n",
       "      <td>1.103167</td>\n",
       "      <td>1.181153</td>\n",
       "      <td>0.000000</td>\n",
       "      <td>0.000000</td>\n",
       "      <td>1.111435</td>\n",
       "      <td>1.997034</td>\n",
       "    </tr>\n",
       "    <tr>\n",
       "      <th>12</th>\n",
       "      <td>6.563256</td>\n",
       "      <td>6.864452</td>\n",
       "      <td>5.114941</td>\n",
       "      <td>6.708521</td>\n",
       "      <td>4.647235</td>\n",
       "      <td>5.379469</td>\n",
       "      <td>4.164764</td>\n",
       "      <td>5.382988</td>\n",
       "      <td>6.313994</td>\n",
       "      <td>6.922532</td>\n",
       "      <td>...</td>\n",
       "      <td>4.688858</td>\n",
       "      <td>6.299400</td>\n",
       "      <td>5.615947</td>\n",
       "      <td>3.989779</td>\n",
       "      <td>4.891679</td>\n",
       "      <td>7.332030</td>\n",
       "      <td>6.349965</td>\n",
       "      <td>4.325477</td>\n",
       "      <td>7.606441</td>\n",
       "      <td>4.696779</td>\n",
       "    </tr>\n",
       "  </tbody>\n",
       "</table>\n",
       "<p>5 rows × 80 columns</p>\n",
       "</div>"
      ],
      "text/plain": [
       "          TCGA-RZ-AB0B-01A-11R-A405-07  TCGA-V3-A9ZX-01A-11R-A405-07  \\\n",
       "ENTREZID                                                               \n",
       "1                             5.841426                      6.102142   \n",
       "2                             7.628631                      7.653862   \n",
       "9                             5.686397                      4.899506   \n",
       "10                            0.851204                      0.000000   \n",
       "12                            6.563256                      6.864452   \n",
       "\n",
       "          TCGA-V3-A9ZY-01A-11R-A405-07  TCGA-V4-A9E5-01A-11R-A405-07  \\\n",
       "ENTREZID                                                               \n",
       "1                             6.746104                      6.262336   \n",
       "2                             7.891872                      7.876547   \n",
       "9                             4.685421                      4.993837   \n",
       "10                            0.874075                      0.000000   \n",
       "12                            5.114941                      6.708521   \n",
       "\n",
       "          TCGA-V4-A9E7-01A-11R-A405-07  TCGA-V4-A9E8-01A-11R-A405-07  \\\n",
       "ENTREZID                                                               \n",
       "1                             5.921377                      6.302396   \n",
       "2                             7.682815                      7.606893   \n",
       "9                             4.194184                      5.332963   \n",
       "10                            0.000000                      0.000000   \n",
       "12                            4.647235                      5.379469   \n",
       "\n",
       "          TCGA-V4-A9E9-01A-11R-A405-07  TCGA-V4-A9EA-01A-11R-A405-07  \\\n",
       "ENTREZID                                                               \n",
       "1                             6.499010                      6.440422   \n",
       "2                             7.953793                      7.974020   \n",
       "9                             4.989282                      3.970770   \n",
       "10                            0.000000                      0.000000   \n",
       "12                            4.164764                      5.382988   \n",
       "\n",
       "          TCGA-V4-A9EC-01A-11R-A405-07  TCGA-V4-A9ED-01A-11R-A405-07  ...  \\\n",
       "ENTREZID                                                              ...   \n",
       "1                             6.697950                      5.992789  ...   \n",
       "2                             7.617623                      7.835998  ...   \n",
       "9                             4.844373                      4.995277  ...   \n",
       "10                            0.000000                      2.722923  ...   \n",
       "12                            6.313994                      6.922532  ...   \n",
       "\n",
       "          TCGA-WC-A885-01A-11R-A405-07  TCGA-WC-A888-01A-11R-A405-07  \\\n",
       "ENTREZID                                                               \n",
       "1                             6.552660                      6.130540   \n",
       "2                             7.695618                      7.759147   \n",
       "9                             4.128114                      5.181113   \n",
       "10                            0.000000                      0.000000   \n",
       "12                            4.688858                      6.299400   \n",
       "\n",
       "          TCGA-WC-A88A-01A-11R-A405-07  TCGA-WC-AA9A-01A-11R-A405-07  \\\n",
       "ENTREZID                                                               \n",
       "1                             5.899207                      5.651177   \n",
       "2                             7.602024                      7.631686   \n",
       "9                             4.358601                      5.750325   \n",
       "10                            0.000000                      1.056002   \n",
       "12                            5.615947                      3.989779   \n",
       "\n",
       "          TCGA-WC-AA9E-01A-11R-A405-07  TCGA-YZ-A980-01A-11R-A405-07  \\\n",
       "ENTREZID                                                               \n",
       "1                             6.260146                      5.765223   \n",
       "2                             7.726042                      7.372670   \n",
       "9                             4.376430                      4.914678   \n",
       "10                            1.103167                      1.181153   \n",
       "12                            4.891679                      7.332030   \n",
       "\n",
       "          TCGA-YZ-A982-01A-11R-A405-07  TCGA-YZ-A983-01A-11R-A405-07  \\\n",
       "ENTREZID                                                               \n",
       "1                             5.882888                      6.519514   \n",
       "2                             7.518025                      7.750390   \n",
       "9                             3.933624                      4.765441   \n",
       "10                            0.000000                      0.000000   \n",
       "12                            6.349965                      4.325477   \n",
       "\n",
       "          TCGA-YZ-A984-01A-11R-A405-07  TCGA-YZ-A985-01A-11R-A405-07  \n",
       "ENTREZID                                                              \n",
       "1                             5.006646                      5.093595  \n",
       "2                             7.674756                      7.816169  \n",
       "9                             4.929785                      4.862422  \n",
       "10                            1.111435                      1.997034  \n",
       "12                            7.606441                      4.696779  \n",
       "\n",
       "[5 rows x 80 columns]"
      ]
     },
     "execution_count": 16,
     "metadata": {},
     "output_type": "execute_result"
    }
   ],
   "source": [
    "\n",
    "tpm = tpm.applymap(np.log2)\n",
    "tpm.to_csv(preprocessed_data_dir + \"PDX.FPKM2TPMplus1log2.Expr.tsv\",sep=\"\\t\")\n",
    "print(tpm.shape)\n",
    "tpm.head()"
   ]
  },
  {
   "cell_type": "code",
   "execution_count": null,
   "metadata": {},
   "outputs": [],
   "source": []
  },
  {
   "cell_type": "code",
   "execution_count": null,
   "metadata": {},
   "outputs": [],
   "source": []
  }
 ],
 "metadata": {
  "kernelspec": {
   "display_name": "Python 3",
   "language": "python",
   "name": "python3"
  },
  "language_info": {
   "codemirror_mode": {
    "name": "ipython",
    "version": 3
   },
   "file_extension": ".py",
   "mimetype": "text/x-python",
   "name": "python",
   "nbconvert_exporter": "python",
   "pygments_lexer": "ipython3",
   "version": "3.7.3"
  }
 },
 "nbformat": 4,
 "nbformat_minor": 2
}
