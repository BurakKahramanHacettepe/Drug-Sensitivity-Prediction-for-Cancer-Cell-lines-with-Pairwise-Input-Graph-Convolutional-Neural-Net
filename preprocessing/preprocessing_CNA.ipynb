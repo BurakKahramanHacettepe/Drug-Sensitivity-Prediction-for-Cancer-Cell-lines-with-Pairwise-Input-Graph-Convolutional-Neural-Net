{
 "cells": [
  {
   "cell_type": "code",
   "execution_count": 95,
   "metadata": {},
   "outputs": [
    {
     "name": "stdout",
     "output_type": "stream",
     "text": [
      "Defaulting to user installation because normal site-packages is not writeable\n",
      "Collecting xlrd\n",
      "  Downloading xlrd-1.2.0-py2.py3-none-any.whl (103 kB)\n",
      "\u001b[K     |████████████████████████████████| 103 kB 527 kB/s eta 0:00:01\n",
      "\u001b[?25hInstalling collected packages: xlrd\n",
      "Successfully installed xlrd-1.2.0\n"
     ]
    }
   ],
   "source": [
    "# pip install pybedtools==0.8.1\n",
    "# pip install pandas\n",
    "# pip install matplotlib\n",
    "!pip install xlrd"
   ]
  },
  {
   "cell_type": "code",
   "execution_count": 1,
   "metadata": {},
   "outputs": [],
   "source": [
    "from __future__ import print_function\n",
    "import pandas as pd\n",
    "import os,sys\n",
    "import pybedtools as pbt\n",
    "from io import StringIO\n",
    "import numpy as np\n",
    "import matplotlib.pyplot as plt\n",
    "import numpy as np\n",
    "import time\n",
    "from mapper import expand, parse_mapping_table, apply_mappers\n",
    "%matplotlib inline\n",
    "\n",
    "\n",
    "chr_dict = dict(zip(range(1,22),map(str,range(1,22))))\n",
    "chr_dict.update({22: 'X', 23: \"Y\"})\n",
    "\n",
    "# root_dir = \"/home/nisahopcu/\"\n",
    "# gene_coords_file = root_dir + \"ref_GRCh37.p5_top_level.gff3.bed\" # must contain chromosome, start, end and Entrez Gene ID for hg19"
   ]
  },
  {
   "cell_type": "code",
   "execution_count": 2,
   "metadata": {},
   "outputs": [],
   "source": [
    "import warnings\n",
    "warnings.filterwarnings(\"ignore\")"
   ]
  },
  {
   "cell_type": "code",
   "execution_count": 16,
   "metadata": {},
   "outputs": [],
   "source": [
    "num_marker_thr = 5\n",
    "# to detect 1 copy gains or losses presenting at CCF >= 0.3\n",
    "pos_seg_mean_thr = 0.20\n",
    "neg_seg_mean_thr = -0.23\n",
    "preprocessed_dir = \"preprocessed/CNA/\""
   ]
  },
  {
   "cell_type": "code",
   "execution_count": 67,
   "metadata": {},
   "outputs": [],
   "source": [
    "### functions for TCGA and CCLE #################################\n",
    "def filter_lowconf_segments(df,num_marker_thr,pos_seg_mean_thr, neg_seg_mean_thr ):\n",
    "    # filter low-confidence segments with too few probes\n",
    "    df = df[df[\"Num_Probes\"] >= num_marker_thr ]\n",
    "    # filter low-confidence segments with Segment_Mean too close to zero:\n",
    "    df = df[ (df[\"Segment_Mean\"] >= pos_seg_mean_thr) | (df[\"Segment_Mean\"] <= neg_seg_mean_thr)]\n",
    "    return df\n",
    "\n",
    "def sample_type(barcode):\n",
    "    if barcode[13:16] in [\"10A\",\"10B\",\"11A\",\"11B\",\"10C\",\"11C\"]:\n",
    "        return \"Normal\"\n",
    "    else:\n",
    "        return \"Tumor\"\n",
    "\n",
    "def find_matching_normal(tumor_barcode,barcodes_list):\n",
    "    patient_id = tumor_barcode[:12]\n",
    "    normal_barcodes = []\n",
    "    for barcode in barcodes_list:\n",
    "        if barcode.startswith(patient_id) and sample_type(barcode) == \"Normal\":\n",
    "            normal_barcodes.append(barcode)\n",
    "    return normal_barcodes\n",
    "\n",
    "def cnv2bed(seg):\n",
    "    #cnv_bed = seg[[\"Chromosome\",\"Start\",\"End\",\"Segment_Mean\"]]\n",
    "    #cnv_bed.columns = [\"chrom\",\"start\",\"stop\",\"Segment_Mean\"]\n",
    "    cnv_bed = seg.rename({\"Chromosome\":\"chrom\",\"Start\":\"start\",\n",
    "                          \"End\":\"stop\"},axis=\"columns\")\n",
    "    cnv_bed = cnv_bed.loc[:,[\"chrom\",\"start\",\"stop\",\"Segment_Mean\",\"Sample\",\"Num_Probes\"]]\n",
    "    return  pbt.BedTool.from_dataframe(cnv_bed)\n",
    "\n",
    "def bed2cnv(cnv_bed):\n",
    "    cnv_bed = str(cnv_bed)\n",
    "    if len(cnv_bed) > 0:\n",
    "        seg = pd.read_csv(StringIO(cnv_bed),sep = \"\\t\",header=None)\n",
    "        seg.columns = [\"Chromosome\",\"Start\",\"End\",\"Segment_Mean\",\"Sample\",\"Num_Probes\"]\n",
    "        seg = seg.loc[:,[\"Sample\",\"Chromosome\",\"Start\",\"End\",\"Num_Probes\",\"Segment_Mean\"]]\n",
    "    else:\n",
    "        seg = pd.DataFrame(columns=[\"Sample\",\"Chromosome\",\"Start\",\"End\",\"Num_Probes\",\"Segment_Mean\"])\n",
    "    return seg\n",
    "def remove_ovelapping_segments(tumor, normal,sample_name):\n",
    "    tumor_bed = cnv2bed(tumor)\n",
    "    normal_bed = cnv2bed(normal)\n",
    "    tumor_wo_germline = tumor_bed.subtract(normal_bed,r=True,f=0.8,A=True)\n",
    "    tumor_wo_germline  = bed2cnv(tumor_wo_germline)\n",
    "    n_segs_removed = tumor.shape[0] - tumor_wo_germline.shape[0]\n",
    "    if n_segs_removed*1.0/tumor.shape[0] > 0.5 and n_segs_removed>5 :\n",
    "        print(n_segs_removed,\"of\",tumor.shape[0],\"segments removed in\",sample_name,\"due to overlap with normal\",file = sys.stderr)\n",
    "    return tumor_wo_germline\n",
    "\n",
    "def cnv2genelevel(cnv_bed,gene_intervals_bed,sample_name,verbose = True,sorted_index = \"\"):\n",
    "    \n",
    "    # intersect \n",
    "    cnv2gene = str(gene_intervals_bed.intersect(cnv_bed,wb = True,wa=True))\n",
    "    if len(cnv2gene)==0: # if no intersection, return all zeroes\n",
    "        print(sample_name,\"has no genes with altered CN\",file = sys.stderr)\n",
    "        return pd.DataFrame(columns=[sample])\n",
    "    cnv2gene = pd.read_csv(StringIO(cnv2gene),sep = \"\\t\",header=None)\n",
    "    cnv2gene = cnv2gene[[3,7]].copy()\n",
    "    cnv2gene.columns = [\"gene\",\"Segment_Mean\"] \n",
    "    \n",
    "    # find genes overlapping with more than one segment:\n",
    "    # take the most exterme segement_mean value\n",
    "    \n",
    "    dups = cnv2gene.loc[cnv2gene.duplicated(subset=[\"gene\"],keep=False),]\n",
    "    if dups.shape[0] > 0:\n",
    "        cnv2gene = cnv2gene.drop_duplicates(subset=[\"gene\"],keep=False)\n",
    "        dups[\"abs_seg_mean\"] = abs(dups[\"Segment_Mean\"])\n",
    "        if verbose:\n",
    "            print(sample_name,\"contain \",len(set(dups[\"gene\"].values)),\"genes overalpped with more than one segment\",file=sys.stderr)\n",
    "            #print(dups.head(10),file=sys.stderr)\n",
    "        dups = dups.groupby(['gene'], group_keys=False).apply(lambda row: row.loc[row['abs_seg_mean'].idxmax()])\n",
    "        cnv2gene = pd.concat([cnv2gene,dups],sort=False)\n",
    "\n",
    "    cnv2gene = cnv2gene[[\"gene\",\"Segment_Mean\"]]\n",
    "    cnv_baseline = cnv2gene.copy()\n",
    "    cnv_baseline[\"Segment_Mean\"] = [0]*cnv_baseline.shape[0]\n",
    "    cnv_baseline = cnv_baseline[[\"gene\",\"Segment_Mean\"]]\n",
    "    cnv_baseline.set_index(\"gene\",inplace=True,drop=True)\n",
    "    cnv_baseline.sort_index(inplace=True)\n",
    "    sorted_index = list(cnv_baseline.index.values)\n",
    "    \n",
    "    cnv2gene.set_index(\"gene\",inplace=True,drop=True)\n",
    "    cnv2gene.rename(int,axis=0,inplace=True)\n",
    "    # add copy-neutral genes with 0s\n",
    "    cnv2gene = cnv2gene.loc[sorted_index,:]\n",
    "    cnv2gene.columns = [sample_name]\n",
    "    return cnv2gene\n",
    "\n",
    "\n",
    "### functions for GDSC and PDX #################################\n",
    "\n",
    "def CN2log2R(col, median_ploidy=2 ):\n",
    "    # this is fr GDSC only\n",
    "    lRs = []\n",
    "    genes = col.index.values\n",
    "    for code in col.values:\n",
    "        if not code == \"-1,-1,-,-\":\n",
    "            [max_cn,min_cn,zygosity,disruption] = code.split(\",\")\n",
    "            if int(max_cn) == 0:\n",
    "                lRs.append(-4.32) # CN=0 with 95% purity\n",
    "            else:\n",
    "                max_lR = np.log2(float(max_cn)/median_ploidy)\n",
    "                if not disruption == \"D\":\n",
    "                    lRs.append(max_lR)\n",
    "                else:\n",
    "                    if int(min_cn) == 0:\n",
    "                        min_lR = -4.32\n",
    "                    else:\n",
    "                        min_lR = np.log2(float(min_cn)/median_ploidy)\n",
    "                    if abs(min_lR) > abs(max_lR):\n",
    "                        lRs.append(min_lR)\n",
    "                    else:\n",
    "                        lRs.append(max_lR)\n",
    "                \n",
    "        else:\n",
    "            lRs.append(np.NaN)\n",
    "    return pd.Series(dict(zip(genes, lRs)))\n",
    "\n",
    "def define_avg_ploidy(col):\n",
    "    n,pl = 0,0\n",
    "    CN_non_disrupted = []\n",
    "    for code in col.values:\n",
    "        if not code == \"-1,-1,-,-\":\n",
    "            [max_cn,min_cn,zygosity,disruption] = code.split(\",\")\n",
    "            n+=1\n",
    "            cn = (int(max_cn)+int(min_cn))*0.5\n",
    "            pl += cn\n",
    "            if not disruption == \"D\":\n",
    "                CN_non_disrupted.append((cn))\n",
    "    return pd.Series({\"avg_pl\":pl/n , \"median_pl\":np.median(CN_non_disrupted)})\n",
    "\n",
    "def clean_logR(logR_value, pos_seg_mean_thr, neg_seg_mean_thr):\n",
    "    if logR_value >= pos_seg_mean_thr:\n",
    "        return logR_value \n",
    "    elif logR_value <= neg_seg_mean_thr:\n",
    "            return logR_value \n",
    "    else:\n",
    "        return 0\n",
    "    \n",
    "def handle_dups(df,corr_thr = 0.75):\n",
    "    '''Detect dupliated row IDs. Merge 2 or more rows with the same ID, \n",
    "    if averaged correlation in all pairvise comparision is >= corr_thhr;\\n\n",
    "    otherwise drop all duplicates.  Keeps abs. max value (negative preferred).'''\n",
    "    dups = df.index\n",
    "    dups = list(set(dups[dups.duplicated()]))\n",
    "    if len(dups)==0:\n",
    "        print(\"No duplicated row IDs. Do nothing.\")\n",
    "        return df\n",
    "    print(len(dups), \"duplicated IDs in\",df.loc[dups,:].shape[0],\"rows found.\")\n",
    "    dups_merge = [] # if corr > corr_thr\n",
    "    dups_remove = [] # corr < \n",
    "    for dup in dups:\n",
    "        r = df.loc[dup,:].T.corr()\n",
    "        n_dups = df.loc[dup,:].shape[0]\n",
    "        r_avg = []\n",
    "        for i in range(0,n_dups):\n",
    "            for j in range(i+1,n_dups):\n",
    "                r_avg.append(r.iloc[i,j])\n",
    "        if np.average(r_avg) < corr_thr :\n",
    "            #print(dup,r_avg, n_dups)\n",
    "            dups_remove.append(dup)\n",
    "        else:\n",
    "            dups_merge.append(dup)\n",
    "    \n",
    "    # remove not similar duplicates\n",
    "    df_size = df.shape[0]\n",
    "    df = df.loc[~df.index.isin(dups_remove),:]\n",
    "    print(\"duplicate rows removed due to low correlation of duplicated profiles\",df_size -df.shape[0] )\n",
    "    df_size = df.shape[0]\n",
    "    \n",
    "    # merge simialr duplicates\n",
    "    d1 = df.loc[~df.index.isin(dups_merge),:]\n",
    "    d2 = df.loc[dups_merge,:]\n",
    "    d2 = d2.groupby(d2.index).agg(lambda x: -max(-x.max(),-x.min(),key= abs))\n",
    "    df = pd.concat([d1,d2])\n",
    "    df.sort_index(inplace=True)\n",
    "    print(\"Merged \",df_size-df.shape[0]+len(dups_merge),\"duplicated rows into\",len(dups_merge),\"rows\")\n",
    "    return df"
   ]
  },
  {
   "cell_type": "code",
   "execution_count": 5,
   "metadata": {},
   "outputs": [
    {
     "name": "stdout",
     "output_type": "stream",
     "text": [
      "segments in tumor 204 segemtns in normal 121\n"
     ]
    },
    {
     "data": {
      "text/html": [
       "<div>\n",
       "<style scoped>\n",
       "    .dataframe tbody tr th:only-of-type {\n",
       "        vertical-align: middle;\n",
       "    }\n",
       "\n",
       "    .dataframe tbody tr th {\n",
       "        vertical-align: top;\n",
       "    }\n",
       "\n",
       "    .dataframe thead th {\n",
       "        text-align: right;\n",
       "    }\n",
       "</style>\n",
       "<table border=\"1\" class=\"dataframe\">\n",
       "  <thead>\n",
       "    <tr style=\"text-align: right;\">\n",
       "      <th></th>\n",
       "      <th>Sample</th>\n",
       "      <th>Chromosome</th>\n",
       "      <th>Start</th>\n",
       "      <th>End</th>\n",
       "      <th>Num_Probes</th>\n",
       "      <th>Segment_Mean</th>\n",
       "    </tr>\n",
       "  </thead>\n",
       "  <tbody>\n",
       "    <tr>\n",
       "      <th>57803</th>\n",
       "      <td>TCGA-ZJ-AAXJ-10A-01D-A42Q-01</td>\n",
       "      <td>11</td>\n",
       "      <td>456120</td>\n",
       "      <td>8896255</td>\n",
       "      <td>4489.0</td>\n",
       "      <td>-0.0113</td>\n",
       "    </tr>\n",
       "    <tr>\n",
       "      <th>57804</th>\n",
       "      <td>TCGA-ZJ-AAXJ-10A-01D-A42Q-01</td>\n",
       "      <td>11</td>\n",
       "      <td>8899400</td>\n",
       "      <td>8899668</td>\n",
       "      <td>3.0</td>\n",
       "      <td>-1.3344</td>\n",
       "    </tr>\n",
       "    <tr>\n",
       "      <th>57805</th>\n",
       "      <td>TCGA-ZJ-AAXJ-10A-01D-A42Q-01</td>\n",
       "      <td>11</td>\n",
       "      <td>8900394</td>\n",
       "      <td>126596817</td>\n",
       "      <td>67487.0</td>\n",
       "      <td>0.0010</td>\n",
       "    </tr>\n",
       "    <tr>\n",
       "      <th>57806</th>\n",
       "      <td>TCGA-ZJ-AAXJ-10A-01D-A42Q-01</td>\n",
       "      <td>11</td>\n",
       "      <td>126596926</td>\n",
       "      <td>127130276</td>\n",
       "      <td>453.0</td>\n",
       "      <td>-1.0306</td>\n",
       "    </tr>\n",
       "    <tr>\n",
       "      <th>57807</th>\n",
       "      <td>TCGA-ZJ-AAXJ-10A-01D-A42Q-01</td>\n",
       "      <td>11</td>\n",
       "      <td>127132920</td>\n",
       "      <td>128342803</td>\n",
       "      <td>864.0</td>\n",
       "      <td>-0.0031</td>\n",
       "    </tr>\n",
       "    <tr>\n",
       "      <th>57808</th>\n",
       "      <td>TCGA-ZJ-AAXJ-10A-01D-A42Q-01</td>\n",
       "      <td>11</td>\n",
       "      <td>128342819</td>\n",
       "      <td>128350888</td>\n",
       "      <td>44.0</td>\n",
       "      <td>0.2824</td>\n",
       "    </tr>\n",
       "    <tr>\n",
       "      <th>57809</th>\n",
       "      <td>TCGA-ZJ-AAXJ-10A-01D-A42Q-01</td>\n",
       "      <td>11</td>\n",
       "      <td>128353007</td>\n",
       "      <td>134142530</td>\n",
       "      <td>3708.0</td>\n",
       "      <td>0.0082</td>\n",
       "    </tr>\n",
       "  </tbody>\n",
       "</table>\n",
       "</div>"
      ],
      "text/plain": [
       "                             Sample  Chromosome      Start        End  \\\n",
       "57803  TCGA-ZJ-AAXJ-10A-01D-A42Q-01          11     456120    8896255   \n",
       "57804  TCGA-ZJ-AAXJ-10A-01D-A42Q-01          11    8899400    8899668   \n",
       "57805  TCGA-ZJ-AAXJ-10A-01D-A42Q-01          11    8900394  126596817   \n",
       "57806  TCGA-ZJ-AAXJ-10A-01D-A42Q-01          11  126596926  127130276   \n",
       "57807  TCGA-ZJ-AAXJ-10A-01D-A42Q-01          11  127132920  128342803   \n",
       "57808  TCGA-ZJ-AAXJ-10A-01D-A42Q-01          11  128342819  128350888   \n",
       "57809  TCGA-ZJ-AAXJ-10A-01D-A42Q-01          11  128353007  134142530   \n",
       "\n",
       "       Num_Probes  Segment_Mean  \n",
       "57803      4489.0       -0.0113  \n",
       "57804         3.0       -1.3344  \n",
       "57805     67487.0        0.0010  \n",
       "57806       453.0       -1.0306  \n",
       "57807       864.0       -0.0031  \n",
       "57808        44.0        0.2824  \n",
       "57809      3708.0        0.0082  "
      ]
     },
     "execution_count": 5,
     "metadata": {},
     "output_type": "execute_result"
    }
   ],
   "source": [
    "#file_path = \"../../TCGA/CNA/data/gdac.broadinstitute.org_CESC.Merge_snp__genome_wide_snp_6__broad_mit_edu__Level_3__segmented_scna_minus_germline_cnv_hg19__seg.Level_3.2015082100.0.0/CESC.snp__genome_wide_snp_6__broad_mit_edu__Level_3__segmented_scna_minus_germline_cnv_hg19__seg.seg.txt\"\n",
    "\n",
    "file_path = \"TCGA/CNA/data__2016_01_28/gdac.broadinstitute.org_CESC.Merge_snp__genome_wide_snp_6__broad_mit_edu__Level_3__segmented_scna_minus_germline_cnv_hg19__seg.Level_3.2016012800.0.0/CESC.txt\"\n",
    "df = pd.read_csv(file_path, sep = \"\\t\")\n",
    "tumor_barcode = \"TCGA-ZJ-AAXJ-01A-11D-A42N-01\"\n",
    "t = df.loc[df[\"Sample\"]==tumor_barcode,:]\n",
    "t_shape = t.shape[0]\n",
    "n = find_matching_normal(tumor_barcode,list(set(df[\"Sample\"].values)))\n",
    "n = df.loc[df[\"Sample\"]==n[0],:]\n",
    "print(\"segments in tumor\",t.shape[0],\"segemtns in normal\",n.shape[0])\n",
    "\n",
    "n.loc[n['Chromosome']==11,:]"
   ]
  },
  {
   "cell_type": "code",
   "execution_count": 6,
   "metadata": {},
   "outputs": [
    {
     "data": {
      "text/html": [
       "<div>\n",
       "<style scoped>\n",
       "    .dataframe tbody tr th:only-of-type {\n",
       "        vertical-align: middle;\n",
       "    }\n",
       "\n",
       "    .dataframe tbody tr th {\n",
       "        vertical-align: top;\n",
       "    }\n",
       "\n",
       "    .dataframe thead th {\n",
       "        text-align: right;\n",
       "    }\n",
       "</style>\n",
       "<table border=\"1\" class=\"dataframe\">\n",
       "  <thead>\n",
       "    <tr style=\"text-align: right;\">\n",
       "      <th></th>\n",
       "      <th>Sample</th>\n",
       "      <th>Chromosome</th>\n",
       "      <th>Start</th>\n",
       "      <th>End</th>\n",
       "      <th>Num_Probes</th>\n",
       "      <th>Segment_Mean</th>\n",
       "    </tr>\n",
       "  </thead>\n",
       "  <tbody>\n",
       "    <tr>\n",
       "      <th>57960</th>\n",
       "      <td>TCGA-ZJ-AAXJ-01A-11D-A42N-01</td>\n",
       "      <td>11</td>\n",
       "      <td>456120</td>\n",
       "      <td>64200041</td>\n",
       "      <td>34710.0</td>\n",
       "      <td>0.0054</td>\n",
       "    </tr>\n",
       "    <tr>\n",
       "      <th>57961</th>\n",
       "      <td>TCGA-ZJ-AAXJ-01A-11D-A42N-01</td>\n",
       "      <td>11</td>\n",
       "      <td>64208988</td>\n",
       "      <td>64319750</td>\n",
       "      <td>61.0</td>\n",
       "      <td>-0.6748</td>\n",
       "    </tr>\n",
       "    <tr>\n",
       "      <th>57962</th>\n",
       "      <td>TCGA-ZJ-AAXJ-01A-11D-A42N-01</td>\n",
       "      <td>11</td>\n",
       "      <td>64325209</td>\n",
       "      <td>126596817</td>\n",
       "      <td>37207.0</td>\n",
       "      <td>0.0571</td>\n",
       "    </tr>\n",
       "    <tr>\n",
       "      <th>57963</th>\n",
       "      <td>TCGA-ZJ-AAXJ-01A-11D-A42N-01</td>\n",
       "      <td>11</td>\n",
       "      <td>126596926</td>\n",
       "      <td>127130276</td>\n",
       "      <td>454.0</td>\n",
       "      <td>-1.0760</td>\n",
       "    </tr>\n",
       "    <tr>\n",
       "      <th>57964</th>\n",
       "      <td>TCGA-ZJ-AAXJ-01A-11D-A42N-01</td>\n",
       "      <td>11</td>\n",
       "      <td>127132920</td>\n",
       "      <td>132080656</td>\n",
       "      <td>3591.0</td>\n",
       "      <td>0.0449</td>\n",
       "    </tr>\n",
       "    <tr>\n",
       "      <th>57965</th>\n",
       "      <td>TCGA-ZJ-AAXJ-01A-11D-A42N-01</td>\n",
       "      <td>11</td>\n",
       "      <td>132080885</td>\n",
       "      <td>132099465</td>\n",
       "      <td>15.0</td>\n",
       "      <td>-0.6123</td>\n",
       "    </tr>\n",
       "    <tr>\n",
       "      <th>57966</th>\n",
       "      <td>TCGA-ZJ-AAXJ-01A-11D-A42N-01</td>\n",
       "      <td>11</td>\n",
       "      <td>132099856</td>\n",
       "      <td>134142530</td>\n",
       "      <td>1010.0</td>\n",
       "      <td>0.0483</td>\n",
       "    </tr>\n",
       "  </tbody>\n",
       "</table>\n",
       "</div>"
      ],
      "text/plain": [
       "                             Sample  Chromosome      Start        End  \\\n",
       "57960  TCGA-ZJ-AAXJ-01A-11D-A42N-01          11     456120   64200041   \n",
       "57961  TCGA-ZJ-AAXJ-01A-11D-A42N-01          11   64208988   64319750   \n",
       "57962  TCGA-ZJ-AAXJ-01A-11D-A42N-01          11   64325209  126596817   \n",
       "57963  TCGA-ZJ-AAXJ-01A-11D-A42N-01          11  126596926  127130276   \n",
       "57964  TCGA-ZJ-AAXJ-01A-11D-A42N-01          11  127132920  132080656   \n",
       "57965  TCGA-ZJ-AAXJ-01A-11D-A42N-01          11  132080885  132099465   \n",
       "57966  TCGA-ZJ-AAXJ-01A-11D-A42N-01          11  132099856  134142530   \n",
       "\n",
       "       Num_Probes  Segment_Mean  \n",
       "57960     34710.0        0.0054  \n",
       "57961        61.0       -0.6748  \n",
       "57962     37207.0        0.0571  \n",
       "57963       454.0       -1.0760  \n",
       "57964      3591.0        0.0449  \n",
       "57965        15.0       -0.6123  \n",
       "57966      1010.0        0.0483  "
      ]
     },
     "execution_count": 6,
     "metadata": {},
     "output_type": "execute_result"
    }
   ],
   "source": [
    "t.loc[t[\"Chromosome\"] ==11,:]"
   ]
  },
  {
   "cell_type": "code",
   "execution_count": 7,
   "metadata": {},
   "outputs": [
    {
     "name": "stdout",
     "output_type": "stream",
     "text": [
      "segemtns in normal after dropping low.conf.: 38\n"
     ]
    },
    {
     "data": {
      "text/html": [
       "<div>\n",
       "<style scoped>\n",
       "    .dataframe tbody tr th:only-of-type {\n",
       "        vertical-align: middle;\n",
       "    }\n",
       "\n",
       "    .dataframe tbody tr th {\n",
       "        vertical-align: top;\n",
       "    }\n",
       "\n",
       "    .dataframe thead th {\n",
       "        text-align: right;\n",
       "    }\n",
       "</style>\n",
       "<table border=\"1\" class=\"dataframe\">\n",
       "  <thead>\n",
       "    <tr style=\"text-align: right;\">\n",
       "      <th></th>\n",
       "      <th>Sample</th>\n",
       "      <th>Chromosome</th>\n",
       "      <th>Start</th>\n",
       "      <th>End</th>\n",
       "      <th>Num_Probes</th>\n",
       "      <th>Segment_Mean</th>\n",
       "    </tr>\n",
       "  </thead>\n",
       "  <tbody>\n",
       "    <tr>\n",
       "      <th>57804</th>\n",
       "      <td>TCGA-ZJ-AAXJ-10A-01D-A42Q-01</td>\n",
       "      <td>11</td>\n",
       "      <td>8899400</td>\n",
       "      <td>8899668</td>\n",
       "      <td>3.0</td>\n",
       "      <td>-1.3344</td>\n",
       "    </tr>\n",
       "    <tr>\n",
       "      <th>57806</th>\n",
       "      <td>TCGA-ZJ-AAXJ-10A-01D-A42Q-01</td>\n",
       "      <td>11</td>\n",
       "      <td>126596926</td>\n",
       "      <td>127130276</td>\n",
       "      <td>453.0</td>\n",
       "      <td>-1.0306</td>\n",
       "    </tr>\n",
       "  </tbody>\n",
       "</table>\n",
       "</div>"
      ],
      "text/plain": [
       "                             Sample  Chromosome      Start        End  \\\n",
       "57804  TCGA-ZJ-AAXJ-10A-01D-A42Q-01          11    8899400    8899668   \n",
       "57806  TCGA-ZJ-AAXJ-10A-01D-A42Q-01          11  126596926  127130276   \n",
       "\n",
       "       Num_Probes  Segment_Mean  \n",
       "57804         3.0       -1.3344  \n",
       "57806       453.0       -1.0306  "
      ]
     },
     "execution_count": 7,
     "metadata": {},
     "output_type": "execute_result"
    }
   ],
   "source": [
    "n = filter_lowconf_segments(n,0,0.46, -0.68 )\n",
    "print(\"segemtns in normal after dropping low.conf.:\",n.shape[0])\n",
    "n.loc[n['Chromosome']==11,:]"
   ]
  },
  {
   "cell_type": "code",
   "execution_count": 8,
   "metadata": {},
   "outputs": [
    {
     "name": "stdout",
     "output_type": "stream",
     "text": [
      "segemtns in tumor after removing germlines: 194\n"
     ]
    },
    {
     "data": {
      "text/html": [
       "<div>\n",
       "<style scoped>\n",
       "    .dataframe tbody tr th:only-of-type {\n",
       "        vertical-align: middle;\n",
       "    }\n",
       "\n",
       "    .dataframe tbody tr th {\n",
       "        vertical-align: top;\n",
       "    }\n",
       "\n",
       "    .dataframe thead th {\n",
       "        text-align: right;\n",
       "    }\n",
       "</style>\n",
       "<table border=\"1\" class=\"dataframe\">\n",
       "  <thead>\n",
       "    <tr style=\"text-align: right;\">\n",
       "      <th></th>\n",
       "      <th>Sample</th>\n",
       "      <th>Chromosome</th>\n",
       "      <th>Start</th>\n",
       "      <th>End</th>\n",
       "      <th>Num_Probes</th>\n",
       "      <th>Segment_Mean</th>\n",
       "    </tr>\n",
       "  </thead>\n",
       "  <tbody>\n",
       "    <tr>\n",
       "      <th>96</th>\n",
       "      <td>TCGA-ZJ-AAXJ-01A-11D-A42N-01</td>\n",
       "      <td>11</td>\n",
       "      <td>456120</td>\n",
       "      <td>64200041</td>\n",
       "      <td>34710.0</td>\n",
       "      <td>0.0054</td>\n",
       "    </tr>\n",
       "    <tr>\n",
       "      <th>97</th>\n",
       "      <td>TCGA-ZJ-AAXJ-01A-11D-A42N-01</td>\n",
       "      <td>11</td>\n",
       "      <td>64208988</td>\n",
       "      <td>64319750</td>\n",
       "      <td>61.0</td>\n",
       "      <td>-0.6748</td>\n",
       "    </tr>\n",
       "    <tr>\n",
       "      <th>98</th>\n",
       "      <td>TCGA-ZJ-AAXJ-01A-11D-A42N-01</td>\n",
       "      <td>11</td>\n",
       "      <td>64325209</td>\n",
       "      <td>126596817</td>\n",
       "      <td>37207.0</td>\n",
       "      <td>0.0571</td>\n",
       "    </tr>\n",
       "    <tr>\n",
       "      <th>99</th>\n",
       "      <td>TCGA-ZJ-AAXJ-01A-11D-A42N-01</td>\n",
       "      <td>11</td>\n",
       "      <td>127132920</td>\n",
       "      <td>132080656</td>\n",
       "      <td>3591.0</td>\n",
       "      <td>0.0449</td>\n",
       "    </tr>\n",
       "    <tr>\n",
       "      <th>100</th>\n",
       "      <td>TCGA-ZJ-AAXJ-01A-11D-A42N-01</td>\n",
       "      <td>11</td>\n",
       "      <td>132080885</td>\n",
       "      <td>132099465</td>\n",
       "      <td>15.0</td>\n",
       "      <td>-0.6123</td>\n",
       "    </tr>\n",
       "    <tr>\n",
       "      <th>101</th>\n",
       "      <td>TCGA-ZJ-AAXJ-01A-11D-A42N-01</td>\n",
       "      <td>11</td>\n",
       "      <td>132099856</td>\n",
       "      <td>134142530</td>\n",
       "      <td>1010.0</td>\n",
       "      <td>0.0483</td>\n",
       "    </tr>\n",
       "  </tbody>\n",
       "</table>\n",
       "</div>"
      ],
      "text/plain": [
       "                           Sample  Chromosome      Start        End  \\\n",
       "96   TCGA-ZJ-AAXJ-01A-11D-A42N-01          11     456120   64200041   \n",
       "97   TCGA-ZJ-AAXJ-01A-11D-A42N-01          11   64208988   64319750   \n",
       "98   TCGA-ZJ-AAXJ-01A-11D-A42N-01          11   64325209  126596817   \n",
       "99   TCGA-ZJ-AAXJ-01A-11D-A42N-01          11  127132920  132080656   \n",
       "100  TCGA-ZJ-AAXJ-01A-11D-A42N-01          11  132080885  132099465   \n",
       "101  TCGA-ZJ-AAXJ-01A-11D-A42N-01          11  132099856  134142530   \n",
       "\n",
       "     Num_Probes  Segment_Mean  \n",
       "96      34710.0        0.0054  \n",
       "97         61.0       -0.6748  \n",
       "98      37207.0        0.0571  \n",
       "99       3591.0        0.0449  \n",
       "100        15.0       -0.6123  \n",
       "101      1010.0        0.0483  "
      ]
     },
     "execution_count": 8,
     "metadata": {},
     "output_type": "execute_result"
    }
   ],
   "source": [
    "t = remove_ovelapping_segments(t, n,tumor_barcode)\n",
    "print(\"segemtns in tumor after removing germlines:\",t.shape[0])\n",
    "t.loc[t[\"Chromosome\"] ==11,:]"
   ]
  },
  {
   "cell_type": "code",
   "execution_count": 9,
   "metadata": {
    "scrolled": false
   },
   "outputs": [
    {
     "name": "stdout",
     "output_type": "stream",
     "text": [
      "segemtns in tumor after dropping low.conf.: 101\n"
     ]
    },
    {
     "data": {
      "text/html": [
       "<div>\n",
       "<style scoped>\n",
       "    .dataframe tbody tr th:only-of-type {\n",
       "        vertical-align: middle;\n",
       "    }\n",
       "\n",
       "    .dataframe tbody tr th {\n",
       "        vertical-align: top;\n",
       "    }\n",
       "\n",
       "    .dataframe thead th {\n",
       "        text-align: right;\n",
       "    }\n",
       "</style>\n",
       "<table border=\"1\" class=\"dataframe\">\n",
       "  <thead>\n",
       "    <tr style=\"text-align: right;\">\n",
       "      <th></th>\n",
       "      <th>Sample</th>\n",
       "      <th>Chromosome</th>\n",
       "      <th>Start</th>\n",
       "      <th>End</th>\n",
       "      <th>Num_Probes</th>\n",
       "      <th>Segment_Mean</th>\n",
       "    </tr>\n",
       "  </thead>\n",
       "  <tbody>\n",
       "    <tr>\n",
       "      <th>97</th>\n",
       "      <td>TCGA-ZJ-AAXJ-01A-11D-A42N-01</td>\n",
       "      <td>11</td>\n",
       "      <td>64208988</td>\n",
       "      <td>64319750</td>\n",
       "      <td>61.0</td>\n",
       "      <td>-0.6748</td>\n",
       "    </tr>\n",
       "    <tr>\n",
       "      <th>100</th>\n",
       "      <td>TCGA-ZJ-AAXJ-01A-11D-A42N-01</td>\n",
       "      <td>11</td>\n",
       "      <td>132080885</td>\n",
       "      <td>132099465</td>\n",
       "      <td>15.0</td>\n",
       "      <td>-0.6123</td>\n",
       "    </tr>\n",
       "  </tbody>\n",
       "</table>\n",
       "</div>"
      ],
      "text/plain": [
       "                           Sample  Chromosome      Start        End  \\\n",
       "97   TCGA-ZJ-AAXJ-01A-11D-A42N-01          11   64208988   64319750   \n",
       "100  TCGA-ZJ-AAXJ-01A-11D-A42N-01          11  132080885  132099465   \n",
       "\n",
       "     Num_Probes  Segment_Mean  \n",
       "97         61.0       -0.6748  \n",
       "100        15.0       -0.6123  "
      ]
     },
     "execution_count": 9,
     "metadata": {},
     "output_type": "execute_result"
    }
   ],
   "source": [
    "t = filter_lowconf_segments(t,num_marker_thr,pos_seg_mean_thr, neg_seg_mean_thr )\n",
    "print(\"segemtns in tumor after dropping low.conf.:\",t.shape[0])\n",
    "t.loc[t[\"Chromosome\"] ==11,:]"
   ]
  },
  {
   "cell_type": "markdown",
   "metadata": {},
   "source": [
    "# TCGA"
   ]
  },
  {
   "cell_type": "code",
   "execution_count": 40,
   "metadata": {},
   "outputs": [
    {
     "name": "stdout",
     "output_type": "stream",
     "text": [
      "ACC samples: 180 CNA events per sample on avg.: 116.95555555555555\n"
     ]
    },
    {
     "name": "stderr",
     "output_type": "stream",
     "text": [
      "total samples: 180 tumors: 90 normals: 90\n",
      "\ttumors without matched normal 2\n",
      "\ttumors with at least one sCNA 88\n",
      "\ttumors without any somatic CNA 0\n"
     ]
    },
    {
     "name": "stdout",
     "output_type": "stream",
     "text": [
      "after filtering\n",
      "ACC samples: 90 Segments per sample on avg.: 106.42222222222222\n",
      "BLCA-FFPE samples: 2 CNA events per sample on avg.: 1064.0\n",
      "after filtering\n",
      "BLCA-FFPE samples: 2 Segments per sample on avg.: 368.5\n",
      "BRCA-FFPE samples: 7 CNA events per sample on avg.: 677.5714285714286\n"
     ]
    },
    {
     "name": "stderr",
     "output_type": "stream",
     "text": [
      "total samples: 2 tumors: 2 normals: 0\n",
      "\ttumors without matched normal 2\n",
      "\ttumors with at least one sCNA 0\n",
      "\ttumors without any somatic CNA 0\n",
      "total samples: 7 tumors: 7 normals: 0\n",
      "\ttumors without matched normal 7\n",
      "\ttumors with at least one sCNA 0\n",
      "\ttumors without any somatic CNA 0\n"
     ]
    },
    {
     "name": "stdout",
     "output_type": "stream",
     "text": [
      "after filtering\n",
      "BRCA-FFPE samples: 7 Segments per sample on avg.: 184.42857142857142\n",
      "CESC samples: 586 CNA events per sample on avg.: 101.45051194539249\n"
     ]
    },
    {
     "name": "stderr",
     "output_type": "stream",
     "text": [
      "total samples: 586 tumors: 297 normals: 289\n",
      "\ttumors without matched normal 16\n",
      "\ttumors with at least one sCNA 280\n",
      "\ttumors without any somatic CNA 1\n"
     ]
    },
    {
     "name": "stdout",
     "output_type": "stream",
     "text": [
      "after filtering\n",
      "CESC samples: 296 Segments per sample on avg.: 58.38513513513514\n",
      "CHOL samples: 85 CNA events per sample on avg.: 89.05882352941177\n"
     ]
    },
    {
     "name": "stderr",
     "output_type": "stream",
     "text": [
      "total samples: 85 tumors: 36 normals: 49\n",
      "\ttumors without matched normal 0\n",
      "\ttumors with at least one sCNA 36\n",
      "\ttumors without any somatic CNA 0\n"
     ]
    },
    {
     "name": "stdout",
     "output_type": "stream",
     "text": [
      "after filtering\n",
      "CHOL samples: 36 Segments per sample on avg.: 56.80555555555556\n",
      "COAD-FFPE samples: 12 CNA events per sample on avg.: 379.5\n"
     ]
    },
    {
     "name": "stderr",
     "output_type": "stream",
     "text": [
      "total samples: 12 tumors: 12 normals: 0\n",
      "\ttumors without matched normal 12\n",
      "\ttumors with at least one sCNA 0\n",
      "\ttumors without any somatic CNA 0\n",
      "total samples: 96 tumors: 52 normals: 44\n"
     ]
    },
    {
     "name": "stdout",
     "output_type": "stream",
     "text": [
      "after filtering\n",
      "COAD-FFPE samples: 12 Segments per sample on avg.: 100.08333333333333\n",
      "DLBC samples: 96 CNA events per sample on avg.: 97.32291666666667\n"
     ]
    },
    {
     "name": "stderr",
     "output_type": "stream",
     "text": [
      "\ttumors without matched normal 10\n",
      "\ttumors with at least one sCNA 40\n",
      "\ttumors without any somatic CNA 2\n"
     ]
    },
    {
     "name": "stdout",
     "output_type": "stream",
     "text": [
      "after filtering\n",
      "DLBC samples: 50 Segments per sample on avg.: 44.72\n",
      "ESCA samples: 373 CNA events per sample on avg.: 163.01072386058982\n"
     ]
    },
    {
     "name": "stderr",
     "output_type": "stream",
     "text": [
      "total samples: 373 tumors: 185 normals: 188\n",
      "\ttumors without matched normal 3\n",
      "\ttumors with at least one sCNA 181\n",
      "\ttumors without any somatic CNA 1\n"
     ]
    },
    {
     "name": "stdout",
     "output_type": "stream",
     "text": [
      "after filtering\n",
      "ESCA samples: 184 Segments per sample on avg.: 142.08152173913044\n",
      "GBM samples: 1104 CNA events per sample on avg.: 133.018115942029\n"
     ]
    },
    {
     "name": "stderr",
     "output_type": "stream",
     "text": [
      "total samples: 1104 tumors: 590 normals: 514\n",
      "\ttumors without matched normal 78\n",
      "\ttumors with at least one sCNA 511\n",
      "\ttumors without any somatic CNA 1\n"
     ]
    },
    {
     "name": "stdout",
     "output_type": "stream",
     "text": [
      "after filtering\n",
      "GBM samples: 589 Segments per sample on avg.: 70.35144312393888\n",
      "HNSC samples: 1089 CNA events per sample on avg.: 101.27548209366391\n"
     ]
    },
    {
     "name": "stderr",
     "output_type": "stream",
     "text": [
      "total samples: 1089 tumors: 530 normals: 559\n",
      "\ttumors without matched normal 28\n",
      "\ttumors with at least one sCNA 498\n",
      "\ttumors without any somatic CNA 4\n"
     ]
    },
    {
     "name": "stdout",
     "output_type": "stream",
     "text": [
      "after filtering\n",
      "HNSC samples: 526 Segments per sample on avg.: 60.77186311787072\n",
      "KICH samples: 132 CNA events per sample on avg.: 77.0\n"
     ]
    },
    {
     "name": "stderr",
     "output_type": "stream",
     "text": [
      "total samples: 132 tumors: 66 normals: 66\n",
      "\ttumors without matched normal 0\n",
      "\ttumors with at least one sCNA 66\n",
      "\ttumors without any somatic CNA 0\n",
      "total samples: 3 tumors: 3 normals: 0\n"
     ]
    },
    {
     "name": "stdout",
     "output_type": "stream",
     "text": [
      "after filtering\n",
      "KICH samples: 66 Segments per sample on avg.: 51.06060606060606\n",
      "KIRC-FFPE samples: 3 CNA events per sample on avg.: 284.0\n",
      "after filtering\n",
      "KIRC-FFPE samples: 3 Segments per sample on avg.: 59.0\n"
     ]
    },
    {
     "name": "stderr",
     "output_type": "stream",
     "text": [
      "\ttumors without matched normal 3\n",
      "\ttumors with at least one sCNA 0\n",
      "\ttumors without any somatic CNA 0\n"
     ]
    },
    {
     "name": "stdout",
     "output_type": "stream",
     "text": [
      "KIRP samples: 590 CNA events per sample on avg.: 79.51525423728813\n"
     ]
    },
    {
     "name": "stderr",
     "output_type": "stream",
     "text": [
      "total samples: 590 tumors: 288 normals: 302\n",
      "\ttumors without matched normal 15\n",
      "\ttumors with at least one sCNA 271\n",
      "\ttumors without any somatic CNA 2\n"
     ]
    },
    {
     "name": "stdout",
     "output_type": "stream",
     "text": [
      "after filtering\n",
      "KIRP samples: 286 Segments per sample on avg.: 22.16083916083916\n",
      "LAML samples: 380 CNA events per sample on avg.: 74.53684210526316\n"
     ]
    },
    {
     "name": "stderr",
     "output_type": "stream",
     "text": [
      "total samples: 380 tumors: 191 normals: 189\n",
      "\ttumors without matched normal 3\n",
      "\ttumors with at least one sCNA 172\n",
      "\ttumors without any somatic CNA 16\n"
     ]
    },
    {
     "name": "stdout",
     "output_type": "stream",
     "text": [
      "after filtering\n",
      "LAML samples: 175 Segments per sample on avg.: 7.171428571428572\n",
      "LGG samples: 1015 CNA events per sample on avg.: 78.61182266009853\n"
     ]
    },
    {
     "name": "stderr",
     "output_type": "stream",
     "text": [
      "total samples: 1015 tumors: 530 normals: 485\n",
      "\ttumors without matched normal 33\n",
      "\ttumors with at least one sCNA 494\n",
      "\ttumors without any somatic CNA 3\n"
     ]
    },
    {
     "name": "stdout",
     "output_type": "stream",
     "text": [
      "after filtering\n",
      "LGG samples: 527 Segments per sample on avg.: 29.286527514231498\n",
      "LIHC samples: 760 CNA events per sample on avg.: 122.8\n"
     ]
    },
    {
     "name": "stderr",
     "output_type": "stream",
     "text": [
      "total samples: 760 tumors: 373 normals: 387\n",
      "\ttumors without matched normal 21\n",
      "\ttumors with at least one sCNA 349\n",
      "\ttumors without any somatic CNA 3\n"
     ]
    },
    {
     "name": "stdout",
     "output_type": "stream",
     "text": [
      "after filtering\n",
      "LIHC samples: 370 Segments per sample on avg.: 81.1891891891892\n",
      "LUAD-FFPE samples: 12 CNA events per sample on avg.: 739.8333333333334\n",
      "after filtering\n",
      "LUAD-FFPE samples: 12 Segments per sample on avg.: 185.91666666666666\n"
     ]
    },
    {
     "name": "stderr",
     "output_type": "stream",
     "text": [
      "total samples: 12 tumors: 12 normals: 0\n",
      "\ttumors without matched normal 12\n",
      "\ttumors with at least one sCNA 0\n",
      "\ttumors without any somatic CNA 0\n"
     ]
    },
    {
     "name": "stdout",
     "output_type": "stream",
     "text": [
      "LUSC samples: 1032 CNA events per sample on avg.: 130.68217054263565\n"
     ]
    },
    {
     "name": "stderr",
     "output_type": "stream",
     "text": [
      "total samples: 1032 tumors: 501 normals: 531\n",
      "\ttumors without matched normal 23\n",
      "\ttumors with at least one sCNA 476\n",
      "\ttumors without any somatic CNA 2\n"
     ]
    },
    {
     "name": "stdout",
     "output_type": "stream",
     "text": [
      "after filtering\n",
      "LUSC samples: 499 Segments per sample on avg.: 94.85571142284569\n",
      "MESO samples: 172 CNA events per sample on avg.: 106.59883720930233\n"
     ]
    },
    {
     "name": "stderr",
     "output_type": "stream",
     "text": [
      "total samples: 172 tumors: 87 normals: 85\n",
      "\ttumors without matched normal 2\n",
      "\ttumors with at least one sCNA 83\n",
      "\ttumors without any somatic CNA 2\n"
     ]
    },
    {
     "name": "stdout",
     "output_type": "stream",
     "text": [
      "after filtering\n",
      "MESO samples: 85 Segments per sample on avg.: 60.35294117647059\n",
      "OV samples: 1168 CNA events per sample on avg.: 224.04109589041096\n"
     ]
    },
    {
     "name": "stderr",
     "output_type": "stream",
     "text": [
      "total samples: 1168 tumors: 597 normals: 571\n",
      "\ttumors without matched normal 26\n",
      "\ttumors with at least one sCNA 571\n",
      "\ttumors without any somatic CNA 0\n"
     ]
    },
    {
     "name": "stdout",
     "output_type": "stream",
     "text": [
      "after filtering\n",
      "OV samples: 597 Segments per sample on avg.: 208.14405360134003\n",
      "PAAD samples: 365 CNA events per sample on avg.: 95.36438356164383\n"
     ]
    },
    {
     "name": "stderr",
     "output_type": "stream",
     "text": [
      "total samples: 365 tumors: 185 normals: 180\n",
      "\ttumors without matched normal 10\n",
      "\ttumors with at least one sCNA 161\n",
      "\ttumors without any somatic CNA 14\n"
     ]
    },
    {
     "name": "stdout",
     "output_type": "stream",
     "text": [
      "after filtering\n",
      "PAAD samples: 171 Segments per sample on avg.: 32.60233918128655\n",
      "PCPG samples: 346 CNA events per sample on avg.: 90.33526011560694\n"
     ]
    },
    {
     "name": "stderr",
     "output_type": "stream",
     "text": [
      "total samples: 346 tumors: 168 normals: 178\n",
      "\ttumors without matched normal 6\n",
      "\ttumors with at least one sCNA 161\n",
      "\ttumors without any somatic CNA 1\n"
     ]
    },
    {
     "name": "stdout",
     "output_type": "stream",
     "text": [
      "after filtering\n",
      "PCPG samples: 167 Segments per sample on avg.: 43.37125748502994\n",
      "PRAD-FFPE samples: 6 CNA events per sample on avg.: 453.1666666666667\n",
      "after filtering\n",
      "PRAD-FFPE samples: 6 Segments per sample on avg.: 110.83333333333333\n"
     ]
    },
    {
     "name": "stderr",
     "output_type": "stream",
     "text": [
      "total samples: 6 tumors: 6 normals: 0\n",
      "\ttumors without matched normal 6\n",
      "\ttumors with at least one sCNA 0\n",
      "\ttumors without any somatic CNA 0\n"
     ]
    },
    {
     "name": "stdout",
     "output_type": "stream",
     "text": [
      "READ samples: 316 CNA events per sample on avg.: 113.18037974683544\n"
     ]
    },
    {
     "name": "stderr",
     "output_type": "stream",
     "text": [
      "total samples: 316 tumors: 166 normals: 150\n",
      "\ttumors without matched normal 23\n",
      "\ttumors with at least one sCNA 141\n",
      "\ttumors without any somatic CNA 2\n"
     ]
    },
    {
     "name": "stdout",
     "output_type": "stream",
     "text": [
      "after filtering\n",
      "READ samples: 164 Segments per sample on avg.: 70.1280487804878\n",
      "SARC samples: 513 CNA events per sample on avg.: 208.0682261208577\n"
     ]
    },
    {
     "name": "stderr",
     "output_type": "stream",
     "text": [
      "total samples: 513 tumors: 263 normals: 250\n",
      "\ttumors without matched normal 17\n",
      "\ttumors with at least one sCNA 245\n",
      "\ttumors without any somatic CNA 1\n"
     ]
    },
    {
     "name": "stdout",
     "output_type": "stream",
     "text": [
      "after filtering\n",
      "SARC samples: 262 Segments per sample on avg.: 187.37786259541986\n",
      "SKCM samples: 937 CNA events per sample on avg.: 115.35112059765208\n"
     ]
    },
    {
     "name": "stderr",
     "output_type": "stream",
     "text": [
      "total samples: 937 tumors: 472 normals: 465\n",
      "\ttumors without matched normal 7\n",
      "\ttumors with at least one sCNA 463\n",
      "\ttumors without any somatic CNA 2\n"
     ]
    },
    {
     "name": "stdout",
     "output_type": "stream",
     "text": [
      "after filtering\n",
      "SKCM samples: 470 Segments per sample on avg.: 83.15957446808511\n",
      "STAD samples: 904 CNA events per sample on avg.: 130.9612831858407\n"
     ]
    },
    {
     "name": "stderr",
     "output_type": "stream",
     "text": [
      "total samples: 904 tumors: 442 normals: 462\n",
      "\ttumors without matched normal 26\n",
      "\ttumors with at least one sCNA 410\n",
      "\ttumors without any somatic CNA 6\n"
     ]
    },
    {
     "name": "stdout",
     "output_type": "stream",
     "text": [
      "after filtering\n",
      "STAD samples: 436 Segments per sample on avg.: 96.62614678899082\n",
      "STES samples: 1277 CNA events per sample on avg.: 140.32263116679718\n"
     ]
    },
    {
     "name": "stderr",
     "output_type": "stream",
     "text": [
      "total samples: 1277 tumors: 627 normals: 650\n",
      "\ttumors without matched normal 29\n",
      "\ttumors with at least one sCNA 591\n",
      "\ttumors without any somatic CNA 7\n"
     ]
    },
    {
     "name": "stdout",
     "output_type": "stream",
     "text": [
      "after filtering\n",
      "STES samples: 620 Segments per sample on avg.: 110.11612903225806\n",
      "TGCT samples: 304 CNA events per sample on avg.: 83.8125\n"
     ]
    },
    {
     "name": "stderr",
     "output_type": "stream",
     "text": [
      "total samples: 304 tumors: 156 normals: 148\n",
      "\ttumors without matched normal 2\n",
      "\ttumors with at least one sCNA 154\n",
      "\ttumors without any somatic CNA 0\n"
     ]
    },
    {
     "name": "stdout",
     "output_type": "stream",
     "text": [
      "after filtering\n",
      "TGCT samples: 156 Segments per sample on avg.: 38.1025641025641\n",
      "THCA samples: 1013 CNA events per sample on avg.: 54.409674234945705\n"
     ]
    },
    {
     "name": "stderr",
     "output_type": "stream",
     "text": [
      "total samples: 1013 tumors: 506 normals: 507\n",
      "\ttumors without matched normal 15\n",
      "\ttumors with at least one sCNA 389\n",
      "\ttumors without any somatic CNA 102\n"
     ]
    },
    {
     "name": "stdout",
     "output_type": "stream",
     "text": [
      "after filtering\n",
      "THCA samples: 404 Segments per sample on avg.: 3.873762376237624\n",
      "THYM samples: 248 CNA events per sample on avg.: 62.78629032258065\n"
     ]
    },
    {
     "name": "stderr",
     "output_type": "stream",
     "text": [
      "total samples: 248 tumors: 125 normals: 123\n",
      "\ttumors without matched normal 5\n",
      "\ttumors with at least one sCNA 105\n",
      "\ttumors without any somatic CNA 15\n"
     ]
    },
    {
     "name": "stdout",
     "output_type": "stream",
     "text": [
      "after filtering\n",
      "THYM samples: 110 Segments per sample on avg.: 8.89090909090909\n",
      "UCEC-FFPE samples: 4 CNA events per sample on avg.: 349.5\n",
      "after filtering\n",
      "UCEC-FFPE samples: 4 Segments per sample on avg.: 90.0\n",
      "UCS samples: 111 CNA events per sample on avg.: 173.85585585585585\n"
     ]
    },
    {
     "name": "stderr",
     "output_type": "stream",
     "text": [
      "total samples: 4 tumors: 4 normals: 0\n",
      "\ttumors without matched normal 4\n",
      "\ttumors with at least one sCNA 0\n",
      "\ttumors without any somatic CNA 0\n",
      "total samples: 111 tumors: 56 normals: 55\n",
      "\ttumors without matched normal 2\n",
      "\ttumors with at least one sCNA 54\n",
      "\ttumors without any somatic CNA 0\n"
     ]
    },
    {
     "name": "stdout",
     "output_type": "stream",
     "text": [
      "after filtering\n",
      "UCS samples: 56 Segments per sample on avg.: 179.28571428571428\n",
      "UVM samples: 160 CNA events per sample on avg.: 81.08125\n"
     ]
    },
    {
     "name": "stderr",
     "output_type": "stream",
     "text": [
      "total samples: 160 tumors: 80 normals: 80\n"
     ]
    },
    {
     "name": "stdout",
     "output_type": "stream",
     "text": [
      "after filtering\n",
      "UVM samples: 80 Segments per sample on avg.: 38.5375\n"
     ]
    },
    {
     "name": "stderr",
     "output_type": "stream",
     "text": [
      "\ttumors without matched normal 0\n",
      "\ttumors with at least one sCNA 80\n",
      "\ttumors without any somatic CNA 0\n"
     ]
    }
   ],
   "source": [
    "data_dir = \"TCGA/CNA/data__2016_01_28//\"\n",
    "\n",
    "dfs = {}\n",
    "dfs_normals = {}\n",
    "tumors_without_CNA = {}\n",
    "for f in os.listdir(data_dir):\n",
    "    cohort = f.split(\".\")[2].replace(\"org_\",\"\")\n",
    "    file_path = f+\"/\"+cohort+\".txt\"\n",
    "    df = pd.read_csv(data_dir+file_path, sep = \"\\t\")\n",
    "\n",
    "    df[\"Chromosome\"] = df[\"Chromosome\"].map(chr_dict)\n",
    "    print(cohort,\"samples:\",len(set(df[\"Sample\"].values)),\n",
    "          \"CNA events per sample on avg.:\",float(df.shape[0])/len(set(df[\"Sample\"].values)))\n",
    "\n",
    "    #### remove segments overlapping with segemnts in normals by 80% or more reciprocally ####\n",
    "    df[\"type\"] = df[\"Sample\"].apply(sample_type)\n",
    "    df_normals = df.loc[df[\"type\"]== \"Normal\",[\"Sample\",\"Chromosome\",\"Start\",\"End\",\"Num_Probes\",\"Segment_Mean\"]]\n",
    "    df_tumors = df.loc[df[\"type\"]== \"Tumor\",[\"Sample\",\"Chromosome\",\"Start\",\"End\",\"Num_Probes\",\"Segment_Mean\"]]\n",
    "    normal_samples = list(set(df_normals[\"Sample\"].values))\n",
    "    tumor_samples = list(set(df_tumors[\"Sample\"].values))\n",
    "    print(\"total samples:\", len(set(df[\"Sample\"].values)),\n",
    "          \"tumors:\",len(tumor_samples),\"normals:\",len(normal_samples),file= sys.stderr)\n",
    "\n",
    "    tumors_without_somatic_CNA = []\n",
    "    tumors_germline_removed = []\n",
    "    tumors_without_matching_normal = []\n",
    "    filtered_normals = []\n",
    "    for tumor_sample in tumor_samples:\n",
    "        #print(sample, find_matching_normal(sample,list(set(d[\"Sample\"]))))\n",
    "        tumor = df_tumors.loc[df_tumors [\"Sample\"]== tumor_sample,:]\n",
    "        matching_normals = find_matching_normal(tumor_sample,normal_samples)\n",
    "        if len(matching_normals) >0:\n",
    "            n_segs = tumor.shape[0]\n",
    "            for normal_sample in matching_normals:\n",
    "                normal  =  df_normals.loc[df_normals[\"Sample\"]== normal_sample,:]\n",
    "                # thresholds for +1 and -1 copy in 75% of normal cell;\n",
    "                # this is to retain segments appeared due to slight tumor contamination\n",
    "                normal =  filter_lowconf_segments(normal,0,0.46, -0.68 )\n",
    "                filtered_normals.append(normal)\n",
    "                tumor = remove_ovelapping_segments(tumor, normal,tumor_sample)\n",
    "            #if n_segs > tumor.shape[0]:\n",
    "            #    print(n_segs - tumor.shape[0],\"segments removed in sample\",tumor_sample,\n",
    "            #    tumor.shape[0],\"remained\",file= sys.stderr)\n",
    "            tumor = filter_lowconf_segments(tumor,num_marker_thr,pos_seg_mean_thr, neg_seg_mean_thr )\n",
    "            if tumor.shape[0] == 0:\n",
    "                   tumors_without_somatic_CNA.append(tumor_sample)\n",
    "            else:\n",
    "                tumors_germline_removed.append(tumor)\n",
    "        else:\n",
    "            tumor = filter_lowconf_segments(tumor,num_marker_thr,pos_seg_mean_thr, neg_seg_mean_thr )\n",
    "            if tumor.shape[0] == 0:\n",
    "                   tumors_without_somatic_CNA.append(tumor_sample)\n",
    "            else:\n",
    "                tumors_without_matching_normal.append(tumor)\n",
    "        \n",
    "\n",
    "    print(\"\\ttumors without matched normal\",len(tumors_without_matching_normal),file= sys.stderr)\n",
    "    print(\"\\ttumors with at least one sCNA\",len(tumors_germline_removed),file= sys.stderr)\n",
    "    print(\"\\ttumors without any somatic CNA\",len(tumors_without_somatic_CNA),file= sys.stderr)\n",
    "    #dfs[cohort] = df\n",
    "\n",
    "#     if(len(tumors_germline_removed) > 0) | (len(tumors_without_matching_normal) > 0):\n",
    "    filtered_tumors = pd.concat(tumors_germline_removed+tumors_without_matching_normal)\n",
    "\n",
    "    dfs[cohort] = filtered_tumors\n",
    "\n",
    "    if(len(filtered_normals) > 0):\n",
    "        filtered_normals = pd.concat(filtered_normals)\n",
    "\n",
    "    dfs_normals[cohort] = filtered_normals\n",
    "    tumors_without_CNA[cohort] = tumors_without_somatic_CNA\n",
    "    print(\"after filtering\")\n",
    "    print(cohort,\"samples:\",len(set(filtered_tumors[\"Sample\"].values)),\n",
    "          \"Segments per sample on avg.:\",float(filtered_tumors.shape[0])/len(set(filtered_tumors[\"Sample\"].values)))\n"
   ]
  },
  {
   "cell_type": "markdown",
   "metadata": {},
   "source": [
    "# Aggregating to gene-level\n",
    "Gene annotation must be:\n",
    "\n",
    "with Entrez gene IDs\n",
    "in hg19 coordinates\n",
    "with columns \"chrom\",\"start\",\"stop\",\"gene\" (this is foru-column bed format)\n",
    "wget ftp://ftp.ncbi.nih.gov/genomes/H_sapiens/ARCHIVE/BUILD.37.3/GFF/ref_GRCh37.p5_top_level.gff3.gz\n",
    "\n",
    "echo -e \"chrom\\tstart\\tstop\\tgene\\tname\" > ef_GRCh37.p5_top_level.gff3.bed; zcat ref_GRCh37.p5_top_level.gff3.gz | awk '$3==\"gene\"' | cut -f 1,4,5,9| sed -e 's/;/\\t/g'| cut -f 1-3,5,6 | grep GeneID | sed -re 's/(Dbxref=GeneID:[0-9]*),.*/\\1/' | sed -e 's/Name=//' -e 's/Dbxref=GeneID://' | awk '{print $1\"\\t\"$2\"\\t\"$3\"\\t\"$5\"\\t\"$4}' >> ref_GRCh37.p5_top_level.gff3.bed"
   ]
  },
  {
   "cell_type": "code",
   "execution_count": 11,
   "metadata": {},
   "outputs": [],
   "source": [
    "\n",
    "rename_chroms = {'NC_000001.10':1,\"NC_000002.11\":2,\"NC_000003.11\":3,\"NC_000004.11\":4,\n",
    "                 \"NC_000005.9\":5,\"NC_000006.11\":6,\"NC_000007.13\":7,\"NC_000008.10\":8,\n",
    "                 \"NC_000009.11\":9,\"NC_000010.10\":10,\"NC_000011.9\":11,\"NC_000012.11\":12,\"NC_000013.10\":13,\n",
    "                 \"NC_000014.8\":14,\"NC_000015.9\":15,\"NC_000016.9\":16,\"NC_000017.10\":17,\n",
    "                 \"NC_000018.9\":18,\"NC_000019.9\":19,\"NC_000020.10\":20,\"NC_000021.8\":21,\n",
    "                 \"NC_000022.10\":22,\"NC_000023.10\":23,\"NC_000024.9\":24}"
   ]
  },
  {
   "cell_type": "code",
   "execution_count": 12,
   "metadata": {},
   "outputs": [
    {
     "name": "stdout",
     "output_type": "stream",
     "text": [
      "(36019, 5)\n"
     ]
    },
    {
     "data": {
      "text/html": [
       "<div>\n",
       "<style scoped>\n",
       "    .dataframe tbody tr th:only-of-type {\n",
       "        vertical-align: middle;\n",
       "    }\n",
       "\n",
       "    .dataframe tbody tr th {\n",
       "        vertical-align: top;\n",
       "    }\n",
       "\n",
       "    .dataframe thead th {\n",
       "        text-align: right;\n",
       "    }\n",
       "</style>\n",
       "<table border=\"1\" class=\"dataframe\">\n",
       "  <thead>\n",
       "    <tr style=\"text-align: right;\">\n",
       "      <th></th>\n",
       "      <th>chrom</th>\n",
       "      <th>start</th>\n",
       "      <th>stop</th>\n",
       "      <th>gene</th>\n",
       "      <th>name</th>\n",
       "    </tr>\n",
       "  </thead>\n",
       "  <tbody>\n",
       "    <tr>\n",
       "      <th>0</th>\n",
       "      <td>1</td>\n",
       "      <td>10954</td>\n",
       "      <td>11507</td>\n",
       "      <td>100506145</td>\n",
       "      <td>LOC100506145</td>\n",
       "    </tr>\n",
       "    <tr>\n",
       "      <th>1</th>\n",
       "      <td>1</td>\n",
       "      <td>12190</td>\n",
       "      <td>13639</td>\n",
       "      <td>100652771</td>\n",
       "      <td>LOC100652771</td>\n",
       "    </tr>\n",
       "    <tr>\n",
       "      <th>2</th>\n",
       "      <td>1</td>\n",
       "      <td>14362</td>\n",
       "      <td>29370</td>\n",
       "      <td>653635</td>\n",
       "      <td>WASH7P</td>\n",
       "    </tr>\n",
       "    <tr>\n",
       "      <th>3</th>\n",
       "      <td>1</td>\n",
       "      <td>30366</td>\n",
       "      <td>30503</td>\n",
       "      <td>100302278</td>\n",
       "      <td>MIR1302-2</td>\n",
       "    </tr>\n",
       "  </tbody>\n",
       "</table>\n",
       "</div>"
      ],
      "text/plain": [
       "   chrom  start   stop       gene          name\n",
       "0      1  10954  11507  100506145  LOC100506145\n",
       "1      1  12190  13639  100652771  LOC100652771\n",
       "2      1  14362  29370     653635        WASH7P\n",
       "3      1  30366  30503  100302278     MIR1302-2"
      ]
     },
     "execution_count": 12,
     "metadata": {},
     "output_type": "execute_result"
    }
   ],
   "source": [
    "gene_intervals = pd.read_csv('ref.bed', sep=\"\\t\")\n",
    "gene_intervals = gene_intervals.loc[gene_intervals[\"chrom\"].isin(rename_chroms.keys()),:]\n",
    "gene_intervals[\"chrom\"] = gene_intervals[\"chrom\"].apply(lambda x : rename_chroms[x])\n",
    "gene_intervals['gene'] = gene_intervals['gene'].map(lambda x: x.lstrip('Dbxref=GeneId:'))\n",
    "#print(\"chromosomes:\",list(set(gene_intervals[\"chrom\"].values)))\n",
    "gene_intervals = gene_intervals.sort_values(by=[\"chrom\",\"start\",\"stop\"],ascending=True)\n",
    "gene_intervals.to_csv(\"ref_GRCh37.p5_top_level.gff3.chroms_renamed.bed\",sep = \"\\t\",index=False)\n",
    "print(gene_intervals.shape)\n",
    "gene_intervals.head(4)"
   ]
  },
  {
   "cell_type": "code",
   "execution_count": 13,
   "metadata": {},
   "outputs": [],
   "source": [
    "gene_intervals_bed = pbt.BedTool.from_dataframe(gene_intervals[[\"chrom\",\"start\",\"stop\",\"gene\"]])\n",
    "# prepare copy-neutral table\n",
    "cnv_baseline = gene_intervals.copy()\n",
    "cnv_baseline[\"Segment_Mean\"] = [0]*cnv_baseline.shape[0]\n",
    "cnv_baseline = cnv_baseline[[\"gene\",\"Segment_Mean\"]]\n",
    "cnv_baseline.set_index(\"gene\",inplace=True,drop=True)\n",
    "cnv_baseline.sort_index(inplace=True)\n",
    "sorted_index = list(cnv_baseline.index.values)"
   ]
  },
  {
   "cell_type": "code",
   "execution_count": 76,
   "metadata": {},
   "outputs": [
    {
     "name": "stderr",
     "output_type": "stream",
     "text": [
      "ACC\n",
      "TCGA-OR-A5KQ-01A-11D-A309-01 has no genes with altered CN\n",
      "TCGA-OR-A5KV-01A-11D-A29H-01 has no genes with altered CN\n"
     ]
    },
    {
     "name": "stdout",
     "output_type": "stream",
     "text": [
      "ACC (31922, 90)\n"
     ]
    },
    {
     "name": "stderr",
     "output_type": "stream",
     "text": [
      "BLCA-FFPE\n"
     ]
    },
    {
     "name": "stdout",
     "output_type": "stream",
     "text": [
      "BLCA-FFPE (7775, 2)\n"
     ]
    },
    {
     "name": "stderr",
     "output_type": "stream",
     "text": [
      "BRCA-FFPE\n"
     ]
    },
    {
     "name": "stdout",
     "output_type": "stream",
     "text": [
      "BRCA-FFPE (15440, 7)\n"
     ]
    },
    {
     "name": "stderr",
     "output_type": "stream",
     "text": [
      "CESC\n"
     ]
    },
    {
     "name": "stdout",
     "output_type": "stream",
     "text": [
      "... 100 processed.\n",
      "... 200 processed.\n",
      "CESC (31922, 297)\n"
     ]
    },
    {
     "name": "stderr",
     "output_type": "stream",
     "text": [
      "CHOL\n"
     ]
    },
    {
     "name": "stdout",
     "output_type": "stream",
     "text": [
      "CHOL (31922, 36)\n"
     ]
    },
    {
     "name": "stderr",
     "output_type": "stream",
     "text": [
      "COAD-FFPE\n",
      "DLBC\n",
      "TCGA-G8-6914-14A-01D-2209-01 has no genes with altered CN\n"
     ]
    },
    {
     "name": "stdout",
     "output_type": "stream",
     "text": [
      "DLBC (31874, 52)\n"
     ]
    },
    {
     "name": "stderr",
     "output_type": "stream",
     "text": [
      "ESCA\n"
     ]
    },
    {
     "name": "stdout",
     "output_type": "stream",
     "text": [
      "... 100 processed.\n",
      "ESCA (31922, 185)\n"
     ]
    },
    {
     "name": "stderr",
     "output_type": "stream",
     "text": [
      "GBM\n"
     ]
    },
    {
     "name": "stdout",
     "output_type": "stream",
     "text": [
      "... 100 processed.\n"
     ]
    },
    {
     "name": "stderr",
     "output_type": "stream",
     "text": [
      "TCGA-06-0165-01A-01D-0236-01 has no genes with altered CN\n"
     ]
    },
    {
     "name": "stdout",
     "output_type": "stream",
     "text": [
      "... 200 processed.\n",
      "... 300 processed.\n"
     ]
    },
    {
     "name": "stderr",
     "output_type": "stream",
     "text": [
      "TCGA-06-5410-01A-01D-1694-01 has no genes with altered CN\n"
     ]
    },
    {
     "name": "stdout",
     "output_type": "stream",
     "text": [
      "... 400 processed.\n"
     ]
    },
    {
     "name": "stderr",
     "output_type": "stream",
     "text": [
      "TCGA-06-0119-01A-08D-0214-01 has no genes with altered CN\n"
     ]
    },
    {
     "name": "stdout",
     "output_type": "stream",
     "text": [
      "... 500 processed.\n",
      "GBM (31922, 590)\n"
     ]
    },
    {
     "name": "stderr",
     "output_type": "stream",
     "text": [
      "HNSC\n"
     ]
    },
    {
     "name": "stdout",
     "output_type": "stream",
     "text": [
      "... 100 processed.\n",
      "... 200 processed.\n",
      "... 300 processed.\n"
     ]
    },
    {
     "name": "stderr",
     "output_type": "stream",
     "text": [
      "TCGA-D6-6824-01A-11D-1910-01 has no genes with altered CN\n"
     ]
    },
    {
     "name": "stdout",
     "output_type": "stream",
     "text": [
      "... 400 processed.\n",
      "... 500 processed.\n",
      "HNSC (31922, 530)\n"
     ]
    },
    {
     "name": "stderr",
     "output_type": "stream",
     "text": [
      "KICH\n",
      "TCGA-KN-8437-01A-11D-2308-01 has no genes with altered CN\n"
     ]
    },
    {
     "name": "stdout",
     "output_type": "stream",
     "text": [
      "KICH (31922, 66)\n"
     ]
    },
    {
     "name": "stderr",
     "output_type": "stream",
     "text": [
      "KIRC-FFPE\n"
     ]
    },
    {
     "name": "stdout",
     "output_type": "stream",
     "text": [
      "KIRC-FFPE (2460, 3)\n"
     ]
    },
    {
     "name": "stderr",
     "output_type": "stream",
     "text": [
      "KIRP\n"
     ]
    },
    {
     "name": "stdout",
     "output_type": "stream",
     "text": [
      "... 100 processed.\n"
     ]
    },
    {
     "name": "stderr",
     "output_type": "stream",
     "text": [
      "TCGA-DW-7838-01A-11D-2135-01 has no genes with altered CN\n",
      "TCGA-A4-7828-01A-11D-2135-01 has no genes with altered CN\n"
     ]
    },
    {
     "name": "stdout",
     "output_type": "stream",
     "text": [
      "... 200 processed.\n"
     ]
    },
    {
     "name": "stderr",
     "output_type": "stream",
     "text": [
      "TCGA-GL-A4EM-01A-11D-A253-01 has no genes with altered CN\n",
      "TCGA-4A-A93Y-01A-11D-A36W-01 has no genes with altered CN\n",
      "TCGA-Y8-A8S1-01A-11D-A36W-01 has no genes with altered CN\n"
     ]
    },
    {
     "name": "stdout",
     "output_type": "stream",
     "text": [
      "KIRP (31922, 288)\n"
     ]
    },
    {
     "name": "stderr",
     "output_type": "stream",
     "text": [
      "LAML\n",
      "TCGA-AB-2978-03A-01D-0756-21 has no genes with altered CN\n",
      "TCGA-AB-3006-03A-01D-0756-21 has no genes with altered CN\n",
      "TCGA-AB-2854-03A-01D-0756-21 has no genes with altered CN\n",
      "TCGA-AB-2947-03A-01D-0756-21 has no genes with altered CN\n",
      "TCGA-AB-2808-03A-01D-0756-21 has no genes with altered CN\n",
      "TCGA-AB-2840-03A-01D-0756-21 has no genes with altered CN\n",
      "TCGA-AB-2845-03A-01D-0756-21 has no genes with altered CN\n",
      "TCGA-AB-2932-03A-01D-0756-21 has no genes with altered CN\n",
      "TCGA-AB-2884-03A-01D-0756-21 has no genes with altered CN\n",
      "TCGA-AB-2969-03A-01D-0756-21 has no genes with altered CN\n",
      "TCGA-AB-2837-03A-01D-0756-21 has no genes with altered CN\n",
      "TCGA-AB-2931-03A-01D-0756-21 has no genes with altered CN\n",
      "TCGA-AB-2991-03A-01D-0756-21 has no genes with altered CN\n",
      "TCGA-AB-2880-03A-01D-0756-21 has no genes with altered CN\n"
     ]
    },
    {
     "name": "stdout",
     "output_type": "stream",
     "text": [
      "... 100 processed.\n"
     ]
    },
    {
     "name": "stderr",
     "output_type": "stream",
     "text": [
      "TCGA-AB-2826-03A-01D-0756-21 has no genes with altered CN\n",
      "TCGA-AB-2922-03A-01D-0756-21 has no genes with altered CN\n",
      "TCGA-AB-2842-03A-01D-0756-21 has no genes with altered CN\n",
      "TCGA-AB-2836-03A-01D-0756-21 has no genes with altered CN\n",
      "TCGA-AB-2824-03A-01D-0756-21 has no genes with altered CN\n",
      "TCGA-AB-2851-03A-01D-0756-21 has no genes with altered CN\n",
      "TCGA-AB-2871-03A-01D-0756-21 has no genes with altered CN\n",
      "TCGA-AB-2844-03A-01D-0756-21 has no genes with altered CN\n",
      "TCGA-AB-2998-03A-01D-0756-21 has no genes with altered CN\n"
     ]
    },
    {
     "name": "stdout",
     "output_type": "stream",
     "text": [
      "LAML (30616, 191)\n"
     ]
    },
    {
     "name": "stderr",
     "output_type": "stream",
     "text": [
      "LGG\n"
     ]
    },
    {
     "name": "stdout",
     "output_type": "stream",
     "text": [
      "... 100 processed.\n"
     ]
    },
    {
     "name": "stderr",
     "output_type": "stream",
     "text": [
      "TCGA-S9-A6WI-01A-21D-A33S-01 has no genes with altered CN\n",
      "TCGA-HT-7680-01A-11D-2252-01 has no genes with altered CN\n",
      "TCGA-P5-A5EY-01A-11D-A27J-01 has no genes with altered CN\n",
      "TCGA-HT-8106-01A-11D-2391-01 has no genes with altered CN\n",
      "TCGA-DU-5872-02A-21D-A36N-01 has no genes with altered CN\n"
     ]
    },
    {
     "name": "stdout",
     "output_type": "stream",
     "text": [
      "... 200 processed.\n"
     ]
    },
    {
     "name": "stderr",
     "output_type": "stream",
     "text": [
      "TCGA-FG-8181-01A-11D-2252-01 has no genes with altered CN\n"
     ]
    },
    {
     "name": "stdout",
     "output_type": "stream",
     "text": [
      "... 300 processed.\n"
     ]
    },
    {
     "name": "stderr",
     "output_type": "stream",
     "text": [
      "TCGA-HT-7602-01A-21D-2085-01 has no genes with altered CN\n",
      "TCGA-DU-7011-01A-11D-2023-01 has no genes with altered CN\n"
     ]
    },
    {
     "name": "stdout",
     "output_type": "stream",
     "text": [
      "... 400 processed.\n"
     ]
    },
    {
     "name": "stderr",
     "output_type": "stream",
     "text": [
      "TCGA-TM-A84B-12A-01D-A366-01 has no genes with altered CN\n",
      "TCGA-CS-6669-01A-11D-1892-01 has no genes with altered CN\n"
     ]
    },
    {
     "name": "stdout",
     "output_type": "stream",
     "text": [
      "... 500 processed.\n"
     ]
    },
    {
     "name": "stderr",
     "output_type": "stream",
     "text": [
      "TCGA-FG-8189-01B-11D-A288-01 has no genes with altered CN\n"
     ]
    },
    {
     "name": "stdout",
     "output_type": "stream",
     "text": [
      "LGG (31922, 530)\n"
     ]
    },
    {
     "name": "stderr",
     "output_type": "stream",
     "text": [
      "LIHC\n",
      "TCGA-G3-A25V-01A-11D-A16U-01 has no genes with altered CN\n",
      "TCGA-BC-A10X-01A-11D-A12Y-01 has no genes with altered CN\n",
      "TCGA-ED-A5KG-01A-11D-A27H-01 has no genes with altered CN\n",
      "TCGA-2V-A95S-10D-01D-A36Z-01 has no genes with altered CN\n",
      "TCGA-DD-A3A6-01A-11D-A22E-01 has no genes with altered CN\n"
     ]
    },
    {
     "name": "stdout",
     "output_type": "stream",
     "text": [
      "... 100 processed.\n",
      "... 200 processed.\n"
     ]
    },
    {
     "name": "stderr",
     "output_type": "stream",
     "text": [
      "TCGA-CC-A9FV-01A-11D-A36W-01 has no genes with altered CN\n",
      "TCGA-MR-A520-01A-11D-A25U-01 has no genes with altered CN\n",
      "TCGA-UB-AA0V-01A-11D-A381-01 has no genes with altered CN\n"
     ]
    },
    {
     "name": "stdout",
     "output_type": "stream",
     "text": [
      "... 300 processed.\n"
     ]
    },
    {
     "name": "stderr",
     "output_type": "stream",
     "text": [
      "TCGA-DD-A4NL-01A-11D-A28W-01 has no genes with altered CN\n"
     ]
    },
    {
     "name": "stdout",
     "output_type": "stream",
     "text": [
      "LIHC (31922, 373)\n"
     ]
    },
    {
     "name": "stderr",
     "output_type": "stream",
     "text": [
      "LUAD-FFPE\n"
     ]
    },
    {
     "name": "stdout",
     "output_type": "stream",
     "text": [
      "LUAD-FFPE (12203, 12)\n"
     ]
    },
    {
     "name": "stderr",
     "output_type": "stream",
     "text": [
      "LUSC\n"
     ]
    },
    {
     "name": "stdout",
     "output_type": "stream",
     "text": [
      "... 100 processed.\n"
     ]
    },
    {
     "name": "stderr",
     "output_type": "stream",
     "text": [
      "TCGA-56-8623-01A-11D-2391-01 has no genes with altered CN\n"
     ]
    },
    {
     "name": "stdout",
     "output_type": "stream",
     "text": [
      "... 200 processed.\n",
      "... 300 processed.\n"
     ]
    },
    {
     "name": "stderr",
     "output_type": "stream",
     "text": [
      "TCGA-98-A53H-01A-12D-A25M-01 has no genes with altered CN\n"
     ]
    },
    {
     "name": "stdout",
     "output_type": "stream",
     "text": [
      "... 400 processed.\n",
      "LUSC (31922, 501)\n"
     ]
    },
    {
     "name": "stderr",
     "output_type": "stream",
     "text": [
      "MESO\n",
      "TCGA-TS-A8AS-01A-21D-A39Q-01 has no genes with altered CN\n",
      "TCGA-3H-AB3O-01A-11D-A39Q-01 has no genes with altered CN\n",
      "TCGA-TS-A7P8-01A-11D-A34B-01 has no genes with altered CN\n"
     ]
    },
    {
     "name": "stdout",
     "output_type": "stream",
     "text": [
      "MESO (31922, 87)\n"
     ]
    },
    {
     "name": "stderr",
     "output_type": "stream",
     "text": [
      "OV\n"
     ]
    },
    {
     "name": "stdout",
     "output_type": "stream",
     "text": [
      "... 100 processed.\n",
      "... 200 processed.\n",
      "... 300 processed.\n",
      "... 400 processed.\n",
      "... 500 processed.\n",
      "OV (31922, 597)\n"
     ]
    },
    {
     "name": "stderr",
     "output_type": "stream",
     "text": [
      "PAAD\n",
      "TCGA-IB-AAUR-01A-21D-A38F-01 has no genes with altered CN\n",
      "TCGA-HZ-8002-01A-11D-2200-01 has no genes with altered CN\n",
      "TCGA-XD-AAUG-01A-61D-A40V-01 has no genes with altered CN\n",
      "TCGA-Z5-AAPL-01A-12D-A40V-01 has no genes with altered CN\n"
     ]
    },
    {
     "name": "stdout",
     "output_type": "stream",
     "text": [
      "... 100 processed.\n"
     ]
    },
    {
     "name": "stderr",
     "output_type": "stream",
     "text": [
      "TCGA-IB-A5SQ-01A-11D-A32M-01 has no genes with altered CN\n",
      "TCGA-IB-AAUS-01A-12D-A38F-01 has no genes with altered CN\n"
     ]
    },
    {
     "name": "stdout",
     "output_type": "stream",
     "text": [
      "PAAD (31922, 185)\n"
     ]
    },
    {
     "name": "stderr",
     "output_type": "stream",
     "text": [
      "PCPG\n",
      "TCGA-SA-A6C2-01A-11D-A35H-01 has no genes with altered CN\n",
      "TCGA-RW-A7CZ-01A-11D-A35C-01 has no genes with altered CN\n",
      "TCGA-WB-A817-01A-11D-A35H-01 has no genes with altered CN\n"
     ]
    },
    {
     "name": "stdout",
     "output_type": "stream",
     "text": [
      "... 100 processed.\n",
      "PCPG (31922, 168)\n"
     ]
    },
    {
     "name": "stderr",
     "output_type": "stream",
     "text": [
      "PRAD-FFPE\n"
     ]
    },
    {
     "name": "stdout",
     "output_type": "stream",
     "text": [
      "PRAD-FFPE (2249, 6)\n"
     ]
    },
    {
     "name": "stderr",
     "output_type": "stream",
     "text": [
      "READ\n"
     ]
    },
    {
     "name": "stdout",
     "output_type": "stream",
     "text": [
      "... 100 processed.\n",
      "READ (31922, 166)\n"
     ]
    },
    {
     "name": "stderr",
     "output_type": "stream",
     "text": [
      "SARC\n",
      "TCGA-QQ-A5V2-01A-11D-A32H-01 has no genes with altered CN\n"
     ]
    },
    {
     "name": "stdout",
     "output_type": "stream",
     "text": [
      "... 100 processed.\n"
     ]
    },
    {
     "name": "stderr",
     "output_type": "stream",
     "text": [
      "TCGA-WK-A8XS-10E-01D-A37E-01 has no genes with altered CN\n",
      "TCGA-WK-A8Y0-10D-01D-A419-01 has no genes with altered CN\n"
     ]
    },
    {
     "name": "stdout",
     "output_type": "stream",
     "text": [
      "... 200 processed.\n",
      "SARC (31922, 263)\n"
     ]
    },
    {
     "name": "stderr",
     "output_type": "stream",
     "text": [
      "SKCM\n",
      "TCGA-EB-A4OZ-01A-12D-A25P-01 has no genes with altered CN\n"
     ]
    },
    {
     "name": "stdout",
     "output_type": "stream",
     "text": [
      "... 100 processed.\n",
      "... 200 processed.\n",
      "... 300 processed.\n"
     ]
    },
    {
     "name": "stderr",
     "output_type": "stream",
     "text": [
      "TCGA-ER-A19A-06A-21D-A191-01 has no genes with altered CN\n"
     ]
    },
    {
     "name": "stdout",
     "output_type": "stream",
     "text": [
      "... 400 processed.\n",
      "SKCM (31922, 472)\n"
     ]
    },
    {
     "name": "stderr",
     "output_type": "stream",
     "text": [
      "STAD\n",
      "TCGA-RD-A8NB-01A-12D-A396-01 has no genes with altered CN\n"
     ]
    },
    {
     "name": "stdout",
     "output_type": "stream",
     "text": [
      "... 100 processed.\n"
     ]
    },
    {
     "name": "stderr",
     "output_type": "stream",
     "text": [
      "TCGA-D7-A6ET-01A-32D-A32M-01 has no genes with altered CN\n",
      "TCGA-BR-7196-01A-11D-2052-01 has no genes with altered CN\n"
     ]
    },
    {
     "name": "stdout",
     "output_type": "stream",
     "text": [
      "... 200 processed.\n"
     ]
    },
    {
     "name": "stderr",
     "output_type": "stream",
     "text": [
      "TCGA-D7-6522-01A-11D-1799-01 has no genes with altered CN\n"
     ]
    },
    {
     "name": "stdout",
     "output_type": "stream",
     "text": [
      "... 300 processed.\n"
     ]
    },
    {
     "name": "stderr",
     "output_type": "stream",
     "text": [
      "TCGA-HU-A4GJ-01A-11D-A253-01 has no genes with altered CN\n",
      "TCGA-BR-7957-01A-11D-2200-01 has no genes with altered CN\n",
      "TCGA-BR-6563-01A-13D-2052-01 has no genes with altered CN\n"
     ]
    },
    {
     "name": "stdout",
     "output_type": "stream",
     "text": [
      "... 400 processed.\n"
     ]
    },
    {
     "name": "stderr",
     "output_type": "stream",
     "text": [
      "TCGA-MX-A5UG-01A-21D-A31K-01 has no genes with altered CN\n"
     ]
    },
    {
     "name": "stdout",
     "output_type": "stream",
     "text": [
      "STAD (31922, 442)\n"
     ]
    },
    {
     "name": "stderr",
     "output_type": "stream",
     "text": [
      "STES\n",
      "TCGA-RD-A8NB-01A-12D-A396-01 has no genes with altered CN\n"
     ]
    },
    {
     "name": "stdout",
     "output_type": "stream",
     "text": [
      "... 100 processed.\n"
     ]
    },
    {
     "name": "stderr",
     "output_type": "stream",
     "text": [
      "TCGA-D7-A6ET-01A-32D-A32M-01 has no genes with altered CN\n",
      "TCGA-BR-7196-01A-11D-2052-01 has no genes with altered CN\n"
     ]
    },
    {
     "name": "stdout",
     "output_type": "stream",
     "text": [
      "... 200 processed.\n",
      "... 300 processed.\n"
     ]
    },
    {
     "name": "stderr",
     "output_type": "stream",
     "text": [
      "TCGA-D7-6522-01A-11D-1799-01 has no genes with altered CN\n"
     ]
    },
    {
     "name": "stdout",
     "output_type": "stream",
     "text": [
      "... 400 processed.\n"
     ]
    },
    {
     "name": "stderr",
     "output_type": "stream",
     "text": [
      "TCGA-HU-A4GJ-01A-11D-A253-01 has no genes with altered CN\n",
      "TCGA-BR-7957-01A-11D-2200-01 has no genes with altered CN\n"
     ]
    },
    {
     "name": "stdout",
     "output_type": "stream",
     "text": [
      "... 500 processed.\n"
     ]
    },
    {
     "name": "stderr",
     "output_type": "stream",
     "text": [
      "TCGA-BR-6563-01A-13D-2052-01 has no genes with altered CN\n"
     ]
    },
    {
     "name": "stdout",
     "output_type": "stream",
     "text": [
      "... 600 processed.\n"
     ]
    },
    {
     "name": "stderr",
     "output_type": "stream",
     "text": [
      "TCGA-MX-A5UG-01A-21D-A31K-01 has no genes with altered CN\n"
     ]
    },
    {
     "name": "stdout",
     "output_type": "stream",
     "text": [
      "STES (31922, 627)\n"
     ]
    },
    {
     "name": "stderr",
     "output_type": "stream",
     "text": [
      "TGCT\n",
      "TCGA-YU-A90S-01A-11D-A434-01 has no genes with altered CN\n"
     ]
    },
    {
     "name": "stdout",
     "output_type": "stream",
     "text": [
      "... 100 processed.\n",
      "TGCT (31922, 156)\n"
     ]
    },
    {
     "name": "stderr",
     "output_type": "stream",
     "text": [
      "THCA\n",
      "TCGA-EM-A1CS-01A-11D-A13V-01 has no genes with altered CN\n",
      "TCGA-EL-A3ZT-01A-12D-A23L-01 has no genes with altered CN\n",
      "TCGA-DJ-A3UY-01A-21D-A22C-01 has no genes with altered CN\n",
      "TCGA-EM-A1CU-01A-11D-A13V-01 has no genes with altered CN\n",
      "TCGA-EL-A3CL-01A-11D-A19I-01 has no genes with altered CN\n",
      "TCGA-DJ-A3UX-01A-11D-A22C-01 has no genes with altered CN\n",
      "TCGA-EL-A4K4-01A-11D-A256-01 has no genes with altered CN\n",
      "TCGA-DE-A69J-01A-21D-A396-01 has no genes with altered CN\n",
      "TCGA-EM-A4FO-01A-11D-A256-01 has no genes with altered CN\n",
      "TCGA-EL-A4KD-01A-11D-A256-01 has no genes with altered CN\n",
      "TCGA-E8-A414-01A-11D-A23L-01 has no genes with altered CN\n",
      "TCGA-BJ-A2P4-01A-11D-A18E-01 has no genes with altered CN\n",
      "TCGA-DJ-A13X-01A-11D-A10T-01 has no genes with altered CN\n",
      "TCGA-J8-A3YH-01A-11D-A22Y-01 has no genes with altered CN\n",
      "TCGA-ET-A3DP-01A-11D-A219-01 has no genes with altered CN\n",
      "TCGA-EL-A3TA-01A-12D-A22C-01 has no genes with altered CN\n",
      "TCGA-ET-A3DV-01A-12D-A201-01 has no genes with altered CN\n",
      "TCGA-ET-A3DW-01A-11D-A19I-01 has no genes with altered CN\n",
      "TCGA-EM-A3FK-01A-11D-A219-01 has no genes with altered CN\n"
     ]
    },
    {
     "name": "stdout",
     "output_type": "stream",
     "text": [
      "... 100 processed.\n"
     ]
    },
    {
     "name": "stderr",
     "output_type": "stream",
     "text": [
      "TCGA-DE-A4MA-01A-11D-A256-01 has no genes with altered CN\n",
      "TCGA-FY-A3RA-01A-11D-A21Y-01 has no genes with altered CN\n",
      "TCGA-BJ-A0Z9-01A-11D-A10T-01 has no genes with altered CN\n",
      "TCGA-DJ-A4V0-01A-11D-A256-01 has no genes with altered CN\n",
      "TCGA-EM-A3FO-01A-11D-A219-01 has no genes with altered CN\n",
      "TCGA-EL-A4K2-01A-11D-A256-01 has no genes with altered CN\n",
      "TCGA-EL-A4K1-01A-11D-A256-01 has no genes with altered CN\n",
      "TCGA-FY-A3I4-01A-11D-A219-01 has no genes with altered CN\n",
      "TCGA-BJ-A0Z5-01A-11D-A10T-01 has no genes with altered CN\n",
      "TCGA-ET-A39T-01A-11D-A19I-01 has no genes with altered CN\n",
      "TCGA-DJ-A2Q3-01A-11D-A18E-01 has no genes with altered CN\n",
      "TCGA-GE-A2C6-01A-11D-A16M-01 has no genes with altered CN\n",
      "TCGA-DJ-A3UT-01A-11D-A22C-01 has no genes with altered CN\n",
      "TCGA-CE-A3ME-01A-11D-A20A-01 has no genes with altered CN\n",
      "TCGA-E3-A3E5-01A-11D-A20A-01 has no genes with altered CN\n",
      "TCGA-E3-A3E3-01A-11D-A20A-01 has no genes with altered CN\n",
      "TCGA-CE-A485-01A-11D-A23T-01 has no genes with altered CN\n",
      "TCGA-BJ-A18Y-01A-11D-A13V-01 has no genes with altered CN\n",
      "TCGA-FY-A4B3-01A-11D-A23T-01 has no genes with altered CN\n",
      "TCGA-EM-A3O7-01A-11D-A21Y-01 has no genes with altered CN\n",
      "TCGA-FY-A3R8-01A-11D-A21Y-01 has no genes with altered CN\n",
      "TCGA-EL-A4JZ-01A-11D-A256-01 has no genes with altered CN\n",
      "TCGA-EM-A2CN-01A-11D-A19I-01 has no genes with altered CN\n",
      "TCGA-ET-A39O-01A-11D-A19I-01 has no genes with altered CN\n",
      "TCGA-E8-A418-01A-11D-A23L-01 has no genes with altered CN\n",
      "TCGA-L6-A4EQ-01A-11D-A256-01 has no genes with altered CN\n",
      "TCGA-DJ-A4V5-01A-11D-A256-01 has no genes with altered CN\n",
      "TCGA-DJ-A2PO-01A-21D-A19I-01 has no genes with altered CN\n"
     ]
    },
    {
     "name": "stdout",
     "output_type": "stream",
     "text": [
      "... 200 processed.\n"
     ]
    },
    {
     "name": "stderr",
     "output_type": "stream",
     "text": [
      "TCGA-EL-A3N2-01A-11D-A20A-01 has no genes with altered CN\n",
      "TCGA-BJ-A0ZG-01A-11D-A10T-01 has no genes with altered CN\n",
      "TCGA-E8-A437-01A-12D-A23T-01 has no genes with altered CN\n",
      "TCGA-DE-A0Y2-01A-11D-A10T-01 has no genes with altered CN\n",
      "TCGA-J8-A3O2-06A-11D-A23L-01 has no genes with altered CN\n",
      "TCGA-DJ-A2PP-01A-11D-A19I-01 has no genes with altered CN\n",
      "TCGA-E3-A3E1-01A-11D-A20A-01 has no genes with altered CN\n",
      "TCGA-ET-A39J-01A-11D-A19I-01 has no genes with altered CN\n",
      "TCGA-DE-A4M8-01A-21D-A256-01 has no genes with altered CN\n",
      "TCGA-DJ-A2PS-01A-11D-A18E-01 has no genes with altered CN\n",
      "TCGA-EL-A3D4-01A-11D-A19I-01 has no genes with altered CN\n",
      "TCGA-EL-A3TB-01A-11D-A22C-01 has no genes with altered CN\n",
      "TCGA-EL-A3GW-01A-11D-A201-01 has no genes with altered CN\n",
      "TCGA-BJ-A0ZJ-01A-11D-A10T-01 has no genes with altered CN\n",
      "TCGA-EL-A3H8-01A-11D-A20A-01 has no genes with altered CN\n",
      "TCGA-KS-A4I5-01A-11D-A256-01 has no genes with altered CN\n",
      "TCGA-DJ-A3VE-01A-11D-A23L-01 has no genes with altered CN\n",
      "TCGA-CE-A483-01A-11D-A23T-01 has no genes with altered CN\n",
      "TCGA-EL-A3CX-01A-11D-A19I-01 has no genes with altered CN\n",
      "TCGA-DJ-A3UO-01A-11D-A22C-01 has no genes with altered CN\n",
      "TCGA-E8-A433-01A-11D-A23L-01 has no genes with altered CN\n",
      "TCGA-ET-A39L-01A-12D-A19I-01 has no genes with altered CN\n",
      "TCGA-FY-A4B4-01A-11D-A23T-01 has no genes with altered CN\n",
      "TCGA-ET-A3BX-01A-11D-A19I-01 has no genes with altered CN\n",
      "TCGA-BJ-A45D-01A-11D-A23T-01 has no genes with altered CN\n",
      "TCGA-EL-A3GX-01A-11D-A201-01 has no genes with altered CN\n",
      "TCGA-EM-A4FM-01A-11D-A256-01 has no genes with altered CN\n",
      "TCGA-EM-A1YD-01A-11D-A14V-01 has no genes with altered CN\n",
      "TCGA-MK-A4N7-01A-11D-A256-01 has no genes with altered CN\n",
      "TCGA-DJ-A4V2-01A-11D-A256-01 has no genes with altered CN\n",
      "TCGA-FY-A76V-01A-11D-A396-01 has no genes with altered CN\n",
      "TCGA-EM-A2CU-01A-12D-A17S-01 has no genes with altered CN\n",
      "TCGA-KS-A4I7-01A-11D-A256-01 has no genes with altered CN\n"
     ]
    },
    {
     "name": "stdout",
     "output_type": "stream",
     "text": [
      "... 300 processed.\n"
     ]
    },
    {
     "name": "stderr",
     "output_type": "stream",
     "text": [
      "TCGA-EM-A3O8-01A-11D-A21Y-01 has no genes with altered CN\n",
      "TCGA-DJ-A4V4-01A-11D-A256-01 has no genes with altered CN\n",
      "TCGA-EL-A4K7-01A-11D-A256-01 has no genes with altered CN\n",
      "TCGA-ET-A39M-01A-11D-A19I-01 has no genes with altered CN\n",
      "TCGA-E8-A415-01A-11D-A23L-01 has no genes with altered CN\n",
      "TCGA-ET-A3BU-01A-11D-A19I-01 has no genes with altered CN\n",
      "TCGA-J8-A3O2-01A-11D-A23L-01 has no genes with altered CN\n",
      "TCGA-ET-A40Q-01A-11D-A23L-01 has no genes with altered CN\n",
      "TCGA-DJ-A1QM-01A-11D-A14V-01 has no genes with altered CN\n",
      "TCGA-EL-A3T6-01A-11D-A21Y-01 has no genes with altered CN\n",
      "TCGA-DE-A0XZ-01A-11D-A17S-01 has no genes with altered CN\n",
      "TCGA-IM-A41Z-01A-11D-A23L-01 has no genes with altered CN\n",
      "TCGA-EL-A3D1-01A-11D-A19I-01 has no genes with altered CN\n",
      "TCGA-EM-A3FM-01A-11D-A219-01 has no genes with altered CN\n",
      "TCGA-ET-A2MZ-01A-12D-A19I-01 has no genes with altered CN\n",
      "TCGA-DJ-A3VK-01A-11D-A23L-01 has no genes with altered CN\n",
      "TCGA-DJ-A4UT-01A-11D-A256-01 has no genes with altered CN\n",
      "TCGA-DJ-A2Q2-01A-11D-A19I-01 has no genes with altered CN\n",
      "TCGA-E3-A3DZ-01A-11D-A20A-01 has no genes with altered CN\n",
      "TCGA-EM-A22K-01A-11D-A17S-01 has no genes with altered CN\n",
      "TCGA-EM-A3AP-01A-12D-A20A-01 has no genes with altered CN\n",
      "TCGA-EL-A3D0-01A-12D-A201-01 has no genes with altered CN\n",
      "TCGA-KS-A4I9-01A-11D-A256-01 has no genes with altered CN\n",
      "TCGA-BJ-A28S-01A-11D-A19I-01 has no genes with altered CN\n",
      "TCGA-EM-A1CW-01A-21D-A13V-01 has no genes with altered CN\n",
      "TCGA-ET-A2N1-01A-11D-A18E-01 has no genes with altered CN\n",
      "TCGA-EM-A2P3-01A-11D-A201-01 has no genes with altered CN\n",
      "TCGA-DJ-A3UN-01A-11D-A22C-01 has no genes with altered CN\n",
      "TCGA-EM-A3AL-01A-11D-A201-01 has no genes with altered CN\n",
      "TCGA-FE-A3PC-01A-11D-A21Y-01 has no genes with altered CN\n",
      "TCGA-EM-A4FQ-01A-11D-A256-01 has no genes with altered CN\n",
      "TCGA-DJ-A3VJ-01A-11D-A23L-01 has no genes with altered CN\n",
      "TCGA-EL-A3MY-01A-11D-A219-01 has no genes with altered CN\n",
      "TCGA-ET-A40T-01A-11D-A23L-01 has no genes with altered CN\n",
      "TCGA-ET-A25N-01A-11D-A16M-01 has no genes with altered CN\n",
      "TCGA-DE-A4M9-01A-11D-A256-01 has no genes with altered CN\n",
      "TCGA-FY-A3TY-01A-11D-A22Y-01 has no genes with altered CN\n",
      "TCGA-BJ-A18Z-01A-21D-A13V-01 has no genes with altered CN\n"
     ]
    },
    {
     "name": "stdout",
     "output_type": "stream",
     "text": [
      "... 400 processed.\n",
      "THCA (31922, 506)\n"
     ]
    },
    {
     "name": "stderr",
     "output_type": "stream",
     "text": [
      "THYM\n",
      "TCGA-XU-AAXZ-01A-11D-A427-01 has no genes with altered CN\n",
      "TCGA-ZB-A96G-01A-11D-A427-01 has no genes with altered CN\n",
      "TCGA-XM-A8RB-01A-11D-A422-01 has no genes with altered CN\n",
      "TCGA-XU-A92X-01A-11D-A422-01 has no genes with altered CN\n",
      "TCGA-ZB-A96E-01A-11D-A427-01 has no genes with altered CN\n",
      "TCGA-3Q-A9WF-01A-11D-A422-01 has no genes with altered CN\n",
      "TCGA-4X-A9F9-01A-11D-A422-01 has no genes with altered CN\n",
      "TCGA-ZC-AAAA-01A-11D-A427-01 has no genes with altered CN\n",
      "TCGA-ZB-A96M-01A-11D-A427-01 has no genes with altered CN\n",
      "TCGA-X7-A8M8-01A-11D-A422-01 has no genes with altered CN\n",
      "TCGA-X7-A8M4-01A-11D-A422-01 has no genes with altered CN\n",
      "TCGA-ZB-A96A-01A-11D-A427-01 has no genes with altered CN\n",
      "TCGA-X7-A8DC-01A-11D-A422-01 has no genes with altered CN\n",
      "TCGA-ZB-A96Q-01A-11D-A427-01 has no genes with altered CN\n",
      "TCGA-3S-AAYX-01A-11D-A422-01 has no genes with altered CN\n",
      "TCGA-YT-A95E-01A-11D-A427-01 has no genes with altered CN\n",
      "TCGA-X7-A8M1-01A-11D-A422-01 has no genes with altered CN\n",
      "TCGA-X7-A8M7-01A-11D-A422-01 has no genes with altered CN\n",
      "TCGA-X7-A8D8-01A-11D-A422-01 has no genes with altered CN\n",
      "TCGA-4V-A9QQ-01A-11D-A422-01 has no genes with altered CN\n",
      "TCGA-XH-A853-01A-11D-A422-01 has no genes with altered CN\n",
      "TCGA-ZT-A8OM-01A-11D-A427-01 has no genes with altered CN\n",
      "TCGA-ZB-A96R-01A-11D-A427-01 has no genes with altered CN\n",
      "TCGA-XM-AAZ3-01A-11D-A422-01 has no genes with altered CN\n",
      "TCGA-ZB-A96B-01A-11D-A427-01 has no genes with altered CN\n",
      "TCGA-ZC-AAAH-01A-11D-A427-01 has no genes with altered CN\n"
     ]
    },
    {
     "name": "stdout",
     "output_type": "stream",
     "text": [
      "... 100 processed.\n"
     ]
    },
    {
     "name": "stderr",
     "output_type": "stream",
     "text": [
      "TCGA-X7-A8DB-01A-11D-A422-01 has no genes with altered CN\n",
      "TCGA-ZB-A96O-01A-11D-A427-01 has no genes with altered CN\n"
     ]
    },
    {
     "name": "stdout",
     "output_type": "stream",
     "text": [
      "THYM (31922, 125)\n"
     ]
    },
    {
     "name": "stderr",
     "output_type": "stream",
     "text": [
      "UCEC-FFPE\n"
     ]
    },
    {
     "name": "stdout",
     "output_type": "stream",
     "text": [
      "UCEC-FFPE (13704, 4)\n"
     ]
    },
    {
     "name": "stderr",
     "output_type": "stream",
     "text": [
      "UCS\n"
     ]
    },
    {
     "name": "stdout",
     "output_type": "stream",
     "text": [
      "UCS (31922, 56)\n"
     ]
    },
    {
     "name": "stderr",
     "output_type": "stream",
     "text": [
      "UVM\n"
     ]
    },
    {
     "name": "stdout",
     "output_type": "stream",
     "text": [
      "UVM (31922, 80)\n"
     ]
    }
   ],
   "source": [
    "for cohort in dfs.keys():\n",
    "    print(cohort, file=sys.stderr)\n",
    "    df = dfs[cohort]\n",
    "    cna_table = []\n",
    "    n_samples = 0\n",
    "    if(cohort ==\"COAD-FFPE\"):\n",
    "        continue\n",
    "    for sample in list(set(df.Sample.values)):\n",
    "        n_samples +=1\n",
    "        cnv2gene = cnv2genelevel(cnv2bed(df[df.Sample == sample]),gene_intervals_bed,sample,\n",
    "                                 verbose = False,sorted_index = sorted_index)\n",
    "        cna_table.append(cnv2gene)\n",
    "        if n_samples % 100 == 0:\n",
    "            print(\"...\",n_samples, \"processed.\")\n",
    "    cna_table = pd.concat(cna_table,axis =1)\n",
    "    \n",
    "\n",
    "    for sample in tumors_without_CNA[cohort]:\n",
    "        cna_table[sample] = 0\n",
    "    \n",
    "    cna_table.fillna(0, inplace = True)\n",
    "    cna_table.to_csv(preprocessed_dir+\"/TCGA-\"+cohort+\".Segment_Mean.CNA.tsv\",\n",
    "                     sep = \"\\t\",header=True,index=True)\n",
    "    print(cohort,cna_table.shape)"
   ]
  },
  {
   "cell_type": "code",
   "execution_count": 77,
   "metadata": {},
   "outputs": [
    {
     "data": {
      "text/plain": [
       "'t = time.time()\\ncnv2gene = cnv2genelevel(cnv2bed(df[df.Sample == sample]),gene_intervals_bed,sample,\\n                         verbose = False,sorted_index = sorted_index)\\nprint( time.time() - t)\\ncnv2gene'"
      ]
     },
     "execution_count": 77,
     "metadata": {},
     "output_type": "execute_result"
    }
   ],
   "source": [
    "\"\"\"t = time.time()\n",
    "cnv2gene = cnv2genelevel(cnv2bed(df[df.Sample == sample]),gene_intervals_bed,sample,\n",
    "                         verbose = False,sorted_index = sorted_index)\n",
    "print( time.time() - t)\n",
    "cnv2gene\"\"\""
   ]
  },
  {
   "cell_type": "markdown",
   "metadata": {},
   "source": [
    "# CCLE\n",
    "the same pipeline as for TCGA except filtering out germline CNA (because no )\n",
    "\n",
    "wget https://data.broadinstitute.org/ccle_legacy_data/dna_copy_number/CCLE_copynumber_2013-12-03.seg.txt\n",
    "\n",
    "? should we use a stronger segment_mean threshold because this data are for cell lines and purity must be 100%"
   ]
  },
  {
   "cell_type": "code",
   "execution_count": 78,
   "metadata": {},
   "outputs": [
    {
     "name": "stdout",
     "output_type": "stream",
     "text": [
      "No duplicated row IDs. Do nothing.\n",
      "CCLE: genes: 33850 samples 1043\n"
     ]
    }
   ],
   "source": [
    "df = pd.read_csv(\"CCLE/CCLE_copynumber_2013-12-03.seg.txt\",sep = \"\\t\")\n",
    "df.rename({\"CCLE_name\":\"Sample\"},inplace=True, axis=\"columns\")\n",
    "df[\"End\"] = df[\"End\"].apply(int)\n",
    "ccle = []\n",
    "for sample_name in list(set(df[\"Sample\"].values)):\n",
    "    cl = df.loc[df[\"Sample\"]==sample_name, :]\n",
    "    # keep high-conf segments \n",
    "    cl_filtered = filter_lowconf_segments(cl,num_marker_thr,pos_seg_mean_thr, neg_seg_mean_thr )\n",
    "    #print(sample_name, cl.shape[0], \"after filtration\",cl_filtered.shape[0])\n",
    "    # map to genes \n",
    "    cnv2gene = cnv2genelevel(cnv2bed(cl_filtered),gene_intervals_bed,sample_name,\n",
    "                                 verbose = False,sorted_index = sorted_index)\n",
    "    ccle.append(cnv2gene)\n",
    "    \n",
    "ccle = pd.concat(ccle,axis =1)\n",
    "ccle.fillna(0, inplace = True)\n",
    "ccle = handle_dups(ccle)\n",
    "ccle.to_csv(preprocessed_dir+\"/\"+\"CCLE\"+\".Segment_Mean.CNA.tsv\",\n",
    "                 sep = \"\\t\",header=True,index=True)\n",
    "print(\"CCLE:\",\"genes:\",ccle.shape[0],\"samples\",ccle.shape[1])"
   ]
  },
  {
   "cell_type": "markdown",
   "metadata": {},
   "source": [
    "# GDSC\n",
    "Assume that supplementary file with gene-level CN is downloaded :\n",
    "\n",
    "wget\n",
    "\n",
    "GDSC provides gene-level integer estimated CN, max. and min. CN over all segments covering a gene. In order to make it comparable with TCGA and CCLE, we divide estimated CN by CN of copy-neutral state and log2-transform it.\n",
    "\n",
    "1) Copy-neutral state was defined from average ploiy, as median of integer CN values in non-disrupted genes.\n",
    "\n",
    "2) Compute log2(CN/neutral-CN) for min and max CN; keep the value with most extreme estimate\n",
    "\n",
    "3) Replace estimates below thresholds with zeroes.\n",
    "\n",
    "DGSC uses 4 comma-separated values for gene-level CN (max_cn,min_cn,zygosity,disruption): e.g. (from \"legend\" tab)\n",
    "\n",
    "2,2,H,- Gene resides on a single genomic segment in a diploid region of the genome. 2,0,L,D Gene spans multiple segments, higest copy number is 2 but part of the coding sequence is homozygously deleted, the gene is disrupted. 13,13,H,- Gene resides on a single genomic segment of copy number 13 in a heterozygous part of the genome (amplification). 14,12,L,D Gene spans multiple genomic segments all of which are amplified to 12 or more copies, some or all segments have LOH, the gene is disrupted. 0,0,0,- Complete gene sequence falls within a homozygous deletion. -1,-1,-,- gene level CN not assigned\n",
    "\n",
    "min and max CN are integers\n",
    "zygosity - can be L (LOH in any overlapping segment) or H (heterozygous) or 0 (homozygous deleteion of the whole gene) or - (undefined)\n",
    "disruption - D (if disrupted) or \"-\" (not disrupted)\n",
    "Average ploidies of cell lines were downloaded from COSMIC:\n",
    "\n",
    "wget https://cog.sanger.ac.uk/cosmic/GRCh37/cell_lines/v86/PICNIC_average_ploidies.tsv?AWSAccessKeyId=KRV7P7QR9DL41J9EWGA2&Expires=1540792525&Signature=mcSB6oFv%2BXCF4%2Fezm4a3Ds1JXo4%3D\n",
    "\n",
    "wget ftp:// ftp.sanger.ac.uk/pub/project/cancerrxgene/releases/release-7.0/Gene_level_CN.xlsx"
   ]
  },
  {
   "cell_type": "code",
   "execution_count": 79,
   "metadata": {},
   "outputs": [
    {
     "data": {
      "text/html": [
       "<div>\n",
       "<style scoped>\n",
       "    .dataframe tbody tr th:only-of-type {\n",
       "        vertical-align: middle;\n",
       "    }\n",
       "\n",
       "    .dataframe tbody tr th {\n",
       "        vertical-align: top;\n",
       "    }\n",
       "\n",
       "    .dataframe thead th {\n",
       "        text-align: right;\n",
       "    }\n",
       "</style>\n",
       "<table border=\"1\" class=\"dataframe\">\n",
       "  <thead>\n",
       "    <tr style=\"text-align: right;\">\n",
       "      <th></th>\n",
       "      <th>gene</th>\n",
       "      <th>chr</th>\n",
       "      <th>start</th>\n",
       "      <th>stop</th>\n",
       "      <th>201T</th>\n",
       "      <th>22RV1</th>\n",
       "      <th>23132-87</th>\n",
       "      <th>42-MG-BA</th>\n",
       "      <th>451Lu</th>\n",
       "      <th>5637</th>\n",
       "      <th>...</th>\n",
       "      <th>WSU-NHL</th>\n",
       "      <th>YAPC</th>\n",
       "      <th>YH-13</th>\n",
       "      <th>YKG-1</th>\n",
       "      <th>YMB-1-E</th>\n",
       "      <th>YT</th>\n",
       "      <th>ZR-75-30</th>\n",
       "      <th>huH-1</th>\n",
       "      <th>no-10</th>\n",
       "      <th>no-11</th>\n",
       "    </tr>\n",
       "  </thead>\n",
       "  <tbody>\n",
       "    <tr>\n",
       "      <th>0</th>\n",
       "      <td>NaN</td>\n",
       "      <td>NaN</td>\n",
       "      <td>NaN</td>\n",
       "      <td>NaN</td>\n",
       "      <td>1287381</td>\n",
       "      <td>924100</td>\n",
       "      <td>910924</td>\n",
       "      <td>687561</td>\n",
       "      <td>1287706</td>\n",
       "      <td>687452</td>\n",
       "      <td>...</td>\n",
       "      <td>909785</td>\n",
       "      <td>909904</td>\n",
       "      <td>909905</td>\n",
       "      <td>687592</td>\n",
       "      <td>1303911</td>\n",
       "      <td>946358</td>\n",
       "      <td>909907</td>\n",
       "      <td>1298146</td>\n",
       "      <td>908452</td>\n",
       "      <td>908450</td>\n",
       "    </tr>\n",
       "    <tr>\n",
       "      <th>1</th>\n",
       "      <td>DDX11L1</td>\n",
       "      <td>1</td>\n",
       "      <td>11869.0</td>\n",
       "      <td>14412.0</td>\n",
       "      <td>-1,-1,-,-</td>\n",
       "      <td>-1,-1,-,-</td>\n",
       "      <td>-1,-1,-,-</td>\n",
       "      <td>-1,-1,-,-</td>\n",
       "      <td>-1,-1,-,-</td>\n",
       "      <td>-1,-1,-,-</td>\n",
       "      <td>...</td>\n",
       "      <td>-1,-1,-,-</td>\n",
       "      <td>-1,-1,-,-</td>\n",
       "      <td>-1,-1,-,-</td>\n",
       "      <td>-1,-1,-,-</td>\n",
       "      <td>-1,-1,-,-</td>\n",
       "      <td>-1,-1,-,-</td>\n",
       "      <td>-1,-1,-,-</td>\n",
       "      <td>-1,-1,-,-</td>\n",
       "      <td>-1,-1,-,-</td>\n",
       "      <td>-1,-1,-,-</td>\n",
       "    </tr>\n",
       "    <tr>\n",
       "      <th>2</th>\n",
       "      <td>WASH7P</td>\n",
       "      <td>1</td>\n",
       "      <td>14363.0</td>\n",
       "      <td>29806.0</td>\n",
       "      <td>-1,-1,-,-</td>\n",
       "      <td>-1,-1,-,-</td>\n",
       "      <td>-1,-1,-,-</td>\n",
       "      <td>-1,-1,-,-</td>\n",
       "      <td>-1,-1,-,-</td>\n",
       "      <td>-1,-1,-,-</td>\n",
       "      <td>...</td>\n",
       "      <td>-1,-1,-,-</td>\n",
       "      <td>-1,-1,-,-</td>\n",
       "      <td>-1,-1,-,-</td>\n",
       "      <td>-1,-1,-,-</td>\n",
       "      <td>-1,-1,-,-</td>\n",
       "      <td>-1,-1,-,-</td>\n",
       "      <td>-1,-1,-,-</td>\n",
       "      <td>-1,-1,-,-</td>\n",
       "      <td>-1,-1,-,-</td>\n",
       "      <td>-1,-1,-,-</td>\n",
       "    </tr>\n",
       "  </tbody>\n",
       "</table>\n",
       "<p>3 rows × 1000 columns</p>\n",
       "</div>"
      ],
      "text/plain": [
       "      gene  chr    start     stop       201T      22RV1   23132-87   42-MG-BA  \\\n",
       "0      NaN  NaN      NaN      NaN    1287381     924100     910924     687561   \n",
       "1  DDX11L1    1  11869.0  14412.0  -1,-1,-,-  -1,-1,-,-  -1,-1,-,-  -1,-1,-,-   \n",
       "2   WASH7P    1  14363.0  29806.0  -1,-1,-,-  -1,-1,-,-  -1,-1,-,-  -1,-1,-,-   \n",
       "\n",
       "       451Lu       5637  ...    WSU-NHL       YAPC      YH-13      YKG-1  \\\n",
       "0    1287706     687452  ...     909785     909904     909905     687592   \n",
       "1  -1,-1,-,-  -1,-1,-,-  ...  -1,-1,-,-  -1,-1,-,-  -1,-1,-,-  -1,-1,-,-   \n",
       "2  -1,-1,-,-  -1,-1,-,-  ...  -1,-1,-,-  -1,-1,-,-  -1,-1,-,-  -1,-1,-,-   \n",
       "\n",
       "     YMB-1-E         YT   ZR-75-30      huH-1      no-10      no-11  \n",
       "0    1303911     946358     909907    1298146     908452     908450  \n",
       "1  -1,-1,-,-  -1,-1,-,-  -1,-1,-,-  -1,-1,-,-  -1,-1,-,-  -1,-1,-,-  \n",
       "2  -1,-1,-,-  -1,-1,-,-  -1,-1,-,-  -1,-1,-,-  -1,-1,-,-  -1,-1,-,-  \n",
       "\n",
       "[3 rows x 1000 columns]"
      ]
     },
     "execution_count": 79,
     "metadata": {},
     "output_type": "execute_result"
    }
   ],
   "source": [
    "GDSC_CNA = \"GDSC/Gene_level_CN.xlsx\"\n",
    "\n",
    "gdsc = pd.read_excel(GDSC_CNA,\"Gene_level_CN\")\n",
    "gdsc.head(3)"
   ]
  },
  {
   "cell_type": "code",
   "execution_count": 80,
   "metadata": {},
   "outputs": [
    {
     "name": "stdout",
     "output_type": "stream",
     "text": [
      "25 gene IDs excluded due to string to datetime conversion in Excel.\n",
      "Strings containing duplicated gene IDs: 0\n"
     ]
    }
   ],
   "source": [
    "gdsc.set_index(\"gene\",inplace = True)\n",
    "gdsc.drop([\"chr\",\"start\",\"stop\"],inplace=True,axis=1)\n",
    "gdsc.columns = gdsc.iloc[0,:]\n",
    "gdsc = gdsc.iloc[1:,:]\n",
    "gdsc.columns.name = None\n",
    "# replace 2001-12-01 with DEC1 and get remove gene names converted to datetimes\n",
    "gdsc.index.values[37778] = \"DEC1\"\n",
    "df_size = gdsc.shape[0]\n",
    "ndxs=pd.Series(gdsc.index).apply(lambda x : type(x) == str)\n",
    "gdsc = gdsc.loc[gdsc.index.values[ndxs[ndxs].index],:]\n",
    "print(df_size - gdsc.shape[0],\"gene IDs excluded due to string to datetime conversion in Excel.\")\n",
    "\n",
    "gdsc.index.name = \"gene_id\"\n",
    "ids = gdsc.index\n",
    "ids = list(set(ids[ids.duplicated()]))\n",
    "print(\"Strings containing duplicated gene IDs:\",gdsc.loc[ids,:].shape[0])"
   ]
  },
  {
   "cell_type": "markdown",
   "metadata": {},
   "source": [
    "## distribution of averaged ploidies in GDSC\n",
    "we compared average ploidies reported in PICNIC_average_ploidies.tsv provided by COSMIC with"
   ]
  },
  {
   "cell_type": "code",
   "execution_count": 81,
   "metadata": {},
   "outputs": [
    {
     "name": "stdout",
     "output_type": "stream",
     "text": [
      "1020\n",
      "1016\n"
     ]
    }
   ],
   "source": [
    "GDSC_Ploidies = \"GDSC/PICNIC_average_ploidies.tsv\"\n",
    "GDSC_Ploidies = pd.read_csv(GDSC_Ploidies,sep = \"\\t\")\n",
    "GDSC_Ploidies.drop(\"#sample_name\",axis = 1, inplace= True)\n",
    "GDSC_Ploidies.set_index(\"sample_id\",inplace=True)\n",
    "print(GDSC_Ploidies.shape[0])\n",
    "GDSC_Ploidies.dropna(inplace=True)\n",
    "print(GDSC_Ploidies.shape[0])\n",
    "\n",
    "est_ploidies = gdsc.apply(define_avg_ploidy).T\n",
    "df_ploidies = pd.DataFrame.from_dict({\"est. avg. ploidy from CN profile\":est_ploidies[\"avg_pl\"],\"PICNIC avg. pl.\":GDSC_Ploidies[\"average_ploidy\"],\n",
    "                                     \"est. median. ploidy\":est_ploidies[\"median_pl\"]})"
   ]
  },
  {
   "cell_type": "code",
   "execution_count": 82,
   "metadata": {},
   "outputs": [
    {
     "data": {
      "image/png": "[encoded data removed]",
      "text/plain": [
       "<Figure size 1440x360 with 3 Axes>"
      ]
     },
     "metadata": {
      "needs_background": "light"
     },
     "output_type": "display_data"
    },
    {
     "data": {
      "image/png": "[encoded data removed]",
      "text/plain": [
       "<Figure size 432x288 with 1 Axes>"
      ]
     },
     "metadata": {
      "needs_background": "light"
     },
     "output_type": "display_data"
    }
   ],
   "source": [
    "plt.figure(figsize=(20,5))\n",
    "plt.subplot(131)\n",
    "tmp = plt.hist(est_ploidies[\"avg_pl\"],bins=30)\n",
    "plt.title(\"est. avg. ploidy from CN profile\")\n",
    "plt.subplot(132)\n",
    "tmp = plt.hist(sorted(list(GDSC_Ploidies[\"average_ploidy\"].values)),bins=30)\n",
    "plt.title(\"PICNIC avg. pl.\")\n",
    "plt.subplot(133)\n",
    "tmp = plt.hist(est_ploidies[\"median_pl\"],bins=30)\n",
    "plt.title(\"est. median ploidy\")\n",
    "\n",
    "tmp = df_ploidies.plot.scatter(x = \"est. avg. ploidy from CN profile\",y=\"PICNIC avg. pl.\")"
   ]
  },
  {
   "cell_type": "code",
   "execution_count": 83,
   "metadata": {},
   "outputs": [
    {
     "data": {
      "image/png": "[encoded data removed]",
      "text/plain": [
       "<Figure size 432x288 with 1 Axes>"
      ]
     },
     "metadata": {
      "needs_background": "light"
     },
     "output_type": "display_data"
    }
   ],
   "source": [
    "# PICNIC average ploidy vs estimated copy-neutral \n",
    "tmp = df_ploidies.boxplot(column=\"PICNIC avg. pl.\", by = \"est. median. ploidy\" )"
   ]
  },
  {
   "cell_type": "markdown",
   "metadata": {},
   "source": [
    "## Convert gene-level integer CN into log2R-like format in order to make it compatible with TCGA and CCLE\n",
    "1 Copy-neutral state was defined from average ploiy, as median of integer CN values in non-disrupted genes.\n",
    "\n",
    "2 Compute log2(CN/neutral-CN) for min and max CN; keep the value with most extreme estimate\n",
    "\n",
    "3 Replace estimates below thresholds with zeroes."
   ]
  },
  {
   "cell_type": "code",
   "execution_count": 84,
   "metadata": {},
   "outputs": [
    {
     "data": {
      "text/plain": [
       "3.0"
      ]
     },
     "execution_count": 84,
     "metadata": {},
     "output_type": "execute_result"
    }
   ],
   "source": [
    "estimated_CN = est_ploidies[\"median_pl\"].to_dict()\n",
    "estimated_CN[1287381]"
   ]
  },
  {
   "cell_type": "code",
   "execution_count": 85,
   "metadata": {},
   "outputs": [
    {
     "data": {
      "text/html": [
       "<div>\n",
       "<style scoped>\n",
       "    .dataframe tbody tr th:only-of-type {\n",
       "        vertical-align: middle;\n",
       "    }\n",
       "\n",
       "    .dataframe tbody tr th {\n",
       "        vertical-align: top;\n",
       "    }\n",
       "\n",
       "    .dataframe thead th {\n",
       "        text-align: right;\n",
       "    }\n",
       "</style>\n",
       "<table border=\"1\" class=\"dataframe\">\n",
       "  <thead>\n",
       "    <tr style=\"text-align: right;\">\n",
       "      <th></th>\n",
       "      <th>1287381</th>\n",
       "      <th>924100</th>\n",
       "      <th>910924</th>\n",
       "      <th>687561</th>\n",
       "      <th>1287706</th>\n",
       "      <th>687452</th>\n",
       "      <th>906798</th>\n",
       "      <th>906797</th>\n",
       "      <th>906800</th>\n",
       "      <th>910922</th>\n",
       "      <th>...</th>\n",
       "      <th>909785</th>\n",
       "      <th>909904</th>\n",
       "      <th>909905</th>\n",
       "      <th>687592</th>\n",
       "      <th>1303911</th>\n",
       "      <th>946358</th>\n",
       "      <th>909907</th>\n",
       "      <th>1298146</th>\n",
       "      <th>908452</th>\n",
       "      <th>908450</th>\n",
       "    </tr>\n",
       "  </thead>\n",
       "  <tbody>\n",
       "    <tr>\n",
       "      <th>OR4G11P</th>\n",
       "      <td>0.736966</td>\n",
       "      <td>0.0</td>\n",
       "      <td>0.0</td>\n",
       "      <td>0.321928</td>\n",
       "      <td>0.0</td>\n",
       "      <td>0.0</td>\n",
       "      <td>0.0</td>\n",
       "      <td>0.0</td>\n",
       "      <td>0.0</td>\n",
       "      <td>-1.0</td>\n",
       "      <td>...</td>\n",
       "      <td>0.0</td>\n",
       "      <td>0.415037</td>\n",
       "      <td>0.0</td>\n",
       "      <td>0.0</td>\n",
       "      <td>-0.584963</td>\n",
       "      <td>0.321928</td>\n",
       "      <td>-1.0</td>\n",
       "      <td>-0.584963</td>\n",
       "      <td>0.584963</td>\n",
       "      <td>0.0</td>\n",
       "    </tr>\n",
       "    <tr>\n",
       "      <th>OR4F5</th>\n",
       "      <td>0.736966</td>\n",
       "      <td>0.0</td>\n",
       "      <td>0.0</td>\n",
       "      <td>0.321928</td>\n",
       "      <td>0.0</td>\n",
       "      <td>0.0</td>\n",
       "      <td>0.0</td>\n",
       "      <td>0.0</td>\n",
       "      <td>0.0</td>\n",
       "      <td>-1.0</td>\n",
       "      <td>...</td>\n",
       "      <td>0.0</td>\n",
       "      <td>0.415037</td>\n",
       "      <td>0.0</td>\n",
       "      <td>0.0</td>\n",
       "      <td>-0.584963</td>\n",
       "      <td>0.321928</td>\n",
       "      <td>-1.0</td>\n",
       "      <td>-0.584963</td>\n",
       "      <td>0.584963</td>\n",
       "      <td>0.0</td>\n",
       "    </tr>\n",
       "    <tr>\n",
       "      <th>RP11-34P13.7</th>\n",
       "      <td>0.736966</td>\n",
       "      <td>0.0</td>\n",
       "      <td>0.0</td>\n",
       "      <td>0.321928</td>\n",
       "      <td>0.0</td>\n",
       "      <td>0.0</td>\n",
       "      <td>0.0</td>\n",
       "      <td>0.0</td>\n",
       "      <td>0.0</td>\n",
       "      <td>-1.0</td>\n",
       "      <td>...</td>\n",
       "      <td>0.0</td>\n",
       "      <td>0.415037</td>\n",
       "      <td>0.0</td>\n",
       "      <td>0.0</td>\n",
       "      <td>-0.584963</td>\n",
       "      <td>0.321928</td>\n",
       "      <td>-1.0</td>\n",
       "      <td>-0.584963</td>\n",
       "      <td>0.584963</td>\n",
       "      <td>0.0</td>\n",
       "    </tr>\n",
       "  </tbody>\n",
       "</table>\n",
       "<p>3 rows × 996 columns</p>\n",
       "</div>"
      ],
      "text/plain": [
       "               1287381  924100   910924    687561   1287706  687452   906798   \\\n",
       "OR4G11P       0.736966      0.0      0.0  0.321928      0.0      0.0      0.0   \n",
       "OR4F5         0.736966      0.0      0.0  0.321928      0.0      0.0      0.0   \n",
       "RP11-34P13.7  0.736966      0.0      0.0  0.321928      0.0      0.0      0.0   \n",
       "\n",
       "              906797   906800   910922   ...  909785    909904   909905   \\\n",
       "OR4G11P           0.0      0.0     -1.0  ...      0.0  0.415037      0.0   \n",
       "OR4F5             0.0      0.0     -1.0  ...      0.0  0.415037      0.0   \n",
       "RP11-34P13.7      0.0      0.0     -1.0  ...      0.0  0.415037      0.0   \n",
       "\n",
       "              687592    1303911   946358   909907    1298146   908452   \\\n",
       "OR4G11P           0.0 -0.584963  0.321928     -1.0 -0.584963  0.584963   \n",
       "OR4F5             0.0 -0.584963  0.321928     -1.0 -0.584963  0.584963   \n",
       "RP11-34P13.7      0.0 -0.584963  0.321928     -1.0 -0.584963  0.584963   \n",
       "\n",
       "              908450   \n",
       "OR4G11P           0.0  \n",
       "OR4F5             0.0  \n",
       "RP11-34P13.7      0.0  \n",
       "\n",
       "[3 rows x 996 columns]"
      ]
     },
     "execution_count": 85,
     "metadata": {},
     "output_type": "execute_result"
    }
   ],
   "source": [
    "gdsc = gdsc.apply(lambda x : CN2log2R(x,estimated_CN[x.name] ))\n",
    "# drop genes without any determined value\n",
    "gdsc = gdsc.dropna(axis=0,how=\"all\")\n",
    "# fill with zeroes the remaining ones\n",
    "gdsc.fillna(0,inplace=True)\n",
    "gdsc.head(3)"
   ]
  },
  {
   "cell_type": "code",
   "execution_count": 86,
   "metadata": {},
   "outputs": [],
   "source": [
    "gdsc = gdsc.applymap(lambda x :  clean_logR(x, pos_seg_mean_thr, neg_seg_mean_thr))"
   ]
  },
  {
   "cell_type": "code",
   "execution_count": 87,
   "metadata": {},
   "outputs": [
    {
     "name": "stderr",
     "output_type": "stream",
     "text": [
      "Ok: no empty rows detected\n",
      "Ok: no duplicated pairs detected\n",
      "Ok: All Symbol rows are not empty.\n",
      "Ok: All Symbol are mapped to GeneID\n",
      "9 Symbol mapped to multiple GeneID\n",
      "Ok: All GeneID are unique\n",
      "60207 Symbol can be mapped directly to GeneID\n"
     ]
    }
   ],
   "source": [
    "NCBI = pd.read_csv(\"Homo_sapiens.gene_info\",sep = \"\\t\")\n",
    "NCBI = NCBI[[\"#tax_id\",\"GeneID\",\"Symbol\",\"Synonyms\",\"type_of_gene\"]]\n",
    "NCBI = NCBI.loc[NCBI[\"#tax_id\"] == 9606]\n",
    "NCBI = NCBI.loc[NCBI[\"type_of_gene\"] != \"unknown\"]\n",
    "ncbi_symbols = parse_mapping_table(NCBI, \"Symbol\",\"GeneID\")"
   ]
  },
  {
   "cell_type": "code",
   "execution_count": 88,
   "metadata": {},
   "outputs": [
    {
     "name": "stderr",
     "output_type": "stream",
     "text": [
      "Ok: no empty rows detected\n",
      "Ok: no duplicated pairs detected\n",
      "Ok: All Synonyms rows are not empty.\n",
      "Ok: All Synonyms are mapped to GeneID\n",
      "3261 Synonyms mapped to multiple GeneID\n",
      "50720 different Synonyms mapped to the same GeneID\n",
      "10915 Synonyms can be mapped directly to GeneID\n"
     ]
    }
   ],
   "source": [
    "ncbi_synonyms = expand(NCBI[[\"Synonyms\",\"GeneID\"]],column=\"Synonyms\",sep=\"|\") \n",
    "ncbi_synonyms = parse_mapping_table(ncbi_synonyms, \"Synonyms\",\"GeneID\")"
   ]
  },
  {
   "cell_type": "code",
   "execution_count": 89,
   "metadata": {},
   "outputs": [
    {
     "name": "stdout",
     "output_type": "stream",
     "text": [
      "Mapped: 24521 \n",
      "\tdirectly via main_mapper 22038 \n",
      "\tvia alternative mapper 826 \n",
      "\tvia one of multiple synonyms in alternative mapper 1657 \n",
      "\tLOC 0 \n",
      "Unmapped: 21611 \n",
      "\trecognized symbols without Entrez ID 0 \n",
      "\tmultiple query_ids map to the same target_id 0 \n",
      "\tquery_ids map to multiple target_ids in the main mapper 0 \n",
      "\tquery_ids map to multiple target_ids in the alternative mapper 94 \n",
      "\tLOC not found in Entrez 0 \n",
      "\tNot found at all: 21517\n",
      "Warning: query IDs mapping to duplicated target IDs in mapping table: 171\n",
      "Warning: query IDs not mapped to any target IDs excluded: 21611\n"
     ]
    },
    {
     "name": "stderr",
     "output_type": "stream",
     "text": [
      "IDs mapped to multiple target IDs are kept:\n",
      " [143872, 414212, 414213, 284697, 341019, 51236, 414761, 442416, 728113, 26165, 6218, 221262, 100132948, 768096, 6241, 642658, 401508, 100289124, 728695, 125050, 387707, 84631, 4253, 643749, 54438, 3255, 100034743, 2749, 653505, 26824, 23254, 728798, 100462820, 119016, 26871, 286464, 51463, 642826, 653067, 100132115, 9502, 10529, 23334, 440107, 256815, 645425, 647507, 728917, 84316, 200030, 729438, 100302179, 106478953, 246126, 100033392, 92017, 374, 445815, 79741, 399761, 647060, 284565, 6551, 161176, 643479, 644509, 100418977, 29099, 10160, 653234, 644019, 114112, 79817, 463, 677844, 26583, 23523, 84458, 1517, 574445, 26095, 653308]\n"
     ]
    },
    {
     "data": {
      "text/html": [
       "<div>\n",
       "<style scoped>\n",
       "    .dataframe tbody tr th:only-of-type {\n",
       "        vertical-align: middle;\n",
       "    }\n",
       "\n",
       "    .dataframe tbody tr th {\n",
       "        vertical-align: top;\n",
       "    }\n",
       "\n",
       "    .dataframe thead th {\n",
       "        text-align: right;\n",
       "    }\n",
       "</style>\n",
       "<table border=\"1\" class=\"dataframe\">\n",
       "  <thead>\n",
       "    <tr style=\"text-align: right;\">\n",
       "      <th></th>\n",
       "      <th>1287381</th>\n",
       "      <th>924100</th>\n",
       "      <th>910924</th>\n",
       "      <th>687561</th>\n",
       "      <th>1287706</th>\n",
       "      <th>687452</th>\n",
       "      <th>906798</th>\n",
       "      <th>906797</th>\n",
       "      <th>906800</th>\n",
       "      <th>910922</th>\n",
       "      <th>...</th>\n",
       "      <th>909785</th>\n",
       "      <th>909904</th>\n",
       "      <th>909905</th>\n",
       "      <th>687592</th>\n",
       "      <th>1303911</th>\n",
       "      <th>946358</th>\n",
       "      <th>909907</th>\n",
       "      <th>1298146</th>\n",
       "      <th>908452</th>\n",
       "      <th>908450</th>\n",
       "    </tr>\n",
       "  </thead>\n",
       "  <tbody>\n",
       "    <tr>\n",
       "      <th>1</th>\n",
       "      <td>0.000000</td>\n",
       "      <td>0.000000</td>\n",
       "      <td>0.0</td>\n",
       "      <td>0.000000</td>\n",
       "      <td>0.000000</td>\n",
       "      <td>0.000000</td>\n",
       "      <td>0.000000</td>\n",
       "      <td>0.584963</td>\n",
       "      <td>0.0</td>\n",
       "      <td>0.0</td>\n",
       "      <td>...</td>\n",
       "      <td>0.0</td>\n",
       "      <td>-0.584963</td>\n",
       "      <td>0.584963</td>\n",
       "      <td>0.415037</td>\n",
       "      <td>0.000000</td>\n",
       "      <td>0.000000</td>\n",
       "      <td>0.0</td>\n",
       "      <td>0.000000</td>\n",
       "      <td>0.584963</td>\n",
       "      <td>0.415037</td>\n",
       "    </tr>\n",
       "    <tr>\n",
       "      <th>2</th>\n",
       "      <td>0.000000</td>\n",
       "      <td>0.584963</td>\n",
       "      <td>0.0</td>\n",
       "      <td>-0.415037</td>\n",
       "      <td>0.321928</td>\n",
       "      <td>0.000000</td>\n",
       "      <td>0.584963</td>\n",
       "      <td>0.584963</td>\n",
       "      <td>0.0</td>\n",
       "      <td>0.0</td>\n",
       "      <td>...</td>\n",
       "      <td>0.0</td>\n",
       "      <td>-0.584963</td>\n",
       "      <td>0.000000</td>\n",
       "      <td>0.000000</td>\n",
       "      <td>0.736966</td>\n",
       "      <td>0.321928</td>\n",
       "      <td>0.0</td>\n",
       "      <td>-0.584963</td>\n",
       "      <td>0.000000</td>\n",
       "      <td>0.736966</td>\n",
       "    </tr>\n",
       "    <tr>\n",
       "      <th>9</th>\n",
       "      <td>-0.584963</td>\n",
       "      <td>0.584963</td>\n",
       "      <td>0.0</td>\n",
       "      <td>-0.415037</td>\n",
       "      <td>-0.415037</td>\n",
       "      <td>-0.584963</td>\n",
       "      <td>0.000000</td>\n",
       "      <td>0.000000</td>\n",
       "      <td>0.0</td>\n",
       "      <td>0.0</td>\n",
       "      <td>...</td>\n",
       "      <td>0.0</td>\n",
       "      <td>-0.584963</td>\n",
       "      <td>0.000000</td>\n",
       "      <td>0.415037</td>\n",
       "      <td>0.000000</td>\n",
       "      <td>0.000000</td>\n",
       "      <td>-1.0</td>\n",
       "      <td>-0.584963</td>\n",
       "      <td>0.000000</td>\n",
       "      <td>0.000000</td>\n",
       "    </tr>\n",
       "  </tbody>\n",
       "</table>\n",
       "<p>3 rows × 996 columns</p>\n",
       "</div>"
      ],
      "text/plain": [
       "    1287381   924100   910924    687561    1287706   687452    906798   \\\n",
       "1  0.000000  0.000000      0.0  0.000000  0.000000  0.000000  0.000000   \n",
       "2  0.000000  0.584963      0.0 -0.415037  0.321928  0.000000  0.584963   \n",
       "9 -0.584963  0.584963      0.0 -0.415037 -0.415037 -0.584963  0.000000   \n",
       "\n",
       "    906797   906800   910922   ...  909785    909904    909905    687592   \\\n",
       "1  0.584963      0.0      0.0  ...      0.0 -0.584963  0.584963  0.415037   \n",
       "2  0.584963      0.0      0.0  ...      0.0 -0.584963  0.000000  0.000000   \n",
       "9  0.000000      0.0      0.0  ...      0.0 -0.584963  0.000000  0.415037   \n",
       "\n",
       "    1303911   946358   909907    1298146   908452    908450   \n",
       "1  0.000000  0.000000      0.0  0.000000  0.584963  0.415037  \n",
       "2  0.736966  0.321928      0.0 -0.584963  0.000000  0.736966  \n",
       "9  0.000000  0.000000     -1.0 -0.584963  0.000000  0.000000  \n",
       "\n",
       "[3 rows x 996 columns]"
      ]
     },
     "execution_count": 89,
     "metadata": {},
     "output_type": "execute_result"
    }
   ],
   "source": [
    "gdsc,query2target,not_mapped  = apply_mappers(gdsc, ncbi_symbols, ncbi_synonyms, verbose = True,handle_duplicates = \"keep\")\n",
    "gdsc.head(3)"
   ]
  },
  {
   "cell_type": "code",
   "execution_count": 90,
   "metadata": {},
   "outputs": [
    {
     "name": "stdout",
     "output_type": "stream",
     "text": [
      "82 duplicated IDs in 171 rows found.\n",
      "duplicate rows removed due to low correlation of duplicated profiles 25\n",
      "Merged  146 duplicated rows into 70 rows\n"
     ]
    },
    {
     "data": {
      "text/html": [
       "<div>\n",
       "<style scoped>\n",
       "    .dataframe tbody tr th:only-of-type {\n",
       "        vertical-align: middle;\n",
       "    }\n",
       "\n",
       "    .dataframe tbody tr th {\n",
       "        vertical-align: top;\n",
       "    }\n",
       "\n",
       "    .dataframe thead th {\n",
       "        text-align: right;\n",
       "    }\n",
       "</style>\n",
       "<table border=\"1\" class=\"dataframe\">\n",
       "  <thead>\n",
       "    <tr style=\"text-align: right;\">\n",
       "      <th></th>\n",
       "      <th>683665</th>\n",
       "      <th>683667</th>\n",
       "      <th>684052</th>\n",
       "      <th>684055</th>\n",
       "      <th>684057</th>\n",
       "      <th>684059</th>\n",
       "      <th>684062</th>\n",
       "      <th>684072</th>\n",
       "      <th>684681</th>\n",
       "      <th>687448</th>\n",
       "      <th>...</th>\n",
       "      <th>1659818</th>\n",
       "      <th>1659819</th>\n",
       "      <th>1659823</th>\n",
       "      <th>1659928</th>\n",
       "      <th>1659929</th>\n",
       "      <th>1660034</th>\n",
       "      <th>1660035</th>\n",
       "      <th>1660036</th>\n",
       "      <th>1674021</th>\n",
       "      <th>1789883</th>\n",
       "    </tr>\n",
       "    <tr>\n",
       "      <th>gene_id</th>\n",
       "      <th></th>\n",
       "      <th></th>\n",
       "      <th></th>\n",
       "      <th></th>\n",
       "      <th></th>\n",
       "      <th></th>\n",
       "      <th></th>\n",
       "      <th></th>\n",
       "      <th></th>\n",
       "      <th></th>\n",
       "      <th></th>\n",
       "      <th></th>\n",
       "      <th></th>\n",
       "      <th></th>\n",
       "      <th></th>\n",
       "      <th></th>\n",
       "      <th></th>\n",
       "      <th></th>\n",
       "      <th></th>\n",
       "      <th></th>\n",
       "      <th></th>\n",
       "    </tr>\n",
       "  </thead>\n",
       "  <tbody>\n",
       "    <tr>\n",
       "      <th>1</th>\n",
       "      <td>0.0</td>\n",
       "      <td>0.000000</td>\n",
       "      <td>0.0</td>\n",
       "      <td>0.000000</td>\n",
       "      <td>-0.415037</td>\n",
       "      <td>0.0</td>\n",
       "      <td>-0.415037</td>\n",
       "      <td>0.000000</td>\n",
       "      <td>0.415037</td>\n",
       "      <td>0.0</td>\n",
       "      <td>...</td>\n",
       "      <td>0.0</td>\n",
       "      <td>0.0</td>\n",
       "      <td>0.000000</td>\n",
       "      <td>0.0</td>\n",
       "      <td>-0.415037</td>\n",
       "      <td>0.0</td>\n",
       "      <td>-0.584963</td>\n",
       "      <td>0.000000</td>\n",
       "      <td>0.000000</td>\n",
       "      <td>0.321928</td>\n",
       "    </tr>\n",
       "    <tr>\n",
       "      <th>2</th>\n",
       "      <td>0.0</td>\n",
       "      <td>0.000000</td>\n",
       "      <td>0.0</td>\n",
       "      <td>0.584963</td>\n",
       "      <td>0.000000</td>\n",
       "      <td>0.0</td>\n",
       "      <td>0.000000</td>\n",
       "      <td>0.584963</td>\n",
       "      <td>0.000000</td>\n",
       "      <td>0.0</td>\n",
       "      <td>...</td>\n",
       "      <td>0.0</td>\n",
       "      <td>0.0</td>\n",
       "      <td>0.000000</td>\n",
       "      <td>0.0</td>\n",
       "      <td>0.000000</td>\n",
       "      <td>0.0</td>\n",
       "      <td>0.000000</td>\n",
       "      <td>0.000000</td>\n",
       "      <td>0.584963</td>\n",
       "      <td>-0.415037</td>\n",
       "    </tr>\n",
       "    <tr>\n",
       "      <th>9</th>\n",
       "      <td>0.0</td>\n",
       "      <td>0.321928</td>\n",
       "      <td>0.0</td>\n",
       "      <td>0.584963</td>\n",
       "      <td>0.584963</td>\n",
       "      <td>0.0</td>\n",
       "      <td>0.321928</td>\n",
       "      <td>0.000000</td>\n",
       "      <td>-0.584963</td>\n",
       "      <td>0.0</td>\n",
       "      <td>...</td>\n",
       "      <td>0.0</td>\n",
       "      <td>0.0</td>\n",
       "      <td>-0.415037</td>\n",
       "      <td>0.0</td>\n",
       "      <td>0.000000</td>\n",
       "      <td>-1.0</td>\n",
       "      <td>-1.584963</td>\n",
       "      <td>0.000000</td>\n",
       "      <td>-1.000000</td>\n",
       "      <td>-1.000000</td>\n",
       "    </tr>\n",
       "    <tr>\n",
       "      <th>10</th>\n",
       "      <td>0.0</td>\n",
       "      <td>0.321928</td>\n",
       "      <td>0.0</td>\n",
       "      <td>0.584963</td>\n",
       "      <td>0.584963</td>\n",
       "      <td>0.0</td>\n",
       "      <td>0.321928</td>\n",
       "      <td>0.000000</td>\n",
       "      <td>-0.584963</td>\n",
       "      <td>0.0</td>\n",
       "      <td>...</td>\n",
       "      <td>0.0</td>\n",
       "      <td>0.0</td>\n",
       "      <td>-0.415037</td>\n",
       "      <td>0.0</td>\n",
       "      <td>0.000000</td>\n",
       "      <td>-1.0</td>\n",
       "      <td>-1.584963</td>\n",
       "      <td>0.000000</td>\n",
       "      <td>-1.000000</td>\n",
       "      <td>-1.000000</td>\n",
       "    </tr>\n",
       "    <tr>\n",
       "      <th>12</th>\n",
       "      <td>0.0</td>\n",
       "      <td>-1.000000</td>\n",
       "      <td>0.0</td>\n",
       "      <td>0.000000</td>\n",
       "      <td>-1.000000</td>\n",
       "      <td>0.0</td>\n",
       "      <td>-0.415037</td>\n",
       "      <td>0.000000</td>\n",
       "      <td>0.000000</td>\n",
       "      <td>0.0</td>\n",
       "      <td>...</td>\n",
       "      <td>-1.0</td>\n",
       "      <td>0.0</td>\n",
       "      <td>0.321928</td>\n",
       "      <td>0.0</td>\n",
       "      <td>-0.415037</td>\n",
       "      <td>0.0</td>\n",
       "      <td>0.415037</td>\n",
       "      <td>0.584963</td>\n",
       "      <td>0.000000</td>\n",
       "      <td>0.000000</td>\n",
       "    </tr>\n",
       "  </tbody>\n",
       "</table>\n",
       "<p>5 rows × 996 columns</p>\n",
       "</div>"
      ],
      "text/plain": [
       "         683665    683667   684052    684055    684057   684059    684062   \\\n",
       "gene_id                                                                      \n",
       "1            0.0  0.000000      0.0  0.000000 -0.415037      0.0 -0.415037   \n",
       "2            0.0  0.000000      0.0  0.584963  0.000000      0.0  0.000000   \n",
       "9            0.0  0.321928      0.0  0.584963  0.584963      0.0  0.321928   \n",
       "10           0.0  0.321928      0.0  0.584963  0.584963      0.0  0.321928   \n",
       "12           0.0 -1.000000      0.0  0.000000 -1.000000      0.0 -0.415037   \n",
       "\n",
       "          684072    684681   687448   ...  1659818  1659819   1659823  \\\n",
       "gene_id                               ...                               \n",
       "1        0.000000  0.415037      0.0  ...      0.0      0.0  0.000000   \n",
       "2        0.584963  0.000000      0.0  ...      0.0      0.0  0.000000   \n",
       "9        0.000000 -0.584963      0.0  ...      0.0      0.0 -0.415037   \n",
       "10       0.000000 -0.584963      0.0  ...      0.0      0.0 -0.415037   \n",
       "12       0.000000  0.000000      0.0  ...     -1.0      0.0  0.321928   \n",
       "\n",
       "         1659928   1659929  1660034   1660035   1660036   1674021   1789883  \n",
       "gene_id                                                                      \n",
       "1            0.0 -0.415037      0.0 -0.584963  0.000000  0.000000  0.321928  \n",
       "2            0.0  0.000000      0.0  0.000000  0.000000  0.584963 -0.415037  \n",
       "9            0.0  0.000000     -1.0 -1.584963  0.000000 -1.000000 -1.000000  \n",
       "10           0.0  0.000000     -1.0 -1.584963  0.000000 -1.000000 -1.000000  \n",
       "12           0.0 -0.415037      0.0  0.415037  0.584963  0.000000  0.000000  \n",
       "\n",
       "[5 rows x 996 columns]"
      ]
     },
     "execution_count": 90,
     "metadata": {},
     "output_type": "execute_result"
    }
   ],
   "source": [
    "gdsc = handle_dups(gdsc,corr_thr = 0.75)\n",
    "gdsc.index.name = \"gene_id\"\n",
    "gdsc = gdsc.T.sort_index().T\n",
    "gdsc.head()"
   ]
  },
  {
   "cell_type": "code",
   "execution_count": 91,
   "metadata": {},
   "outputs": [],
   "source": [
    "gdsc.to_csv(preprocessed_dir+\"/GDSC\"+\".Segment_Mean.CNA.tsv\",\n",
    "                 sep = \"\\t\",header=True,index=True)"
   ]
  },
  {
   "cell_type": "markdown",
   "metadata": {},
   "source": [
    "# PDX\n",
    "For PDX dataset only gene-level estimated copy-number (non-integer) reported. From ploidy distributions, calculated as average over all genes we concluded that CN estimates were called under assumption that copy-neutral state of each xenograft corresponds CN = 2.\n",
    "\n",
    "For gene ID conversion we used the same approach as for RNA-seq."
   ]
  },
  {
   "cell_type": "code",
   "execution_count": 92,
   "metadata": {},
   "outputs": [
    {
     "name": "stdout",
     "output_type": "stream",
     "text": [
      "(23852, 375)\n"
     ]
    },
    {
     "data": {
      "text/html": [
       "<div>\n",
       "<style scoped>\n",
       "    .dataframe tbody tr th:only-of-type {\n",
       "        vertical-align: middle;\n",
       "    }\n",
       "\n",
       "    .dataframe tbody tr th {\n",
       "        vertical-align: top;\n",
       "    }\n",
       "\n",
       "    .dataframe thead th {\n",
       "        text-align: right;\n",
       "    }\n",
       "</style>\n",
       "<table border=\"1\" class=\"dataframe\">\n",
       "  <thead>\n",
       "    <tr style=\"text-align: right;\">\n",
       "      <th></th>\n",
       "      <th>X-1004</th>\n",
       "      <th>X-1008</th>\n",
       "      <th>X-1027</th>\n",
       "      <th>X-1095</th>\n",
       "      <th>X-1119</th>\n",
       "      <th>X-1156</th>\n",
       "      <th>X-1167</th>\n",
       "      <th>X-1169</th>\n",
       "      <th>X-1172</th>\n",
       "      <th>X-1173</th>\n",
       "      <th>...</th>\n",
       "      <th>X-5694</th>\n",
       "      <th>X-5696</th>\n",
       "      <th>X-5713</th>\n",
       "      <th>X-5717</th>\n",
       "      <th>X-5727</th>\n",
       "      <th>X-5739</th>\n",
       "      <th>X-5808</th>\n",
       "      <th>X-5959</th>\n",
       "      <th>X-5975</th>\n",
       "      <th>X-6047</th>\n",
       "    </tr>\n",
       "    <tr>\n",
       "      <th>Sample</th>\n",
       "      <th></th>\n",
       "      <th></th>\n",
       "      <th></th>\n",
       "      <th></th>\n",
       "      <th></th>\n",
       "      <th></th>\n",
       "      <th></th>\n",
       "      <th></th>\n",
       "      <th></th>\n",
       "      <th></th>\n",
       "      <th></th>\n",
       "      <th></th>\n",
       "      <th></th>\n",
       "      <th></th>\n",
       "      <th></th>\n",
       "      <th></th>\n",
       "      <th></th>\n",
       "      <th></th>\n",
       "      <th></th>\n",
       "      <th></th>\n",
       "      <th></th>\n",
       "    </tr>\n",
       "  </thead>\n",
       "  <tbody>\n",
       "    <tr>\n",
       "      <th>A1BG</th>\n",
       "      <td>2.58</td>\n",
       "      <td>1.60</td>\n",
       "      <td>2.17</td>\n",
       "      <td>2.08</td>\n",
       "      <td>2.00</td>\n",
       "      <td>3.94</td>\n",
       "      <td>2.04</td>\n",
       "      <td>11.39</td>\n",
       "      <td>2.17</td>\n",
       "      <td>2.01</td>\n",
       "      <td>...</td>\n",
       "      <td>2.08</td>\n",
       "      <td>2.10</td>\n",
       "      <td>2.14</td>\n",
       "      <td>2.95</td>\n",
       "      <td>2.06</td>\n",
       "      <td>2.07</td>\n",
       "      <td>1.99</td>\n",
       "      <td>2.07</td>\n",
       "      <td>1.43</td>\n",
       "      <td>2.03</td>\n",
       "    </tr>\n",
       "    <tr>\n",
       "      <th>A1BG-AS1</th>\n",
       "      <td>2.58</td>\n",
       "      <td>1.60</td>\n",
       "      <td>2.17</td>\n",
       "      <td>2.08</td>\n",
       "      <td>2.00</td>\n",
       "      <td>3.94</td>\n",
       "      <td>2.04</td>\n",
       "      <td>11.39</td>\n",
       "      <td>2.17</td>\n",
       "      <td>2.01</td>\n",
       "      <td>...</td>\n",
       "      <td>2.08</td>\n",
       "      <td>2.10</td>\n",
       "      <td>2.14</td>\n",
       "      <td>2.95</td>\n",
       "      <td>2.06</td>\n",
       "      <td>2.07</td>\n",
       "      <td>1.99</td>\n",
       "      <td>2.07</td>\n",
       "      <td>1.43</td>\n",
       "      <td>2.03</td>\n",
       "    </tr>\n",
       "    <tr>\n",
       "      <th>A1CF</th>\n",
       "      <td>2.87</td>\n",
       "      <td>2.97</td>\n",
       "      <td>2.01</td>\n",
       "      <td>2.06</td>\n",
       "      <td>2.10</td>\n",
       "      <td>1.58</td>\n",
       "      <td>2.01</td>\n",
       "      <td>1.64</td>\n",
       "      <td>1.89</td>\n",
       "      <td>1.99</td>\n",
       "      <td>...</td>\n",
       "      <td>2.04</td>\n",
       "      <td>0.97</td>\n",
       "      <td>1.58</td>\n",
       "      <td>2.08</td>\n",
       "      <td>1.95</td>\n",
       "      <td>1.92</td>\n",
       "      <td>1.54</td>\n",
       "      <td>1.28</td>\n",
       "      <td>1.33</td>\n",
       "      <td>2.10</td>\n",
       "    </tr>\n",
       "    <tr>\n",
       "      <th>A2LD1</th>\n",
       "      <td>5.74</td>\n",
       "      <td>1.64</td>\n",
       "      <td>2.06</td>\n",
       "      <td>2.01</td>\n",
       "      <td>2.07</td>\n",
       "      <td>1.74</td>\n",
       "      <td>2.06</td>\n",
       "      <td>1.59</td>\n",
       "      <td>1.40</td>\n",
       "      <td>2.53</td>\n",
       "      <td>...</td>\n",
       "      <td>2.03</td>\n",
       "      <td>2.07</td>\n",
       "      <td>2.25</td>\n",
       "      <td>2.00</td>\n",
       "      <td>1.01</td>\n",
       "      <td>2.00</td>\n",
       "      <td>1.08</td>\n",
       "      <td>1.85</td>\n",
       "      <td>1.93</td>\n",
       "      <td>1.45</td>\n",
       "    </tr>\n",
       "  </tbody>\n",
       "</table>\n",
       "<p>4 rows × 375 columns</p>\n",
       "</div>"
      ],
      "text/plain": [
       "          X-1004  X-1008  X-1027  X-1095  X-1119  X-1156  X-1167  X-1169  \\\n",
       "Sample                                                                     \n",
       "A1BG        2.58    1.60    2.17    2.08    2.00    3.94    2.04   11.39   \n",
       "A1BG-AS1    2.58    1.60    2.17    2.08    2.00    3.94    2.04   11.39   \n",
       "A1CF        2.87    2.97    2.01    2.06    2.10    1.58    2.01    1.64   \n",
       "A2LD1       5.74    1.64    2.06    2.01    2.07    1.74    2.06    1.59   \n",
       "\n",
       "          X-1172  X-1173  ...  X-5694  X-5696  X-5713  X-5717  X-5727  X-5739  \\\n",
       "Sample                    ...                                                   \n",
       "A1BG        2.17    2.01  ...    2.08    2.10    2.14    2.95    2.06    2.07   \n",
       "A1BG-AS1    2.17    2.01  ...    2.08    2.10    2.14    2.95    2.06    2.07   \n",
       "A1CF        1.89    1.99  ...    2.04    0.97    1.58    2.08    1.95    1.92   \n",
       "A2LD1       1.40    2.53  ...    2.03    2.07    2.25    2.00    1.01    2.00   \n",
       "\n",
       "          X-5808  X-5959  X-5975  X-6047  \n",
       "Sample                                    \n",
       "A1BG        1.99    2.07    1.43    2.03  \n",
       "A1BG-AS1    1.99    2.07    1.43    2.03  \n",
       "A1CF        1.54    1.28    1.33    2.10  \n",
       "A2LD1       1.08    1.85    1.93    1.45  \n",
       "\n",
       "[4 rows x 375 columns]"
      ]
     },
     "execution_count": 92,
     "metadata": {},
     "output_type": "execute_result"
    }
   ],
   "source": [
    "PDX_xls = \"PDX/nm.3954-S2.xlsx\"\n",
    "pdx = pd.read_excel(PDX_xls,\"copy number\")\n",
    "pdx.set_index(\"Sample\",drop=True,inplace=True)\n",
    "focal  = pdx.T[\"FocalCNScore\"]\n",
    "pdx.drop([\"ArmLevelCNScore\",\"FocalCNScore\"],inplace = True)\n",
    "print(pdx.shape)\n",
    "pdx.head(4)"
   ]
  },
  {
   "cell_type": "code",
   "execution_count": 93,
   "metadata": {},
   "outputs": [
    {
     "name": "stdout",
     "output_type": "stream",
     "text": [
      "Strings containing duplicated gene IDs: 544\n",
      "268 duplicated IDs in 544 rows found.\n",
      "duplicate rows removed due to low correlation of duplicated profiles 134\n",
      "Merged  410 duplicated rows into 205 rows\n"
     ]
    }
   ],
   "source": [
    "pdx.index.name = \"gene_id\"\n",
    "ids = pdx.index\n",
    "ids = list(set(ids[ids.duplicated()]))\n",
    "print(\"Strings containing duplicated gene IDs:\",pdx.loc[ids,:].shape[0])\n",
    "pdx = handle_dups(pdx,corr_thr = 0.75)"
   ]
  },
  {
   "cell_type": "code",
   "execution_count": 94,
   "metadata": {},
   "outputs": [
    {
     "data": {
      "text/plain": [
       "Text(0.5, 0, 'CN Averaged over all')"
      ]
     },
     "execution_count": 94,
     "metadata": {},
     "output_type": "execute_result"
    },
    {
     "data": {
      "image/png": "[encoded data removed]",
      "text/plain": [
       "<Figure size 432x288 with 1 Axes>"
      ]
     },
     "metadata": {
      "needs_background": "light"
     },
     "output_type": "display_data"
    }
   ],
   "source": [
    "average_ploidies = pdx.apply(np.mean)\n",
    "p = plt.hist(average_ploidies,bins=30)\n",
    "plt.title(\"Ploidy in PDX samples\")\n",
    "plt.ylabel(\"n samples\")\n",
    "plt.xlabel(\"CN Averaged over all\")"
   ]
  },
  {
   "cell_type": "code",
   "execution_count": 95,
   "metadata": {},
   "outputs": [
    {
     "data": {
      "text/html": [
       "<div>\n",
       "<style scoped>\n",
       "    .dataframe tbody tr th:only-of-type {\n",
       "        vertical-align: middle;\n",
       "    }\n",
       "\n",
       "    .dataframe tbody tr th {\n",
       "        vertical-align: top;\n",
       "    }\n",
       "\n",
       "    .dataframe thead th {\n",
       "        text-align: right;\n",
       "    }\n",
       "</style>\n",
       "<table border=\"1\" class=\"dataframe\">\n",
       "  <thead>\n",
       "    <tr style=\"text-align: right;\">\n",
       "      <th></th>\n",
       "      <th>X-1004</th>\n",
       "      <th>X-1008</th>\n",
       "      <th>X-1027</th>\n",
       "      <th>X-1095</th>\n",
       "      <th>X-1119</th>\n",
       "      <th>X-1156</th>\n",
       "      <th>X-1167</th>\n",
       "      <th>X-1169</th>\n",
       "      <th>X-1172</th>\n",
       "      <th>X-1173</th>\n",
       "      <th>...</th>\n",
       "      <th>X-5694</th>\n",
       "      <th>X-5696</th>\n",
       "      <th>X-5713</th>\n",
       "      <th>X-5717</th>\n",
       "      <th>X-5727</th>\n",
       "      <th>X-5739</th>\n",
       "      <th>X-5808</th>\n",
       "      <th>X-5959</th>\n",
       "      <th>X-5975</th>\n",
       "      <th>X-6047</th>\n",
       "    </tr>\n",
       "    <tr>\n",
       "      <th>gene_id</th>\n",
       "      <th></th>\n",
       "      <th></th>\n",
       "      <th></th>\n",
       "      <th></th>\n",
       "      <th></th>\n",
       "      <th></th>\n",
       "      <th></th>\n",
       "      <th></th>\n",
       "      <th></th>\n",
       "      <th></th>\n",
       "      <th></th>\n",
       "      <th></th>\n",
       "      <th></th>\n",
       "      <th></th>\n",
       "      <th></th>\n",
       "      <th></th>\n",
       "      <th></th>\n",
       "      <th></th>\n",
       "      <th></th>\n",
       "      <th></th>\n",
       "      <th></th>\n",
       "    </tr>\n",
       "  </thead>\n",
       "  <tbody>\n",
       "    <tr>\n",
       "      <th>A1BG</th>\n",
       "      <td>0.367371</td>\n",
       "      <td>-0.321928</td>\n",
       "      <td>0.117695</td>\n",
       "      <td>0.056584</td>\n",
       "      <td>0.000000</td>\n",
       "      <td>0.978196</td>\n",
       "      <td>0.028569</td>\n",
       "      <td>2.509696</td>\n",
       "      <td>0.117695</td>\n",
       "      <td>0.007196</td>\n",
       "      <td>...</td>\n",
       "      <td>0.056584</td>\n",
       "      <td>0.070389</td>\n",
       "      <td>0.097611</td>\n",
       "      <td>0.560715</td>\n",
       "      <td>0.042644</td>\n",
       "      <td>0.049631</td>\n",
       "      <td>-0.007232</td>\n",
       "      <td>0.049631</td>\n",
       "      <td>-0.483985</td>\n",
       "      <td>0.021480</td>\n",
       "    </tr>\n",
       "    <tr>\n",
       "      <th>A1BG-AS1</th>\n",
       "      <td>0.367371</td>\n",
       "      <td>-0.321928</td>\n",
       "      <td>0.117695</td>\n",
       "      <td>0.056584</td>\n",
       "      <td>0.000000</td>\n",
       "      <td>0.978196</td>\n",
       "      <td>0.028569</td>\n",
       "      <td>2.509696</td>\n",
       "      <td>0.117695</td>\n",
       "      <td>0.007196</td>\n",
       "      <td>...</td>\n",
       "      <td>0.056584</td>\n",
       "      <td>0.070389</td>\n",
       "      <td>0.097611</td>\n",
       "      <td>0.560715</td>\n",
       "      <td>0.042644</td>\n",
       "      <td>0.049631</td>\n",
       "      <td>-0.007232</td>\n",
       "      <td>0.049631</td>\n",
       "      <td>-0.483985</td>\n",
       "      <td>0.021480</td>\n",
       "    </tr>\n",
       "    <tr>\n",
       "      <th>A1CF</th>\n",
       "      <td>0.521051</td>\n",
       "      <td>0.570463</td>\n",
       "      <td>0.007196</td>\n",
       "      <td>0.042644</td>\n",
       "      <td>0.070389</td>\n",
       "      <td>-0.340075</td>\n",
       "      <td>0.007196</td>\n",
       "      <td>-0.286304</td>\n",
       "      <td>-0.081614</td>\n",
       "      <td>-0.007232</td>\n",
       "      <td>...</td>\n",
       "      <td>0.028569</td>\n",
       "      <td>-1.043943</td>\n",
       "      <td>-0.340075</td>\n",
       "      <td>0.056584</td>\n",
       "      <td>-0.036526</td>\n",
       "      <td>-0.058894</td>\n",
       "      <td>-0.377070</td>\n",
       "      <td>-0.643856</td>\n",
       "      <td>-0.588574</td>\n",
       "      <td>0.070389</td>\n",
       "    </tr>\n",
       "  </tbody>\n",
       "</table>\n",
       "<p>3 rows × 375 columns</p>\n",
       "</div>"
      ],
      "text/plain": [
       "            X-1004    X-1008    X-1027    X-1095    X-1119    X-1156  \\\n",
       "gene_id                                                                \n",
       "A1BG      0.367371 -0.321928  0.117695  0.056584  0.000000  0.978196   \n",
       "A1BG-AS1  0.367371 -0.321928  0.117695  0.056584  0.000000  0.978196   \n",
       "A1CF      0.521051  0.570463  0.007196  0.042644  0.070389 -0.340075   \n",
       "\n",
       "            X-1167    X-1169    X-1172    X-1173  ...    X-5694    X-5696  \\\n",
       "gene_id                                           ...                       \n",
       "A1BG      0.028569  2.509696  0.117695  0.007196  ...  0.056584  0.070389   \n",
       "A1BG-AS1  0.028569  2.509696  0.117695  0.007196  ...  0.056584  0.070389   \n",
       "A1CF      0.007196 -0.286304 -0.081614 -0.007232  ...  0.028569 -1.043943   \n",
       "\n",
       "            X-5713    X-5717    X-5727    X-5739    X-5808    X-5959  \\\n",
       "gene_id                                                                \n",
       "A1BG      0.097611  0.560715  0.042644  0.049631 -0.007232  0.049631   \n",
       "A1BG-AS1  0.097611  0.560715  0.042644  0.049631 -0.007232  0.049631   \n",
       "A1CF     -0.340075  0.056584 -0.036526 -0.058894 -0.377070 -0.643856   \n",
       "\n",
       "            X-5975    X-6047  \n",
       "gene_id                       \n",
       "A1BG     -0.483985  0.021480  \n",
       "A1BG-AS1 -0.483985  0.021480  \n",
       "A1CF     -0.588574  0.070389  \n",
       "\n",
       "[3 rows x 375 columns]"
      ]
     },
     "execution_count": 95,
     "metadata": {},
     "output_type": "execute_result"
    }
   ],
   "source": [
    "pdx = pdx.applymap(lambda x: np.log2(x/2))\n",
    "pdx.head(3)"
   ]
  },
  {
   "cell_type": "code",
   "execution_count": 96,
   "metadata": {},
   "outputs": [
    {
     "data": {
      "text/html": [
       "<div>\n",
       "<style scoped>\n",
       "    .dataframe tbody tr th:only-of-type {\n",
       "        vertical-align: middle;\n",
       "    }\n",
       "\n",
       "    .dataframe tbody tr th {\n",
       "        vertical-align: top;\n",
       "    }\n",
       "\n",
       "    .dataframe thead th {\n",
       "        text-align: right;\n",
       "    }\n",
       "</style>\n",
       "<table border=\"1\" class=\"dataframe\">\n",
       "  <thead>\n",
       "    <tr style=\"text-align: right;\">\n",
       "      <th></th>\n",
       "      <th>X-1004</th>\n",
       "      <th>X-1008</th>\n",
       "      <th>X-1027</th>\n",
       "      <th>X-1095</th>\n",
       "      <th>X-1119</th>\n",
       "      <th>X-1156</th>\n",
       "      <th>X-1167</th>\n",
       "      <th>X-1169</th>\n",
       "      <th>X-1172</th>\n",
       "      <th>X-1173</th>\n",
       "      <th>...</th>\n",
       "      <th>X-5694</th>\n",
       "      <th>X-5696</th>\n",
       "      <th>X-5713</th>\n",
       "      <th>X-5717</th>\n",
       "      <th>X-5727</th>\n",
       "      <th>X-5739</th>\n",
       "      <th>X-5808</th>\n",
       "      <th>X-5959</th>\n",
       "      <th>X-5975</th>\n",
       "      <th>X-6047</th>\n",
       "    </tr>\n",
       "    <tr>\n",
       "      <th>gene_id</th>\n",
       "      <th></th>\n",
       "      <th></th>\n",
       "      <th></th>\n",
       "      <th></th>\n",
       "      <th></th>\n",
       "      <th></th>\n",
       "      <th></th>\n",
       "      <th></th>\n",
       "      <th></th>\n",
       "      <th></th>\n",
       "      <th></th>\n",
       "      <th></th>\n",
       "      <th></th>\n",
       "      <th></th>\n",
       "      <th></th>\n",
       "      <th></th>\n",
       "      <th></th>\n",
       "      <th></th>\n",
       "      <th></th>\n",
       "      <th></th>\n",
       "      <th></th>\n",
       "    </tr>\n",
       "  </thead>\n",
       "  <tbody>\n",
       "    <tr>\n",
       "      <th>A1BG</th>\n",
       "      <td>0.367371</td>\n",
       "      <td>-0.321928</td>\n",
       "      <td>0.0</td>\n",
       "      <td>0.0</td>\n",
       "      <td>0.0</td>\n",
       "      <td>0.978196</td>\n",
       "      <td>0.0</td>\n",
       "      <td>2.509696</td>\n",
       "      <td>0.0</td>\n",
       "      <td>0.0</td>\n",
       "      <td>...</td>\n",
       "      <td>0.0</td>\n",
       "      <td>0.000000</td>\n",
       "      <td>0.000000</td>\n",
       "      <td>0.560715</td>\n",
       "      <td>0.0</td>\n",
       "      <td>0.0</td>\n",
       "      <td>0.00000</td>\n",
       "      <td>0.000000</td>\n",
       "      <td>-0.483985</td>\n",
       "      <td>0.0</td>\n",
       "    </tr>\n",
       "    <tr>\n",
       "      <th>A1BG-AS1</th>\n",
       "      <td>0.367371</td>\n",
       "      <td>-0.321928</td>\n",
       "      <td>0.0</td>\n",
       "      <td>0.0</td>\n",
       "      <td>0.0</td>\n",
       "      <td>0.978196</td>\n",
       "      <td>0.0</td>\n",
       "      <td>2.509696</td>\n",
       "      <td>0.0</td>\n",
       "      <td>0.0</td>\n",
       "      <td>...</td>\n",
       "      <td>0.0</td>\n",
       "      <td>0.000000</td>\n",
       "      <td>0.000000</td>\n",
       "      <td>0.560715</td>\n",
       "      <td>0.0</td>\n",
       "      <td>0.0</td>\n",
       "      <td>0.00000</td>\n",
       "      <td>0.000000</td>\n",
       "      <td>-0.483985</td>\n",
       "      <td>0.0</td>\n",
       "    </tr>\n",
       "    <tr>\n",
       "      <th>A1CF</th>\n",
       "      <td>0.521051</td>\n",
       "      <td>0.570463</td>\n",
       "      <td>0.0</td>\n",
       "      <td>0.0</td>\n",
       "      <td>0.0</td>\n",
       "      <td>-0.340075</td>\n",
       "      <td>0.0</td>\n",
       "      <td>-0.286304</td>\n",
       "      <td>0.0</td>\n",
       "      <td>0.0</td>\n",
       "      <td>...</td>\n",
       "      <td>0.0</td>\n",
       "      <td>-1.043943</td>\n",
       "      <td>-0.340075</td>\n",
       "      <td>0.000000</td>\n",
       "      <td>0.0</td>\n",
       "      <td>0.0</td>\n",
       "      <td>-0.37707</td>\n",
       "      <td>-0.643856</td>\n",
       "      <td>-0.588574</td>\n",
       "      <td>0.0</td>\n",
       "    </tr>\n",
       "  </tbody>\n",
       "</table>\n",
       "<p>3 rows × 375 columns</p>\n",
       "</div>"
      ],
      "text/plain": [
       "            X-1004    X-1008  X-1027  X-1095  X-1119    X-1156  X-1167  \\\n",
       "gene_id                                                                  \n",
       "A1BG      0.367371 -0.321928     0.0     0.0     0.0  0.978196     0.0   \n",
       "A1BG-AS1  0.367371 -0.321928     0.0     0.0     0.0  0.978196     0.0   \n",
       "A1CF      0.521051  0.570463     0.0     0.0     0.0 -0.340075     0.0   \n",
       "\n",
       "            X-1169  X-1172  X-1173  ...  X-5694    X-5696    X-5713    X-5717  \\\n",
       "gene_id                             ...                                         \n",
       "A1BG      2.509696     0.0     0.0  ...     0.0  0.000000  0.000000  0.560715   \n",
       "A1BG-AS1  2.509696     0.0     0.0  ...     0.0  0.000000  0.000000  0.560715   \n",
       "A1CF     -0.286304     0.0     0.0  ...     0.0 -1.043943 -0.340075  0.000000   \n",
       "\n",
       "          X-5727  X-5739   X-5808    X-5959    X-5975  X-6047  \n",
       "gene_id                                                        \n",
       "A1BG         0.0     0.0  0.00000  0.000000 -0.483985     0.0  \n",
       "A1BG-AS1     0.0     0.0  0.00000  0.000000 -0.483985     0.0  \n",
       "A1CF         0.0     0.0 -0.37707 -0.643856 -0.588574     0.0  \n",
       "\n",
       "[3 rows x 375 columns]"
      ]
     },
     "execution_count": 96,
     "metadata": {},
     "output_type": "execute_result"
    }
   ],
   "source": [
    "pdx = pdx.applymap(lambda x :  clean_logR(x, pos_seg_mean_thr, neg_seg_mean_thr))\n",
    "pdx.head(3)"
   ]
  },
  {
   "cell_type": "code",
   "execution_count": 97,
   "metadata": {},
   "outputs": [
    {
     "name": "stdout",
     "output_type": "stream",
     "text": [
      "Mapped: 23282 \n",
      "\tdirectly via main_mapper 20801 \n",
      "\tvia alternative mapper 525 \n",
      "\tvia one of multiple synonyms in alternative mapper 1178 \n",
      "\tLOC 778 \n",
      "Unmapped: 231 \n",
      "\trecognized symbols without Entrez ID 0 \n",
      "\tmultiple query_ids map to the same target_id 0 \n",
      "\tquery_ids map to multiple target_ids in the main mapper 0 \n",
      "\tquery_ids map to multiple target_ids in the alternative mapper 69 \n",
      "\tLOC not found in Entrez 35 \n",
      "\tNot found at all: 127\n",
      "Warning: query IDs mapping to duplicated target IDs in mapping table: 99\n",
      "Warning: query IDs not mapped to any target IDs excluded: 231\n"
     ]
    },
    {
     "name": "stderr",
     "output_type": "stream",
     "text": [
      "IDs mapped to multiple target IDs are kept:\n",
      " [143872, 286464, 51463, 642826, 653067, 399761, 647060, 284565, 84631, 161176, 284697, 341019, 83869, 4253, 9502, 83871, 10529, 5414, 51754, 440107, 645425, 728113, 26165, 445815, 114112, 728695, 6218, 100132948, 100134869, 84316, 200030, 729438, 6241, 642658, 100302179, 401508, 286183, 84968, 119016, 84458, 26220, 574445, 26095, 80759, 3192, 387707, 79741]\n"
     ]
    },
    {
     "data": {
      "text/html": [
       "<div>\n",
       "<style scoped>\n",
       "    .dataframe tbody tr th:only-of-type {\n",
       "        vertical-align: middle;\n",
       "    }\n",
       "\n",
       "    .dataframe tbody tr th {\n",
       "        vertical-align: top;\n",
       "    }\n",
       "\n",
       "    .dataframe thead th {\n",
       "        text-align: right;\n",
       "    }\n",
       "</style>\n",
       "<table border=\"1\" class=\"dataframe\">\n",
       "  <thead>\n",
       "    <tr style=\"text-align: right;\">\n",
       "      <th></th>\n",
       "      <th>X-1004</th>\n",
       "      <th>X-1008</th>\n",
       "      <th>X-1027</th>\n",
       "      <th>X-1095</th>\n",
       "      <th>X-1119</th>\n",
       "      <th>X-1156</th>\n",
       "      <th>X-1167</th>\n",
       "      <th>X-1169</th>\n",
       "      <th>X-1172</th>\n",
       "      <th>X-1173</th>\n",
       "      <th>...</th>\n",
       "      <th>X-5694</th>\n",
       "      <th>X-5696</th>\n",
       "      <th>X-5713</th>\n",
       "      <th>X-5717</th>\n",
       "      <th>X-5727</th>\n",
       "      <th>X-5739</th>\n",
       "      <th>X-5808</th>\n",
       "      <th>X-5959</th>\n",
       "      <th>X-5975</th>\n",
       "      <th>X-6047</th>\n",
       "    </tr>\n",
       "    <tr>\n",
       "      <th>gene_id</th>\n",
       "      <th></th>\n",
       "      <th></th>\n",
       "      <th></th>\n",
       "      <th></th>\n",
       "      <th></th>\n",
       "      <th></th>\n",
       "      <th></th>\n",
       "      <th></th>\n",
       "      <th></th>\n",
       "      <th></th>\n",
       "      <th></th>\n",
       "      <th></th>\n",
       "      <th></th>\n",
       "      <th></th>\n",
       "      <th></th>\n",
       "      <th></th>\n",
       "      <th></th>\n",
       "      <th></th>\n",
       "      <th></th>\n",
       "      <th></th>\n",
       "      <th></th>\n",
       "    </tr>\n",
       "  </thead>\n",
       "  <tbody>\n",
       "    <tr>\n",
       "      <th>1</th>\n",
       "      <td>0.367371</td>\n",
       "      <td>-0.321928</td>\n",
       "      <td>0.0</td>\n",
       "      <td>0.000000</td>\n",
       "      <td>0.0</td>\n",
       "      <td>0.978196</td>\n",
       "      <td>0.0</td>\n",
       "      <td>2.509696</td>\n",
       "      <td>0.000000</td>\n",
       "      <td>0.0</td>\n",
       "      <td>...</td>\n",
       "      <td>0.0</td>\n",
       "      <td>0.0</td>\n",
       "      <td>0.0</td>\n",
       "      <td>0.560715</td>\n",
       "      <td>0.0</td>\n",
       "      <td>0.000000</td>\n",
       "      <td>0.000000</td>\n",
       "      <td>0.000000</td>\n",
       "      <td>-0.483985</td>\n",
       "      <td>0.0</td>\n",
       "    </tr>\n",
       "    <tr>\n",
       "      <th>2</th>\n",
       "      <td>0.761285</td>\n",
       "      <td>0.000000</td>\n",
       "      <td>0.0</td>\n",
       "      <td>0.500802</td>\n",
       "      <td>0.0</td>\n",
       "      <td>0.700440</td>\n",
       "      <td>0.0</td>\n",
       "      <td>0.000000</td>\n",
       "      <td>0.201634</td>\n",
       "      <td>0.0</td>\n",
       "      <td>...</td>\n",
       "      <td>0.0</td>\n",
       "      <td>0.0</td>\n",
       "      <td>0.0</td>\n",
       "      <td>0.739848</td>\n",
       "      <td>0.0</td>\n",
       "      <td>0.739848</td>\n",
       "      <td>0.327687</td>\n",
       "      <td>-0.494109</td>\n",
       "      <td>-0.535332</td>\n",
       "      <td>0.0</td>\n",
       "    </tr>\n",
       "    <tr>\n",
       "      <th>3</th>\n",
       "      <td>0.761285</td>\n",
       "      <td>0.000000</td>\n",
       "      <td>0.0</td>\n",
       "      <td>0.500802</td>\n",
       "      <td>0.0</td>\n",
       "      <td>0.700440</td>\n",
       "      <td>0.0</td>\n",
       "      <td>0.000000</td>\n",
       "      <td>0.201634</td>\n",
       "      <td>0.0</td>\n",
       "      <td>...</td>\n",
       "      <td>0.0</td>\n",
       "      <td>0.0</td>\n",
       "      <td>0.0</td>\n",
       "      <td>0.739848</td>\n",
       "      <td>0.0</td>\n",
       "      <td>0.739848</td>\n",
       "      <td>0.327687</td>\n",
       "      <td>-0.494109</td>\n",
       "      <td>-0.535332</td>\n",
       "      <td>0.0</td>\n",
       "    </tr>\n",
       "  </tbody>\n",
       "</table>\n",
       "<p>3 rows × 375 columns</p>\n",
       "</div>"
      ],
      "text/plain": [
       "           X-1004    X-1008  X-1027    X-1095  X-1119    X-1156  X-1167  \\\n",
       "gene_id                                                                   \n",
       "1        0.367371 -0.321928     0.0  0.000000     0.0  0.978196     0.0   \n",
       "2        0.761285  0.000000     0.0  0.500802     0.0  0.700440     0.0   \n",
       "3        0.761285  0.000000     0.0  0.500802     0.0  0.700440     0.0   \n",
       "\n",
       "           X-1169    X-1172  X-1173  ...  X-5694  X-5696  X-5713    X-5717  \\\n",
       "gene_id                              ...                                     \n",
       "1        2.509696  0.000000     0.0  ...     0.0     0.0     0.0  0.560715   \n",
       "2        0.000000  0.201634     0.0  ...     0.0     0.0     0.0  0.739848   \n",
       "3        0.000000  0.201634     0.0  ...     0.0     0.0     0.0  0.739848   \n",
       "\n",
       "         X-5727    X-5739    X-5808    X-5959    X-5975  X-6047  \n",
       "gene_id                                                          \n",
       "1           0.0  0.000000  0.000000  0.000000 -0.483985     0.0  \n",
       "2           0.0  0.739848  0.327687 -0.494109 -0.535332     0.0  \n",
       "3           0.0  0.739848  0.327687 -0.494109 -0.535332     0.0  \n",
       "\n",
       "[3 rows x 375 columns]"
      ]
     },
     "execution_count": 97,
     "metadata": {},
     "output_type": "execute_result"
    }
   ],
   "source": [
    "pdx,query2target,not_mapped = apply_mappers(pdx, ncbi_symbols, ncbi_synonyms, verbose = True,handle_duplicates = \"keep\")\n",
    "pdx.head(3)"
   ]
  },
  {
   "cell_type": "code",
   "execution_count": 98,
   "metadata": {},
   "outputs": [
    {
     "data": {
      "text/html": [
       "<div>\n",
       "<style scoped>\n",
       "    .dataframe tbody tr th:only-of-type {\n",
       "        vertical-align: middle;\n",
       "    }\n",
       "\n",
       "    .dataframe tbody tr th {\n",
       "        vertical-align: top;\n",
       "    }\n",
       "\n",
       "    .dataframe thead th {\n",
       "        text-align: right;\n",
       "    }\n",
       "</style>\n",
       "<table border=\"1\" class=\"dataframe\">\n",
       "  <thead>\n",
       "    <tr style=\"text-align: right;\">\n",
       "      <th></th>\n",
       "      <th>X-1004</th>\n",
       "      <th>X-1008</th>\n",
       "      <th>X-1027</th>\n",
       "      <th>X-1095</th>\n",
       "      <th>X-1119</th>\n",
       "      <th>X-1156</th>\n",
       "      <th>X-1167</th>\n",
       "      <th>X-1169</th>\n",
       "      <th>X-1172</th>\n",
       "      <th>X-1173</th>\n",
       "      <th>...</th>\n",
       "      <th>X-5694</th>\n",
       "      <th>X-5696</th>\n",
       "      <th>X-5713</th>\n",
       "      <th>X-5717</th>\n",
       "      <th>X-5727</th>\n",
       "      <th>X-5739</th>\n",
       "      <th>X-5808</th>\n",
       "      <th>X-5959</th>\n",
       "      <th>X-5975</th>\n",
       "      <th>X-6047</th>\n",
       "    </tr>\n",
       "    <tr>\n",
       "      <th>gene_id</th>\n",
       "      <th></th>\n",
       "      <th></th>\n",
       "      <th></th>\n",
       "      <th></th>\n",
       "      <th></th>\n",
       "      <th></th>\n",
       "      <th></th>\n",
       "      <th></th>\n",
       "      <th></th>\n",
       "      <th></th>\n",
       "      <th></th>\n",
       "      <th></th>\n",
       "      <th></th>\n",
       "      <th></th>\n",
       "      <th></th>\n",
       "      <th></th>\n",
       "      <th></th>\n",
       "      <th></th>\n",
       "      <th></th>\n",
       "      <th></th>\n",
       "      <th></th>\n",
       "    </tr>\n",
       "  </thead>\n",
       "  <tbody>\n",
       "    <tr>\n",
       "      <th>143872</th>\n",
       "      <td>0.000000</td>\n",
       "      <td>0.560715</td>\n",
       "      <td>0.0</td>\n",
       "      <td>0.000000</td>\n",
       "      <td>0.0</td>\n",
       "      <td>-0.330973</td>\n",
       "      <td>0.0</td>\n",
       "      <td>-0.367732</td>\n",
       "      <td>0.350497</td>\n",
       "      <td>0.000000</td>\n",
       "      <td>...</td>\n",
       "      <td>0.000000</td>\n",
       "      <td>-0.349235</td>\n",
       "      <td>0.000000</td>\n",
       "      <td>-0.321928</td>\n",
       "      <td>-1.01450</td>\n",
       "      <td>-0.588574</td>\n",
       "      <td>0.000000</td>\n",
       "      <td>0.000000</td>\n",
       "      <td>0.000000</td>\n",
       "      <td>-0.514573</td>\n",
       "    </tr>\n",
       "    <tr>\n",
       "      <th>143872</th>\n",
       "      <td>0.000000</td>\n",
       "      <td>0.560715</td>\n",
       "      <td>0.0</td>\n",
       "      <td>0.000000</td>\n",
       "      <td>0.0</td>\n",
       "      <td>-0.330973</td>\n",
       "      <td>0.0</td>\n",
       "      <td>-0.367732</td>\n",
       "      <td>0.350497</td>\n",
       "      <td>0.000000</td>\n",
       "      <td>...</td>\n",
       "      <td>0.000000</td>\n",
       "      <td>-0.349235</td>\n",
       "      <td>0.000000</td>\n",
       "      <td>-0.321928</td>\n",
       "      <td>-1.01450</td>\n",
       "      <td>-0.588574</td>\n",
       "      <td>0.000000</td>\n",
       "      <td>0.000000</td>\n",
       "      <td>0.000000</td>\n",
       "      <td>-0.514573</td>\n",
       "    </tr>\n",
       "    <tr>\n",
       "      <th>286464</th>\n",
       "      <td>0.000000</td>\n",
       "      <td>0.378512</td>\n",
       "      <td>0.0</td>\n",
       "      <td>0.550901</td>\n",
       "      <td>0.0</td>\n",
       "      <td>-0.524915</td>\n",
       "      <td>0.0</td>\n",
       "      <td>-0.902389</td>\n",
       "      <td>-1.321928</td>\n",
       "      <td>0.367371</td>\n",
       "      <td>...</td>\n",
       "      <td>0.000000</td>\n",
       "      <td>-1.014500</td>\n",
       "      <td>0.718088</td>\n",
       "      <td>0.000000</td>\n",
       "      <td>-1.01450</td>\n",
       "      <td>0.000000</td>\n",
       "      <td>0.000000</td>\n",
       "      <td>0.000000</td>\n",
       "      <td>-1.494109</td>\n",
       "      <td>-1.494109</td>\n",
       "    </tr>\n",
       "    <tr>\n",
       "      <th>286464</th>\n",
       "      <td>0.000000</td>\n",
       "      <td>0.378512</td>\n",
       "      <td>0.0</td>\n",
       "      <td>0.550901</td>\n",
       "      <td>0.0</td>\n",
       "      <td>-0.524915</td>\n",
       "      <td>0.0</td>\n",
       "      <td>-0.902389</td>\n",
       "      <td>-1.321928</td>\n",
       "      <td>0.367371</td>\n",
       "      <td>...</td>\n",
       "      <td>0.000000</td>\n",
       "      <td>-1.014500</td>\n",
       "      <td>0.718088</td>\n",
       "      <td>0.000000</td>\n",
       "      <td>-1.01450</td>\n",
       "      <td>0.000000</td>\n",
       "      <td>0.000000</td>\n",
       "      <td>0.000000</td>\n",
       "      <td>-1.494109</td>\n",
       "      <td>-1.494109</td>\n",
       "    </tr>\n",
       "    <tr>\n",
       "      <th>286464</th>\n",
       "      <td>0.000000</td>\n",
       "      <td>0.378512</td>\n",
       "      <td>0.0</td>\n",
       "      <td>0.550901</td>\n",
       "      <td>0.0</td>\n",
       "      <td>-0.524915</td>\n",
       "      <td>0.0</td>\n",
       "      <td>-0.902389</td>\n",
       "      <td>-1.321928</td>\n",
       "      <td>0.367371</td>\n",
       "      <td>...</td>\n",
       "      <td>0.000000</td>\n",
       "      <td>-1.014500</td>\n",
       "      <td>0.718088</td>\n",
       "      <td>0.000000</td>\n",
       "      <td>-1.01450</td>\n",
       "      <td>0.000000</td>\n",
       "      <td>0.000000</td>\n",
       "      <td>0.000000</td>\n",
       "      <td>-1.494109</td>\n",
       "      <td>-1.494109</td>\n",
       "    </tr>\n",
       "    <tr>\n",
       "      <th>...</th>\n",
       "      <td>...</td>\n",
       "      <td>...</td>\n",
       "      <td>...</td>\n",
       "      <td>...</td>\n",
       "      <td>...</td>\n",
       "      <td>...</td>\n",
       "      <td>...</td>\n",
       "      <td>...</td>\n",
       "      <td>...</td>\n",
       "      <td>...</td>\n",
       "      <td>...</td>\n",
       "      <td>...</td>\n",
       "      <td>...</td>\n",
       "      <td>...</td>\n",
       "      <td>...</td>\n",
       "      <td>...</td>\n",
       "      <td>...</td>\n",
       "      <td>...</td>\n",
       "      <td>...</td>\n",
       "      <td>...</td>\n",
       "      <td>...</td>\n",
       "    </tr>\n",
       "    <tr>\n",
       "      <th>3192</th>\n",
       "      <td>1.350497</td>\n",
       "      <td>0.632268</td>\n",
       "      <td>0.0</td>\n",
       "      <td>0.000000</td>\n",
       "      <td>0.0</td>\n",
       "      <td>0.220330</td>\n",
       "      <td>0.0</td>\n",
       "      <td>0.448901</td>\n",
       "      <td>-0.268817</td>\n",
       "      <td>0.000000</td>\n",
       "      <td>...</td>\n",
       "      <td>0.480265</td>\n",
       "      <td>0.000000</td>\n",
       "      <td>0.207893</td>\n",
       "      <td>0.000000</td>\n",
       "      <td>0.00000</td>\n",
       "      <td>-0.330973</td>\n",
       "      <td>0.250962</td>\n",
       "      <td>0.000000</td>\n",
       "      <td>1.021480</td>\n",
       "      <td>0.599318</td>\n",
       "    </tr>\n",
       "    <tr>\n",
       "      <th>387707</th>\n",
       "      <td>0.389567</td>\n",
       "      <td>-0.666576</td>\n",
       "      <td>0.0</td>\n",
       "      <td>0.000000</td>\n",
       "      <td>0.0</td>\n",
       "      <td>-0.340075</td>\n",
       "      <td>0.0</td>\n",
       "      <td>-0.367732</td>\n",
       "      <td>0.000000</td>\n",
       "      <td>0.000000</td>\n",
       "      <td>...</td>\n",
       "      <td>0.000000</td>\n",
       "      <td>-1.014500</td>\n",
       "      <td>-0.473931</td>\n",
       "      <td>0.000000</td>\n",
       "      <td>0.00000</td>\n",
       "      <td>0.000000</td>\n",
       "      <td>-0.386468</td>\n",
       "      <td>-0.610433</td>\n",
       "      <td>-0.577767</td>\n",
       "      <td>0.000000</td>\n",
       "    </tr>\n",
       "    <tr>\n",
       "      <th>387707</th>\n",
       "      <td>0.389567</td>\n",
       "      <td>-0.666576</td>\n",
       "      <td>0.0</td>\n",
       "      <td>0.000000</td>\n",
       "      <td>0.0</td>\n",
       "      <td>-0.340075</td>\n",
       "      <td>0.0</td>\n",
       "      <td>-0.367732</td>\n",
       "      <td>0.000000</td>\n",
       "      <td>0.000000</td>\n",
       "      <td>...</td>\n",
       "      <td>0.000000</td>\n",
       "      <td>-1.014500</td>\n",
       "      <td>-0.473931</td>\n",
       "      <td>0.000000</td>\n",
       "      <td>0.00000</td>\n",
       "      <td>0.000000</td>\n",
       "      <td>-0.386468</td>\n",
       "      <td>-0.610433</td>\n",
       "      <td>-0.577767</td>\n",
       "      <td>0.000000</td>\n",
       "    </tr>\n",
       "    <tr>\n",
       "      <th>79741</th>\n",
       "      <td>0.000000</td>\n",
       "      <td>0.589763</td>\n",
       "      <td>0.0</td>\n",
       "      <td>0.000000</td>\n",
       "      <td>0.0</td>\n",
       "      <td>-0.242977</td>\n",
       "      <td>0.0</td>\n",
       "      <td>0.207893</td>\n",
       "      <td>0.000000</td>\n",
       "      <td>0.220330</td>\n",
       "      <td>...</td>\n",
       "      <td>-0.798366</td>\n",
       "      <td>-0.985645</td>\n",
       "      <td>0.000000</td>\n",
       "      <td>0.000000</td>\n",
       "      <td>0.70044</td>\n",
       "      <td>0.000000</td>\n",
       "      <td>-0.367732</td>\n",
       "      <td>-0.588574</td>\n",
       "      <td>0.459432</td>\n",
       "      <td>0.269033</td>\n",
       "    </tr>\n",
       "    <tr>\n",
       "      <th>79741</th>\n",
       "      <td>0.000000</td>\n",
       "      <td>0.589763</td>\n",
       "      <td>0.0</td>\n",
       "      <td>0.000000</td>\n",
       "      <td>0.0</td>\n",
       "      <td>-0.242977</td>\n",
       "      <td>0.0</td>\n",
       "      <td>0.207893</td>\n",
       "      <td>0.000000</td>\n",
       "      <td>0.000000</td>\n",
       "      <td>...</td>\n",
       "      <td>-0.798366</td>\n",
       "      <td>-0.985645</td>\n",
       "      <td>-0.358454</td>\n",
       "      <td>0.000000</td>\n",
       "      <td>0.70044</td>\n",
       "      <td>0.000000</td>\n",
       "      <td>-0.367732</td>\n",
       "      <td>-0.588574</td>\n",
       "      <td>0.459432</td>\n",
       "      <td>0.000000</td>\n",
       "    </tr>\n",
       "  </tbody>\n",
       "</table>\n",
       "<p>99 rows × 375 columns</p>\n",
       "</div>"
      ],
      "text/plain": [
       "           X-1004    X-1008  X-1027    X-1095  X-1119    X-1156  X-1167  \\\n",
       "gene_id                                                                   \n",
       "143872   0.000000  0.560715     0.0  0.000000     0.0 -0.330973     0.0   \n",
       "143872   0.000000  0.560715     0.0  0.000000     0.0 -0.330973     0.0   \n",
       "286464   0.000000  0.378512     0.0  0.550901     0.0 -0.524915     0.0   \n",
       "286464   0.000000  0.378512     0.0  0.550901     0.0 -0.524915     0.0   \n",
       "286464   0.000000  0.378512     0.0  0.550901     0.0 -0.524915     0.0   \n",
       "...           ...       ...     ...       ...     ...       ...     ...   \n",
       "3192     1.350497  0.632268     0.0  0.000000     0.0  0.220330     0.0   \n",
       "387707   0.389567 -0.666576     0.0  0.000000     0.0 -0.340075     0.0   \n",
       "387707   0.389567 -0.666576     0.0  0.000000     0.0 -0.340075     0.0   \n",
       "79741    0.000000  0.589763     0.0  0.000000     0.0 -0.242977     0.0   \n",
       "79741    0.000000  0.589763     0.0  0.000000     0.0 -0.242977     0.0   \n",
       "\n",
       "           X-1169    X-1172    X-1173  ...    X-5694    X-5696    X-5713  \\\n",
       "gene_id                                ...                                 \n",
       "143872  -0.367732  0.350497  0.000000  ...  0.000000 -0.349235  0.000000   \n",
       "143872  -0.367732  0.350497  0.000000  ...  0.000000 -0.349235  0.000000   \n",
       "286464  -0.902389 -1.321928  0.367371  ...  0.000000 -1.014500  0.718088   \n",
       "286464  -0.902389 -1.321928  0.367371  ...  0.000000 -1.014500  0.718088   \n",
       "286464  -0.902389 -1.321928  0.367371  ...  0.000000 -1.014500  0.718088   \n",
       "...           ...       ...       ...  ...       ...       ...       ...   \n",
       "3192     0.448901 -0.268817  0.000000  ...  0.480265  0.000000  0.207893   \n",
       "387707  -0.367732  0.000000  0.000000  ...  0.000000 -1.014500 -0.473931   \n",
       "387707  -0.367732  0.000000  0.000000  ...  0.000000 -1.014500 -0.473931   \n",
       "79741    0.207893  0.000000  0.220330  ... -0.798366 -0.985645  0.000000   \n",
       "79741    0.207893  0.000000  0.000000  ... -0.798366 -0.985645 -0.358454   \n",
       "\n",
       "           X-5717   X-5727    X-5739    X-5808    X-5959    X-5975    X-6047  \n",
       "gene_id                                                                       \n",
       "143872  -0.321928 -1.01450 -0.588574  0.000000  0.000000  0.000000 -0.514573  \n",
       "143872  -0.321928 -1.01450 -0.588574  0.000000  0.000000  0.000000 -0.514573  \n",
       "286464   0.000000 -1.01450  0.000000  0.000000  0.000000 -1.494109 -1.494109  \n",
       "286464   0.000000 -1.01450  0.000000  0.000000  0.000000 -1.494109 -1.494109  \n",
       "286464   0.000000 -1.01450  0.000000  0.000000  0.000000 -1.494109 -1.494109  \n",
       "...           ...      ...       ...       ...       ...       ...       ...  \n",
       "3192     0.000000  0.00000 -0.330973  0.250962  0.000000  1.021480  0.599318  \n",
       "387707   0.000000  0.00000  0.000000 -0.386468 -0.610433 -0.577767  0.000000  \n",
       "387707   0.000000  0.00000  0.000000 -0.386468 -0.610433 -0.577767  0.000000  \n",
       "79741    0.000000  0.70044  0.000000 -0.367732 -0.588574  0.459432  0.269033  \n",
       "79741    0.000000  0.70044  0.000000 -0.367732 -0.588574  0.459432  0.000000  \n",
       "\n",
       "[99 rows x 375 columns]"
      ]
     },
     "execution_count": 98,
     "metadata": {},
     "output_type": "execute_result"
    }
   ],
   "source": [
    "dups = list(set(pdx[pdx.index.duplicated(keep=False)].index.values))\n",
    "pdx.loc[dups,:]"
   ]
  },
  {
   "cell_type": "code",
   "execution_count": 99,
   "metadata": {},
   "outputs": [
    {
     "name": "stdout",
     "output_type": "stream",
     "text": [
      "47 duplicated IDs in 99 rows found.\n",
      "duplicate rows removed due to low correlation of duplicated profiles 4\n",
      "Merged  95 duplicated rows into 45 rows\n"
     ]
    }
   ],
   "source": [
    "# most of these dupliates correspond to genes merged in the current assembly, e.g. gene - gene-AS\n",
    "pdx = handle_dups(pdx,corr_thr = 0.75)"
   ]
  },
  {
   "cell_type": "code",
   "execution_count": 100,
   "metadata": {},
   "outputs": [],
   "source": [
    "pdx = pdx.T.sort_index().T\n",
    "pdx.to_csv(preprocessed_dir+\"/PDX\"+\".Segment_Mean.CNA.tsv\",\n",
    "                 sep = \"\\t\",header=True,index=True)"
   ]
  },
  {
   "cell_type": "markdown",
   "metadata": {},
   "source": [
    "### Evaluation of the results\n",
    "1. How many common genes between four datasets?\n",
    "\n",
    "2. Do CNA profiles of the same cell line from GDSC and CCLE correlate?\n",
    "\n",
    "3. Do CNA profiles of the same cancer type from TCGA and PDX look similar?"
   ]
  },
  {
   "cell_type": "code",
   "execution_count": 101,
   "metadata": {},
   "outputs": [],
   "source": [
    "### 1). How many common genes between four datasets?\n",
    "# we take BRCA from TCGA because  \n",
    "tcga = pd.read_csv(preprocessed_dir +\"TCGA-BRCA-FFPE.Segment_Mean.CNA.tsv\",sep = \"\\t\", index_col=0)\n",
    "#print(tcga.head(3))\n",
    "gdsc = pd.read_csv(preprocessed_dir+ \"/GDSC\"+\".Segment_Mean.CNA.tsv\",sep = \"\\t\", index_col=0)\n",
    "#print(tcga.head(3))"
   ]
  },
  {
   "cell_type": "code",
   "execution_count": 115,
   "metadata": {},
   "outputs": [
    {
     "data": {
      "text/plain": [
       "Text(0.5, 1.0, 'CCLE')"
      ]
     },
     "execution_count": 115,
     "metadata": {},
     "output_type": "execute_result"
    },
    {
     "data": {
      "image/png": "[encoded data removed]",
      "text/plain": [
       "<Figure size 1440x360 with 2 Axes>"
      ]
     },
     "metadata": {
      "needs_background": "light"
     },
     "output_type": "display_data"
    }
   ],
   "source": [
    "### distribution of logR values in GDSC and CCLE \n",
    "cn_values_gdsc  = []\n",
    "for row in df.iterrows():\n",
    "    cn_values_gdsc += [row[1][-1]]\n",
    "cn_values_ccle = []\n",
    "for row in cna_table.iterrows():\n",
    "    cn_values_ccle+=  [row[1][-1]]\n",
    "\n",
    "cn_values_gdsc = sorted (cn_values_gdsc)\n",
    "cn_values_ccle = sorted (cn_values_ccle)\n",
    "plt.figure(figsize=(20,5))\n",
    "plt.subplot(121)\n",
    "tmp = plt.hist(cn_values_gdsc,bins=100,density = True,range=(-5,4))\n",
    "plt.title(\"GDSC\")\n",
    "plt.subplot(122)\n",
    "tmp = plt.hist(cn_values_ccle,bins=100,density = True, range=(-5,4))\n",
    "plt.title(\"CCLE\")"
   ]
  }
 ],
 "metadata": {
  "kernelspec": {
   "display_name": "Python 3",
   "language": "python",
   "name": "python3"
  },
  "language_info": {
   "codemirror_mode": {
    "name": "ipython",
    "version": 3
   },
   "file_extension": ".py",
   "mimetype": "text/x-python",
   "name": "python",
   "nbconvert_exporter": "python",
   "pygments_lexer": "ipython3",
   "version": "3.8.2"
  }
 },
 "nbformat": 4,
 "nbformat_minor": 2
}
