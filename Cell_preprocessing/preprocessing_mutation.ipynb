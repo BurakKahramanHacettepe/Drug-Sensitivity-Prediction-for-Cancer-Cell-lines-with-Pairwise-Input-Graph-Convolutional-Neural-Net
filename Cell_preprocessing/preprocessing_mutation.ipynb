{
 "cells": [
  {
   "cell_type": "code",
   "execution_count": 1,
   "metadata": {},
   "outputs": [],
   "source": [
    "from __future__ import print_function\n",
    "import pandas as pd\n",
    "import os,sys\n",
    "#import pybedtools as pbt\n",
    "from io import StringIO\n",
    "import matplotlib.pyplot as plt\n",
    "import seaborn as sns\n",
    "import numpy as np\n",
    "import re\n",
    "from mapper import expand, parse_mapping_table, apply_mappers\n"
   ]
  },
  {
   "cell_type": "code",
   "execution_count": 2,
   "metadata": {},
   "outputs": [],
   "source": [
    "OncoKB_annotated = pd.read_csv(\"data/hotspots/OncoKB/cancerGeneList.tsv\",sep =\"\\t\")\n",
    "OncoKB_annotated = OncoKB_annotated.loc[OncoKB_annotated['OncoKB Annotated'] == 'Yes']\n",
    "OncoKB_annotated.to_csv (\"data/hotspots/OncoKB/allAnnotatedVariants.tsv\", index = False, header=True)"
   ]
  },
  {
   "cell_type": "code",
   "execution_count": 3,
   "metadata": {},
   "outputs": [
    {
     "name": "stdout",
     "output_type": "stream",
     "text": [
      "OncoKB OG: 214 TSG: 246 OG_TSG: 25\n"
     ]
    }
   ],
   "source": [
    "OncoKB_mut = pd.read_csv(\"data/hotspots/OncoKB/allAnnotatedVariants.tsv\",sep =\"\\t\")\n",
    "OncoKB_gtype = pd.read_csv(\"data/hotspots/OncoKB/OncoKB_gene_type.txt\",sep =\"\\t\")\n",
    "OncoKB_gtype = OncoKB_gtype[['Hugo Symbol ', u'Oncogene /TSG ']]\n",
    "OncoKB = {\"OG\":'Oncogene ',\"TSG\":'TSG ',\"OG_TSG\":'Oncogene,TSG '}\n",
    "for key in OncoKB.keys():\n",
    "    OncoKB[key] = set(map(str.rstrip, list(set(OncoKB_gtype.loc[OncoKB_gtype['Oncogene /TSG ']== OncoKB[key],'Hugo Symbol '].values))))\n",
    "\n",
    "OncoKB[\"OG\"].update(OncoKB[\"OG_TSG\"])\n",
    "OncoKB[\"TSG\"].update(OncoKB[\"OG_TSG\"]) \n",
    "print(\"OncoKB OG:\",len(OncoKB[\"OG\"]),\"TSG:\",len(OncoKB[\"TSG\"]),\"OG_TSG:\",len(OncoKB[\"OG_TSG\"]))"
   ]
  },
  {
   "cell_type": "markdown",
   "metadata": {},
   "source": [
    "### Functions"
   ]
  },
  {
   "cell_type": "code",
   "execution_count": 4,
   "metadata": {},
   "outputs": [],
   "source": [
    "# gene_id - Entrez Gene ID \n",
    "# df - all mutations in sample\n",
    "#    columns: \"aa_pos\",\"function\", \"Entrez_gene_ID\"\n",
    "# hotspots - table of known hotsport  \"Entrez_gene_ID\" and \"aa_pos\"\n",
    "\n",
    "def distance_to_hotspot(gene_id,df_gene, hotspots):\n",
    "    '''Returns minimal distance between point mutation in gene and known hotspot'''\n",
    "    # consider only GoF because LoF affect the whole protein and not a certian point\n",
    "    df_gene = df_gene.loc[df_gene[\"function\"] == \"point_mutation\"]\n",
    "    df_hotspots = hotspots.loc[hotspots[\"Entrez_gene_ID\"] == gene_id, :]\n",
    "    dist = 100000\n",
    "    for s,e in set(df_gene[\"aa_pos\"].values):\n",
    "        for hs, he in set(df_hotspots[\"aa_pos\"].values):\n",
    "            dist = min(dist, abs(s-hs),abs(s-he), abs(e-hs), abs(e-he))\n",
    "    return dist\n",
    "\n",
    "def mutations2score(df,TSG,OG,hotspots, w=0.05,verbose = False):\n",
    "    # define gene type\n",
    "    gene_scores = {}\n",
    "    for gene_id in list(set(df[\"Entrez_gene_ID\"].values)):\n",
    "        df_gene = df.loc[df[\"Entrez_gene_ID\"] == gene_id, :]\n",
    "        # functions of mutations\n",
    "        mut_functions = set(df_gene[\"function\"].values)\n",
    "        if gene_id in TSG:\n",
    "            # check for truncating mutations:\n",
    "            # score is -1 if any\n",
    "            if \"truncating_mutation\" in mut_functions:\n",
    "                gene_scores[gene_id] =-1\n",
    "            else:\n",
    "                # in mutation is not truncating, \n",
    "                # get the distance to closets hotspot if any \n",
    "                dist = distance_to_hotspot(gene_id, df_gene, hotspots)\n",
    "                # set abs. maximal of 1/(dist+1) and 2w which corresponds LoF in unannotatedd gene\n",
    "                gene_scores[gene_id] = -max(1.0/(dist+1),2*w)\n",
    "        elif gene_id in OG:\n",
    "            if \"point_mutation\" in mut_functions:\n",
    "                dist = distance_to_hotspot(gene_id, df_gene, hotspots)\n",
    "                if \"truncating_mutation\" in mut_functions:\n",
    "                    if verbose:\n",
    "                        print(\"GoF at dist\",dist,\"from hotspot in Oncogene with GoF\",file = sys.stderr)\n",
    "                        print(df_gene,file = sys.stderr)\n",
    "                    if 1.0/(dist+1) > 2*w:\n",
    "                        # if there is a mutation close to hotspot\n",
    "                        # despite LoF it is likely a driver and the second copy of this gene is broken\n",
    "                        # this happens in sampl 905968  in PIK3CA gene (5290)\n",
    "                        gene_scores[gene_id] = 1.0/(dist+1)\n",
    "                    else:\n",
    "                        # otherwise we set -1 to differentiate it from neutral mutations\n",
    "                        # because oncogene might turn on after domain truncation\n",
    "                        gene_scores[gene_id] = -1\n",
    "                else:\n",
    "                    # non-hotspot mutation in non-LoF oncogene - small positive value\n",
    "                    gene_scores[gene_id] = max(1.0/(dist+1),w)\n",
    "            else:\n",
    "                # only LoF mutations, oncogene is likely not functional or\n",
    "                # it is turned-on after truncting mutations\n",
    "                # therefore we set -1 to differentiate it from neutral mutations\n",
    "                gene_scores[gene_id] = -1\n",
    "            \n",
    "            \n",
    "        else: # if unknown_significance\n",
    "            if \"truncating_mutation\" in mut_functions:\n",
    "                gene_scores[gene_id] = -2.0*w\n",
    "            else:\n",
    "                gene_scores[gene_id] = -w\n",
    "    \n",
    "    return pd.Series(gene_scores)"
   ]
  },
  {
   "cell_type": "code",
   "execution_count": 5,
   "metadata": {},
   "outputs": [
    {
     "name": "stdout",
     "output_type": "stream",
     "text": [
      "Bailey_2018 OG: 115 TSG: 162 both: 18\n"
     ]
    }
   ],
   "source": [
    "bailye = {\"OG\":[],\"TSG\":[],\"OG_TSG\":[]}\n",
    "bailye_drivers = pd.read_excel(\"data/hotspots/Bailey_2018.mmc1.xlsx\", sheet_name=\"Table S1\", \n",
    "                               skiprows = 3)\n",
    "bailye_drivers = bailye_drivers[[\"Gene\",\"Tumor suppressor or oncogene prediction (by 20/20+)\"]]\n",
    "#print(bailye_drivers.shape[0])\n",
    "bailye_drivers.drop_duplicates(inplace=True)\n",
    "bailye_drivers.columns = [\"gene\", \"role\"]\n",
    "#print(bailye_drivers.shape[0])\n",
    "bailye_drivers.fillna(\"NA\", inplace = True)\n",
    "bailye_drivers[\"role\"] = bailye_drivers[\"role\"].apply(lambda x: x.replace(\"possible \",\"\"))\n",
    "bailye_drivers.drop_duplicates(inplace=True)\n",
    "#print(bailye_drivers.shape[0])\n",
    "bailye_drivers.loc[bailye_drivers.duplicated(\"gene\", keep=False),:]\n",
    "#print(len(set(bailye_drivers[\"gene\"].values)))\n",
    "bailye[\"OG\"] = bailye_drivers.loc[bailye_drivers[\"role\"] == \"oncogene\",:]\n",
    "bailye[\"OG\"] = set(bailye[\"OG\"][\"gene\"].values)\n",
    "bailye[\"TSG\"] = bailye_drivers.loc[bailye_drivers[\"role\"] == \"tsg\",:]\n",
    "bailye[\"TSG\"] = set(bailye[\"TSG\"][\"gene\"].values)\n",
    "bailye[\"OG_TSG\"] = bailye[\"OG\"].intersection(bailye[\"TSG\"])\n",
    "print(\"Bailey_2018 OG:\",len(bailye[\"OG\"]),\"TSG:\",len(bailye[\"TSG\"]),\"both:\", len(bailye[\"OG_TSG\"]))\n",
    "#print(len(OncoKB[\"OG\"]),len(OncoKB[\"TSG\"]),len(OncoKB[\"OG_TSG\"]) )"
   ]
  },
  {
   "cell_type": "markdown",
   "metadata": {},
   "source": [
    "### Hotspots"
   ]
  },
  {
   "cell_type": "code",
   "execution_count": 6,
   "metadata": {},
   "outputs": [
    {
     "name": "stdout",
     "output_type": "stream",
     "text": [
      "1D mutations 3004 495\n",
      "1D hotspots 1024 55\n",
      "3D mutations 9512\n",
      "3D hotspots  3395\n",
      "genes with hotspot 688\n",
      "unique hotspots 4258\n"
     ]
    }
   ],
   "source": [
    "hotspots2D_subst = pd.read_excel(\"data/hotspots/hotspots_v2.xls\",\"SNV-hotspots\")\n",
    "hotspots2D_indels = pd.read_excel(\"data/hotspots/hotspots_v2.xls\",\"INDEL-hotspots\")\n",
    "print(\"1D mutations\",hotspots2D_subst.shape[0],hotspots2D_indels.shape[0] )\n",
    "hotspots2D_subst = hotspots2D_subst.loc[~hotspots2D_subst[\"Amino_Acid_Position\"].str.contains(\"splice\")]\n",
    "hotspots2D_subst = hotspots2D_subst[[\"Hugo_Symbol\",\"Amino_Acid_Position\"]]\n",
    "hotspots2D_subst.drop_duplicates(inplace=True)\n",
    "hotspots2D_indels = hotspots2D_indels[[\"Hugo_Symbol\",\"Amino_Acid_Position\"]]\n",
    "hotspots2D_indels.drop_duplicates(inplace=True)\n",
    "print(\"1D hotspots\",hotspots2D_subst.shape[0],hotspots2D_indels.shape[0] )\n",
    "cBioPortal_muts = pd.concat([hotspots2D_subst,hotspots2D_indels],axis =0)\n",
    "cBioPortal_muts_ = cBioPortal_muts.loc[cBioPortal_muts[\"Amino_Acid_Position\"].str.contains(\"-\"),:]\n",
    "cBioPortal_muts = cBioPortal_muts.loc[~cBioPortal_muts[\"Amino_Acid_Position\"].str.contains(\"-\"),:]\n",
    "cBioPortal_muts[\"Amino_Acid_Position\"] = cBioPortal_muts[\"Amino_Acid_Position\"].apply(int)\n",
    "#cBioPortal_muts[\"start\"] = cBioPortal_muts[\"Amino_Acid_Position\"]\n",
    "#cBioPortal_muts[\"end\"] = cBioPortal_muts[\"Amino_Acid_Position\"]\n",
    "cBioPortal_muts[\"aa_pos\"] = cBioPortal_muts[\"Amino_Acid_Position\"].apply(lambda x : (x,x))\n",
    "\n",
    "#cBioPortal_muts_ [\"start\"] = cBioPortal_muts_[\"Amino_Acid_Position\"].apply(lambda x: int(x.split(\"-\")[0]))\n",
    "#cBioPortal_muts_[\"end\"] = cBioPortal_muts_[\"Amino_Acid_Position\"].apply(lambda x: int(x.split(\"-\")[1]))\n",
    "cBioPortal_muts_[\"aa_pos\"] = cBioPortal_muts_[\"Amino_Acid_Position\"].apply(lambda x : tuple(map(int,x.split(\"-\"))))\n",
    "\n",
    "cBioPortal_muts = pd.concat([cBioPortal_muts_,cBioPortal_muts],axis = 0)\n",
    "cBioPortal_muts[\"source\"] = \"1D\"\n",
    "\n",
    "\n",
    "### 3D\n",
    "\n",
    "cBioPortal_3D = pd.read_excel(\"data/hotspots/3d_hotspots.xls\",\"Table S5\")\n",
    "cBioPortal_3D = cBioPortal_3D[[\"Gene\",\"Amino_Acid_Position\"]]\n",
    "print(\"3D mutations\",cBioPortal_3D.shape[0])\n",
    "cBioPortal_3D.drop_duplicates(inplace=True)\n",
    "print(\"3D hotspots \",cBioPortal_3D.shape[0])\n",
    "cBioPortal_3D[\"Amino_Acid_Position\"] = cBioPortal_3D[\"Amino_Acid_Position\"].apply(int)\n",
    "#cBioPortal_3D[\"start\"] = cBioPortal_3D[\"Amino_Acid_Position\"]\n",
    "#cBioPortal_3D[\"end\"] = cBioPortal_3D[\"Amino_Acid_Position\"]\n",
    "cBioPortal_3D[\"aa_pos\"] = cBioPortal_3D[\"Amino_Acid_Position\"].apply(lambda x : (x,x))\n",
    "cBioPortal_3D.rename({\"Gene\":'Hugo_Symbol'}, axis=\"columns\",inplace=True)\n",
    "cBioPortal_3D[\"source\"] = \"3D\"\n",
    "cBioPortal_muts = cBioPortal_muts[[\"Hugo_Symbol\",\"aa_pos\"]]\n",
    "cBioPortal_3D = cBioPortal_3D[[\"Hugo_Symbol\",\"aa_pos\"]]\n",
    "cBioPortal_muts = pd.concat([cBioPortal_3D, cBioPortal_muts],axis=0)\n",
    "cBioPortal_muts.sort_values([\"Hugo_Symbol\"],ascending = True,inplace=True)\n",
    "\n",
    "cBioPortal_genes = set(cBioPortal_muts[\"Hugo_Symbol\"].values)\n",
    "print(\"genes with hotspot\",len(cBioPortal_genes))\n",
    "cBioPortal_muts = cBioPortal_muts[[\"Hugo_Symbol\",\"aa_pos\"]]\n",
    "cBioPortal_muts.drop_duplicates(inplace=True)\n",
    "print(\"unique hotspots\",cBioPortal_muts.shape[0])\n",
    "#cBioPortal_muts"
   ]
  },
  {
   "cell_type": "code",
   "execution_count": 7,
   "metadata": {},
   "outputs": [
    {
     "name": "stdout",
     "output_type": "stream",
     "text": [
      "genes with and without mutations\n",
      "OG oncokb 110 / 214 Bailye_2018 81 / 115\n",
      "TSG oncokb 123 / 246 Bailye_2018 81 / 162\n",
      "OG_TSG oncokb 15 / 25 Bailye_2018 14 / 18\n"
     ]
    }
   ],
   "source": [
    "\n",
    "print(\"genes with and without mutations\")\n",
    "for kind in [\"OG\",\"TSG\",\"OG_TSG\"]:\n",
    "    oncokb = OncoKB[kind].intersection(cBioPortal_genes) \n",
    "    b = bailye[kind].intersection(cBioPortal_genes)\n",
    "    print(kind,\"oncokb\", len(oncokb),\"/\",len(OncoKB[kind]),\n",
    "         \"Bailye_2018\", len(b),\"/\",len(bailye[kind]))"
   ]
  },
  {
   "cell_type": "code",
   "execution_count": 8,
   "metadata": {},
   "outputs": [
    {
     "name": "stdout",
     "output_type": "stream",
     "text": [
      "OG oncokb 214 Bailye_2018 115 union 277 mutated: 144\n",
      "TSG oncokb 246 Bailye_2018 162 union 316 mutated: 136\n",
      "OG_TSG oncokb 25 Bailye_2018 18 union 41 mutated: 28\n"
     ]
    }
   ],
   "source": [
    "for kind in [\"OG\",\"TSG\",\"OG_TSG\"]:\n",
    "    oncokb = OncoKB[kind]#.intersection(cBioPortal_genes) \n",
    "    b = bailye[kind]#.intersection(cBioPortal_genes)\n",
    "    print(kind,\"oncokb\", len(oncokb),\n",
    "         \"Bailye_2018\", len(b),\"union\",len(b.union(oncokb)),\n",
    "         \"mutated:\",\n",
    "         len(b.union(oncokb).intersection(cBioPortal_genes)))"
   ]
  },
  {
   "cell_type": "code",
   "execution_count": 9,
   "metadata": {},
   "outputs": [
    {
     "name": "stdout",
     "output_type": "stream",
     "text": [
      "TSG: 316 with hotspots: 136 \n",
      "OG with hotspots: 144\n",
      "Hotspots (all from cBioPortal): 4258 \n",
      "\ton OG: 1116 \n",
      "\ton TSG: 1012\n"
     ]
    },
    {
     "data": {
      "text/html": [
       "<div>\n",
       "<style scoped>\n",
       "    .dataframe tbody tr th:only-of-type {\n",
       "        vertical-align: middle;\n",
       "    }\n",
       "\n",
       "    .dataframe tbody tr th {\n",
       "        vertical-align: top;\n",
       "    }\n",
       "\n",
       "    .dataframe thead th {\n",
       "        text-align: right;\n",
       "    }\n",
       "</style>\n",
       "<table border=\"1\" class=\"dataframe\">\n",
       "  <thead>\n",
       "    <tr style=\"text-align: right;\">\n",
       "      <th></th>\n",
       "      <th>Hugo_Symbol</th>\n",
       "      <th>aa_pos</th>\n",
       "    </tr>\n",
       "  </thead>\n",
       "  <tbody>\n",
       "    <tr>\n",
       "      <th>1456</th>\n",
       "      <td>ACVR1</td>\n",
       "      <td>(206, 206)</td>\n",
       "    </tr>\n",
       "    <tr>\n",
       "      <th>1307</th>\n",
       "      <td>ACVR1</td>\n",
       "      <td>(258, 258)</td>\n",
       "    </tr>\n",
       "    <tr>\n",
       "      <th>1128</th>\n",
       "      <td>ACVR1</td>\n",
       "      <td>(328, 328)</td>\n",
       "    </tr>\n",
       "    <tr>\n",
       "      <th>2542</th>\n",
       "      <td>ACVR1B</td>\n",
       "      <td>(398, 398)</td>\n",
       "    </tr>\n",
       "    <tr>\n",
       "      <th>2056</th>\n",
       "      <td>ACVR1B</td>\n",
       "      <td>(401, 401)</td>\n",
       "    </tr>\n",
       "  </tbody>\n",
       "</table>\n",
       "</div>"
      ],
      "text/plain": [
       "     Hugo_Symbol      aa_pos\n",
       "1456       ACVR1  (206, 206)\n",
       "1307       ACVR1  (258, 258)\n",
       "1128       ACVR1  (328, 328)\n",
       "2542      ACVR1B  (398, 398)\n",
       "2056      ACVR1B  (401, 401)"
      ]
     },
     "execution_count": 9,
     "metadata": {},
     "output_type": "execute_result"
    }
   ],
   "source": [
    "\n",
    "# TSG - not necessarity with a hotspot, take union of OncoKB and  Bailye_2018\n",
    "TSG = OncoKB[\"TSG\"].union(bailye[\"TSG\"])\n",
    "# OG - must have a hotspot \n",
    "OG = OncoKB[\"OG\"].union(bailye[\"OG\"]).intersection(cBioPortal_genes)\n",
    "print(\"TSG:\",len(TSG),\"with hotspots:\",len(TSG.intersection(cBioPortal_genes)),\n",
    "      \"\\nOG with hotspots:\",len(OG))\n",
    "# list of hotspots: \n",
    "hotspots = cBioPortal_muts.loc[cBioPortal_muts[\"Hugo_Symbol\"].isin(OG|TSG),:]\n",
    "print(\"Hotspots (all from cBioPortal):\", cBioPortal_muts.shape[0],\n",
    "      \"\\n\\ton OG:\", hotspots.loc[hotspots[\"Hugo_Symbol\"].isin(OG)].shape[0],\n",
    "      \"\\n\\ton TSG:\", hotspots.loc[hotspots[\"Hugo_Symbol\"].isin(TSG)].shape[0])\n",
    "hotspots.head(5)"
   ]
  },
  {
   "cell_type": "markdown",
   "metadata": {},
   "source": [
    "### map gene name to Entrez gene ID"
   ]
  },
  {
   "cell_type": "code",
   "execution_count": 10,
   "metadata": {},
   "outputs": [
    {
     "name": "stderr",
     "output_type": "stream",
     "text": [
      "Ok: no empty rows detected\n",
      "Ok: no duplicated pairs detected\n",
      "Ok: All Symbol rows are not empty.\n",
      "Ok: All Symbol are mapped to GeneID\n",
      "9 Symbol mapped to multiple GeneID\n",
      "Ok: All GeneID are unique\n",
      "60207 Symbol can be mapped directly to GeneID\n"
     ]
    }
   ],
   "source": [
    "NCBI = pd.read_csv(\"data/Homo_sapiens.gene_info\",sep = \"\\t\")\n",
    "NCBI = NCBI[[\"#tax_id\",\"GeneID\",\"Symbol\",\"Synonyms\",\"type_of_gene\"]]\n",
    "NCBI = NCBI.loc[NCBI[\"#tax_id\"] == 9606]\n",
    "NCBI = NCBI.loc[NCBI[\"type_of_gene\"] != \"unknown\"]\n",
    "ncbi_symbols = parse_mapping_table(NCBI, \"Symbol\",\"GeneID\")"
   ]
  },
  {
   "cell_type": "code",
   "execution_count": 11,
   "metadata": {},
   "outputs": [
    {
     "name": "stderr",
     "output_type": "stream",
     "text": [
      "Ok: no empty rows detected\n",
      "Ok: no duplicated pairs detected\n",
      "Ok: All Synonyms rows are not empty.\n",
      "Ok: All Synonyms are mapped to GeneID\n",
      "3261 Synonyms mapped to multiple GeneID\n",
      "50720 different Synonyms mapped to the same GeneID\n",
      "10915 Synonyms can be mapped directly to GeneID\n"
     ]
    }
   ],
   "source": [
    "ncbi_synonyms = expand(NCBI[[\"Synonyms\",\"GeneID\"]],column=\"Synonyms\",sep=\"|\") \n",
    "ncbi_synonyms = parse_mapping_table(ncbi_synonyms, \"Synonyms\",\"GeneID\")"
   ]
  },
  {
   "cell_type": "code",
   "execution_count": 12,
   "metadata": {},
   "outputs": [
    {
     "name": "stdout",
     "output_type": "stream",
     "text": [
      "Mapped: 421 \n",
      "\tdirectly via main_mapper 410 \n",
      "\tvia alternative mapper 1 \n",
      "\tvia one of multiple synonyms in alternative mapper 10 \n",
      "\tLOC 0 \n",
      "Unmapped: 0 \n",
      "\trecognized symbols without Entrez ID 0 \n",
      "\tmultiple query_ids map to the same target_id 0 \n",
      "\tquery_ids map to multiple target_ids in the main mapper 0 \n",
      "\tquery_ids map to multiple target_ids in the alternative mapper 0 \n",
      "\tLOC not found in Entrez 0 \n",
      "\tNot found at all: 0\n"
     ]
    },
    {
     "name": "stderr",
     "output_type": "stream",
     "text": [
      "IDs mapped to multiple target IDs are kept:\n",
      " []\n",
      "D:\\Anaconda3\\lib\\site-packages\\ipykernel_launcher.py:5: SettingWithCopyWarning: \n",
      "A value is trying to be set on a copy of a slice from a DataFrame.\n",
      "Try using .loc[row_indexer,col_indexer] = value instead\n",
      "\n",
      "See the caveats in the documentation: http://pandas.pydata.org/pandas-docs/stable/user_guide/indexing.html#returning-a-view-versus-a-copy\n",
      "  \"\"\"\n"
     ]
    },
    {
     "data": {
      "text/html": [
       "<div>\n",
       "<style scoped>\n",
       "    .dataframe tbody tr th:only-of-type {\n",
       "        vertical-align: middle;\n",
       "    }\n",
       "\n",
       "    .dataframe tbody tr th {\n",
       "        vertical-align: top;\n",
       "    }\n",
       "\n",
       "    .dataframe thead th {\n",
       "        text-align: right;\n",
       "    }\n",
       "</style>\n",
       "<table border=\"1\" class=\"dataframe\">\n",
       "  <thead>\n",
       "    <tr style=\"text-align: right;\">\n",
       "      <th></th>\n",
       "      <th>Hugo_Symbol</th>\n",
       "      <th>aa_pos</th>\n",
       "      <th>Entrez_gene_ID</th>\n",
       "    </tr>\n",
       "  </thead>\n",
       "  <tbody>\n",
       "    <tr>\n",
       "      <th>1456</th>\n",
       "      <td>ACVR1</td>\n",
       "      <td>(206, 206)</td>\n",
       "      <td>90</td>\n",
       "    </tr>\n",
       "    <tr>\n",
       "      <th>1307</th>\n",
       "      <td>ACVR1</td>\n",
       "      <td>(258, 258)</td>\n",
       "      <td>90</td>\n",
       "    </tr>\n",
       "    <tr>\n",
       "      <th>1128</th>\n",
       "      <td>ACVR1</td>\n",
       "      <td>(328, 328)</td>\n",
       "      <td>90</td>\n",
       "    </tr>\n",
       "    <tr>\n",
       "      <th>2542</th>\n",
       "      <td>ACVR1B</td>\n",
       "      <td>(398, 398)</td>\n",
       "      <td>91</td>\n",
       "    </tr>\n",
       "    <tr>\n",
       "      <th>2056</th>\n",
       "      <td>ACVR1B</td>\n",
       "      <td>(401, 401)</td>\n",
       "      <td>91</td>\n",
       "    </tr>\n",
       "  </tbody>\n",
       "</table>\n",
       "</div>"
      ],
      "text/plain": [
       "     Hugo_Symbol      aa_pos  Entrez_gene_ID\n",
       "1456       ACVR1  (206, 206)              90\n",
       "1307       ACVR1  (258, 258)              90\n",
       "1128       ACVR1  (328, 328)              90\n",
       "2542      ACVR1B  (398, 398)              91\n",
       "2056      ACVR1B  (401, 401)              91"
      ]
     },
     "execution_count": 12,
     "metadata": {},
     "output_type": "execute_result"
    }
   ],
   "source": [
    "tsg_og_gene_names = pd.DataFrame.from_dict({\"genes\":dict(zip(list(OG | TSG),list(OG | TSG)))})\n",
    "tsg_og_gene_names, query2target, not_mapped = apply_mappers(tsg_og_gene_names, ncbi_symbols, ncbi_synonyms, verbose = True,handle_duplicates = \"keep\")\n",
    "OG_entrez = set(map(lambda x : query2target[x],OG))\n",
    "TSG_entrez = set(map(lambda x : query2target[x],TSG))\n",
    "hotspots[\"Entrez_gene_ID\"] = hotspots[\"Hugo_Symbol\"].apply(lambda x : query2target[x])\n",
    "hotspots.head()"
   ]
  },
  {
   "cell_type": "markdown",
   "metadata": {},
   "source": [
    "### GDSC Mutations"
   ]
  },
  {
   "cell_type": "code",
   "execution_count": 13,
   "metadata": {},
   "outputs": [
    {
     "data": {
      "text/html": [
       "<div>\n",
       "<style scoped>\n",
       "    .dataframe tbody tr th:only-of-type {\n",
       "        vertical-align: middle;\n",
       "    }\n",
       "\n",
       "    .dataframe tbody tr th {\n",
       "        vertical-align: top;\n",
       "    }\n",
       "\n",
       "    .dataframe thead th {\n",
       "        text-align: right;\n",
       "    }\n",
       "</style>\n",
       "<table border=\"1\" class=\"dataframe\">\n",
       "  <thead>\n",
       "    <tr style=\"text-align: right;\">\n",
       "      <th></th>\n",
       "      <th>COSMIC_ID</th>\n",
       "      <th>Gene</th>\n",
       "      <th>AA</th>\n",
       "      <th>Classification</th>\n",
       "    </tr>\n",
       "  </thead>\n",
       "  <tbody>\n",
       "    <tr>\n",
       "      <th>0</th>\n",
       "      <td>907272</td>\n",
       "      <td>A1BG</td>\n",
       "      <td>p.Y281C</td>\n",
       "      <td>missense</td>\n",
       "    </tr>\n",
       "    <tr>\n",
       "      <th>1</th>\n",
       "      <td>998184</td>\n",
       "      <td>A1BG</td>\n",
       "      <td>p.A197T</td>\n",
       "      <td>missense</td>\n",
       "    </tr>\n",
       "    <tr>\n",
       "      <th>2</th>\n",
       "      <td>907272</td>\n",
       "      <td>A1BG</td>\n",
       "      <td>p.A191T</td>\n",
       "      <td>missense</td>\n",
       "    </tr>\n",
       "  </tbody>\n",
       "</table>\n",
       "</div>"
      ],
      "text/plain": [
       "   COSMIC_ID  Gene       AA Classification\n",
       "0     907272  A1BG  p.Y281C       missense\n",
       "1     998184  A1BG  p.A197T       missense\n",
       "2     907272  A1BG  p.A191T       missense"
      ]
     },
     "execution_count": 13,
     "metadata": {},
     "output_type": "execute_result"
    }
   ],
   "source": [
    "gdsc = pd.read_excel(\"data/GDSC/WES_variants.xlsx\",\"WES_variants\")\n",
    "gdsc  = gdsc [[\"COSMIC_ID\",\"Gene\",\"AA\",\"Classification\"]]\n",
    "gdsc.head(3)"
   ]
  },
  {
   "cell_type": "code",
   "execution_count": 14,
   "metadata": {},
   "outputs": [
    {
     "data": {
      "text/plain": [
       "Classification\n",
       "missense       413252\n",
       "frameshift      31933\n",
       "nonsense        23359\n",
       "ess_splice      13106\n",
       "inframe          3185\n",
       "Missense          884\n",
       "stop_lost         486\n",
       "gene_fusion        38\n",
       "dtype: int64"
      ]
     },
     "execution_count": 14,
     "metadata": {},
     "output_type": "execute_result"
    }
   ],
   "source": [
    "gdsc.groupby(\"Classification\").size().sort_values(ascending = False)"
   ]
  },
  {
   "cell_type": "code",
   "execution_count": 15,
   "metadata": {},
   "outputs": [
    {
     "name": "stdout",
     "output_type": "stream",
     "text": [
      "mean 485.7 median 288.0\n"
     ]
    },
    {
     "data": {
      "image/png": "[encoded data removed]",
      "text/plain": [
       "<Figure size 1440x360 with 2 Axes>"
      ]
     },
     "metadata": {
      "needs_background": "light"
     },
     "output_type": "display_data"
    }
   ],
   "source": [
    "# define functional effect of a mutation \n",
    "gdsc_truncating = ['frameshift','nonsense','stop_lost','ess_splice']\n",
    "gdsc_point = ['missense','Missense','inframe']\n",
    "gdsc.loc[gdsc[\"Classification\"].isin(gdsc_truncating),\"function\"] = \"truncating_mutation\"\n",
    "gdsc.loc[gdsc[\"Classification\"].isin(gdsc_point),\"function\"] = \"point_mutation\"\n",
    "gdsc = gdsc.loc[gdsc[\"Classification\"].isin(gdsc_truncating+gdsc_point),:]\n",
    "\n",
    "plt.figure(figsize=(20,5))\n",
    "plt.subplot(1,2,1)\n",
    "n_mutations_gdsc = gdsc.groupby(\"COSMIC_ID\").size().sort_values(ascending = False)\n",
    "tmp = plt.hist(n_mutations_gdsc, bins=50,range = (0,2000))\n",
    "tmp = plt.title(\"number of mutations per sample in GDSC\")\n",
    "ax = plt.subplot(1,2,2)\n",
    "n_LoF = gdsc.loc[gdsc[\"Classification\"].isin(gdsc_truncating ),:].groupby(\"COSMIC_ID\").size().sort_values(ascending = False)\n",
    "n_GoF = gdsc.loc[gdsc[\"Classification\"].isin(gdsc_point),:].groupby(\"COSMIC_ID\").size().sort_values(ascending = False)\n",
    "df = pd.DataFrame.from_dict({\"point_mutations\":n_GoF,\"truncating_mutations\":n_LoF})\n",
    "#tmp = plt.hist(n_LoF, bins=50)\n",
    "#tmp = plt.title(\"LoF mutations per sample in GDSC\")\n",
    "df.plot.hist(stacked = True, bins = 50,ax =ax,range = (0,2000))\n",
    "print(\"mean\",round(np.mean(n_mutations_gdsc),1), \"median\",np.median(n_mutations_gdsc))"
   ]
  },
  {
   "cell_type": "code",
   "execution_count": 16,
   "metadata": {},
   "outputs": [],
   "source": [
    "\n",
    "def binarize(x):\n",
    "    if x==0:\n",
    "        return x\n",
    "    else:\n",
    "        return 1\n",
    "\n",
    "def get_aa_pos_GDSC(x):\n",
    "    l = re.findall(r'\\d+', x)\n",
    "    if len(l) == 0:\n",
    "        #print(x, \"positions not found.\",file = sys.stderr)\n",
    "        return (\"NA\",\"NA\")\n",
    "    elif len(l) == 1:\n",
    "        return (int(l[0]), int(l[0]))\n",
    "    else:\n",
    "        return (int(l[0]), int(l[1]))"
   ]
  },
  {
   "cell_type": "code",
   "execution_count": 17,
   "metadata": {},
   "outputs": [
    {
     "data": {
      "text/html": [
       "<div>\n",
       "<style scoped>\n",
       "    .dataframe tbody tr th:only-of-type {\n",
       "        vertical-align: middle;\n",
       "    }\n",
       "\n",
       "    .dataframe tbody tr th {\n",
       "        vertical-align: top;\n",
       "    }\n",
       "\n",
       "    .dataframe thead th {\n",
       "        text-align: right;\n",
       "    }\n",
       "</style>\n",
       "<table border=\"1\" class=\"dataframe\">\n",
       "  <thead>\n",
       "    <tr style=\"text-align: right;\">\n",
       "      <th></th>\n",
       "      <th>COSMIC_ID</th>\n",
       "      <th>Gene</th>\n",
       "      <th>AA</th>\n",
       "      <th>Classification</th>\n",
       "      <th>function</th>\n",
       "      <th>aa_pos</th>\n",
       "    </tr>\n",
       "  </thead>\n",
       "  <tbody>\n",
       "    <tr>\n",
       "      <th>0</th>\n",
       "      <td>907272</td>\n",
       "      <td>A1BG</td>\n",
       "      <td>p.Y281C</td>\n",
       "      <td>missense</td>\n",
       "      <td>point_mutation</td>\n",
       "      <td>(281, 281)</td>\n",
       "    </tr>\n",
       "    <tr>\n",
       "      <th>1</th>\n",
       "      <td>998184</td>\n",
       "      <td>A1BG</td>\n",
       "      <td>p.A197T</td>\n",
       "      <td>missense</td>\n",
       "      <td>point_mutation</td>\n",
       "      <td>(197, 197)</td>\n",
       "    </tr>\n",
       "    <tr>\n",
       "      <th>2</th>\n",
       "      <td>907272</td>\n",
       "      <td>A1BG</td>\n",
       "      <td>p.A191T</td>\n",
       "      <td>missense</td>\n",
       "      <td>point_mutation</td>\n",
       "      <td>(191, 191)</td>\n",
       "    </tr>\n",
       "    <tr>\n",
       "      <th>3</th>\n",
       "      <td>907289</td>\n",
       "      <td>A1BG</td>\n",
       "      <td>p.D486N</td>\n",
       "      <td>missense</td>\n",
       "      <td>point_mutation</td>\n",
       "      <td>(486, 486)</td>\n",
       "    </tr>\n",
       "    <tr>\n",
       "      <th>4</th>\n",
       "      <td>905989</td>\n",
       "      <td>A1BG</td>\n",
       "      <td>p.T257N</td>\n",
       "      <td>missense</td>\n",
       "      <td>point_mutation</td>\n",
       "      <td>(257, 257)</td>\n",
       "    </tr>\n",
       "  </tbody>\n",
       "</table>\n",
       "</div>"
      ],
      "text/plain": [
       "   COSMIC_ID  Gene       AA Classification        function      aa_pos\n",
       "0     907272  A1BG  p.Y281C       missense  point_mutation  (281, 281)\n",
       "1     998184  A1BG  p.A197T       missense  point_mutation  (197, 197)\n",
       "2     907272  A1BG  p.A191T       missense  point_mutation  (191, 191)\n",
       "3     907289  A1BG  p.D486N       missense  point_mutation  (486, 486)\n",
       "4     905989  A1BG  p.T257N       missense  point_mutation  (257, 257)"
      ]
     },
     "execution_count": 17,
     "metadata": {},
     "output_type": "execute_result"
    }
   ],
   "source": [
    "gdsc[\"aa_pos\"] = gdsc[\"AA\"].apply(lambda x : get_aa_pos_GDSC(x))\n",
    "#gdsc[\"start\"] = gdsc[\"aa_pos\"].apply(lambda x : x.split(\",\")[0])\n",
    "#gdsc[\"end\"] = gdsc[\"aa_pos\"].apply(lambda x : x.split(\",\")[1])\n",
    "gdsc.head(5)"
   ]
  },
  {
   "cell_type": "code",
   "execution_count": 18,
   "metadata": {},
   "outputs": [
    {
     "name": "stdout",
     "output_type": "stream",
     "text": [
      "ENSEMBL gene IDs found: 101\n",
      "Gene symbols: 18989\n"
     ]
    }
   ],
   "source": [
    "\n",
    "ensg_genes = []\n",
    "symbols = []\n",
    "for gene in set(gdsc[\"Gene\"].values):\n",
    "    if gene.startswith(\"ENSG\"):\n",
    "        ensg_genes.append(gene)\n",
    "        \n",
    "    else:\n",
    "        symbols.append(gene)\n",
    "print(\"ENSEMBL gene IDs found:\",len(ensg_genes))\n",
    "ensg_genes = gdsc.loc[gdsc[\"Gene\"].isin(ensg_genes), :]\n",
    "gdsc_hugo =  gdsc.loc[gdsc[\"Gene\"].isin(symbols), :]\n",
    "print(\"Gene symbols:\",len(set(gdsc_hugo[\"Gene\"].values)))"
   ]
  },
  {
   "cell_type": "code",
   "execution_count": 19,
   "metadata": {},
   "outputs": [
    {
     "name": "stdout",
     "output_type": "stream",
     "text": [
      "Mapped: 18488 \n",
      "\tdirectly via main_mapper 16719 \n",
      "\tvia alternative mapper 490 \n",
      "\tvia one of multiple synonyms in alternative mapper 1254 \n",
      "\tLOC 25 \n",
      "Unmapped: 501 \n",
      "\trecognized symbols without Entrez ID 0 \n",
      "\tmultiple query_ids map to the same target_id 0 \n",
      "\tquery_ids map to multiple target_ids in the main mapper 0 \n",
      "\tquery_ids map to multiple target_ids in the alternative mapper 67 \n",
      "\tLOC not found in Entrez 11 \n",
      "\tNot found at all: 423\n",
      "Warning: query IDs mapping to duplicated target IDs in mapping table: 190\n",
      "Warning: query IDs not mapped to any target IDs excluded: 501\n"
     ]
    },
    {
     "name": "stderr",
     "output_type": "stream",
     "text": [
      "IDs mapped to multiple target IDs are kept:\n",
      " [143872, 284697, 341019, 27177, 387119, 84530, 26165, 11321, 122945, 150082, 728642, 2122, 442444, 79949, 157777, 6241, 340578, 100289124, 8805, 127602, 387707, 728194, 345222, 84108, 91283, 84631, 144535, 245913, 388761, 4253, 163486, 54438, 283310, 84148, 57018, 284352, 5315, 283849, 339669, 23254, 23272, 119016, 340204, 64753, 64760, 25849, 286464, 129285, 4360, 10507, 4883, 10529, 5414, 23334, 114984, 440107, 256815, 23345, 57662, 165186, 54617, 84316, 200030, 10592, 57705, 246126, 92017, 126321, 10613, 374, 445815, 79741, 51586, 168850, 647060, 284565, 63895, 93081, 201625, 29086, 1954, 9127, 55719, 29099, 941, 155066, 140733, 114112, 85452, 139728, 84458, 23028, 54777, 79868]\n"
     ]
    }
   ],
   "source": [
    "# mapping to Entrez\n",
    "df = gdsc_hugo[[\"Gene\"]].copy()\n",
    "df.set_index(\"Gene\",drop= False ,inplace=True)\n",
    "df.drop_duplicates(inplace = True)\n",
    "df, query2target,not_mapped  = apply_mappers(df, ncbi_symbols, ncbi_synonyms, verbose = True,handle_duplicates = \"keep\")"
   ]
  },
  {
   "cell_type": "code",
   "execution_count": 20,
   "metadata": {},
   "outputs": [
    {
     "data": {
      "text/html": [
       "<div>\n",
       "<style scoped>\n",
       "    .dataframe tbody tr th:only-of-type {\n",
       "        vertical-align: middle;\n",
       "    }\n",
       "\n",
       "    .dataframe tbody tr th {\n",
       "        vertical-align: top;\n",
       "    }\n",
       "\n",
       "    .dataframe thead th {\n",
       "        text-align: right;\n",
       "    }\n",
       "</style>\n",
       "<table border=\"1\" class=\"dataframe\">\n",
       "  <thead>\n",
       "    <tr style=\"text-align: right;\">\n",
       "      <th></th>\n",
       "      <th>COSMIC_ID</th>\n",
       "      <th>Gene</th>\n",
       "      <th>AA</th>\n",
       "      <th>Classification</th>\n",
       "      <th>function</th>\n",
       "      <th>aa_pos</th>\n",
       "      <th>Entrez_gene_ID</th>\n",
       "    </tr>\n",
       "  </thead>\n",
       "  <tbody>\n",
       "    <tr>\n",
       "      <th>0</th>\n",
       "      <td>907272</td>\n",
       "      <td>A1BG</td>\n",
       "      <td>p.Y281C</td>\n",
       "      <td>missense</td>\n",
       "      <td>point_mutation</td>\n",
       "      <td>(281, 281)</td>\n",
       "      <td>1</td>\n",
       "    </tr>\n",
       "    <tr>\n",
       "      <th>1</th>\n",
       "      <td>998184</td>\n",
       "      <td>A1BG</td>\n",
       "      <td>p.A197T</td>\n",
       "      <td>missense</td>\n",
       "      <td>point_mutation</td>\n",
       "      <td>(197, 197)</td>\n",
       "      <td>1</td>\n",
       "    </tr>\n",
       "    <tr>\n",
       "      <th>2</th>\n",
       "      <td>907272</td>\n",
       "      <td>A1BG</td>\n",
       "      <td>p.A191T</td>\n",
       "      <td>missense</td>\n",
       "      <td>point_mutation</td>\n",
       "      <td>(191, 191)</td>\n",
       "      <td>1</td>\n",
       "    </tr>\n",
       "    <tr>\n",
       "      <th>3</th>\n",
       "      <td>907289</td>\n",
       "      <td>A1BG</td>\n",
       "      <td>p.D486N</td>\n",
       "      <td>missense</td>\n",
       "      <td>point_mutation</td>\n",
       "      <td>(486, 486)</td>\n",
       "      <td>1</td>\n",
       "    </tr>\n",
       "    <tr>\n",
       "      <th>4</th>\n",
       "      <td>905989</td>\n",
       "      <td>A1BG</td>\n",
       "      <td>p.T257N</td>\n",
       "      <td>missense</td>\n",
       "      <td>point_mutation</td>\n",
       "      <td>(257, 257)</td>\n",
       "      <td>1</td>\n",
       "    </tr>\n",
       "    <tr>\n",
       "      <th>5</th>\n",
       "      <td>909698</td>\n",
       "      <td>A1BG</td>\n",
       "      <td>p.R90H</td>\n",
       "      <td>missense</td>\n",
       "      <td>point_mutation</td>\n",
       "      <td>(90, 90)</td>\n",
       "      <td>1</td>\n",
       "    </tr>\n",
       "    <tr>\n",
       "      <th>6</th>\n",
       "      <td>905971</td>\n",
       "      <td>A1BG</td>\n",
       "      <td>p.T46M</td>\n",
       "      <td>missense</td>\n",
       "      <td>point_mutation</td>\n",
       "      <td>(46, 46)</td>\n",
       "      <td>1</td>\n",
       "    </tr>\n",
       "    <tr>\n",
       "      <th>7</th>\n",
       "      <td>909761</td>\n",
       "      <td>A1BG</td>\n",
       "      <td>p.P41fs*33</td>\n",
       "      <td>frameshift</td>\n",
       "      <td>truncating_mutation</td>\n",
       "      <td>(41, 33)</td>\n",
       "      <td>1</td>\n",
       "    </tr>\n",
       "    <tr>\n",
       "      <th>8</th>\n",
       "      <td>1327769</td>\n",
       "      <td>A1BG</td>\n",
       "      <td>p.E249D</td>\n",
       "      <td>missense</td>\n",
       "      <td>point_mutation</td>\n",
       "      <td>(249, 249)</td>\n",
       "      <td>1</td>\n",
       "    </tr>\n",
       "    <tr>\n",
       "      <th>9</th>\n",
       "      <td>1330931</td>\n",
       "      <td>A1BG</td>\n",
       "      <td>p.Y184*</td>\n",
       "      <td>nonsense</td>\n",
       "      <td>truncating_mutation</td>\n",
       "      <td>(184, 184)</td>\n",
       "      <td>1</td>\n",
       "    </tr>\n",
       "  </tbody>\n",
       "</table>\n",
       "</div>"
      ],
      "text/plain": [
       "   COSMIC_ID  Gene          AA Classification             function  \\\n",
       "0     907272  A1BG     p.Y281C       missense       point_mutation   \n",
       "1     998184  A1BG     p.A197T       missense       point_mutation   \n",
       "2     907272  A1BG     p.A191T       missense       point_mutation   \n",
       "3     907289  A1BG     p.D486N       missense       point_mutation   \n",
       "4     905989  A1BG     p.T257N       missense       point_mutation   \n",
       "5     909698  A1BG      p.R90H       missense       point_mutation   \n",
       "6     905971  A1BG      p.T46M       missense       point_mutation   \n",
       "7     909761  A1BG  p.P41fs*33     frameshift  truncating_mutation   \n",
       "8    1327769  A1BG     p.E249D       missense       point_mutation   \n",
       "9    1330931  A1BG     p.Y184*       nonsense  truncating_mutation   \n",
       "\n",
       "       aa_pos  Entrez_gene_ID  \n",
       "0  (281, 281)               1  \n",
       "1  (197, 197)               1  \n",
       "2  (191, 191)               1  \n",
       "3  (486, 486)               1  \n",
       "4  (257, 257)               1  \n",
       "5    (90, 90)               1  \n",
       "6    (46, 46)               1  \n",
       "7    (41, 33)               1  \n",
       "8  (249, 249)               1  \n",
       "9  (184, 184)               1  "
      ]
     },
     "execution_count": 20,
     "metadata": {},
     "output_type": "execute_result"
    }
   ],
   "source": [
    "gdsc_hugo = gdsc_hugo.loc[~gdsc_hugo[\"Gene\"].isin(not_mapped),:].copy()\n",
    "gdsc_hugo[\"Entrez_gene_ID\"] = gdsc_hugo[\"Gene\"].apply(lambda x : query2target[x])\n",
    "gdsc_hugo.head(10)"
   ]
  },
  {
   "cell_type": "code",
   "execution_count": 21,
   "metadata": {},
   "outputs": [
    {
     "data": {
      "text/html": [
       "<div>\n",
       "<style scoped>\n",
       "    .dataframe tbody tr th:only-of-type {\n",
       "        vertical-align: middle;\n",
       "    }\n",
       "\n",
       "    .dataframe tbody tr th {\n",
       "        vertical-align: top;\n",
       "    }\n",
       "\n",
       "    .dataframe thead th {\n",
       "        text-align: right;\n",
       "    }\n",
       "</style>\n",
       "<table border=\"1\" class=\"dataframe\">\n",
       "  <thead>\n",
       "    <tr style=\"text-align: right;\">\n",
       "      <th></th>\n",
       "      <th>907268</th>\n",
       "      <th>907269</th>\n",
       "      <th>907270</th>\n",
       "      <th>907271</th>\n",
       "      <th>907272</th>\n",
       "      <th>907273</th>\n",
       "      <th>907274</th>\n",
       "      <th>907275</th>\n",
       "      <th>907276</th>\n",
       "      <th>907277</th>\n",
       "      <th>...</th>\n",
       "      <th>753620</th>\n",
       "      <th>753621</th>\n",
       "      <th>688086</th>\n",
       "      <th>753623</th>\n",
       "      <th>753622</th>\n",
       "      <th>753624</th>\n",
       "      <th>688087</th>\n",
       "      <th>753618</th>\n",
       "      <th>917486</th>\n",
       "      <th>688121</th>\n",
       "    </tr>\n",
       "  </thead>\n",
       "  <tbody>\n",
       "    <tr>\n",
       "      <th>7157</th>\n",
       "      <td>-1.0</td>\n",
       "      <td>0.0</td>\n",
       "      <td>0.0</td>\n",
       "      <td>-1.0</td>\n",
       "      <td>-1.0</td>\n",
       "      <td>-1.0</td>\n",
       "      <td>-1.0</td>\n",
       "      <td>-1.0</td>\n",
       "      <td>0.0</td>\n",
       "      <td>-1.0</td>\n",
       "      <td>...</td>\n",
       "      <td>0.0</td>\n",
       "      <td>-1.0</td>\n",
       "      <td>-1.0</td>\n",
       "      <td>-1.0</td>\n",
       "      <td>-1.0</td>\n",
       "      <td>-1.0</td>\n",
       "      <td>-1.0</td>\n",
       "      <td>-1.0</td>\n",
       "      <td>-1.0</td>\n",
       "      <td>0.0</td>\n",
       "    </tr>\n",
       "    <tr>\n",
       "      <th>5290</th>\n",
       "      <td>0.0</td>\n",
       "      <td>0.0</td>\n",
       "      <td>0.0</td>\n",
       "      <td>0.0</td>\n",
       "      <td>0.2</td>\n",
       "      <td>0.0</td>\n",
       "      <td>0.0</td>\n",
       "      <td>0.0</td>\n",
       "      <td>0.0</td>\n",
       "      <td>0.0</td>\n",
       "      <td>...</td>\n",
       "      <td>0.0</td>\n",
       "      <td>0.0</td>\n",
       "      <td>0.0</td>\n",
       "      <td>0.0</td>\n",
       "      <td>0.0</td>\n",
       "      <td>0.0</td>\n",
       "      <td>0.0</td>\n",
       "      <td>0.0</td>\n",
       "      <td>0.0</td>\n",
       "      <td>0.0</td>\n",
       "    </tr>\n",
       "    <tr>\n",
       "      <th>3845</th>\n",
       "      <td>0.0</td>\n",
       "      <td>0.0</td>\n",
       "      <td>0.0</td>\n",
       "      <td>0.0</td>\n",
       "      <td>0.0</td>\n",
       "      <td>0.0</td>\n",
       "      <td>0.0</td>\n",
       "      <td>0.0</td>\n",
       "      <td>0.0</td>\n",
       "      <td>0.0</td>\n",
       "      <td>...</td>\n",
       "      <td>0.0</td>\n",
       "      <td>0.0</td>\n",
       "      <td>0.0</td>\n",
       "      <td>0.0</td>\n",
       "      <td>0.0</td>\n",
       "      <td>1.0</td>\n",
       "      <td>0.0</td>\n",
       "      <td>0.0</td>\n",
       "      <td>1.0</td>\n",
       "      <td>0.0</td>\n",
       "    </tr>\n",
       "    <tr>\n",
       "      <th>4893</th>\n",
       "      <td>0.0</td>\n",
       "      <td>0.0</td>\n",
       "      <td>0.0</td>\n",
       "      <td>0.0</td>\n",
       "      <td>0.0</td>\n",
       "      <td>0.0</td>\n",
       "      <td>0.0</td>\n",
       "      <td>0.0</td>\n",
       "      <td>0.0</td>\n",
       "      <td>-1.0</td>\n",
       "      <td>...</td>\n",
       "      <td>0.0</td>\n",
       "      <td>0.0</td>\n",
       "      <td>0.0</td>\n",
       "      <td>0.0</td>\n",
       "      <td>0.0</td>\n",
       "      <td>0.0</td>\n",
       "      <td>0.0</td>\n",
       "      <td>0.0</td>\n",
       "      <td>0.0</td>\n",
       "      <td>0.0</td>\n",
       "    </tr>\n",
       "  </tbody>\n",
       "</table>\n",
       "<p>4 rows × 1001 columns</p>\n",
       "</div>"
      ],
      "text/plain": [
       "      907268  907269  907270  907271  907272  907273  907274  907275  907276  \\\n",
       "7157    -1.0     0.0     0.0    -1.0    -1.0    -1.0    -1.0    -1.0     0.0   \n",
       "5290     0.0     0.0     0.0     0.0     0.2     0.0     0.0     0.0     0.0   \n",
       "3845     0.0     0.0     0.0     0.0     0.0     0.0     0.0     0.0     0.0   \n",
       "4893     0.0     0.0     0.0     0.0     0.0     0.0     0.0     0.0     0.0   \n",
       "\n",
       "      907277  ...  753620  753621  688086  753623  753622  753624  688087  \\\n",
       "7157    -1.0  ...     0.0    -1.0    -1.0    -1.0    -1.0    -1.0    -1.0   \n",
       "5290     0.0  ...     0.0     0.0     0.0     0.0     0.0     0.0     0.0   \n",
       "3845     0.0  ...     0.0     0.0     0.0     0.0     0.0     1.0     0.0   \n",
       "4893    -1.0  ...     0.0     0.0     0.0     0.0     0.0     0.0     0.0   \n",
       "\n",
       "      753618  917486  688121  \n",
       "7157    -1.0    -1.0     0.0  \n",
       "5290     0.0     0.0     0.0  \n",
       "3845     0.0     1.0     0.0  \n",
       "4893     0.0     0.0     0.0  \n",
       "\n",
       "[4 rows x 1001 columns]"
      ]
     },
     "execution_count": 21,
     "metadata": {},
     "output_type": "execute_result"
    }
   ],
   "source": [
    "gdsc_scores = {}\n",
    "for sample in list(set(gdsc_hugo[\"COSMIC_ID\"].values)):\n",
    "    df = gdsc_hugo.loc[gdsc_hugo[\"COSMIC_ID\"] == sample,:]\n",
    "    gdsc_scores[sample] = mutations2score(df, TSG_entrez,OG_entrez, hotspots, w= 0.05)\n",
    "gdsc_scores = pd.DataFrame.from_dict(gdsc_scores)\n",
    "gdsc_scores.fillna(0,inplace=True)\n",
    "#import seaborn as sns\n",
    "#sns.heatmap(gdsc_scores.loc[[7157,5290,3845,2312,4893],:])\n",
    "gdsc_scores.to_csv(\"preprocessed/non_bin_mutations.tsv\",sep = \"\\t\")\n",
    "gdsc_scores.loc[[7157,5290,3845,4893],:]"
   ]
  },
  {
   "cell_type": "code",
   "execution_count": 22,
   "metadata": {},
   "outputs": [
    {
     "data": {
      "text/html": [
       "<div>\n",
       "<style scoped>\n",
       "    .dataframe tbody tr th:only-of-type {\n",
       "        vertical-align: middle;\n",
       "    }\n",
       "\n",
       "    .dataframe tbody tr th {\n",
       "        vertical-align: top;\n",
       "    }\n",
       "\n",
       "    .dataframe thead th {\n",
       "        text-align: right;\n",
       "    }\n",
       "</style>\n",
       "<table border=\"1\" class=\"dataframe\">\n",
       "  <thead>\n",
       "    <tr style=\"text-align: right;\">\n",
       "      <th></th>\n",
       "      <th>907268</th>\n",
       "      <th>907269</th>\n",
       "      <th>907270</th>\n",
       "      <th>907271</th>\n",
       "      <th>907272</th>\n",
       "      <th>907273</th>\n",
       "      <th>907274</th>\n",
       "      <th>907275</th>\n",
       "      <th>907276</th>\n",
       "      <th>907277</th>\n",
       "      <th>...</th>\n",
       "      <th>753620</th>\n",
       "      <th>753621</th>\n",
       "      <th>688086</th>\n",
       "      <th>753623</th>\n",
       "      <th>753622</th>\n",
       "      <th>753624</th>\n",
       "      <th>688087</th>\n",
       "      <th>753618</th>\n",
       "      <th>917486</th>\n",
       "      <th>688121</th>\n",
       "    </tr>\n",
       "  </thead>\n",
       "  <tbody>\n",
       "    <tr>\n",
       "      <th>7157</th>\n",
       "      <td>1.0</td>\n",
       "      <td>0.0</td>\n",
       "      <td>0.0</td>\n",
       "      <td>1.0</td>\n",
       "      <td>1.0</td>\n",
       "      <td>1.0</td>\n",
       "      <td>1.0</td>\n",
       "      <td>1.0</td>\n",
       "      <td>0.0</td>\n",
       "      <td>1.0</td>\n",
       "      <td>...</td>\n",
       "      <td>0.0</td>\n",
       "      <td>1.0</td>\n",
       "      <td>1.0</td>\n",
       "      <td>1.0</td>\n",
       "      <td>1.0</td>\n",
       "      <td>1.0</td>\n",
       "      <td>1.0</td>\n",
       "      <td>1.0</td>\n",
       "      <td>1.0</td>\n",
       "      <td>0.0</td>\n",
       "    </tr>\n",
       "    <tr>\n",
       "      <th>5290</th>\n",
       "      <td>0.0</td>\n",
       "      <td>0.0</td>\n",
       "      <td>0.0</td>\n",
       "      <td>0.0</td>\n",
       "      <td>1.0</td>\n",
       "      <td>0.0</td>\n",
       "      <td>0.0</td>\n",
       "      <td>0.0</td>\n",
       "      <td>0.0</td>\n",
       "      <td>0.0</td>\n",
       "      <td>...</td>\n",
       "      <td>0.0</td>\n",
       "      <td>0.0</td>\n",
       "      <td>0.0</td>\n",
       "      <td>0.0</td>\n",
       "      <td>0.0</td>\n",
       "      <td>0.0</td>\n",
       "      <td>0.0</td>\n",
       "      <td>0.0</td>\n",
       "      <td>0.0</td>\n",
       "      <td>0.0</td>\n",
       "    </tr>\n",
       "    <tr>\n",
       "      <th>3845</th>\n",
       "      <td>0.0</td>\n",
       "      <td>0.0</td>\n",
       "      <td>0.0</td>\n",
       "      <td>0.0</td>\n",
       "      <td>0.0</td>\n",
       "      <td>0.0</td>\n",
       "      <td>0.0</td>\n",
       "      <td>0.0</td>\n",
       "      <td>0.0</td>\n",
       "      <td>0.0</td>\n",
       "      <td>...</td>\n",
       "      <td>0.0</td>\n",
       "      <td>0.0</td>\n",
       "      <td>0.0</td>\n",
       "      <td>0.0</td>\n",
       "      <td>0.0</td>\n",
       "      <td>1.0</td>\n",
       "      <td>0.0</td>\n",
       "      <td>0.0</td>\n",
       "      <td>1.0</td>\n",
       "      <td>0.0</td>\n",
       "    </tr>\n",
       "    <tr>\n",
       "      <th>2312</th>\n",
       "      <td>1.0</td>\n",
       "      <td>0.0</td>\n",
       "      <td>0.0</td>\n",
       "      <td>1.0</td>\n",
       "      <td>0.0</td>\n",
       "      <td>1.0</td>\n",
       "      <td>0.0</td>\n",
       "      <td>0.0</td>\n",
       "      <td>0.0</td>\n",
       "      <td>0.0</td>\n",
       "      <td>...</td>\n",
       "      <td>1.0</td>\n",
       "      <td>1.0</td>\n",
       "      <td>0.0</td>\n",
       "      <td>0.0</td>\n",
       "      <td>0.0</td>\n",
       "      <td>1.0</td>\n",
       "      <td>0.0</td>\n",
       "      <td>0.0</td>\n",
       "      <td>0.0</td>\n",
       "      <td>0.0</td>\n",
       "    </tr>\n",
       "    <tr>\n",
       "      <th>4893</th>\n",
       "      <td>0.0</td>\n",
       "      <td>0.0</td>\n",
       "      <td>0.0</td>\n",
       "      <td>0.0</td>\n",
       "      <td>0.0</td>\n",
       "      <td>0.0</td>\n",
       "      <td>0.0</td>\n",
       "      <td>0.0</td>\n",
       "      <td>0.0</td>\n",
       "      <td>1.0</td>\n",
       "      <td>...</td>\n",
       "      <td>0.0</td>\n",
       "      <td>0.0</td>\n",
       "      <td>0.0</td>\n",
       "      <td>0.0</td>\n",
       "      <td>0.0</td>\n",
       "      <td>0.0</td>\n",
       "      <td>0.0</td>\n",
       "      <td>0.0</td>\n",
       "      <td>0.0</td>\n",
       "      <td>0.0</td>\n",
       "    </tr>\n",
       "  </tbody>\n",
       "</table>\n",
       "<p>5 rows × 1001 columns</p>\n",
       "</div>"
      ],
      "text/plain": [
       "      907268  907269  907270  907271  907272  907273  907274  907275  907276  \\\n",
       "7157     1.0     0.0     0.0     1.0     1.0     1.0     1.0     1.0     0.0   \n",
       "5290     0.0     0.0     0.0     0.0     1.0     0.0     0.0     0.0     0.0   \n",
       "3845     0.0     0.0     0.0     0.0     0.0     0.0     0.0     0.0     0.0   \n",
       "2312     1.0     0.0     0.0     1.0     0.0     1.0     0.0     0.0     0.0   \n",
       "4893     0.0     0.0     0.0     0.0     0.0     0.0     0.0     0.0     0.0   \n",
       "\n",
       "      907277  ...  753620  753621  688086  753623  753622  753624  688087  \\\n",
       "7157     1.0  ...     0.0     1.0     1.0     1.0     1.0     1.0     1.0   \n",
       "5290     0.0  ...     0.0     0.0     0.0     0.0     0.0     0.0     0.0   \n",
       "3845     0.0  ...     0.0     0.0     0.0     0.0     0.0     1.0     0.0   \n",
       "2312     0.0  ...     1.0     1.0     0.0     0.0     0.0     1.0     0.0   \n",
       "4893     1.0  ...     0.0     0.0     0.0     0.0     0.0     0.0     0.0   \n",
       "\n",
       "      753618  917486  688121  \n",
       "7157     1.0     1.0     0.0  \n",
       "5290     0.0     0.0     0.0  \n",
       "3845     0.0     1.0     0.0  \n",
       "2312     0.0     0.0     0.0  \n",
       "4893     0.0     0.0     0.0  \n",
       "\n",
       "[5 rows x 1001 columns]"
      ]
     },
     "execution_count": 22,
     "metadata": {},
     "output_type": "execute_result"
    }
   ],
   "source": [
    "gdsc_scores = gdsc_scores.applymap(lambda x: binarize(x))\n",
    "gdsc_scores.to_csv(\"preprocessed/GDSC.binary_mutations.tsv\",sep = \"\\t\")\n",
    "gdsc_scores.loc[[7157,5290,3845,2312,4893],:]"
   ]
  },
  {
   "cell_type": "markdown",
   "metadata": {},
   "source": [
    "### PDX"
   ]
  },
  {
   "cell_type": "code",
   "execution_count": 23,
   "metadata": {},
   "outputs": [
    {
     "name": "stdout",
     "output_type": "stream",
     "text": [
      "(262091, 5)\n"
     ]
    },
    {
     "data": {
      "text/html": [
       "<div>\n",
       "<style scoped>\n",
       "    .dataframe tbody tr th:only-of-type {\n",
       "        vertical-align: middle;\n",
       "    }\n",
       "\n",
       "    .dataframe tbody tr th {\n",
       "        vertical-align: top;\n",
       "    }\n",
       "\n",
       "    .dataframe thead th {\n",
       "        text-align: right;\n",
       "    }\n",
       "</style>\n",
       "<table border=\"1\" class=\"dataframe\">\n",
       "  <thead>\n",
       "    <tr style=\"text-align: right;\">\n",
       "      <th></th>\n",
       "      <th>Sample</th>\n",
       "      <th>Gene</th>\n",
       "      <th>Entrez</th>\n",
       "      <th>Category</th>\n",
       "      <th>Details</th>\n",
       "    </tr>\n",
       "  </thead>\n",
       "  <tbody>\n",
       "    <tr>\n",
       "      <th>0</th>\n",
       "      <td>X-1004</td>\n",
       "      <td>A2LD1</td>\n",
       "      <td>87769</td>\n",
       "      <td>Amp5</td>\n",
       "      <td>5.74</td>\n",
       "    </tr>\n",
       "    <tr>\n",
       "      <th>1</th>\n",
       "      <td>X-1004</td>\n",
       "      <td>ABCA4</td>\n",
       "      <td>24</td>\n",
       "      <td>MutNovel</td>\n",
       "      <td>K1831N,0.550</td>\n",
       "    </tr>\n",
       "    <tr>\n",
       "      <th>2</th>\n",
       "      <td>X-1004</td>\n",
       "      <td>ABCC13</td>\n",
       "      <td>150000</td>\n",
       "      <td>Amp8</td>\n",
       "      <td>8</td>\n",
       "    </tr>\n",
       "    <tr>\n",
       "      <th>3</th>\n",
       "      <td>X-1004</td>\n",
       "      <td>ABHD13</td>\n",
       "      <td>84945</td>\n",
       "      <td>Amp5</td>\n",
       "      <td>6.06</td>\n",
       "    </tr>\n",
       "    <tr>\n",
       "      <th>4</th>\n",
       "      <td>X-1004</td>\n",
       "      <td>ABTB1</td>\n",
       "      <td>80325</td>\n",
       "      <td>Amp5</td>\n",
       "      <td>6.82</td>\n",
       "    </tr>\n",
       "  </tbody>\n",
       "</table>\n",
       "</div>"
      ],
      "text/plain": [
       "   Sample    Gene  Entrez  Category       Details\n",
       "0  X-1004   A2LD1   87769      Amp5          5.74\n",
       "1  X-1004   ABCA4      24  MutNovel  K1831N,0.550\n",
       "2  X-1004  ABCC13  150000      Amp8             8\n",
       "3  X-1004  ABHD13   84945      Amp5          6.06\n",
       "4  X-1004   ABTB1   80325      Amp5          6.82"
      ]
     },
     "execution_count": 23,
     "metadata": {},
     "output_type": "execute_result"
    }
   ],
   "source": [
    "\n",
    "pdx = pd.read_excel(\"data/PDX/nm.3954-S2.xlsx\",\"pdxe_mut_and_cn2\")\n",
    "print(pdx.shape)\n",
    "pdx.head(5)"
   ]
  },
  {
   "cell_type": "code",
   "execution_count": 24,
   "metadata": {},
   "outputs": [
    {
     "data": {
      "text/plain": [
       "Category\n",
       "Amp5                    51450\n",
       "Amp8                     9629\n",
       "Del0.8                  77022\n",
       "MutKnownFunctional      11002\n",
       "MutLikelyFunctional       172\n",
       "MutNovel               112816\n",
       "dtype: int64"
      ]
     },
     "execution_count": 24,
     "metadata": {},
     "output_type": "execute_result"
    }
   ],
   "source": [
    "pdx.groupby(\"Category\").size()"
   ]
  },
  {
   "cell_type": "code",
   "execution_count": 25,
   "metadata": {},
   "outputs": [
    {
     "name": "stdout",
     "output_type": "stream",
     "text": [
      "(123844, 5)\n",
      "67 gene IDs were converted to datetimes Excel.\n"
     ]
    }
   ],
   "source": [
    "# remove CNA, drop duplicated records\n",
    "pdx = pdx.loc[~pdx[\"Category\"].isin([\"Amp5\",\"Amp8\",\"Del0.8\"]),:]\n",
    "pdx = pdx.drop_duplicates()\n",
    "print(pdx.shape)\n",
    "df_size = pdx.shape[0]\n",
    "# datetime genes\n",
    "datetimes = pdx[\"Gene\"].apply(lambda x : type(x) == str or type(x) == str)\n",
    "datetimes = datetimes[~datetimes].index\n",
    "pdx_ = pdx.loc[datetimes,:]\n",
    "pdx_ = pdx_.loc[pdx_[\"Entrez\"]!=\"None\",:]\n",
    "pdx_[\"Entrez_gene_ID\"] = pdx_[\"Entrez\"].apply(int)\n",
    "pdx_[\"Gene\"] = pdx_[\"Gene\"].apply(str)\n",
    "pdx = pdx.loc[~pdx.index.isin(datetimes),:]\n",
    "print(df_size - pdx.shape[0],\"gene IDs were converted to datetimes Excel.\")\n",
    "#pdx.head(5)"
   ]
  },
  {
   "cell_type": "code",
   "execution_count": 26,
   "metadata": {},
   "outputs": [
    {
     "name": "stdout",
     "output_type": "stream",
     "text": [
      "mutated genes in PDX cohort 15214\n",
      "Mapped: 15048 \n",
      "\tdirectly via main_mapper 13906 \n",
      "\tvia alternative mapper 271 \n",
      "\tvia one of multiple synonyms in alternative mapper 782 \n",
      "\tLOC 89 \n",
      "Unmapped: 166 \n",
      "\trecognized symbols without Entrez ID 0 \n",
      "\tmultiple query_ids map to the same target_id 0 \n",
      "\tquery_ids map to multiple target_ids in the main mapper 0 \n",
      "\tquery_ids map to multiple target_ids in the alternative mapper 40 \n",
      "\tLOC not found in Entrez 117 \n",
      "\tNot found at all: 9\n",
      "Warning: query IDs mapping to duplicated target IDs in mapping table: 42\n",
      "Warning: query IDs not mapped to any target IDs excluded: 166\n"
     ]
    },
    {
     "name": "stderr",
     "output_type": "stream",
     "text": [
      "IDs mapped to multiple target IDs are kept:\n",
      " [143872, 286464, 653067, 284565, 144535, 284697, 341019, 4253, 51236, 440107, 644019, 6218, 84316, 200030, 6241, 119016, 84458, 374, 445815, 79741]\n"
     ]
    },
    {
     "data": {
      "text/html": [
       "<div>\n",
       "<style scoped>\n",
       "    .dataframe tbody tr th:only-of-type {\n",
       "        vertical-align: middle;\n",
       "    }\n",
       "\n",
       "    .dataframe tbody tr th {\n",
       "        vertical-align: top;\n",
       "    }\n",
       "\n",
       "    .dataframe thead th {\n",
       "        text-align: right;\n",
       "    }\n",
       "</style>\n",
       "<table border=\"1\" class=\"dataframe\">\n",
       "  <thead>\n",
       "    <tr style=\"text-align: right;\">\n",
       "      <th></th>\n",
       "      <th>Sample</th>\n",
       "      <th>Gene</th>\n",
       "      <th>Entrez</th>\n",
       "      <th>Category</th>\n",
       "      <th>Details</th>\n",
       "      <th>Entrez_gene_ID</th>\n",
       "    </tr>\n",
       "  </thead>\n",
       "  <tbody>\n",
       "    <tr>\n",
       "      <th>1</th>\n",
       "      <td>X-1004</td>\n",
       "      <td>ABCA4</td>\n",
       "      <td>24</td>\n",
       "      <td>MutNovel</td>\n",
       "      <td>K1831N,0.550</td>\n",
       "      <td>24</td>\n",
       "    </tr>\n",
       "    <tr>\n",
       "      <th>8</th>\n",
       "      <td>X-1004</td>\n",
       "      <td>ADAM17</td>\n",
       "      <td>6868</td>\n",
       "      <td>MutNovel</td>\n",
       "      <td>P799T,1.000</td>\n",
       "      <td>6868</td>\n",
       "    </tr>\n",
       "    <tr>\n",
       "      <th>16</th>\n",
       "      <td>X-1004</td>\n",
       "      <td>ADCK1</td>\n",
       "      <td>57143</td>\n",
       "      <td>MutNovel</td>\n",
       "      <td>D52G,1.000</td>\n",
       "      <td>57143</td>\n",
       "    </tr>\n",
       "    <tr>\n",
       "      <th>17</th>\n",
       "      <td>X-1004</td>\n",
       "      <td>ADNP</td>\n",
       "      <td>23394</td>\n",
       "      <td>MutNovel</td>\n",
       "      <td>R784T,0.223</td>\n",
       "      <td>23394</td>\n",
       "    </tr>\n",
       "    <tr>\n",
       "      <th>21</th>\n",
       "      <td>X-1004</td>\n",
       "      <td>AK1</td>\n",
       "      <td>203</td>\n",
       "      <td>MutNovel</td>\n",
       "      <td>K27N,0.430</td>\n",
       "      <td>203</td>\n",
       "    </tr>\n",
       "    <tr>\n",
       "      <th>...</th>\n",
       "      <td>...</td>\n",
       "      <td>...</td>\n",
       "      <td>...</td>\n",
       "      <td>...</td>\n",
       "      <td>...</td>\n",
       "      <td>...</td>\n",
       "    </tr>\n",
       "    <tr>\n",
       "      <th>227316</th>\n",
       "      <td>X-4378</td>\n",
       "      <td>2014-03-09 00:00:00</td>\n",
       "      <td>92979</td>\n",
       "      <td>MutNovel</td>\n",
       "      <td>T107I,0.400</td>\n",
       "      <td>92979</td>\n",
       "    </tr>\n",
       "    <tr>\n",
       "      <th>253499</th>\n",
       "      <td>X-4597</td>\n",
       "      <td>2014-09-07 00:00:00</td>\n",
       "      <td>989</td>\n",
       "      <td>MutNovel</td>\n",
       "      <td>L199F,0.484</td>\n",
       "      <td>989</td>\n",
       "    </tr>\n",
       "    <tr>\n",
       "      <th>257519</th>\n",
       "      <td>X-4979</td>\n",
       "      <td>2014-09-10 00:00:00</td>\n",
       "      <td>151011</td>\n",
       "      <td>MutNovel</td>\n",
       "      <td>R278C,0.524</td>\n",
       "      <td>151011</td>\n",
       "    </tr>\n",
       "    <tr>\n",
       "      <th>259068</th>\n",
       "      <td>X-5273</td>\n",
       "      <td>2014-09-08 00:00:00</td>\n",
       "      <td>23176</td>\n",
       "      <td>MutNovel</td>\n",
       "      <td>V384M,0.488</td>\n",
       "      <td>23176</td>\n",
       "    </tr>\n",
       "    <tr>\n",
       "      <th>259069</th>\n",
       "      <td>X-5273</td>\n",
       "      <td>2014-09-08 00:00:00</td>\n",
       "      <td>23176</td>\n",
       "      <td>MutNovel</td>\n",
       "      <td>P85F,0.564</td>\n",
       "      <td>23176</td>\n",
       "    </tr>\n",
       "  </tbody>\n",
       "</table>\n",
       "<p>122124 rows × 6 columns</p>\n",
       "</div>"
      ],
      "text/plain": [
       "        Sample                 Gene  Entrez  Category       Details  \\\n",
       "1       X-1004                ABCA4      24  MutNovel  K1831N,0.550   \n",
       "8       X-1004               ADAM17    6868  MutNovel   P799T,1.000   \n",
       "16      X-1004                ADCK1   57143  MutNovel    D52G,1.000   \n",
       "17      X-1004                 ADNP   23394  MutNovel   R784T,0.223   \n",
       "21      X-1004                  AK1     203  MutNovel    K27N,0.430   \n",
       "...        ...                  ...     ...       ...           ...   \n",
       "227316  X-4378  2014-03-09 00:00:00   92979  MutNovel   T107I,0.400   \n",
       "253499  X-4597  2014-09-07 00:00:00     989  MutNovel   L199F,0.484   \n",
       "257519  X-4979  2014-09-10 00:00:00  151011  MutNovel   R278C,0.524   \n",
       "259068  X-5273  2014-09-08 00:00:00   23176  MutNovel   V384M,0.488   \n",
       "259069  X-5273  2014-09-08 00:00:00   23176  MutNovel    P85F,0.564   \n",
       "\n",
       "       Entrez_gene_ID  \n",
       "1                  24  \n",
       "8                6868  \n",
       "16              57143  \n",
       "17              23394  \n",
       "21                203  \n",
       "...               ...  \n",
       "227316          92979  \n",
       "253499            989  \n",
       "257519         151011  \n",
       "259068          23176  \n",
       "259069          23176  \n",
       "\n",
       "[122124 rows x 6 columns]"
      ]
     },
     "execution_count": 26,
     "metadata": {},
     "output_type": "execute_result"
    }
   ],
   "source": [
    "# annotate genes \n",
    "PDX_genes = pdx[[\"Gene\"]].copy()\n",
    "PDX_genes.drop_duplicates(inplace = True)\n",
    "print(\"mutated genes in PDX cohort\",PDX_genes.shape[0])\n",
    "PDX_genes.set_index(\"Gene\",drop=False,inplace=True)\n",
    "# rename with mapper \n",
    "PDX_genes, query2target, not_mapped = apply_mappers(PDX_genes, ncbi_symbols, ncbi_synonyms, verbose = True,handle_duplicates = \"keep\")\n",
    "pdx = pdx.loc[~pdx[\"Gene\"].isin(not_mapped),:]\n",
    "pdx[\"Entrez_gene_ID\"] = pdx[\"Gene\"].apply(lambda x : query2target[x])\n",
    "\n",
    "# keep not mapped genes with Entrez IDs provided\n",
    "pdx_not_mapped = pdx.loc[pdx[\"Gene\"].isin(not_mapped),:]\n",
    "pdx_not_mapped = pdx_not_mapped.loc[pdx_not_mapped[\"Entrez\"]!=\"None\",:]\n",
    "pdx_not_mapped[\"Entrez_gene_ID\"] = pdx_not_mapped[\"Entrez\"].apply(int)\n",
    "\n",
    "# concatenate \n",
    "pdx = pd.concat([pdx,pdx_,pdx_not_mapped],axis=0)\n",
    "pdx"
   ]
  },
  {
   "cell_type": "code",
   "execution_count": 27,
   "metadata": {},
   "outputs": [
    {
     "data": {
      "text/html": [
       "<div>\n",
       "<style scoped>\n",
       "    .dataframe tbody tr th:only-of-type {\n",
       "        vertical-align: middle;\n",
       "    }\n",
       "\n",
       "    .dataframe tbody tr th {\n",
       "        vertical-align: top;\n",
       "    }\n",
       "\n",
       "    .dataframe thead th {\n",
       "        text-align: right;\n",
       "    }\n",
       "</style>\n",
       "<table border=\"1\" class=\"dataframe\">\n",
       "  <thead>\n",
       "    <tr style=\"text-align: right;\">\n",
       "      <th></th>\n",
       "      <th>Sample</th>\n",
       "      <th>Entrez_gene_ID</th>\n",
       "      <th>Details</th>\n",
       "      <th>Gene</th>\n",
       "      <th>Category</th>\n",
       "    </tr>\n",
       "  </thead>\n",
       "  <tbody>\n",
       "    <tr>\n",
       "      <th>1</th>\n",
       "      <td>X-1004</td>\n",
       "      <td>24</td>\n",
       "      <td>K1831N,0.550</td>\n",
       "      <td>ABCA4</td>\n",
       "      <td>MutNovel</td>\n",
       "    </tr>\n",
       "    <tr>\n",
       "      <th>21</th>\n",
       "      <td>X-1004</td>\n",
       "      <td>203</td>\n",
       "      <td>K27N,0.430</td>\n",
       "      <td>AK1</td>\n",
       "      <td>MutNovel</td>\n",
       "    </tr>\n",
       "    <tr>\n",
       "      <th>41</th>\n",
       "      <td>X-1004</td>\n",
       "      <td>310</td>\n",
       "      <td>I283V,0.565</td>\n",
       "      <td>ANXA7</td>\n",
       "      <td>MutNovel</td>\n",
       "    </tr>\n",
       "    <tr>\n",
       "      <th>52</th>\n",
       "      <td>X-1004</td>\n",
       "      <td>460</td>\n",
       "      <td>S1091C,0.443</td>\n",
       "      <td>ASTN1</td>\n",
       "      <td>MutNovel</td>\n",
       "    </tr>\n",
       "    <tr>\n",
       "      <th>57</th>\n",
       "      <td>X-1004</td>\n",
       "      <td>546</td>\n",
       "      <td>P711A,1.000</td>\n",
       "      <td>ATRX</td>\n",
       "      <td>MutNovel</td>\n",
       "    </tr>\n",
       "  </tbody>\n",
       "</table>\n",
       "</div>"
      ],
      "text/plain": [
       "    Sample Entrez_gene_ID       Details   Gene  Category\n",
       "1   X-1004             24  K1831N,0.550  ABCA4  MutNovel\n",
       "21  X-1004            203    K27N,0.430    AK1  MutNovel\n",
       "41  X-1004            310   I283V,0.565  ANXA7  MutNovel\n",
       "52  X-1004            460  S1091C,0.443  ASTN1  MutNovel\n",
       "57  X-1004            546   P711A,1.000   ATRX  MutNovel"
      ]
     },
     "execution_count": 27,
     "metadata": {},
     "output_type": "execute_result"
    }
   ],
   "source": [
    "# define positions and mutation types\n",
    "pdx = pdx.sort_values([\"Sample\",\"Entrez_gene_ID\"])\n",
    "pdx = pdx.loc[:,[\"Sample\",\"Entrez_gene_ID\",\"Details\",\"Gene\",\"Category\"]]\n",
    "pdx.head(5)"
   ]
  },
  {
   "cell_type": "code",
   "execution_count": 28,
   "metadata": {},
   "outputs": [
    {
     "data": {
      "text/plain": [
       "Classification\n",
       "missense                   99077\n",
       "inframe_indel               8558\n",
       "unrecognized_truncating     4612\n",
       "stop_gain_or_fs             3786\n",
       "unrecognized_point2         2245\n",
       "ess_splice                  2203\n",
       "unrecognized_point          1643\n",
       "dtype: int64"
      ]
     },
     "execution_count": 28,
     "metadata": {},
     "output_type": "execute_result"
    }
   ],
   "source": [
    "# guess mutation type from \"Details\" field\n",
    "def guess_mut_type(x):\n",
    "    mut = x.split(\",\")[0]\n",
    "    missense_pattern = re.compile(\"^[A-Z][0-9]+[A-Z]$\")\n",
    "    indel_pattern = re.compile(\"^[A-Z]+[0-9]+[A-Z]+$\")\n",
    "    #stop_gain_pattern = re.compile(\"^[A-Z][0-9]+\\*$\")\n",
    "    if bool(re.match(missense_pattern ,mut)): # missense\n",
    "        return \"missense\"\n",
    "    elif bool(re.match(indel_pattern ,mut)): # indel inframe\n",
    "        return \"inframe_indel\"\n",
    "    elif \"*\" in mut: #bool(re.match(stop_gain_pattern,mut)): \n",
    "        return \"stop_gain_or_fs\" #print(mut)\n",
    "    elif \"?\" in mut: # splice_site\n",
    "        return \"ess_splice\" #print(mut)\n",
    "    elif bool(re.match(re.compile(\"^\\-[0-9]+[A-Z]+$\"),mut)): # -64Q - always MutNovel\n",
    "        return \"unrecognized_point\"\n",
    "    elif bool(re.match(re.compile(\"^\\-[0-9]+$\"),mut)): # -509 mostly MutKnownFunctional\n",
    "        return \"unrecognized_truncating\"\n",
    "    elif bool(re.match(re.compile(\"^[A-Z]+[0-9]+\\-$\"),mut)):  #Q72- mutNovel\n",
    "        return \"unrecognized_point2\"\n",
    "    else:\n",
    "        return \"unrecognized\"\n",
    "#for d in pdx[\"Details\"].values:\n",
    "    \n",
    "pdx[\"Classification\"] = pdx[\"Details\"].apply(guess_mut_type)\n",
    "#pdx.loc[pdx[\"Classification\"].str.contains(\"unrecognized\"),:].groupby([\"Category\",\"Classification\"]).size()\n",
    "pdx.groupby([\"Classification\"]).size().sort_values(ascending = False)\n",
    "#pdx.loc[pdx[\"Classification\"]==\"unrecognized\",:]"
   ]
  },
  {
   "cell_type": "code",
   "execution_count": 29,
   "metadata": {},
   "outputs": [
    {
     "data": {
      "text/plain": [
       "function\n",
       "point_mutation         111523\n",
       "truncating_mutation     10601\n",
       "dtype: int64"
      ]
     },
     "execution_count": 29,
     "metadata": {},
     "output_type": "execute_result"
    }
   ],
   "source": [
    "pdx_truncating = ['stop_gain_or_fs','ess_splice',\"unrecognized_truncating\"]\n",
    "pdx_point = ['missense','inframe_indel','unrecognized_point','unrecognized_point2']\n",
    "pdx.loc[pdx[\"Classification\"].isin(pdx_truncating),\"function\"] = \"truncating_mutation\"\n",
    "pdx.loc[pdx[\"Classification\"].isin(pdx_point),\"function\"] = \"point_mutation\"\n",
    "pdx.groupby([\"function\"]).size().sort_values(ascending = False)"
   ]
  },
  {
   "cell_type": "code",
   "execution_count": 30,
   "metadata": {},
   "outputs": [
    {
     "data": {
      "text/html": [
       "<div>\n",
       "<style scoped>\n",
       "    .dataframe tbody tr th:only-of-type {\n",
       "        vertical-align: middle;\n",
       "    }\n",
       "\n",
       "    .dataframe tbody tr th {\n",
       "        vertical-align: top;\n",
       "    }\n",
       "\n",
       "    .dataframe thead th {\n",
       "        text-align: right;\n",
       "    }\n",
       "</style>\n",
       "<table border=\"1\" class=\"dataframe\">\n",
       "  <thead>\n",
       "    <tr style=\"text-align: right;\">\n",
       "      <th></th>\n",
       "      <th>Sample</th>\n",
       "      <th>Entrez_gene_ID</th>\n",
       "      <th>Details</th>\n",
       "      <th>Gene</th>\n",
       "      <th>Category</th>\n",
       "      <th>Classification</th>\n",
       "      <th>function</th>\n",
       "      <th>aa_change</th>\n",
       "      <th>aa_pos</th>\n",
       "    </tr>\n",
       "  </thead>\n",
       "  <tbody>\n",
       "    <tr>\n",
       "      <th>1</th>\n",
       "      <td>X-1004</td>\n",
       "      <td>24</td>\n",
       "      <td>K1831N,0.550</td>\n",
       "      <td>ABCA4</td>\n",
       "      <td>MutNovel</td>\n",
       "      <td>missense</td>\n",
       "      <td>point_mutation</td>\n",
       "      <td>K1831N</td>\n",
       "      <td>(1831, 1831)</td>\n",
       "    </tr>\n",
       "    <tr>\n",
       "      <th>21</th>\n",
       "      <td>X-1004</td>\n",
       "      <td>203</td>\n",
       "      <td>K27N,0.430</td>\n",
       "      <td>AK1</td>\n",
       "      <td>MutNovel</td>\n",
       "      <td>missense</td>\n",
       "      <td>point_mutation</td>\n",
       "      <td>K27N</td>\n",
       "      <td>(27, 27)</td>\n",
       "    </tr>\n",
       "    <tr>\n",
       "      <th>41</th>\n",
       "      <td>X-1004</td>\n",
       "      <td>310</td>\n",
       "      <td>I283V,0.565</td>\n",
       "      <td>ANXA7</td>\n",
       "      <td>MutNovel</td>\n",
       "      <td>missense</td>\n",
       "      <td>point_mutation</td>\n",
       "      <td>I283V</td>\n",
       "      <td>(283, 283)</td>\n",
       "    </tr>\n",
       "    <tr>\n",
       "      <th>52</th>\n",
       "      <td>X-1004</td>\n",
       "      <td>460</td>\n",
       "      <td>S1091C,0.443</td>\n",
       "      <td>ASTN1</td>\n",
       "      <td>MutNovel</td>\n",
       "      <td>missense</td>\n",
       "      <td>point_mutation</td>\n",
       "      <td>S1091C</td>\n",
       "      <td>(1091, 1091)</td>\n",
       "    </tr>\n",
       "    <tr>\n",
       "      <th>57</th>\n",
       "      <td>X-1004</td>\n",
       "      <td>546</td>\n",
       "      <td>P711A,1.000</td>\n",
       "      <td>ATRX</td>\n",
       "      <td>MutNovel</td>\n",
       "      <td>missense</td>\n",
       "      <td>point_mutation</td>\n",
       "      <td>P711A</td>\n",
       "      <td>(711, 711)</td>\n",
       "    </tr>\n",
       "  </tbody>\n",
       "</table>\n",
       "</div>"
      ],
      "text/plain": [
       "    Sample Entrez_gene_ID       Details   Gene  Category Classification  \\\n",
       "1   X-1004             24  K1831N,0.550  ABCA4  MutNovel       missense   \n",
       "21  X-1004            203    K27N,0.430    AK1  MutNovel       missense   \n",
       "41  X-1004            310   I283V,0.565  ANXA7  MutNovel       missense   \n",
       "52  X-1004            460  S1091C,0.443  ASTN1  MutNovel       missense   \n",
       "57  X-1004            546   P711A,1.000   ATRX  MutNovel       missense   \n",
       "\n",
       "          function aa_change        aa_pos  \n",
       "1   point_mutation    K1831N  (1831, 1831)  \n",
       "21  point_mutation      K27N      (27, 27)  \n",
       "41  point_mutation     I283V    (283, 283)  \n",
       "52  point_mutation    S1091C  (1091, 1091)  \n",
       "57  point_mutation     P711A    (711, 711)  "
      ]
     },
     "execution_count": 30,
     "metadata": {},
     "output_type": "execute_result"
    }
   ],
   "source": [
    "pdx[\"aa_change\"] = pdx[\"Details\"].apply(lambda x: x.split(\",\")[0])\n",
    "pdx[\"aa_pos\"] = pdx[\"aa_change\"].apply(lambda x : get_aa_pos_GDSC(x))\n",
    "pdx.head()"
   ]
  },
  {
   "cell_type": "code",
   "execution_count": 31,
   "metadata": {},
   "outputs": [
    {
     "data": {
      "text/html": [
       "<div>\n",
       "<style scoped>\n",
       "    .dataframe tbody tr th:only-of-type {\n",
       "        vertical-align: middle;\n",
       "    }\n",
       "\n",
       "    .dataframe tbody tr th {\n",
       "        vertical-align: top;\n",
       "    }\n",
       "\n",
       "    .dataframe thead th {\n",
       "        text-align: right;\n",
       "    }\n",
       "</style>\n",
       "<table border=\"1\" class=\"dataframe\">\n",
       "  <thead>\n",
       "    <tr style=\"text-align: right;\">\n",
       "      <th></th>\n",
       "      <th>X-3846</th>\n",
       "      <th>X-4132</th>\n",
       "      <th>X-1683</th>\n",
       "      <th>X-3127</th>\n",
       "      <th>X-5717</th>\n",
       "      <th>X-3782</th>\n",
       "      <th>X-3851</th>\n",
       "      <th>X-5578</th>\n",
       "      <th>X-1499</th>\n",
       "      <th>X-1834</th>\n",
       "      <th>...</th>\n",
       "      <th>X-3901</th>\n",
       "      <th>X-2991</th>\n",
       "      <th>X-2573</th>\n",
       "      <th>X-1169</th>\n",
       "      <th>X-3298</th>\n",
       "      <th>X-4073</th>\n",
       "      <th>X-1173</th>\n",
       "      <th>X-3604</th>\n",
       "      <th>X-1678</th>\n",
       "      <th>X-1538</th>\n",
       "    </tr>\n",
       "  </thead>\n",
       "  <tbody>\n",
       "    <tr>\n",
       "      <th>7157</th>\n",
       "      <td>-1.0</td>\n",
       "      <td>0.0</td>\n",
       "      <td>-1.0</td>\n",
       "      <td>0.0</td>\n",
       "      <td>-1.0</td>\n",
       "      <td>-1.0</td>\n",
       "      <td>-1.0</td>\n",
       "      <td>-1.0</td>\n",
       "      <td>-1.00</td>\n",
       "      <td>-1.00</td>\n",
       "      <td>...</td>\n",
       "      <td>-1.00</td>\n",
       "      <td>-1.0</td>\n",
       "      <td>-1.0</td>\n",
       "      <td>-1.0</td>\n",
       "      <td>-1.0</td>\n",
       "      <td>0.0</td>\n",
       "      <td>0.0</td>\n",
       "      <td>-1.0</td>\n",
       "      <td>0.0</td>\n",
       "      <td>0.0</td>\n",
       "    </tr>\n",
       "    <tr>\n",
       "      <th>5290</th>\n",
       "      <td>0.0</td>\n",
       "      <td>0.0</td>\n",
       "      <td>0.0</td>\n",
       "      <td>0.0</td>\n",
       "      <td>0.0</td>\n",
       "      <td>0.0</td>\n",
       "      <td>0.0</td>\n",
       "      <td>0.0</td>\n",
       "      <td>0.00</td>\n",
       "      <td>1.00</td>\n",
       "      <td>...</td>\n",
       "      <td>0.00</td>\n",
       "      <td>0.0</td>\n",
       "      <td>0.0</td>\n",
       "      <td>0.0</td>\n",
       "      <td>0.0</td>\n",
       "      <td>0.0</td>\n",
       "      <td>0.0</td>\n",
       "      <td>0.0</td>\n",
       "      <td>0.0</td>\n",
       "      <td>1.0</td>\n",
       "    </tr>\n",
       "    <tr>\n",
       "      <th>3845</th>\n",
       "      <td>1.0</td>\n",
       "      <td>0.0</td>\n",
       "      <td>0.0</td>\n",
       "      <td>0.0</td>\n",
       "      <td>1.0</td>\n",
       "      <td>1.0</td>\n",
       "      <td>0.0</td>\n",
       "      <td>0.0</td>\n",
       "      <td>0.00</td>\n",
       "      <td>0.00</td>\n",
       "      <td>...</td>\n",
       "      <td>0.00</td>\n",
       "      <td>0.0</td>\n",
       "      <td>1.0</td>\n",
       "      <td>0.0</td>\n",
       "      <td>0.0</td>\n",
       "      <td>0.0</td>\n",
       "      <td>1.0</td>\n",
       "      <td>0.0</td>\n",
       "      <td>0.0</td>\n",
       "      <td>1.0</td>\n",
       "    </tr>\n",
       "    <tr>\n",
       "      <th>2312</th>\n",
       "      <td>0.0</td>\n",
       "      <td>0.0</td>\n",
       "      <td>0.0</td>\n",
       "      <td>0.0</td>\n",
       "      <td>0.0</td>\n",
       "      <td>0.0</td>\n",
       "      <td>0.0</td>\n",
       "      <td>0.0</td>\n",
       "      <td>-0.05</td>\n",
       "      <td>-0.05</td>\n",
       "      <td>...</td>\n",
       "      <td>-0.05</td>\n",
       "      <td>0.0</td>\n",
       "      <td>0.0</td>\n",
       "      <td>0.0</td>\n",
       "      <td>0.0</td>\n",
       "      <td>0.0</td>\n",
       "      <td>0.0</td>\n",
       "      <td>0.0</td>\n",
       "      <td>0.0</td>\n",
       "      <td>0.0</td>\n",
       "    </tr>\n",
       "    <tr>\n",
       "      <th>4893</th>\n",
       "      <td>0.0</td>\n",
       "      <td>0.0</td>\n",
       "      <td>0.0</td>\n",
       "      <td>-1.0</td>\n",
       "      <td>0.0</td>\n",
       "      <td>0.0</td>\n",
       "      <td>0.0</td>\n",
       "      <td>0.0</td>\n",
       "      <td>0.00</td>\n",
       "      <td>0.00</td>\n",
       "      <td>...</td>\n",
       "      <td>0.00</td>\n",
       "      <td>0.0</td>\n",
       "      <td>0.0</td>\n",
       "      <td>0.0</td>\n",
       "      <td>0.0</td>\n",
       "      <td>0.0</td>\n",
       "      <td>-1.0</td>\n",
       "      <td>0.0</td>\n",
       "      <td>0.0</td>\n",
       "      <td>0.0</td>\n",
       "    </tr>\n",
       "  </tbody>\n",
       "</table>\n",
       "<p>5 rows × 399 columns</p>\n",
       "</div>"
      ],
      "text/plain": [
       "      X-3846  X-4132  X-1683  X-3127  X-5717  X-3782  X-3851  X-5578  X-1499  \\\n",
       "7157    -1.0     0.0    -1.0     0.0    -1.0    -1.0    -1.0    -1.0   -1.00   \n",
       "5290     0.0     0.0     0.0     0.0     0.0     0.0     0.0     0.0    0.00   \n",
       "3845     1.0     0.0     0.0     0.0     1.0     1.0     0.0     0.0    0.00   \n",
       "2312     0.0     0.0     0.0     0.0     0.0     0.0     0.0     0.0   -0.05   \n",
       "4893     0.0     0.0     0.0    -1.0     0.0     0.0     0.0     0.0    0.00   \n",
       "\n",
       "      X-1834  ...  X-3901  X-2991  X-2573  X-1169  X-3298  X-4073  X-1173  \\\n",
       "7157   -1.00  ...   -1.00    -1.0    -1.0    -1.0    -1.0     0.0     0.0   \n",
       "5290    1.00  ...    0.00     0.0     0.0     0.0     0.0     0.0     0.0   \n",
       "3845    0.00  ...    0.00     0.0     1.0     0.0     0.0     0.0     1.0   \n",
       "2312   -0.05  ...   -0.05     0.0     0.0     0.0     0.0     0.0     0.0   \n",
       "4893    0.00  ...    0.00     0.0     0.0     0.0     0.0     0.0    -1.0   \n",
       "\n",
       "      X-3604  X-1678  X-1538  \n",
       "7157    -1.0     0.0     0.0  \n",
       "5290     0.0     0.0     1.0  \n",
       "3845     0.0     0.0     1.0  \n",
       "2312     0.0     0.0     0.0  \n",
       "4893     0.0     0.0     0.0  \n",
       "\n",
       "[5 rows x 399 columns]"
      ]
     },
     "execution_count": 31,
     "metadata": {},
     "output_type": "execute_result"
    }
   ],
   "source": [
    "\n",
    "# calculate per gene scores: \n",
    "pdx_scores = {}\n",
    "for sample in list(set(pdx[\"Sample\"].values)):\n",
    "    df = pdx.loc[pdx[\"Sample\"] == sample,:]\n",
    "    pdx_scores[sample] = mutations2score(df, TSG_entrez,OG_entrez, hotspots, w=0.05)\n",
    "pdx_scores = pd.DataFrame.from_dict(pdx_scores)\n",
    "pdx_scores.fillna(0,inplace=True)\n",
    "\n",
    "pdx_scores.to_csv(\"preprocessed/PDX.non_bin_mutations.tsv\",sep = \"\\t\")\n",
    "pdx_scores.loc[[7157,5290,3845,2312,4893],:]"
   ]
  },
  {
   "cell_type": "code",
   "execution_count": 32,
   "metadata": {},
   "outputs": [
    {
     "data": {
      "text/html": [
       "<div>\n",
       "<style scoped>\n",
       "    .dataframe tbody tr th:only-of-type {\n",
       "        vertical-align: middle;\n",
       "    }\n",
       "\n",
       "    .dataframe tbody tr th {\n",
       "        vertical-align: top;\n",
       "    }\n",
       "\n",
       "    .dataframe thead th {\n",
       "        text-align: right;\n",
       "    }\n",
       "</style>\n",
       "<table border=\"1\" class=\"dataframe\">\n",
       "  <thead>\n",
       "    <tr style=\"text-align: right;\">\n",
       "      <th></th>\n",
       "      <th>X-3846</th>\n",
       "      <th>X-4132</th>\n",
       "      <th>X-1683</th>\n",
       "      <th>X-3127</th>\n",
       "      <th>X-5717</th>\n",
       "      <th>X-3782</th>\n",
       "      <th>X-3851</th>\n",
       "      <th>X-5578</th>\n",
       "      <th>X-1499</th>\n",
       "      <th>X-1834</th>\n",
       "      <th>...</th>\n",
       "      <th>X-3901</th>\n",
       "      <th>X-2991</th>\n",
       "      <th>X-2573</th>\n",
       "      <th>X-1169</th>\n",
       "      <th>X-3298</th>\n",
       "      <th>X-4073</th>\n",
       "      <th>X-1173</th>\n",
       "      <th>X-3604</th>\n",
       "      <th>X-1678</th>\n",
       "      <th>X-1538</th>\n",
       "    </tr>\n",
       "  </thead>\n",
       "  <tbody>\n",
       "    <tr>\n",
       "      <th>7157</th>\n",
       "      <td>1.0</td>\n",
       "      <td>0.0</td>\n",
       "      <td>1.0</td>\n",
       "      <td>0.0</td>\n",
       "      <td>1.0</td>\n",
       "      <td>1.0</td>\n",
       "      <td>1.0</td>\n",
       "      <td>1.0</td>\n",
       "      <td>1.0</td>\n",
       "      <td>1.0</td>\n",
       "      <td>...</td>\n",
       "      <td>1.0</td>\n",
       "      <td>1.0</td>\n",
       "      <td>1.0</td>\n",
       "      <td>1.0</td>\n",
       "      <td>1.0</td>\n",
       "      <td>0.0</td>\n",
       "      <td>0.0</td>\n",
       "      <td>1.0</td>\n",
       "      <td>0.0</td>\n",
       "      <td>0.0</td>\n",
       "    </tr>\n",
       "    <tr>\n",
       "      <th>5290</th>\n",
       "      <td>0.0</td>\n",
       "      <td>0.0</td>\n",
       "      <td>0.0</td>\n",
       "      <td>0.0</td>\n",
       "      <td>0.0</td>\n",
       "      <td>0.0</td>\n",
       "      <td>0.0</td>\n",
       "      <td>0.0</td>\n",
       "      <td>0.0</td>\n",
       "      <td>1.0</td>\n",
       "      <td>...</td>\n",
       "      <td>0.0</td>\n",
       "      <td>0.0</td>\n",
       "      <td>0.0</td>\n",
       "      <td>0.0</td>\n",
       "      <td>0.0</td>\n",
       "      <td>0.0</td>\n",
       "      <td>0.0</td>\n",
       "      <td>0.0</td>\n",
       "      <td>0.0</td>\n",
       "      <td>1.0</td>\n",
       "    </tr>\n",
       "    <tr>\n",
       "      <th>3845</th>\n",
       "      <td>1.0</td>\n",
       "      <td>0.0</td>\n",
       "      <td>0.0</td>\n",
       "      <td>0.0</td>\n",
       "      <td>1.0</td>\n",
       "      <td>1.0</td>\n",
       "      <td>0.0</td>\n",
       "      <td>0.0</td>\n",
       "      <td>0.0</td>\n",
       "      <td>0.0</td>\n",
       "      <td>...</td>\n",
       "      <td>0.0</td>\n",
       "      <td>0.0</td>\n",
       "      <td>1.0</td>\n",
       "      <td>0.0</td>\n",
       "      <td>0.0</td>\n",
       "      <td>0.0</td>\n",
       "      <td>1.0</td>\n",
       "      <td>0.0</td>\n",
       "      <td>0.0</td>\n",
       "      <td>1.0</td>\n",
       "    </tr>\n",
       "    <tr>\n",
       "      <th>2312</th>\n",
       "      <td>0.0</td>\n",
       "      <td>0.0</td>\n",
       "      <td>0.0</td>\n",
       "      <td>0.0</td>\n",
       "      <td>0.0</td>\n",
       "      <td>0.0</td>\n",
       "      <td>0.0</td>\n",
       "      <td>0.0</td>\n",
       "      <td>1.0</td>\n",
       "      <td>1.0</td>\n",
       "      <td>...</td>\n",
       "      <td>1.0</td>\n",
       "      <td>0.0</td>\n",
       "      <td>0.0</td>\n",
       "      <td>0.0</td>\n",
       "      <td>0.0</td>\n",
       "      <td>0.0</td>\n",
       "      <td>0.0</td>\n",
       "      <td>0.0</td>\n",
       "      <td>0.0</td>\n",
       "      <td>0.0</td>\n",
       "    </tr>\n",
       "    <tr>\n",
       "      <th>4893</th>\n",
       "      <td>0.0</td>\n",
       "      <td>0.0</td>\n",
       "      <td>0.0</td>\n",
       "      <td>1.0</td>\n",
       "      <td>0.0</td>\n",
       "      <td>0.0</td>\n",
       "      <td>0.0</td>\n",
       "      <td>0.0</td>\n",
       "      <td>0.0</td>\n",
       "      <td>0.0</td>\n",
       "      <td>...</td>\n",
       "      <td>0.0</td>\n",
       "      <td>0.0</td>\n",
       "      <td>0.0</td>\n",
       "      <td>0.0</td>\n",
       "      <td>0.0</td>\n",
       "      <td>0.0</td>\n",
       "      <td>1.0</td>\n",
       "      <td>0.0</td>\n",
       "      <td>0.0</td>\n",
       "      <td>0.0</td>\n",
       "    </tr>\n",
       "  </tbody>\n",
       "</table>\n",
       "<p>5 rows × 399 columns</p>\n",
       "</div>"
      ],
      "text/plain": [
       "      X-3846  X-4132  X-1683  X-3127  X-5717  X-3782  X-3851  X-5578  X-1499  \\\n",
       "7157     1.0     0.0     1.0     0.0     1.0     1.0     1.0     1.0     1.0   \n",
       "5290     0.0     0.0     0.0     0.0     0.0     0.0     0.0     0.0     0.0   \n",
       "3845     1.0     0.0     0.0     0.0     1.0     1.0     0.0     0.0     0.0   \n",
       "2312     0.0     0.0     0.0     0.0     0.0     0.0     0.0     0.0     1.0   \n",
       "4893     0.0     0.0     0.0     1.0     0.0     0.0     0.0     0.0     0.0   \n",
       "\n",
       "      X-1834  ...  X-3901  X-2991  X-2573  X-1169  X-3298  X-4073  X-1173  \\\n",
       "7157     1.0  ...     1.0     1.0     1.0     1.0     1.0     0.0     0.0   \n",
       "5290     1.0  ...     0.0     0.0     0.0     0.0     0.0     0.0     0.0   \n",
       "3845     0.0  ...     0.0     0.0     1.0     0.0     0.0     0.0     1.0   \n",
       "2312     1.0  ...     1.0     0.0     0.0     0.0     0.0     0.0     0.0   \n",
       "4893     0.0  ...     0.0     0.0     0.0     0.0     0.0     0.0     1.0   \n",
       "\n",
       "      X-3604  X-1678  X-1538  \n",
       "7157     1.0     0.0     0.0  \n",
       "5290     0.0     0.0     1.0  \n",
       "3845     0.0     0.0     1.0  \n",
       "2312     0.0     0.0     0.0  \n",
       "4893     0.0     0.0     0.0  \n",
       "\n",
       "[5 rows x 399 columns]"
      ]
     },
     "execution_count": 32,
     "metadata": {},
     "output_type": "execute_result"
    }
   ],
   "source": [
    "pdx_scores = pdx_scores.applymap(lambda x: binarize(x))\n",
    "pdx_scores.to_csv(\"preprocessed/PDX.binary_mutations.tsv\",sep = \"\\t\")\n",
    "pdx_scores.loc[[7157,5290,3845,2312,4893],:]"
   ]
  },
  {
   "cell_type": "markdown",
   "metadata": {},
   "source": [
    "### TCGA and CCLE"
   ]
  },
  {
   "cell_type": "code",
   "execution_count": 41,
   "metadata": {},
   "outputs": [],
   "source": [
    "def read_broad_maf(df, point, truncating, protein_change = \"Protein_Change\"):\n",
    "    if protein_change != \"None\":\n",
    "        df = df[[\"Hugo_Symbol\",\"Entrez_Gene_Id\",\"Variant_Classification\",\n",
    "                           protein_change,'Tumor_Sample_Barcode']].copy()\n",
    "    else:\n",
    "        df = df[[\"Hugo_Symbol\",\"Entrez_Gene_Id\",\"Variant_Classification\",'Tumor_Sample_Barcode']].copy()\n",
    "    #                    'Chromosome', u'Start_position', u'End_position']].copy()\n",
    "    if \"-Tumor\" in df[\"Tumor_Sample_Barcode\"].values[0]:\n",
    "        df[\"Tumor_Sample_Barcode\"] = df[\"Tumor_Sample_Barcode\"].apply(lambda x : x.replace(\"-Tumor\",\"\") )\n",
    "    df.sort_values([\"Tumor_Sample_Barcode\",\"Hugo_Symbol\"], inplace=True)\n",
    "    df = df.loc[~df[\"Variant_Classification\"].isin([\"3'UTR\",\"5'Flank\",\"5'UTR\",\"Intron\",\"Silent\",\"RNA\",\n",
    "                                                    \"De_novo_Start_OutOfFrame\",'De_novo_Start_InFrame']),:]\n",
    "    \n",
    "    if df.shape[0] == 0:\n",
    "        return df.rename({\"Entrez_Gene_Id\":\"Entrez_gene_ID\",\"Tumor_Sample_Barcode\":\"Sample\"},axis =\"columns\")\n",
    "    df.loc[df[\"Variant_Classification\"].isin(truncating),\"function\"] = \"truncating_mutation\"\n",
    "    df.loc[df[\"Variant_Classification\"].isin(point),\"function\"] = \"point_mutation\"\n",
    "    if protein_change != \"None\":\n",
    "        df.loc[df[\"Variant_Classification\"].isin(['Splice_Site_DNP','Splice_Site_Ins','Splice_Site_SNP',\n",
    "                                              'Start_Codon_Del','Stop_Codon_DNP','Stop_Codon_Ins']),\"Protein_Change\"] = \"NA\"\n",
    "    \n",
    "        df[\"aa_pos\"] =  df[protein_change].apply(lambda x : get_aa_pos_GDSC(x))\n",
    "    df.rename({\"Entrez_Gene_Id\":\"Entrez_gene_ID\",\"Tumor_Sample_Barcode\":\"Sample\"},axis =\"columns\",inplace=True)\n",
    "    return df"
   ]
  },
  {
   "cell_type": "code",
   "execution_count": 42,
   "metadata": {},
   "outputs": [
    {
     "data": {
      "text/html": [
       "<div>\n",
       "<style scoped>\n",
       "    .dataframe tbody tr th:only-of-type {\n",
       "        vertical-align: middle;\n",
       "    }\n",
       "\n",
       "    .dataframe tbody tr th {\n",
       "        vertical-align: top;\n",
       "    }\n",
       "\n",
       "    .dataframe thead th {\n",
       "        text-align: right;\n",
       "    }\n",
       "</style>\n",
       "<table border=\"1\" class=\"dataframe\">\n",
       "  <thead>\n",
       "    <tr style=\"text-align: right;\">\n",
       "      <th></th>\n",
       "      <th>Hugo_Symbol</th>\n",
       "      <th>Entrez_gene_ID</th>\n",
       "      <th>Variant_Classification</th>\n",
       "      <th>Protein_Change</th>\n",
       "      <th>Sample</th>\n",
       "      <th>function</th>\n",
       "      <th>aa_pos</th>\n",
       "    </tr>\n",
       "  </thead>\n",
       "  <tbody>\n",
       "    <tr>\n",
       "      <th>76694</th>\n",
       "      <td>AAK1</td>\n",
       "      <td>22848</td>\n",
       "      <td>Missense_Mutation</td>\n",
       "      <td>p.R634H</td>\n",
       "      <td>22RV1_PROSTATE</td>\n",
       "      <td>point_mutation</td>\n",
       "      <td>(634, 634)</td>\n",
       "    </tr>\n",
       "    <tr>\n",
       "      <th>37856</th>\n",
       "      <td>ABCC4</td>\n",
       "      <td>10257</td>\n",
       "      <td>Frame_Shift_Del</td>\n",
       "      <td>p.L883fs</td>\n",
       "      <td>22RV1_PROSTATE</td>\n",
       "      <td>truncating_mutation</td>\n",
       "      <td>(883, 883)</td>\n",
       "    </tr>\n",
       "    <tr>\n",
       "      <th>27083</th>\n",
       "      <td>ACACB</td>\n",
       "      <td>32</td>\n",
       "      <td>Missense_Mutation</td>\n",
       "      <td>p.R2360H</td>\n",
       "      <td>22RV1_PROSTATE</td>\n",
       "      <td>point_mutation</td>\n",
       "      <td>(2360, 2360)</td>\n",
       "    </tr>\n",
       "    <tr>\n",
       "      <th>66125</th>\n",
       "      <td>ACVR2A</td>\n",
       "      <td>92</td>\n",
       "      <td>Frame_Shift_Del</td>\n",
       "      <td>p.K435fs</td>\n",
       "      <td>22RV1_PROSTATE</td>\n",
       "      <td>truncating_mutation</td>\n",
       "      <td>(435, 435)</td>\n",
       "    </tr>\n",
       "    <tr>\n",
       "      <th>46329</th>\n",
       "      <td>ADAMTSL3</td>\n",
       "      <td>57188</td>\n",
       "      <td>Missense_Mutation</td>\n",
       "      <td>p.G287D</td>\n",
       "      <td>22RV1_PROSTATE</td>\n",
       "      <td>point_mutation</td>\n",
       "      <td>(287, 287)</td>\n",
       "    </tr>\n",
       "  </tbody>\n",
       "</table>\n",
       "</div>"
      ],
      "text/plain": [
       "      Hugo_Symbol  Entrez_gene_ID Variant_Classification Protein_Change  \\\n",
       "76694        AAK1           22848      Missense_Mutation        p.R634H   \n",
       "37856       ABCC4           10257        Frame_Shift_Del       p.L883fs   \n",
       "27083       ACACB              32      Missense_Mutation       p.R2360H   \n",
       "66125      ACVR2A              92        Frame_Shift_Del       p.K435fs   \n",
       "46329    ADAMTSL3           57188      Missense_Mutation        p.G287D   \n",
       "\n",
       "               Sample             function        aa_pos  \n",
       "76694  22RV1_PROSTATE       point_mutation    (634, 634)  \n",
       "37856  22RV1_PROSTATE  truncating_mutation    (883, 883)  \n",
       "27083  22RV1_PROSTATE       point_mutation  (2360, 2360)  \n",
       "66125  22RV1_PROSTATE  truncating_mutation    (435, 435)  \n",
       "46329  22RV1_PROSTATE       point_mutation    (287, 287)  "
      ]
     },
     "execution_count": 42,
     "metadata": {},
     "output_type": "execute_result"
    }
   ],
   "source": [
    "ccle_point = [\"Missense_Mutation\",\"In_Frame_Del\",\"In_Frame_Ins\"]\n",
    "ccle_truncating = [\"Frame_Shift_Del\",\"Frame_Shift_Ins\",\"Nonsense_Mutation\",\n",
    "                   \"Splice_Site_Ins\",\"Splice_Site_Del\",\"Splice_Site_SNP\",\"Splice_Site_DNP\",\n",
    "                   \"Start_Codon_Del\",\"Stop_Codon_DNP\"]\n",
    "\n",
    "ccle = pd.read_csv(\"data/CCLE/CCLE_hybrid_capture1650_hg19_NoCommonSNPs_CDS_2012.05.07.maf\",sep=\"\\t\")\n",
    "ccle = read_broad_maf(ccle, ccle_point, ccle_truncating)\n",
    "ccle.head(5)"
   ]
  },
  {
   "cell_type": "code",
   "execution_count": 43,
   "metadata": {},
   "outputs": [
    {
     "data": {
      "text/plain": [
       "function\n",
       "point_mutation         70503\n",
       "truncating_mutation    18486\n",
       "dtype: int64"
      ]
     },
     "execution_count": 43,
     "metadata": {},
     "output_type": "execute_result"
    }
   ],
   "source": [
    "ccle.groupby(\"Variant_Classification\").size().sort_values(ascending = False)\n",
    "ccle.groupby(\"function\").size().sort_values(ascending = False)"
   ]
  },
  {
   "cell_type": "code",
   "execution_count": 44,
   "metadata": {},
   "outputs": [
    {
     "data": {
      "text/html": [
       "<div>\n",
       "<style scoped>\n",
       "    .dataframe tbody tr th:only-of-type {\n",
       "        vertical-align: middle;\n",
       "    }\n",
       "\n",
       "    .dataframe tbody tr th {\n",
       "        vertical-align: top;\n",
       "    }\n",
       "\n",
       "    .dataframe thead th {\n",
       "        text-align: right;\n",
       "    }\n",
       "</style>\n",
       "<table border=\"1\" class=\"dataframe\">\n",
       "  <thead>\n",
       "    <tr style=\"text-align: right;\">\n",
       "      <th></th>\n",
       "      <th>HCC2218_BREAST</th>\n",
       "      <th>KE39_STOMACH</th>\n",
       "      <th>HS839T_SKIN</th>\n",
       "      <th>SNU387_LIVER</th>\n",
       "      <th>KPL1_BREAST</th>\n",
       "      <th>UACC893_BREAST</th>\n",
       "      <th>KHM1B_HAEMATOPOIETIC_AND_LYMPHOID_TISSUE</th>\n",
       "      <th>CAL29_URINARY_TRACT</th>\n",
       "      <th>PC3_PROSTATE</th>\n",
       "      <th>MELJUSO_SKIN</th>\n",
       "      <th>...</th>\n",
       "      <th>HEC59_ENDOMETRIUM</th>\n",
       "      <th>CW2_LARGE_INTESTINE</th>\n",
       "      <th>GDM1_HAEMATOPOIETIC_AND_LYMPHOID_TISSUE</th>\n",
       "      <th>NCIH1781_LUNG</th>\n",
       "      <th>SNU466_CENTRAL_NERVOUS_SYSTEM</th>\n",
       "      <th>LCLC103H_LUNG</th>\n",
       "      <th>EN_ENDOMETRIUM</th>\n",
       "      <th>OVISE_OVARY</th>\n",
       "      <th>SW1710_URINARY_TRACT</th>\n",
       "      <th>BT483_BREAST</th>\n",
       "    </tr>\n",
       "  </thead>\n",
       "  <tbody>\n",
       "    <tr>\n",
       "      <th>7157</th>\n",
       "      <td>-1.0</td>\n",
       "      <td>-1.0</td>\n",
       "      <td>-1.0</td>\n",
       "      <td>-1.0</td>\n",
       "      <td>0.0</td>\n",
       "      <td>-1.0</td>\n",
       "      <td>0.0</td>\n",
       "      <td>-1.0</td>\n",
       "      <td>-1.0</td>\n",
       "      <td>0.0</td>\n",
       "      <td>...</td>\n",
       "      <td>-1.0</td>\n",
       "      <td>0.000000</td>\n",
       "      <td>0.0</td>\n",
       "      <td>-1.0</td>\n",
       "      <td>0.0</td>\n",
       "      <td>-1.0</td>\n",
       "      <td>-1.0</td>\n",
       "      <td>0.0</td>\n",
       "      <td>-1.0</td>\n",
       "      <td>-1.0</td>\n",
       "    </tr>\n",
       "    <tr>\n",
       "      <th>5290</th>\n",
       "      <td>0.0</td>\n",
       "      <td>0.0</td>\n",
       "      <td>0.0</td>\n",
       "      <td>0.0</td>\n",
       "      <td>1.0</td>\n",
       "      <td>1.0</td>\n",
       "      <td>0.0</td>\n",
       "      <td>1.0</td>\n",
       "      <td>0.0</td>\n",
       "      <td>0.0</td>\n",
       "      <td>...</td>\n",
       "      <td>1.0</td>\n",
       "      <td>0.050000</td>\n",
       "      <td>0.0</td>\n",
       "      <td>0.0</td>\n",
       "      <td>0.0</td>\n",
       "      <td>0.0</td>\n",
       "      <td>1.0</td>\n",
       "      <td>0.0</td>\n",
       "      <td>0.0</td>\n",
       "      <td>1.0</td>\n",
       "    </tr>\n",
       "    <tr>\n",
       "      <th>3845</th>\n",
       "      <td>0.0</td>\n",
       "      <td>0.0</td>\n",
       "      <td>0.0</td>\n",
       "      <td>0.0</td>\n",
       "      <td>0.0</td>\n",
       "      <td>0.0</td>\n",
       "      <td>1.0</td>\n",
       "      <td>0.0</td>\n",
       "      <td>0.0</td>\n",
       "      <td>0.0</td>\n",
       "      <td>...</td>\n",
       "      <td>0.0</td>\n",
       "      <td>0.142857</td>\n",
       "      <td>0.0</td>\n",
       "      <td>0.0</td>\n",
       "      <td>0.0</td>\n",
       "      <td>0.0</td>\n",
       "      <td>0.0</td>\n",
       "      <td>0.0</td>\n",
       "      <td>0.0</td>\n",
       "      <td>0.0</td>\n",
       "    </tr>\n",
       "    <tr>\n",
       "      <th>4893</th>\n",
       "      <td>0.0</td>\n",
       "      <td>0.0</td>\n",
       "      <td>0.0</td>\n",
       "      <td>-1.0</td>\n",
       "      <td>0.0</td>\n",
       "      <td>0.0</td>\n",
       "      <td>0.0</td>\n",
       "      <td>0.0</td>\n",
       "      <td>0.0</td>\n",
       "      <td>-1.0</td>\n",
       "      <td>...</td>\n",
       "      <td>-0.1</td>\n",
       "      <td>0.000000</td>\n",
       "      <td>0.0</td>\n",
       "      <td>0.0</td>\n",
       "      <td>0.0</td>\n",
       "      <td>0.0</td>\n",
       "      <td>0.0</td>\n",
       "      <td>0.0</td>\n",
       "      <td>0.0</td>\n",
       "      <td>0.0</td>\n",
       "    </tr>\n",
       "  </tbody>\n",
       "</table>\n",
       "<p>4 rows × 905 columns</p>\n",
       "</div>"
      ],
      "text/plain": [
       "      HCC2218_BREAST  KE39_STOMACH  HS839T_SKIN  SNU387_LIVER  KPL1_BREAST  \\\n",
       "7157            -1.0          -1.0         -1.0          -1.0          0.0   \n",
       "5290             0.0           0.0          0.0           0.0          1.0   \n",
       "3845             0.0           0.0          0.0           0.0          0.0   \n",
       "4893             0.0           0.0          0.0          -1.0          0.0   \n",
       "\n",
       "      UACC893_BREAST  KHM1B_HAEMATOPOIETIC_AND_LYMPHOID_TISSUE  \\\n",
       "7157            -1.0                                       0.0   \n",
       "5290             1.0                                       0.0   \n",
       "3845             0.0                                       1.0   \n",
       "4893             0.0                                       0.0   \n",
       "\n",
       "      CAL29_URINARY_TRACT  PC3_PROSTATE  MELJUSO_SKIN  ...  HEC59_ENDOMETRIUM  \\\n",
       "7157                 -1.0          -1.0           0.0  ...               -1.0   \n",
       "5290                  1.0           0.0           0.0  ...                1.0   \n",
       "3845                  0.0           0.0           0.0  ...                0.0   \n",
       "4893                  0.0           0.0          -1.0  ...               -0.1   \n",
       "\n",
       "      CW2_LARGE_INTESTINE  GDM1_HAEMATOPOIETIC_AND_LYMPHOID_TISSUE  \\\n",
       "7157             0.000000                                      0.0   \n",
       "5290             0.050000                                      0.0   \n",
       "3845             0.142857                                      0.0   \n",
       "4893             0.000000                                      0.0   \n",
       "\n",
       "      NCIH1781_LUNG  SNU466_CENTRAL_NERVOUS_SYSTEM  LCLC103H_LUNG  \\\n",
       "7157           -1.0                            0.0           -1.0   \n",
       "5290            0.0                            0.0            0.0   \n",
       "3845            0.0                            0.0            0.0   \n",
       "4893            0.0                            0.0            0.0   \n",
       "\n",
       "      EN_ENDOMETRIUM  OVISE_OVARY  SW1710_URINARY_TRACT  BT483_BREAST  \n",
       "7157            -1.0          0.0                  -1.0          -1.0  \n",
       "5290             1.0          0.0                   0.0           1.0  \n",
       "3845             0.0          0.0                   0.0           0.0  \n",
       "4893             0.0          0.0                   0.0           0.0  \n",
       "\n",
       "[4 rows x 905 columns]"
      ]
     },
     "execution_count": 44,
     "metadata": {},
     "output_type": "execute_result"
    }
   ],
   "source": [
    "ccle_scores = {}\n",
    "for sample in list(set(ccle[\"Sample\"].values)):\n",
    "    df = ccle.loc[ccle[\"Sample\"] == sample,:]\n",
    "    ccle_scores[sample] = mutations2score(df, TSG_entrez,OG_entrez, hotspots, w=0.05)\n",
    "ccle_scores = pd.DataFrame.from_dict(ccle_scores)\n",
    "ccle_scores.fillna(0,inplace=True)\n",
    "\n",
    "ccle_scores.to_csv(\"preprocessed/CCLE.non_bin_mutations.tsv\",sep = \"\\t\")\n",
    "ccle_scores.loc[[7157,5290,3845,4893],:]"
   ]
  },
  {
   "cell_type": "code",
   "execution_count": 45,
   "metadata": {},
   "outputs": [
    {
     "data": {
      "text/html": [
       "<div>\n",
       "<style scoped>\n",
       "    .dataframe tbody tr th:only-of-type {\n",
       "        vertical-align: middle;\n",
       "    }\n",
       "\n",
       "    .dataframe tbody tr th {\n",
       "        vertical-align: top;\n",
       "    }\n",
       "\n",
       "    .dataframe thead th {\n",
       "        text-align: right;\n",
       "    }\n",
       "</style>\n",
       "<table border=\"1\" class=\"dataframe\">\n",
       "  <thead>\n",
       "    <tr style=\"text-align: right;\">\n",
       "      <th></th>\n",
       "      <th>HCC2218_BREAST</th>\n",
       "      <th>KE39_STOMACH</th>\n",
       "      <th>HS839T_SKIN</th>\n",
       "      <th>SNU387_LIVER</th>\n",
       "      <th>KPL1_BREAST</th>\n",
       "      <th>UACC893_BREAST</th>\n",
       "      <th>KHM1B_HAEMATOPOIETIC_AND_LYMPHOID_TISSUE</th>\n",
       "      <th>CAL29_URINARY_TRACT</th>\n",
       "      <th>PC3_PROSTATE</th>\n",
       "      <th>MELJUSO_SKIN</th>\n",
       "      <th>...</th>\n",
       "      <th>HEC59_ENDOMETRIUM</th>\n",
       "      <th>CW2_LARGE_INTESTINE</th>\n",
       "      <th>GDM1_HAEMATOPOIETIC_AND_LYMPHOID_TISSUE</th>\n",
       "      <th>NCIH1781_LUNG</th>\n",
       "      <th>SNU466_CENTRAL_NERVOUS_SYSTEM</th>\n",
       "      <th>LCLC103H_LUNG</th>\n",
       "      <th>EN_ENDOMETRIUM</th>\n",
       "      <th>OVISE_OVARY</th>\n",
       "      <th>SW1710_URINARY_TRACT</th>\n",
       "      <th>BT483_BREAST</th>\n",
       "    </tr>\n",
       "  </thead>\n",
       "  <tbody>\n",
       "    <tr>\n",
       "      <th>7157</th>\n",
       "      <td>1.0</td>\n",
       "      <td>1.0</td>\n",
       "      <td>1.0</td>\n",
       "      <td>1.0</td>\n",
       "      <td>0.0</td>\n",
       "      <td>1.0</td>\n",
       "      <td>0.0</td>\n",
       "      <td>1.0</td>\n",
       "      <td>1.0</td>\n",
       "      <td>0.0</td>\n",
       "      <td>...</td>\n",
       "      <td>1.0</td>\n",
       "      <td>0.0</td>\n",
       "      <td>0.0</td>\n",
       "      <td>1.0</td>\n",
       "      <td>0.0</td>\n",
       "      <td>1.0</td>\n",
       "      <td>1.0</td>\n",
       "      <td>0.0</td>\n",
       "      <td>1.0</td>\n",
       "      <td>1.0</td>\n",
       "    </tr>\n",
       "    <tr>\n",
       "      <th>5290</th>\n",
       "      <td>0.0</td>\n",
       "      <td>0.0</td>\n",
       "      <td>0.0</td>\n",
       "      <td>0.0</td>\n",
       "      <td>1.0</td>\n",
       "      <td>1.0</td>\n",
       "      <td>0.0</td>\n",
       "      <td>1.0</td>\n",
       "      <td>0.0</td>\n",
       "      <td>0.0</td>\n",
       "      <td>...</td>\n",
       "      <td>1.0</td>\n",
       "      <td>1.0</td>\n",
       "      <td>0.0</td>\n",
       "      <td>0.0</td>\n",
       "      <td>0.0</td>\n",
       "      <td>0.0</td>\n",
       "      <td>1.0</td>\n",
       "      <td>0.0</td>\n",
       "      <td>0.0</td>\n",
       "      <td>1.0</td>\n",
       "    </tr>\n",
       "    <tr>\n",
       "      <th>3845</th>\n",
       "      <td>0.0</td>\n",
       "      <td>0.0</td>\n",
       "      <td>0.0</td>\n",
       "      <td>0.0</td>\n",
       "      <td>0.0</td>\n",
       "      <td>0.0</td>\n",
       "      <td>1.0</td>\n",
       "      <td>0.0</td>\n",
       "      <td>0.0</td>\n",
       "      <td>0.0</td>\n",
       "      <td>...</td>\n",
       "      <td>0.0</td>\n",
       "      <td>1.0</td>\n",
       "      <td>0.0</td>\n",
       "      <td>0.0</td>\n",
       "      <td>0.0</td>\n",
       "      <td>0.0</td>\n",
       "      <td>0.0</td>\n",
       "      <td>0.0</td>\n",
       "      <td>0.0</td>\n",
       "      <td>0.0</td>\n",
       "    </tr>\n",
       "    <tr>\n",
       "      <th>2312</th>\n",
       "      <td>NaN</td>\n",
       "      <td>NaN</td>\n",
       "      <td>NaN</td>\n",
       "      <td>NaN</td>\n",
       "      <td>NaN</td>\n",
       "      <td>NaN</td>\n",
       "      <td>NaN</td>\n",
       "      <td>NaN</td>\n",
       "      <td>NaN</td>\n",
       "      <td>NaN</td>\n",
       "      <td>...</td>\n",
       "      <td>NaN</td>\n",
       "      <td>NaN</td>\n",
       "      <td>NaN</td>\n",
       "      <td>NaN</td>\n",
       "      <td>NaN</td>\n",
       "      <td>NaN</td>\n",
       "      <td>NaN</td>\n",
       "      <td>NaN</td>\n",
       "      <td>NaN</td>\n",
       "      <td>NaN</td>\n",
       "    </tr>\n",
       "    <tr>\n",
       "      <th>4893</th>\n",
       "      <td>0.0</td>\n",
       "      <td>0.0</td>\n",
       "      <td>0.0</td>\n",
       "      <td>1.0</td>\n",
       "      <td>0.0</td>\n",
       "      <td>0.0</td>\n",
       "      <td>0.0</td>\n",
       "      <td>0.0</td>\n",
       "      <td>0.0</td>\n",
       "      <td>1.0</td>\n",
       "      <td>...</td>\n",
       "      <td>1.0</td>\n",
       "      <td>0.0</td>\n",
       "      <td>0.0</td>\n",
       "      <td>0.0</td>\n",
       "      <td>0.0</td>\n",
       "      <td>0.0</td>\n",
       "      <td>0.0</td>\n",
       "      <td>0.0</td>\n",
       "      <td>0.0</td>\n",
       "      <td>0.0</td>\n",
       "    </tr>\n",
       "  </tbody>\n",
       "</table>\n",
       "<p>5 rows × 905 columns</p>\n",
       "</div>"
      ],
      "text/plain": [
       "      HCC2218_BREAST  KE39_STOMACH  HS839T_SKIN  SNU387_LIVER  KPL1_BREAST  \\\n",
       "7157             1.0           1.0          1.0           1.0          0.0   \n",
       "5290             0.0           0.0          0.0           0.0          1.0   \n",
       "3845             0.0           0.0          0.0           0.0          0.0   \n",
       "2312             NaN           NaN          NaN           NaN          NaN   \n",
       "4893             0.0           0.0          0.0           1.0          0.0   \n",
       "\n",
       "      UACC893_BREAST  KHM1B_HAEMATOPOIETIC_AND_LYMPHOID_TISSUE  \\\n",
       "7157             1.0                                       0.0   \n",
       "5290             1.0                                       0.0   \n",
       "3845             0.0                                       1.0   \n",
       "2312             NaN                                       NaN   \n",
       "4893             0.0                                       0.0   \n",
       "\n",
       "      CAL29_URINARY_TRACT  PC3_PROSTATE  MELJUSO_SKIN  ...  HEC59_ENDOMETRIUM  \\\n",
       "7157                  1.0           1.0           0.0  ...                1.0   \n",
       "5290                  1.0           0.0           0.0  ...                1.0   \n",
       "3845                  0.0           0.0           0.0  ...                0.0   \n",
       "2312                  NaN           NaN           NaN  ...                NaN   \n",
       "4893                  0.0           0.0           1.0  ...                1.0   \n",
       "\n",
       "      CW2_LARGE_INTESTINE  GDM1_HAEMATOPOIETIC_AND_LYMPHOID_TISSUE  \\\n",
       "7157                  0.0                                      0.0   \n",
       "5290                  1.0                                      0.0   \n",
       "3845                  1.0                                      0.0   \n",
       "2312                  NaN                                      NaN   \n",
       "4893                  0.0                                      0.0   \n",
       "\n",
       "      NCIH1781_LUNG  SNU466_CENTRAL_NERVOUS_SYSTEM  LCLC103H_LUNG  \\\n",
       "7157            1.0                            0.0            1.0   \n",
       "5290            0.0                            0.0            0.0   \n",
       "3845            0.0                            0.0            0.0   \n",
       "2312            NaN                            NaN            NaN   \n",
       "4893            0.0                            0.0            0.0   \n",
       "\n",
       "      EN_ENDOMETRIUM  OVISE_OVARY  SW1710_URINARY_TRACT  BT483_BREAST  \n",
       "7157             1.0          0.0                   1.0           1.0  \n",
       "5290             1.0          0.0                   0.0           1.0  \n",
       "3845             0.0          0.0                   0.0           0.0  \n",
       "2312             NaN          NaN                   NaN           NaN  \n",
       "4893             0.0          0.0                   0.0           0.0  \n",
       "\n",
       "[5 rows x 905 columns]"
      ]
     },
     "execution_count": 45,
     "metadata": {},
     "output_type": "execute_result"
    }
   ],
   "source": [
    "ccle_scores = ccle_scores.applymap(lambda x: binarize(x))\n",
    "ccle_scores.to_csv(\"preprocessed/CCLE.binary_mutations.tsv\",sep = \"\\t\")\n",
    "ccle_scores.loc[[7157,5290,3845,2312,4893],:]"
   ]
  },
  {
   "cell_type": "markdown",
   "metadata": {},
   "source": [
    "### TCGA"
   ]
  },
  {
   "cell_type": "code",
   "execution_count": 46,
   "metadata": {},
   "outputs": [
    {
     "name": "stderr",
     "output_type": "stream",
     "text": [
      "Ok: no empty rows detected\n",
      "Ok: no duplicated pairs detected\n",
      "Ok: All Symbol rows are not empty.\n",
      "Ok: All Symbol are mapped to GeneID\n",
      "9 Symbol mapped to multiple GeneID\n",
      "Ok: All GeneID are unique\n",
      "60207 Symbol can be mapped directly to GeneID\n",
      "Ok: no empty rows detected\n",
      "Ok: no duplicated pairs detected\n",
      "Ok: All Synonyms rows are not empty.\n",
      "Ok: All Synonyms are mapped to GeneID\n",
      "3261 Synonyms mapped to multiple GeneID\n",
      "50720 different Synonyms mapped to the same GeneID\n",
      "10915 Synonyms can be mapped directly to GeneID\n"
     ]
    }
   ],
   "source": [
    "# remapping Hugo symbols to Entreze gene ids if necessary \n",
    "NCBI = pd.read_csv(\"data/Homo_sapiens.gene_info\",sep = \"\\t\")\n",
    "NCBI = NCBI[[\"#tax_id\",\"GeneID\",\"Symbol\",\"Synonyms\",\"type_of_gene\"]]\n",
    "NCBI = NCBI.loc[NCBI[\"#tax_id\"] == 9606]\n",
    "NCBI = NCBI.loc[NCBI[\"type_of_gene\"] != \"unknown\"]\n",
    "ncbi_symbols = parse_mapping_table(NCBI, \"Symbol\",\"GeneID\")\n",
    "ncbi_synonyms = expand(NCBI[[\"Synonyms\",\"GeneID\"]],column=\"Synonyms\",sep=\"|\") \n",
    "ncbi_synonyms = parse_mapping_table(ncbi_synonyms, \"Synonyms\",\"GeneID\")\n",
    "def hgnc2entrez_mapper(df,ncbi_symbols,ncbi_synonyms):\n",
    "    remapped_df = df[[\"Entrez_gene_ID\",\"Hugo_Symbol\"]].copy()\n",
    "    remapped_df.drop_duplicates(inplace = True)\n",
    "    remapped_df.set_index(\"Hugo_Symbol\",inplace=True)\n",
    "    remapped_df,query2target,not_mapped  = apply_mappers(remapped_df, ncbi_symbols, ncbi_synonyms,\n",
    "                                                         verbose = False,handle_duplicates = \"keep\")\n",
    "    if len(not_mapped) > 0 :\n",
    "        print(len(not_mapped),\"Hugo symbols not mapped to Entrez gene ID\",not_mapped, file = sys.stderr)\n",
    "        df = df.loc[~df[\"Hugo_Symbol\"].isin(not_mapped),:].copy()\n",
    "    df[\"Entrez_gene_ID\"] = df[\"Hugo_Symbol\"].apply(lambda x:query2target[x])\n",
    "    return df"
   ]
  },
  {
   "cell_type": "code",
   "execution_count": 47,
   "metadata": {},
   "outputs": [
    {
     "name": "stdout",
     "output_type": "stream",
     "text": [
      "['ACC', 'BLCA', 'BRCA', 'CESC', 'CHOL', 'COAD', 'DLBC', 'ESCA', 'GBM', 'HNSC', 'KICH', 'KIRP', 'LAML', 'LGG', 'LIHC', 'LUAD', 'LUSC', 'PAAD', 'PCPG', 'PRAD', 'READ', 'SARC', 'SKCM', 'STAD', 'STES', 'TGCT', 'THCA', 'THYM', 'UCEC', 'UCS', 'UVM']\n"
     ]
    }
   ],
   "source": [
    "cohorts = []\n",
    "for f in os.listdir(\"data/TCGA/data/\"):\n",
    "    if f.endswith(\"tar.gz\"):\n",
    "        fp = f.replace(\".tar.gz\",\"\")\n",
    "        cohort = fp.split(\".\")[2].replace(\"org_\",\"\")\n",
    "        if not cohort in [\"KIPAN\",\"OV\",'GBMLGG','COADREAD','KIRC']: # 'LGG','KICH'\n",
    "            cohorts.append(cohort)\n",
    "print(cohorts)"
   ]
  },
  {
   "cell_type": "code",
   "execution_count": 52,
   "metadata": {},
   "outputs": [
    {
     "name": "stdout",
     "output_type": "stream",
     "text": [
      "ACC\n"
     ]
    },
    {
     "name": "stderr",
     "output_type": "stream",
     "text": [
      "preprocessed maf 91 files;\t\traw maf: 0 files\n",
      "select processed maf file for cohort ACC\n",
      "use path data/TCGA/data/gdac.broadinstitute.org_ACC.Mutation_Packager_Calls.Level_3.2016012800.0.0/\n",
      "   Hugo_Symbol  Entrez_gene_ID Variant_Classification        function  \\\n",
      "81        GPX1            2876           In_Frame_Del  point_mutation   \n",
      "\n",
      "   AAChange    aa_pos  \n",
      "81        .  (NA, NA)  \n",
      "   Hugo_Symbol  Entrez_gene_ID Variant_Classification        function  \\\n",
      "78        GPX1            2876           In_Frame_Del  point_mutation   \n",
      "\n",
      "   AAChange    aa_pos  \n",
      "78        .  (NA, NA)  \n",
      "    Hugo_Symbol  Entrez_gene_ID Variant_Classification        function  \\\n",
      "591      DNAH11            8701      Missense_Mutation  point_mutation   \n",
      "64         DRGX          644168      Missense_Mutation  point_mutation   \n",
      "475        GPX1            2876      Missense_Mutation  point_mutation   \n",
      "\n",
      "    AAChange    aa_pos  \n",
      "591        .  (NA, NA)  \n",
      "64         .  (NA, NA)  \n",
      "475        .  (NA, NA)  \n",
      "    Hugo_Symbol  Entrez_gene_ID Variant_Classification        function  \\\n",
      "134        TAP2            6891      Missense_Mutation  point_mutation   \n",
      "141         ZAN            7455      Missense_Mutation  point_mutation   \n",
      "\n",
      "    AAChange    aa_pos  \n",
      "134        .  (NA, NA)  \n",
      "141        .  (NA, NA)  \n",
      "    Hugo_Symbol  Entrez_gene_ID Variant_Classification        function  \\\n",
      "583       TINAG           27283      Missense_Mutation  point_mutation   \n",
      "\n",
      "    AAChange    aa_pos  \n",
      "583        .  (NA, NA)  \n",
      "    Hugo_Symbol  Entrez_gene_ID Variant_Classification        function  \\\n",
      "429       PRKDC            5591      Missense_Mutation  point_mutation   \n",
      "\n",
      "    AAChange    aa_pos  \n",
      "429        .  (NA, NA)  \n",
      "   Hugo_Symbol  Entrez_gene_ID Variant_Classification        function  \\\n",
      "78      DNAH11            8701      Missense_Mutation  point_mutation   \n",
      "\n",
      "   AAChange    aa_pos  \n",
      "78        .  (NA, NA)  \n",
      "   Hugo_Symbol  Entrez_gene_ID Variant_Classification        function  \\\n",
      "96       MROH8          140699      Missense_Mutation  point_mutation   \n",
      "\n",
      "   AAChange    aa_pos  \n",
      "96        .  (NA, NA)  \n",
      "    Hugo_Symbol  Entrez_gene_ID Variant_Classification        function  \\\n",
      "186      DNAH11            8701      Missense_Mutation  point_mutation   \n",
      "\n",
      "    AAChange    aa_pos  \n",
      "186        .  (NA, NA)  \n",
      "   Hugo_Symbol  Entrez_gene_ID Variant_Classification        function  \\\n",
      "50        GPX1            2876           In_Frame_Del  point_mutation   \n",
      "\n",
      "   AAChange    aa_pos  \n",
      "50        .  (NA, NA)  \n",
      "   Hugo_Symbol  Entrez_gene_ID Variant_Classification        function  \\\n",
      "26      SHANK2           22941      Missense_Mutation  point_mutation   \n",
      "\n",
      "   AAChange    aa_pos  \n",
      "26        .  (NA, NA)  \n",
      "    Hugo_Symbol  Entrez_gene_ID Variant_Classification        function  \\\n",
      "180     C6orf10           10665      Missense_Mutation  point_mutation   \n",
      "\n",
      "    AAChange    aa_pos  \n",
      "180        .  (NA, NA)  \n",
      "    Hugo_Symbol  Entrez_gene_ID Variant_Classification        function  \\\n",
      "369      YTHDF3          253943      Missense_Mutation  point_mutation   \n",
      "\n",
      "    AAChange    aa_pos  \n",
      "369        .  (NA, NA)  \n",
      "    Hugo_Symbol  Entrez_gene_ID Variant_Classification        function  \\\n",
      "138         RYK            6259      Missense_Mutation  point_mutation   \n",
      "\n",
      "    AAChange    aa_pos  \n",
      "138        .  (NA, NA)  \n",
      "    Hugo_Symbol  Entrez_gene_ID Variant_Classification        function  \\\n",
      "159      GTPBP6            8225      Missense_Mutation  point_mutation   \n",
      "\n",
      "    AAChange    aa_pos  \n",
      "159        .  (NA, NA)  \n",
      "     Hugo_Symbol  Entrez_gene_ID Variant_Classification        function  \\\n",
      "2001      DNAH11            8701      Missense_Mutation  point_mutation   \n",
      "1058        OAZ1            4946      Missense_Mutation  point_mutation   \n",
      "1472       RIBC2           26150      Missense_Mutation  point_mutation   \n",
      "1228      THSD7B           80731      Missense_Mutation  point_mutation   \n",
      "2160      YTHDF3          253943      Missense_Mutation  point_mutation   \n",
      "\n",
      "     AAChange    aa_pos  \n",
      "2001        .  (NA, NA)  \n",
      "1058        .  (NA, NA)  \n",
      "1472        .  (NA, NA)  \n",
      "1228        .  (NA, NA)  \n",
      "2160        .  (NA, NA)  \n",
      "   Hugo_Symbol  Entrez_gene_ID Variant_Classification        function  \\\n",
      "99      GPR111          222611      Missense_Mutation  point_mutation   \n",
      "\n",
      "   AAChange    aa_pos  \n",
      "99        .  (NA, NA)  \n",
      "    Hugo_Symbol  Entrez_gene_ID Variant_Classification        function  \\\n",
      "106        GPX1            2876      Missense_Mutation  point_mutation   \n",
      "\n",
      "    AAChange    aa_pos  \n",
      "106        .  (NA, NA)  \n",
      "   Hugo_Symbol  Entrez_gene_ID Variant_Classification        function  \\\n",
      "20      MIR662          724032      Missense_Mutation  point_mutation   \n",
      "\n",
      "   AAChange    aa_pos  \n",
      "20        .  (NA, NA)  \n",
      "   Hugo_Symbol  Entrez_gene_ID Variant_Classification        function  \\\n",
      "67        GPX1            2876           In_Frame_Del  point_mutation   \n",
      "\n",
      "   AAChange    aa_pos  \n",
      "67        .  (NA, NA)  \n",
      "  Hugo_Symbol  Entrez_gene_ID Variant_Classification        function AAChange  \\\n",
      "2       NBPF1           55672      Missense_Mutation  point_mutation        .   \n",
      "\n",
      "     aa_pos  \n",
      "2  (NA, NA)  \n",
      "    Hugo_Symbol  Entrez_gene_ID Variant_Classification        function  \\\n",
      "274      BAHCC1           57597           In_Frame_Del  point_mutation   \n",
      "333       LTBP4            8425      Missense_Mutation  point_mutation   \n",
      "\n",
      "    AAChange    aa_pos  \n",
      "274        .  (NA, NA)  \n",
      "333        .  (NA, NA)  \n",
      "   Hugo_Symbol  Entrez_gene_ID Variant_Classification        function  \\\n",
      "93        GPX1            2876      Missense_Mutation  point_mutation   \n",
      "\n",
      "   AAChange    aa_pos  \n",
      "93        .  (NA, NA)  \n",
      "   Hugo_Symbol  Entrez_gene_ID Variant_Classification        function  \\\n",
      "52        DIO3            1735      Missense_Mutation  point_mutation   \n",
      "\n",
      "   AAChange    aa_pos  \n",
      "52        .  (NA, NA)  \n",
      "    Hugo_Symbol  Entrez_gene_ID Variant_Classification        function  \\\n",
      "100        EPT1           85465      Missense_Mutation  point_mutation   \n",
      "\n",
      "    AAChange    aa_pos  \n",
      "100        .  (NA, NA)  \n",
      "    Hugo_Symbol  Entrez_gene_ID Variant_Classification        function  \\\n",
      "130       KRBA1           84626      Missense_Mutation  point_mutation   \n",
      "\n",
      "    AAChange    aa_pos  \n",
      "130        .  (NA, NA)  \n",
      "   Hugo_Symbol  Entrez_gene_ID Variant_Classification        function  \\\n",
      "47      THSD7B           80731      Missense_Mutation  point_mutation   \n",
      "\n",
      "   AAChange    aa_pos  \n",
      "47        .  (NA, NA)  \n",
      "    Hugo_Symbol  Entrez_gene_ID Variant_Classification        function  \\\n",
      "137      BAHCC1           57597           In_Frame_Del  point_mutation   \n",
      "\n",
      "    AAChange    aa_pos  \n",
      "137        .  (NA, NA)  \n",
      "    Hugo_Symbol  Entrez_gene_ID Variant_Classification        function  \\\n",
      "123        GPX1            2876           In_Frame_Del  point_mutation   \n",
      "\n",
      "    AAChange    aa_pos  \n",
      "123        .  (NA, NA)  \n",
      "     Hugo_Symbol  Entrez_gene_ID Variant_Classification        function  \\\n",
      "907       INPP5D            3635      Missense_Mutation  point_mutation   \n",
      "929        MROH8          140699      Missense_Mutation  point_mutation   \n",
      "36         NBPF1           55672      Missense_Mutation  point_mutation   \n",
      "202       PCDH15           65217      Missense_Mutation  point_mutation   \n",
      "852       THSD7B           80731      Missense_Mutation  point_mutation   \n",
      "1128     UGT2B10            7365      Missense_Mutation  point_mutation   \n",
      "\n",
      "     AAChange    aa_pos  \n",
      "907         .  (NA, NA)  \n",
      "929         .  (NA, NA)  \n",
      "36          .  (NA, NA)  \n",
      "202         .  (NA, NA)  \n",
      "852         .  (NA, NA)  \n",
      "1128        .  (NA, NA)  \n",
      "TCGA-PK-A5HB-01A-11D-A29I-10 ACC 6 point mutations without a position 1176 remain\n",
      "    Hugo_Symbol  Entrez_gene_ID Variant_Classification        function  \\\n",
      "171        GPX1            2876           In_Frame_Del  point_mutation   \n",
      "\n",
      "    AAChange    aa_pos  \n",
      "171        .  (NA, NA)  \n"
     ]
    },
    {
     "name": "stdout",
     "output_type": "stream",
     "text": [
      "BLCA\n"
     ]
    },
    {
     "name": "stderr",
     "output_type": "stream",
     "text": [
      "preprocessed maf 131 files;\t\traw maf: 0 files\n",
      "select processed maf file for cohort BLCA\n",
      "use path data/TCGA/data/gdac.broadinstitute.org_BLCA.Mutation_Packager_Calls.Level_3.2016012800.0.0/\n"
     ]
    },
    {
     "name": "stdout",
     "output_type": "stream",
     "text": [
      "BRCA\n",
      "Warning: query IDs not mapped to any target IDs excluded: 1\n"
     ]
    },
    {
     "name": "stderr",
     "output_type": "stream",
     "text": [
      "preprocessed maf 983 files;\t\traw maf: 0 files\n",
      "select processed maf file for cohort BRCA\n",
      "use path data/TCGA/data/gdac.broadinstitute.org_BRCA.Mutation_Packager_Calls.Level_3.2016012800.0.0/\n",
      "1 Hugo symbols not mapped to Entrez gene ID ['ENSG00000267261']\n"
     ]
    },
    {
     "name": "stdout",
     "output_type": "stream",
     "text": [
      "Warning: query IDs not mapped to any target IDs excluded: 1\n",
      "Warning: query IDs not mapped to any target IDs excluded: 1\n"
     ]
    },
    {
     "name": "stderr",
     "output_type": "stream",
     "text": [
      "1 Hugo symbols not mapped to Entrez gene ID ['B3GNT1']\n",
      "1 Hugo symbols not mapped to Entrez gene ID ['ENSG00000235041']\n"
     ]
    },
    {
     "name": "stdout",
     "output_type": "stream",
     "text": [
      "Warning: query IDs not mapped to any target IDs excluded: 1\n"
     ]
    },
    {
     "name": "stderr",
     "output_type": "stream",
     "text": [
      "1 Hugo symbols not mapped to Entrez gene ID ['MT-ATP6']\n"
     ]
    },
    {
     "name": "stdout",
     "output_type": "stream",
     "text": [
      "Warning: query IDs not mapped to any target IDs excluded: 1\n"
     ]
    },
    {
     "name": "stderr",
     "output_type": "stream",
     "text": [
      "1 Hugo symbols not mapped to Entrez gene ID ['CCRL1']\n"
     ]
    },
    {
     "name": "stdout",
     "output_type": "stream",
     "text": [
      "Warning: query IDs not mapped to any target IDs excluded: 1\n"
     ]
    },
    {
     "name": "stderr",
     "output_type": "stream",
     "text": [
      "1 Hugo symbols not mapped to Entrez gene ID ['KIAA1045']\n"
     ]
    },
    {
     "name": "stdout",
     "output_type": "stream",
     "text": [
      "Warning: query IDs not mapped to any target IDs excluded: 1\n"
     ]
    },
    {
     "name": "stderr",
     "output_type": "stream",
     "text": [
      "1 Hugo symbols not mapped to Entrez gene ID ['MLL2']\n"
     ]
    },
    {
     "name": "stdout",
     "output_type": "stream",
     "text": [
      "Warning: query IDs not mapped to any target IDs excluded: 1\n"
     ]
    },
    {
     "name": "stderr",
     "output_type": "stream",
     "text": [
      "1 Hugo symbols not mapped to Entrez gene ID ['MLL2']\n"
     ]
    },
    {
     "name": "stdout",
     "output_type": "stream",
     "text": [
      "Warning: query IDs not mapped to any target IDs excluded: 1\n"
     ]
    },
    {
     "name": "stderr",
     "output_type": "stream",
     "text": [
      "1 Hugo symbols not mapped to Entrez gene ID ['ENSG00000226232']\n"
     ]
    },
    {
     "name": "stdout",
     "output_type": "stream",
     "text": [
      "Warning: query IDs not mapped to any target IDs excluded: 1\n"
     ]
    },
    {
     "name": "stderr",
     "output_type": "stream",
     "text": [
      "1 Hugo symbols not mapped to Entrez gene ID ['MLL4']\n"
     ]
    },
    {
     "name": "stdout",
     "output_type": "stream",
     "text": [
      "Warning: query IDs not mapped to any target IDs excluded: 1\n"
     ]
    },
    {
     "name": "stderr",
     "output_type": "stream",
     "text": [
      "1 Hugo symbols not mapped to Entrez gene ID ['TCEB3C']\n"
     ]
    },
    {
     "name": "stdout",
     "output_type": "stream",
     "text": [
      "Warning: query IDs not mapped to any target IDs excluded: 1\n",
      "Warning: query IDs not mapped to any target IDs excluded: 1\n"
     ]
    },
    {
     "name": "stderr",
     "output_type": "stream",
     "text": [
      "1 Hugo symbols not mapped to Entrez gene ID ['HIST1H2BF']\n",
      "1 Hugo symbols not mapped to Entrez gene ID ['AZI1']\n"
     ]
    },
    {
     "name": "stdout",
     "output_type": "stream",
     "text": [
      "Warning: query IDs not mapped to any target IDs excluded: 2\n"
     ]
    },
    {
     "name": "stderr",
     "output_type": "stream",
     "text": [
      "2 Hugo symbols not mapped to Entrez gene ID ['MT-CO1', 'MT-ND5']\n"
     ]
    },
    {
     "name": "stdout",
     "output_type": "stream",
     "text": [
      "Warning: query IDs not mapped to any target IDs excluded: 1\n"
     ]
    },
    {
     "name": "stderr",
     "output_type": "stream",
     "text": [
      "1 Hugo symbols not mapped to Entrez gene ID ['ENSG00000183470']\n"
     ]
    },
    {
     "name": "stdout",
     "output_type": "stream",
     "text": [
      "Warning: query IDs not mapped to any target IDs excluded: 1\n"
     ]
    },
    {
     "name": "stderr",
     "output_type": "stream",
     "text": [
      "1 Hugo symbols not mapped to Entrez gene ID ['HEATR8']\n"
     ]
    },
    {
     "name": "stdout",
     "output_type": "stream",
     "text": [
      "Warning: query IDs not mapped to any target IDs excluded: 1\n"
     ]
    },
    {
     "name": "stderr",
     "output_type": "stream",
     "text": [
      "1 Hugo symbols not mapped to Entrez gene ID ['KIAA1045']\n"
     ]
    },
    {
     "name": "stdout",
     "output_type": "stream",
     "text": [
      "Warning: query IDs not mapped to any target IDs excluded: 12\n",
      "Warning: query IDs not mapped to any target IDs excluded: 1\n"
     ]
    },
    {
     "name": "stderr",
     "output_type": "stream",
     "text": [
      "12 Hugo symbols not mapped to Entrez gene ID ['AZI1', 'CSRP2BP', 'DBC1', 'MARS', 'QARS', 'TCEB3C', 'ENSG00000249624', 'MT-ATP6', 'MT-CO3', 'MT-CYB', 'MT-ND3', 'MT-ND4']\n",
      "1 Hugo symbols not mapped to Entrez gene ID ['ENSG00000257198']\n"
     ]
    },
    {
     "name": "stdout",
     "output_type": "stream",
     "text": [
      "Warning: query IDs not mapped to any target IDs excluded: 2\n",
      "Warning: query IDs not mapped to any target IDs excluded: 1\n"
     ]
    },
    {
     "name": "stderr",
     "output_type": "stream",
     "text": [
      "2 Hugo symbols not mapped to Entrez gene ID ['C10orf2', 'ENSG00000226232']\n",
      "1 Hugo symbols not mapped to Entrez gene ID ['DBC1']\n"
     ]
    },
    {
     "name": "stdout",
     "output_type": "stream",
     "text": [
      "Warning: query IDs not mapped to any target IDs excluded: 2\n"
     ]
    },
    {
     "name": "stderr",
     "output_type": "stream",
     "text": [
      "2 Hugo symbols not mapped to Entrez gene ID ['HN1', 'ENSG00000226232']\n"
     ]
    },
    {
     "name": "stdout",
     "output_type": "stream",
     "text": [
      "Warning: query IDs not mapped to any target IDs excluded: 1\n"
     ]
    },
    {
     "name": "stderr",
     "output_type": "stream",
     "text": [
      "1 Hugo symbols not mapped to Entrez gene ID ['HIST1H2BE']\n"
     ]
    },
    {
     "name": "stdout",
     "output_type": "stream",
     "text": [
      "Warning: query IDs not mapped to any target IDs excluded: 1\n",
      "Warning: query IDs not mapped to any target IDs excluded: 1\n"
     ]
    },
    {
     "name": "stderr",
     "output_type": "stream",
     "text": [
      "1 Hugo symbols not mapped to Entrez gene ID ['TCEB3C']\n",
      "1 Hugo symbols not mapped to Entrez gene ID ['ENSG00000249209']\n"
     ]
    },
    {
     "name": "stdout",
     "output_type": "stream",
     "text": [
      "Warning: query IDs not mapped to any target IDs excluded: 1\n"
     ]
    },
    {
     "name": "stderr",
     "output_type": "stream",
     "text": [
      "1 Hugo symbols not mapped to Entrez gene ID ['AIM1']\n"
     ]
    },
    {
     "name": "stdout",
     "output_type": "stream",
     "text": [
      "Warning: query IDs not mapped to any target IDs excluded: 1\n"
     ]
    },
    {
     "name": "stderr",
     "output_type": "stream",
     "text": [
      "1 Hugo symbols not mapped to Entrez gene ID ['ENSG00000254756']\n"
     ]
    },
    {
     "name": "stdout",
     "output_type": "stream",
     "text": [
      "Warning: query IDs not mapped to any target IDs excluded: 1\n"
     ]
    },
    {
     "name": "stderr",
     "output_type": "stream",
     "text": [
      "1 Hugo symbols not mapped to Entrez gene ID ['CD97']\n"
     ]
    },
    {
     "name": "stdout",
     "output_type": "stream",
     "text": [
      "Warning: query IDs not mapped to any target IDs excluded: 1\n"
     ]
    },
    {
     "name": "stderr",
     "output_type": "stream",
     "text": [
      "1 Hugo symbols not mapped to Entrez gene ID ['ADC']\n"
     ]
    },
    {
     "name": "stdout",
     "output_type": "stream",
     "text": [
      "Warning: query IDs not mapped to any target IDs excluded: 1\n",
      "Warning: query IDs not mapped to any target IDs excluded: 1\n"
     ]
    },
    {
     "name": "stderr",
     "output_type": "stream",
     "text": [
      "1 Hugo symbols not mapped to Entrez gene ID ['ENSG00000226232']\n",
      "1 Hugo symbols not mapped to Entrez gene ID ['MLL2']\n"
     ]
    },
    {
     "name": "stdout",
     "output_type": "stream",
     "text": [
      "Warning: query IDs not mapped to any target IDs excluded: 1\n"
     ]
    },
    {
     "name": "stderr",
     "output_type": "stream",
     "text": [
      "1 Hugo symbols not mapped to Entrez gene ID ['C10orf2']\n"
     ]
    },
    {
     "name": "stdout",
     "output_type": "stream",
     "text": [
      "Warning: query IDs not mapped to any target IDs excluded: 1\n"
     ]
    },
    {
     "name": "stderr",
     "output_type": "stream",
     "text": [
      "1 Hugo symbols not mapped to Entrez gene ID ['HEATR8']\n"
     ]
    },
    {
     "name": "stdout",
     "output_type": "stream",
     "text": [
      "Warning: query IDs not mapped to any target IDs excluded: 1\n",
      "Warning: query IDs not mapped to any target IDs excluded: 1\n"
     ]
    },
    {
     "name": "stderr",
     "output_type": "stream",
     "text": [
      "1 Hugo symbols not mapped to Entrez gene ID ['PPYR1']\n",
      "1 Hugo symbols not mapped to Entrez gene ID ['CD97']\n"
     ]
    },
    {
     "name": "stdout",
     "output_type": "stream",
     "text": [
      "Warning: query IDs not mapped to any target IDs excluded: 1\n"
     ]
    },
    {
     "name": "stderr",
     "output_type": "stream",
     "text": [
      "1 Hugo symbols not mapped to Entrez gene ID ['ENSG00000257921']\n"
     ]
    },
    {
     "name": "stdout",
     "output_type": "stream",
     "text": [
      "Warning: query IDs not mapped to any target IDs excluded: 1\n"
     ]
    },
    {
     "name": "stderr",
     "output_type": "stream",
     "text": [
      "1 Hugo symbols not mapped to Entrez gene ID ['CRIPAK']\n"
     ]
    },
    {
     "name": "stdout",
     "output_type": "stream",
     "text": [
      "Warning: query IDs not mapped to any target IDs excluded: 1\n"
     ]
    },
    {
     "name": "stderr",
     "output_type": "stream",
     "text": [
      "1 Hugo symbols not mapped to Entrez gene ID ['QARS']\n"
     ]
    },
    {
     "name": "stdout",
     "output_type": "stream",
     "text": [
      "Warning: query IDs not mapped to any target IDs excluded: 1\n"
     ]
    },
    {
     "name": "stderr",
     "output_type": "stream",
     "text": [
      "1 Hugo symbols not mapped to Entrez gene ID ['MLL2']\n"
     ]
    },
    {
     "name": "stdout",
     "output_type": "stream",
     "text": [
      "Warning: query IDs not mapped to any target IDs excluded: 1\n"
     ]
    },
    {
     "name": "stderr",
     "output_type": "stream",
     "text": [
      "1 Hugo symbols not mapped to Entrez gene ID ['FLJ43860']\n"
     ]
    },
    {
     "name": "stdout",
     "output_type": "stream",
     "text": [
      "Warning: query IDs not mapped to any target IDs excluded: 3\n"
     ]
    },
    {
     "name": "stderr",
     "output_type": "stream",
     "text": [
      "3 Hugo symbols not mapped to Entrez gene ID ['C10orf2', 'MLL2', 'QARS']\n"
     ]
    },
    {
     "name": "stdout",
     "output_type": "stream",
     "text": [
      "Warning: query IDs not mapped to any target IDs excluded: 1\n"
     ]
    },
    {
     "name": "stderr",
     "output_type": "stream",
     "text": [
      "1 Hugo symbols not mapped to Entrez gene ID ['CXXC11']\n"
     ]
    },
    {
     "name": "stdout",
     "output_type": "stream",
     "text": [
      "Warning: query IDs not mapped to any target IDs excluded: 1\n",
      "Warning: query IDs not mapped to any target IDs excluded: 1\n"
     ]
    },
    {
     "name": "stderr",
     "output_type": "stream",
     "text": [
      "1 Hugo symbols not mapped to Entrez gene ID ['MLL4']\n",
      "1 Hugo symbols not mapped to Entrez gene ID ['CRIPAK']\n"
     ]
    },
    {
     "name": "stdout",
     "output_type": "stream",
     "text": [
      "Warning: query IDs not mapped to any target IDs excluded: 1\n"
     ]
    },
    {
     "name": "stderr",
     "output_type": "stream",
     "text": [
      "1 Hugo symbols not mapped to Entrez gene ID ['DEC1']\n"
     ]
    },
    {
     "name": "stdout",
     "output_type": "stream",
     "text": [
      "Warning: query IDs not mapped to any target IDs excluded: 1\n"
     ]
    },
    {
     "name": "stderr",
     "output_type": "stream",
     "text": [
      "1 Hugo symbols not mapped to Entrez gene ID ['C2orf47']\n"
     ]
    },
    {
     "name": "stdout",
     "output_type": "stream",
     "text": [
      "Warning: query IDs not mapped to any target IDs excluded: 1\n",
      "Warning: query IDs not mapped to any target IDs excluded: 1\n"
     ]
    },
    {
     "name": "stderr",
     "output_type": "stream",
     "text": [
      "1 Hugo symbols not mapped to Entrez gene ID ['KIAA1804']\n",
      "1 Hugo symbols not mapped to Entrez gene ID ['CXXC11']\n"
     ]
    },
    {
     "name": "stdout",
     "output_type": "stream",
     "text": [
      "Warning: query IDs not mapped to any target IDs excluded: 1\n",
      "Warning: query IDs not mapped to any target IDs excluded: 1\n"
     ]
    },
    {
     "name": "stderr",
     "output_type": "stream",
     "text": [
      "1 Hugo symbols not mapped to Entrez gene ID ['HEATR8']\n",
      "1 Hugo symbols not mapped to Entrez gene ID ['NOV']\n"
     ]
    },
    {
     "name": "stdout",
     "output_type": "stream",
     "text": [
      "Warning: query IDs not mapped to any target IDs excluded: 2\n",
      "Warning: query IDs not mapped to any target IDs excluded: 1\n"
     ]
    },
    {
     "name": "stderr",
     "output_type": "stream",
     "text": [
      "2 Hugo symbols not mapped to Entrez gene ID ['DBC1', 'MLL4']\n",
      "1 Hugo symbols not mapped to Entrez gene ID ['AIM1']\n"
     ]
    },
    {
     "name": "stdout",
     "output_type": "stream",
     "text": [
      "Warning: query IDs not mapped to any target IDs excluded: 1\n",
      "Warning: query IDs not mapped to any target IDs excluded:"
     ]
    },
    {
     "name": "stderr",
     "output_type": "stream",
     "text": [
      "1 Hugo symbols not mapped to Entrez gene ID ['SEPT2']\n"
     ]
    },
    {
     "name": "stdout",
     "output_type": "stream",
     "text": [
      " 1\n"
     ]
    },
    {
     "name": "stderr",
     "output_type": "stream",
     "text": [
      "1 Hugo symbols not mapped to Entrez gene ID ['CD97']\n"
     ]
    },
    {
     "name": "stdout",
     "output_type": "stream",
     "text": [
      "Warning: query IDs not mapped to any target IDs excluded: 1\n"
     ]
    },
    {
     "name": "stderr",
     "output_type": "stream",
     "text": [
      "1 Hugo symbols not mapped to Entrez gene ID ['CD97']\n"
     ]
    },
    {
     "name": "stdout",
     "output_type": "stream",
     "text": [
      "Warning: query IDs not mapped to any target IDs excluded: 9\n",
      "Warning: query IDs not mapped to any target IDs excluded: 1\n"
     ]
    },
    {
     "name": "stderr",
     "output_type": "stream",
     "text": [
      "9 Hugo symbols not mapped to Entrez gene ID ['ABP1', 'AIM1', 'C11orf48', 'C2orf47', 'MLL4', 'ENSG00000187461', 'ENSG00000240127', 'ENSG00000260175', 'KIAA0664']\n",
      "1 Hugo symbols not mapped to Entrez gene ID ['ENSG00000226232']\n"
     ]
    },
    {
     "name": "stdout",
     "output_type": "stream",
     "text": [
      "Warning: query IDs not mapped to any target IDs excluded: 10\n"
     ]
    },
    {
     "name": "stderr",
     "output_type": "stream",
     "text": [
      "10 Hugo symbols not mapped to Entrez gene ID ['ADC', 'AIM1', 'C15orf38', 'CCBP2', 'CD97', 'EFTUD1', 'MARS', 'MLL2', 'TCEB3CL', 'ENSG00000235434']\n"
     ]
    },
    {
     "name": "stdout",
     "output_type": "stream",
     "text": [
      "Warning: query IDs not mapped to any target IDs excluded: 1\n"
     ]
    },
    {
     "name": "stderr",
     "output_type": "stream",
     "text": [
      "1 Hugo symbols not mapped to Entrez gene ID ['SLC35E2']\n"
     ]
    },
    {
     "name": "stdout",
     "output_type": "stream",
     "text": [
      "Warning: query IDs mapping to duplicated target IDs in mapping table: 2\n",
      "Warning: query IDs not mapped to any target IDs excluded: 7\n",
      "Warning: query IDs not mapped to any target IDs excluded: 1\n"
     ]
    },
    {
     "name": "stderr",
     "output_type": "stream",
     "text": [
      "7 Hugo symbols not mapped to Entrez gene ID ['C10orf2', 'CSRP2BP', 'MARS', 'MLL4', 'ODZ3', 'QARS', 'KIAA0664']\n",
      "1 Hugo symbols not mapped to Entrez gene ID ['MARS']\n"
     ]
    },
    {
     "name": "stdout",
     "output_type": "stream",
     "text": [
      "Warning: query IDs not mapped to any target IDs excluded: 1\n"
     ]
    },
    {
     "name": "stderr",
     "output_type": "stream",
     "text": [
      "1 Hugo symbols not mapped to Entrez gene ID ['MLL2']\n"
     ]
    },
    {
     "name": "stdout",
     "output_type": "stream",
     "text": [
      "Warning: query IDs not mapped to any target IDs excluded: 1\n",
      "Warning: query IDs not mapped to any target IDs excluded: 1\n"
     ]
    },
    {
     "name": "stderr",
     "output_type": "stream",
     "text": [
      "1 Hugo symbols not mapped to Entrez gene ID ['ENSG00000226232']\n",
      "1 Hugo symbols not mapped to Entrez gene ID ['ENSG00000226232']\n"
     ]
    },
    {
     "name": "stdout",
     "output_type": "stream",
     "text": [
      "Warning: query IDs not mapped to any target IDs excluded: 1\n"
     ]
    },
    {
     "name": "stderr",
     "output_type": "stream",
     "text": [
      "1 Hugo symbols not mapped to Entrez gene ID ['CRIPAK']\n"
     ]
    },
    {
     "name": "stdout",
     "output_type": "stream",
     "text": [
      "Warning: query IDs not mapped to any target IDs excluded: 1\n"
     ]
    },
    {
     "name": "stderr",
     "output_type": "stream",
     "text": [
      "1 Hugo symbols not mapped to Entrez gene ID ['DBC1']\n"
     ]
    },
    {
     "name": "stdout",
     "output_type": "stream",
     "text": [
      "Warning: query IDs not mapped to any target IDs excluded: 1\n"
     ]
    },
    {
     "name": "stderr",
     "output_type": "stream",
     "text": [
      "1 Hugo symbols not mapped to Entrez gene ID ['HIST1H2BG']\n"
     ]
    },
    {
     "name": "stdout",
     "output_type": "stream",
     "text": [
      "Warning: query IDs mapping to duplicated target IDs in mapping table: 2\n",
      "Warning: query IDs not mapped to any target IDs excluded: 13\n"
     ]
    },
    {
     "name": "stderr",
     "output_type": "stream",
     "text": [
      "13 Hugo symbols not mapped to Entrez gene ID ['C10orf2', 'C2orf47', 'CSRP2BP', 'GARS', 'GIF', 'HIST1H2BG', 'MLL2', 'MUM1', 'ODZ3', 'PPYR1', 'ENSG00000184909', 'ENSG00000187461', 'ENSG00000248710']\n"
     ]
    },
    {
     "name": "stdout",
     "output_type": "stream",
     "text": [
      "Warning: query IDs not mapped to any target IDs excluded: 1\n",
      "Warning: query IDs not mapped to any target IDs excluded: 1\n"
     ]
    },
    {
     "name": "stderr",
     "output_type": "stream",
     "text": [
      "1 Hugo symbols not mapped to Entrez gene ID ['MLL2']\n",
      "1 Hugo symbols not mapped to Entrez gene ID ['C10orf2']\n"
     ]
    },
    {
     "name": "stdout",
     "output_type": "stream",
     "text": [
      "Warning: query IDs not mapped to any target IDs excluded: 7\n"
     ]
    },
    {
     "name": "stderr",
     "output_type": "stream",
     "text": [
      "7 Hugo symbols not mapped to Entrez gene ID ['DBC1', 'FAM18B2', 'MLL2', 'MLL4', 'NOV', 'ENSG00000256349', 'FLJ43860']\n"
     ]
    },
    {
     "name": "stdout",
     "output_type": "stream",
     "text": [
      "Warning: query IDs not mapped to any target IDs excluded: 1\n"
     ]
    },
    {
     "name": "stderr",
     "output_type": "stream",
     "text": [
      "1 Hugo symbols not mapped to Entrez gene ID ['AIM1']\n"
     ]
    },
    {
     "name": "stdout",
     "output_type": "stream",
     "text": [
      "Warning: query IDs not mapped to any target IDs excluded: 1\n"
     ]
    },
    {
     "name": "stderr",
     "output_type": "stream",
     "text": [
      "1 Hugo symbols not mapped to Entrez gene ID ['QARS']\n"
     ]
    },
    {
     "name": "stdout",
     "output_type": "stream",
     "text": [
      "Warning: query IDs not mapped to any target IDs excluded: 1\n"
     ]
    },
    {
     "name": "stderr",
     "output_type": "stream",
     "text": [
      "1 Hugo symbols not mapped to Entrez gene ID ['DBC1']\n"
     ]
    },
    {
     "name": "stdout",
     "output_type": "stream",
     "text": [
      "Warning: query IDs not mapped to any target IDs excluded: 1\n"
     ]
    },
    {
     "name": "stderr",
     "output_type": "stream",
     "text": [
      "1 Hugo symbols not mapped to Entrez gene ID ['CRIPAK']\n"
     ]
    },
    {
     "name": "stdout",
     "output_type": "stream",
     "text": [
      "Warning: query IDs not mapped to any target IDs excluded: 2\n",
      "Warning: query IDs not mapped to any target IDs excluded: 1\n"
     ]
    },
    {
     "name": "stderr",
     "output_type": "stream",
     "text": [
      "2 Hugo symbols not mapped to Entrez gene ID ['FAM21A', 'ENSG00000260861']\n",
      "1 Hugo symbols not mapped to Entrez gene ID ['HEATR8']\n"
     ]
    },
    {
     "name": "stdout",
     "output_type": "stream",
     "text": [
      "Warning: query IDs not mapped to any target IDs excluded: 1\n"
     ]
    },
    {
     "name": "stderr",
     "output_type": "stream",
     "text": [
      "1 Hugo symbols not mapped to Entrez gene ID ['ENSG00000184909']\n"
     ]
    },
    {
     "name": "stdout",
     "output_type": "stream",
     "text": [
      "Warning: query IDs not mapped to any target IDs excluded: 2\n"
     ]
    },
    {
     "name": "stderr",
     "output_type": "stream",
     "text": [
      "2 Hugo symbols not mapped to Entrez gene ID ['GIF', 'ENSG00000261884']\n"
     ]
    },
    {
     "name": "stdout",
     "output_type": "stream",
     "text": [
      "Warning: query IDs not mapped to any target IDs excluded: 1\n"
     ]
    },
    {
     "name": "stderr",
     "output_type": "stream",
     "text": [
      "1 Hugo symbols not mapped to Entrez gene ID ['QARS']\n"
     ]
    },
    {
     "name": "stdout",
     "output_type": "stream",
     "text": [
      "Warning: query IDs not mapped to any target IDs excluded: 1\n",
      "Warning: query IDs not mapped to any target IDs excluded: 1\n"
     ]
    },
    {
     "name": "stderr",
     "output_type": "stream",
     "text": [
      "1 Hugo symbols not mapped to Entrez gene ID ['CRIPAK']\n",
      "1"
     ]
    },
    {
     "name": "stdout",
     "output_type": "stream",
     "text": [
      "Warning: query IDs not mapped to any target IDs excluded: 1\n"
     ]
    },
    {
     "name": "stderr",
     "output_type": "stream",
     "text": [
      " Hugo symbols not mapped to Entrez gene ID ['TCEB3C']\n",
      "1 Hugo symbols not mapped to Entrez gene ID ['KIAA0664']\n",
      "1 Hugo symbols not mapped to Entrez gene ID ['ENSG00000248710']\n"
     ]
    },
    {
     "name": "stdout",
     "output_type": "stream",
     "text": [
      "Warning: query IDs not mapped to any target IDs excluded: 1\n",
      "Warning: query IDs not mapped to any target IDs excluded: 4\n"
     ]
    },
    {
     "name": "stderr",
     "output_type": "stream",
     "text": [
      "4 Hugo symbols not mapped to Entrez gene ID ['AGPAT9', 'MARS', 'ODZ3', 'ENSG00000260175']\n"
     ]
    },
    {
     "name": "stdout",
     "output_type": "stream",
     "text": [
      "Warning: query IDs not mapped to any target IDs excluded: 1\n",
      "Warning: query IDs not mapped to any target IDs excluded: 1\n"
     ]
    },
    {
     "name": "stderr",
     "output_type": "stream",
     "text": [
      "1 Hugo symbols not mapped to Entrez gene ID ['ENSG00000226232']\n",
      "1 Hugo symbols not mapped to Entrez gene ID ['KIAA1045']\n"
     ]
    },
    {
     "name": "stdout",
     "output_type": "stream",
     "text": [
      "Warning: query IDs not mapped to any target IDs excluded: 2\n"
     ]
    },
    {
     "name": "stderr",
     "output_type": "stream",
     "text": [
      "2 Hugo symbols not mapped to Entrez gene ID ['CSRP2BP', 'MLL4']\n"
     ]
    },
    {
     "name": "stdout",
     "output_type": "stream",
     "text": [
      "Warning: query IDs not mapped to any target IDs excluded: 1\n"
     ]
    },
    {
     "name": "stderr",
     "output_type": "stream",
     "text": [
      "1 Hugo symbols not mapped to Entrez gene ID ['AIM1']\n"
     ]
    },
    {
     "name": "stdout",
     "output_type": "stream",
     "text": [
      "Warning: query IDs not mapped to any target IDs excluded: 1\n"
     ]
    },
    {
     "name": "stderr",
     "output_type": "stream",
     "text": [
      "1 Hugo symbols not mapped to Entrez gene ID ['ODZ3']\n"
     ]
    },
    {
     "name": "stdout",
     "output_type": "stream",
     "text": [
      "Warning: query IDs not mapped to any target IDs excluded: 2\n"
     ]
    },
    {
     "name": "stderr",
     "output_type": "stream",
     "text": [
      "2 Hugo symbols not mapped to Entrez gene ID ['QARS', 'ENSG00000173366']\n"
     ]
    },
    {
     "name": "stdout",
     "output_type": "stream",
     "text": [
      "Warning: query IDs not mapped to any target IDs excluded: 1\n",
      "Warning: query IDs not mapped to any target IDs excluded: 1\n"
     ]
    },
    {
     "name": "stderr",
     "output_type": "stream",
     "text": [
      "1 Hugo symbols not mapped to Entrez gene ID ['ENSG00000254553']\n",
      "1 Hugo symbols not mapped to Entrez gene ID ['HEATR8']\n"
     ]
    },
    {
     "name": "stdout",
     "output_type": "stream",
     "text": [
      "Warning: query IDs not mapped to any target IDs excluded: 1\n"
     ]
    },
    {
     "name": "stderr",
     "output_type": "stream",
     "text": [
      "1 Hugo symbols not mapped to Entrez gene ID ['MLL2']\n"
     ]
    },
    {
     "name": "stdout",
     "output_type": "stream",
     "text": [
      "Warning: query IDs not mapped to any target IDs excluded: 1\n"
     ]
    },
    {
     "name": "stderr",
     "output_type": "stream",
     "text": [
      "1 Hugo symbols not mapped to Entrez gene ID ['FLJ22184']\n"
     ]
    },
    {
     "name": "stdout",
     "output_type": "stream",
     "text": [
      "Warning: query IDs not mapped to any target IDs excluded: 1\n"
     ]
    },
    {
     "name": "stderr",
     "output_type": "stream",
     "text": [
      "1 Hugo symbols not mapped to Entrez gene ID ['SARS']\n"
     ]
    },
    {
     "name": "stdout",
     "output_type": "stream",
     "text": [
      "Warning: query IDs not mapped to any target IDs excluded: 2\n"
     ]
    },
    {
     "name": "stderr",
     "output_type": "stream",
     "text": [
      "2 Hugo symbols not mapped to Entrez gene ID ['DBC1', 'ENSG00000226232']\n"
     ]
    },
    {
     "name": "stdout",
     "output_type": "stream",
     "text": [
      "Warning: query IDs not mapped to any target IDs excluded: 1\n"
     ]
    },
    {
     "name": "stderr",
     "output_type": "stream",
     "text": [
      "1 Hugo symbols not mapped to Entrez gene ID ['FAM21A']\n"
     ]
    },
    {
     "name": "stdout",
     "output_type": "stream",
     "text": [
      "Warning: query IDs not mapped to any target IDs excluded: 1\n"
     ]
    },
    {
     "name": "stderr",
     "output_type": "stream",
     "text": [
      "1 Hugo symbols not mapped to Entrez gene ID ['ENSG00000173366']\n"
     ]
    },
    {
     "name": "stdout",
     "output_type": "stream",
     "text": [
      "Warning: query IDs not mapped to any target IDs excluded: 1\n",
      "Warning: query IDs not mapped to any target IDs excluded: 2\n"
     ]
    },
    {
     "name": "stderr",
     "output_type": "stream",
     "text": [
      "1 Hugo symbols not mapped to Entrez gene ID ['AIM1']\n",
      "2 Hugo symbols not mapped to Entrez gene ID ['AIM1', 'CD97']\n"
     ]
    },
    {
     "name": "stdout",
     "output_type": "stream",
     "text": [
      "Warning: query IDs not mapped to any target IDs excluded: 1\n"
     ]
    },
    {
     "name": "stderr",
     "output_type": "stream",
     "text": [
      "1 Hugo symbols not mapped to Entrez gene ID ['SLC35E2']\n"
     ]
    },
    {
     "name": "stdout",
     "output_type": "stream",
     "text": [
      "Warning: query IDs not mapped to any target IDs excluded: 1\n",
      "Warning: query IDs not mapped to any target IDs excluded: 2\n",
      "Warning: query IDs not mapped to any target IDs excluded: 1\n"
     ]
    },
    {
     "name": "stderr",
     "output_type": "stream",
     "text": [
      "1 Hugo symbols not mapped to Entrez gene ID ['MT-CYB']\n",
      "2 Hugo symbols not mapped to Entrez gene ID ['MT-CYB', 'MT-ND1']\n",
      "1 Hugo symbols not mapped to Entrez gene ID ['HEATR8']\n"
     ]
    },
    {
     "name": "stdout",
     "output_type": "stream",
     "text": [
      "Warning: query IDs not mapped to any target IDs excluded: 1\n"
     ]
    },
    {
     "name": "stderr",
     "output_type": "stream",
     "text": [
      "1 Hugo symbols not mapped to Entrez gene ID ['MLL4']\n"
     ]
    },
    {
     "name": "stdout",
     "output_type": "stream",
     "text": [
      "Warning: query IDs not mapped to any target IDs excluded: 1\n"
     ]
    },
    {
     "name": "stderr",
     "output_type": "stream",
     "text": [
      "1 Hugo symbols not mapped to Entrez gene ID ['ENSG00000226232']\n"
     ]
    },
    {
     "name": "stdout",
     "output_type": "stream",
     "text": [
      "Warning: query IDs not mapped to any target IDs excluded: 1\n"
     ]
    },
    {
     "name": "stderr",
     "output_type": "stream",
     "text": [
      "1 Hugo symbols not mapped to Entrez gene ID ['FAM21A']\n"
     ]
    },
    {
     "name": "stdout",
     "output_type": "stream",
     "text": [
      "Warning: query IDs not mapped to any target IDs excluded: 4\n"
     ]
    },
    {
     "name": "stderr",
     "output_type": "stream",
     "text": [
      "4 Hugo symbols not mapped to Entrez gene ID ['PPYR1', 'TRAPPC2P1', 'CRIPAK', 'FLJ22184']\n"
     ]
    },
    {
     "name": "stdout",
     "output_type": "stream",
     "text": [
      "Warning: query IDs not mapped to any target IDs excluded: 1\n",
      "Warning: query IDs not mapped to any target IDs excluded: 1\n"
     ]
    },
    {
     "name": "stderr",
     "output_type": "stream",
     "text": [
      "1 Hugo symbols not mapped to Entrez gene ID ['MLL2']\n",
      "1 Hugo symbols not mapped to Entrez gene ID ['EFTUD1']\n"
     ]
    },
    {
     "name": "stdout",
     "output_type": "stream",
     "text": [
      "Warning: query IDs not mapped to any target IDs excluded: 1\n",
      "Warning: query IDs not mapped to any target IDs excluded: 1\n"
     ]
    },
    {
     "name": "stderr",
     "output_type": "stream",
     "text": [
      "1 Hugo symbols not mapped to Entrez gene ID ['ENSG00000259288']\n",
      "1 Hugo symbols not mapped to Entrez gene ID ['HIST1H2BC']\n"
     ]
    },
    {
     "name": "stdout",
     "output_type": "stream",
     "text": [
      "Warning: query IDs not mapped to any target IDs excluded: 1\n"
     ]
    },
    {
     "name": "stderr",
     "output_type": "stream",
     "text": [
      "1 Hugo symbols not mapped to Entrez gene ID ['ODZ3']\n"
     ]
    },
    {
     "name": "stdout",
     "output_type": "stream",
     "text": [
      "Warning: query IDs not mapped to any target IDs excluded: 2\n"
     ]
    },
    {
     "name": "stderr",
     "output_type": "stream",
     "text": [
      "2 Hugo symbols not mapped to Entrez gene ID ['DBC1', 'HIST1H2BC']\n"
     ]
    },
    {
     "name": "stdout",
     "output_type": "stream",
     "text": [
      "Warning: query IDs not mapped to any target IDs excluded: 1\n"
     ]
    },
    {
     "name": "stderr",
     "output_type": "stream",
     "text": [
      "1 Hugo symbols not mapped to Entrez gene ID ['ENSG00000248710']\n"
     ]
    },
    {
     "name": "stdout",
     "output_type": "stream",
     "text": [
      "Warning: query IDs not mapped to any target IDs excluded: 1\n"
     ]
    },
    {
     "name": "stderr",
     "output_type": "stream",
     "text": [
      "1 Hugo symbols not mapped to Entrez gene ID ['FAM21A']\n"
     ]
    },
    {
     "name": "stdout",
     "output_type": "stream",
     "text": [
      "Warning: query IDs not mapped to any target IDs excluded: 2\n"
     ]
    },
    {
     "name": "stderr",
     "output_type": "stream",
     "text": [
      "2 Hugo symbols not mapped to Entrez gene ID ['ADC', 'ODZ3']\n"
     ]
    },
    {
     "name": "stdout",
     "output_type": "stream",
     "text": [
      "Warning: query IDs not mapped to any target IDs excluded: 3\n"
     ]
    },
    {
     "name": "stderr",
     "output_type": "stream",
     "text": [
      "3 Hugo symbols not mapped to Entrez gene ID ['CD97', 'FAM18B2', 'HIST1H2BE']\n"
     ]
    },
    {
     "name": "stdout",
     "output_type": "stream",
     "text": [
      "Warning: query IDs not mapped to any target IDs excluded: 1\n"
     ]
    },
    {
     "name": "stderr",
     "output_type": "stream",
     "text": [
      "1 Hugo symbols not mapped to Entrez gene ID ['ENSG00000232637']\n"
     ]
    },
    {
     "name": "stdout",
     "output_type": "stream",
     "text": [
      "Warning: query IDs not mapped to any target IDs excluded: 1\n"
     ]
    },
    {
     "name": "stderr",
     "output_type": "stream",
     "text": [
      "1 Hugo symbols not mapped to Entrez gene ID ['FLJ43860']\n"
     ]
    },
    {
     "name": "stdout",
     "output_type": "stream",
     "text": [
      "Warning: query IDs not mapped to any target IDs excluded: 1\n",
      "Warning: query IDs not mapped to any target IDs excluded: 1\n"
     ]
    },
    {
     "name": "stderr",
     "output_type": "stream",
     "text": [
      "1 Hugo symbols not mapped to Entrez gene ID ['C2orf47']\n",
      "1 Hugo symbols not mapped to Entrez gene ID ['ENSG00000247570']\n"
     ]
    },
    {
     "name": "stdout",
     "output_type": "stream",
     "text": [
      "Warning: query IDs not mapped to any target IDs excluded: 1\n"
     ]
    },
    {
     "name": "stderr",
     "output_type": "stream",
     "text": [
      "1 Hugo symbols not mapped to Entrez gene ID ['PPYR1']\n"
     ]
    },
    {
     "name": "stdout",
     "output_type": "stream",
     "text": [
      "Warning: query IDs not mapped to any target IDs excluded: 2\n"
     ]
    },
    {
     "name": "stderr",
     "output_type": "stream",
     "text": [
      "2 Hugo symbols not mapped to Entrez gene ID ['C2orf47', 'CD97']\n"
     ]
    },
    {
     "name": "stdout",
     "output_type": "stream",
     "text": [
      "Warning: query IDs not mapped to any target IDs excluded: 5\n"
     ]
    },
    {
     "name": "stderr",
     "output_type": "stream",
     "text": [
      "5 Hugo symbols not mapped to Entrez gene ID ['AZI1', 'MLL2', 'MLL4', 'ENSG00000258466', 'KIAA0664']\n"
     ]
    },
    {
     "name": "stdout",
     "output_type": "stream",
     "text": [
      "Warning: query IDs not mapped to any target IDs excluded: 2\n"
     ]
    },
    {
     "name": "stderr",
     "output_type": "stream",
     "text": [
      "2 Hugo symbols not mapped to Entrez gene ID ['MLL2', 'TRAPPC2P1']\n"
     ]
    },
    {
     "name": "stdout",
     "output_type": "stream",
     "text": [
      "Warning: query IDs not mapped to any target IDs excluded: 1\n",
      "Warning: query IDs not mapped to any target IDs excluded: 1\n"
     ]
    },
    {
     "name": "stderr",
     "output_type": "stream",
     "text": [
      "1 Hugo symbols not mapped to Entrez gene ID ['FAM21A']\n",
      "1 Hugo symbols not mapped to Entrez gene ID ['ENSG00000251357']\n"
     ]
    },
    {
     "name": "stdout",
     "output_type": "stream",
     "text": [
      "Warning: query IDs not mapped to any target IDs excluded: 1\n",
      "Warning: query IDs not mapped to any target IDs excluded: 1\n"
     ]
    },
    {
     "name": "stderr",
     "output_type": "stream",
     "text": [
      "1 Hugo symbols not mapped to Entrez gene ID ['ENSG00000214970']\n",
      "1 Hugo symbols not mapped to Entrez gene ID ['C10orf2']\n"
     ]
    },
    {
     "name": "stdout",
     "output_type": "stream",
     "text": [
      "Warning: query IDs not mapped to any target IDs excluded: 2\n",
      "Warning: query IDs not mapped to any target IDs excluded: 1\n"
     ]
    },
    {
     "name": "stderr",
     "output_type": "stream",
     "text": [
      "2 Hugo symbols not mapped to Entrez gene ID ['MLL2', 'ENSG00000262323']\n",
      "1 Hugo symbols not mapped to Entrez gene ID ['FAM21A']\n"
     ]
    },
    {
     "name": "stdout",
     "output_type": "stream",
     "text": [
      "Warning: query IDs not mapped to any target IDs excluded: 1\n"
     ]
    },
    {
     "name": "stderr",
     "output_type": "stream",
     "text": [
      "1 Hugo symbols not mapped to Entrez gene ID ['KIAA1804']\n"
     ]
    },
    {
     "name": "stdout",
     "output_type": "stream",
     "text": [
      "Warning: query IDs not mapped to any target IDs excluded: 1\n"
     ]
    },
    {
     "name": "stderr",
     "output_type": "stream",
     "text": [
      "1 Hugo symbols not mapped to Entrez gene ID ['FLJ22184']\n"
     ]
    },
    {
     "name": "stdout",
     "output_type": "stream",
     "text": [
      "Warning: query IDs not mapped to any target IDs excluded: 1\n"
     ]
    },
    {
     "name": "stderr",
     "output_type": "stream",
     "text": [
      "1 Hugo symbols not mapped to Entrez gene ID ['FAM18B2']\n"
     ]
    },
    {
     "name": "stdout",
     "output_type": "stream",
     "text": [
      "Warning: query IDs not mapped to any target IDs excluded: 1\n"
     ]
    },
    {
     "name": "stderr",
     "output_type": "stream",
     "text": [
      "1 Hugo symbols not mapped to Entrez gene ID ['MLL2']\n"
     ]
    },
    {
     "name": "stdout",
     "output_type": "stream",
     "text": [
      "Warning: query IDs not mapped to any target IDs excluded: 1\n"
     ]
    },
    {
     "name": "stderr",
     "output_type": "stream",
     "text": [
      "1 Hugo symbols not mapped to Entrez gene ID ['MLL4']\n"
     ]
    },
    {
     "name": "stdout",
     "output_type": "stream",
     "text": [
      "Warning: query IDs not mapped to any target IDs excluded: 1\n"
     ]
    },
    {
     "name": "stderr",
     "output_type": "stream",
     "text": [
      "1 Hugo symbols not mapped to Entrez gene ID ['SARS']\n"
     ]
    },
    {
     "name": "stdout",
     "output_type": "stream",
     "text": [
      "Warning: query IDs not mapped to any target IDs excluded: 1\n"
     ]
    },
    {
     "name": "stderr",
     "output_type": "stream",
     "text": [
      "1 Hugo symbols not mapped to Entrez gene ID ['FLJ43860']\n"
     ]
    },
    {
     "name": "stdout",
     "output_type": "stream",
     "text": [
      "Warning: query IDs not mapped to any target IDs excluded: 1\n"
     ]
    },
    {
     "name": "stderr",
     "output_type": "stream",
     "text": [
      "1 Hugo symbols not mapped to Entrez gene ID ['ENSG00000260175']\n"
     ]
    },
    {
     "name": "stdout",
     "output_type": "stream",
     "text": [
      "Warning: query IDs not mapped to any target IDs excluded: 1\n"
     ]
    },
    {
     "name": "stderr",
     "output_type": "stream",
     "text": [
      "1 Hugo symbols not mapped to Entrez gene ID ['MLL2']\n"
     ]
    },
    {
     "name": "stdout",
     "output_type": "stream",
     "text": [
      "Warning: query IDs not mapped to any target IDs excluded: 1\n"
     ]
    },
    {
     "name": "stderr",
     "output_type": "stream",
     "text": [
      "1 Hugo symbols not mapped to Entrez gene ID ['MLL2']\n"
     ]
    },
    {
     "name": "stdout",
     "output_type": "stream",
     "text": [
      "Warning: query IDs not mapped to any target IDs excluded: 1\n"
     ]
    },
    {
     "name": "stderr",
     "output_type": "stream",
     "text": [
      "1 Hugo symbols not mapped to Entrez gene ID ['MLL2']\n"
     ]
    },
    {
     "name": "stdout",
     "output_type": "stream",
     "text": [
      "Warning: query IDs not mapped to any target IDs excluded: 1\n"
     ]
    },
    {
     "name": "stderr",
     "output_type": "stream",
     "text": [
      "1 Hugo symbols not mapped to Entrez gene ID ['MLL2']\n"
     ]
    },
    {
     "name": "stdout",
     "output_type": "stream",
     "text": [
      "Warning: query IDs not mapped to any target IDs excluded: 1\n"
     ]
    },
    {
     "name": "stderr",
     "output_type": "stream",
     "text": [
      "1 Hugo symbols not mapped to Entrez gene ID ['SEPT2']\n"
     ]
    },
    {
     "name": "stdout",
     "output_type": "stream",
     "text": [
      "Warning: query IDs not mapped to any target IDs excluded: 1\n"
     ]
    },
    {
     "name": "stderr",
     "output_type": "stream",
     "text": [
      "1 Hugo symbols not mapped to Entrez gene ID ['MLL2']\n"
     ]
    },
    {
     "name": "stdout",
     "output_type": "stream",
     "text": [
      "Warning: query IDs not mapped to any target IDs excluded: 1\n"
     ]
    },
    {
     "name": "stderr",
     "output_type": "stream",
     "text": [
      "1 Hugo symbols not mapped to Entrez gene ID ['AIM1']\n"
     ]
    },
    {
     "name": "stdout",
     "output_type": "stream",
     "text": [
      "Warning: query IDs not mapped to any target IDs excluded: 5\n"
     ]
    },
    {
     "name": "stderr",
     "output_type": "stream",
     "text": [
      "5 Hugo symbols not mapped to Entrez gene ID ['CSRP2BP', 'DBC1', 'ODZ3', 'ENSG00000233389', 'ENSG00000237240']\n"
     ]
    },
    {
     "name": "stdout",
     "output_type": "stream",
     "text": [
      "Warning: query IDs not mapped to any target IDs excluded: 3\n"
     ]
    },
    {
     "name": "stderr",
     "output_type": "stream",
     "text": [
      "3 Hugo symbols not mapped to Entrez gene ID ['MLL4', 'ODZ3', 'ENSG00000257950']\n"
     ]
    },
    {
     "name": "stdout",
     "output_type": "stream",
     "text": [
      "Warning: query IDs not mapped to any target IDs excluded: 1\n"
     ]
    },
    {
     "name": "stderr",
     "output_type": "stream",
     "text": [
      "1 Hugo symbols not mapped to Entrez gene ID ['SARS']\n"
     ]
    },
    {
     "name": "stdout",
     "output_type": "stream",
     "text": [
      "Warning: query IDs not mapped to any target IDs excluded: 1\n"
     ]
    },
    {
     "name": "stderr",
     "output_type": "stream",
     "text": [
      "1 Hugo symbols not mapped to Entrez gene ID ['MARS']\n"
     ]
    },
    {
     "name": "stdout",
     "output_type": "stream",
     "text": [
      "Warning: query IDs not mapped to any target IDs excluded: 1\n"
     ]
    },
    {
     "name": "stderr",
     "output_type": "stream",
     "text": [
      "1 Hugo symbols not mapped to Entrez gene ID ['ENSG00000226232']\n"
     ]
    },
    {
     "name": "stdout",
     "output_type": "stream",
     "text": [
      "Warning: query IDs not mapped to any target IDs excluded: 1\n"
     ]
    },
    {
     "name": "stderr",
     "output_type": "stream",
     "text": [
      "1 Hugo symbols not mapped to Entrez gene ID ['CRIPAK']\n"
     ]
    },
    {
     "name": "stdout",
     "output_type": "stream",
     "text": [
      "Warning: query IDs not mapped to any target IDs excluded: 3\n"
     ]
    },
    {
     "name": "stderr",
     "output_type": "stream",
     "text": [
      "3 Hugo symbols not mapped to Entrez gene ID ['CSRP2BP', 'SARS', 'SLC35E2']\n"
     ]
    },
    {
     "name": "stdout",
     "output_type": "stream",
     "text": [
      "Warning: query IDs not mapped to any target IDs excluded: 1\n"
     ]
    },
    {
     "name": "stderr",
     "output_type": "stream",
     "text": [
      "1 Hugo symbols not mapped to Entrez gene ID ['ODZ3']\n"
     ]
    },
    {
     "name": "stdout",
     "output_type": "stream",
     "text": [
      "Warning: query IDs not mapped to any target IDs excluded: 4\n",
      "Warning: query IDs not mapped to any target IDs excluded: 1\n",
      "Warning: query IDs not mapped to any target IDs excluded: 1\n"
     ]
    },
    {
     "name": "stderr",
     "output_type": "stream",
     "text": [
      "4 Hugo symbols not mapped to Entrez gene ID ['AIM1', 'AZI1', 'MLL2', 'ENSG00000254553']\n",
      "1 Hugo symbols not mapped to Entrez gene ID ['KIAA1045']\n",
      "1 Hugo symbols not mapped to Entrez gene ID ['MARS']\n",
      "1 Hugo symbols not mapped to Entrez gene ID ['ENSG00000184909']\n"
     ]
    },
    {
     "name": "stdout",
     "output_type": "stream",
     "text": [
      "Warning: query IDs not mapped to any target IDs excluded: 1\n",
      "Warning: query IDs not mapped to any target IDs excluded: 1\n",
      "Warning: query IDs not mapped to any target IDs excluded: 1\n"
     ]
    },
    {
     "name": "stderr",
     "output_type": "stream",
     "text": [
      "1 Hugo symbols not mapped to Entrez gene ID ['FAM18B2']\n",
      "1 Hugo symbols not mapped to Entrez gene ID ['ODZ3']\n"
     ]
    },
    {
     "name": "stdout",
     "output_type": "stream",
     "text": [
      "Warning: query IDs not mapped to any target IDs excluded: 1\n"
     ]
    },
    {
     "name": "stderr",
     "output_type": "stream",
     "text": [
      "1 Hugo symbols not mapped to Entrez gene ID ['FAM21A']\n"
     ]
    },
    {
     "name": "stdout",
     "output_type": "stream",
     "text": [
      "Warning: query IDs not mapped to any target IDs excluded: 1\n"
     ]
    },
    {
     "name": "stderr",
     "output_type": "stream",
     "text": [
      "1 Hugo symbols not mapped to Entrez gene ID ['MLL4']\n"
     ]
    },
    {
     "name": "stdout",
     "output_type": "stream",
     "text": [
      "Warning: query IDs not mapped to any target IDs excluded: 1\n"
     ]
    },
    {
     "name": "stderr",
     "output_type": "stream",
     "text": [
      "1 Hugo symbols not mapped to Entrez gene ID ['ENSG00000254553']\n"
     ]
    },
    {
     "name": "stdout",
     "output_type": "stream",
     "text": [
      "Warning: query IDs not mapped to any target IDs excluded: 1\n"
     ]
    },
    {
     "name": "stderr",
     "output_type": "stream",
     "text": [
      "1 Hugo symbols not mapped to Entrez gene ID ['KIAA0664']\n"
     ]
    },
    {
     "name": "stdout",
     "output_type": "stream",
     "text": [
      "Warning: query IDs not mapped to any target IDs excluded: 2\n"
     ]
    },
    {
     "name": "stderr",
     "output_type": "stream",
     "text": [
      "2 Hugo symbols not mapped to Entrez gene ID ['EFTUD1', 'RPL17-C18ORF32']\n"
     ]
    },
    {
     "name": "stdout",
     "output_type": "stream",
     "text": [
      "Warning: query IDs not mapped to any target IDs excluded: 1\n"
     ]
    },
    {
     "name": "stderr",
     "output_type": "stream",
     "text": [
      "1 Hugo symbols not mapped to Entrez gene ID ['HIST1H2BC']\n"
     ]
    },
    {
     "name": "stdout",
     "output_type": "stream",
     "text": [
      "Warning: query IDs not mapped to any target IDs excluded: 1\n"
     ]
    },
    {
     "name": "stderr",
     "output_type": "stream",
     "text": [
      "1 Hugo symbols not mapped to Entrez gene ID ['MLL4']\n"
     ]
    },
    {
     "name": "stdout",
     "output_type": "stream",
     "text": [
      "Warning: query IDs not mapped to any target IDs excluded: 1\n"
     ]
    },
    {
     "name": "stderr",
     "output_type": "stream",
     "text": [
      "1 Hugo symbols not mapped to Entrez gene ID ['FLJ43860']\n"
     ]
    },
    {
     "name": "stdout",
     "output_type": "stream",
     "text": [
      "Warning: query IDs not mapped to any target IDs excluded: 3\n"
     ]
    },
    {
     "name": "stderr",
     "output_type": "stream",
     "text": [
      "3 Hugo symbols not mapped to Entrez gene ID ['AIM1', 'HIST1H2BC', 'FLJ43860']\n"
     ]
    },
    {
     "name": "stdout",
     "output_type": "stream",
     "text": [
      "Warning: query IDs not mapped to any target IDs excluded: 1\n"
     ]
    },
    {
     "name": "stderr",
     "output_type": "stream",
     "text": [
      "1 Hugo symbols not mapped to Entrez gene ID ['ENSG00000256349']\n"
     ]
    },
    {
     "name": "stdout",
     "output_type": "stream",
     "text": [
      "Warning: query IDs not mapped to any target IDs excluded: 1\n",
      "Warning: query IDs not mapped to any target IDs excluded: 1\n"
     ]
    },
    {
     "name": "stderr",
     "output_type": "stream",
     "text": [
      "1 Hugo symbols not mapped to Entrez gene ID ['ENSG00000257033']\n",
      "1 Hugo symbols not mapped to Entrez gene ID ['CRIPAK']\n"
     ]
    },
    {
     "name": "stdout",
     "output_type": "stream",
     "text": [
      "Warning: query IDs not mapped to any target IDs excluded: 1\n"
     ]
    },
    {
     "name": "stderr",
     "output_type": "stream",
     "text": [
      "1 Hugo symbols not mapped to Entrez gene ID ['ENSG00000263424']\n"
     ]
    },
    {
     "name": "stdout",
     "output_type": "stream",
     "text": [
      "Warning: query IDs not mapped to any target IDs excluded: 1\n",
      "Warning: query IDs not mapped to any target IDs excluded: 1\n"
     ]
    },
    {
     "name": "stderr",
     "output_type": "stream",
     "text": [
      "1 Hugo symbols not mapped to Entrez gene ID ['ENSG00000258472']\n",
      "1 Hugo symbols not mapped to Entrez gene ID ['ENSG00000257921']\n"
     ]
    },
    {
     "name": "stdout",
     "output_type": "stream",
     "text": [
      "Warning: query IDs not mapped to any target IDs excluded: 2\n"
     ]
    },
    {
     "name": "stderr",
     "output_type": "stream",
     "text": [
      "2 Hugo symbols not mapped to Entrez gene ID ['CCBP2', 'FLJ43860']\n"
     ]
    },
    {
     "name": "stdout",
     "output_type": "stream",
     "text": [
      "Warning: query IDs not mapped to any target IDs excluded: 2\n"
     ]
    },
    {
     "name": "stderr",
     "output_type": "stream",
     "text": [
      "2 Hugo symbols not mapped to Entrez gene ID ['CRIPAK', 'ENSG00000267385']\n"
     ]
    },
    {
     "name": "stdout",
     "output_type": "stream",
     "text": [
      "Warning: query IDs not mapped to any target IDs excluded: 1\n"
     ]
    },
    {
     "name": "stderr",
     "output_type": "stream",
     "text": [
      "1 Hugo symbols not mapped to Entrez gene ID ['SEPT2']\n"
     ]
    },
    {
     "name": "stdout",
     "output_type": "stream",
     "text": [
      "Warning: query IDs not mapped to any target IDs excluded: 1\n"
     ]
    },
    {
     "name": "stderr",
     "output_type": "stream",
     "text": [
      "1 Hugo symbols not mapped to Entrez gene ID ['FAM21A']\n"
     ]
    },
    {
     "name": "stdout",
     "output_type": "stream",
     "text": [
      "Warning: query IDs not mapped to any target IDs excluded: 2\n"
     ]
    },
    {
     "name": "stderr",
     "output_type": "stream",
     "text": [
      "2 Hugo symbols not mapped to Entrez gene ID ['HN1L', 'FLJ43860']\n"
     ]
    },
    {
     "name": "stdout",
     "output_type": "stream",
     "text": [
      "Warning: query IDs not mapped to any target IDs excluded: 1\n"
     ]
    },
    {
     "name": "stderr",
     "output_type": "stream",
     "text": [
      "1 Hugo symbols not mapped to Entrez gene ID ['CRIPAK']\n"
     ]
    },
    {
     "name": "stdout",
     "output_type": "stream",
     "text": [
      "Warning: query IDs not mapped to any target IDs excluded: 1\n"
     ]
    },
    {
     "name": "stderr",
     "output_type": "stream",
     "text": [
      "1 Hugo symbols not mapped to Entrez gene ID ['ENSG00000248710']\n"
     ]
    },
    {
     "name": "stdout",
     "output_type": "stream",
     "text": [
      "Warning: query IDs not mapped to any target IDs excluded: 1\n"
     ]
    },
    {
     "name": "stderr",
     "output_type": "stream",
     "text": [
      "1 Hugo symbols not mapped to Entrez gene ID ['ENSG00000258852']\n"
     ]
    },
    {
     "name": "stdout",
     "output_type": "stream",
     "text": [
      "Warning: query IDs not mapped to any target IDs excluded: 1\n"
     ]
    },
    {
     "name": "stderr",
     "output_type": "stream",
     "text": [
      "1 Hugo symbols not mapped to Entrez gene ID ['MUM1']\n"
     ]
    },
    {
     "name": "stdout",
     "output_type": "stream",
     "text": [
      "Warning: query IDs not mapped to any target IDs excluded: 1\n"
     ]
    },
    {
     "name": "stderr",
     "output_type": "stream",
     "text": [
      "1 Hugo symbols not mapped to Entrez gene ID ['MARS']\n"
     ]
    },
    {
     "name": "stdout",
     "output_type": "stream",
     "text": [
      "Warning: query IDs not mapped to any target IDs excluded: 1\n"
     ]
    },
    {
     "name": "stderr",
     "output_type": "stream",
     "text": [
      "1 Hugo symbols not mapped to Entrez gene ID ['FLJ22184']\n"
     ]
    },
    {
     "name": "stdout",
     "output_type": "stream",
     "text": [
      "Warning: query IDs not mapped to any target IDs excluded: 2\n"
     ]
    },
    {
     "name": "stderr",
     "output_type": "stream",
     "text": [
      "2 Hugo symbols not mapped to Entrez gene ID ['APITD1', 'KIAA0664']\n"
     ]
    },
    {
     "name": "stdout",
     "output_type": "stream",
     "text": [
      "Warning: query IDs not mapped to any target IDs excluded: 2\n"
     ]
    },
    {
     "name": "stderr",
     "output_type": "stream",
     "text": [
      "2 Hugo symbols not mapped to Entrez gene ID ['AIM1', 'MUM1']\n"
     ]
    },
    {
     "name": "stdout",
     "output_type": "stream",
     "text": [
      "Warning: query IDs not mapped to any target IDs excluded: 1\n",
      "Warning: query IDs not mapped to any target IDs excluded: 1\n"
     ]
    },
    {
     "name": "stderr",
     "output_type": "stream",
     "text": [
      "1 Hugo symbols not mapped to Entrez gene ID ['HIST1H2BC']\n",
      "1 Hugo symbols not mapped to Entrez gene ID ['EFTUD1']\n"
     ]
    },
    {
     "name": "stdout",
     "output_type": "stream",
     "text": [
      "Warning: query IDs not mapped to any target IDs excluded: 2\n"
     ]
    },
    {
     "name": "stderr",
     "output_type": "stream",
     "text": [
      "2 Hugo symbols not mapped to Entrez gene ID ['FAM21A', 'ODZ3']\n"
     ]
    },
    {
     "name": "stdout",
     "output_type": "stream",
     "text": [
      "Warning: query IDs not mapped to any target IDs excluded: 1\n"
     ]
    },
    {
     "name": "stderr",
     "output_type": "stream",
     "text": [
      "1 Hugo symbols not mapped to Entrez gene ID ['KIAA1804']\n"
     ]
    },
    {
     "name": "stdout",
     "output_type": "stream",
     "text": [
      "Warning: query IDs not mapped to any target IDs excluded: 1\n"
     ]
    },
    {
     "name": "stderr",
     "output_type": "stream",
     "text": [
      "1 Hugo symbols not mapped to Entrez gene ID ['CRIPAK']\n"
     ]
    },
    {
     "name": "stdout",
     "output_type": "stream",
     "text": [
      "Warning: query IDs not mapped to any target IDs excluded: 1\n"
     ]
    },
    {
     "name": "stderr",
     "output_type": "stream",
     "text": [
      "1 Hugo symbols not mapped to Entrez gene ID ['FAM21A']\n"
     ]
    },
    {
     "name": "stdout",
     "output_type": "stream",
     "text": [
      "Warning: query IDs not mapped to any target IDs excluded: 1\n",
      "Warning: query IDs not mapped to any target IDs excluded: 2\n"
     ]
    },
    {
     "name": "stderr",
     "output_type": "stream",
     "text": [
      "1 Hugo symbols not mapped to Entrez gene ID ['GARS']\n",
      "2 Hugo symbols not mapped to Entrez gene ID ['HEATR8', 'ENSG00000248710']\n"
     ]
    },
    {
     "name": "stdout",
     "output_type": "stream",
     "text": [
      "Warning: query IDs not mapped to any target IDs excluded: 4\n",
      "Warning: query IDs not mapped to any target IDs excluded: 1\n"
     ]
    },
    {
     "name": "stderr",
     "output_type": "stream",
     "text": [
      "4 Hugo symbols not mapped to Entrez gene ID ['HEATR8', 'MLL2', 'ENSG00000251184', 'KIAA0664']\n",
      "1 Hugo symbols not mapped to Entrez gene ID ['FAM21A']\n"
     ]
    },
    {
     "name": "stdout",
     "output_type": "stream",
     "text": [
      "Warning: query IDs not mapped to any target IDs excluded: 1\n",
      "Warning: query IDs not mapped to any target IDs excluded: 1\n"
     ]
    },
    {
     "name": "stderr",
     "output_type": "stream",
     "text": [
      "1 Hugo symbols not mapped to Entrez gene ID ['CCBP2']\n",
      "1 Hugo symbols not mapped to Entrez gene ID ['HIST1H2BC']\n"
     ]
    },
    {
     "name": "stdout",
     "output_type": "stream",
     "text": [
      "Warning: query IDs not mapped to any target IDs excluded: 1\n"
     ]
    },
    {
     "name": "stderr",
     "output_type": "stream",
     "text": [
      "1 Hugo symbols not mapped to Entrez gene ID ['ENSG00000214397']\n"
     ]
    },
    {
     "name": "stdout",
     "output_type": "stream",
     "text": [
      "Warning: query IDs not mapped to any target IDs excluded: 1\n"
     ]
    },
    {
     "name": "stderr",
     "output_type": "stream",
     "text": [
      "1 Hugo symbols not mapped to Entrez gene ID ['QARS']\n"
     ]
    },
    {
     "name": "stdout",
     "output_type": "stream",
     "text": [
      "Warning: query IDs not mapped to any target IDs excluded: 2\n"
     ]
    },
    {
     "name": "stderr",
     "output_type": "stream",
     "text": [
      "2 Hugo symbols not mapped to Entrez gene ID ['MARS', 'FLJ43860']\n"
     ]
    },
    {
     "name": "stdout",
     "output_type": "stream",
     "text": [
      "Warning: query IDs not mapped to any target IDs excluded: 1\n"
     ]
    },
    {
     "name": "stderr",
     "output_type": "stream",
     "text": [
      "1 Hugo symbols not mapped to Entrez gene ID ['CD97']\n"
     ]
    },
    {
     "name": "stdout",
     "output_type": "stream",
     "text": [
      "Warning: query IDs not mapped to any target IDs excluded: 4\n"
     ]
    },
    {
     "name": "stderr",
     "output_type": "stream",
     "text": [
      "4 Hugo symbols not mapped to Entrez gene ID ['AZI1', 'C11orf48', 'HIST1H2BG', 'FLJ43860']\n"
     ]
    },
    {
     "name": "stdout",
     "output_type": "stream",
     "text": [
      "Warning: query IDs not mapped to any target IDs excluded: 2\n"
     ]
    },
    {
     "name": "stderr",
     "output_type": "stream",
     "text": [
      "2 Hugo symbols not mapped to Entrez gene ID ['ENSG00000176593', 'FLJ22184']\n"
     ]
    },
    {
     "name": "stdout",
     "output_type": "stream",
     "text": [
      "Warning: query IDs not mapped to any target IDs excluded: 1\n"
     ]
    },
    {
     "name": "stderr",
     "output_type": "stream",
     "text": [
      "1 Hugo symbols not mapped to Entrez gene ID ['HN1']\n"
     ]
    },
    {
     "name": "stdout",
     "output_type": "stream",
     "text": [
      "Warning: query IDs not mapped to any target IDs excluded: 2\n",
      "CESC\n"
     ]
    },
    {
     "name": "stderr",
     "output_type": "stream",
     "text": [
      "2 Hugo symbols not mapped to Entrez gene ID ['AIM1', 'FLJ27352']\n",
      "preprocessed maf 195 files;\t\traw maf: 0 files\n",
      "select processed maf file for cohort CESC\n",
      "use path data/TCGA/data/gdac.broadinstitute.org_CESC.Mutation_Packager_Calls.Level_3.2016012800.0.0/\n"
     ]
    },
    {
     "name": "stdout",
     "output_type": "stream",
     "text": [
      "CHOL\n"
     ]
    },
    {
     "name": "stderr",
     "output_type": "stream",
     "text": [
      "preprocessed maf 36 files;\t\traw maf: 0 files\n",
      "select processed maf file for cohort CHOL\n",
      "use path data/TCGA/data/gdac.broadinstitute.org_CHOL.Mutation_Packager_Calls.Level_3.2016012800.0.0/\n",
      "    Hugo_Symbol  Entrez_gene_ID Variant_Classification        function  \\\n",
      "145    MIR548F5           26960      Missense_Mutation  point_mutation   \n",
      "\n",
      "    AAChange    aa_pos  \n",
      "145        .  (NA, NA)  \n",
      "    Hugo_Symbol  Entrez_gene_ID Variant_Classification        function  \\\n",
      "88            .           80167      Missense_Mutation  point_mutation   \n",
      "108           .          400986      Missense_Mutation  point_mutation   \n",
      "98      TSPAN14           81619      Missense_Mutation  point_mutation   \n",
      "\n",
      "    AAChange    aa_pos  \n",
      "88         .  (NA, NA)  \n",
      "108        .  (NA, NA)  \n",
      "98         .  (NA, NA)  \n",
      "   Hugo_Symbol  Entrez_gene_ID Variant_Classification        function  \\\n",
      "90       CPNE9          151835      Missense_Mutation  point_mutation   \n",
      "\n",
      "   AAChange    aa_pos  \n",
      "90        .  (NA, NA)  \n",
      "    Hugo_Symbol  Entrez_gene_ID Variant_Classification        function  \\\n",
      "190       PCSK6            5046      Missense_Mutation  point_mutation   \n",
      "\n",
      "    AAChange    aa_pos  \n",
      "190        .  (NA, NA)  \n",
      "    Hugo_Symbol  Entrez_gene_ID Variant_Classification        function  \\\n",
      "105       MACF1           23499      Missense_Mutation  point_mutation   \n",
      "148      PCDH15           65217      Missense_Mutation  point_mutation   \n",
      "\n",
      "    AAChange    aa_pos  \n",
      "105        .  (NA, NA)  \n",
      "148        .  (NA, NA)  \n",
      "    Hugo_Symbol  Entrez_gene_ID Variant_Classification        function  \\\n",
      "273           .          400986      Missense_Mutation  point_mutation   \n",
      "304     PRPF40A           55660      Missense_Mutation  point_mutation   \n",
      "\n",
      "    AAChange    aa_pos  \n",
      "273        .  (NA, NA)  \n",
      "304        .  (NA, NA)  \n",
      "    Hugo_Symbol  Entrez_gene_ID Variant_Classification        function  \\\n",
      "142           .          400986      Missense_Mutation  point_mutation   \n",
      "139   ANKRD30BL          554226      Missense_Mutation  point_mutation   \n",
      "129       NBPF1           55672      Missense_Mutation  point_mutation   \n",
      "\n",
      "    AAChange    aa_pos  \n",
      "142        .  (NA, NA)  \n",
      "139        .  (NA, NA)  \n",
      "129        .  (NA, NA)  \n",
      "    Hugo_Symbol  Entrez_gene_ID Variant_Classification        function  \\\n",
      "183       FRG1B          284802      Missense_Mutation  point_mutation   \n",
      "\n",
      "    AAChange    aa_pos  \n",
      "183        .  (NA, NA)  \n",
      "    Hugo_Symbol  Entrez_gene_ID Variant_Classification        function  \\\n",
      "161           .            7203      Missense_Mutation  point_mutation   \n",
      "174      INO80E            8479      Missense_Mutation  point_mutation   \n",
      "\n",
      "    AAChange    aa_pos  \n",
      "161        .  (NA, NA)  \n",
      "174        .  (NA, NA)  \n",
      "    Hugo_Symbol  Entrez_gene_ID Variant_Classification        function  \\\n",
      "111           .          131034      Missense_Mutation  point_mutation   \n",
      "142      METTL8           79828      Missense_Mutation  point_mutation   \n",
      "\n",
      "    AAChange    aa_pos  \n",
      "111        .  (NA, NA)  \n",
      "142        .  (NA, NA)  \n",
      "    Hugo_Symbol  Entrez_gene_ID Variant_Classification        function  \\\n",
      "125        ADIG          149685      Missense_Mutation  point_mutation   \n",
      "116        GRK4            2868           In_Frame_Del  point_mutation   \n",
      "117       SMAD5            4090      Missense_Mutation  point_mutation   \n",
      "\n",
      "    AAChange    aa_pos  \n",
      "125        .  (NA, NA)  \n",
      "116        .  (NA, NA)  \n",
      "117        .  (NA, NA)  \n",
      "    Hugo_Symbol  Entrez_gene_ID Variant_Classification        function  \\\n",
      "226           .            1550      Missense_Mutation  point_mutation   \n",
      "215       PRSS1            5644      Missense_Mutation  point_mutation   \n",
      "214         ZAN            7455      Missense_Mutation  point_mutation   \n",
      "\n",
      "    AAChange    aa_pos  \n",
      "226        .  (NA, NA)  \n",
      "215        .  (NA, NA)  \n",
      "214        .  (NA, NA)  \n",
      "    Hugo_Symbol  Entrez_gene_ID Variant_Classification        function  \\\n",
      "211       FOLR3            2352      Missense_Mutation  point_mutation   \n",
      "\n",
      "    AAChange    aa_pos  \n",
      "211        .  (NA, NA)  \n",
      "    Hugo_Symbol  Entrez_gene_ID Variant_Classification        function  \\\n",
      "189       PRKDC            5591      Missense_Mutation  point_mutation   \n",
      "\n",
      "    AAChange    aa_pos  \n",
      "189        .  (NA, NA)  \n",
      "    Hugo_Symbol  Entrez_gene_ID Variant_Classification        function  \\\n",
      "142    ANKRD13D          338692      Missense_Mutation  point_mutation   \n",
      "129       ITGB3            3690      Missense_Mutation  point_mutation   \n",
      "\n",
      "    AAChange    aa_pos  \n",
      "142        .  (NA, NA)  \n",
      "129        .  (NA, NA)  \n",
      "   Hugo_Symbol  Entrez_gene_ID Variant_Classification        function  \\\n",
      "96        TTC3            7267      Missense_Mutation  point_mutation   \n",
      "\n",
      "   AAChange    aa_pos  \n",
      "96        .  (NA, NA)  \n",
      "    Hugo_Symbol  Entrez_gene_ID Variant_Classification        function  \\\n",
      "165       FRG1B          284802      Missense_Mutation  point_mutation   \n",
      "166       FRG1B          284802      Missense_Mutation  point_mutation   \n",
      "155        IWS1           55677      Missense_Mutation  point_mutation   \n",
      "\n",
      "    AAChange    aa_pos  \n",
      "165        .  (NA, NA)  \n",
      "166        .  (NA, NA)  \n",
      "155        .  (NA, NA)  \n",
      "    Hugo_Symbol  Entrez_gene_ID Variant_Classification        function  \\\n",
      "134           .           84443      Missense_Mutation  point_mutation   \n",
      "137    ARHGAP25            9938      Missense_Mutation  point_mutation   \n",
      "160       CECR2           27443      Missense_Mutation  point_mutation   \n",
      "\n",
      "    AAChange    aa_pos  \n",
      "134        .  (NA, NA)  \n",
      "137        .  (NA, NA)  \n",
      "160        .  (NA, NA)  \n",
      "     Hugo_Symbol  Entrez_gene_ID Variant_Classification        function  \\\n",
      "952            .          144535      Missense_Mutation  point_mutation   \n",
      "956            .          220416      Missense_Mutation  point_mutation   \n",
      "1000           .          285311      Missense_Mutation  point_mutation   \n",
      "1116    C11orf31          280636      Missense_Mutation  point_mutation   \n",
      "1121       COPG2           26958      Missense_Mutation  point_mutation   \n",
      "1087      DNAH10          642797      Missense_Mutation  point_mutation   \n",
      "1117        GPX2            2877      Missense_Mutation  point_mutation   \n",
      "1118      ZNF274           10782      Missense_Mutation  point_mutation   \n",
      "\n",
      "     AAChange    aa_pos  \n",
      "952         .  (NA, NA)  \n",
      "956         .  (NA, NA)  \n",
      "1000        .  (NA, NA)  \n",
      "1116        .  (NA, NA)  \n",
      "1121        .  (NA, NA)  \n",
      "1087        .  (NA, NA)  \n",
      "1117        .  (NA, NA)  \n",
      "1118        .  (NA, NA)  \n",
      "TCGA-W5-AA39-01A-11D-A417-09 CHOL 8 point mutations without a position 736 remain\n",
      "    Hugo_Symbol  Entrez_gene_ID Variant_Classification        function  \\\n",
      "115           .          728841      Missense_Mutation  point_mutation   \n",
      "128           .          400986      Missense_Mutation  point_mutation   \n",
      "\n",
      "    AAChange    aa_pos  \n",
      "115        .  (NA, NA)  \n",
      "128        .  (NA, NA)  \n",
      "    Hugo_Symbol  Entrez_gene_ID Variant_Classification        function  \\\n",
      "116           .       100129543      Missense_Mutation  point_mutation   \n",
      "163      THSD7B           80731      Missense_Mutation  point_mutation   \n",
      "\n",
      "    AAChange    aa_pos  \n",
      "116        .  (NA, NA)  \n",
      "163        .  (NA, NA)  \n",
      "    Hugo_Symbol  Entrez_gene_ID Variant_Classification        function  \\\n",
      "129           .           50649      Missense_Mutation  point_mutation   \n",
      "136       SH2B2           10603      Missense_Mutation  point_mutation   \n",
      "\n",
      "    AAChange    aa_pos  \n",
      "129        .  (NA, NA)  \n",
      "136        .  (NA, NA)  \n",
      "    Hugo_Symbol  Entrez_gene_ID Variant_Classification        function  \\\n",
      "118           .          728741      Missense_Mutation  point_mutation   \n",
      "132           .           30816      Missense_Mutation  point_mutation   \n",
      "\n",
      "    AAChange    aa_pos  \n",
      "118        .  (NA, NA)  \n",
      "132        .  (NA, NA)  \n",
      "    Hugo_Symbol  Entrez_gene_ID Variant_Classification        function  \\\n",
      "101           .          319089      Missense_Mutation  point_mutation   \n",
      "94      FOXRED1           55572      Missense_Mutation  point_mutation   \n",
      "117       SPEF2           79925      Missense_Mutation  point_mutation   \n",
      "\n",
      "    AAChange    aa_pos  \n",
      "101        .  (NA, NA)  \n",
      "94         .  (NA, NA)  \n",
      "117        .  (NA, NA)  \n",
      "    Hugo_Symbol  Entrez_gene_ID Variant_Classification        function  \\\n",
      "175     MAP3K14            9020      Missense_Mutation  point_mutation   \n",
      "\n",
      "    AAChange    aa_pos  \n",
      "175        .  (NA, NA)  \n"
     ]
    },
    {
     "name": "stderr",
     "output_type": "stream",
     "text": [
      "    Hugo_Symbol  Entrez_gene_ID Variant_Classification        function  \\\n",
      "146           .          388677      Missense_Mutation  point_mutation   \n",
      "192      PCDH15           65217      Missense_Mutation  point_mutation   \n",
      "178       TTYH3           80727      Missense_Mutation  point_mutation   \n",
      "193       UHRF1           29128      Missense_Mutation  point_mutation   \n",
      "\n",
      "    AAChange    aa_pos  \n",
      "146        .  (NA, NA)  \n",
      "192        .  (NA, NA)  \n",
      "178        .  (NA, NA)  \n",
      "193        .  (NA, NA)  \n",
      "    Hugo_Symbol  Entrez_gene_ID Variant_Classification        function  \\\n",
      "115           .           28891      Missense_Mutation  point_mutation   \n",
      "\n",
      "    AAChange    aa_pos  \n",
      "115        .  (NA, NA)  \n",
      "    Hugo_Symbol  Entrez_gene_ID Variant_Classification        function  \\\n",
      "185           .           91646      Missense_Mutation  point_mutation   \n",
      "221      DNAH11            8701      Missense_Mutation  point_mutation   \n",
      "219       FRG1B          284802      Missense_Mutation  point_mutation   \n",
      "220       FRG1B          284802      Missense_Mutation  point_mutation   \n",
      "\n",
      "    AAChange    aa_pos  \n",
      "185        .  (NA, NA)  \n",
      "221        .  (NA, NA)  \n",
      "219        .  (NA, NA)  \n",
      "220        .  (NA, NA)  \n",
      "    Hugo_Symbol  Entrez_gene_ID Variant_Classification        function  \\\n",
      "158       MAPK6            5597      Missense_Mutation  point_mutation   \n",
      "\n",
      "    AAChange    aa_pos  \n",
      "158        .  (NA, NA)  \n",
      "    Hugo_Symbol  Entrez_gene_ID Variant_Classification        function  \\\n",
      "124           .          342850      Missense_Mutation  point_mutation   \n",
      "112       CRTAM           56253      Missense_Mutation  point_mutation   \n",
      "153      LILRB5           10990      Missense_Mutation  point_mutation   \n",
      "\n",
      "    AAChange    aa_pos  \n",
      "124        .  (NA, NA)  \n",
      "112        .  (NA, NA)  \n",
      "153        .  (NA, NA)  \n"
     ]
    },
    {
     "name": "stdout",
     "output_type": "stream",
     "text": [
      "COAD\n"
     ]
    },
    {
     "name": "stderr",
     "output_type": "stream",
     "text": [
      "preprocessed maf 155 files;\t\traw maf: 0 files\n",
      "select processed maf file for cohort COAD\n",
      "use path data/TCGA/data/gdac.broadinstitute.org_COAD.Mutation_Packager_Calls.Level_3.2016012800.0.0/\n",
      "   Hugo_Symbol  Entrez_gene_ID Variant_Classification        function  \\\n",
      "71      COL6A6          131873      Missense_Mutation  point_mutation   \n",
      "\n",
      "   AAChange    aa_pos  \n",
      "71        .  (NA, NA)  \n",
      "    Hugo_Symbol  Entrez_gene_ID Variant_Classification        function  \\\n",
      "106     METTL2B           55798      Missense_Mutation  point_mutation   \n",
      "62       NBPF11          200030      Missense_Mutation  point_mutation   \n",
      "\n",
      "    AAChange    aa_pos  \n",
      "106        .  (NA, NA)  \n",
      "62         .  (NA, NA)  \n",
      "    Hugo_Symbol  Entrez_gene_ID Variant_Classification        function  \\\n",
      "628       KLRA1           10748      Missense_Mutation  point_mutation   \n",
      "\n",
      "    AAChange    aa_pos  \n",
      "628        .  (NA, NA)  \n",
      "   Hugo_Symbol  Entrez_gene_ID Variant_Classification        function  \\\n",
      "59       IQCB1            9657      Missense_Mutation  point_mutation   \n",
      "\n",
      "   AAChange    aa_pos  \n",
      "59        .  (NA, NA)  \n",
      "    Hugo_Symbol  Entrez_gene_ID Variant_Classification        function  \\\n",
      "239        TCL6           27004      Missense_Mutation  point_mutation   \n",
      "\n",
      "    AAChange    aa_pos  \n",
      "239        .  (NA, NA)  \n",
      "    Hugo_Symbol  Entrez_gene_ID Variant_Classification        function  \\\n",
      "97       CRYBG3          131544      Missense_Mutation  point_mutation   \n",
      "151       IGSF1            3547      Missense_Mutation  point_mutation   \n",
      "\n",
      "    AAChange    aa_pos  \n",
      "97         .  (NA, NA)  \n",
      "151        .  (NA, NA)  \n",
      "     Hugo_Symbol  Entrez_gene_ID Variant_Classification        function  \\\n",
      "1253      CRYBG3          131544      Missense_Mutation  point_mutation   \n",
      "1267        FAT4           79633      Missense_Mutation  point_mutation   \n",
      "607     FLJ40504          284085      Missense_Mutation  point_mutation   \n",
      "225         KRAS            3845      Missense_Mutation  point_mutation   \n",
      "\n",
      "     AAChange    aa_pos  \n",
      "1253        .  (NA, NA)  \n",
      "1267        .  (NA, NA)  \n",
      "607         .  (NA, NA)  \n",
      "225         .  (NA, NA)  \n",
      "    Hugo_Symbol  Entrez_gene_ID Variant_Classification        function  \\\n",
      "12     C12orf67          144360      Missense_Mutation  point_mutation   \n",
      "121        SSX6          280657      Missense_Mutation  point_mutation   \n",
      "\n",
      "    AAChange    aa_pos  \n",
      "12         .  (NA, NA)  \n",
      "121        .  (NA, NA)  \n",
      "    Hugo_Symbol  Entrez_gene_ID Variant_Classification        function  \\\n",
      "102      CCHCR1           54535      Missense_Mutation  point_mutation   \n",
      "\n",
      "    AAChange    aa_pos  \n",
      "102        .  (NA, NA)  \n",
      "   Hugo_Symbol  Entrez_gene_ID Variant_Classification        function  \\\n",
      "12       BCMO1           53630      Missense_Mutation  point_mutation   \n",
      "\n",
      "   AAChange    aa_pos  \n",
      "12        .  (NA, NA)  \n",
      "    Hugo_Symbol  Entrez_gene_ID Variant_Classification        function  \\\n",
      "16        CD163            9332      Missense_Mutation  point_mutation   \n",
      "34        ELMO3           79767      Missense_Mutation  point_mutation   \n",
      "125     FAM183B          340286      Missense_Mutation  point_mutation   \n",
      "84         MCEE           84693      Missense_Mutation  point_mutation   \n",
      "105      PCDHB2           56133      Missense_Mutation  point_mutation   \n",
      "\n",
      "    AAChange    aa_pos  \n",
      "16         .  (NA, NA)  \n",
      "34         .  (NA, NA)  \n",
      "125        .  (NA, NA)  \n",
      "84         .  (NA, NA)  \n",
      "105        .  (NA, NA)  \n",
      "    Hugo_Symbol  Entrez_gene_ID Variant_Classification        function  \\\n",
      "56        ABCB6           10058      Missense_Mutation  point_mutation   \n",
      "22       AHNAK2          113146      Missense_Mutation  point_mutation   \n",
      "88          RP1            6101      Missense_Mutation  point_mutation   \n",
      "101        SSX6          280657      Missense_Mutation  point_mutation   \n",
      "\n",
      "    AAChange    aa_pos  \n",
      "56         .  (NA, NA)  \n",
      "22         .  (NA, NA)  \n",
      "88         .  (NA, NA)  \n",
      "101        .  (NA, NA)  \n",
      "    Hugo_Symbol  Entrez_gene_ID Variant_Classification        function  \\\n",
      "123      WT1-AS           51352      Missense_Mutation  point_mutation   \n",
      "\n",
      "    AAChange    aa_pos  \n",
      "123        .  (NA, NA)  \n",
      "     Hugo_Symbol  Entrez_gene_ID Variant_Classification        function  \\\n",
      "85      C10orf82          143379      Missense_Mutation  point_mutation   \n",
      "845     C19orf34          255193      Missense_Mutation  point_mutation   \n",
      "1030    C1orf157          284573      Missense_Mutation  point_mutation   \n",
      "1090   C20orf200          253868      Missense_Mutation  point_mutation   \n",
      "1959     FAM74A3          728495      Missense_Mutation  point_mutation   \n",
      "1115        MCM5            4174      Missense_Mutation  point_mutation   \n",
      "\n",
      "     AAChange    aa_pos  \n",
      "85          .  (NA, NA)  \n",
      "845         .  (NA, NA)  \n",
      "1030        .  (NA, NA)  \n",
      "1090        .  (NA, NA)  \n",
      "1959        .  (NA, NA)  \n",
      "1115        .  (NA, NA)  \n",
      "TCGA-AA-3715-01A-01W-0900-09 COAD 6 point mutations without a position 1497 remain\n",
      "    Hugo_Symbol  Entrez_gene_ID Variant_Classification        function  \\\n",
      "646   C20orf200          253868      Missense_Mutation  point_mutation   \n",
      "\n",
      "    AAChange    aa_pos  \n",
      "646        .  (NA, NA)  \n",
      "   Hugo_Symbol  Entrez_gene_ID Variant_Classification        function  \\\n",
      "25      INO80E          283899      Missense_Mutation  point_mutation   \n",
      "\n",
      "   AAChange    aa_pos  \n",
      "25        .  (NA, NA)  \n",
      "    Hugo_Symbol  Entrez_gene_ID Variant_Classification        function  \\\n",
      "50      ANKRD29          147463      Missense_Mutation  point_mutation   \n",
      "106         BIK             638      Missense_Mutation  point_mutation   \n",
      "124       SLIT2            9353      Missense_Mutation  point_mutation   \n",
      "159         ZP3            7784      Missense_Mutation  point_mutation   \n",
      "\n",
      "    AAChange    aa_pos  \n",
      "50         .  (NA, NA)  \n",
      "106        .  (NA, NA)  \n",
      "124        .  (NA, NA)  \n",
      "159        .  (NA, NA)  \n",
      "    Hugo_Symbol  Entrez_gene_ID Variant_Classification        function  \\\n",
      "702        FLNC            2318      Missense_Mutation  point_mutation   \n",
      "\n",
      "    AAChange    aa_pos  \n",
      "702        .  (NA, NA)  \n",
      "    Hugo_Symbol  Entrez_gene_ID Variant_Classification        function  \\\n",
      "547        SSX6          280657      Missense_Mutation  point_mutation   \n",
      "297       SUMO3            6612      Missense_Mutation  point_mutation   \n",
      "\n",
      "    AAChange    aa_pos  \n",
      "547        .  (NA, NA)  \n",
      "297        .  (NA, NA)  \n",
      "    Hugo_Symbol  Entrez_gene_ID Variant_Classification        function  \\\n",
      "473       FAM3B           54097      Missense_Mutation  point_mutation   \n",
      "903       GLOD5          392465      Missense_Mutation  point_mutation   \n",
      "879        KLF4            9314      Missense_Mutation  point_mutation   \n",
      "100        KRAS            3845      Missense_Mutation  point_mutation   \n",
      "806   LOC389458          389458      Missense_Mutation  point_mutation   \n",
      "304  NCRNA00188          125144      Missense_Mutation  point_mutation   \n",
      "256       NDRG4           65009      Missense_Mutation  point_mutation   \n",
      "250      PKD1L2          114780      Missense_Mutation  point_mutation   \n",
      "\n",
      "    AAChange    aa_pos  \n",
      "473        .  (NA, NA)  \n",
      "903        .  (NA, NA)  \n",
      "879        .  (NA, NA)  \n",
      "100        .  (NA, NA)  \n",
      "806        .  (NA, NA)  \n",
      "304        .  (NA, NA)  \n",
      "256        .  (NA, NA)  \n",
      "250        .  (NA, NA)  \n",
      "TCGA-AA-3845-01A-01W-0995-10 COAD 8 point mutations without a position 655 remain\n",
      "   Hugo_Symbol  Entrez_gene_ID Variant_Classification        function  \\\n",
      "11    TP53AIP1           63970      Missense_Mutation  point_mutation   \n",
      "\n",
      "   AAChange    aa_pos  \n",
      "11        .  (NA, NA)  \n",
      "   Hugo_Symbol  Entrez_gene_ID Variant_Classification        function  \\\n",
      "37       KRT40          125115      Missense_Mutation  point_mutation   \n",
      "34       ZFHX3             463      Missense_Mutation  point_mutation   \n",
      "\n",
      "   AAChange    aa_pos  \n",
      "37        .  (NA, NA)  \n",
      "34        .  (NA, NA)  \n",
      "    Hugo_Symbol  Entrez_gene_ID Variant_Classification        function  \\\n",
      "120      CYB5R4           51167      Missense_Mutation  point_mutation   \n",
      "\n",
      "    AAChange    aa_pos  \n",
      "120        .  (NA, NA)  \n",
      "   Hugo_Symbol  Entrez_gene_ID Variant_Classification        function  \\\n",
      "15        GSG2           83903      Missense_Mutation  point_mutation   \n",
      "\n",
      "   AAChange    aa_pos  \n",
      "15        .  (NA, NA)  \n",
      "     Hugo_Symbol  Entrez_gene_ID Variant_Classification        function  \\\n",
      "2386      BTN2A3           54718      Missense_Mutation  point_mutation   \n",
      "1216    C19orf34          255193      Missense_Mutation  point_mutation   \n",
      "1489      TMEM53           79639      Missense_Mutation  point_mutation   \n",
      "\n",
      "     AAChange    aa_pos  \n",
      "2386        .  (NA, NA)  \n",
      "1216        .  (NA, NA)  \n",
      "1489        .  (NA, NA)  \n"
     ]
    },
    {
     "name": "stderr",
     "output_type": "stream",
     "text": [
      "    Hugo_Symbol  Entrez_gene_ID Variant_Classification        function  \\\n",
      "137        SAT1            6303      Missense_Mutation  point_mutation   \n",
      "\n",
      "    AAChange    aa_pos  \n",
      "137        .  (NA, NA)  \n",
      "  Hugo_Symbol  Entrez_gene_ID Variant_Classification        function AAChange  \\\n",
      "4      CARD18           59082      Missense_Mutation  point_mutation        .   \n",
      "\n",
      "     aa_pos  \n",
      "4  (NA, NA)  \n",
      "   Hugo_Symbol  Entrez_gene_ID Variant_Classification        function  \\\n",
      "82       EEPD1           80820      Missense_Mutation  point_mutation   \n",
      "18        RIN3           79890      Missense_Mutation  point_mutation   \n",
      "\n",
      "   AAChange    aa_pos  \n",
      "82        .  (NA, NA)  \n",
      "18        .  (NA, NA)  \n",
      "   Hugo_Symbol  Entrez_gene_ID Variant_Classification        function  \\\n",
      "28        LAD1            3898      Missense_Mutation  point_mutation   \n",
      "\n",
      "   AAChange    aa_pos  \n",
      "28        .  (NA, NA)  \n",
      "    Hugo_Symbol  Entrez_gene_ID Variant_Classification        function  \\\n",
      "430       MEGF8            1954      Missense_Mutation  point_mutation   \n",
      "\n",
      "    AAChange    aa_pos  \n",
      "430        .  (NA, NA)  \n",
      "    Hugo_Symbol  Entrez_gene_ID Variant_Classification        function  \\\n",
      "42        ANKS3          124401      Missense_Mutation  point_mutation   \n",
      "169     CACNA1B             774      Missense_Mutation  point_mutation   \n",
      "\n",
      "    AAChange    aa_pos  \n",
      "42         .  (NA, NA)  \n",
      "169        .  (NA, NA)  \n",
      "   Hugo_Symbol  Entrez_gene_ID Variant_Classification        function  \\\n",
      "93       NUP43          348995      Missense_Mutation  point_mutation   \n",
      "\n",
      "   AAChange    aa_pos  \n",
      "93        .  (NA, NA)  \n",
      "     Hugo_Symbol  Entrez_gene_ID Variant_Classification        function  \\\n",
      "945      CACNA1I            8911      Missense_Mutation  point_mutation   \n",
      "1169      CRYBG3          131544      Missense_Mutation  point_mutation   \n",
      "1356        GPR6            2830      Missense_Mutation  point_mutation   \n",
      "479        KRT13            3860      Missense_Mutation  point_mutation   \n",
      "923   NCRNA00175          378832      Missense_Mutation  point_mutation   \n",
      "1191      TBC1D9           23158      Missense_Mutation  point_mutation   \n",
      "574       ZNF271           10778      Missense_Mutation  point_mutation   \n",
      "\n",
      "     AAChange    aa_pos  \n",
      "945         .  (NA, NA)  \n",
      "1169        .  (NA, NA)  \n",
      "1356        .  (NA, NA)  \n",
      "479         .  (NA, NA)  \n",
      "923         .  (NA, NA)  \n",
      "1191        .  (NA, NA)  \n",
      "574         .  (NA, NA)  \n",
      "TCGA-AA-3947-01A-01W-0995-10 COAD 7 point mutations without a position 1299 remain\n",
      "    Hugo_Symbol  Entrez_gene_ID Variant_Classification        function  \\\n",
      "285     MEIS3P1            4213           In_Frame_Del  point_mutation   \n",
      "134     PLEKHA9           51054      Missense_Mutation  point_mutation   \n",
      "\n",
      "    AAChange    aa_pos  \n",
      "285        .  (NA, NA)  \n",
      "134        .  (NA, NA)  \n",
      "   Hugo_Symbol  Entrez_gene_ID Variant_Classification        function  \\\n",
      "19     CCDC88C          440193      Missense_Mutation  point_mutation   \n",
      "36      CLEC4M           10332      Missense_Mutation  point_mutation   \n",
      "91     NSUN5P2          260294      Missense_Mutation  point_mutation   \n",
      "\n",
      "   AAChange    aa_pos  \n",
      "19        .  (NA, NA)  \n",
      "36        .  (NA, NA)  \n",
      "91        .  (NA, NA)  \n",
      "   Hugo_Symbol  Entrez_gene_ID Variant_Classification        function  \\\n",
      "66       ACOT8           10005      Missense_Mutation  point_mutation   \n",
      "\n",
      "   AAChange    aa_pos  \n",
      "66        .  (NA, NA)  \n",
      "     Hugo_Symbol  Entrez_gene_ID Variant_Classification        function  \\\n",
      "427        AKAP8           10270      Missense_Mutation  point_mutation   \n",
      "1014      BTN2A3           54718      Missense_Mutation  point_mutation   \n",
      "342          HTA          283902      Missense_Mutation  point_mutation   \n",
      "123    LOC643923          643923      Missense_Mutation  point_mutation   \n",
      "605        LPPR4            9890      Missense_Mutation  point_mutation   \n",
      "\n",
      "     AAChange    aa_pos  \n",
      "427         .  (NA, NA)  \n",
      "1014        .  (NA, NA)  \n",
      "342         .  (NA, NA)  \n",
      "123         .  (NA, NA)  \n",
      "605         .  (NA, NA)  \n",
      "   Hugo_Symbol  Entrez_gene_ID Variant_Classification        function  \\\n",
      "76        NSD1           64324      Missense_Mutation  point_mutation   \n",
      "\n",
      "   AAChange    aa_pos  \n",
      "76        .  (NA, NA)  \n",
      "   Hugo_Symbol  Entrez_gene_ID Variant_Classification        function  \\\n",
      "83        CHL1           10752      Missense_Mutation  point_mutation   \n",
      "\n",
      "   AAChange    aa_pos  \n",
      "83        .  (NA, NA)  \n",
      "     Hugo_Symbol  Entrez_gene_ID Variant_Classification        function  \\\n",
      "350     C11orf92          399948      Missense_Mutation  point_mutation   \n",
      "1146    CCDC144B          284047      Missense_Mutation  point_mutation   \n",
      "1147       KRT40          125115      Missense_Mutation  point_mutation   \n",
      "349    LOC643923          643923      Missense_Mutation  point_mutation   \n",
      "564      PLEKHA9           51054      Missense_Mutation  point_mutation   \n",
      "1470     ZNF826P          664701      Missense_Mutation  point_mutation   \n",
      "\n",
      "     AAChange    aa_pos  \n",
      "350         .  (NA, NA)  \n",
      "1146        .  (NA, NA)  \n",
      "1147        .  (NA, NA)  \n",
      "349         .  (NA, NA)  \n",
      "564         .  (NA, NA)  \n",
      "1470        .  (NA, NA)  \n",
      "TCGA-AA-3977-01A-01W-0995-10 COAD 6 point mutations without a position 2957 remain\n",
      "   Hugo_Symbol  Entrez_gene_ID Variant_Classification        function  \\\n",
      "92      VPS13B          157680      Missense_Mutation  point_mutation   \n",
      "\n",
      "   AAChange    aa_pos  \n",
      "92        .  (NA, NA)  \n",
      "   Hugo_Symbol  Entrez_gene_ID Variant_Classification        function  \\\n",
      "54      NBPF11          200030      Missense_Mutation  point_mutation   \n",
      "\n",
      "   AAChange    aa_pos  \n",
      "54        .  (NA, NA)  \n",
      "     Hugo_Symbol  Entrez_gene_ID Variant_Classification        function  \\\n",
      "635      PLEKHA9           51054      Missense_Mutation  point_mutation   \n",
      "1878      PRKACB            5567      Missense_Mutation  point_mutation   \n",
      "\n",
      "     AAChange    aa_pos  \n",
      "635         .  (NA, NA)  \n",
      "1878        .  (NA, NA)  \n",
      "   Hugo_Symbol  Entrez_gene_ID Variant_Classification        function  \\\n",
      "64        C3P1          388503      Missense_Mutation  point_mutation   \n",
      "\n",
      "   AAChange    aa_pos  \n",
      "64        .  (NA, NA)  \n",
      "   Hugo_Symbol  Entrez_gene_ID Variant_Classification        function  \\\n",
      "29       HMCN1           83872      Missense_Mutation  point_mutation   \n",
      "\n",
      "   AAChange    aa_pos  \n",
      "29        .  (NA, NA)  \n",
      "    Hugo_Symbol  Entrez_gene_ID Variant_Classification        function  \\\n",
      "456        VNN3           55350      Missense_Mutation  point_mutation   \n",
      "\n",
      "    AAChange    aa_pos  \n",
      "456        .  (NA, NA)  \n",
      "     Hugo_Symbol  Entrez_gene_ID Variant_Classification        function  \\\n",
      "4083      CAMK2B             816      Missense_Mutation  point_mutation   \n",
      "3265       CLRN2          645104      Missense_Mutation  point_mutation   \n",
      "3169      CRYBG3          131544      Missense_Mutation  point_mutation   \n",
      "1552        EMR3           84658      Missense_Mutation  point_mutation   \n",
      "4162     FAM183B          340286      Missense_Mutation  point_mutation   \n",
      "4360       FGF17            8822      Missense_Mutation  point_mutation   \n",
      "3133        FLNB            2317      Missense_Mutation  point_mutation   \n",
      "106        FXYD4           53828      Missense_Mutation  point_mutation   \n",
      "1076    KIAA1024           23251      Missense_Mutation  point_mutation   \n",
      "3967       LPAL2           80350      Missense_Mutation  point_mutation   \n",
      "1232       MLYCD           23417      Missense_Mutation  point_mutation   \n",
      "1563     MPV17L2           84769      Missense_Mutation  point_mutation   \n",
      "2041       OBSCN           84033      Missense_Mutation  point_mutation   \n",
      "688      PLEKHA9           51054      Missense_Mutation  point_mutation   \n",
      "1753       PRR19          284338      Missense_Mutation  point_mutation   \n",
      "2100        RHCE            6006      Missense_Mutation  point_mutation   \n",
      "4387     SLC46A2           57864      Missense_Mutation  point_mutation   \n",
      "2233      SPATA1           64173      Missense_Mutation  point_mutation   \n",
      "945         TCL6           27004      Missense_Mutation  point_mutation   \n",
      "1520      ZNF271           10778      Missense_Mutation  point_mutation   \n",
      "2867       ZNF80            7634      Missense_Mutation  point_mutation   \n",
      "1752     ZNF826P          664701      Missense_Mutation  point_mutation   \n",
      "\n",
      "     AAChange    aa_pos  \n",
      "4083        .  (NA, NA)  \n",
      "3265        .  (NA, NA)  \n",
      "3169        .  (NA, NA)  \n",
      "1552        .  (NA, NA)  \n",
      "4162        .  (NA, NA)  \n",
      "4360        .  (NA, NA)  \n",
      "3133        .  (NA, NA)  \n",
      "106         .  (NA, NA)  \n",
      "1076        .  (NA, NA)  \n",
      "3967        .  (NA, NA)  \n",
      "1232        .  (NA, NA)  \n",
      "1563        .  (NA, NA)  \n",
      "2041        .  (NA, NA)  \n",
      "688         .  (NA, NA)  \n",
      "1753        .  (NA, NA)  \n",
      "2100        .  (NA, NA)  \n",
      "4387        .  (NA, NA)  \n",
      "2233        .  (NA, NA)  \n",
      "945         .  (NA, NA)  \n",
      "1520        .  (NA, NA)  \n",
      "2867        .  (NA, NA)  \n",
      "1752        .  (NA, NA)  \n",
      "TCGA-AA-A00N-01A-02W-A00E-09 COAD 22 point mutations without a position 3701 remain\n"
     ]
    },
    {
     "name": "stderr",
     "output_type": "stream",
     "text": [
      "   Hugo_Symbol  Entrez_gene_ID Variant_Classification        function  \\\n",
      "69        TP63            8626      Missense_Mutation  point_mutation   \n",
      "\n",
      "   AAChange    aa_pos  \n",
      "69        .  (NA, NA)  \n",
      "     Hugo_Symbol  Entrez_gene_ID Variant_Classification        function  \\\n",
      "7785      BCAP29           55973      Missense_Mutation  point_mutation   \n",
      "7390      BTN2A3           54718      Missense_Mutation  point_mutation   \n",
      "1798    C14orf48          256369      Missense_Mutation  point_mutation   \n",
      "4178    C1orf157          284573      Missense_Mutation  point_mutation   \n",
      "6879     C5orf25          375484      Missense_Mutation  point_mutation   \n",
      "6880     C5orf25          375484      Missense_Mutation  point_mutation   \n",
      "1788       CDKL1            8814      Missense_Mutation  point_mutation   \n",
      "5889      CRYBG3          131544      Missense_Mutation  point_mutation   \n",
      "792        DCDC1          341019      Missense_Mutation  point_mutation   \n",
      "7418         DST             667      Missense_Mutation  point_mutation   \n",
      "7420         DST             667      Missense_Mutation  point_mutation   \n",
      "5257      FER1L5           90342      Missense_Mutation  point_mutation   \n",
      "2849    FLJ35776          649446      Missense_Mutation  point_mutation   \n",
      "4092        GBP6          163351      Missense_Mutation  point_mutation   \n",
      "6600       IL12B            3593      Missense_Mutation  point_mutation   \n",
      "3365     KIR3DX1           90011      Missense_Mutation  point_mutation   \n",
      "7828   LOC389458          389458      Missense_Mutation  point_mutation   \n",
      "5858       NEK10          152110      Missense_Mutation  point_mutation   \n",
      "8676        NXF5           55998      Missense_Mutation  point_mutation   \n",
      "6906        OCLN            4950      Missense_Mutation  point_mutation   \n",
      "1298     PLEKHA9           51054      Missense_Mutation  point_mutation   \n",
      "7394      SCAND3          114821      Missense_Mutation  point_mutation   \n",
      "4231     SH3GLB1           51100      Missense_Mutation  point_mutation   \n",
      "8693        SSX6          280657      Missense_Mutation  point_mutation   \n",
      "6351      SYT14L          401135      Missense_Mutation  point_mutation   \n",
      "7819        TARP          445347      Missense_Mutation  point_mutation   \n",
      "2820       TSHZ1           10194      Missense_Mutation  point_mutation   \n",
      "3343     ZNF833P          401898      Missense_Mutation  point_mutation   \n",
      "\n",
      "     AAChange    aa_pos  \n",
      "7785        .  (NA, NA)  \n",
      "7390        .  (NA, NA)  \n",
      "1798        .  (NA, NA)  \n",
      "4178        .  (NA, NA)  \n",
      "6879        .  (NA, NA)  \n",
      "6880        .  (NA, NA)  \n",
      "1788        .  (NA, NA)  \n",
      "5889        .  (NA, NA)  \n",
      "792         .  (NA, NA)  \n",
      "7418        .  (NA, NA)  \n",
      "7420        .  (NA, NA)  \n",
      "5257        .  (NA, NA)  \n",
      "2849        .  (NA, NA)  \n",
      "4092        .  (NA, NA)  \n",
      "6600        .  (NA, NA)  \n",
      "3365        .  (NA, NA)  \n",
      "7828        .  (NA, NA)  \n",
      "5858        .  (NA, NA)  \n",
      "8676        .  (NA, NA)  \n",
      "6906        .  (NA, NA)  \n",
      "1298        .  (NA, NA)  \n",
      "7394        .  (NA, NA)  \n",
      "4231        .  (NA, NA)  \n",
      "8693        .  (NA, NA)  \n",
      "6351        .  (NA, NA)  \n",
      "7819        .  (NA, NA)  \n",
      "2820        .  (NA, NA)  \n",
      "3343        .  (NA, NA)  \n",
      "TCGA-AA-A010-01A-01W-A00E-09 COAD 28 point mutations without a position 6125 remain\n",
      "    Hugo_Symbol  Entrez_gene_ID Variant_Classification        function  \\\n",
      "50     ADAMTSL3           57188      Missense_Mutation  point_mutation   \n",
      "9           ADM             133      Missense_Mutation  point_mutation   \n",
      "62     C17orf66          256957      Missense_Mutation  point_mutation   \n",
      "172     C9orf96          169436      Missense_Mutation  point_mutation   \n",
      "96        ERMAP          114625      Missense_Mutation  point_mutation   \n",
      "70        FFAR2            2867      Missense_Mutation  point_mutation   \n",
      "25       GALNT6           11226      Missense_Mutation  point_mutation   \n",
      "69        GNA15            2769      Missense_Mutation  point_mutation   \n",
      "56        GNAO1            2775      Missense_Mutation  point_mutation   \n",
      "7         ITIH5           80760      Missense_Mutation  point_mutation   \n",
      "110     KREMEN1           83999      Missense_Mutation  point_mutation   \n",
      "112       LIMK2            3985      Missense_Mutation  point_mutation   \n",
      "44       LPCAT4          254531      Missense_Mutation  point_mutation   \n",
      "42          NGB           58157      Missense_Mutation  point_mutation   \n",
      "19         NOS1            4842      Missense_Mutation  point_mutation   \n",
      "2        PITRM1           10531      Missense_Mutation  point_mutation   \n",
      "165     PPP1R9A           55607      Missense_Mutation  point_mutation   \n",
      "107       RSPO4          343637      Missense_Mutation  point_mutation   \n",
      "59     SERPINF1            5176      Missense_Mutation  point_mutation   \n",
      "10        SORL1            6653      Missense_Mutation  point_mutation   \n",
      "53      TMEM219          124446      Missense_Mutation  point_mutation   \n",
      "162       URGCP           55665      Missense_Mutation  point_mutation   \n",
      "157         ZAN            7455      Missense_Mutation  point_mutation   \n",
      "\n",
      "    AAChange    aa_pos  \n",
      "50         .  (NA, NA)  \n",
      "9          .  (NA, NA)  \n",
      "62         .  (NA, NA)  \n",
      "172        .  (NA, NA)  \n",
      "96         .  (NA, NA)  \n",
      "70         .  (NA, NA)  \n",
      "25         .  (NA, NA)  \n",
      "69         .  (NA, NA)  \n",
      "56         .  (NA, NA)  \n",
      "7          .  (NA, NA)  \n",
      "110        .  (NA, NA)  \n",
      "112        .  (NA, NA)  \n",
      "44         .  (NA, NA)  \n",
      "42         .  (NA, NA)  \n",
      "19         .  (NA, NA)  \n",
      "2          .  (NA, NA)  \n",
      "165        .  (NA, NA)  \n",
      "107        .  (NA, NA)  \n",
      "59         .  (NA, NA)  \n",
      "10         .  (NA, NA)  \n",
      "53         .  (NA, NA)  \n",
      "162        .  (NA, NA)  \n",
      "157        .  (NA, NA)  \n",
      "TCGA-AA-A01D-01A-01W-A00E-09 COAD 23 point mutations without a position 129 remain\n",
      "   Hugo_Symbol  Entrez_gene_ID Variant_Classification        function  \\\n",
      "53      AHCTF1           25909      Missense_Mutation  point_mutation   \n",
      "\n",
      "   AAChange    aa_pos  \n",
      "53        .  (NA, NA)  \n",
      "    Hugo_Symbol  Entrez_gene_ID Variant_Classification        function  \\\n",
      "62        ACOX1              51      Missense_Mutation  point_mutation   \n",
      "58        ARL4D             379      Missense_Mutation  point_mutation   \n",
      "87      ATP13A2           23400      Missense_Mutation  point_mutation   \n",
      "117       BCS1L             617      Missense_Mutation  point_mutation   \n",
      "103       DIDO1           11083      Missense_Mutation  point_mutation   \n",
      "110       ERCC3            2071      Missense_Mutation  point_mutation   \n",
      "63         EVPL            2125      Missense_Mutation  point_mutation   \n",
      "146     FASTKD3           79072      Missense_Mutation  point_mutation   \n",
      "119     HEATR5B           54497      Missense_Mutation  point_mutation   \n",
      "99       MANBAL           63905      Missense_Mutation  point_mutation   \n",
      "78       MARCH2           51257      Missense_Mutation  point_mutation   \n",
      "55        MED24            9862      Missense_Mutation  point_mutation   \n",
      "5         OGDHL           55753      Missense_Mutation  point_mutation   \n",
      "173       OR5C1          392391      Missense_Mutation  point_mutation   \n",
      "36        PAPLN           89932      Missense_Mutation  point_mutation   \n",
      "70        PDE4C            5143      Missense_Mutation  point_mutation   \n",
      "85        PIAS3           10401      Missense_Mutation  point_mutation   \n",
      "14       PRPF19           27339      Missense_Mutation  point_mutation   \n",
      "72        RBM42           79171      Missense_Mutation  point_mutation   \n",
      "101     SLC2A10           81031      Missense_Mutation  point_mutation   \n",
      "3         SYT15           83849      Missense_Mutation  point_mutation   \n",
      "7          TET1           80312      Missense_Mutation  point_mutation   \n",
      "43        WDR93           56964      Missense_Mutation  point_mutation   \n",
      "\n",
      "    AAChange    aa_pos  \n",
      "62         .  (NA, NA)  \n",
      "58         .  (NA, NA)  \n",
      "87         .  (NA, NA)  \n",
      "117        .  (NA, NA)  \n",
      "103        .  (NA, NA)  \n",
      "110        .  (NA, NA)  \n",
      "63         .  (NA, NA)  \n",
      "146        .  (NA, NA)  \n",
      "119        .  (NA, NA)  \n",
      "99         .  (NA, NA)  \n",
      "78         .  (NA, NA)  \n",
      "55         .  (NA, NA)  \n",
      "5          .  (NA, NA)  \n",
      "173        .  (NA, NA)  \n",
      "36         .  (NA, NA)  \n",
      "70         .  (NA, NA)  \n",
      "85         .  (NA, NA)  \n",
      "14         .  (NA, NA)  \n",
      "72         .  (NA, NA)  \n",
      "101        .  (NA, NA)  \n",
      "3          .  (NA, NA)  \n",
      "7          .  (NA, NA)  \n",
      "43         .  (NA, NA)  \n",
      "TCGA-AA-A01K-01A-01W-A00E-09 COAD 23 point mutations without a position 124 remain\n"
     ]
    },
    {
     "name": "stderr",
     "output_type": "stream",
     "text": [
      "     Hugo_Symbol  Entrez_gene_ID Variant_Classification        function  \\\n",
      "1565   LOC389458          389458      Missense_Mutation  point_mutation   \n",
      "289       PCDH17           27253      Missense_Mutation  point_mutation   \n",
      "1564      ZNF767           79970      Missense_Mutation  point_mutation   \n",
      "\n",
      "     AAChange    aa_pos  \n",
      "1565        .  (NA, NA)  \n",
      "289         .  (NA, NA)  \n",
      "1564        .  (NA, NA)  \n",
      "   Hugo_Symbol  Entrez_gene_ID Variant_Classification        function  \\\n",
      "94        FAT4           79633      Missense_Mutation  point_mutation   \n",
      "38        VRK3           51231      Missense_Mutation  point_mutation   \n",
      "\n",
      "   AAChange    aa_pos  \n",
      "94        .  (NA, NA)  \n",
      "38        .  (NA, NA)  \n",
      "    Hugo_Symbol  Entrez_gene_ID Variant_Classification        function  \\\n",
      "527        C3P1          388503      Missense_Mutation  point_mutation   \n",
      "907      CRYBG3          131544      Missense_Mutation  point_mutation   \n",
      "140      IGF2AS           51214      Missense_Mutation  point_mutation   \n",
      "528     KIR3DX1           90011      Missense_Mutation  point_mutation   \n",
      "141      WT1-AS           51352      Missense_Mutation  point_mutation   \n",
      "\n",
      "    AAChange    aa_pos  \n",
      "527        .  (NA, NA)  \n",
      "907        .  (NA, NA)  \n",
      "140        .  (NA, NA)  \n",
      "528        .  (NA, NA)  \n",
      "141        .  (NA, NA)  \n",
      "   Hugo_Symbol  Entrez_gene_ID Variant_Classification        function  \\\n",
      "40      ZNF335           63925      Missense_Mutation  point_mutation   \n",
      "\n",
      "   AAChange    aa_pos  \n",
      "40        .  (NA, NA)  \n",
      "    Hugo_Symbol  Entrez_gene_ID Variant_Classification        function  \\\n",
      "113      DFNB31           25861      Missense_Mutation  point_mutation   \n",
      "94         FAT2            2196      Missense_Mutation  point_mutation   \n",
      "116        ROR2            4920      Missense_Mutation  point_mutation   \n",
      "88      SHROOM3           57619      Missense_Mutation  point_mutation   \n",
      "75      SLC19A3           80704      Missense_Mutation  point_mutation   \n",
      "8        SMTNL1          219537      Missense_Mutation  point_mutation   \n",
      "30        STX1B          112755      Missense_Mutation  point_mutation   \n",
      "70      TP53TG5           27296      Missense_Mutation  point_mutation   \n",
      "\n",
      "    AAChange    aa_pos  \n",
      "113        .  (NA, NA)  \n",
      "94         .  (NA, NA)  \n",
      "116        .  (NA, NA)  \n",
      "88         .  (NA, NA)  \n",
      "75         .  (NA, NA)  \n",
      "8          .  (NA, NA)  \n",
      "30         .  (NA, NA)  \n",
      "70         .  (NA, NA)  \n",
      "TCGA-AA-A029-01A-01W-A00E-09 COAD 8 point mutations without a position 83 remain\n",
      "    Hugo_Symbol  Entrez_gene_ID Variant_Classification        function  \\\n",
      "150        ASMT             438      Missense_Mutation  point_mutation   \n",
      "21      HSD17B6            8630      Missense_Mutation  point_mutation   \n",
      "111      PCDHB3           56132      Missense_Mutation  point_mutation   \n",
      "143      RANBP6           26953      Missense_Mutation  point_mutation   \n",
      "\n",
      "    AAChange    aa_pos  \n",
      "150        .  (NA, NA)  \n",
      "21         .  (NA, NA)  \n",
      "111        .  (NA, NA)  \n",
      "143        .  (NA, NA)  \n",
      "    Hugo_Symbol  Entrez_gene_ID Variant_Classification        function  \\\n",
      "134      BTN2A3           54718      Missense_Mutation  point_mutation   \n",
      "\n",
      "    AAChange    aa_pos  \n",
      "134        .  (NA, NA)  \n",
      "    Hugo_Symbol  Entrez_gene_ID Variant_Classification        function  \\\n",
      "95          AGA             175      Missense_Mutation  point_mutation   \n",
      "16       AHNAK2          113146      Missense_Mutation  point_mutation   \n",
      "70    C20orf195           79025      Missense_Mutation  point_mutation   \n",
      "61       DCDC2B          149069      Missense_Mutation  point_mutation   \n",
      "107       GFOD1           54438      Missense_Mutation  point_mutation   \n",
      "34        KRT15            3866      Missense_Mutation  point_mutation   \n",
      "72         PCNT            5116      Missense_Mutation  point_mutation   \n",
      "29         RRAD            6236      Missense_Mutation  point_mutation   \n",
      "116        SDK1          221935      Missense_Mutation  point_mutation   \n",
      "88         UBA7            7318      Missense_Mutation  point_mutation   \n",
      "81       ZNF142            7701      Missense_Mutation  point_mutation   \n",
      "\n",
      "    AAChange    aa_pos  \n",
      "95         .  (NA, NA)  \n",
      "16         .  (NA, NA)  \n",
      "70         .  (NA, NA)  \n",
      "61         .  (NA, NA)  \n",
      "107        .  (NA, NA)  \n",
      "34         .  (NA, NA)  \n",
      "72         .  (NA, NA)  \n",
      "29         .  (NA, NA)  \n",
      "116        .  (NA, NA)  \n",
      "88         .  (NA, NA)  \n",
      "81         .  (NA, NA)  \n",
      "TCGA-AA-A02W-01A-01W-A00E-09 COAD 11 point mutations without a position 98 remain\n",
      "   Hugo_Symbol  Entrez_gene_ID Variant_Classification        function  \\\n",
      "4      AKR1CL1          340811      Missense_Mutation  point_mutation   \n",
      "11       KDM2B           84678      Missense_Mutation  point_mutation   \n",
      "17       NR2C1            7181      Missense_Mutation  point_mutation   \n",
      "\n",
      "   AAChange    aa_pos  \n",
      "4         .  (NA, NA)  \n",
      "11        .  (NA, NA)  \n",
      "17        .  (NA, NA)  \n"
     ]
    },
    {
     "name": "stdout",
     "output_type": "stream",
     "text": [
      "DLBC\n"
     ]
    },
    {
     "name": "stderr",
     "output_type": "stream",
     "text": [
      "preprocessed maf 49 files;\t\traw maf: 0 files\n",
      "select processed maf file for cohort DLBC\n",
      "use path data/TCGA/data/gdac.broadinstitute.org_DLBC.Mutation_Packager_Calls.Level_3.2016012800.0.0/\n"
     ]
    },
    {
     "name": "stdout",
     "output_type": "stream",
     "text": [
      "ESCA\n"
     ]
    },
    {
     "name": "stderr",
     "output_type": "stream",
     "text": [
      "preprocessed maf 186 files;\t\traw maf: 0 files\n",
      "select processed maf file for cohort ESCA\n",
      "use path data/TCGA/data/gdac.broadinstitute.org_ESCA.Mutation_Packager_Calls.Level_3.2016012800.0.0/\n"
     ]
    },
    {
     "name": "stdout",
     "output_type": "stream",
     "text": [
      "Warning: query IDs not mapped to any target IDs excluded: 1\n"
     ]
    },
    {
     "name": "stderr",
     "output_type": "stream",
     "text": [
      "1 Hugo symbols not mapped to Entrez gene ID ['MT-ND5']\n"
     ]
    },
    {
     "name": "stdout",
     "output_type": "stream",
     "text": [
      "Warning: query IDs not mapped to any target IDs excluded: 2\n"
     ]
    },
    {
     "name": "stderr",
     "output_type": "stream",
     "text": [
      "2 Hugo symbols not mapped to Entrez gene ID ['ENSG00000212857', 'MT-ND5']\n"
     ]
    },
    {
     "name": "stdout",
     "output_type": "stream",
     "text": [
      "Warning: query IDs not mapped to any target IDs excluded: 3\n"
     ]
    },
    {
     "name": "stderr",
     "output_type": "stream",
     "text": [
      "3 Hugo symbols not mapped to Entrez gene ID ['TCEB3C', 'MT-CO1', 'MT-ND5']\n"
     ]
    },
    {
     "name": "stdout",
     "output_type": "stream",
     "text": [
      "Warning: query IDs mapping to duplicated target IDs in mapping table: 2\n",
      "Warning: query IDs not mapped to any target IDs excluded: 4\n"
     ]
    },
    {
     "name": "stderr",
     "output_type": "stream",
     "text": [
      "4 Hugo symbols not mapped to Entrez gene ID ['DEC1', 'SEPT2', 'ENSG00000268400', 'MT-ND5']\n"
     ]
    },
    {
     "name": "stdout",
     "output_type": "stream",
     "text": [
      "Warning: query IDs not mapped to any target IDs excluded: 2\n"
     ]
    },
    {
     "name": "stderr",
     "output_type": "stream",
     "text": [
      "2 Hugo symbols not mapped to Entrez gene ID ['ENSG00000253172', 'MT-ND5']\n"
     ]
    },
    {
     "name": "stdout",
     "output_type": "stream",
     "text": [
      "Warning: query IDs not mapped to any target IDs excluded: 1\n"
     ]
    },
    {
     "name": "stderr",
     "output_type": "stream",
     "text": [
      "1 Hugo symbols not mapped to Entrez gene ID ['MT-ATP6']\n"
     ]
    },
    {
     "name": "stdout",
     "output_type": "stream",
     "text": [
      "Warning: query IDs not mapped to any target IDs excluded: 3\n"
     ]
    },
    {
     "name": "stderr",
     "output_type": "stream",
     "text": [
      "3 Hugo symbols not mapped to Entrez gene ID ['ENSG00000145965', 'ENSG00000242628', 'ENSG00000257743']\n"
     ]
    },
    {
     "name": "stdout",
     "output_type": "stream",
     "text": [
      "Warning: query IDs not mapped to any target IDs excluded: 5\n"
     ]
    },
    {
     "name": "stderr",
     "output_type": "stream",
     "text": [
      "5 Hugo symbols not mapped to Entrez gene ID ['MARS', 'NOTCH2NL', 'ENSG00000179755', 'ENSG00000267848', 'FLJ22184']\n"
     ]
    },
    {
     "name": "stdout",
     "output_type": "stream",
     "text": [
      "Warning: query IDs not mapped to any target IDs excluded: 2\n"
     ]
    },
    {
     "name": "stderr",
     "output_type": "stream",
     "text": [
      "2 Hugo symbols not mapped to Entrez gene ID ['MT-CO1', 'MT-ND5']\n"
     ]
    },
    {
     "name": "stdout",
     "output_type": "stream",
     "text": [
      "Warning: query IDs not mapped to any target IDs excluded: 4\n"
     ]
    },
    {
     "name": "stderr",
     "output_type": "stream",
     "text": [
      "4 Hugo symbols not mapped to Entrez gene ID ['HIST1H2BI', 'ENSG00000248801', 'ENSG00000257057', 'ENSG00000264222']\n"
     ]
    },
    {
     "name": "stdout",
     "output_type": "stream",
     "text": [
      "Warning: query IDs not mapped to any target IDs excluded: 2\n"
     ]
    },
    {
     "name": "stderr",
     "output_type": "stream",
     "text": [
      "2 Hugo symbols not mapped to Entrez gene ID ['ENSG00000237452', 'MT-ND5']\n"
     ]
    },
    {
     "name": "stdout",
     "output_type": "stream",
     "text": [
      "Warning: query IDs not mapped to any target IDs excluded: 3\n",
      "Warning: query IDs not mapped to any target IDs excluded: 1\n"
     ]
    },
    {
     "name": "stderr",
     "output_type": "stream",
     "text": [
      "3 Hugo symbols not mapped to Entrez gene ID ['ENSG00000212884', 'MT-ATP6', 'MT-ND5']\n",
      "1 Hugo symbols not mapped to Entrez gene ID ['GIF']\n"
     ]
    },
    {
     "name": "stdout",
     "output_type": "stream",
     "text": [
      "Warning: query IDs not mapped to any target IDs excluded: 2\n"
     ]
    },
    {
     "name": "stderr",
     "output_type": "stream",
     "text": [
      "2 Hugo symbols not mapped to Entrez gene ID ['ENSG00000268412', 'ENSG00000273398']\n"
     ]
    },
    {
     "name": "stdout",
     "output_type": "stream",
     "text": [
      "Warning: query IDs not mapped to any target IDs excluded: 2\n",
      "Warning: query IDs not mapped to any target IDs excluded: 3\n"
     ]
    },
    {
     "name": "stderr",
     "output_type": "stream",
     "text": [
      "2 Hugo symbols not mapped to Entrez gene ID ['MT-CO1', 'MT-ND5']\n",
      "3 Hugo symbols not mapped to Entrez gene ID ['ENSG00000173213', 'ENSG00000249428', 'ENSG00000255622']\n"
     ]
    },
    {
     "name": "stdout",
     "output_type": "stream",
     "text": [
      "Warning: query IDs not mapped to any target IDs excluded: 1\n"
     ]
    },
    {
     "name": "stderr",
     "output_type": "stream",
     "text": [
      "1 Hugo symbols not mapped to Entrez gene ID ['ENSG00000229729']\n"
     ]
    },
    {
     "name": "stdout",
     "output_type": "stream",
     "text": [
      "Warning: query IDs not mapped to any target IDs excluded: 3\n"
     ]
    },
    {
     "name": "stderr",
     "output_type": "stream",
     "text": [
      "3 Hugo symbols not mapped to Entrez gene ID ['SARS', 'ENSG00000234719', 'ENSG00000269175']\n"
     ]
    },
    {
     "name": "stdout",
     "output_type": "stream",
     "text": [
      "Warning: query IDs not mapped to any target IDs excluded: 2\n"
     ]
    },
    {
     "name": "stderr",
     "output_type": "stream",
     "text": [
      "2 Hugo symbols not mapped to Entrez gene ID ['B3GNT1', 'ENSG00000259455']\n"
     ]
    },
    {
     "name": "stdout",
     "output_type": "stream",
     "text": [
      "Warning: query IDs not mapped to any target IDs excluded: 4\n"
     ]
    },
    {
     "name": "stderr",
     "output_type": "stream",
     "text": [
      "4 Hugo symbols not mapped to Entrez gene ID ['EFTUD1', 'ENSG00000183562', 'ENSG00000217825', 'MT-ATP6']\n"
     ]
    },
    {
     "name": "stdout",
     "output_type": "stream",
     "text": [
      "Warning: query IDs not mapped to any target IDs excluded: 1\n"
     ]
    },
    {
     "name": "stderr",
     "output_type": "stream",
     "text": [
      "1 Hugo symbols not mapped to Entrez gene ID ['ENSG00000212857']\n"
     ]
    },
    {
     "name": "stdout",
     "output_type": "stream",
     "text": [
      "Warning: query IDs not mapped to any target IDs excluded: 1\n"
     ]
    },
    {
     "name": "stderr",
     "output_type": "stream",
     "text": [
      "1 Hugo symbols not mapped to Entrez gene ID ['MT-CO1']\n"
     ]
    },
    {
     "name": "stdout",
     "output_type": "stream",
     "text": [
      "Warning: query IDs not mapped to any target IDs excluded: 2\n"
     ]
    },
    {
     "name": "stderr",
     "output_type": "stream",
     "text": [
      "2 Hugo symbols not mapped to Entrez gene ID ['ENSG00000257743', 'ENSG00000268948']\n"
     ]
    },
    {
     "name": "stdout",
     "output_type": "stream",
     "text": [
      "Warning: query IDs not mapped to any target IDs excluded: 1\n"
     ]
    },
    {
     "name": "stderr",
     "output_type": "stream",
     "text": [
      "1 Hugo symbols not mapped to Entrez gene ID ['ENSG00000240291']\n"
     ]
    },
    {
     "name": "stdout",
     "output_type": "stream",
     "text": [
      "Warning: query IDs not mapped to any target IDs excluded: 2\n"
     ]
    },
    {
     "name": "stderr",
     "output_type": "stream",
     "text": [
      "2 Hugo symbols not mapped to Entrez gene ID ['ENSG00000267848', 'ENSG00000269175']\n"
     ]
    },
    {
     "name": "stdout",
     "output_type": "stream",
     "text": [
      "Warning: query IDs not mapped to any target IDs excluded: 3\n"
     ]
    },
    {
     "name": "stderr",
     "output_type": "stream",
     "text": [
      "3 Hugo symbols not mapped to Entrez gene ID ['CSRP2BP', 'ENSG00000231171', 'ENSG00000263020']\n"
     ]
    },
    {
     "name": "stdout",
     "output_type": "stream",
     "text": [
      "Warning: query IDs not mapped to any target IDs excluded: 1\n"
     ]
    },
    {
     "name": "stderr",
     "output_type": "stream",
     "text": [
      "1 Hugo symbols not mapped to Entrez gene ID ['MT-CO1']\n"
     ]
    },
    {
     "name": "stdout",
     "output_type": "stream",
     "text": [
      "Warning: query IDs not mapped to any target IDs excluded: 1\n"
     ]
    },
    {
     "name": "stderr",
     "output_type": "stream",
     "text": [
      "1 Hugo symbols not mapped to Entrez gene ID ['SEPT2']\n"
     ]
    },
    {
     "name": "stdout",
     "output_type": "stream",
     "text": [
      "Warning: query IDs not mapped to any target IDs excluded: 1\n"
     ]
    },
    {
     "name": "stderr",
     "output_type": "stream",
     "text": [
      "1 Hugo symbols not mapped to Entrez gene ID ['MT-ND5']\n"
     ]
    },
    {
     "name": "stdout",
     "output_type": "stream",
     "text": [
      "Warning: query IDs not mapped to any target IDs excluded: 1\n"
     ]
    },
    {
     "name": "stderr",
     "output_type": "stream",
     "text": [
      "1 Hugo symbols not mapped to Entrez gene ID ['ENSG00000234677']\n"
     ]
    },
    {
     "name": "stdout",
     "output_type": "stream",
     "text": [
      "Warning: query IDs not mapped to any target IDs excluded: 1\n"
     ]
    },
    {
     "name": "stderr",
     "output_type": "stream",
     "text": [
      "1 Hugo symbols not mapped to Entrez gene ID ['ENSG00000176593']\n"
     ]
    },
    {
     "name": "stdout",
     "output_type": "stream",
     "text": [
      "Warning: query IDs not mapped to any target IDs excluded: 1\n"
     ]
    },
    {
     "name": "stderr",
     "output_type": "stream",
     "text": [
      "1 Hugo symbols not mapped to Entrez gene ID ['ENSG00000257743']\n"
     ]
    },
    {
     "name": "stdout",
     "output_type": "stream",
     "text": [
      "Warning: query IDs not mapped to any target IDs excluded: 2\n"
     ]
    },
    {
     "name": "stderr",
     "output_type": "stream",
     "text": [
      "2 Hugo symbols not mapped to Entrez gene ID ['ENSG00000267270', 'FLJ22184']\n"
     ]
    },
    {
     "name": "stdout",
     "output_type": "stream",
     "text": [
      "Warning: query IDs not mapped to any target IDs excluded: 1\n"
     ]
    },
    {
     "name": "stderr",
     "output_type": "stream",
     "text": [
      "1 Hugo symbols not mapped to Entrez gene ID ['MT-ND5']\n"
     ]
    },
    {
     "name": "stdout",
     "output_type": "stream",
     "text": [
      "Warning: query IDs not mapped to any target IDs excluded: 2\n"
     ]
    },
    {
     "name": "stderr",
     "output_type": "stream",
     "text": [
      "2 Hugo symbols not mapped to Entrez gene ID ['MT-CO1', 'MT-ND5']\n"
     ]
    },
    {
     "name": "stdout",
     "output_type": "stream",
     "text": [
      "Warning: query IDs not mapped to any target IDs excluded: 2\n"
     ]
    },
    {
     "name": "stderr",
     "output_type": "stream",
     "text": [
      "2 Hugo symbols not mapped to Entrez gene ID ['ENSG00000255154', 'ENSG00000259471']\n"
     ]
    },
    {
     "name": "stdout",
     "output_type": "stream",
     "text": [
      "Warning: query IDs not mapped to any target IDs excluded: 3\n"
     ]
    },
    {
     "name": "stderr",
     "output_type": "stream",
     "text": [
      "3 Hugo symbols not mapped to Entrez gene ID ['CXXC11', 'ENSG00000173213', 'ENSG00000255835']\n"
     ]
    },
    {
     "name": "stdout",
     "output_type": "stream",
     "text": [
      "Warning: query IDs not mapped to any target IDs excluded: 5\n"
     ]
    },
    {
     "name": "stderr",
     "output_type": "stream",
     "text": [
      "5 Hugo symbols not mapped to Entrez gene ID ['B3GNT1', 'QARS', 'ENSG00000212857', 'ENSG00000268059', 'MT-CO1']\n"
     ]
    },
    {
     "name": "stdout",
     "output_type": "stream",
     "text": [
      "Warning: query IDs not mapped to any target IDs excluded: 2\n"
     ]
    },
    {
     "name": "stderr",
     "output_type": "stream",
     "text": [
      "2 Hugo symbols not mapped to Entrez gene ID ['HN1L', 'MARS']\n"
     ]
    },
    {
     "name": "stdout",
     "output_type": "stream",
     "text": [
      "Warning: query IDs not mapped to any target IDs excluded: 9\n"
     ]
    },
    {
     "name": "stderr",
     "output_type": "stream",
     "text": [
      "9 Hugo symbols not mapped to Entrez gene ID ['AGPAT9', 'AZI1', 'GARS', 'MARS', 'ENSG00000212999', 'ENSG00000249428', 'ENSG00000260415', 'ENSG00000267848', 'ENSG00000268241']\n"
     ]
    },
    {
     "name": "stdout",
     "output_type": "stream",
     "text": [
      "Warning: query IDs not mapped to any target IDs excluded: 2\n"
     ]
    },
    {
     "name": "stderr",
     "output_type": "stream",
     "text": [
      "2 Hugo symbols not mapped to Entrez gene ID ['QARS', 'KIAA1804']\n"
     ]
    },
    {
     "name": "stdout",
     "output_type": "stream",
     "text": [
      "Warning: query IDs not mapped to any target IDs excluded: 3\n",
      "Warning: query IDs not mapped to any target IDs excluded: 2\n"
     ]
    },
    {
     "name": "stderr",
     "output_type": "stream",
     "text": [
      "3 Hugo symbols not mapped to Entrez gene ID ['ENSG00000215304', 'ENSG00000232274', 'MT-ATP8']\n",
      "2 Hugo symbols not mapped to Entrez gene ID ['ENSG00000234719', 'SPHAR']\n"
     ]
    },
    {
     "name": "stdout",
     "output_type": "stream",
     "text": [
      "Warning: query IDs not mapped to any target IDs excluded: 1\n",
      "Warning: query IDs not mapped to any target IDs excluded: 1\n"
     ]
    },
    {
     "name": "stderr",
     "output_type": "stream",
     "text": [
      "1 Hugo symbols not mapped to Entrez gene ID ['MT-ND4L']\n",
      "1 Hugo symbols not mapped to Entrez gene ID ['LOC100509091']\n"
     ]
    },
    {
     "name": "stdout",
     "output_type": "stream",
     "text": [
      "Warning: query IDs not mapped to any target IDs excluded: 1\n"
     ]
    },
    {
     "name": "stderr",
     "output_type": "stream",
     "text": [
      "1 Hugo symbols not mapped to Entrez gene ID ['LOC100128374']\n"
     ]
    },
    {
     "name": "stdout",
     "output_type": "stream",
     "text": [
      "Warning: query IDs not mapped to any target IDs excluded: 1\n"
     ]
    },
    {
     "name": "stderr",
     "output_type": "stream",
     "text": [
      "1 Hugo symbols not mapped to Entrez gene ID ['KIAA1804']\n"
     ]
    },
    {
     "name": "stdout",
     "output_type": "stream",
     "text": [
      "Warning: query IDs not mapped to any target IDs excluded: 2\n"
     ]
    },
    {
     "name": "stderr",
     "output_type": "stream",
     "text": [
      "2 Hugo symbols not mapped to Entrez gene ID ['ENSG00000212857', 'ENSG00000228532']\n"
     ]
    },
    {
     "name": "stdout",
     "output_type": "stream",
     "text": [
      "Warning: query IDs not mapped to any target IDs excluded: 2\n"
     ]
    },
    {
     "name": "stderr",
     "output_type": "stream",
     "text": [
      "2 Hugo symbols not mapped to Entrez gene ID ['ENSG00000212857', 'MT-ND5']\n"
     ]
    },
    {
     "name": "stdout",
     "output_type": "stream",
     "text": [
      "Warning: query IDs not mapped to any target IDs excluded: 3\n"
     ]
    },
    {
     "name": "stderr",
     "output_type": "stream",
     "text": [
      "3 Hugo symbols not mapped to Entrez gene ID ['ENSG00000205018', 'MT-CO1', 'MT-ND5']\n"
     ]
    },
    {
     "name": "stdout",
     "output_type": "stream",
     "text": [
      "Warning: query IDs not mapped to any target IDs excluded: 2\n"
     ]
    },
    {
     "name": "stderr",
     "output_type": "stream",
     "text": [
      "2 Hugo symbols not mapped to Entrez gene ID ['B3GNT1', 'MT-ND5']\n"
     ]
    },
    {
     "name": "stdout",
     "output_type": "stream",
     "text": [
      "Warning: query IDs not mapped to any target IDs excluded: 4\n"
     ]
    },
    {
     "name": "stderr",
     "output_type": "stream",
     "text": [
      "4 Hugo symbols not mapped to Entrez gene ID ['ENSG00000217702', 'ENSG00000234222', 'MT-ATP6', 'MT-CO1']\n"
     ]
    },
    {
     "name": "stdout",
     "output_type": "stream",
     "text": [
      "Warning: query IDs not mapped to any target IDs excluded: 1\n"
     ]
    },
    {
     "name": "stderr",
     "output_type": "stream",
     "text": [
      "1 Hugo symbols not mapped to Entrez gene ID ['MT-ND5']\n"
     ]
    },
    {
     "name": "stdout",
     "output_type": "stream",
     "text": [
      "Warning: query IDs not mapped to any target IDs excluded: 1\n"
     ]
    },
    {
     "name": "stderr",
     "output_type": "stream",
     "text": [
      "1 Hugo symbols not mapped to Entrez gene ID ['MUM1']\n"
     ]
    },
    {
     "name": "stdout",
     "output_type": "stream",
     "text": [
      "Warning: query IDs not mapped to any target IDs excluded: 4\n"
     ]
    },
    {
     "name": "stderr",
     "output_type": "stream",
     "text": [
      "4 Hugo symbols not mapped to Entrez gene ID ['ENSG00000212884', 'ENSG00000254614', 'MT-CO1', 'MT-ND5']\n"
     ]
    },
    {
     "name": "stdout",
     "output_type": "stream",
     "text": [
      "Warning: query IDs not mapped to any target IDs excluded: 3\n"
     ]
    },
    {
     "name": "stderr",
     "output_type": "stream",
     "text": [
      "3 Hugo symbols not mapped to Entrez gene ID ['CD97', 'ENSG00000255641', 'ENSG00000268241']\n"
     ]
    },
    {
     "name": "stdout",
     "output_type": "stream",
     "text": [
      "Warning: query IDs not mapped to any target IDs excluded: 12\n"
     ]
    },
    {
     "name": "stderr",
     "output_type": "stream",
     "text": [
      "12 Hugo symbols not mapped to Entrez gene ID ['ADC', 'ENSG00000183154', 'ENSG00000212857', 'ENSG00000215428', 'ENSG00000225996', 'ENSG00000237102', 'ENSG00000255622', 'ENSG00000257743', 'ENSG00000259455', 'ENSG00000267270', 'ENSG00000268467', 'MT-ND5']\n"
     ]
    },
    {
     "name": "stdout",
     "output_type": "stream",
     "text": [
      "Warning: query IDs not mapped to any target IDs excluded: 1\n"
     ]
    },
    {
     "name": "stderr",
     "output_type": "stream",
     "text": [
      "1 Hugo symbols not mapped to Entrez gene ID ['MT-ND5']\n"
     ]
    },
    {
     "name": "stdout",
     "output_type": "stream",
     "text": [
      "Warning: query IDs not mapped to any target IDs excluded: 2\n"
     ]
    },
    {
     "name": "stderr",
     "output_type": "stream",
     "text": [
      "2 Hugo symbols not mapped to Entrez gene ID ['ENSG00000181495', 'ENSG00000255537']\n"
     ]
    },
    {
     "name": "stdout",
     "output_type": "stream",
     "text": [
      "Warning: query IDs not mapped to any target IDs excluded: 1\n"
     ]
    },
    {
     "name": "stderr",
     "output_type": "stream",
     "text": [
      "1 Hugo symbols not mapped to Entrez gene ID ['ENSG00000214305']\n"
     ]
    },
    {
     "name": "stdout",
     "output_type": "stream",
     "text": [
      "Warning: query IDs not mapped to any target IDs excluded: 3\n"
     ]
    },
    {
     "name": "stderr",
     "output_type": "stream",
     "text": [
      "3 Hugo symbols not mapped to Entrez gene ID ['ENSG00000222031', 'ENSG00000268864', 'MT-ND5']\n"
     ]
    },
    {
     "name": "stdout",
     "output_type": "stream",
     "text": [
      "Warning: query IDs not mapped to any target IDs excluded: 2\n"
     ]
    },
    {
     "name": "stderr",
     "output_type": "stream",
     "text": [
      "2 Hugo symbols not mapped to Entrez gene ID ['MT-CO1', 'MT-ND5']\n"
     ]
    },
    {
     "name": "stdout",
     "output_type": "stream",
     "text": [
      "Warning: query IDs not mapped to any target IDs excluded: 4\n"
     ]
    },
    {
     "name": "stderr",
     "output_type": "stream",
     "text": [
      "4 Hugo symbols not mapped to Entrez gene ID ['LOC100996779', 'ENSG00000217825', 'ENSG00000267848', 'ENSG00000269175']\n"
     ]
    },
    {
     "name": "stdout",
     "output_type": "stream",
     "text": [
      "Warning: query IDs not mapped to any target IDs excluded: 3\n",
      "Warning: query IDs not mapped to any target IDs excluded: 1\n"
     ]
    },
    {
     "name": "stderr",
     "output_type": "stream",
     "text": [
      "3 Hugo symbols not mapped to Entrez gene ID ['QARS', 'ENSG00000259357', 'ENSG00000272268']\n",
      "1 Hugo symbols not mapped to Entrez gene ID ['ENSG00000269490']\n"
     ]
    },
    {
     "name": "stdout",
     "output_type": "stream",
     "text": [
      "Warning: query IDs not mapped to any target IDs excluded: 1\n"
     ]
    },
    {
     "name": "stderr",
     "output_type": "stream",
     "text": [
      "1 Hugo symbols not mapped to Entrez gene ID ['ENSG00000255622']\n"
     ]
    },
    {
     "name": "stdout",
     "output_type": "stream",
     "text": [
      "Warning: query IDs not mapped to any target IDs excluded: 4\n"
     ]
    },
    {
     "name": "stderr",
     "output_type": "stream",
     "text": [
      "4 Hugo symbols not mapped to Entrez gene ID ['LOC101927016', 'ENSG00000169203', 'ENSG00000212857', 'ENSG00000253251']\n"
     ]
    },
    {
     "name": "stdout",
     "output_type": "stream",
     "text": [
      "Warning: query IDs not mapped to any target IDs excluded: 3\n"
     ]
    },
    {
     "name": "stderr",
     "output_type": "stream",
     "text": [
      "3 Hugo symbols not mapped to Entrez gene ID ['ENSG00000187811', 'ENSG00000267848', 'MT-CO1']\n"
     ]
    },
    {
     "name": "stdout",
     "output_type": "stream",
     "text": [
      "Warning: query IDs not mapped to any target IDs excluded: 1\n"
     ]
    },
    {
     "name": "stderr",
     "output_type": "stream",
     "text": [
      "1 Hugo symbols not mapped to Entrez gene ID ['ENSG00000232866']\n"
     ]
    },
    {
     "name": "stdout",
     "output_type": "stream",
     "text": [
      "Warning: query IDs not mapped to any target IDs excluded: 1\n"
     ]
    },
    {
     "name": "stderr",
     "output_type": "stream",
     "text": [
      "1 Hugo symbols not mapped to Entrez gene ID ['MT-CO1']\n"
     ]
    },
    {
     "name": "stdout",
     "output_type": "stream",
     "text": [
      "Warning: query IDs not mapped to any target IDs excluded: 1\n"
     ]
    },
    {
     "name": "stderr",
     "output_type": "stream",
     "text": [
      "1 Hugo symbols not mapped to Entrez gene ID ['ENSG00000249034']\n"
     ]
    },
    {
     "name": "stdout",
     "output_type": "stream",
     "text": [
      "Warning: query IDs not mapped to any target IDs excluded: 2\n"
     ]
    },
    {
     "name": "stderr",
     "output_type": "stream",
     "text": [
      "2 Hugo symbols not mapped to Entrez gene ID ['ENSG00000197182', 'ENSG00000205018']\n"
     ]
    },
    {
     "name": "stdout",
     "output_type": "stream",
     "text": [
      "Warning: query IDs not mapped to any target IDs excluded: 2\n"
     ]
    },
    {
     "name": "stderr",
     "output_type": "stream",
     "text": [
      "2 Hugo symbols not mapped to Entrez gene ID ['AIM1', 'GARS']\n"
     ]
    },
    {
     "name": "stdout",
     "output_type": "stream",
     "text": [
      "Warning: query IDs not mapped to any target IDs excluded: 2\n"
     ]
    },
    {
     "name": "stderr",
     "output_type": "stream",
     "text": [
      "2 Hugo symbols not mapped to Entrez gene ID ['STRA13', 'LOC101928102']\n"
     ]
    },
    {
     "name": "stdout",
     "output_type": "stream",
     "text": [
      "Warning: query IDs not mapped to any target IDs excluded: 1\n"
     ]
    },
    {
     "name": "stderr",
     "output_type": "stream",
     "text": [
      "1 Hugo symbols not mapped to Entrez gene ID ['GIF']\n"
     ]
    },
    {
     "name": "stdout",
     "output_type": "stream",
     "text": [
      "Warning: query IDs not mapped to any target IDs excluded: 1\n"
     ]
    },
    {
     "name": "stderr",
     "output_type": "stream",
     "text": [
      "1 Hugo symbols not mapped to Entrez gene ID ['MT-CO1']\n"
     ]
    },
    {
     "name": "stdout",
     "output_type": "stream",
     "text": [
      "Warning: query IDs not mapped to any target IDs excluded: 2\n"
     ]
    },
    {
     "name": "stderr",
     "output_type": "stream",
     "text": [
      "2 Hugo symbols not mapped to Entrez gene ID ['AIM1', 'MUM1']\n"
     ]
    },
    {
     "name": "stdout",
     "output_type": "stream",
     "text": [
      "Warning: query IDs not mapped to any target IDs excluded: 1\n",
      "Warning: query IDs not mapped to any target IDs excluded: 1\n"
     ]
    },
    {
     "name": "stderr",
     "output_type": "stream",
     "text": [
      "1 Hugo symbols not mapped to Entrez gene ID ['101928757']\n",
      "1 Hugo symbols not mapped to Entrez gene ID ['ENSG00000257743']\n"
     ]
    },
    {
     "name": "stdout",
     "output_type": "stream",
     "text": [
      "Warning: query IDs not mapped to any target IDs excluded: 1\n"
     ]
    },
    {
     "name": "stderr",
     "output_type": "stream",
     "text": [
      "1 Hugo symbols not mapped to Entrez gene ID ['ENSG00000267954']\n"
     ]
    },
    {
     "name": "stdout",
     "output_type": "stream",
     "text": [
      "Warning: query IDs not mapped to any target IDs excluded: 1\n"
     ]
    },
    {
     "name": "stderr",
     "output_type": "stream",
     "text": [
      "1 Hugo symbols not mapped to Entrez gene ID ['ENSG00000268194']\n"
     ]
    },
    {
     "name": "stdout",
     "output_type": "stream",
     "text": [
      "Warning: query IDs not mapped to any target IDs excluded: 1\n"
     ]
    },
    {
     "name": "stderr",
     "output_type": "stream",
     "text": [
      "1 Hugo symbols not mapped to Entrez gene ID ['ENSG00000247925']\n"
     ]
    },
    {
     "name": "stdout",
     "output_type": "stream",
     "text": [
      "Warning: query IDs not mapped to any target IDs excluded: 1\n"
     ]
    },
    {
     "name": "stderr",
     "output_type": "stream",
     "text": [
      "1 Hugo symbols not mapped to Entrez gene ID ['ENSG00000188474']\n"
     ]
    },
    {
     "name": "stdout",
     "output_type": "stream",
     "text": [
      "Warning: query IDs not mapped to any target IDs excluded: 1\n"
     ]
    },
    {
     "name": "stderr",
     "output_type": "stream",
     "text": [
      "1 Hugo symbols not mapped to Entrez gene ID ['ENSG00000167765']\n"
     ]
    },
    {
     "name": "stdout",
     "output_type": "stream",
     "text": [
      "Warning: query IDs not mapped to any target IDs excluded: 3\n"
     ]
    },
    {
     "name": "stderr",
     "output_type": "stream",
     "text": [
      "3 Hugo symbols not mapped to Entrez gene ID ['ENSG00000189275', 'MT-ND5', 'MT-ND6']\n"
     ]
    },
    {
     "name": "stdout",
     "output_type": "stream",
     "text": [
      "Warning: query IDs not mapped to any target IDs excluded: 1\n"
     ]
    },
    {
     "name": "stderr",
     "output_type": "stream",
     "text": [
      "1 Hugo symbols not mapped to Entrez gene ID ['HIST1H2BC']\n"
     ]
    },
    {
     "name": "stdout",
     "output_type": "stream",
     "text": [
      "Warning: query IDs not mapped to any target IDs excluded: 2\n"
     ]
    },
    {
     "name": "stderr",
     "output_type": "stream",
     "text": [
      "2 Hugo symbols not mapped to Entrez gene ID ['GARS', 'FLJ46361']\n"
     ]
    },
    {
     "name": "stdout",
     "output_type": "stream",
     "text": [
      "Warning: query IDs not mapped to any target IDs excluded: 1\n"
     ]
    },
    {
     "name": "stderr",
     "output_type": "stream",
     "text": [
      "1 Hugo symbols not mapped to Entrez gene ID ['ENSG00000167765']\n"
     ]
    },
    {
     "name": "stdout",
     "output_type": "stream",
     "text": [
      "Warning: query IDs mapping to duplicated target IDs in mapping table: 2\n",
      "Warning: query IDs not mapped to any target IDs excluded: 3\n"
     ]
    },
    {
     "name": "stderr",
     "output_type": "stream",
     "text": [
      "3 Hugo symbols not mapped to Entrez gene ID ['ENSG00000255622', 'ENSG00000257743', 'FLJ22184']\n"
     ]
    },
    {
     "name": "stdout",
     "output_type": "stream",
     "text": [
      "Warning: query IDs not mapped to any target IDs excluded: 3\n"
     ]
    },
    {
     "name": "stderr",
     "output_type": "stream",
     "text": [
      "3 Hugo symbols not mapped to Entrez gene ID ['HIST1H2BG', 'LOR', 'SEPT2']\n"
     ]
    },
    {
     "name": "stdout",
     "output_type": "stream",
     "text": [
      "Warning: query IDs not mapped to any target IDs excluded: 3\n"
     ]
    },
    {
     "name": "stderr",
     "output_type": "stream",
     "text": [
      "3 Hugo symbols not mapped to Entrez gene ID ['ENSG00000212857', 'ENSG00000233539', 'ENSG00000268948']\n"
     ]
    },
    {
     "name": "stdout",
     "output_type": "stream",
     "text": [
      "Warning: query IDs not mapped to any target IDs excluded: 1\n"
     ]
    },
    {
     "name": "stderr",
     "output_type": "stream",
     "text": [
      "1 Hugo symbols not mapped to Entrez gene ID ['ENSG00000272268']\n"
     ]
    },
    {
     "name": "stdout",
     "output_type": "stream",
     "text": [
      "Warning: query IDs not mapped to any target IDs excluded: 1\n"
     ]
    },
    {
     "name": "stderr",
     "output_type": "stream",
     "text": [
      "1 Hugo symbols not mapped to Entrez gene ID ['SARS']\n"
     ]
    },
    {
     "name": "stdout",
     "output_type": "stream",
     "text": [
      "Warning: query IDs not mapped to any target IDs excluded: 2\n"
     ]
    },
    {
     "name": "stderr",
     "output_type": "stream",
     "text": [
      "2 Hugo symbols not mapped to Entrez gene ID ['MT-CO1', 'MT-ND5']\n"
     ]
    },
    {
     "name": "stdout",
     "output_type": "stream",
     "text": [
      "Warning: query IDs not mapped to any target IDs excluded: 1\n"
     ]
    },
    {
     "name": "stderr",
     "output_type": "stream",
     "text": [
      "1 Hugo symbols not mapped to Entrez gene ID ['ENSG00000217825']\n"
     ]
    },
    {
     "name": "stdout",
     "output_type": "stream",
     "text": [
      "Warning: query IDs not mapped to any target IDs excluded: 1\n"
     ]
    },
    {
     "name": "stderr",
     "output_type": "stream",
     "text": [
      "1 Hugo symbols not mapped to Entrez gene ID ['ENSG00000173213']\n"
     ]
    },
    {
     "name": "stdout",
     "output_type": "stream",
     "text": [
      "Warning: query IDs not mapped to any target IDs excluded: 3\n"
     ]
    },
    {
     "name": "stderr",
     "output_type": "stream",
     "text": [
      "3 Hugo symbols not mapped to Entrez gene ID ['EFTUD1', 'ENSG00000212928', 'ENSG00000259966']\n"
     ]
    },
    {
     "name": "stdout",
     "output_type": "stream",
     "text": [
      "Warning: query IDs not mapped to any target IDs excluded: 1\n"
     ]
    },
    {
     "name": "stderr",
     "output_type": "stream",
     "text": [
      "1 Hugo symbols not mapped to Entrez gene ID ['ENSG00000249034']\n"
     ]
    },
    {
     "name": "stdout",
     "output_type": "stream",
     "text": [
      "Warning: query IDs not mapped to any target IDs excluded: 3\n"
     ]
    },
    {
     "name": "stderr",
     "output_type": "stream",
     "text": [
      "3 Hugo symbols not mapped to Entrez gene ID ['AZI1', 'ENSG00000237452', 'ENSG00000268467']\n"
     ]
    },
    {
     "name": "stdout",
     "output_type": "stream",
     "text": [
      "Warning: query IDs not mapped to any target IDs excluded: 3\n"
     ]
    },
    {
     "name": "stderr",
     "output_type": "stream",
     "text": [
      "3 Hugo symbols not mapped to Entrez gene ID ['ENSG00000226524', 'ENSG00000259455', 'MT-ND5']\n"
     ]
    },
    {
     "name": "stdout",
     "output_type": "stream",
     "text": [
      "Warning: query IDs not mapped to any target IDs excluded: 2\n"
     ]
    },
    {
     "name": "stderr",
     "output_type": "stream",
     "text": [
      "2 Hugo symbols not mapped to Entrez gene ID ['ENSG00000189275', 'ENSG00000215642']\n"
     ]
    },
    {
     "name": "stdout",
     "output_type": "stream",
     "text": [
      "Warning: query IDs not mapped to any target IDs excluded: 1\n"
     ]
    },
    {
     "name": "stderr",
     "output_type": "stream",
     "text": [
      "1 Hugo symbols not mapped to Entrez gene ID ['CD97']\n"
     ]
    },
    {
     "name": "stdout",
     "output_type": "stream",
     "text": [
      "Warning: query IDs not mapped to any target IDs excluded: 2\n"
     ]
    },
    {
     "name": "stderr",
     "output_type": "stream",
     "text": [
      "2 Hugo symbols not mapped to Entrez gene ID ['CXXC11', 'ENSG00000183154']\n"
     ]
    },
    {
     "name": "stdout",
     "output_type": "stream",
     "text": [
      "Warning: query IDs not mapped to any target IDs excluded: 1\n"
     ]
    },
    {
     "name": "stderr",
     "output_type": "stream",
     "text": [
      "1 Hugo symbols not mapped to Entrez gene ID ['ENSG00000229729']\n"
     ]
    },
    {
     "name": "stdout",
     "output_type": "stream",
     "text": [
      "Warning: query IDs not mapped to any target IDs excluded: 3\n"
     ]
    },
    {
     "name": "stderr",
     "output_type": "stream",
     "text": [
      "3 Hugo symbols not mapped to Entrez gene ID ['ENSG00000176593', 'ENSG00000225996', 'MT-CO1']\n"
     ]
    },
    {
     "name": "stdout",
     "output_type": "stream",
     "text": [
      "Warning: query IDs not mapped to any target IDs excluded: 2\n"
     ]
    },
    {
     "name": "stderr",
     "output_type": "stream",
     "text": [
      "2 Hugo symbols not mapped to Entrez gene ID ['MT-ATP6', 'MT-CO1']\n"
     ]
    },
    {
     "name": "stdout",
     "output_type": "stream",
     "text": [
      "Warning: query IDs not mapped to any target IDs excluded: 3\n"
     ]
    },
    {
     "name": "stderr",
     "output_type": "stream",
     "text": [
      "3 Hugo symbols not mapped to Entrez gene ID ['ENSG00000254469', 'MT-CO1', 'MT-ND5']\n"
     ]
    },
    {
     "name": "stdout",
     "output_type": "stream",
     "text": [
      "Warning: query IDs not mapped to any target IDs excluded: 1\n"
     ]
    },
    {
     "name": "stderr",
     "output_type": "stream",
     "text": [
      "1 Hugo symbols not mapped to Entrez gene ID ['LOC101928664']\n"
     ]
    },
    {
     "name": "stdout",
     "output_type": "stream",
     "text": [
      "Warning: query IDs not mapped to any target IDs excluded: 1\n"
     ]
    },
    {
     "name": "stderr",
     "output_type": "stream",
     "text": [
      "1 Hugo symbols not mapped to Entrez gene ID ['LOC101927810']\n"
     ]
    },
    {
     "name": "stdout",
     "output_type": "stream",
     "text": [
      "Warning: query IDs not mapped to any target IDs excluded: 1\n"
     ]
    },
    {
     "name": "stderr",
     "output_type": "stream",
     "text": [
      "1 Hugo symbols not mapped to Entrez gene ID ['B3GNT1']\n"
     ]
    },
    {
     "name": "stdout",
     "output_type": "stream",
     "text": [
      "Warning: query IDs not mapped to any target IDs excluded: 3\n"
     ]
    },
    {
     "name": "stderr",
     "output_type": "stream",
     "text": [
      "3 Hugo symbols not mapped to Entrez gene ID ['ENSG00000197182', 'ENSG00000228768', 'ENSG00000232748']\n"
     ]
    },
    {
     "name": "stdout",
     "output_type": "stream",
     "text": [
      "Warning: query IDs not mapped to any target IDs excluded: 1\n"
     ]
    },
    {
     "name": "stderr",
     "output_type": "stream",
     "text": [
      "1 Hugo symbols not mapped to Entrez gene ID ['MT-CO1']\n"
     ]
    },
    {
     "name": "stdout",
     "output_type": "stream",
     "text": [
      "Warning: query IDs not mapped to any target IDs excluded: 1\n"
     ]
    },
    {
     "name": "stderr",
     "output_type": "stream",
     "text": [
      "1 Hugo symbols not mapped to Entrez gene ID ['ENSG00000222031']\n"
     ]
    },
    {
     "name": "stdout",
     "output_type": "stream",
     "text": [
      "Warning: query IDs not mapped to any target IDs excluded: 1\n"
     ]
    },
    {
     "name": "stderr",
     "output_type": "stream",
     "text": [
      "1 Hugo symbols not mapped to Entrez gene ID ['C10orf2']\n"
     ]
    },
    {
     "name": "stdout",
     "output_type": "stream",
     "text": [
      "Warning: query IDs not mapped to any target IDs excluded: 3\n"
     ]
    },
    {
     "name": "stderr",
     "output_type": "stream",
     "text": [
      "3 Hugo symbols not mapped to Entrez gene ID ['CD97', 'LOC100133301', 'ENSG00000205018']\n"
     ]
    },
    {
     "name": "stdout",
     "output_type": "stream",
     "text": [
      "Warning: query IDs not mapped to any target IDs excluded: 1\n"
     ]
    },
    {
     "name": "stderr",
     "output_type": "stream",
     "text": [
      "1 Hugo symbols not mapped to Entrez gene ID ['MT-CO1']\n"
     ]
    },
    {
     "name": "stdout",
     "output_type": "stream",
     "text": [
      "Warning: query IDs not mapped to any target IDs excluded: 1\n"
     ]
    },
    {
     "name": "stderr",
     "output_type": "stream",
     "text": [
      "1 Hugo symbols not mapped to Entrez gene ID ['ENSG00000257743']\n"
     ]
    },
    {
     "name": "stdout",
     "output_type": "stream",
     "text": [
      "Warning: query IDs not mapped to any target IDs excluded: 1\n"
     ]
    },
    {
     "name": "stderr",
     "output_type": "stream",
     "text": [
      "1 Hugo symbols not mapped to Entrez gene ID ['ENSG00000212884']\n"
     ]
    },
    {
     "name": "stdout",
     "output_type": "stream",
     "text": [
      "Warning: query IDs not mapped to any target IDs excluded: 1\n"
     ]
    },
    {
     "name": "stderr",
     "output_type": "stream",
     "text": [
      "1 Hugo symbols not mapped to Entrez gene ID ['ENSG00000214999']\n"
     ]
    },
    {
     "name": "stdout",
     "output_type": "stream",
     "text": [
      "Warning: query IDs not mapped to any target IDs excluded: 1\n"
     ]
    },
    {
     "name": "stderr",
     "output_type": "stream",
     "text": [
      "1 Hugo symbols not mapped to Entrez gene ID ['ENSG00000215642']\n"
     ]
    },
    {
     "name": "stdout",
     "output_type": "stream",
     "text": [
      "Warning: query IDs not mapped to any target IDs excluded: 1\n"
     ]
    },
    {
     "name": "stderr",
     "output_type": "stream",
     "text": [
      "1 Hugo symbols not mapped to Entrez gene ID ['LOC101930611']\n"
     ]
    },
    {
     "name": "stdout",
     "output_type": "stream",
     "text": [
      "Warning: query IDs not mapped to any target IDs excluded: 2\n"
     ]
    },
    {
     "name": "stderr",
     "output_type": "stream",
     "text": [
      "2 Hugo symbols not mapped to Entrez gene ID ['ENSG00000257743', 'MT-CO1']\n"
     ]
    },
    {
     "name": "stdout",
     "output_type": "stream",
     "text": [
      "Warning: query IDs not mapped to any target IDs excluded: 2\n"
     ]
    },
    {
     "name": "stderr",
     "output_type": "stream",
     "text": [
      "2 Hugo symbols not mapped to Entrez gene ID ['ENSG00000255537', 'MT-CO1']\n"
     ]
    },
    {
     "name": "stdout",
     "output_type": "stream",
     "text": [
      "Warning: query IDs not mapped to any target IDs excluded: 1\n",
      "GBM\n"
     ]
    },
    {
     "name": "stderr",
     "output_type": "stream",
     "text": [
      "1 Hugo symbols not mapped to Entrez gene ID ['AZI1']\n",
      "preprocessed maf 291 files;\t\traw maf: 0 files\n",
      "select processed maf file for cohort GBM\n",
      "use path data/TCGA/data/gdac.broadinstitute.org_GBM.Mutation_Packager_Calls.Level_3.2016012800.0.0/\n"
     ]
    },
    {
     "name": "stdout",
     "output_type": "stream",
     "text": [
      "HNSC\n"
     ]
    },
    {
     "name": "stderr",
     "output_type": "stream",
     "text": [
      "preprocessed maf 280 files;\t\traw maf: 0 files\n",
      "select processed maf file for cohort HNSC\n",
      "use path data/TCGA/data/gdac.broadinstitute.org_HNSC.Mutation_Packager_Calls.Level_3.2016012800.0.0/\n"
     ]
    },
    {
     "name": "stdout",
     "output_type": "stream",
     "text": [
      "KICH\n"
     ]
    },
    {
     "name": "stderr",
     "output_type": "stream",
     "text": [
      "preprocessed maf 67 files;\t\traw maf: 0 files\n",
      "select processed maf file for cohort KICH\n",
      "use path data/TCGA/data/gdac.broadinstitute.org_KICH.Mutation_Packager_Calls.Level_3.2016012800.0.0/\n",
      "Protein change columns not found in TCGA-KL-8323-01.maf.txt KICH\n",
      "Protein change columns not found in TCGA-KL-8324-01.maf.txt KICH\n",
      "Protein change columns not found in TCGA-KL-8325-01.maf.txt KICH\n",
      "Protein change columns not found in TCGA-KL-8326-01.maf.txt KICH\n",
      "Protein change columns not found in TCGA-KL-8327-01.maf.txt KICH\n",
      "Protein change columns not found in TCGA-KL-8328-01.maf.txt KICH\n",
      "Protein change columns not found in TCGA-KL-8329-01.maf.txt KICH\n",
      "Protein change columns not found in TCGA-KL-8330-01.maf.txt KICH\n",
      "Protein change columns not found in TCGA-KL-8331-01.maf.txt KICH\n",
      "Protein change columns not found in TCGA-KL-8332-01.maf.txt KICH\n",
      "Protein change columns not found in TCGA-KL-8333-01.maf.txt KICH\n",
      "Protein change columns not found in TCGA-KL-8334-01.maf.txt KICH\n",
      "Protein change columns not found in TCGA-KL-8335-01.maf.txt KICH\n",
      "Protein change columns not found in TCGA-KL-8336-01.maf.txt KICH\n",
      "Protein change columns not found in TCGA-KL-8337-01.maf.txt KICH\n",
      "Protein change columns not found in TCGA-KL-8338-01.maf.txt KICH\n",
      "Protein change columns not found in TCGA-KL-8339-01.maf.txt KICH\n",
      "Protein change columns not found in TCGA-KL-8340-01.maf.txt KICH\n",
      "Protein change columns not found in TCGA-KL-8341-01.maf.txt KICH\n",
      "Protein change columns not found in TCGA-KL-8342-01.maf.txt KICH\n",
      "Protein change columns not found in TCGA-KL-8343-01.maf.txt KICH\n",
      "Protein change columns not found in TCGA-KL-8344-01.maf.txt KICH\n",
      "Protein change columns not found in TCGA-KL-8345-01.maf.txt KICH\n",
      "Protein change columns not found in TCGA-KL-8346-01.maf.txt KICH\n",
      "Protein change columns not found in TCGA-KM-8438-01.maf.txt KICH\n",
      "Protein change columns not found in TCGA-KM-8439-01.maf.txt KICH\n",
      "Protein change columns not found in TCGA-KM-8440-01.maf.txt KICH\n",
      "Protein change columns not found in TCGA-KM-8441-01.maf.txt KICH\n",
      "Protein change columns not found in TCGA-KM-8442-01.maf.txt KICH\n",
      "Protein change columns not found in TCGA-KM-8443-01.maf.txt KICH\n",
      "Protein change columns not found in TCGA-KM-8476-01.maf.txt KICH\n",
      "Protein change columns not found in TCGA-KM-8477-01.maf.txt KICH\n",
      "Protein change columns not found in TCGA-KM-8639-01.maf.txt KICH\n",
      "Protein change columns not found in TCGA-KN-8418-01.maf.txt KICH\n",
      "Protein change columns not found in TCGA-KN-8419-01.maf.txt KICH\n",
      "Protein change columns not found in TCGA-KN-8421-01.maf.txt KICH\n",
      "Protein change columns not found in TCGA-KN-8422-01.maf.txt KICH\n",
      "Protein change columns not found in TCGA-KN-8423-01.maf.txt KICH\n",
      "Protein change columns not found in TCGA-KN-8424-01.maf.txt KICH\n",
      "Protein change columns not found in TCGA-KN-8425-01.maf.txt KICH\n",
      "Protein change columns not found in TCGA-KN-8426-01.maf.txt KICH\n",
      "Protein change columns not found in TCGA-KN-8427-01.maf.txt KICH\n",
      "Protein change columns not found in TCGA-KN-8428-01.maf.txt KICH\n",
      "Protein change columns not found in TCGA-KN-8429-01.maf.txt KICH\n",
      "Protein change columns not found in TCGA-KN-8430-01.maf.txt KICH\n",
      "Protein change columns not found in TCGA-KN-8431-01.maf.txt KICH\n",
      "Protein change columns not found in TCGA-KN-8432-01.maf.txt KICH\n",
      "Protein change columns not found in TCGA-KN-8433-01.maf.txt KICH\n",
      "Protein change columns not found in TCGA-KN-8434-01.maf.txt KICH\n",
      "Protein change columns not found in TCGA-KN-8435-01.maf.txt KICH\n",
      "Protein change columns not found in TCGA-KN-8436-01.maf.txt KICH\n",
      "Protein change columns not found in TCGA-KN-8437-01.maf.txt KICH\n",
      "Protein change columns not found in TCGA-KO-8403-01.maf.txt KICH\n",
      "Protein change columns not found in TCGA-KO-8404-01.maf.txt KICH\n",
      "Protein change columns not found in TCGA-KO-8405-01.maf.txt KICH\n",
      "Protein change columns not found in TCGA-KO-8406-01.maf.txt KICH\n",
      "Protein change columns not found in TCGA-KO-8407-01.maf.txt KICH\n",
      "Protein change columns not found in TCGA-KO-8408-01.maf.txt KICH\n",
      "Protein change columns not found in TCGA-KO-8409-01.maf.txt KICH\n",
      "Protein change columns not found in TCGA-KO-8410-01.maf.txt KICH\n",
      "Protein change columns not found in TCGA-KO-8411-01.maf.txt KICH\n",
      "Protein change columns not found in TCGA-KO-8413-01.maf.txt KICH\n",
      "Protein change columns not found in TCGA-KO-8414-01.maf.txt KICH\n",
      "Protein change columns not found in TCGA-KO-8415-01.maf.txt KICH\n",
      "Protein change columns not found in TCGA-KO-8416-01.maf.txt KICH\n",
      "Protein change columns not found in TCGA-KO-8417-01.maf.txt KICH\n"
     ]
    },
    {
     "name": "stdout",
     "output_type": "stream",
     "text": [
      "KIRP\n"
     ]
    },
    {
     "name": "stderr",
     "output_type": "stream",
     "text": [
      "preprocessed maf 162 files;\t\traw maf: 0 files\n",
      "select processed maf file for cohort KIRP\n",
      "use path data/TCGA/data/gdac.broadinstitute.org_KIRP.Mutation_Packager_Calls.Level_3.2016012800.0.0/\n",
      "   Hugo_Symbol  Entrez_gene_ID Variant_Classification        function  \\\n",
      "21        GPX4            2879      Missense_Mutation  point_mutation   \n",
      "\n",
      "   AAChange    aa_pos  \n",
      "21        .  (NA, NA)  \n",
      "   Hugo_Symbol  Entrez_gene_ID Variant_Classification        function  \\\n",
      "50      THSD7B           80731      Missense_Mutation  point_mutation   \n",
      "\n",
      "   AAChange    aa_pos  \n",
      "50        .  (NA, NA)  \n",
      "   Hugo_Symbol  Entrez_gene_ID Variant_Classification        function  \\\n",
      "71   SUPT20HL1       100130302      Missense_Mutation  point_mutation   \n",
      "\n",
      "   AAChange    aa_pos  \n",
      "71        .  (NA, NA)  \n",
      "    Hugo_Symbol  Entrez_gene_ID Variant_Classification        function  \\\n",
      "112      DNAH11            8701      Missense_Mutation  point_mutation   \n",
      "121        DNM1            1759      Missense_Mutation  point_mutation   \n",
      "3         NBPF9          400818      Missense_Mutation  point_mutation   \n",
      "46       SEPHS2           22928      Missense_Mutation  point_mutation   \n",
      "\n",
      "    AAChange    aa_pos  \n",
      "112        .  (NA, NA)  \n",
      "121        .  (NA, NA)  \n",
      "3          .  (NA, NA)  \n",
      "46         .  (NA, NA)  \n",
      "   Hugo_Symbol  Entrez_gene_ID Variant_Classification        function  \\\n",
      "76    TMEM120A           83862      Missense_Mutation  point_mutation   \n",
      "\n",
      "   AAChange    aa_pos  \n",
      "76        .  (NA, NA)  \n",
      "   Hugo_Symbol  Entrez_gene_ID Variant_Classification        function  \\\n",
      "67         ZAN            7455      Missense_Mutation  point_mutation   \n",
      "\n",
      "   AAChange    aa_pos  \n",
      "67        .  (NA, NA)  \n",
      "   Hugo_Symbol  Entrez_gene_ID Variant_Classification        function  \\\n",
      "50       MROH8          140699      Missense_Mutation  point_mutation   \n",
      "\n",
      "   AAChange    aa_pos  \n",
      "50        .  (NA, NA)  \n",
      "   Hugo_Symbol  Entrez_gene_ID Variant_Classification        function  \\\n",
      "15     ALDH3B1             221      Missense_Mutation  point_mutation   \n",
      "60       POTEJ          653781      Missense_Mutation  point_mutation   \n",
      "\n",
      "   AAChange    aa_pos  \n",
      "15        .  (NA, NA)  \n",
      "60        .  (NA, NA)  \n",
      "   Hugo_Symbol  Entrez_gene_ID Variant_Classification        function  \\\n",
      "80       PRKDC            5591      Missense_Mutation  point_mutation   \n",
      "\n",
      "   AAChange    aa_pos  \n",
      "80        .  (NA, NA)  \n",
      "   Hugo_Symbol  Entrez_gene_ID Variant_Classification        function  \\\n",
      "19   C14orf169           79697      Missense_Mutation  point_mutation   \n",
      "31     PPP1R9B           84687      Missense_Mutation  point_mutation   \n",
      "\n",
      "   AAChange    aa_pos  \n",
      "19        .  (NA, NA)  \n",
      "31        .  (NA, NA)  \n",
      "   Hugo_Symbol  Entrez_gene_ID Variant_Classification        function  \\\n",
      "19        PRB1            5542      Missense_Mutation  point_mutation   \n",
      "\n",
      "   AAChange    aa_pos  \n",
      "19        .  (NA, NA)  \n",
      "    Hugo_Symbol  Entrez_gene_ID Variant_Classification        function  \\\n",
      "46       PKD1L3          342372      Missense_Mutation  point_mutation   \n",
      "112         ZAN            7455      Missense_Mutation  point_mutation   \n",
      "\n",
      "    AAChange    aa_pos  \n",
      "46         .  (NA, NA)  \n",
      "112        .  (NA, NA)  \n",
      "   Hugo_Symbol  Entrez_gene_ID Variant_Classification        function  \\\n",
      "60      PLK1S1           55857      Missense_Mutation  point_mutation   \n",
      "\n",
      "   AAChange    aa_pos  \n",
      "60        .  (NA, NA)  \n",
      "   Hugo_Symbol  Entrez_gene_ID Variant_Classification        function  \\\n",
      "84       PRIM2            5558      Missense_Mutation  point_mutation   \n",
      "\n",
      "   AAChange    aa_pos  \n",
      "84        .  (NA, NA)  \n",
      "  Hugo_Symbol  Entrez_gene_ID Variant_Classification        function AAChange  \\\n",
      "0       NBPF1           55672      Missense_Mutation  point_mutation        .   \n",
      "\n",
      "     aa_pos  \n",
      "0  (NA, NA)  \n",
      "   Hugo_Symbol  Entrez_gene_ID Variant_Classification        function  \\\n",
      "32     PPP1R9B           84687      Missense_Mutation  point_mutation   \n",
      "\n",
      "   AAChange    aa_pos  \n",
      "32        .  (NA, NA)  \n",
      "   Hugo_Symbol  Entrez_gene_ID Variant_Classification        function  \\\n",
      "37      PKD1L3          342372      Missense_Mutation  point_mutation   \n",
      "92         ZAN            7455      Missense_Mutation  point_mutation   \n",
      "\n",
      "   AAChange    aa_pos  \n",
      "37        .  (NA, NA)  \n",
      "92        .  (NA, NA)  \n",
      "   Hugo_Symbol  Entrez_gene_ID Variant_Classification        function  \\\n",
      "76         ZAN            7455      Missense_Mutation  point_mutation   \n",
      "\n",
      "   AAChange    aa_pos  \n",
      "76        .  (NA, NA)  \n",
      "   Hugo_Symbol  Entrez_gene_ID Variant_Classification        function  \\\n",
      "65       KRBA1           84626      Missense_Mutation  point_mutation   \n",
      "27     MAP3K14            9020      Missense_Mutation  point_mutation   \n",
      "13      TXNRD1            7296      Missense_Mutation  point_mutation   \n",
      "\n",
      "   AAChange    aa_pos  \n",
      "65        .  (NA, NA)  \n",
      "27        .  (NA, NA)  \n",
      "13        .  (NA, NA)  \n",
      "   Hugo_Symbol  Entrez_gene_ID Variant_Classification        function  \\\n",
      "69      DNAH11            8701      Missense_Mutation  point_mutation   \n",
      "21       DOCK9           23348      Missense_Mutation  point_mutation   \n",
      "\n",
      "   AAChange    aa_pos  \n",
      "69        .  (NA, NA)  \n",
      "21        .  (NA, NA)  \n",
      "   Hugo_Symbol  Entrez_gene_ID Variant_Classification        function  \\\n",
      "93        SYNM           23336      Missense_Mutation  point_mutation   \n",
      "\n",
      "   AAChange    aa_pos  \n",
      "93        .  (NA, NA)  \n",
      "   Hugo_Symbol  Entrez_gene_ID Variant_Classification        function  \\\n",
      "75        USO1            8615      Missense_Mutation  point_mutation   \n",
      "\n",
      "   AAChange    aa_pos  \n",
      "75        .  (NA, NA)  \n",
      "   Hugo_Symbol  Entrez_gene_ID Variant_Classification        function  \\\n",
      "94       CECR2           27443      Missense_Mutation  point_mutation   \n",
      "31       DOCK9           23348      Missense_Mutation  point_mutation   \n",
      "\n",
      "   AAChange    aa_pos  \n",
      "94        .  (NA, NA)  \n",
      "31        .  (NA, NA)  \n",
      "   Hugo_Symbol  Entrez_gene_ID Variant_Classification        function  \\\n",
      "29       PRIM2            5558      Missense_Mutation  point_mutation   \n",
      "\n",
      "   AAChange    aa_pos  \n",
      "29        .  (NA, NA)  \n",
      "    Hugo_Symbol  Entrez_gene_ID Variant_Classification        function  \\\n",
      "101        SYN2            6854           In_Frame_Del  point_mutation   \n",
      "\n",
      "    AAChange    aa_pos  \n",
      "101        .  (NA, NA)  \n",
      "   Hugo_Symbol  Entrez_gene_ID Variant_Classification        function  \\\n",
      "87       SEPP1            6414      Missense_Mutation  point_mutation   \n",
      "\n",
      "   AAChange    aa_pos  \n",
      "87        .  (NA, NA)  \n",
      "   Hugo_Symbol  Entrez_gene_ID Variant_Classification        function  \\\n",
      "63       SH2B2           10603      Missense_Mutation  point_mutation   \n",
      "39      THSD7B           80731      Missense_Mutation  point_mutation   \n",
      "\n",
      "   AAChange    aa_pos  \n",
      "63        .  (NA, NA)  \n",
      "39        .  (NA, NA)  \n",
      "   Hugo_Symbol  Entrez_gene_ID Variant_Classification        function  \\\n",
      "27      THSD7B           80731      Missense_Mutation  point_mutation   \n",
      "\n",
      "   AAChange    aa_pos  \n",
      "27        .  (NA, NA)  \n",
      "   Hugo_Symbol  Entrez_gene_ID Variant_Classification        function  \\\n",
      "65       MROH5          389690      Missense_Mutation  point_mutation   \n",
      "\n",
      "   AAChange    aa_pos  \n",
      "65        .  (NA, NA)  \n",
      "   Hugo_Symbol  Entrez_gene_ID Variant_Classification        function  \\\n",
      "81        DNM1            1759      Missense_Mutation  point_mutation   \n",
      "\n",
      "   AAChange    aa_pos  \n",
      "81        .  (NA, NA)  \n",
      "   Hugo_Symbol  Entrez_gene_ID Variant_Classification        function  \\\n",
      "76       TYW1B          441250      Missense_Mutation  point_mutation   \n",
      "\n",
      "   AAChange    aa_pos  \n",
      "76        .  (NA, NA)  \n",
      "   Hugo_Symbol  Entrez_gene_ID Variant_Classification        function  \\\n",
      "86      PCDHB9           56127      Missense_Mutation  point_mutation   \n",
      "\n",
      "   AAChange    aa_pos  \n",
      "86        .  (NA, NA)  \n",
      "  Hugo_Symbol  Entrez_gene_ID Variant_Classification        function AAChange  \\\n",
      "9        EMG1           10436      Missense_Mutation  point_mutation        .   \n",
      "\n",
      "     aa_pos  \n",
      "9  (NA, NA)  \n",
      "   Hugo_Symbol  Entrez_gene_ID Variant_Classification        function  \\\n",
      "22        SYNM           23336      Missense_Mutation  point_mutation   \n",
      "\n",
      "   AAChange    aa_pos  \n",
      "22        .  (NA, NA)  \n",
      "  Hugo_Symbol  Entrez_gene_ID Variant_Classification        function AAChange  \\\n",
      "5       NBPF9          400818      Missense_Mutation  point_mutation        .   \n",
      "\n",
      "     aa_pos  \n",
      "5  (NA, NA)  \n",
      "  Hugo_Symbol  Entrez_gene_ID Variant_Classification        function AAChange  \\\n",
      "4       NBPF9          400818      Missense_Mutation  point_mutation        .   \n",
      "\n",
      "     aa_pos  \n",
      "4  (NA, NA)  \n"
     ]
    },
    {
     "name": "stderr",
     "output_type": "stream",
     "text": [
      "   Hugo_Symbol  Entrez_gene_ID Variant_Classification        function  \\\n",
      "9       PCDH15           65217      Missense_Mutation  point_mutation   \n",
      "70       SEPP1            6414      Missense_Mutation  point_mutation   \n",
      "50      THSD7B           80731      Missense_Mutation  point_mutation   \n",
      "\n",
      "   AAChange    aa_pos  \n",
      "9         .  (NA, NA)  \n",
      "70        .  (NA, NA)  \n",
      "50        .  (NA, NA)  \n",
      "   Hugo_Symbol  Entrez_gene_ID Variant_Classification        function  \\\n",
      "55       CD177           57126      Missense_Mutation  point_mutation   \n",
      "95         ZAN            7455      Missense_Mutation  point_mutation   \n",
      "\n",
      "   AAChange    aa_pos  \n",
      "55        .  (NA, NA)  \n",
      "95        .  (NA, NA)  \n",
      "   Hugo_Symbol  Entrez_gene_ID Variant_Classification        function  \\\n",
      "36      DNAH11            8701      Missense_Mutation  point_mutation   \n",
      "\n",
      "   AAChange    aa_pos  \n",
      "36        .  (NA, NA)  \n",
      "   Hugo_Symbol  Entrez_gene_ID Variant_Classification        function  \\\n",
      "99         ZAN            7455      Missense_Mutation  point_mutation   \n",
      "\n",
      "   AAChange    aa_pos  \n",
      "99        .  (NA, NA)  \n",
      "    Hugo_Symbol  Entrez_gene_ID Variant_Classification        function  \\\n",
      "109      DNAH11            8701      Missense_Mutation  point_mutation   \n",
      "\n",
      "    AAChange    aa_pos  \n",
      "109        .  (NA, NA)  \n",
      "   Hugo_Symbol  Entrez_gene_ID Variant_Classification        function  \\\n",
      "56       APOL4           80832      Missense_Mutation  point_mutation   \n",
      "\n",
      "   AAChange    aa_pos  \n",
      "56        .  (NA, NA)  \n",
      "   Hugo_Symbol  Entrez_gene_ID Variant_Classification        function  \\\n",
      "49       KRBA1           84626      Missense_Mutation  point_mutation   \n",
      "\n",
      "   AAChange    aa_pos  \n",
      "49        .  (NA, NA)  \n",
      "  Hugo_Symbol  Entrez_gene_ID Variant_Classification        function AAChange  \\\n",
      "4      SEC22B            9554      Missense_Mutation  point_mutation        .   \n",
      "\n",
      "     aa_pos  \n",
      "4  (NA, NA)  \n",
      "   Hugo_Symbol  Entrez_gene_ID Variant_Classification        function  \\\n",
      "45        GPX1            2876      Missense_Mutation  point_mutation   \n",
      "\n",
      "   AAChange    aa_pos  \n",
      "45        .  (NA, NA)  \n",
      "   Hugo_Symbol  Entrez_gene_ID Variant_Classification        function  \\\n",
      "45      DNAH11            8701      Missense_Mutation  point_mutation   \n",
      "\n",
      "   AAChange    aa_pos  \n",
      "45        .  (NA, NA)  \n",
      "   Hugo_Symbol  Entrez_gene_ID Variant_Classification        function  \\\n",
      "55        PRB1            5542           In_Frame_Ins  point_mutation   \n",
      "42         ZAN            7455      Missense_Mutation  point_mutation   \n",
      "\n",
      "   AAChange    aa_pos  \n",
      "55        .  (NA, NA)  \n",
      "42        .  (NA, NA)  \n",
      "   Hugo_Symbol  Entrez_gene_ID Variant_Classification        function  \\\n",
      "95     POLDIP2           26073      Missense_Mutation  point_mutation   \n",
      "86        SYN2            6854           In_Frame_Del  point_mutation   \n",
      "\n",
      "   AAChange    aa_pos  \n",
      "95        .  (NA, NA)  \n",
      "86        .  (NA, NA)  \n",
      "    Hugo_Symbol  Entrez_gene_ID Variant_Classification        function  \\\n",
      "104        USO1            8615      Missense_Mutation  point_mutation   \n",
      "\n",
      "    AAChange    aa_pos  \n",
      "104        .  (NA, NA)  \n",
      "   Hugo_Symbol  Entrez_gene_ID Variant_Classification        function  \\\n",
      "20       TTC25           83538      Missense_Mutation  point_mutation   \n",
      "\n",
      "   AAChange    aa_pos  \n",
      "20        .  (NA, NA)  \n",
      "   Hugo_Symbol  Entrez_gene_ID Variant_Classification        function  \\\n",
      "32       GPHB5          122876      Missense_Mutation  point_mutation   \n",
      "\n",
      "   AAChange    aa_pos  \n",
      "32        .  (NA, NA)  \n",
      "    Hugo_Symbol  Entrez_gene_ID Variant_Classification        function  \\\n",
      "63         GBA3           57733      Missense_Mutation  point_mutation   \n",
      "101       IDH3B            3420      Missense_Mutation  point_mutation   \n",
      "\n",
      "    AAChange    aa_pos  \n",
      "63         .  (NA, NA)  \n",
      "101        .  (NA, NA)  \n",
      "   Hugo_Symbol  Entrez_gene_ID Variant_Classification        function  \\\n",
      "37      PKD1L3          342372      Missense_Mutation  point_mutation   \n",
      "\n",
      "   AAChange    aa_pos  \n",
      "37        .  (NA, NA)  \n",
      "   Hugo_Symbol  Entrez_gene_ID Variant_Classification        function  \\\n",
      "13      PIK3R6          146850      Missense_Mutation  point_mutation   \n",
      "\n",
      "   AAChange    aa_pos  \n",
      "13        .  (NA, NA)  \n",
      "  Hugo_Symbol  Entrez_gene_ID Variant_Classification        function AAChange  \\\n",
      "3      PCDH15           65217      Missense_Mutation  point_mutation        .   \n",
      "\n",
      "     aa_pos  \n",
      "3  (NA, NA)  \n",
      "   Hugo_Symbol  Entrez_gene_ID Variant_Classification        function  \\\n",
      "71       PRRT1           80863      Missense_Mutation  point_mutation   \n",
      "\n",
      "   AAChange    aa_pos  \n",
      "71        .  (NA, NA)  \n",
      "   Hugo_Symbol  Entrez_gene_ID Variant_Classification        function  \\\n",
      "42      CYP4F8           11283      Missense_Mutation  point_mutation   \n",
      "36      PKD1L2          114780      Missense_Mutation  point_mutation   \n",
      "\n",
      "   AAChange    aa_pos  \n",
      "42        .  (NA, NA)  \n",
      "36        .  (NA, NA)  \n",
      "   Hugo_Symbol  Entrez_gene_ID Variant_Classification        function  \\\n",
      "98       KRBA1           84626      Missense_Mutation  point_mutation   \n",
      "75        USO1            8615      Missense_Mutation  point_mutation   \n",
      "\n",
      "   AAChange    aa_pos  \n",
      "98        .  (NA, NA)  \n",
      "75        .  (NA, NA)  \n",
      "   Hugo_Symbol  Entrez_gene_ID Variant_Classification        function  \\\n",
      "56       COPG2           26958      Missense_Mutation  point_mutation   \n",
      "\n",
      "   AAChange    aa_pos  \n",
      "56        .  (NA, NA)  \n",
      "   Hugo_Symbol  Entrez_gene_ID Variant_Classification        function  \\\n",
      "43   SUPT20HL1       100130302      Missense_Mutation  point_mutation   \n",
      "\n",
      "   AAChange    aa_pos  \n",
      "43        .  (NA, NA)  \n",
      "   Hugo_Symbol  Entrez_gene_ID Variant_Classification        function  \\\n",
      "47      SEPHS2           22928      Missense_Mutation  point_mutation   \n",
      "\n",
      "   AAChange    aa_pos  \n",
      "47        .  (NA, NA)  \n",
      "   Hugo_Symbol  Entrez_gene_ID Variant_Classification        function  \\\n",
      "85      DNAH11            8701      Missense_Mutation  point_mutation   \n",
      "\n",
      "   AAChange    aa_pos  \n",
      "85        .  (NA, NA)  \n",
      "   Hugo_Symbol  Entrez_gene_ID Variant_Classification        function  \\\n",
      "23        DIO2            1734      Missense_Mutation  point_mutation   \n",
      "\n",
      "   AAChange    aa_pos  \n",
      "23        .  (NA, NA)  \n",
      "   Hugo_Symbol  Entrez_gene_ID Variant_Classification        function  \\\n",
      "95       TAAR9          134860      Missense_Mutation  point_mutation   \n",
      "\n",
      "   AAChange    aa_pos  \n",
      "95        .  (NA, NA)  \n",
      "   Hugo_Symbol  Entrez_gene_ID Variant_Classification        function  \\\n",
      "37       C5AR1             728      Missense_Mutation  point_mutation   \n",
      "63         ZAN            7455      Missense_Mutation  point_mutation   \n",
      "\n",
      "   AAChange    aa_pos  \n",
      "37        .  (NA, NA)  \n",
      "63        .  (NA, NA)  \n",
      "    Hugo_Symbol  Entrez_gene_ID Variant_Classification        function  \\\n",
      "101       PRIM2            5558      Missense_Mutation  point_mutation   \n",
      "\n",
      "    AAChange    aa_pos  \n",
      "101        .  (NA, NA)  \n",
      "    Hugo_Symbol  Entrez_gene_ID Variant_Classification        function  \\\n",
      "104     C6orf10           10665      Missense_Mutation  point_mutation   \n",
      "\n",
      "    AAChange    aa_pos  \n",
      "104        .  (NA, NA)  \n",
      "    Hugo_Symbol  Entrez_gene_ID Variant_Classification        function  \\\n",
      "33       PKD1L2          114780      Missense_Mutation  point_mutation   \n",
      "108        SYN2            6854           In_Frame_Del  point_mutation   \n",
      "\n",
      "    AAChange    aa_pos  \n",
      "33         .  (NA, NA)  \n",
      "108        .  (NA, NA)  \n",
      "   Hugo_Symbol  Entrez_gene_ID Variant_Classification        function  \\\n",
      "21     ZNF518A            9849      Missense_Mutation  point_mutation   \n",
      "\n",
      "   AAChange    aa_pos  \n",
      "21        .  (NA, NA)  \n",
      "   Hugo_Symbol  Entrez_gene_ID Variant_Classification        function  \\\n",
      "52        SYN2            6854           In_Frame_Del  point_mutation   \n",
      "\n",
      "   AAChange    aa_pos  \n",
      "52        .  (NA, NA)  \n",
      "   Hugo_Symbol  Entrez_gene_ID Variant_Classification        function  \\\n",
      "0        NBPF1           55672      Missense_Mutation  point_mutation   \n",
      "50       TTC25           83538      Missense_Mutation  point_mutation   \n",
      "\n",
      "   AAChange    aa_pos  \n",
      "0         .  (NA, NA)  \n",
      "50        .  (NA, NA)  \n"
     ]
    },
    {
     "name": "stdout",
     "output_type": "stream",
     "text": [
      "LAML\n",
      "Warning: query IDs not mapped to any target IDs excluded: 2\n",
      "Warning: query IDs not mapped to any target IDs excluded: 1\n"
     ]
    },
    {
     "name": "stderr",
     "output_type": "stream",
     "text": [
      "preprocessed maf 198 files;\t\traw maf: 0 files\n",
      "select processed maf file for cohort LAML\n",
      "use path data/TCGA/data/gdac.broadinstitute.org_LAML.Mutation_Packager_Calls.Level_3.2016012800.0.0/\n",
      "2 Hugo symbols not mapped to Entrez gene ID ['MT-CYB', 'MT-ND5']\n",
      "1 Hugo symbols not mapped to Entrez gene ID ['MT-CO1']\n"
     ]
    },
    {
     "name": "stdout",
     "output_type": "stream",
     "text": [
      "Warning: query IDs not mapped to any target IDs excluded: 3\n"
     ]
    },
    {
     "name": "stderr",
     "output_type": "stream",
     "text": [
      "3 Hugo symbols not mapped to Entrez gene ID ['ODZ3', 'LOC100128989', 'LOC100129218']\n"
     ]
    },
    {
     "name": "stdout",
     "output_type": "stream",
     "text": [
      "Warning: query IDs not mapped to any target IDs excluded: 1\n",
      "Warning: query IDs not mapped to any target IDs excluded: 2\n"
     ]
    },
    {
     "name": "stderr",
     "output_type": "stream",
     "text": [
      "1 Hugo symbols not mapped to Entrez gene ID ['uc004ewl.1']\n",
      "2 Hugo symbols not mapped to Entrez gene ID ['LOC100133718', 'LOC730167']\n"
     ]
    },
    {
     "name": "stdout",
     "output_type": "stream",
     "text": [
      "Warning: query IDs not mapped to any target IDs excluded: 3\n",
      "Warning: query IDs not mapped to any target IDs excluded: 1\n"
     ]
    },
    {
     "name": "stderr",
     "output_type": "stream",
     "text": [
      "3 Hugo symbols not mapped to Entrez gene ID ['MT-ND1', 'MT-ND4', 'MT-ND5']\n",
      "1 Hugo symbols not mapped to Entrez gene ID ['LOC727895']\n"
     ]
    },
    {
     "name": "stdout",
     "output_type": "stream",
     "text": [
      "Warning: query IDs not mapped to any target IDs excluded: 1\n"
     ]
    },
    {
     "name": "stderr",
     "output_type": "stream",
     "text": [
      "1 Hugo symbols not mapped to Entrez gene ID ['FLJ22167']\n"
     ]
    },
    {
     "name": "stdout",
     "output_type": "stream",
     "text": [
      "Warning: query IDs not mapped to any target IDs excluded: 1\n"
     ]
    },
    {
     "name": "stderr",
     "output_type": "stream",
     "text": [
      "1 Hugo symbols not mapped to Entrez gene ID ['LOC100132495']\n"
     ]
    },
    {
     "name": "stdout",
     "output_type": "stream",
     "text": [
      "Warning: query IDs not mapped to any target IDs excluded: 1\n",
      "Warning: query IDs not mapped to any target IDs excluded: 1\n"
     ]
    },
    {
     "name": "stderr",
     "output_type": "stream",
     "text": [
      "1 Hugo symbols not mapped to Entrez gene ID ['uc004amh.1']\n",
      "1 Hugo symbols not mapped to Entrez gene ID ['CRIPAK']\n"
     ]
    },
    {
     "name": "stdout",
     "output_type": "stream",
     "text": [
      "Warning: query IDs not mapped to any target IDs excluded: 1\n"
     ]
    },
    {
     "name": "stderr",
     "output_type": "stream",
     "text": [
      "1 Hugo symbols not mapped to Entrez gene ID ['PRAMEF16']\n"
     ]
    },
    {
     "name": "stdout",
     "output_type": "stream",
     "text": [
      "Warning: query IDs not mapped to any target IDs excluded: 1\n",
      "Warning: query IDs not mapped to any target IDs excluded: 1\n"
     ]
    },
    {
     "name": "stderr",
     "output_type": "stream",
     "text": [
      "1 Hugo symbols not mapped to Entrez gene ID ['LOC100128744']\n",
      "1 Hugo symbols not mapped to Entrez gene ID ['MT-CYB']\n"
     ]
    },
    {
     "name": "stdout",
     "output_type": "stream",
     "text": [
      "Warning: query IDs not mapped to any target IDs excluded: 1\n"
     ]
    },
    {
     "name": "stderr",
     "output_type": "stream",
     "text": [
      "1 Hugo symbols not mapped to Entrez gene ID ['ENSG00000211894']\n"
     ]
    },
    {
     "name": "stdout",
     "output_type": "stream",
     "text": [
      "Warning: query IDs not mapped to any target IDs excluded: 1\n",
      "Warning: query IDs not mapped to any target IDs excluded: 2\n"
     ]
    },
    {
     "name": "stderr",
     "output_type": "stream",
     "text": [
      "1 Hugo symbols not mapped to Entrez gene ID ['LOC257039']\n",
      "2 Hugo symbols not mapped to Entrez gene ID ['PRG-3', 'ENSG00000211619']\n"
     ]
    },
    {
     "name": "stdout",
     "output_type": "stream",
     "text": [
      "Warning: query IDs not mapped to any target IDs excluded: 1\n",
      "Warning: query IDs not mapped to any target IDs excluded: 1\n"
     ]
    },
    {
     "name": "stderr",
     "output_type": "stream",
     "text": [
      "1 Hugo symbols not mapped to Entrez gene ID ['MT-CYB']\n",
      "1 Hugo symbols not mapped to Entrez gene ID ['MT-CYB']\n"
     ]
    },
    {
     "name": "stdout",
     "output_type": "stream",
     "text": [
      "Warning: query IDs not mapped to any target IDs excluded: 1\n",
      "Warning: query IDs not mapped to any target IDs excluded: 2\n"
     ]
    },
    {
     "name": "stderr",
     "output_type": "stream",
     "text": [
      "1 Hugo symbols not mapped to Entrez gene ID ['LOC100133292']\n",
      "2 Hugo symbols not mapped to Entrez gene ID ['FLJ43860', 'MT-CO1']\n"
     ]
    },
    {
     "name": "stdout",
     "output_type": "stream",
     "text": [
      "Warning: query IDs not mapped to any target IDs excluded: 1\n"
     ]
    },
    {
     "name": "stderr",
     "output_type": "stream",
     "text": [
      "1 Hugo symbols not mapped to Entrez gene ID ['MT-CYB']\n"
     ]
    },
    {
     "name": "stdout",
     "output_type": "stream",
     "text": [
      "Warning: query IDs not mapped to any target IDs excluded: 1\n",
      "Warning: query IDs not mapped to any target IDs excluded: 1\n"
     ]
    },
    {
     "name": "stderr",
     "output_type": "stream",
     "text": [
      "1 Hugo symbols not mapped to Entrez gene ID ['ENSG00000204989']\n",
      "1 Hugo symbols not mapped to Entrez gene ID ['ENSG00000124399']\n"
     ]
    },
    {
     "name": "stdout",
     "output_type": "stream",
     "text": [
      "Warning: query IDs not mapped to any target IDs excluded: 2\n",
      "Warning: query IDs not mapped to any target IDs excluded: 2\n"
     ]
    },
    {
     "name": "stderr",
     "output_type": "stream",
     "text": [
      "2 Hugo symbols not mapped to Entrez gene ID ['MT-CO3', 'MT-ND5']\n",
      "2 Hugo symbols not mapped to Entrez gene ID ['LOC644504', 'ENSG00000214135']\n"
     ]
    },
    {
     "name": "stdout",
     "output_type": "stream",
     "text": [
      "Warning: query IDs not mapped to any target IDs excluded: 1\n",
      "Warning: query IDs not mapped to any target IDs excluded: 1\n",
      "Warning: query IDs not mapped to any target IDs excluded: 1\n"
     ]
    },
    {
     "name": "stderr",
     "output_type": "stream",
     "text": [
      "1 Hugo symbols not mapped to Entrez gene ID ['ENSG00000163098']\n",
      "1 Hugo symbols not mapped to Entrez gene ID ['MT-CYB']\n",
      "1 Hugo symbols not mapped to Entrez gene ID ['MT-CO3']\n"
     ]
    },
    {
     "name": "stdout",
     "output_type": "stream",
     "text": [
      "Warning: query IDs not mapped to any target IDs excluded: 1\n",
      "Warning: query IDs not mapped to any target IDs excluded: 4\n"
     ]
    },
    {
     "name": "stderr",
     "output_type": "stream",
     "text": [
      "1 Hugo symbols not mapped to Entrez gene ID ['ENSG00000216522']\n",
      "4 Hugo symbols not mapped to Entrez gene ID ['MLL2', 'LOC100132800', 'LOC100133684', 'MT-CO3']\n"
     ]
    },
    {
     "name": "stdout",
     "output_type": "stream",
     "text": [
      "Warning: query IDs not mapped to any target IDs excluded: 2\n",
      "Warning: query IDs not mapped to any target IDs excluded: 1\n"
     ]
    },
    {
     "name": "stderr",
     "output_type": "stream",
     "text": [
      "2 Hugo symbols not mapped to Entrez gene ID ['MT-ND5', 'uc001vvs.1']\n",
      "1 Hugo symbols not mapped to Entrez gene ID ['MT-ND2']\n"
     ]
    },
    {
     "name": "stdout",
     "output_type": "stream",
     "text": [
      "Warning: query IDs not mapped to any target IDs excluded: 1\n"
     ]
    },
    {
     "name": "stderr",
     "output_type": "stream",
     "text": [
      "1 Hugo symbols not mapped to Entrez gene ID ['MT-ATP6']\n"
     ]
    },
    {
     "name": "stdout",
     "output_type": "stream",
     "text": [
      "Warning: query IDs not mapped to any target IDs excluded: 2\n"
     ]
    },
    {
     "name": "stderr",
     "output_type": "stream",
     "text": [
      "2 Hugo symbols not mapped to Entrez gene ID ['LOC100129218', 'ENSG00000103832']\n"
     ]
    },
    {
     "name": "stdout",
     "output_type": "stream",
     "text": [
      "Warning: query IDs not mapped to any target IDs excluded: 2\n",
      "Warning: query IDs not mapped to any target IDs excluded: 1\n"
     ]
    },
    {
     "name": "stderr",
     "output_type": "stream",
     "text": [
      "2 Hugo symbols not mapped to Entrez gene ID ['EFTUD1', 'LOC730032']\n",
      "1 Hugo symbols not mapped to Entrez gene ID ['LOC100133915']\n"
     ]
    },
    {
     "name": "stdout",
     "output_type": "stream",
     "text": [
      "Warning: query IDs not mapped to any target IDs excluded: 1\n",
      "Warning: query IDs not mapped to any target IDs excluded: 1\n"
     ]
    },
    {
     "name": "stderr",
     "output_type": "stream",
     "text": [
      "1 Hugo symbols not mapped to Entrez gene ID ['LOC100128077']\n",
      "1 Hugo symbols not mapped to Entrez gene ID ['uc002rsf.1']\n"
     ]
    },
    {
     "name": "stdout",
     "output_type": "stream",
     "text": [
      "Warning: query IDs not mapped to any target IDs excluded: 1\n",
      "Warning: query IDs not mapped to any target IDs excluded: 1\n",
      "Warning: query IDs not mapped to any target IDs excluded:"
     ]
    },
    {
     "name": "stderr",
     "output_type": "stream",
     "text": [
      "1 Hugo symbols not mapped to Entrez gene ID ['LOC100133655']\n",
      "1 Hugo symbols not mapped to Entrez gene ID ['LOC100131040']\n"
     ]
    },
    {
     "name": "stdout",
     "output_type": "stream",
     "text": [
      " 1\n",
      "Warning: query IDs not mapped to any target IDs excluded: 2\n"
     ]
    },
    {
     "name": "stderr",
     "output_type": "stream",
     "text": [
      "1 Hugo symbols not mapped to Entrez gene ID ['ENSG00000198229']\n",
      "2 Hugo symbols not mapped to Entrez gene ID ['ENSG00000215720', 'ENSG00000220279']\n"
     ]
    },
    {
     "name": "stdout",
     "output_type": "stream",
     "text": [
      "Warning: query IDs not mapped to any target IDs excluded: 1\n"
     ]
    },
    {
     "name": "stderr",
     "output_type": "stream",
     "text": [
      "1 Hugo symbols not mapped to Entrez gene ID ['LOC644992']\n"
     ]
    },
    {
     "name": "stdout",
     "output_type": "stream",
     "text": [
      "Warning: query IDs not mapped to any target IDs excluded: 1\n",
      "Warning: query IDs not mapped to any target IDs excluded: 1\n",
      "Warning: query IDs not mapped to any target IDs excluded: 1\n"
     ]
    },
    {
     "name": "stderr",
     "output_type": "stream",
     "text": [
      "1 Hugo symbols not mapped to Entrez gene ID ['LOC100132232']\n",
      "1 Hugo symbols not mapped to Entrez gene ID ['LOC728896']\n",
      "1 Hugo symbols not mapped to Entrez gene ID ['LOC100128371']\n"
     ]
    },
    {
     "name": "stdout",
     "output_type": "stream",
     "text": [
      "Warning: query IDs not mapped to any target IDs excluded: 1\n",
      "Warning: query IDs not mapped to any target IDs excluded: 2\n"
     ]
    },
    {
     "name": "stderr",
     "output_type": "stream",
     "text": [
      "1 Hugo symbols not mapped to Entrez gene ID ['LOC100131699']\n",
      "2 Hugo symbols not mapped to Entrez gene ID ['LOC100132713', 'LOC100134687']\n"
     ]
    },
    {
     "name": "stdout",
     "output_type": "stream",
     "text": [
      "Warning: query IDs not mapped to any target IDs excluded: 1\n",
      "Warning: query IDs not mapped to any target IDs excluded: 2\n"
     ]
    },
    {
     "name": "stderr",
     "output_type": "stream",
     "text": [
      "1 Hugo symbols not mapped to Entrez gene ID ['LOC100129901']\n",
      "2 Hugo symbols not mapped to Entrez gene ID ['NOTCH2NL', 'LOC200493']\n"
     ]
    },
    {
     "name": "stdout",
     "output_type": "stream",
     "text": [
      "Warning: query IDs not mapped to any target IDs excluded: 1\n",
      "Warning: query IDs not mapped to any target IDs excluded: 4\n"
     ]
    },
    {
     "name": "stderr",
     "output_type": "stream",
     "text": [
      "1 Hugo symbols not mapped to Entrez gene ID ['LOC100132800']\n",
      "4 Hugo symbols not mapped to Entrez gene ID ['LOC100130734', 'LOC100132903', 'LOC387761', 'LOC727878']\n"
     ]
    },
    {
     "name": "stdout",
     "output_type": "stream",
     "text": [
      "LGG\n"
     ]
    },
    {
     "name": "stderr",
     "output_type": "stream",
     "text": [
      "preprocessed maf 287 files;\t\traw maf: 0 files\n",
      "select processed maf file for cohort LGG\n",
      "use path data/TCGA/data/gdac.broadinstitute.org_LGG.Mutation_Packager_Calls.Level_3.2016012800.0.0/\n",
      "Protein change columns not found in TCGA-CS-4938-01.maf.txt LGG\n",
      "Protein change columns not found in TCGA-CS-4941-01.maf.txt LGG\n",
      "Protein change columns not found in TCGA-CS-4942-01.maf.txt LGG\n",
      "Protein change columns not found in TCGA-CS-4943-01.maf.txt LGG\n",
      "Protein change columns not found in TCGA-CS-4944-01.maf.txt LGG\n",
      "Protein change columns not found in TCGA-CS-5390-01.maf.txt LGG\n",
      "Protein change columns not found in TCGA-CS-5393-01.maf.txt LGG\n",
      "Protein change columns not found in TCGA-CS-5394-01.maf.txt LGG\n",
      "Protein change columns not found in TCGA-CS-5395-01.maf.txt LGG\n",
      "Protein change columns not found in TCGA-CS-5396-01.maf.txt LGG\n",
      "Protein change columns not found in TCGA-CS-5397-01.maf.txt LGG\n",
      "Protein change columns not found in TCGA-CS-6186-01.maf.txt LGG\n",
      "Protein change columns not found in TCGA-CS-6188-01.maf.txt LGG\n",
      "Protein change columns not found in TCGA-CS-6290-01.maf.txt LGG\n",
      "Protein change columns not found in TCGA-CS-6665-01.maf.txt LGG\n",
      "Protein change columns not found in TCGA-CS-6666-01.maf.txt LGG\n",
      "Protein change columns not found in TCGA-CS-6667-01.maf.txt LGG\n",
      "Protein change columns not found in TCGA-CS-6668-01.maf.txt LGG\n",
      "Protein change columns not found in TCGA-DB-5273-01.maf.txt LGG\n",
      "Protein change columns not found in TCGA-DB-5274-01.maf.txt LGG\n",
      "Protein change columns not found in TCGA-DB-5275-01.maf.txt LGG\n",
      "Protein change columns not found in TCGA-DB-5276-01.maf.txt LGG\n",
      "Protein change columns not found in TCGA-DB-5277-01.maf.txt LGG\n",
      "Protein change columns not found in TCGA-DB-5278-01.maf.txt LGG\n",
      "Protein change columns not found in TCGA-DB-5279-01.maf.txt LGG\n",
      "Protein change columns not found in TCGA-DB-5280-01.maf.txt LGG\n",
      "Protein change columns not found in TCGA-DB-5281-01.maf.txt LGG\n",
      "Protein change columns not found in TCGA-DB-A4X9-01.maf.txt LGG\n",
      "Protein change columns not found in TCGA-DB-A4XA-01.maf.txt LGG\n",
      "Protein change columns not found in TCGA-DB-A4XB-01.maf.txt LGG\n",
      "Protein change columns not found in TCGA-DB-A4XC-01.maf.txt LGG\n",
      "Protein change columns not found in TCGA-DB-A4XD-01.maf.txt LGG\n",
      "Protein change columns not found in TCGA-DB-A4XE-01.maf.txt LGG\n",
      "Protein change columns not found in TCGA-DB-A4XF-01.maf.txt LGG\n",
      "Protein change columns not found in TCGA-DB-A4XG-01.maf.txt LGG\n",
      "Protein change columns not found in TCGA-DB-A4XH-01.maf.txt LGG\n",
      "Protein change columns not found in TCGA-DB-A64L-01.maf.txt LGG\n",
      "Protein change columns not found in TCGA-DB-A64O-01.maf.txt LGG\n",
      "Protein change columns not found in TCGA-DB-A64P-01.maf.txt LGG\n",
      "Protein change columns not found in TCGA-DB-A64Q-01.maf.txt LGG\n",
      "Protein change columns not found in TCGA-DB-A64R-01.maf.txt LGG\n",
      "Protein change columns not found in TCGA-DB-A64S-01.maf.txt LGG\n",
      "Protein change columns not found in TCGA-DB-A64U-01.maf.txt LGG\n",
      "Protein change columns not found in TCGA-DB-A64V-01.maf.txt LGG\n",
      "Protein change columns not found in TCGA-DB-A64W-01.maf.txt LGG\n",
      "Protein change columns not found in TCGA-DB-A64X-01.maf.txt LGG\n",
      "Protein change columns not found in TCGA-DH-5140-01.maf.txt LGG\n",
      "Protein change columns not found in TCGA-DH-5141-01.maf.txt LGG\n",
      "Protein change columns not found in TCGA-DH-5142-01.maf.txt LGG\n",
      "Protein change columns not found in TCGA-DH-5143-01.maf.txt LGG\n",
      "Protein change columns not found in TCGA-DH-5144-01.maf.txt LGG\n",
      "Protein change columns not found in TCGA-DH-A66B-01.maf.txt LGG\n",
      "Protein change columns not found in TCGA-DH-A66F-01.maf.txt LGG\n",
      "Protein change columns not found in TCGA-DU-5847-01.maf.txt LGG\n",
      "Protein change columns not found in TCGA-DU-5849-01.maf.txt LGG\n",
      "Protein change columns not found in TCGA-DU-5851-01.maf.txt LGG\n",
      "Protein change columns not found in TCGA-DU-5852-01.maf.txt LGG\n",
      "Protein change columns not found in TCGA-DU-5853-01.maf.txt LGG\n",
      "Protein change columns not found in TCGA-DU-5854-01.maf.txt LGG\n",
      "Protein change columns not found in TCGA-DU-5855-01.maf.txt LGG\n",
      "Protein change columns not found in TCGA-DU-5870-01.maf.txt LGG\n",
      "Protein change columns not found in TCGA-DU-5871-01.maf.txt LGG\n",
      "Protein change columns not found in TCGA-DU-5872-01.maf.txt LGG\n",
      "Protein change columns not found in TCGA-DU-5874-01.maf.txt LGG\n",
      "Protein change columns not found in TCGA-DU-6393-01.maf.txt LGG\n",
      "Protein change columns not found in TCGA-DU-6394-01.maf.txt LGG\n",
      "Protein change columns not found in TCGA-DU-6395-01.maf.txt LGG\n",
      "Protein change columns not found in TCGA-DU-6396-01.maf.txt LGG\n",
      "Protein change columns not found in TCGA-DU-6397-01.maf.txt LGG\n",
      "Protein change columns not found in TCGA-DU-6399-01.maf.txt LGG\n",
      "Protein change columns not found in TCGA-DU-6400-01.maf.txt LGG\n",
      "Protein change columns not found in TCGA-DU-6401-01.maf.txt LGG\n",
      "Protein change columns not found in TCGA-DU-6402-01.maf.txt LGG\n",
      "Protein change columns not found in TCGA-DU-6403-01.maf.txt LGG\n",
      "Protein change columns not found in TCGA-DU-6404-01.maf.txt LGG\n",
      "Protein change columns not found in TCGA-DU-6405-01.maf.txt LGG\n",
      "Protein change columns not found in TCGA-DU-6407-01.maf.txt LGG\n",
      "Protein change columns not found in TCGA-DU-6408-01.maf.txt LGG\n",
      "Protein change columns not found in TCGA-DU-6410-01.maf.txt LGG\n",
      "Protein change columns not found in TCGA-DU-6542-01.maf.txt LGG\n",
      "Protein change columns not found in TCGA-DU-7006-01.maf.txt LGG\n",
      "Protein change columns not found in TCGA-DU-7007-01.maf.txt LGG\n",
      "Protein change columns not found in TCGA-DU-7008-01.maf.txt LGG\n",
      "Protein change columns not found in TCGA-DU-7009-01.maf.txt LGG\n",
      "Protein change columns not found in TCGA-DU-7010-01.maf.txt LGG\n",
      "Protein change columns not found in TCGA-DU-7012-01.maf.txt LGG\n",
      "Protein change columns not found in TCGA-DU-7013-01.maf.txt LGG\n",
      "Protein change columns not found in TCGA-DU-7015-01.maf.txt LGG\n",
      "Protein change columns not found in TCGA-DU-7018-01.maf.txt LGG\n",
      "Protein change columns not found in TCGA-DU-7019-01.maf.txt LGG\n",
      "Protein change columns not found in TCGA-DU-7290-01.maf.txt LGG\n",
      "Protein change columns not found in TCGA-DU-7292-01.maf.txt LGG\n",
      "Protein change columns not found in TCGA-DU-7294-01.maf.txt LGG\n",
      "Protein change columns not found in TCGA-DU-7298-01.maf.txt LGG\n",
      "Protein change columns not found in TCGA-DU-7299-01.maf.txt LGG\n",
      "Protein change columns not found in TCGA-DU-7300-01.maf.txt LGG\n",
      "Protein change columns not found in TCGA-DU-7301-01.maf.txt LGG\n",
      "Protein change columns not found in TCGA-DU-7302-01.maf.txt LGG\n",
      "Protein change columns not found in TCGA-DU-7304-01.maf.txt LGG\n",
      "Protein change columns not found in TCGA-DU-7306-01.maf.txt LGG\n",
      "Protein change columns not found in TCGA-DU-7309-01.maf.txt LGG\n",
      "Protein change columns not found in TCGA-DU-8158-01.maf.txt LGG\n",
      "Protein change columns not found in TCGA-DU-8161-01.maf.txt LGG\n",
      "Protein change columns not found in TCGA-DU-8162-01.maf.txt LGG\n",
      "Protein change columns not found in TCGA-DU-8163-01.maf.txt LGG\n",
      "Protein change columns not found in TCGA-DU-8164-01.maf.txt LGG\n",
      "Protein change columns not found in TCGA-DU-8165-01.maf.txt LGG\n",
      "Protein change columns not found in TCGA-DU-8166-01.maf.txt LGG\n",
      "Protein change columns not found in TCGA-DU-8167-01.maf.txt LGG\n",
      "Protein change columns not found in TCGA-DU-8168-01.maf.txt LGG\n",
      "Protein change columns not found in TCGA-DU-A5TP-01.maf.txt LGG\n",
      "Protein change columns not found in TCGA-DU-A5TR-01.maf.txt LGG\n",
      "Protein change columns not found in TCGA-DU-A5TS-01.maf.txt LGG\n",
      "Protein change columns not found in TCGA-DU-A5TT-01.maf.txt LGG\n",
      "Protein change columns not found in TCGA-DU-A5TU-01.maf.txt LGG\n",
      "Protein change columns not found in TCGA-DU-A5TW-01.maf.txt LGG\n",
      "Protein change columns not found in TCGA-DU-A5TY-01.maf.txt LGG\n",
      "Protein change columns not found in TCGA-E1-5302-01.maf.txt LGG\n",
      "Protein change columns not found in TCGA-E1-5303-01.maf.txt LGG\n",
      "Protein change columns not found in TCGA-E1-5304-01.maf.txt LGG\n",
      "Protein change columns not found in TCGA-E1-5305-01.maf.txt LGG\n",
      "Protein change columns not found in TCGA-E1-5307-01.maf.txt LGG\n",
      "Protein change columns not found in TCGA-E1-5311-01.maf.txt LGG\n",
      "Protein change columns not found in TCGA-E1-5318-01.maf.txt LGG\n",
      "Protein change columns not found in TCGA-E1-5319-01.maf.txt LGG\n",
      "Protein change columns not found in TCGA-E1-5322-01.maf.txt LGG\n"
     ]
    },
    {
     "name": "stderr",
     "output_type": "stream",
     "text": [
      "Protein change columns not found in TCGA-EZ-7264-01.maf.txt LGG\n",
      "Protein change columns not found in TCGA-FG-5962-01.maf.txt LGG\n",
      "Protein change columns not found in TCGA-FG-5963-01.maf.txt LGG\n",
      "Protein change columns not found in TCGA-FG-5964-01.maf.txt LGG\n",
      "Protein change columns not found in TCGA-FG-5965-01.maf.txt LGG\n",
      "Protein change columns not found in TCGA-FG-6688-01.maf.txt LGG\n",
      "Protein change columns not found in TCGA-FG-6689-01.maf.txt LGG\n",
      "Protein change columns not found in TCGA-FG-6690-01.maf.txt LGG\n",
      "Protein change columns not found in TCGA-FG-6691-01.maf.txt LGG\n",
      "Protein change columns not found in TCGA-FG-6692-01.maf.txt LGG\n",
      "Protein change columns not found in TCGA-FG-7634-01.maf.txt LGG\n",
      "Protein change columns not found in TCGA-FG-7636-01.maf.txt LGG\n",
      "Protein change columns not found in TCGA-FG-7637-01.maf.txt LGG\n",
      "Protein change columns not found in TCGA-FG-7638-01.maf.txt LGG\n",
      "Protein change columns not found in TCGA-FG-7641-01.maf.txt LGG\n",
      "Protein change columns not found in TCGA-FG-7643-01.maf.txt LGG\n",
      "Protein change columns not found in TCGA-FG-8182-01.maf.txt LGG\n",
      "Protein change columns not found in TCGA-FG-8185-01.maf.txt LGG\n",
      "Protein change columns not found in TCGA-FG-8186-01.maf.txt LGG\n",
      "Protein change columns not found in TCGA-FG-8187-01.maf.txt LGG\n",
      "Protein change columns not found in TCGA-FG-8188-01.maf.txt LGG\n",
      "Protein change columns not found in TCGA-FG-8189-01.maf.txt LGG\n",
      "Protein change columns not found in TCGA-FG-8191-01.maf.txt LGG\n",
      "Protein change columns not found in TCGA-FG-A4MT-01.maf.txt LGG\n",
      "Protein change columns not found in TCGA-FG-A4MU-01.maf.txt LGG\n",
      "Protein change columns not found in TCGA-FG-A4MW-01.maf.txt LGG\n",
      "Protein change columns not found in TCGA-FG-A4MX-01.maf.txt LGG\n",
      "Protein change columns not found in TCGA-FG-A4MY-01.maf.txt LGG\n",
      "Protein change columns not found in TCGA-FG-A60J-01.maf.txt LGG\n",
      "Protein change columns not found in TCGA-FG-A60K-01.maf.txt LGG\n",
      "Protein change columns not found in TCGA-FN-7833-01.maf.txt LGG\n",
      "Protein change columns not found in TCGA-HT-7467-01.maf.txt LGG\n",
      "Protein change columns not found in TCGA-HT-7468-01.maf.txt LGG\n",
      "Protein change columns not found in TCGA-HT-7469-01.maf.txt LGG\n",
      "Protein change columns not found in TCGA-HT-7470-01.maf.txt LGG\n",
      "Protein change columns not found in TCGA-HT-7471-01.maf.txt LGG\n",
      "Protein change columns not found in TCGA-HT-7472-01.maf.txt LGG\n",
      "Protein change columns not found in TCGA-HT-7473-01.maf.txt LGG\n",
      "Protein change columns not found in TCGA-HT-7474-01.maf.txt LGG\n",
      "Protein change columns not found in TCGA-HT-7475-01.maf.txt LGG\n",
      "Protein change columns not found in TCGA-HT-7476-01.maf.txt LGG\n",
      "Protein change columns not found in TCGA-HT-7477-01.maf.txt LGG\n",
      "Protein change columns not found in TCGA-HT-7478-01.maf.txt LGG\n",
      "Protein change columns not found in TCGA-HT-7479-01.maf.txt LGG\n",
      "Protein change columns not found in TCGA-HT-7480-01.maf.txt LGG\n",
      "Protein change columns not found in TCGA-HT-7481-01.maf.txt LGG\n",
      "Protein change columns not found in TCGA-HT-7482-01.maf.txt LGG\n",
      "Protein change columns not found in TCGA-HT-7483-01.maf.txt LGG\n",
      "Protein change columns not found in TCGA-HT-7485-01.maf.txt LGG\n",
      "Protein change columns not found in TCGA-HT-7601-01.maf.txt LGG\n",
      "Protein change columns not found in TCGA-HT-7602-01.maf.txt LGG\n",
      "Protein change columns not found in TCGA-HT-7603-01.maf.txt LGG\n",
      "Protein change columns not found in TCGA-HT-7604-01.maf.txt LGG\n",
      "Protein change columns not found in TCGA-HT-7605-01.maf.txt LGG\n",
      "Protein change columns not found in TCGA-HT-7606-01.maf.txt LGG\n",
      "Protein change columns not found in TCGA-HT-7607-01.maf.txt LGG\n",
      "Protein change columns not found in TCGA-HT-7608-01.maf.txt LGG\n",
      "Protein change columns not found in TCGA-HT-7609-01.maf.txt LGG\n",
      "Protein change columns not found in TCGA-HT-7610-01.maf.txt LGG\n",
      "Protein change columns not found in TCGA-HT-7611-01.maf.txt LGG\n",
      "Protein change columns not found in TCGA-HT-7616-01.maf.txt LGG\n",
      "Protein change columns not found in TCGA-HT-7620-01.maf.txt LGG\n",
      "Protein change columns not found in TCGA-HT-7676-01.maf.txt LGG\n",
      "Protein change columns not found in TCGA-HT-7677-01.maf.txt LGG\n",
      "Protein change columns not found in TCGA-HT-7680-01.maf.txt LGG\n",
      "Protein change columns not found in TCGA-HT-7681-01.maf.txt LGG\n",
      "Protein change columns not found in TCGA-HT-7684-01.maf.txt LGG\n",
      "Protein change columns not found in TCGA-HT-7686-01.maf.txt LGG\n",
      "Protein change columns not found in TCGA-HT-7687-01.maf.txt LGG\n",
      "Protein change columns not found in TCGA-HT-7688-01.maf.txt LGG\n",
      "Protein change columns not found in TCGA-HT-7689-01.maf.txt LGG\n",
      "Protein change columns not found in TCGA-HT-7690-01.maf.txt LGG\n",
      "Protein change columns not found in TCGA-HT-7691-01.maf.txt LGG\n",
      "Protein change columns not found in TCGA-HT-7692-01.maf.txt LGG\n",
      "Protein change columns not found in TCGA-HT-7693-01.maf.txt LGG\n",
      "Protein change columns not found in TCGA-HT-7694-01.maf.txt LGG\n",
      "Protein change columns not found in TCGA-HT-7695-01.maf.txt LGG\n",
      "Protein change columns not found in TCGA-HT-7854-01.maf.txt LGG\n",
      "Protein change columns not found in TCGA-HT-7855-01.maf.txt LGG\n",
      "Protein change columns not found in TCGA-HT-7856-01.maf.txt LGG\n",
      "Protein change columns not found in TCGA-HT-7857-01.maf.txt LGG\n",
      "Protein change columns not found in TCGA-HT-7858-01.maf.txt LGG\n",
      "Protein change columns not found in TCGA-HT-7860-01.maf.txt LGG\n",
      "Protein change columns not found in TCGA-HT-7873-01.maf.txt LGG\n",
      "Protein change columns not found in TCGA-HT-7874-01.maf.txt LGG\n",
      "Protein change columns not found in TCGA-HT-7875-01.maf.txt LGG\n",
      "Protein change columns not found in TCGA-HT-7877-01.maf.txt LGG\n",
      "Protein change columns not found in TCGA-HT-7879-01.maf.txt LGG\n",
      "Protein change columns not found in TCGA-HT-7880-01.maf.txt LGG\n",
      "Protein change columns not found in TCGA-HT-7881-01.maf.txt LGG\n",
      "Protein change columns not found in TCGA-HT-7882-01.maf.txt LGG\n",
      "Protein change columns not found in TCGA-HT-7884-01.maf.txt LGG\n",
      "Protein change columns not found in TCGA-HT-7902-01.maf.txt LGG\n",
      "Protein change columns not found in TCGA-HT-8010-01.maf.txt LGG\n",
      "Protein change columns not found in TCGA-HT-8011-01.maf.txt LGG\n",
      "Protein change columns not found in TCGA-HT-8012-01.maf.txt LGG\n",
      "Protein change columns not found in TCGA-HT-8013-01.maf.txt LGG\n",
      "Protein change columns not found in TCGA-HT-8015-01.maf.txt LGG\n",
      "Protein change columns not found in TCGA-HT-8018-01.maf.txt LGG\n",
      "Protein change columns not found in TCGA-HT-8019-01.maf.txt LGG\n",
      "Protein change columns not found in TCGA-HT-8104-01.maf.txt LGG\n",
      "Protein change columns not found in TCGA-HT-8105-01.maf.txt LGG\n",
      "Protein change columns not found in TCGA-HT-8106-01.maf.txt LGG\n",
      "Protein change columns not found in TCGA-HT-8108-01.maf.txt LGG\n",
      "Protein change columns not found in TCGA-HT-8109-01.maf.txt LGG\n",
      "Protein change columns not found in TCGA-HT-8110-01.maf.txt LGG\n",
      "Protein change columns not found in TCGA-HT-8111-01.maf.txt LGG\n",
      "Protein change columns not found in TCGA-HT-8113-01.maf.txt LGG\n",
      "Protein change columns not found in TCGA-HT-8114-01.maf.txt LGG\n",
      "Protein change columns not found in TCGA-HT-8558-01.maf.txt LGG\n",
      "Protein change columns not found in TCGA-HT-8563-01.maf.txt LGG\n",
      "Protein change columns not found in TCGA-HT-8564-01.maf.txt LGG\n",
      "Protein change columns not found in TCGA-HT-A4DS-01.maf.txt LGG\n",
      "Protein change columns not found in TCGA-HT-A4DV-01.maf.txt LGG\n",
      "Protein change columns not found in TCGA-HT-A5R5-01.maf.txt LGG\n",
      "Protein change columns not found in TCGA-HT-A5R7-01.maf.txt LGG\n",
      "Protein change columns not found in TCGA-HT-A5R9-01.maf.txt LGG\n",
      "Protein change columns not found in TCGA-HT-A5RA-01.maf.txt LGG\n",
      "Protein change columns not found in TCGA-HT-A5RB-01.maf.txt LGG\n",
      "Protein change columns not found in TCGA-HT-A5RC-01.maf.txt LGG\n",
      "Protein change columns not found in TCGA-HT-A614-01.maf.txt LGG\n",
      "Protein change columns not found in TCGA-HT-A615-01.maf.txt LGG\n",
      "Protein change columns not found in TCGA-HT-A616-01.maf.txt LGG\n",
      "Protein change columns not found in TCGA-HT-A617-01.maf.txt LGG\n",
      "Protein change columns not found in TCGA-HT-A618-01.maf.txt LGG\n",
      "Protein change columns not found in TCGA-HT-A619-01.maf.txt LGG\n",
      "Protein change columns not found in TCGA-HT-A61A-01.maf.txt LGG\n",
      "Protein change columns not found in TCGA-HT-A61B-01.maf.txt LGG\n",
      "Protein change columns not found in TCGA-HT-A61C-01.maf.txt LGG\n",
      "Protein change columns not found in TCGA-HW-7486-01.maf.txt LGG\n",
      "Protein change columns not found in TCGA-HW-7487-01.maf.txt LGG\n"
     ]
    },
    {
     "name": "stderr",
     "output_type": "stream",
     "text": [
      "Protein change columns not found in TCGA-HW-7489-01.maf.txt LGG\n",
      "Protein change columns not found in TCGA-HW-7490-01.maf.txt LGG\n",
      "Protein change columns not found in TCGA-HW-7491-01.maf.txt LGG\n",
      "Protein change columns not found in TCGA-HW-7495-01.maf.txt LGG\n",
      "Protein change columns not found in TCGA-HW-8319-01.maf.txt LGG\n",
      "Protein change columns not found in TCGA-HW-8320-01.maf.txt LGG\n",
      "Protein change columns not found in TCGA-HW-8321-01.maf.txt LGG\n",
      "Protein change columns not found in TCGA-HW-8322-01.maf.txt LGG\n",
      "Protein change columns not found in TCGA-HW-A5KJ-01.maf.txt LGG\n",
      "Protein change columns not found in TCGA-HW-A5KK-01.maf.txt LGG\n",
      "Protein change columns not found in TCGA-HW-A5KL-01.maf.txt LGG\n",
      "Protein change columns not found in TCGA-HW-A5KM-01.maf.txt LGG\n",
      "Protein change columns not found in TCGA-IK-7675-01.maf.txt LGG\n",
      "Protein change columns not found in TCGA-IK-8125-01.maf.txt LGG\n",
      "Protein change columns not found in TCGA-P5-A5ET-01.maf.txt LGG\n",
      "Protein change columns not found in TCGA-P5-A5EU-01.maf.txt LGG\n",
      "Protein change columns not found in TCGA-P5-A5EV-01.maf.txt LGG\n",
      "Protein change columns not found in TCGA-P5-A5EW-01.maf.txt LGG\n",
      "Protein change columns not found in TCGA-P5-A5EX-01.maf.txt LGG\n",
      "Protein change columns not found in TCGA-P5-A5EY-01.maf.txt LGG\n",
      "Protein change columns not found in TCGA-P5-A5EZ-01.maf.txt LGG\n",
      "Protein change columns not found in TCGA-P5-A5F0-01.maf.txt LGG\n",
      "Protein change columns not found in TCGA-P5-A5F1-01.maf.txt LGG\n",
      "Protein change columns not found in TCGA-P5-A5F2-01.maf.txt LGG\n",
      "Protein change columns not found in TCGA-P5-A5F4-01.maf.txt LGG\n",
      "Protein change columns not found in TCGA-P5-A5F6-01.maf.txt LGG\n",
      "Protein change columns not found in TCGA-QH-A65S-01.maf.txt LGG\n",
      "Protein change columns not found in TCGA-QH-A65V-01.maf.txt LGG\n",
      "Protein change columns not found in TCGA-QH-A65Z-01.maf.txt LGG\n",
      "preprocessed maf 199 files;\t\traw maf: 0 files\n",
      "select processed maf file for cohort LIHC\n",
      "use path data/TCGA/data/gdac.broadinstitute.org_LIHC.Mutation_Packager_Calls.Level_3.2016012800.0.0/\n"
     ]
    },
    {
     "name": "stdout",
     "output_type": "stream",
     "text": [
      "LIHC\n"
     ]
    },
    {
     "name": "stderr",
     "output_type": "stream",
     "text": [
      "   Hugo_Symbol  Entrez_gene_ID Variant_Classification        function  \\\n",
      "86      YTHDF3          253943      Missense_Mutation  point_mutation   \n",
      "\n",
      "   AAChange    aa_pos  \n",
      "86        .  (NA, NA)  \n",
      "   Hugo_Symbol  Entrez_gene_ID Variant_Classification        function  \\\n",
      "80      INPP5D            3635      Missense_Mutation  point_mutation   \n",
      "\n",
      "   AAChange    aa_pos  \n",
      "80        .  (NA, NA)  \n",
      "    Hugo_Symbol  Entrez_gene_ID Variant_Classification        function  \\\n",
      "144      ZNF541           84215      Missense_Mutation  point_mutation   \n",
      "\n",
      "    AAChange    aa_pos  \n",
      "144        .  (NA, NA)  \n",
      "    Hugo_Symbol  Entrez_gene_ID Variant_Classification        function  \\\n",
      "128     DENND6A          201627      Missense_Mutation  point_mutation   \n",
      "\n",
      "    AAChange    aa_pos  \n",
      "128        .  (NA, NA)  \n",
      "   Hugo_Symbol  Entrez_gene_ID Variant_Classification        function  \\\n",
      "78       POTEJ          653781      Missense_Mutation  point_mutation   \n",
      "\n",
      "   AAChange    aa_pos  \n",
      "78        .  (NA, NA)  \n",
      "   Hugo_Symbol  Entrez_gene_ID Variant_Classification        function  \\\n",
      "13      BAHCC1           57597      Missense_Mutation  point_mutation   \n",
      "\n",
      "   AAChange    aa_pos  \n",
      "13        .  (NA, NA)  \n",
      "   Hugo_Symbol  Entrez_gene_ID Variant_Classification        function  \\\n",
      "66       FOLR3            2352      Missense_Mutation  point_mutation   \n",
      "67       FOLR3            2352      Missense_Mutation  point_mutation   \n",
      "\n",
      "   AAChange    aa_pos  \n",
      "66        .  (NA, NA)  \n",
      "67        .  (NA, NA)  \n",
      "    Hugo_Symbol  Entrez_gene_ID Variant_Classification        function  \\\n",
      "126      THSD7B           80731      Missense_Mutation  point_mutation   \n",
      "\n",
      "    AAChange    aa_pos  \n",
      "126        .  (NA, NA)  \n",
      "    Hugo_Symbol  Entrez_gene_ID Variant_Classification        function  \\\n",
      "637       PRKDC            5591      Missense_Mutation  point_mutation   \n",
      "\n",
      "    AAChange    aa_pos  \n",
      "637        .  (NA, NA)  \n",
      "    Hugo_Symbol  Entrez_gene_ID Variant_Classification        function  \\\n",
      "185     SMARCA2            6595      Missense_Mutation  point_mutation   \n",
      "\n",
      "    AAChange    aa_pos  \n",
      "185        .  (NA, NA)  \n",
      "    Hugo_Symbol  Entrez_gene_ID Variant_Classification        function  \\\n",
      "304       SMAD5            4090      Missense_Mutation  point_mutation   \n",
      "\n",
      "    AAChange    aa_pos  \n",
      "304        .  (NA, NA)  \n",
      "   Hugo_Symbol  Entrez_gene_ID Variant_Classification        function  \\\n",
      "99      SHANK2           22941      Missense_Mutation  point_mutation   \n",
      "\n",
      "   AAChange    aa_pos  \n",
      "99        .  (NA, NA)  \n",
      "   Hugo_Symbol  Entrez_gene_ID Variant_Classification        function  \\\n",
      "79       PLCD3          113026      Missense_Mutation  point_mutation   \n",
      "\n",
      "   AAChange    aa_pos  \n",
      "79        .  (NA, NA)  \n",
      "    Hugo_Symbol  Entrez_gene_ID Variant_Classification        function  \\\n",
      "33        CPNE9          151835      Missense_Mutation  point_mutation   \n",
      "79     KIAA1161           57462      Missense_Mutation  point_mutation   \n",
      "162      THSD7B           80731      Missense_Mutation  point_mutation   \n",
      "\n",
      "    AAChange    aa_pos  \n",
      "33         .  (NA, NA)  \n",
      "79         .  (NA, NA)  \n",
      "162        .  (NA, NA)  \n",
      "    Hugo_Symbol  Entrez_gene_ID Variant_Classification        function  \\\n",
      "129       PRKDC            5591      Missense_Mutation  point_mutation   \n",
      "\n",
      "    AAChange    aa_pos  \n",
      "129        .  (NA, NA)  \n",
      "    Hugo_Symbol  Entrez_gene_ID Variant_Classification        function  \\\n",
      "129       POTEJ          653781      Missense_Mutation  point_mutation   \n",
      "\n",
      "    AAChange    aa_pos  \n",
      "129        .  (NA, NA)  \n",
      "   Hugo_Symbol  Entrez_gene_ID Variant_Classification        function  \\\n",
      "62       LUZP6          767558      Missense_Mutation  point_mutation   \n",
      "\n",
      "   AAChange    aa_pos  \n",
      "62        .  (NA, NA)  \n",
      "    Hugo_Symbol  Entrez_gene_ID Variant_Classification        function  \\\n",
      "146       PRKDC            5591      Missense_Mutation  point_mutation   \n",
      "\n",
      "    AAChange    aa_pos  \n",
      "146        .  (NA, NA)  \n",
      "   Hugo_Symbol  Entrez_gene_ID Variant_Classification        function  \\\n",
      "86       MROH8          140699      Missense_Mutation  point_mutation   \n",
      "\n",
      "   AAChange    aa_pos  \n",
      "86        .  (NA, NA)  \n",
      "   Hugo_Symbol  Entrez_gene_ID Variant_Classification        function  \\\n",
      "32        DIO2            1734      Missense_Mutation  point_mutation   \n",
      "\n",
      "   AAChange    aa_pos  \n",
      "32        .  (NA, NA)  \n",
      "    Hugo_Symbol  Entrez_gene_ID Variant_Classification        function  \\\n",
      "146      ATF7IP           55729      Missense_Mutation  point_mutation   \n",
      "145       CCAR1           55749      Missense_Mutation  point_mutation   \n",
      "30       DIXDC1           85458      Missense_Mutation  point_mutation   \n",
      "\n",
      "    AAChange    aa_pos  \n",
      "146        .  (NA, NA)  \n",
      "145        .  (NA, NA)  \n",
      "30         .  (NA, NA)  \n",
      "    Hugo_Symbol  Entrez_gene_ID Variant_Classification        function  \\\n",
      "224       LTBP4            8425      Missense_Mutation  point_mutation   \n",
      "\n",
      "    AAChange    aa_pos  \n",
      "224        .  (NA, NA)  \n",
      "   Hugo_Symbol  Entrez_gene_ID Variant_Classification        function  \\\n",
      "17        GPX1            2876      Missense_Mutation  point_mutation   \n",
      "\n",
      "   AAChange    aa_pos  \n",
      "17        .  (NA, NA)  \n",
      "   Hugo_Symbol  Entrez_gene_ID Variant_Classification        function  \\\n",
      "50      SEPHS2           22928      Missense_Mutation  point_mutation   \n",
      "\n",
      "   AAChange    aa_pos  \n",
      "50        .  (NA, NA)  \n",
      "    Hugo_Symbol  Entrez_gene_ID Variant_Classification        function  \\\n",
      "9        BAHCC1           57597      Missense_Mutation  point_mutation   \n",
      "105       PRKDC            5591      Missense_Mutation  point_mutation   \n",
      "\n",
      "    AAChange    aa_pos  \n",
      "9          .  (NA, NA)  \n",
      "105        .  (NA, NA)  \n",
      "   Hugo_Symbol  Entrez_gene_ID Variant_Classification        function  \\\n",
      "32       PRIM2            5558      Missense_Mutation  point_mutation   \n",
      "\n",
      "   AAChange    aa_pos  \n",
      "32        .  (NA, NA)  \n",
      "    Hugo_Symbol  Entrez_gene_ID Variant_Classification        function  \\\n",
      "52       FAM58A           92002      Missense_Mutation  point_mutation   \n",
      "170      THSD7B           80731      Missense_Mutation  point_mutation   \n",
      "\n",
      "    AAChange    aa_pos  \n",
      "52         .  (NA, NA)  \n",
      "170        .  (NA, NA)  \n",
      "   Hugo_Symbol  Entrez_gene_ID Variant_Classification        function  \\\n",
      "15      BAHCC1           57597      Missense_Mutation  point_mutation   \n",
      "53     FAM101B          359845      Missense_Mutation  point_mutation   \n",
      "\n",
      "   AAChange    aa_pos  \n",
      "15        .  (NA, NA)  \n",
      "53        .  (NA, NA)  \n",
      "   Hugo_Symbol  Entrez_gene_ID Variant_Classification        function  \\\n",
      "75      PCDH15           65217      Missense_Mutation  point_mutation   \n",
      "\n",
      "   AAChange    aa_pos  \n",
      "75        .  (NA, NA)  \n",
      "   Hugo_Symbol  Entrez_gene_ID Variant_Classification        function  \\\n",
      "38        GPX1            2876      Missense_Mutation  point_mutation   \n",
      "71       SMAD5            4090      Missense_Mutation  point_mutation   \n",
      "\n",
      "   AAChange    aa_pos  \n",
      "38        .  (NA, NA)  \n",
      "71        .  (NA, NA)  \n",
      "    Hugo_Symbol  Entrez_gene_ID Variant_Classification        function  \\\n",
      "99         PHB2           11331      Missense_Mutation  point_mutation   \n",
      "128      THSD7B           80731      Missense_Mutation  point_mutation   \n",
      "\n",
      "    AAChange    aa_pos  \n",
      "99         .  (NA, NA)  \n",
      "128        .  (NA, NA)  \n",
      "   Hugo_Symbol  Entrez_gene_ID Variant_Classification        function  \\\n",
      "90         RYK            6259      Missense_Mutation  point_mutation   \n",
      "\n",
      "   AAChange    aa_pos  \n",
      "90        .  (NA, NA)  \n",
      "   Hugo_Symbol  Entrez_gene_ID Variant_Classification        function  \\\n",
      "51      DIXDC1           85458      Missense_Mutation  point_mutation   \n",
      "\n",
      "   AAChange    aa_pos  \n",
      "51        .  (NA, NA)  \n",
      "    Hugo_Symbol  Entrez_gene_ID Variant_Classification        function  \\\n",
      "10      ARHGEF4           50649      Missense_Mutation  point_mutation   \n",
      "169     UGT2B10            7365      Missense_Mutation  point_mutation   \n",
      "\n",
      "    AAChange    aa_pos  \n",
      "10         .  (NA, NA)  \n",
      "169        .  (NA, NA)  \n",
      "    Hugo_Symbol  Entrez_gene_ID Variant_Classification        function  \\\n",
      "302         ZAN            7455      Missense_Mutation  point_mutation   \n",
      "\n",
      "    AAChange    aa_pos  \n",
      "302        .  (NA, NA)  \n",
      "    Hugo_Symbol  Entrez_gene_ID Variant_Classification        function  \\\n",
      "199        RELB            5971      Missense_Mutation  point_mutation   \n",
      "\n",
      "    AAChange    aa_pos  \n",
      "199        .  (NA, NA)  \n",
      "   Hugo_Symbol  Entrez_gene_ID Variant_Classification        function  \\\n",
      "74      THSD7B           80731      Missense_Mutation  point_mutation   \n",
      "\n",
      "   AAChange    aa_pos  \n",
      "74        .  (NA, NA)  \n"
     ]
    },
    {
     "name": "stderr",
     "output_type": "stream",
     "text": [
      "    Hugo_Symbol  Entrez_gene_ID Variant_Classification        function  \\\n",
      "327         ZAN            7455      Missense_Mutation  point_mutation   \n",
      "\n",
      "    AAChange    aa_pos  \n",
      "327        .  (NA, NA)  \n",
      "    Hugo_Symbol  Entrez_gene_ID Variant_Classification        function  \\\n",
      "187      THSD7B           80731      Missense_Mutation  point_mutation   \n",
      "\n",
      "    AAChange    aa_pos  \n",
      "187        .  (NA, NA)  \n",
      "    Hugo_Symbol  Entrez_gene_ID Variant_Classification        function  \\\n",
      "110       PCSK6            5046      Missense_Mutation  point_mutation   \n",
      "\n",
      "    AAChange    aa_pos  \n",
      "110        .  (NA, NA)  \n",
      "   Hugo_Symbol  Entrez_gene_ID Variant_Classification        function  \\\n",
      "73       MSRB1           51734      Missense_Mutation  point_mutation   \n",
      "\n",
      "   AAChange    aa_pos  \n",
      "73        .  (NA, NA)  \n",
      "   Hugo_Symbol  Entrez_gene_ID Variant_Classification        function  \\\n",
      "89      THSD7B           80731      Missense_Mutation  point_mutation   \n",
      "\n",
      "   AAChange    aa_pos  \n",
      "89        .  (NA, NA)  \n",
      "   Hugo_Symbol  Entrez_gene_ID Variant_Classification        function  \\\n",
      "38      DNAH11            8701      Missense_Mutation  point_mutation   \n",
      "\n",
      "   AAChange    aa_pos  \n",
      "38        .  (NA, NA)  \n",
      "   Hugo_Symbol  Entrez_gene_ID Variant_Classification        function  \\\n",
      "51        GPX1            2876      Missense_Mutation  point_mutation   \n",
      "\n",
      "   AAChange    aa_pos  \n",
      "51        .  (NA, NA)  \n",
      "   Hugo_Symbol  Entrez_gene_ID Variant_Classification        function  \\\n",
      "83        SYNM           23336      Missense_Mutation  point_mutation   \n",
      "\n",
      "   AAChange    aa_pos  \n",
      "83        .  (NA, NA)  \n",
      "   Hugo_Symbol  Entrez_gene_ID Variant_Classification        function  \\\n",
      "68      TXNRD1            7296      Missense_Mutation  point_mutation   \n",
      "\n",
      "   AAChange    aa_pos  \n",
      "68        .  (NA, NA)  \n",
      "   Hugo_Symbol  Entrez_gene_ID Variant_Classification        function  \\\n",
      "23       CPNE9          151835      Missense_Mutation  point_mutation   \n",
      "84      PCDH15           65217      Missense_Mutation  point_mutation   \n",
      "\n",
      "   AAChange    aa_pos  \n",
      "23        .  (NA, NA)  \n",
      "84        .  (NA, NA)  \n",
      "   Hugo_Symbol  Entrez_gene_ID Variant_Classification        function  \\\n",
      "52       PRKDC            5591      Missense_Mutation  point_mutation   \n",
      "\n",
      "   AAChange    aa_pos  \n",
      "52        .  (NA, NA)  \n",
      "   Hugo_Symbol  Entrez_gene_ID Variant_Classification        function  \\\n",
      "56      SRGAP2           23380      Missense_Mutation  point_mutation   \n",
      "\n",
      "   AAChange    aa_pos  \n",
      "56        .  (NA, NA)  \n",
      "   Hugo_Symbol  Entrez_gene_ID Variant_Classification        function  \\\n",
      "12         C1R             715      Missense_Mutation  point_mutation   \n",
      "\n",
      "   AAChange    aa_pos  \n",
      "12        .  (NA, NA)  \n",
      "   Hugo_Symbol  Entrez_gene_ID Variant_Classification        function  \\\n",
      "47       PRKDC            5591      Missense_Mutation  point_mutation   \n",
      "\n",
      "   AAChange    aa_pos  \n",
      "47        .  (NA, NA)  \n",
      "   Hugo_Symbol  Entrez_gene_ID Variant_Classification        function  \\\n",
      "97       PRIM2            5558      Missense_Mutation  point_mutation   \n",
      "98       PRKDC            5591      Missense_Mutation  point_mutation   \n",
      "\n",
      "   AAChange    aa_pos  \n",
      "97        .  (NA, NA)  \n",
      "98        .  (NA, NA)  \n",
      "    Hugo_Symbol  Entrez_gene_ID Variant_Classification        function  \\\n",
      "187       PRKDC            5591      Missense_Mutation  point_mutation   \n",
      "\n",
      "    AAChange    aa_pos  \n",
      "187        .  (NA, NA)  \n",
      "    Hugo_Symbol  Entrez_gene_ID Variant_Classification        function  \\\n",
      "100      PCDH15           65217      Missense_Mutation  point_mutation   \n",
      "\n",
      "    AAChange    aa_pos  \n",
      "100        .  (NA, NA)  \n",
      "    Hugo_Symbol  Entrez_gene_ID Variant_Classification        function  \\\n",
      "197      ZNF274           10782      Missense_Mutation  point_mutation   \n",
      "\n",
      "    AAChange    aa_pos  \n",
      "197        .  (NA, NA)  \n",
      "    Hugo_Symbol  Entrez_gene_ID Variant_Classification        function  \\\n",
      "138      ADAM12            8038      Missense_Mutation  point_mutation   \n",
      "\n",
      "    AAChange    aa_pos  \n",
      "138        .  (NA, NA)  \n",
      "   Hugo_Symbol  Entrez_gene_ID Variant_Classification        function  \\\n",
      "33        EI24            9538      Missense_Mutation  point_mutation   \n",
      "\n",
      "   AAChange    aa_pos  \n",
      "33        .  (NA, NA)  \n",
      "   Hugo_Symbol  Entrez_gene_ID Variant_Classification        function  \\\n",
      "67       SH2B2           10603      Missense_Mutation  point_mutation   \n",
      "\n",
      "   AAChange    aa_pos  \n",
      "67        .  (NA, NA)  \n",
      "    Hugo_Symbol  Entrez_gene_ID Variant_Classification        function  \\\n",
      "144        SPIC          121599      Missense_Mutation  point_mutation   \n",
      "\n",
      "    AAChange    aa_pos  \n",
      "144        .  (NA, NA)  \n",
      "     Hugo_Symbol  Entrez_gene_ID Variant_Classification        function  \\\n",
      "96       ARHGEF4           50649      Missense_Mutation  point_mutation   \n",
      "229        CAPN8          388743      Missense_Mutation  point_mutation   \n",
      "380      CYP21A2            1589      Missense_Mutation  point_mutation   \n",
      "457        ECSCR          641700      Missense_Mutation  point_mutation   \n",
      "584        GCNT7          140687      Missense_Mutation  point_mutation   \n",
      "765        KRBA1           84626      Missense_Mutation  point_mutation   \n",
      "866        MILR1          284021      Missense_Mutation  point_mutation   \n",
      "891        MROH8          140699      Missense_Mutation  point_mutation   \n",
      "1165       PRKDC            5591      Missense_Mutation  point_mutation   \n",
      "\n",
      "     AAChange    aa_pos  \n",
      "96          .  (NA, NA)  \n",
      "229         .  (NA, NA)  \n",
      "380         .  (NA, NA)  \n",
      "457         .  (NA, NA)  \n",
      "584         .  (NA, NA)  \n",
      "765         .  (NA, NA)  \n",
      "866         .  (NA, NA)  \n",
      "891         .  (NA, NA)  \n",
      "1165        .  (NA, NA)  \n",
      "TCGA-UB-A7MB-01A-11D-A33Q-10 LIHC 9 point mutations without a position 1268 remain\n"
     ]
    },
    {
     "name": "stdout",
     "output_type": "stream",
     "text": [
      "LUAD\n"
     ]
    },
    {
     "name": "stderr",
     "output_type": "stream",
     "text": [
      "preprocessed maf 231 files;\t\traw maf: 0 files\n",
      "select processed maf file for cohort LUAD\n",
      "use path data/TCGA/data/gdac.broadinstitute.org_LUAD.Mutation_Packager_Calls.Level_3.2016012800.0.0/\n"
     ]
    },
    {
     "name": "stdout",
     "output_type": "stream",
     "text": [
      "LUSC\n"
     ]
    },
    {
     "name": "stderr",
     "output_type": "stream",
     "text": [
      "preprocessed maf 179 files;\t\traw maf: 0 files\n",
      "select processed maf file for cohort LUSC\n",
      "use path data/TCGA/data/gdac.broadinstitute.org_LUSC.Mutation_Packager_Calls.Level_3.2016012800.0.0/\n"
     ]
    },
    {
     "name": "stdout",
     "output_type": "stream",
     "text": [
      "PAAD\n"
     ]
    },
    {
     "name": "stderr",
     "output_type": "stream",
     "text": [
      "preprocessed maf 151 files;\t\traw maf: 0 files\n",
      "select processed maf file for cohort PAAD\n",
      "use path data/TCGA/data/gdac.broadinstitute.org_PAAD.Mutation_Packager_Calls.Level_3.2016012800.0.0/\n"
     ]
    },
    {
     "name": "stdout",
     "output_type": "stream",
     "text": [
      "PCPG\n"
     ]
    },
    {
     "name": "stderr",
     "output_type": "stream",
     "text": [
      "preprocessed maf 185 files;\t\traw maf: 0 files\n",
      "select processed maf file for cohort PCPG\n",
      "use path data/TCGA/data/gdac.broadinstitute.org_PCPG.Mutation_Packager_Calls.Level_3.2016012800.0.0/\n"
     ]
    },
    {
     "name": "stdout",
     "output_type": "stream",
     "text": [
      "PRAD\n"
     ]
    },
    {
     "name": "stderr",
     "output_type": "stream",
     "text": [
      "preprocessed maf 333 files;\t\traw maf: 0 files\n",
      "select processed maf file for cohort PRAD\n",
      "use path data/TCGA/data/gdac.broadinstitute.org_PRAD.Mutation_Packager_Calls.Level_3.2016012800.0.0/\n"
     ]
    },
    {
     "name": "stdout",
     "output_type": "stream",
     "text": [
      "READ\n"
     ]
    },
    {
     "name": "stderr",
     "output_type": "stream",
     "text": [
      "preprocessed maf 70 files;\t\traw maf: 0 files\n",
      "select processed maf file for cohort READ\n",
      "use path data/TCGA/data/gdac.broadinstitute.org_READ.Mutation_Packager_Calls.Level_3.2016012800.0.0/\n",
      "   Hugo_Symbol  Entrez_gene_ID Variant_Classification        function  \\\n",
      "44     CXorf67          340602      Missense_Mutation  point_mutation   \n",
      "\n",
      "   AAChange    aa_pos  \n",
      "44        .  (NA, NA)  \n",
      "    Hugo_Symbol  Entrez_gene_ID Variant_Classification        function  \\\n",
      "117    KIAA0495           57212      Missense_Mutation  point_mutation   \n",
      "\n",
      "    AAChange    aa_pos  \n",
      "117        .  (NA, NA)  \n",
      "   Hugo_Symbol  Entrez_gene_ID Variant_Classification        function  \\\n",
      "67      ZNF826          664701      Missense_Mutation  point_mutation   \n",
      "\n",
      "   AAChange    aa_pos  \n",
      "67        .  (NA, NA)  \n",
      "   Hugo_Symbol  Entrez_gene_ID Variant_Classification        function  \\\n",
      "96       OFCC1          266553      Missense_Mutation  point_mutation   \n",
      "\n",
      "   AAChange    aa_pos  \n",
      "96        .  (NA, NA)  \n",
      "   Hugo_Symbol  Entrez_gene_ID Variant_Classification        function  \\\n",
      "60        VNN3           55350      Missense_Mutation  point_mutation   \n",
      "\n",
      "   AAChange    aa_pos  \n",
      "60        .  (NA, NA)  \n",
      "   Hugo_Symbol  Entrez_gene_ID Variant_Classification        function  \\\n",
      "53       AMY1B             277      Missense_Mutation  point_mutation   \n",
      "\n",
      "   AAChange    aa_pos  \n",
      "53        .  (NA, NA)  \n",
      "    Hugo_Symbol  Entrez_gene_ID Variant_Classification        function  \\\n",
      "57         ART5          116969      Missense_Mutation  point_mutation   \n",
      "118      ATP10D           57205      Missense_Mutation  point_mutation   \n",
      "90          BSN            8927      Missense_Mutation  point_mutation   \n",
      "32      C8orf41           80185      Missense_Mutation  point_mutation   \n",
      "65     CASP8AP2            9994      Missense_Mutation  point_mutation   \n",
      "49         CUL5            8065      Missense_Mutation  point_mutation   \n",
      "97        HNF1A            6927      Missense_Mutation  point_mutation   \n",
      "81        IFT57           55081      Missense_Mutation  point_mutation   \n",
      "104        KRT7            3855      Missense_Mutation  point_mutation   \n",
      "20         MLL4            9757      Missense_Mutation  point_mutation   \n",
      "69      MYCBPAP           84073      Missense_Mutation  point_mutation   \n",
      "13         MYH6            4624      Missense_Mutation  point_mutation   \n",
      "28         PEG3            5178      Missense_Mutation  point_mutation   \n",
      "138      PRUNE2          158471      Missense_Mutation  point_mutation   \n",
      "29     SLC25A23           79085      Missense_Mutation  point_mutation   \n",
      "109     SLC30A4            7782      Missense_Mutation  point_mutation   \n",
      "150      SPINK7           84651      Missense_Mutation  point_mutation   \n",
      "142      TCF7L2            6934      Missense_Mutation  point_mutation   \n",
      "152       TCOF1            6949      Missense_Mutation  point_mutation   \n",
      "\n",
      "    AAChange    aa_pos  \n",
      "57         .  (NA, NA)  \n",
      "118        .  (NA, NA)  \n",
      "90         .  (NA, NA)  \n",
      "32         .  (NA, NA)  \n",
      "65         .  (NA, NA)  \n",
      "49         .  (NA, NA)  \n",
      "97         .  (NA, NA)  \n",
      "81         .  (NA, NA)  \n",
      "104        .  (NA, NA)  \n",
      "20         .  (NA, NA)  \n",
      "69         .  (NA, NA)  \n",
      "13         .  (NA, NA)  \n",
      "28         .  (NA, NA)  \n",
      "138        .  (NA, NA)  \n",
      "29         .  (NA, NA)  \n",
      "109        .  (NA, NA)  \n",
      "150        .  (NA, NA)  \n",
      "142        .  (NA, NA)  \n",
      "152        .  (NA, NA)  \n",
      "TCGA-AG-3726-01 READ 19 point mutations without a position 107 remain\n",
      "   Hugo_Symbol  Entrez_gene_ID Variant_Classification        function  \\\n",
      "90      CRYBG3          131544      Missense_Mutation  point_mutation   \n",
      "13    KIAA1683           80726      Missense_Mutation  point_mutation   \n",
      "\n",
      "   AAChange    aa_pos  \n",
      "90        .  (NA, NA)  \n",
      "13        .  (NA, NA)  \n",
      "   Hugo_Symbol  Entrez_gene_ID Variant_Classification        function  \\\n",
      "64       FBXW4            6468      Missense_Mutation  point_mutation   \n",
      "\n",
      "   AAChange    aa_pos  \n",
      "64        .  (NA, NA)  \n",
      "   Hugo_Symbol  Entrez_gene_ID Variant_Classification        function  \\\n",
      "81    C15orf51          196968      Missense_Mutation  point_mutation   \n",
      "38        CDYL            9425      Missense_Mutation  point_mutation   \n",
      "\n",
      "   AAChange    aa_pos  \n",
      "81        .  (NA, NA)  \n",
      "38        .  (NA, NA)  \n",
      "     Hugo_Symbol  Entrez_gene_ID Variant_Classification        function  \\\n",
      "1840     C2orf53          339779      Missense_Mutation  point_mutation   \n",
      "2266       CAPS2           84698      Missense_Mutation  point_mutation   \n",
      "2265       OSTCL          202459      Missense_Mutation  point_mutation   \n",
      "\n",
      "     AAChange    aa_pos  \n",
      "1840        .  (NA, NA)  \n",
      "2266        .  (NA, NA)  \n",
      "2265        .  (NA, NA)  \n",
      "    Hugo_Symbol  Entrez_gene_ID Variant_Classification        function  \\\n",
      "109      GPR158           57512      Missense_Mutation  point_mutation   \n",
      "117        SSX6          280657      Missense_Mutation  point_mutation   \n",
      "\n",
      "    AAChange    aa_pos  \n",
      "109        .  (NA, NA)  \n",
      "117        .  (NA, NA)  \n",
      "    Hugo_Symbol  Entrez_gene_ID Variant_Classification        function  \\\n",
      "105    C15orf21          283651      Missense_Mutation  point_mutation   \n",
      "38         GJB3            2707      Missense_Mutation  point_mutation   \n",
      "\n",
      "    AAChange    aa_pos  \n",
      "105        .  (NA, NA)  \n",
      "38         .  (NA, NA)  \n",
      "   Hugo_Symbol  Entrez_gene_ID Variant_Classification        function  \\\n",
      "14    SIGLEC11          114132      Missense_Mutation  point_mutation   \n",
      "\n",
      "   AAChange    aa_pos  \n",
      "14        .  (NA, NA)  \n",
      "  Hugo_Symbol  Entrez_gene_ID Variant_Classification        function AAChange  \\\n",
      "2       MUC17          140453      Missense_Mutation  point_mutation        .   \n",
      "\n",
      "     aa_pos  \n",
      "2  (NA, NA)  \n",
      "   Hugo_Symbol  Entrez_gene_ID Variant_Classification        function  \\\n",
      "96      ADRA2B             151      Missense_Mutation  point_mutation   \n",
      "70      FAM38B           63895      Missense_Mutation  point_mutation   \n",
      "57      GPR115          221393      Missense_Mutation  point_mutation   \n",
      "\n",
      "   AAChange    aa_pos  \n",
      "96        .  (NA, NA)  \n",
      "70        .  (NA, NA)  \n",
      "57        .  (NA, NA)  \n",
      "    Hugo_Symbol  Entrez_gene_ID Variant_Classification        function  \\\n",
      "26        AMPD2             271      Missense_Mutation  point_mutation   \n",
      "126     FAM74A3          728495      Missense_Mutation  point_mutation   \n",
      "\n",
      "    AAChange    aa_pos  \n",
      "26         .  (NA, NA)  \n",
      "126        .  (NA, NA)  \n",
      "   Hugo_Symbol  Entrez_gene_ID Variant_Classification        function  \\\n",
      "44       NAT10           55226      Missense_Mutation  point_mutation   \n",
      "\n",
      "   AAChange    aa_pos  \n",
      "44        .  (NA, NA)  \n",
      "    Hugo_Symbol  Entrez_gene_ID Variant_Classification        function  \\\n",
      "147       SPAG8           26206      Missense_Mutation  point_mutation   \n",
      "\n",
      "    AAChange    aa_pos  \n",
      "147        .  (NA, NA)  \n",
      "      Hugo_Symbol  Entrez_gene_ID Variant_Classification        function  \\\n",
      "12536     AKR1CL1          340811      Missense_Mutation  point_mutation   \n",
      "820       ARFGEF2           10564      Missense_Mutation  point_mutation   \n",
      "12520       ASB12          142689      Missense_Mutation  point_mutation   \n",
      "5682        ASGR2             433      Missense_Mutation  point_mutation   \n",
      "7369     C12orf76          400073      Missense_Mutation  point_mutation   \n",
      "12468    C1orf200          644997      Missense_Mutation  point_mutation   \n",
      "12530     C2orf52          151477      Missense_Mutation  point_mutation   \n",
      "12481    CCDC144B          284047      Missense_Mutation  point_mutation   \n",
      "12500      CRYBG3          131544      Missense_Mutation  point_mutation   \n",
      "12501      CRYBG3          131544      Missense_Mutation  point_mutation   \n",
      "10980        FLT3            2322      Missense_Mutation  point_mutation   \n",
      "6925      LEPREL1           55214      Missense_Mutation  point_mutation   \n",
      "12534        MTAP            4507      Missense_Mutation  point_mutation   \n",
      "12428     NSUN5P1          155400      Missense_Mutation  point_mutation   \n",
      "12426     NSUN5P2          260294      Missense_Mutation  point_mutation   \n",
      "12484       OR3A4          390756      Missense_Mutation  point_mutation   \n",
      "11348        PTER            9317      Missense_Mutation  point_mutation   \n",
      "7639        PUS7L           83448      Missense_Mutation  point_mutation   \n",
      "9629         PXDN            7837      Missense_Mutation  point_mutation   \n",
      "12445       SERHL           94009      Missense_Mutation  point_mutation   \n",
      "12442   SERPINA13          388007      Missense_Mutation  point_mutation   \n",
      "12465      SPATA1           64173      Missense_Mutation  point_mutation   \n",
      "12490      ZNF271           10778      Missense_Mutation  point_mutation   \n",
      "6288       ZNF519          162655      Missense_Mutation  point_mutation   \n",
      "\n",
      "      AAChange    aa_pos  \n",
      "12536        .  (NA, NA)  \n",
      "820          .  (NA, NA)  \n",
      "12520        .  (NA, NA)  \n",
      "5682         .  (NA, NA)  \n",
      "7369         .  (NA, NA)  \n",
      "12468        .  (NA, NA)  \n",
      "12530        .  (NA, NA)  \n",
      "12481        .  (NA, NA)  \n",
      "12500        .  (NA, NA)  \n",
      "12501        .  (NA, NA)  \n",
      "10980        .  (NA, NA)  \n",
      "6925         .  (NA, NA)  \n",
      "12534        .  (NA, NA)  \n",
      "12428        .  (NA, NA)  \n",
      "12426        .  (NA, NA)  \n",
      "12484        .  (NA, NA)  \n",
      "11348        .  (NA, NA)  \n",
      "7639         .  (NA, NA)  \n",
      "9629         .  (NA, NA)  \n",
      "12445        .  (NA, NA)  \n",
      "12442        .  (NA, NA)  \n",
      "12465        .  (NA, NA)  \n",
      "12490        .  (NA, NA)  \n",
      "6288         .  (NA, NA)  \n",
      "TCGA-AG-A002-01 READ 24 point mutations without a position 9839 remain\n"
     ]
    },
    {
     "name": "stderr",
     "output_type": "stream",
     "text": [
      "   Hugo_Symbol  Entrez_gene_ID Variant_Classification        function  \\\n",
      "33        PTK7            5754      Missense_Mutation  point_mutation   \n",
      "\n",
      "   AAChange    aa_pos  \n",
      "33        .  (NA, NA)  \n",
      "    Hugo_Symbol  Entrez_gene_ID Variant_Classification        function  \\\n",
      "280    C1orf222          339457           In_Frame_Del  point_mutation   \n",
      "282        NXF5           55998      Missense_Mutation  point_mutation   \n",
      "\n",
      "    AAChange    aa_pos  \n",
      "280        .  (NA, NA)  \n",
      "282        .  (NA, NA)  \n",
      "    Hugo_Symbol  Entrez_gene_ID Variant_Classification        function  \\\n",
      "114   LOC389458          389458      Missense_Mutation  point_mutation   \n",
      "\n",
      "    AAChange    aa_pos  \n",
      "114        .  (NA, NA)  \n",
      "    Hugo_Symbol  Entrez_gene_ID Variant_Classification        function  \\\n",
      "106      ACVRL1              94      Missense_Mutation  point_mutation   \n",
      "155       ADCY2             108      Missense_Mutation  point_mutation   \n",
      "130        AKNA           80709      Missense_Mutation  point_mutation   \n",
      "34       ARRDC2           27106      Missense_Mutation  point_mutation   \n",
      "84        AXIN1            8312      Missense_Mutation  point_mutation   \n",
      "114      CYP1A2            1544      Missense_Mutation  point_mutation   \n",
      "131      DAB2IP          153090      Missense_Mutation  point_mutation   \n",
      "81       GUCY2D            3000      Missense_Mutation  point_mutation   \n",
      "141        POLL           27343      Missense_Mutation  point_mutation   \n",
      "42        PRKDC            5591      Missense_Mutation  point_mutation   \n",
      "88       ZC3H18          124245      Missense_Mutation  point_mutation   \n",
      "\n",
      "    AAChange    aa_pos  \n",
      "106        .  (NA, NA)  \n",
      "155        .  (NA, NA)  \n",
      "130        .  (NA, NA)  \n",
      "34         .  (NA, NA)  \n",
      "84         .  (NA, NA)  \n",
      "114        .  (NA, NA)  \n",
      "131        .  (NA, NA)  \n",
      "81         .  (NA, NA)  \n",
      "141        .  (NA, NA)  \n",
      "42         .  (NA, NA)  \n",
      "88         .  (NA, NA)  \n",
      "TCGA-AG-A014-01 READ 11 point mutations without a position 123 remain\n",
      "   Hugo_Symbol  Entrez_gene_ID Variant_Classification        function  \\\n",
      "57    C1orf212          113444      Missense_Mutation  point_mutation   \n",
      "\n",
      "   AAChange    aa_pos  \n",
      "57        .  (NA, NA)  \n",
      "   Hugo_Symbol  Entrez_gene_ID Variant_Classification        function  \\\n",
      "76    C21orf34          388815      Missense_Mutation  point_mutation   \n",
      "66      ZNF828          283489      Missense_Mutation  point_mutation   \n",
      "\n",
      "   AAChange    aa_pos  \n",
      "76        .  (NA, NA)  \n",
      "66        .  (NA, NA)  \n",
      "   Hugo_Symbol  Entrez_gene_ID Variant_Classification        function  \\\n",
      "17      CYP7B1            9420      Missense_Mutation  point_mutation   \n",
      "\n",
      "   AAChange    aa_pos  \n",
      "17        .  (NA, NA)  \n",
      "   Hugo_Symbol  Entrez_gene_ID Variant_Classification        function  \\\n",
      "9       AHNAK2          113146      Missense_Mutation  point_mutation   \n",
      "40      ANKS1A           23294      Missense_Mutation  point_mutation   \n",
      "29        USP2            9099      Missense_Mutation  point_mutation   \n",
      "\n",
      "   AAChange    aa_pos  \n",
      "9         .  (NA, NA)  \n",
      "40        .  (NA, NA)  \n",
      "29        .  (NA, NA)  \n",
      "   Hugo_Symbol  Entrez_gene_ID Variant_Classification        function  \\\n",
      "5          ASL             435      Missense_Mutation  point_mutation   \n",
      "47      GPR113          165082      Missense_Mutation  point_mutation   \n",
      "\n",
      "   AAChange    aa_pos  \n",
      "5         .  (NA, NA)  \n",
      "47        .  (NA, NA)  \n",
      "    Hugo_Symbol  Entrez_gene_ID Variant_Classification        function  \\\n",
      "66         ANO1           55107      Missense_Mutation  point_mutation   \n",
      "117      MAN2A2            4122      Missense_Mutation  point_mutation   \n",
      "25       MICAL3           57553      Missense_Mutation  point_mutation   \n",
      "93      PLA2G15           23659      Missense_Mutation  point_mutation   \n",
      "48         SPEN           23013      Missense_Mutation  point_mutation   \n",
      "\n",
      "    AAChange    aa_pos  \n",
      "66         .  (NA, NA)  \n",
      "117        .  (NA, NA)  \n",
      "25         .  (NA, NA)  \n",
      "93         .  (NA, NA)  \n",
      "48         .  (NA, NA)  \n",
      "   Hugo_Symbol  Entrez_gene_ID Variant_Classification        function  \\\n",
      "59        CHD2            1106      Missense_Mutation  point_mutation   \n",
      "77    LOC57653           57653      Missense_Mutation  point_mutation   \n",
      "90       OR3A4          390756      Missense_Mutation  point_mutation   \n",
      "\n",
      "   AAChange    aa_pos  \n",
      "59        .  (NA, NA)  \n",
      "77        .  (NA, NA)  \n",
      "90        .  (NA, NA)  \n",
      "   Hugo_Symbol  Entrez_gene_ID Variant_Classification        function  \\\n",
      "12      EIF2B2            8892      Missense_Mutation  point_mutation   \n",
      "\n",
      "   AAChange    aa_pos  \n",
      "12        .  (NA, NA)  \n"
     ]
    },
    {
     "name": "stdout",
     "output_type": "stream",
     "text": [
      "SARC\n",
      "Warning: query IDs not mapped to any target IDs excluded: 2\n"
     ]
    },
    {
     "name": "stderr",
     "output_type": "stream",
     "text": [
      "preprocessed maf 248 files;\t\traw maf: 0 files\n",
      "select processed maf file for cohort SARC\n",
      "use path data/TCGA/data/gdac.broadinstitute.org_SARC.Mutation_Packager_Calls.Level_3.2016012800.0.0/\n",
      "2 Hugo symbols not mapped to Entrez gene ID ['ENSG00000237357', 'ENSG00000266156']\n"
     ]
    },
    {
     "name": "stdout",
     "output_type": "stream",
     "text": [
      "Warning: query IDs not mapped to any target IDs excluded: 4\n",
      "Warning: query IDs not mapped to any target IDs excluded: 4\n"
     ]
    },
    {
     "name": "stderr",
     "output_type": "stream",
     "text": [
      "4 Hugo symbols not mapped to Entrez gene ID ['ENSG00000216127', 'ENSG00000221395', 'ENSG00000265209', 'ENSG00000267801']\n",
      "4 Hugo symbols not mapped to Entrez gene ID ['ENSG00000167765', 'ENSG00000231345', 'ENSG00000250910', 'ENSG00000267075']\n",
      "3 Hugo symbols not mapped to Entrez gene ID ['APC4', 'ENSG00000251199', 'ENSG00000265194']\n"
     ]
    },
    {
     "name": "stdout",
     "output_type": "stream",
     "text": [
      "Warning: query IDs not mapped to any target IDs excluded: 3\n",
      "Warning: query IDs not mapped to any target IDs excluded: 6\n"
     ]
    },
    {
     "name": "stderr",
     "output_type": "stream",
     "text": [
      "6 Hugo symbols not mapped to Entrez gene ID ['ENSG00000218739', 'ENSG00000221279', 'ENSG00000221280', 'ENSG00000221307', 'ENSG00000255193', 'KC1']\n",
      "3 Hugo symbols not mapped to Entrez gene ID ['CNTP5', 'DH7', 'ENSG00000185710']\n"
     ]
    },
    {
     "name": "stdout",
     "output_type": "stream",
     "text": [
      "Warning: query IDs not mapped to any target IDs excluded: 3\n",
      "Warning: query IDs not mapped to any target IDs excluded: 2\n"
     ]
    },
    {
     "name": "stderr",
     "output_type": "stream",
     "text": [
      "2 Hugo symbols not mapped to Entrez gene ID ['CTN2', 'ENSG00000262903']\n",
      "3 Hugo symbols not mapped to Entrez gene ID ['ENSG00000221664', 'ENSG00000227175', 'R5-8SP6']\n"
     ]
    },
    {
     "name": "stdout",
     "output_type": "stream",
     "text": [
      "Warning: query IDs not mapped to any target IDs excluded: 3\n",
      "Warning: query IDs not mapped to any target IDs excluded: 18\n",
      "Warning: query IDs not mapped to any target IDs excluded: 5\n"
     ]
    },
    {
     "name": "stderr",
     "output_type": "stream",
     "text": [
      "18 Hugo symbols not mapped to Entrez gene ID ['AIM1', 'AHK2', 'CAC1F', 'CSGALCT1', 'CTN2', 'DH9', 'DJC17', 'DJC24', 'DK2', 'ENSG00000188474', 'ENSG00000204038', 'ENSG00000221664', 'ENSG00000223579', 'ENSG00000232675', 'ENSG00000252176', 'ENSG00000272625', 'FLJ27255', 'KC5']\n",
      "5 Hugo symbols not mapped to Entrez gene ID ['LOC100507033', 'DH7', 'ENSG00000222033', 'ENSG00000260628', 'ENSG00000272913']\n"
     ]
    },
    {
     "name": "stdout",
     "output_type": "stream",
     "text": [
      "Warning: query IDs not mapped to any target IDs excluded: 3\n",
      "Warning: query IDs not mapped to any target IDs excluded: 1\n"
     ]
    },
    {
     "name": "stderr",
     "output_type": "stream",
     "text": [
      "3 Hugo symbols not mapped to Entrez gene ID ['DH2', 'FLJ46361', 'RG2']\n",
      "1 Hugo symbols not mapped to Entrez gene ID ['ENSG00000257433']\n"
     ]
    },
    {
     "name": "stdout",
     "output_type": "stream",
     "text": [
      "Warning: query IDs not mapped to any target IDs excluded: 2\n",
      "Warning: query IDs not mapped to any target IDs excluded: 2\n"
     ]
    },
    {
     "name": "stderr",
     "output_type": "stream",
     "text": [
      "2 Hugo symbols not mapped to Entrez gene ID ['CNTP5', 'ENSG00000256616']\n",
      "2 Hugo symbols not mapped to Entrez gene ID ['DH8', 'ENSG00000221684']\n"
     ]
    },
    {
     "name": "stdout",
     "output_type": "stream",
     "text": [
      "Warning: query IDs not mapped to any target IDs excluded: 2\n",
      "Warning: query IDs not mapped to any target IDs excluded: 3\n"
     ]
    },
    {
     "name": "stderr",
     "output_type": "stream",
     "text": [
      "2 Hugo symbols not mapped to Entrez gene ID ['ENSG00000221704', 'ENSG00000258727']\n",
      "3 Hugo symbols not mapped to Entrez gene ID ['ENSG00000234978', 'ENSG00000269688', 'ENSG00000272231']\n",
      "3 Hugo symbols not mapped to Entrez gene ID ['CAC1S', 'ENSG00000215953', 'ENSG00000268032']\n"
     ]
    },
    {
     "name": "stdout",
     "output_type": "stream",
     "text": [
      "Warning: query IDs not mapped to any target IDs excluded: 3\n",
      "Warning: query IDs not mapped to any target IDs excluded: 5\n",
      "Warning: query IDs not mapped to any target IDs excluded: 2\n"
     ]
    },
    {
     "name": "stderr",
     "output_type": "stream",
     "text": [
      "5 Hugo symbols not mapped to Entrez gene ID ['CAC1C', 'DH14', 'ENSG00000185710', 'ENSG00000215941', 'RSEK']\n",
      "2 Hugo symbols not mapped to Entrez gene ID ['ENSG00000196096', 'ENSG00000244327']\n"
     ]
    },
    {
     "name": "stdout",
     "output_type": "stream",
     "text": [
      "Warning: query IDs not mapped to any target IDs excluded: 1\n",
      "Warning: query IDs not mapped to any target IDs excluded: 7\n"
     ]
    },
    {
     "name": "stderr",
     "output_type": "stream",
     "text": [
      "1 Hugo symbols not mapped to Entrez gene ID ['FLJ20444']\n",
      "7 Hugo symbols not mapped to Entrez gene ID ['ENSG00000215954', 'ENSG00000221280', 'ENSG00000222732', 'ENSG00000256249', 'ENSG00000265289', 'ENSG00000271959', 'MT-RNR2']\n"
     ]
    },
    {
     "name": "stdout",
     "output_type": "stream",
     "text": [
      "Warning: query IDs not mapped to any target IDs excluded: 1\n",
      "Warning: query IDs not mapped to any target IDs excluded: 3\n"
     ]
    },
    {
     "name": "stderr",
     "output_type": "stream",
     "text": [
      "1 Hugo symbols not mapped to Entrez gene ID ['ENSG00000259241']\n",
      "3 Hugo symbols not mapped to Entrez gene ID ['DH3', 'DH5', 'NMT3']\n"
     ]
    },
    {
     "name": "stdout",
     "output_type": "stream",
     "text": [
      "Warning: query IDs not mapped to any target IDs excluded: 4\n"
     ]
    },
    {
     "name": "stderr",
     "output_type": "stream",
     "text": [
      "4 Hugo symbols not mapped to Entrez gene ID ['CAC2D1', 'DH11', 'ENSG00000215398', 'ENSG00000234719']\n"
     ]
    },
    {
     "name": "stdout",
     "output_type": "stream",
     "text": [
      "Warning: query IDs not mapped to any target IDs excluded: 5\n",
      "Warning: query IDs not mapped to any target IDs excluded: 2\n",
      "Warning: query IDs not mapped to any target IDs excluded: 3\n"
     ]
    },
    {
     "name": "stderr",
     "output_type": "stream",
     "text": [
      "5 Hugo symbols not mapped to Entrez gene ID ['CAC1F', 'ENSG00000183154', 'ENSG00000233002', 'ENSG00000254990', 'ENSG00000259668']\n",
      "2 Hugo symbols not mapped to Entrez gene ID ['ENSG00000215941', 'IF17']\n",
      "3 Hugo symbols not mapped to Entrez gene ID ['CAC1G', 'ENSG00000203849', 'MT-RNR2']\n"
     ]
    },
    {
     "name": "stdout",
     "output_type": "stream",
     "text": [
      "Warning: query IDs not mapped to any target IDs excluded: 3\n",
      "Warning: query IDs not mapped to any target IDs excluded: 2\n",
      "Warning: query IDs not mapped to any target IDs excluded: 5\n"
     ]
    },
    {
     "name": "stderr",
     "output_type": "stream",
     "text": [
      "3 Hugo symbols not mapped to Entrez gene ID ['QARS', 'CAC1B', 'ENSG00000272231']\n",
      "2 Hugo symbols not mapped to Entrez gene ID ['MT-CO1', 'T10']\n",
      "5 Hugo symbols not mapped to Entrez gene ID ['ENSG00000205215', 'ENSG00000268081', 'ENSG00000269688', 'ENSG00000272485', 'MT-RNR2']\n"
     ]
    },
    {
     "name": "stdout",
     "output_type": "stream",
     "text": [
      "Warning: query IDs not mapped to any target IDs excluded: 1\n",
      "Warning: query IDs not mapped to any target IDs excluded: 3\n",
      "Warning: query IDs not mapped to any target IDs excluded: 2\n"
     ]
    },
    {
     "name": "stderr",
     "output_type": "stream",
     "text": [
      "1 Hugo symbols not mapped to Entrez gene ID ['ENSG00000225241']\n",
      "3 Hugo symbols not mapped to Entrez gene ID ['DH14', 'DI2', 'SERPI11']\n",
      "2"
     ]
    },
    {
     "name": "stdout",
     "output_type": "stream",
     "text": [
      "Warning: query IDs not mapped to any target IDs excluded: 6\n",
      "Warning: query IDs not mapped to any target IDs excluded: 1\n",
      "Warning: query IDs not mapped to any target IDs excluded: 3\n"
     ]
    },
    {
     "name": "stderr",
     "output_type": "stream",
     "text": [
      " Hugo symbols not mapped to Entrez gene ID ['ENSG00000232274', 'ENSG00000235999']\n",
      "6 Hugo symbols not mapped to Entrez gene ID ['DH12', 'ENSG00000216191', 'ENSG00000229481', 'ENSG00000259455', 'ENSG00000259966', 'I']\n",
      "1 Hugo symbols not mapped to Entrez gene ID ['ENSG00000245482']\n",
      "3 Hugo symbols not mapped to Entrez gene ID ['ENSG00000203849', 'MT-ND5', 'MT-RNR2']\n"
     ]
    },
    {
     "name": "stdout",
     "output_type": "stream",
     "text": [
      "Warning: query IDs not mapped to any target IDs excluded: 2\n",
      "Warning: query IDs not mapped to any target IDs excluded: 1\n"
     ]
    },
    {
     "name": "stderr",
     "output_type": "stream",
     "text": [
      "2 Hugo symbols not mapped to Entrez gene ID ['LOR', 'ENSG00000230850']\n",
      "1 Hugo symbols not mapped to Entrez gene ID ['MT-ND5']\n"
     ]
    },
    {
     "name": "stdout",
     "output_type": "stream",
     "text": [
      "Warning: query IDs not mapped to any target IDs excluded: 2\n",
      "Warning: query IDs not mapped to any target IDs excluded: 1\n",
      "Warning: query IDs not mapped to any target IDs excluded: 3\n"
     ]
    },
    {
     "name": "stderr",
     "output_type": "stream",
     "text": [
      "2 Hugo symbols not mapped to Entrez gene ID ['LOR', 'ENSG00000250992']\n",
      "1 Hugo symbols not mapped to Entrez gene ID ['MT-RNR2']\n",
      "3 Hugo symbols not mapped to Entrez gene ID ['CHR9', 'ENSG00000215958', 'ENSG00000237452']\n"
     ]
    },
    {
     "name": "stdout",
     "output_type": "stream",
     "text": [
      "Warning: query IDs not mapped to any target IDs excluded: 3\n",
      "Warning: query IDs not mapped to any target IDs excluded: 5\n"
     ]
    },
    {
     "name": "stderr",
     "output_type": "stream",
     "text": [
      "3 Hugo symbols not mapped to Entrez gene ID ['BP2', 'ENSG00000264151', 'ST6GALC3']\n",
      "5 Hugo symbols not mapped to Entrez gene ID ['LOC101930494', 'DH2', 'DJB3', 'KC5', 'ST6GALC4']\n"
     ]
    },
    {
     "name": "stdout",
     "output_type": "stream",
     "text": [
      "Warning: query IDs not mapped to any target IDs excluded: 4\n",
      "Warning: query IDs not mapped to any target IDs excluded: 6\n",
      "Warning: query IDs not mapped to any target IDs excluded: 3\n"
     ]
    },
    {
     "name": "stderr",
     "output_type": "stream",
     "text": [
      "4 Hugo symbols not mapped to Entrez gene ID ['CAC1F', 'ENSG00000254553', 'ENSG00000257743', 'ENSG00000271959']\n",
      "6 Hugo symbols not mapped to Entrez gene ID ['AZI1', 'ENSG00000221219', 'ENSG00000221307', 'ENSG00000250026', 'ENSG00000270726', 'MT-RNR1']\n",
      "3 Hugo symbols not mapped to Entrez gene ID ['ENSG00000221672', 'ENSG00000221704', 'R5-8SP6']\n"
     ]
    },
    {
     "name": "stdout",
     "output_type": "stream",
     "text": [
      "Warning: query IDs not mapped to any target IDs excluded: 4\n",
      "Warning: query IDs not mapped to any target IDs excluded:"
     ]
    },
    {
     "name": "stderr",
     "output_type": "stream",
     "text": [
      "4 Hugo symbols not mapped to Entrez gene ID ['ENSG00000222032', 'ENSG00000234277', 'ENSG00000251273', 'RSEL']\n"
     ]
    },
    {
     "name": "stdout",
     "output_type": "stream",
     "text": [
      " 7\n",
      "Warning: query IDs not mapped to any target IDs excluded: 2\n"
     ]
    },
    {
     "name": "stderr",
     "output_type": "stream",
     "text": [
      "7 Hugo symbols not mapped to Entrez gene ID ['CAC1H', 'CHR9', 'DJC8', 'ENSG00000187695', 'ENSG00000230333', 'ENSG00000257057', 'ENSG00000272231']\n",
      "2 Hugo symbols not mapped to Entrez gene ID ['ENSG00000215941', 'ENSG00000215976']\n",
      "6 Hugo symbols not mapped to Entrez gene ID ['ENSG00000205918', 'ENSG00000216054', 'ENSG00000226145', 'ENSG00000264576', 'GI2', 'MT-RNR1']\n"
     ]
    },
    {
     "name": "stdout",
     "output_type": "stream",
     "text": [
      "Warning: query IDs not mapped to any target IDs excluded: 6\n",
      "Warning: query IDs not mapped to any target IDs excluded: 3\n"
     ]
    },
    {
     "name": "stderr",
     "output_type": "stream",
     "text": [
      "3 Hugo symbols not mapped to Entrez gene ID ['DJB8-AS1', 'ENSG00000223063', 'ENSG00000267045']\n",
      "3 Hugo symbols not mapped to Entrez gene ID ['ENSG00000173213', 'ENSG00000237281', 'ENSG00000265002']\n"
     ]
    },
    {
     "name": "stdout",
     "output_type": "stream",
     "text": [
      "Warning: query IDs not mapped to any target IDs excluded: 3\n",
      "Warning: query IDs not mapped to any target IDs excluded: 1\n",
      "Warning: query IDs not mapped to any target IDs excluded: 2\n"
     ]
    },
    {
     "name": "stderr",
     "output_type": "stream",
     "text": [
      "1 Hugo symbols not mapped to Entrez gene ID ['ENSG00000203849']\n",
      "2 Hugo symbols not mapped to Entrez gene ID ['DH3', 'ENSG00000235704']\n",
      "3 Hugo symbols not mapped to Entrez gene ID ['ENSG00000211996', 'ENSG00000214581', 'ENSG00000234222']\n"
     ]
    },
    {
     "name": "stdout",
     "output_type": "stream",
     "text": [
      "Warning: query IDs not mapped to any target IDs excluded: 3\n",
      "Warning: query IDs not mapped to any target IDs excluded: 2\n",
      "Warning: query IDs not mapped to any target IDs excluded: 2\n"
     ]
    },
    {
     "name": "stderr",
     "output_type": "stream",
     "text": [
      "2 Hugo symbols not mapped to Entrez gene ID ['ENSG00000213132', 'ENSG00000234722']\n",
      "2 Hugo symbols not mapped to Entrez gene ID ['ENSG00000221415', 'ENSG00000270433']\n"
     ]
    },
    {
     "name": "stdout",
     "output_type": "stream",
     "text": [
      "Warning: query IDs not mapped to any target IDs excluded: 5\n",
      "Warning: query IDs not mapped to any target IDs excluded: 6\n"
     ]
    },
    {
     "name": "stderr",
     "output_type": "stream",
     "text": [
      "5 Hugo symbols not mapped to Entrez gene ID ['EB1BP2', 'ENSG00000223697', 'ENSG00000256616', 'ENSG00000270726', 'PLX2']\n",
      "6 Hugo symbols not mapped to Entrez gene ID ['AHK', 'DJC5B', 'ENSG00000221684', 'ENSG00000254553', 'MIR3118-6', 'MT-TF']\n"
     ]
    },
    {
     "name": "stdout",
     "output_type": "stream",
     "text": [
      "Warning: query IDs not mapped to any target IDs excluded: 1\n",
      "Warning: query IDs not mapped to any target IDs excluded: 1\n",
      "Warning: query IDs not mapped to any target IDs excluded:"
     ]
    },
    {
     "name": "stderr",
     "output_type": "stream",
     "text": [
      "1 Hugo symbols not mapped to Entrez gene ID ['ENSG00000244227']\n",
      "1 Hugo symbols not mapped to Entrez gene ID ['CNTP3']\n"
     ]
    },
    {
     "name": "stdout",
     "output_type": "stream",
     "text": [
      " 4\n"
     ]
    },
    {
     "name": "stderr",
     "output_type": "stream",
     "text": [
      "4 Hugo symbols not mapped to Entrez gene ID ['GT1', 'CAC1S', 'ENSG00000232274', 'ENSG00000253200']\n"
     ]
    },
    {
     "name": "stdout",
     "output_type": "stream",
     "text": [
      "Warning: query IDs not mapped to any target IDs excluded: 4\n",
      "Warning: query IDs not mapped to any target IDs excluded: 5\n"
     ]
    },
    {
     "name": "stderr",
     "output_type": "stream",
     "text": [
      "4 Hugo symbols not mapped to Entrez gene ID ['LOC101927958', 'DJC8', 'ENSG00000262112', 'KIAA1804']\n",
      "5 Hugo symbols not mapped to Entrez gene ID ['ENSG00000216089', 'ENSG00000237452', 'ENSG00000254592', 'ENSG00000257743', 'ENSG00000267660']\n"
     ]
    },
    {
     "name": "stdout",
     "output_type": "stream",
     "text": [
      "Warning: query IDs not mapped to any target IDs excluded: 2\n",
      "Warning: query IDs not mapped to any target IDs excluded: 1\n"
     ]
    },
    {
     "name": "stderr",
     "output_type": "stream",
     "text": [
      "2 Hugo symbols not mapped to Entrez gene ID ['ENSG00000264542', 'MT-CO1']\n",
      "1 Hugo symbols not mapped to Entrez gene ID ['MT-RNR2']\n"
     ]
    },
    {
     "name": "stdout",
     "output_type": "stream",
     "text": [
      "Warning: query IDs not mapped to any target IDs excluded: 6\n",
      "Warning: query IDs not mapped to any target IDs excluded: 2\n",
      "Warning: query IDs not mapped to any target IDs excluded: 3\n"
     ]
    },
    {
     "name": "stderr",
     "output_type": "stream",
     "text": [
      "6 Hugo symbols not mapped to Entrez gene ID ['CD97', 'DJB11', 'ENSG00000229852', 'ENSG00000271828', 'RSE10', 'V3']\n",
      "2 Hugo symbols not mapped to Entrez gene ID ['LOR', 'A40']\n",
      "3 Hugo symbols not mapped to Entrez gene ID ['LOC101928729', 'ENSG00000263120', 'ENSG00000267353']\n"
     ]
    },
    {
     "name": "stdout",
     "output_type": "stream",
     "text": [
      "Warning: query IDs not mapped to any target IDs excluded: 4\n",
      "Warning: query IDs not mapped to any target IDs excluded: 4\n"
     ]
    },
    {
     "name": "stderr",
     "output_type": "stream",
     "text": [
      "4 Hugo symbols not mapped to Entrez gene ID ['LOC101927091', 'ENSG00000167765', 'ENSG00000253629', 'ENSG00000263120']\n",
      "4 Hugo symbols not mapped to Entrez gene ID ['CNTP4', 'ENSG00000228506', 'PLX3', 'RSET2']\n"
     ]
    },
    {
     "name": "stdout",
     "output_type": "stream",
     "text": [
      "Warning: query IDs not mapped to any target IDs excluded: 3\n",
      "Warning: query IDs not mapped to any target IDs excluded: 3\n"
     ]
    },
    {
     "name": "stderr",
     "output_type": "stream",
     "text": [
      "3 Hugo symbols not mapped to Entrez gene ID ['CHR7', 'ENSG00000201913', 'ENSG00000227407']\n",
      "3 Hugo symbols not mapped to Entrez gene ID ['CTN3', 'DH5', 'ENSG00000263120']\n"
     ]
    },
    {
     "name": "stdout",
     "output_type": "stream",
     "text": [
      "Warning: query IDs not mapped to any target IDs excluded: 5\n",
      "Warning: query IDs not mapped to any target IDs excluded: 4\n"
     ]
    },
    {
     "name": "stderr",
     "output_type": "stream",
     "text": [
      "5 Hugo symbols not mapped to Entrez gene ID ['LOC100293748', 'ENSG00000161103', 'ENSG00000227175', 'ENSG00000233207', 'IFR1']\n",
      "4 Hugo symbols not mapped to Entrez gene ID ['ENSG00000215941', 'ENSG00000221664', 'ENSG00000231486', 'ENSG00000259479']\n"
     ]
    },
    {
     "name": "stdout",
     "output_type": "stream",
     "text": [
      "Warning: query IDs not mapped to any target IDs excluded: 2\n",
      "Warning: query IDs not mapped to any target IDs excluded: 6\n"
     ]
    },
    {
     "name": "stderr",
     "output_type": "stream",
     "text": [
      "2 Hugo symbols not mapped to Entrez gene ID ['ENSG00000272231', 'MT-CO1']\n",
      "6 Hugo symbols not mapped to Entrez gene ID ['AHK', 'ENSG00000228436', 'ENSG00000228532', 'ENSG00000229743', 'ENSG00000260628', 'ENSG00000260973']\n"
     ]
    },
    {
     "name": "stdout",
     "output_type": "stream",
     "text": [
      "Warning: query IDs not mapped to any target IDs excluded: 3\n",
      "Warning: query IDs not mapped to any target IDs excluded: 5\n"
     ]
    },
    {
     "name": "stderr",
     "output_type": "stream",
     "text": [
      "3 Hugo symbols not mapped to Entrez gene ID ['DH14', 'KC4', 'MT-RNR2']\n",
      "5 Hugo symbols not mapped to Entrez gene ID ['ENSG00000221319', 'ENSG00000237234', 'ENSG00000238411', 'ENSG00000268985', 'GLU']\n"
     ]
    },
    {
     "name": "stdout",
     "output_type": "stream",
     "text": [
      "Warning: query IDs not mapped to any target IDs excluded: 2\n",
      "Warning: query IDs not mapped to any target IDs excluded: 5\n",
      "Warning: query IDs not mapped to any target IDs excluded:"
     ]
    },
    {
     "name": "stderr",
     "output_type": "stream",
     "text": [
      "2 Hugo symbols not mapped to Entrez gene ID ['DH9', 'FLJ41200']\n",
      "5 Hugo symbols not mapped to Entrez gene ID ['DH5', 'ENSG00000223291', 'ENSG00000243175', 'ENSG00000261393', 'ENSG00000272885']\n"
     ]
    },
    {
     "name": "stdout",
     "output_type": "stream",
     "text": [
      " 4\n",
      "Warning: query IDs not mapped to any target IDs excluded: 4\n",
      "Warning: query IDs not mapped to any target IDs excluded: 2\n"
     ]
    },
    {
     "name": "stderr",
     "output_type": "stream",
     "text": [
      "4 Hugo symbols not mapped to Entrez gene ID ['ENSG00000196589', 'ENSG00000221235', 'ENSG00000254551', 'ENSG00000255200']\n",
      "4 Hugo symbols not mapped to Entrez gene ID ['CGB', 'ENSG00000239179', 'MT-RNR2', 'MT-TL1']\n",
      "2 Hugo symbols not mapped to Entrez gene ID ['LOR', 'CAC1A']\n"
     ]
    },
    {
     "name": "stdout",
     "output_type": "stream",
     "text": [
      "Warning: query IDs not mapped to any target IDs excluded: 5\n",
      "Warning: query IDs not mapped to any target IDs excluded: 2\n"
     ]
    },
    {
     "name": "stderr",
     "output_type": "stream",
     "text": [
      "5 Hugo symbols not mapped to Entrez gene ID ['GS', 'ENSG00000227175', 'ENSG00000232274', 'ENSG00000273000', 'ST6GALC5']\n",
      "2 Hugo symbols not mapped to Entrez gene ID ['DJC11', 'RSE2']\n"
     ]
    },
    {
     "name": "stdout",
     "output_type": "stream",
     "text": [
      "Warning: query IDs not mapped to any target IDs excluded: 6\n",
      "Warning: query IDs not mapped to any target IDs excluded: 5\n"
     ]
    },
    {
     "name": "stderr",
     "output_type": "stream",
     "text": [
      "6 Hugo symbols not mapped to Entrez gene ID ['DEC1', 'LOC101060604', 'DJC13', 'EH', 'ENSG00000249149', 'ENSG00000264057']\n",
      "5 Hugo symbols not mapped to Entrez gene ID ['ALAD2', 'CNTP3', 'ENSG00000215979', 'ENSG00000221659', 'ENSG00000259241']\n",
      "3 Hugo symbols not mapped to Entrez gene ID ['ENSG00000221118', 'ENSG00000226232', 'ENSG00000268301']\n"
     ]
    },
    {
     "name": "stdout",
     "output_type": "stream",
     "text": [
      "Warning: query IDs not mapped to any target IDs excluded: 3\n",
      "Warning: query IDs not mapped to any target IDs excluded: 4\n"
     ]
    },
    {
     "name": "stderr",
     "output_type": "stream",
     "text": [
      "4 Hugo symbols not mapped to Entrez gene ID ['DH3', 'ENSG00000221696', 'ENSG00000258944', 'ENSG00000268366']\n",
      "1 Hugo symbols not mapped to Entrez gene ID ['ENSG00000216194']\n"
     ]
    },
    {
     "name": "stdout",
     "output_type": "stream",
     "text": [
      "Warning: query IDs not mapped to any target IDs excluded: 1\n",
      "Warning: query IDs not mapped to any target IDs excluded: 8\n"
     ]
    },
    {
     "name": "stderr",
     "output_type": "stream",
     "text": [
      "8 Hugo symbols not mapped to Entrez gene ID ['GS', 'ENSG00000258364', 'ENSG00000260628', 'MT-RNR1', 'MT-RNR2', 'MT-TC', 'MT-TF', 'SP91']\n"
     ]
    },
    {
     "name": "stdout",
     "output_type": "stream",
     "text": [
      "Warning: query IDs not mapped to any target IDs excluded: 11\n",
      "Warning: query IDs not mapped to any target IDs excluded: 1\n"
     ]
    },
    {
     "name": "stderr",
     "output_type": "stream",
     "text": [
      "11 Hugo symbols not mapped to Entrez gene ID ['CTN2', 'DH8', 'ENSG00000180458', 'ENSG00000215933', 'ENSG00000221279', 'ENSG00000221317', 'ENSG00000221388', 'ENSG00000221664', 'ENSG00000251966', 'ENSG00000257395', 'ENSG00000259241']\n",
      "1 Hugo symbols not mapped to Entrez gene ID ['ENSG00000252677']\n"
     ]
    },
    {
     "name": "stdout",
     "output_type": "stream",
     "text": [
      "Warning: query IDs not mapped to any target IDs excluded: 2\n"
     ]
    },
    {
     "name": "stderr",
     "output_type": "stream",
     "text": [
      "2 Hugo symbols not mapped to Entrez gene ID ['ENSG00000221684', 'ENSG00000256616']\n"
     ]
    },
    {
     "name": "stdout",
     "output_type": "stream",
     "text": [
      "Warning: query IDs mapping to duplicated target IDs in mapping table: 2\n",
      "Warning: query IDs not mapped to any target IDs excluded: 35\n",
      "Warning: query IDs not mapped to any target IDs excluded: 9\n"
     ]
    },
    {
     "name": "stderr",
     "output_type": "stream",
     "text": [
      "35 Hugo symbols not mapped to Entrez gene ID ['AZI1', 'LOC101929232', 'LOC101929676', 'AHK', 'CAC1C-AS1', 'CNTP4', 'DH2', 'DH3', 'DH5', 'DH7', 'DH8', 'DH9', 'DJB11', 'DJB3', 'DJC1', 'ENSG00000161103', 'ENSG00000162947', 'ENSG00000204044', 'ENSG00000204957', 'ENSG00000205830', 'ENSG00000222961', 'ENSG00000228318', 'ENSG00000228829', 'ENSG00000229481', 'ENSG00000231933', 'ENSG00000239636', 'ENSG00000242590', 'ENSG00000249494', 'ENSG00000252868', 'ENSG00000257434', 'ENSG00000259069', 'ENSG00000263826', 'ENSG00000272373', 'SERPI4', 'SI1']\n",
      "9 Hugo symbols not mapped to Entrez gene ID ['AHK2', 'CAC1A', 'ENSG00000203849', 'ENSG00000215923', 'ENSG00000215954', 'ENSG00000224643', 'ENSG00000233825', 'ENSG00000258437', 'ENSG00000266999']\n"
     ]
    },
    {
     "name": "stdout",
     "output_type": "stream",
     "text": [
      "Warning: query IDs not mapped to any target IDs excluded: 4\n",
      "Warning: query IDs not mapped to any target IDs excluded: 8\n"
     ]
    },
    {
     "name": "stderr",
     "output_type": "stream",
     "text": [
      "4 Hugo symbols not mapped to Entrez gene ID ['AIM1', 'DH5', 'ENSG00000221244', 'ENSG00000251226']\n",
      "8 Hugo symbols not mapped to Entrez gene ID ['LOC101927648', 'LOC101930657', 'AHK2', 'CNTP2', 'ENSG00000215933', 'ENSG00000215953', 'ENSG00000259521', 'ENSG00000267865']\n"
     ]
    },
    {
     "name": "stdout",
     "output_type": "stream",
     "text": [
      "Warning: query IDs not mapped to any target IDs excluded: 4\n",
      "Warning: query IDs not mapped to any target IDs excluded: 5\n"
     ]
    },
    {
     "name": "stderr",
     "output_type": "stream",
     "text": [
      "4 Hugo symbols not mapped to Entrez gene ID ['LOC101928780', 'DJC13', 'ENSG00000248115', 'ENSG00000268032']\n",
      "5 Hugo symbols not mapped to Entrez gene ID ['CAC1A', 'CNTP3', 'ENSG00000221395', 'ENSG00000266885', 'ENSG00000267040']\n"
     ]
    },
    {
     "name": "stdout",
     "output_type": "stream",
     "text": [
      "Warning: query IDs not mapped to any target IDs excluded: 5\n",
      "Warning: query IDs not mapped to any target IDs excluded: 2\n"
     ]
    },
    {
     "name": "stderr",
     "output_type": "stream",
     "text": [
      "5 Hugo symbols not mapped to Entrez gene ID ['ENSG00000229047', 'ENSG00000238009', 'ENSG00000244151', 'ENSG00000255641', 'KC5']\n",
      "2 Hugo symbols not mapped to Entrez gene ID ['ENSG00000253334', 'LCN']\n"
     ]
    },
    {
     "name": "stdout",
     "output_type": "stream",
     "text": [
      "Warning: query IDs not mapped to any target IDs excluded: 8\n"
     ]
    },
    {
     "name": "stderr",
     "output_type": "stream",
     "text": [
      "8 Hugo symbols not mapped to Entrez gene ID ['DH8', 'ENSG00000215923', 'ENSG00000221672', 'ENSG00000222043', 'ENSG00000225946', 'ENSG00000226145', 'ENSG00000254967', 'PLX2']\n"
     ]
    },
    {
     "name": "stdout",
     "output_type": "stream",
     "text": [
      "Warning: query IDs not mapped to any target IDs excluded: 11\n"
     ]
    },
    {
     "name": "stderr",
     "output_type": "stream",
     "text": [
      "11 Hugo symbols not mapped to Entrez gene ID ['GL', 'DF5', 'ENSG00000184774', 'ENSG00000203849', 'ENSG00000216173', 'ENSG00000221279', 'ENSG00000221388', 'ENSG00000224516', 'ENSG00000251273', 'MT-TY', 'TSRE1']\n"
     ]
    },
    {
     "name": "stdout",
     "output_type": "stream",
     "text": [
      "Warning: query IDs mapping to duplicated target IDs in mapping table: 2\n",
      "Warning: query IDs not mapped to any target IDs excluded: 52\n",
      "Warning: query IDs not mapped to any target IDs excluded: 2\n",
      "Warning: query IDs not mapped to any target IDs excluded: 2\n"
     ]
    },
    {
     "name": "stderr",
     "output_type": "stream",
     "text": [
      "52 Hugo symbols not mapped to Entrez gene ID ['STRA13', 'LOC101929232', 'LOC101930008', 'LOC440157', 'CA', 'CAC1C-AS1', 'CAC1D', 'CAC1S', 'CAC2D1', 'CNTP2', 'CTN2', 'DH14', 'DH3', 'DH5', 'DH6', 'DH7', 'DJB13', 'DJB3', 'DJC13', 'EH', 'ENSG00000188477', 'ENSG00000203849', 'ENSG00000219926', 'ENSG00000221653', 'ENSG00000225261', 'ENSG00000227175', 'ENSG00000228980', 'ENSG00000231171', 'ENSG00000231512', 'ENSG00000232274', 'ENSG00000234810', 'ENSG00000234921', 'ENSG00000235772', 'ENSG00000235881', 'ENSG00000250026', 'ENSG00000251273', 'ENSG00000251429', 'ENSG00000258559', 'ENSG00000260874', 'ENSG00000261720', 'ENSG00000267575', 'ENSG00000269352', 'ENSG00000269495', 'ENSG00000269533', 'ENSG00000272084', 'ENSG00000273189', 'FLJ33360', 'MGC34034', 'PLX2', 'SERPI3', 'SP91', 'V3']\n",
      "2 Hugo symbols not mapped to Entrez gene ID ['LOR', 'ENSG00000221704']\n",
      "2 Hugo symbols not mapped to Entrez gene ID ['DH9', 'ENSG00000272231']\n"
     ]
    },
    {
     "name": "stdout",
     "output_type": "stream",
     "text": [
      "Warning: query IDs not mapped to any target IDs excluded: 3\n",
      "Warning: query IDs not mapped to any target IDs excluded: 3\n"
     ]
    },
    {
     "name": "stderr",
     "output_type": "stream",
     "text": [
      "3 Hugo symbols not mapped to Entrez gene ID ['ENSG00000216166', 'ENSG00000232274', 'ENSG00000261351']\n",
      "3 Hugo symbols not mapped to Entrez gene ID ['ENSG00000221741', 'ENSG00000222586', 'T10']\n"
     ]
    },
    {
     "name": "stdout",
     "output_type": "stream",
     "text": [
      "Warning: query IDs not mapped to any target IDs excluded: 5\n",
      "Warning: query IDs not mapped to any target IDs excluded: 3\n"
     ]
    },
    {
     "name": "stderr",
     "output_type": "stream",
     "text": [
      "5 Hugo symbols not mapped to Entrez gene ID ['LOC101928102', 'DH11', 'ENSG00000221011', 'ENSG00000234978', 'ENSG00000267260']\n",
      "3 Hugo symbols not mapped to Entrez gene ID ['DH11', 'DH6', 'ENSG00000253381']\n"
     ]
    },
    {
     "name": "stdout",
     "output_type": "stream",
     "text": [
      "Warning: query IDs not mapped to any target IDs excluded: 8\n"
     ]
    },
    {
     "name": "stderr",
     "output_type": "stream",
     "text": [
      "8 Hugo symbols not mapped to Entrez gene ID ['LOC101928921', 'DAF3', 'DJA3', 'ENSG00000204398', 'ENSG00000214105', 'ENSG00000229953', 'ENSG00000249430', 'MT-CO1']\n"
     ]
    },
    {
     "name": "stdout",
     "output_type": "stream",
     "text": [
      "Warning: query IDs not mapped to any target IDs excluded: 6\n"
     ]
    },
    {
     "name": "stderr",
     "output_type": "stream",
     "text": [
      "6 Hugo symbols not mapped to Entrez gene ID ['LOC100507033', 'ENSG00000267219', 'ENSG00000269939', 'ENSG00000273433', 'MT-ATP8', 'PEPLD']\n"
     ]
    },
    {
     "name": "stdout",
     "output_type": "stream",
     "text": [
      "Warning: query IDs not mapped to any target IDs excluded: 9\n",
      "Warning: query IDs not mapped to any target IDs excluded: 1\n"
     ]
    },
    {
     "name": "stderr",
     "output_type": "stream",
     "text": [
      "9 Hugo symbols not mapped to Entrez gene ID ['LOC101929948', 'ALAD2', 'CAC1B', 'CAC1F', 'DH11', 'DH6', 'DH9', 'ENSG00000223164', 'IF14']\n",
      "1 Hugo symbols not mapped to Entrez gene ID ['ENSG00000262712']\n"
     ]
    },
    {
     "name": "stdout",
     "output_type": "stream",
     "text": [
      "Warning: query IDs not mapped to any target IDs excluded: 7\n",
      "Warning: query IDs not mapped to any target IDs excluded: 2\n"
     ]
    },
    {
     "name": "stderr",
     "output_type": "stream",
     "text": [
      "7 Hugo symbols not mapped to Entrez gene ID ['CAC1C', 'DH8', 'ENSG00000211510', 'ENSG00000215941', 'ENSG00000221388', 'IF1', 'KC3']\n",
      "2 Hugo symbols not mapped to Entrez gene ID ['CAC1H', 'ENSG00000188971']\n"
     ]
    },
    {
     "name": "stdout",
     "output_type": "stream",
     "text": [
      "Warning: query IDs not mapped to any target IDs excluded: 8\n",
      "Warning: query IDs not mapped to any target IDs excluded: 2\n",
      "Warning: query IDs not mapped to any target IDs excluded: 1\n"
     ]
    },
    {
     "name": "stderr",
     "output_type": "stream",
     "text": [
      "8 Hugo symbols not mapped to Entrez gene ID ['LOC100128374', 'AHK2', 'CAC1B', 'CAC1I', 'ENSG00000226145', 'ENSG00000242288', 'ENSG00000254967', 'FLJ44006']\n",
      "2 Hugo symbols not mapped to Entrez gene ID ['DH17', 'ENSG00000265002']\n",
      "1 Hugo symbols not mapped to Entrez gene ID ['ENSG00000216089']\n"
     ]
    },
    {
     "name": "stdout",
     "output_type": "stream",
     "text": [
      "Warning: query IDs not mapped to any target IDs excluded: 2\n",
      "Warning: query IDs not mapped to any target IDs excluded: 2\n"
     ]
    },
    {
     "name": "stderr",
     "output_type": "stream",
     "text": [
      "2 Hugo symbols not mapped to Entrez gene ID ['ENSG00000215941', 'ENSG00000265865']\n",
      "2 Hugo symbols not mapped to Entrez gene ID ['ENSG00000267075', 'MT-ND5']\n"
     ]
    },
    {
     "name": "stdout",
     "output_type": "stream",
     "text": [
      "Warning: query IDs not mapped to any target IDs excluded: 3\n",
      "Warning: query IDs not mapped to any target IDs excluded: 3\n",
      "Warning: query IDs not mapped to any target IDs excluded: 3\n"
     ]
    },
    {
     "name": "stderr",
     "output_type": "stream",
     "text": [
      "3 Hugo symbols not mapped to Entrez gene ID ['101928757', 'ENSG00000216073', 'ENSG00000221281']\n",
      "3 Hugo symbols not mapped to Entrez gene ID ['ENSG00000234613', 'ENSG00000237452', 'SERPI10']\n",
      "3 Hugo symbols not mapped to Entrez gene ID ['CAC1A', 'CAC1C', 'ENSG00000200485']\n"
     ]
    },
    {
     "name": "stdout",
     "output_type": "stream",
     "text": [
      "Warning: query IDs not mapped to any target IDs excluded: 9\n",
      "Warning: query IDs not mapped to any target IDs excluded: 5\n"
     ]
    },
    {
     "name": "stderr",
     "output_type": "stream",
     "text": [
      "9 Hugo symbols not mapped to Entrez gene ID ['TCEB3CL', 'CAC1G', 'DH8', 'DJC22', 'ENSG00000221104', 'ENSG00000226738', 'ENSG00000242111', 'ENSG00000259037', 'KC1']\n",
      "5 Hugo symbols not mapped to Entrez gene ID ['LOC101929232', 'CNTP2', 'DJC13', 'ENSG00000236432', 'ENSG00000264164']\n"
     ]
    },
    {
     "name": "stdout",
     "output_type": "stream",
     "text": [
      "Warning: query IDs not mapped to any target IDs excluded: 4\n",
      "Warning: query IDs not mapped to any target IDs excluded: 3\n"
     ]
    },
    {
     "name": "stderr",
     "output_type": "stream",
     "text": [
      "4 Hugo symbols not mapped to Entrez gene ID ['LOR', 'DH17', 'ENSG00000200294', 'ENSG00000221732']\n",
      "3 Hugo symbols not mapped to Entrez gene ID ['LOC101929847', 'DH10', 'ENSG00000221388']\n"
     ]
    },
    {
     "name": "stdout",
     "output_type": "stream",
     "text": [
      "Warning: query IDs not mapped to any target IDs excluded: 2\n",
      "Warning: query IDs not mapped to any target IDs excluded: 3\n"
     ]
    },
    {
     "name": "stderr",
     "output_type": "stream",
     "text": [
      "2 Hugo symbols not mapped to Entrez gene ID ['ENSG00000216102', 'R5-8SP6']\n",
      "3 Hugo symbols not mapped to Entrez gene ID ['LOC100996870', '101928757', 'DH10']\n",
      "2 Hugo symbols not mapped to Entrez gene ID ['ENSG00000224505', 'PLX2']\n"
     ]
    },
    {
     "name": "stdout",
     "output_type": "stream",
     "text": [
      "Warning: query IDs not mapped to any target IDs excluded: 2\n",
      "Warning: query IDs not mapped to any target IDs excluded: 4\n"
     ]
    },
    {
     "name": "stderr",
     "output_type": "stream",
     "text": [
      "4 Hugo symbols not mapped to Entrez gene ID ['SARS', 'ENSG00000226113', 'ENSG00000266060', 'MT-RNR1']\n",
      "5 Hugo symbols not mapped to Entrez gene ID ['SARS', 'CAC1B', 'DH5', 'ENSG00000255487', 'GZ']\n"
     ]
    },
    {
     "name": "stdout",
     "output_type": "stream",
     "text": [
      "Warning: query IDs not mapped to any target IDs excluded: 5\n",
      "Warning: query IDs not mapped to any target IDs excluded: 4\n"
     ]
    },
    {
     "name": "stderr",
     "output_type": "stream",
     "text": [
      "4 Hugo symbols not mapped to Entrez gene ID ['ENSG00000212768', 'ENSG00000221121', 'ENSG00000233836', 'R5-8SP6']\n",
      "6 Hugo symbols not mapped to Entrez gene ID ['DH17-AS1', 'DH2', 'ENSG00000205018', 'ENSG00000215941', 'ENSG00000258661', 'ENSG00000264222']\n"
     ]
    },
    {
     "name": "stdout",
     "output_type": "stream",
     "text": [
      "Warning: query IDs not mapped to any target IDs excluded: 6\n",
      "Warning: query IDs not mapped to any target IDs excluded: 3\n"
     ]
    },
    {
     "name": "stderr",
     "output_type": "stream",
     "text": [
      "3 Hugo symbols not mapped to Entrez gene ID ['CHR4', 'ENSG00000226668', 'ENSG00000261546']\n",
      "2 Hugo symbols not mapped to Entrez gene ID ['ENSG00000214397', 'FLJ46361']\n"
     ]
    },
    {
     "name": "stdout",
     "output_type": "stream",
     "text": [
      "Warning: query IDs not mapped to any target IDs excluded: 2\n",
      "Warning: query IDs not mapped to any target IDs excluded: 5\n"
     ]
    },
    {
     "name": "stderr",
     "output_type": "stream",
     "text": [
      "5 Hugo symbols not mapped to Entrez gene ID ['APC1', 'ENSG00000216191', 'ENSG00000228302', 'MT-CO1', 'MT-TS2']\n",
      "1 Hugo symbols not mapped to Entrez gene ID ['ENSG00000215954']\n"
     ]
    },
    {
     "name": "stdout",
     "output_type": "stream",
     "text": [
      "Warning: query IDs not mapped to any target IDs excluded: 1\n",
      "Warning: query IDs not mapped to any target IDs excluded: 2\n"
     ]
    },
    {
     "name": "stderr",
     "output_type": "stream",
     "text": [
      "2 Hugo symbols not mapped to Entrez gene ID ['CAC1D', 'ENSG00000215958']\n",
      "1 Hugo symbols not mapped to Entrez gene ID ['ENSG00000258727']\n"
     ]
    },
    {
     "name": "stdout",
     "output_type": "stream",
     "text": [
      "Warning: query IDs not mapped to any target IDs excluded: 1\n",
      "Warning: query IDs not mapped to any target IDs excluded: 2\n"
     ]
    },
    {
     "name": "stderr",
     "output_type": "stream",
     "text": [
      "2 Hugo symbols not mapped to Entrez gene ID ['ENSG00000227719', 'ENSG00000264299']\n",
      "4 Hugo symbols not mapped to Entrez gene ID ['CAC2D4', 'ENSG00000235852', 'ENSG00000236911', 'MT-RNR1']\n"
     ]
    },
    {
     "name": "stdout",
     "output_type": "stream",
     "text": [
      "Warning: query IDs not mapped to any target IDs excluded: 4\n",
      "Warning: query IDs not mapped to any target IDs excluded: 9\n"
     ]
    },
    {
     "name": "stderr",
     "output_type": "stream",
     "text": [
      "9 Hugo symbols not mapped to Entrez gene ID ['ADC', 'CTN2', 'ENSG00000242474', 'ENSG00000254665', 'ENSG00000255384', 'ENSG00000260213', 'ENSG00000267387', 'FLJ22184', 'TIG']\n",
      "2 Hugo symbols not mapped to Entrez gene ID ['DH5', 'ENSG00000273199']\n"
     ]
    },
    {
     "name": "stdout",
     "output_type": "stream",
     "text": [
      "Warning: query IDs not mapped to any target IDs excluded: 2\n",
      "Warning: query IDs not mapped to any target IDs excluded: 7\n",
      "Warning: query IDs not mapped to any target IDs excluded: 1\n"
     ]
    },
    {
     "name": "stderr",
     "output_type": "stream",
     "text": [
      "7 Hugo symbols not mapped to Entrez gene ID ['CAC1E', 'ENSG00000205745', 'ENSG00000221280', 'ENSG00000259455', 'ENSG00000269939', 'FLJ26850', 'SI3']\n",
      "1 Hugo symbols not mapped to Entrez gene ID ['ENSG00000257434']\n"
     ]
    },
    {
     "name": "stdout",
     "output_type": "stream",
     "text": [
      "Warning: query IDs not mapped to any target IDs excluded: 8\n",
      "Warning: query IDs not mapped to any target IDs excluded: 5\n"
     ]
    },
    {
     "name": "stderr",
     "output_type": "stream",
     "text": [
      "8 Hugo symbols not mapped to Entrez gene ID ['AZI1', 'ENSG00000205821', 'ENSG00000221136', 'ENSG00000222717', 'ENSG00000261616', 'ENSG00000270726', 'MT-CO1', 'MT-ND5']\n",
      "5 Hugo symbols not mapped to Entrez gene ID ['LOC100128374', 'DH14', 'ENSG00000215941', 'ENSG00000236295', 'ENSG00000272356']\n"
     ]
    },
    {
     "name": "stdout",
     "output_type": "stream",
     "text": [
      "Warning: query IDs not mapped to any target IDs excluded: 5\n",
      "Warning: query IDs not mapped to any target IDs excluded: 3\n"
     ]
    },
    {
     "name": "stderr",
     "output_type": "stream",
     "text": [
      "5 Hugo symbols not mapped to Entrez gene ID ['CNTP4', 'ENSG00000227082', 'ENSG00000259605', 'ENSG00000268573', 'MT-CO1']\n",
      "3 Hugo symbols not mapped to Entrez gene ID ['FAM21A', 'ENSG00000261720', 'ENSG00000267749']\n"
     ]
    },
    {
     "name": "stdout",
     "output_type": "stream",
     "text": [
      "Warning: query IDs not mapped to any target IDs excluded: 2\n",
      "Warning: query IDs not mapped to any target IDs excluded: 5\n"
     ]
    },
    {
     "name": "stderr",
     "output_type": "stream",
     "text": [
      "2 Hugo symbols not mapped to Entrez gene ID ['AHK', 'AHK2']\n",
      "5 Hugo symbols not mapped to Entrez gene ID ['ENSG00000221810', 'ENSG00000259455', 'ENSG00000269890', 'ENSG00000273312', 'KIAA1045']\n"
     ]
    },
    {
     "name": "stdout",
     "output_type": "stream",
     "text": [
      "Warning: query IDs not mapped to any target IDs excluded: 2\n",
      "Warning: query IDs not mapped to any target IDs excluded: 2\n"
     ]
    },
    {
     "name": "stderr",
     "output_type": "stream",
     "text": [
      "2 Hugo symbols not mapped to Entrez gene ID ['ENSG00000236233', 'ENSG00000270012']\n",
      "2 Hugo symbols not mapped to Entrez gene ID ['ENSG00000221492', 'ENSG00000244227']\n"
     ]
    },
    {
     "name": "stdout",
     "output_type": "stream",
     "text": [
      "Warning: query IDs not mapped to any target IDs excluded: 3\n"
     ]
    },
    {
     "name": "stderr",
     "output_type": "stream",
     "text": [
      "3 Hugo symbols not mapped to Entrez gene ID ['ENSG00000259241', 'MT-CO1', 'MT-ND5']\n"
     ]
    },
    {
     "name": "stdout",
     "output_type": "stream",
     "text": [
      "Warning: query IDs not mapped to any target IDs excluded: 2\n",
      "Warning: query IDs not mapped to any target IDs excluded: 3\n"
     ]
    },
    {
     "name": "stderr",
     "output_type": "stream",
     "text": [
      "2 Hugo symbols not mapped to Entrez gene ID ['ENSG00000221684', 'P1L3']\n",
      "3 Hugo symbols not mapped to Entrez gene ID ['DJC13', 'ENSG00000221810', 'ENSG00000273192']\n"
     ]
    },
    {
     "name": "stdout",
     "output_type": "stream",
     "text": [
      "Warning: query IDs not mapped to any target IDs excluded: 1\n",
      "Warning: query IDs not mapped to any target IDs excluded: 5\n"
     ]
    },
    {
     "name": "stderr",
     "output_type": "stream",
     "text": [
      "1 Hugo symbols not mapped to Entrez gene ID ['APC1']\n",
      "5 Hugo symbols not mapped to Entrez gene ID ['AHK', 'CHR4', 'ENSG00000221186', 'ENSG00000235837', 'ENSG00000270540']\n"
     ]
    },
    {
     "name": "stdout",
     "output_type": "stream",
     "text": [
      "Warning: query IDs not mapped to any target IDs excluded: 5\n",
      "Warning: query IDs not mapped to any target IDs excluded: 4\n"
     ]
    },
    {
     "name": "stderr",
     "output_type": "stream",
     "text": [
      "5 Hugo symbols not mapped to Entrez gene ID ['DJA4', 'EM', 'ENSG00000268673', 'PSB', 'SP91']\n",
      "4 Hugo symbols not mapped to Entrez gene ID ['LOC440157', 'DJB2', 'ENSG00000215933', 'ENSG00000221474']\n"
     ]
    },
    {
     "name": "stdout",
     "output_type": "stream",
     "text": [
      "Warning: query IDs not mapped to any target IDs excluded: 4\n"
     ]
    },
    {
     "name": "stderr",
     "output_type": "stream",
     "text": [
      "4 Hugo symbols not mapped to Entrez gene ID ['AZI1', 'DH2', 'DI2', 'ENSG00000268366']\n"
     ]
    },
    {
     "name": "stdout",
     "output_type": "stream",
     "text": [
      "Warning: query IDs not mapped to any target IDs excluded: 6\n",
      "Warning: query IDs not mapped to any target IDs excluded: 4\n"
     ]
    },
    {
     "name": "stderr",
     "output_type": "stream",
     "text": [
      "6 Hugo symbols not mapped to Entrez gene ID ['ENSG00000173213', 'ENSG00000215067', 'ENSG00000215933', 'ENSG00000221096', 'ENSG00000238737', 'ENSG00000251226']\n",
      "4 Hugo symbols not mapped to Entrez gene ID ['AHK', 'ENSG00000206195', 'ENSG00000225411', 'ENSG00000273312']\n"
     ]
    },
    {
     "name": "stdout",
     "output_type": "stream",
     "text": [
      "Warning: query IDs not mapped to any target IDs excluded: 3\n",
      "Warning: query IDs not mapped to any target IDs excluded: 4\n",
      "Warning: query IDs not mapped to any target IDs excluded: 4\n"
     ]
    },
    {
     "name": "stderr",
     "output_type": "stream",
     "text": [
      "3 Hugo symbols not mapped to Entrez gene ID ['DH14', 'ENSG00000266490', 'ENSG00000269988']\n",
      "4 Hugo symbols not mapped to Entrez gene ID ['ENSG00000184566', 'ENSG00000216154', 'ENSG00000230615', 'ENSG00000270726']\n",
      "4 Hugo symbols not mapped to Entrez gene ID ['LOC100293748', 'ENSG00000216113', 'ENSG00000221684', 'MT-RNR2']\n"
     ]
    },
    {
     "name": "stdout",
     "output_type": "stream",
     "text": [
      "Warning: query IDs not mapped to any target IDs excluded: 3\n",
      "Warning: query IDs not mapped to any target IDs excluded: 5\n"
     ]
    },
    {
     "name": "stderr",
     "output_type": "stream",
     "text": [
      "3 Hugo symbols not mapped to Entrez gene ID ['LOC101928703', 'ENSG00000216020', 'ENSG00000221279']\n",
      "5 Hugo symbols not mapped to Entrez gene ID ['DH9', 'ENSG00000221281', 'ENSG00000265002', 'ENSG00000268845', 'LCN']\n"
     ]
    },
    {
     "name": "stdout",
     "output_type": "stream",
     "text": [
      "Warning: query IDs not mapped to any target IDs excluded: 4\n",
      "Warning: query IDs not mapped to any target IDs excluded: 3\n",
      "Warning: query IDs not mapped to any target IDs excluded: 1\n"
     ]
    },
    {
     "name": "stderr",
     "output_type": "stream",
     "text": [
      "4 Hugo symbols not mapped to Entrez gene ID ['ENSG00000179253', 'ENSG00000232274', 'ENSG00000257434', 'ENSG00000267601']\n",
      "3 Hugo symbols not mapped to Entrez gene ID ['CSGALCT1', 'DJB3', 'RG2']\n",
      "1 Hugo symbols not mapped to Entrez gene ID ['ENSG00000258704']\n"
     ]
    },
    {
     "name": "stdout",
     "output_type": "stream",
     "text": [
      "Warning: query IDs not mapped to any target IDs excluded: 3\n",
      "Warning: query IDs not mapped to any target IDs excluded: 4\n"
     ]
    },
    {
     "name": "stderr",
     "output_type": "stream",
     "text": [
      "3 Hugo symbols not mapped to Entrez gene ID ['DH14', 'ENSG00000249237', 'FLJ40448']\n",
      "4 Hugo symbols not mapped to Entrez gene ID ['DH17', 'ENSG00000215958', 'ENSG00000237357', 'MT-RNR2']\n"
     ]
    },
    {
     "name": "stdout",
     "output_type": "stream",
     "text": [
      "Warning: query IDs not mapped to any target IDs excluded: 1\n",
      "Warning: query IDs not mapped to any target IDs excluded: 5\n",
      "Warning: query IDs not mapped to any target IDs excluded: 1\n"
     ]
    },
    {
     "name": "stderr",
     "output_type": "stream",
     "text": [
      "1 Hugo symbols not mapped to Entrez gene ID ['ENSG00000271894']\n",
      "5 Hugo symbols not mapped to Entrez gene ID ['LOC101929847', 'ENSG00000205746', 'ENSG00000216113', 'ENSG00000269243', 'MT-CO1']\n",
      "1 Hugo symbols not mapped to Entrez gene ID ['CHR4']\n"
     ]
    },
    {
     "name": "stdout",
     "output_type": "stream",
     "text": [
      "Warning: query IDs not mapped to any target IDs excluded: 3\n",
      "Warning: query IDs not mapped to any target IDs excluded: 5\n"
     ]
    },
    {
     "name": "stderr",
     "output_type": "stream",
     "text": [
      "3 Hugo symbols not mapped to Entrez gene ID ['ENSG00000221734', 'ENSG00000255622', 'ENSG00000261200']\n",
      "5 Hugo symbols not mapped to Entrez gene ID ['CNTP5', 'DH2', 'ENSG00000161103', 'ENSG00000221544', 'ENSG00000269690']\n"
     ]
    },
    {
     "name": "stdout",
     "output_type": "stream",
     "text": [
      "Warning: query IDs not mapped to any target IDs excluded: 8\n",
      "Warning: query IDs not mapped to any target IDs excluded: 3\n"
     ]
    },
    {
     "name": "stderr",
     "output_type": "stream",
     "text": [
      "8 Hugo symbols not mapped to Entrez gene ID ['TCEB3C', 'ENSG00000171658', 'ENSG00000212939', 'ENSG00000215527', 'ENSG00000249149', 'ENSG00000257769', 'ENSG00000257931', 'ENSG00000261759']\n",
      "3 Hugo symbols not mapped to Entrez gene ID ['ENSG00000216020', 'ENSG00000226145', 'ENSG00000258364']\n"
     ]
    },
    {
     "name": "stdout",
     "output_type": "stream",
     "text": [
      "Warning: query IDs not mapped to any target IDs excluded: 93\n",
      "Warning: query IDs not mapped to any target IDs excluded: 3\n"
     ]
    },
    {
     "name": "stderr",
     "output_type": "stream",
     "text": [
      "93 Hugo symbols not mapped to Entrez gene ID ['ADC', 'PA', 'PSA', 'QARS', 'STRA13', 'LOC100996735', 'LOC101929518', '101928757', 'AHK', 'AHK2', 'BACH1-IT1', 'CA', 'CAC1A', 'CAC1E', 'CAC1I', 'CAC1S', 'CAC2D3', 'CHR9', 'CTN3', 'DF5', 'DH10', 'DH11', 'DH17', 'DH5', 'DH8', 'DH9', 'DJB8', 'DSE1L2', 'EB1BP2', 'ENSG00000166104', 'ENSG00000173213', 'ENSG00000177553', 'ENSG00000182873', 'ENSG00000184566', 'ENSG00000187812', 'ENSG00000204038', 'ENSG00000205018', 'ENSG00000207187', 'ENSG00000215023', 'ENSG00000221335', 'ENSG00000224113', 'ENSG00000224631', 'ENSG00000225891', 'ENSG00000228998', 'ENSG00000229839', 'ENSG00000230578', 'ENSG00000230615', 'ENSG00000231437', 'ENSG00000234232', 'ENSG00000234978', 'ENSG00000235881', 'ENSG00000238129', 'ENSG00000239674', 'ENSG00000240401', 'ENSG00000247121', 'ENSG00000249502', 'ENSG00000250046', 'ENSG00000254551', 'ENSG00000254571', 'ENSG00000254815', 'ENSG00000254844', 'ENSG00000255200', 'ENSG00000256209', 'ENSG00000257494', 'ENSG00000258017', 'ENSG00000259426', 'ENSG00000260973', 'ENSG00000261709', 'ENSG00000262732', 'ENSG00000263738', 'ENSG00000263887', 'ENSG00000265899', 'ENSG00000267688', 'ENSG00000268650', 'ENSG00000268864', 'ENSG00000269636', 'ENSG00000269888', 'ENSG00000272017', 'ENSG00000272849', 'ENSG00000273106', 'FLJ27255', 'KC4', 'KP1', 'NIPSP3B', 'PLX4', 'RSE10', 'SERPI7', 'SP29', 'TIG', 'TIGL1', 'TRU1AP', 'TTLL10-AS1', 'V3']\n",
      "3 Hugo symbols not mapped to Entrez gene ID ['DH9', 'ENSG00000226145', 'ENSG00000272231']\n"
     ]
    },
    {
     "name": "stdout",
     "output_type": "stream",
     "text": [
      "Warning: query IDs not mapped to any target IDs excluded: 4\n",
      "Warning: query IDs not mapped to any target IDs excluded: 6\n"
     ]
    },
    {
     "name": "stderr",
     "output_type": "stream",
     "text": [
      "4 Hugo symbols not mapped to Entrez gene ID ['LOC101928921', 'DH6', 'ENSG00000221145', 'ENSG00000248115']\n",
      "6 Hugo symbols not mapped to Entrez gene ID ['DH5', 'ENSG00000220256', 'ENSG00000229481', 'ENSG00000244227', 'ENSG00000260158', 'ENSG00000267260']\n"
     ]
    },
    {
     "name": "stdout",
     "output_type": "stream",
     "text": [
      "Warning: query IDs not mapped to any target IDs excluded: 5\n",
      "Warning: query IDs not mapped to any target IDs excluded: 6\n"
     ]
    },
    {
     "name": "stderr",
     "output_type": "stream",
     "text": [
      "5 Hugo symbols not mapped to Entrez gene ID ['ENSG00000215972', 'ENSG00000227082', 'ENSG00000250186', 'ENSG00000273433', 'IF16']\n",
      "6 Hugo symbols not mapped to Entrez gene ID ['ENSG00000216191', 'ENSG00000218416', 'ENSG00000221280', 'ENSG00000233863', 'ENSG00000260411', 'PLX2']\n"
     ]
    },
    {
     "name": "stdout",
     "output_type": "stream",
     "text": [
      "Warning: query IDs not mapped to any target IDs excluded: 12\n"
     ]
    },
    {
     "name": "stderr",
     "output_type": "stream",
     "text": [
      "12 Hugo symbols not mapped to Entrez gene ID ['LOC101929847', 'AHK', 'CSPG4P8', 'ENSG00000215941', 'ENSG00000221672', 'ENSG00000223200', 'ENSG00000228463', 'ENSG00000236233', 'ENSG00000261238', 'ENSG00000266535', 'ENSG00000268889', 'V3']\n"
     ]
    },
    {
     "name": "stdout",
     "output_type": "stream",
     "text": [
      "Warning: query IDs not mapped to any target IDs excluded: 25\n"
     ]
    },
    {
     "name": "stderr",
     "output_type": "stream",
     "text": [
      "25 Hugo symbols not mapped to Entrez gene ID ['EFTUD1', 'GS', 'CAC1E', 'CNTP5', 'CTN1', 'DAF1', 'DH17', 'DJC10', 'ENSG00000187812', 'ENSG00000203496', 'ENSG00000203849', 'ENSG00000223804', 'ENSG00000233487', 'ENSG00000237265', 'ENSG00000249509', 'ENSG00000258908', 'ENSG00000261759', 'ENSG00000265002', 'ENSG00000266817', 'ENSG00000267561', 'ENSG00000269895', 'ENSG00000271959', 'FLJ46361', 'SERPI1', 'ST6GALC1']\n"
     ]
    },
    {
     "name": "stdout",
     "output_type": "stream",
     "text": [
      "Warning: query IDs not mapped to any target IDs excluded: 21\n",
      "Warning: query IDs not mapped to any target IDs excluded: 2\n"
     ]
    },
    {
     "name": "stderr",
     "output_type": "stream",
     "text": [
      "21 Hugo symbols not mapped to Entrez gene ID ['CAC1S', 'DH10', 'DH17', 'DH6', 'DH7', 'ENSG00000188477', 'ENSG00000189275', 'ENSG00000205663', 'ENSG00000215958', 'ENSG00000221137', 'ENSG00000221379', 'ENSG00000234722', 'ENSG00000235772', 'ENSG00000237265', 'ENSG00000256982', 'ENSG00000257057', 'ENSG00000257829', 'ENSG00000260628', 'ENSG00000267943', 'KP2', 'RSEL']\n",
      "2 Hugo symbols not mapped to Entrez gene ID ['DH7', 'RSE8']\n"
     ]
    },
    {
     "name": "stdout",
     "output_type": "stream",
     "text": [
      "Warning: query IDs not mapped to any target IDs excluded: 3\n",
      "Warning: query IDs not mapped to any target IDs excluded: 6\n"
     ]
    },
    {
     "name": "stderr",
     "output_type": "stream",
     "text": [
      "3 Hugo symbols not mapped to Entrez gene ID ['ENSG00000212952', 'ENSG00000221591', 'FLJ40448']\n",
      "6 Hugo symbols not mapped to Entrez gene ID ['CAC1H', 'DH8', 'ENSG00000204398', 'ENSG00000244227', 'ENSG00000258973', 'ENSG00000266008']\n"
     ]
    },
    {
     "name": "stdout",
     "output_type": "stream",
     "text": [
      "Warning: query IDs not mapped to any target IDs excluded: 5\n",
      "Warning: query IDs not mapped to any target IDs excluded: 3\n"
     ]
    },
    {
     "name": "stderr",
     "output_type": "stream",
     "text": [
      "5 Hugo symbols not mapped to Entrez gene ID ['ENSG00000206567', 'ENSG00000221280', 'ENSG00000226716', 'ENSG00000265803', 'ENSG00000268823']\n",
      "3 Hugo symbols not mapped to Entrez gene ID ['ENSG00000214614', 'MT-CO1', 'MT-RNR2']\n"
     ]
    },
    {
     "name": "stdout",
     "output_type": "stream",
     "text": [
      "Warning: query IDs not mapped to any target IDs excluded: 1\n",
      "Warning: query IDs not mapped to any target IDs excluded: 2\n"
     ]
    },
    {
     "name": "stderr",
     "output_type": "stream",
     "text": [
      "1 Hugo symbols not mapped to Entrez gene ID ['ENSG00000234978']\n",
      "2 Hugo symbols not mapped to Entrez gene ID ['LOC101928787', 'MT-RNR1']\n"
     ]
    },
    {
     "name": "stdout",
     "output_type": "stream",
     "text": [
      "Warning: query IDs not mapped to any target IDs excluded: 3\n",
      "Warning: query IDs not mapped to any target IDs excluded: 2\n"
     ]
    },
    {
     "name": "stderr",
     "output_type": "stream",
     "text": [
      "3 Hugo symbols not mapped to Entrez gene ID ['ENSG00000221664', 'ENSG00000239012', 'MT-ATP6']\n",
      "2 Hugo symbols not mapped to Entrez gene ID ['ENSG00000249275', 'KATL1']\n"
     ]
    },
    {
     "name": "stdout",
     "output_type": "stream",
     "text": [
      "Warning: query IDs not mapped to any target IDs excluded: 1\n",
      "Warning: query IDs not mapped to any target IDs excluded: 1\n"
     ]
    },
    {
     "name": "stderr",
     "output_type": "stream",
     "text": [
      "1 Hugo symbols not mapped to Entrez gene ID ['MT-RNR2']\n",
      "1 Hugo symbols not mapped to Entrez gene ID ['ENSG00000216089']\n"
     ]
    },
    {
     "name": "stdout",
     "output_type": "stream",
     "text": [
      "Warning: query IDs not mapped to any target IDs excluded: 7\n",
      "Warning: query IDs not mapped to any target IDs excluded: 2\n"
     ]
    },
    {
     "name": "stderr",
     "output_type": "stream",
     "text": [
      "7 Hugo symbols not mapped to Entrez gene ID ['NOV', 'DH9', 'ENSG00000207207', 'ENSG00000237031', 'ENSG00000237281', 'ENSG00000263272', 'ENSG00000267462']\n",
      "2 Hugo symbols not mapped to Entrez gene ID ['ENSG00000223730', 'MT-RNR2']\n"
     ]
    },
    {
     "name": "stdout",
     "output_type": "stream",
     "text": [
      "Warning: query IDs not mapped to any target IDs excluded: 1\n",
      "Warning: query IDs not mapped to any target IDs excluded: 6\n"
     ]
    },
    {
     "name": "stderr",
     "output_type": "stream",
     "text": [
      "1 Hugo symbols not mapped to Entrez gene ID ['AHK2']\n",
      "6 Hugo symbols not mapped to Entrez gene ID ['CAC1I', 'ENSG00000203849', 'ENSG00000221121', 'ENSG00000221281', 'ENSG00000232274', 'ENSG00000267943']\n"
     ]
    },
    {
     "name": "stdout",
     "output_type": "stream",
     "text": [
      "Warning: query IDs not mapped to any target IDs excluded: 3\n",
      "Warning: query IDs not mapped to any target IDs excluded: 3\n"
     ]
    },
    {
     "name": "stderr",
     "output_type": "stream",
     "text": [
      "3 Hugo symbols not mapped to Entrez gene ID ['LOC101930284', 'ENSG00000203849', 'ENSG00000221156']\n",
      "3 Hugo symbols not mapped to Entrez gene ID ['CAC1A', 'DJC1', 'ENSG00000225946']\n"
     ]
    },
    {
     "name": "stdout",
     "output_type": "stream",
     "text": [
      "Warning: query IDs not mapped to any target IDs excluded: 3\n",
      "Warning: query IDs not mapped to any target IDs excluded: 4\n"
     ]
    },
    {
     "name": "stderr",
     "output_type": "stream",
     "text": [
      "3 Hugo symbols not mapped to Entrez gene ID ['MARS', 'LOC101929847', 'ENSG00000221295']\n",
      "4 Hugo symbols not mapped to Entrez gene ID ['AHK2', 'DH8', 'ENSG00000204792', 'ENSG00000226849']\n"
     ]
    },
    {
     "name": "stdout",
     "output_type": "stream",
     "text": [
      "Warning: query IDs not mapped to any target IDs excluded: 2\n",
      "Warning: query IDs not mapped to any target IDs excluded: 3\n"
     ]
    },
    {
     "name": "stderr",
     "output_type": "stream",
     "text": [
      "2 Hugo symbols not mapped to Entrez gene ID ['ENSG00000215954', 'ENSG00000230615']\n",
      "3 Hugo symbols not mapped to Entrez gene ID ['ENSG00000216116', 'ENSG00000254913', 'ENSG00000263606']\n"
     ]
    },
    {
     "name": "stdout",
     "output_type": "stream",
     "text": [
      "Warning: query IDs not mapped to any target IDs excluded: 3\n",
      "Warning: query IDs not mapped to any target IDs excluded: 4\n"
     ]
    },
    {
     "name": "stderr",
     "output_type": "stream",
     "text": [
      "3 Hugo symbols not mapped to Entrez gene ID ['ENSG00000216004', 'ENSG00000233434', 'ENSG00000240253']\n",
      "4 Hugo symbols not mapped to Entrez gene ID ['ENSG00000221280', 'ENSG00000233002', 'ENSG00000244306', 'MT-ND6']\n"
     ]
    },
    {
     "name": "stdout",
     "output_type": "stream",
     "text": [
      "Warning: query IDs not mapped to any target IDs excluded: 11\n",
      "Warning: query IDs not mapped to any target IDs excluded: 6\n"
     ]
    },
    {
     "name": "stderr",
     "output_type": "stream",
     "text": [
      "11 Hugo symbols not mapped to Entrez gene ID ['AHK', 'CHR3', 'DH17', 'ENSG00000204038', 'ENSG00000232274', 'ENSG00000233145', 'ENSG00000242539', 'ENSG00000244306', 'ENSG00000257042', 'ENSG00000273433', 'PLX1']\n",
      "6 Hugo symbols not mapped to Entrez gene ID ['AHK', 'CNTP3B', 'ENSG00000204398', 'ENSG00000244306', 'ENSG00000256982', 'ENSG00000263378']\n"
     ]
    },
    {
     "name": "stdout",
     "output_type": "stream",
     "text": [
      "Warning: query IDs not mapped to any target IDs excluded: 7\n"
     ]
    },
    {
     "name": "stderr",
     "output_type": "stream",
     "text": [
      "7 Hugo symbols not mapped to Entrez gene ID ['DH2', 'ENSG00000201913', 'ENSG00000214581', 'ENSG00000215022', 'ENSG00000221295', 'ENSG00000221388', 'ENSG00000272667']\n"
     ]
    },
    {
     "name": "stdout",
     "output_type": "stream",
     "text": [
      "Warning: query IDs not mapped to any target IDs excluded: 8\n",
      "Warning: query IDs not mapped to any target IDs excluded: 5\n"
     ]
    },
    {
     "name": "stderr",
     "output_type": "stream",
     "text": [
      "8 Hugo symbols not mapped to Entrez gene ID ['CAC1F', 'DH11', 'ENSG00000224631', 'ENSG00000230615', 'ENSG00000232274', 'ENSG00000245330', 'ENSG00000268032', 'ST6GALC3']\n",
      "5 Hugo symbols not mapped to Entrez gene ID ['GIF', 'CAC1H', 'CHR5', 'DH9', 'ENSG00000207207']\n",
      "1 Hugo symbols not mapped to Entrez gene ID ['IF1']\n"
     ]
    },
    {
     "name": "stdout",
     "output_type": "stream",
     "text": [
      "Warning: query IDs not mapped to any target IDs excluded: 1\n",
      "Warning: query IDs not mapped to any target IDs excluded: 6\n"
     ]
    },
    {
     "name": "stderr",
     "output_type": "stream",
     "text": [
      "6 Hugo symbols not mapped to Entrez gene ID ['CAC1C', 'CNTP5', 'ENSG00000166104', 'ENSG00000177699', 'ENSG00000215346', 'ENSG00000272231']\n"
     ]
    },
    {
     "name": "stdout",
     "output_type": "stream",
     "text": [
      "Warning: query IDs not mapped to any target IDs excluded: 7\n"
     ]
    },
    {
     "name": "stderr",
     "output_type": "stream",
     "text": [
      "7 Hugo symbols not mapped to Entrez gene ID ['DH5', 'ENSG00000197210', 'ENSG00000226145', 'ENSG00000231611', 'ENSG00000255384', 'FLJ45139', 'IF8']\n"
     ]
    },
    {
     "name": "stdout",
     "output_type": "stream",
     "text": [
      "Warning: query IDs not mapped to any target IDs excluded: 3\n"
     ]
    },
    {
     "name": "stderr",
     "output_type": "stream",
     "text": [
      "3 Hugo symbols not mapped to Entrez gene ID ['A60', 'CTN2', 'DH7']\n"
     ]
    },
    {
     "name": "stdout",
     "output_type": "stream",
     "text": [
      "Warning: query IDs not mapped to any target IDs excluded: 5\n",
      "Warning: query IDs not mapped to any target IDs excluded: 2\n",
      "Warning: query IDs not mapped to any target IDs excluded: 1\n"
     ]
    },
    {
     "name": "stderr",
     "output_type": "stream",
     "text": [
      "5 Hugo symbols not mapped to Entrez gene ID ['CAC1A', 'CAC1G', 'CNTP3', 'ENSG00000222717', 'ENSG00000228980']\n",
      "2 Hugo symbols not mapped to Entrez gene ID ['ENSG00000221280', 'ENSG00000267075']\n",
      "1 Hugo symbols not mapped to Entrez gene ID ['KC1']\n",
      "4 Hugo symbols not mapped to Entrez gene ID ['DH10', 'ENSG00000221684', 'ENSG00000264299', 'ENSG00000266657']\n"
     ]
    },
    {
     "name": "stdout",
     "output_type": "stream",
     "text": [
      "Warning: query IDs not mapped to any target IDs excluded: 4\n",
      "Warning: query IDs not mapped to any target IDs excluded: 5\n",
      "Warning: query IDs not mapped to any target IDs excluded: 2\n"
     ]
    },
    {
     "name": "stderr",
     "output_type": "stream",
     "text": [
      "5 Hugo symbols not mapped to Entrez gene ID ['DH5', 'DH6', 'ENSG00000251273', 'ENSG00000259241', 'ENSG00000267260']\n",
      "2 Hugo symbols not mapped to Entrez gene ID ['ENSG00000263120', 'ENSG00000268812']\n"
     ]
    },
    {
     "name": "stdout",
     "output_type": "stream",
     "text": [
      "Warning: query IDs not mapped to any target IDs excluded: 9\n",
      "SKCM\n"
     ]
    },
    {
     "name": "stderr",
     "output_type": "stream",
     "text": [
      "9 Hugo symbols not mapped to Entrez gene ID ['DH7', 'ENSG00000224363', 'ENSG00000237452', 'ENSG00000245156', 'ENSG00000252258', 'ENSG00000257434', 'KP3', 'MT-CO1', 'MT-ND5']\n",
      "preprocessed maf 346 files;\t\traw maf: 0 files\n",
      "select processed maf file for cohort SKCM\n",
      "use path data/TCGA/data/gdac.broadinstitute.org_SKCM.Mutation_Packager_Calls.Level_3.2016012800.0.0/\n"
     ]
    },
    {
     "name": "stdout",
     "output_type": "stream",
     "text": [
      "STAD\n"
     ]
    },
    {
     "name": "stderr",
     "output_type": "stream",
     "text": [
      "preprocessed maf 290 files;\t\traw maf: 0 files\n",
      "select processed maf file for cohort STAD\n",
      "use path data/TCGA/data/gdac.broadinstitute.org_STAD.Mutation_Packager_Calls.Level_3.2016012800.0.0/\n"
     ]
    },
    {
     "name": "stdout",
     "output_type": "stream",
     "text": [
      "STES\n"
     ]
    },
    {
     "name": "stderr",
     "output_type": "stream",
     "text": [
      "preprocessed maf 475 files;\t\traw maf: 0 files\n",
      "select processed maf file for cohort STES\n",
      "use path data/TCGA/data/gdac.broadinstitute.org_STES.Mutation_Packager_Calls.Level_3.2016012800.0.0/\n"
     ]
    },
    {
     "name": "stdout",
     "output_type": "stream",
     "text": [
      "Warning: query IDs not mapped to any target IDs excluded: 1\n"
     ]
    },
    {
     "name": "stderr",
     "output_type": "stream",
     "text": [
      "1 Hugo symbols not mapped to Entrez gene ID ['MT-ND5']\n"
     ]
    },
    {
     "name": "stdout",
     "output_type": "stream",
     "text": [
      "Warning: query IDs not mapped to any target IDs excluded: 2\n"
     ]
    },
    {
     "name": "stderr",
     "output_type": "stream",
     "text": [
      "2 Hugo symbols not mapped to Entrez gene ID ['ENSG00000212857', 'MT-ND5']\n"
     ]
    },
    {
     "name": "stdout",
     "output_type": "stream",
     "text": [
      "Warning: query IDs not mapped to any target IDs excluded: 3\n"
     ]
    },
    {
     "name": "stderr",
     "output_type": "stream",
     "text": [
      "3 Hugo symbols not mapped to Entrez gene ID ['TCEB3C', 'MT-CO1', 'MT-ND5']\n"
     ]
    },
    {
     "name": "stdout",
     "output_type": "stream",
     "text": [
      "Warning: query IDs mapping to duplicated target IDs in mapping table: 2\n",
      "Warning: query IDs not mapped to any target IDs excluded: 4\n"
     ]
    },
    {
     "name": "stderr",
     "output_type": "stream",
     "text": [
      "4 Hugo symbols not mapped to Entrez gene ID ['DEC1', 'SEPT2', 'ENSG00000268400', 'MT-ND5']\n"
     ]
    },
    {
     "name": "stdout",
     "output_type": "stream",
     "text": [
      "Warning: query IDs not mapped to any target IDs excluded: 2\n"
     ]
    },
    {
     "name": "stderr",
     "output_type": "stream",
     "text": [
      "2 Hugo symbols not mapped to Entrez gene ID ['ENSG00000253172', 'MT-ND5']\n"
     ]
    },
    {
     "name": "stdout",
     "output_type": "stream",
     "text": [
      "Warning: query IDs not mapped to any target IDs excluded: 1\n"
     ]
    },
    {
     "name": "stderr",
     "output_type": "stream",
     "text": [
      "1 Hugo symbols not mapped to Entrez gene ID ['MT-ATP6']\n"
     ]
    },
    {
     "name": "stdout",
     "output_type": "stream",
     "text": [
      "Warning: query IDs not mapped to any target IDs excluded: 3\n"
     ]
    },
    {
     "name": "stderr",
     "output_type": "stream",
     "text": [
      "3 Hugo symbols not mapped to Entrez gene ID ['ENSG00000145965', 'ENSG00000242628', 'ENSG00000257743']\n"
     ]
    },
    {
     "name": "stdout",
     "output_type": "stream",
     "text": [
      "Warning: query IDs not mapped to any target IDs excluded: 5\n"
     ]
    },
    {
     "name": "stderr",
     "output_type": "stream",
     "text": [
      "5 Hugo symbols not mapped to Entrez gene ID ['MARS', 'NOTCH2NL', 'ENSG00000179755', 'ENSG00000267848', 'FLJ22184']\n"
     ]
    },
    {
     "name": "stdout",
     "output_type": "stream",
     "text": [
      "Warning: query IDs not mapped to any target IDs excluded: 2\n"
     ]
    },
    {
     "name": "stderr",
     "output_type": "stream",
     "text": [
      "2 Hugo symbols not mapped to Entrez gene ID ['MT-CO1', 'MT-ND5']\n"
     ]
    },
    {
     "name": "stdout",
     "output_type": "stream",
     "text": [
      "Warning: query IDs not mapped to any target IDs excluded: 4\n"
     ]
    },
    {
     "name": "stderr",
     "output_type": "stream",
     "text": [
      "4 Hugo symbols not mapped to Entrez gene ID ['HIST1H2BI', 'ENSG00000248801', 'ENSG00000257057', 'ENSG00000264222']\n"
     ]
    },
    {
     "name": "stdout",
     "output_type": "stream",
     "text": [
      "Warning: query IDs not mapped to any target IDs excluded: 2\n"
     ]
    },
    {
     "name": "stderr",
     "output_type": "stream",
     "text": [
      "2 Hugo symbols not mapped to Entrez gene ID ['ENSG00000237452', 'MT-ND5']\n"
     ]
    },
    {
     "name": "stdout",
     "output_type": "stream",
     "text": [
      "Warning: query IDs not mapped to any target IDs excluded: 3\n"
     ]
    },
    {
     "name": "stderr",
     "output_type": "stream",
     "text": [
      "3 Hugo symbols not mapped to Entrez gene ID ['ENSG00000212884', 'MT-ATP6', 'MT-ND5']\n"
     ]
    },
    {
     "name": "stdout",
     "output_type": "stream",
     "text": [
      "Warning: query IDs not mapped to any target IDs excluded: 1\n"
     ]
    },
    {
     "name": "stderr",
     "output_type": "stream",
     "text": [
      "1 Hugo symbols not mapped to Entrez gene ID ['GIF']\n"
     ]
    },
    {
     "name": "stdout",
     "output_type": "stream",
     "text": [
      "Warning: query IDs not mapped to any target IDs excluded: 2\n"
     ]
    },
    {
     "name": "stderr",
     "output_type": "stream",
     "text": [
      "2 Hugo symbols not mapped to Entrez gene ID ['ENSG00000268412', 'ENSG00000273398']\n"
     ]
    },
    {
     "name": "stdout",
     "output_type": "stream",
     "text": [
      "Warning: query IDs not mapped to any target IDs excluded: 2\n",
      "Warning: query IDs not mapped to any target IDs excluded: 3\n"
     ]
    },
    {
     "name": "stderr",
     "output_type": "stream",
     "text": [
      "2 Hugo symbols not mapped to Entrez gene ID ['MT-CO1', 'MT-ND5']\n",
      "3 Hugo symbols not mapped to Entrez gene ID ['ENSG00000173213', 'ENSG00000249428', 'ENSG00000255622']\n"
     ]
    },
    {
     "name": "stdout",
     "output_type": "stream",
     "text": [
      "Warning: query IDs not mapped to any target IDs excluded: 1\n"
     ]
    },
    {
     "name": "stderr",
     "output_type": "stream",
     "text": [
      "1 Hugo symbols not mapped to Entrez gene ID ['ENSG00000229729']\n"
     ]
    },
    {
     "name": "stdout",
     "output_type": "stream",
     "text": [
      "Warning: query IDs not mapped to any target IDs excluded: 3\n"
     ]
    },
    {
     "name": "stderr",
     "output_type": "stream",
     "text": [
      "3 Hugo symbols not mapped to Entrez gene ID ['SARS', 'ENSG00000234719', 'ENSG00000269175']\n"
     ]
    },
    {
     "name": "stdout",
     "output_type": "stream",
     "text": [
      "Warning: query IDs not mapped to any target IDs excluded: 2\n"
     ]
    },
    {
     "name": "stderr",
     "output_type": "stream",
     "text": [
      "2 Hugo symbols not mapped to Entrez gene ID ['B3GNT1', 'ENSG00000259455']\n"
     ]
    },
    {
     "name": "stdout",
     "output_type": "stream",
     "text": [
      "Warning: query IDs not mapped to any target IDs excluded: 4\n"
     ]
    },
    {
     "name": "stderr",
     "output_type": "stream",
     "text": [
      "4 Hugo symbols not mapped to Entrez gene ID ['EFTUD1', 'ENSG00000183562', 'ENSG00000217825', 'MT-ATP6']\n"
     ]
    },
    {
     "name": "stdout",
     "output_type": "stream",
     "text": [
      "Warning: query IDs not mapped to any target IDs excluded: 1\n"
     ]
    },
    {
     "name": "stderr",
     "output_type": "stream",
     "text": [
      "1 Hugo symbols not mapped to Entrez gene ID ['ENSG00000212857']\n"
     ]
    },
    {
     "name": "stdout",
     "output_type": "stream",
     "text": [
      "Warning: query IDs not mapped to any target IDs excluded: 1\n"
     ]
    },
    {
     "name": "stderr",
     "output_type": "stream",
     "text": [
      "1 Hugo symbols not mapped to Entrez gene ID ['MT-CO1']\n"
     ]
    },
    {
     "name": "stdout",
     "output_type": "stream",
     "text": [
      "Warning: query IDs not mapped to any target IDs excluded: 2\n"
     ]
    },
    {
     "name": "stderr",
     "output_type": "stream",
     "text": [
      "2 Hugo symbols not mapped to Entrez gene ID ['ENSG00000257743', 'ENSG00000268948']\n"
     ]
    },
    {
     "name": "stdout",
     "output_type": "stream",
     "text": [
      "Warning: query IDs not mapped to any target IDs excluded: 1\n"
     ]
    },
    {
     "name": "stderr",
     "output_type": "stream",
     "text": [
      "1 Hugo symbols not mapped to Entrez gene ID ['ENSG00000240291']\n"
     ]
    },
    {
     "name": "stdout",
     "output_type": "stream",
     "text": [
      "Warning: query IDs not mapped to any target IDs excluded: 2\n"
     ]
    },
    {
     "name": "stderr",
     "output_type": "stream",
     "text": [
      "2 Hugo symbols not mapped to Entrez gene ID ['ENSG00000267848', 'ENSG00000269175']\n"
     ]
    },
    {
     "name": "stdout",
     "output_type": "stream",
     "text": [
      "Warning: query IDs not mapped to any target IDs excluded: 3\n"
     ]
    },
    {
     "name": "stderr",
     "output_type": "stream",
     "text": [
      "3 Hugo symbols not mapped to Entrez gene ID ['CSRP2BP', 'ENSG00000231171', 'ENSG00000263020']\n"
     ]
    },
    {
     "name": "stdout",
     "output_type": "stream",
     "text": [
      "Warning: query IDs not mapped to any target IDs excluded: 1\n"
     ]
    },
    {
     "name": "stderr",
     "output_type": "stream",
     "text": [
      "1 Hugo symbols not mapped to Entrez gene ID ['MT-CO1']\n"
     ]
    },
    {
     "name": "stdout",
     "output_type": "stream",
     "text": [
      "Warning: query IDs not mapped to any target IDs excluded: 1\n"
     ]
    },
    {
     "name": "stderr",
     "output_type": "stream",
     "text": [
      "1 Hugo symbols not mapped to Entrez gene ID ['SEPT2']\n"
     ]
    },
    {
     "name": "stdout",
     "output_type": "stream",
     "text": [
      "Warning: query IDs not mapped to any target IDs excluded: 1\n"
     ]
    },
    {
     "name": "stderr",
     "output_type": "stream",
     "text": [
      "1 Hugo symbols not mapped to Entrez gene ID ['MT-ND5']\n"
     ]
    },
    {
     "name": "stdout",
     "output_type": "stream",
     "text": [
      "Warning: query IDs not mapped to any target IDs excluded: 1\n"
     ]
    },
    {
     "name": "stderr",
     "output_type": "stream",
     "text": [
      "1 Hugo symbols not mapped to Entrez gene ID ['ENSG00000234677']\n"
     ]
    },
    {
     "name": "stdout",
     "output_type": "stream",
     "text": [
      "Warning: query IDs not mapped to any target IDs excluded: 1\n"
     ]
    },
    {
     "name": "stderr",
     "output_type": "stream",
     "text": [
      "1 Hugo symbols not mapped to Entrez gene ID ['ENSG00000176593']\n"
     ]
    },
    {
     "name": "stdout",
     "output_type": "stream",
     "text": [
      "Warning: query IDs not mapped to any target IDs excluded: 1\n"
     ]
    },
    {
     "name": "stderr",
     "output_type": "stream",
     "text": [
      "1 Hugo symbols not mapped to Entrez gene ID ['ENSG00000257743']\n"
     ]
    },
    {
     "name": "stdout",
     "output_type": "stream",
     "text": [
      "Warning: query IDs not mapped to any target IDs excluded: 2\n"
     ]
    },
    {
     "name": "stderr",
     "output_type": "stream",
     "text": [
      "2 Hugo symbols not mapped to Entrez gene ID ['ENSG00000267270', 'FLJ22184']\n"
     ]
    },
    {
     "name": "stdout",
     "output_type": "stream",
     "text": [
      "Warning: query IDs not mapped to any target IDs excluded: 1\n"
     ]
    },
    {
     "name": "stderr",
     "output_type": "stream",
     "text": [
      "1 Hugo symbols not mapped to Entrez gene ID ['MT-ND5']\n"
     ]
    },
    {
     "name": "stdout",
     "output_type": "stream",
     "text": [
      "Warning: query IDs not mapped to any target IDs excluded: 2\n"
     ]
    },
    {
     "name": "stderr",
     "output_type": "stream",
     "text": [
      "2 Hugo symbols not mapped to Entrez gene ID ['MT-CO1', 'MT-ND5']\n"
     ]
    },
    {
     "name": "stdout",
     "output_type": "stream",
     "text": [
      "Warning: query IDs not mapped to any target IDs excluded: 2\n"
     ]
    },
    {
     "name": "stderr",
     "output_type": "stream",
     "text": [
      "2 Hugo symbols not mapped to Entrez gene ID ['ENSG00000255154', 'ENSG00000259471']\n"
     ]
    },
    {
     "name": "stdout",
     "output_type": "stream",
     "text": [
      "Warning: query IDs not mapped to any target IDs excluded: 3\n"
     ]
    },
    {
     "name": "stderr",
     "output_type": "stream",
     "text": [
      "3 Hugo symbols not mapped to Entrez gene ID ['CXXC11', 'ENSG00000173213', 'ENSG00000255835']\n"
     ]
    },
    {
     "name": "stdout",
     "output_type": "stream",
     "text": [
      "Warning: query IDs not mapped to any target IDs excluded: 5\n"
     ]
    },
    {
     "name": "stderr",
     "output_type": "stream",
     "text": [
      "5 Hugo symbols not mapped to Entrez gene ID ['B3GNT1', 'QARS', 'ENSG00000212857', 'ENSG00000268059', 'MT-CO1']\n"
     ]
    },
    {
     "name": "stdout",
     "output_type": "stream",
     "text": [
      "Warning: query IDs not mapped to any target IDs excluded: 2\n"
     ]
    },
    {
     "name": "stderr",
     "output_type": "stream",
     "text": [
      "2 Hugo symbols not mapped to Entrez gene ID ['HN1L', 'MARS']\n"
     ]
    },
    {
     "name": "stdout",
     "output_type": "stream",
     "text": [
      "Warning: query IDs not mapped to any target IDs excluded: 9\n"
     ]
    },
    {
     "name": "stderr",
     "output_type": "stream",
     "text": [
      "9 Hugo symbols not mapped to Entrez gene ID ['AGPAT9', 'AZI1', 'GARS', 'MARS', 'ENSG00000212999', 'ENSG00000249428', 'ENSG00000260415', 'ENSG00000267848', 'ENSG00000268241']\n"
     ]
    },
    {
     "name": "stdout",
     "output_type": "stream",
     "text": [
      "Warning: query IDs not mapped to any target IDs excluded: 2\n"
     ]
    },
    {
     "name": "stderr",
     "output_type": "stream",
     "text": [
      "2 Hugo symbols not mapped to Entrez gene ID ['QARS', 'KIAA1804']\n"
     ]
    },
    {
     "name": "stdout",
     "output_type": "stream",
     "text": [
      "Warning: query IDs not mapped to any target IDs excluded: 3\n",
      "Warning: query IDs not mapped to any target IDs excluded: 2\n"
     ]
    },
    {
     "name": "stderr",
     "output_type": "stream",
     "text": [
      "3 Hugo symbols not mapped to Entrez gene ID ['ENSG00000215304', 'ENSG00000232274', 'MT-ATP8']\n",
      "2 Hugo symbols not mapped to Entrez gene ID ['ENSG00000234719', 'SPHAR']\n"
     ]
    },
    {
     "name": "stdout",
     "output_type": "stream",
     "text": [
      "Warning: query IDs not mapped to any target IDs excluded: 1\n",
      "Warning: query IDs not mapped to any target IDs excluded: 1\n"
     ]
    },
    {
     "name": "stderr",
     "output_type": "stream",
     "text": [
      "1 Hugo symbols not mapped to Entrez gene ID ['MT-ND4L']\n",
      "1 Hugo symbols not mapped to Entrez gene ID ['LOC100509091']\n"
     ]
    },
    {
     "name": "stdout",
     "output_type": "stream",
     "text": [
      "Warning: query IDs not mapped to any target IDs excluded: 1\n"
     ]
    },
    {
     "name": "stderr",
     "output_type": "stream",
     "text": [
      "1 Hugo symbols not mapped to Entrez gene ID ['LOC100128374']\n"
     ]
    },
    {
     "name": "stdout",
     "output_type": "stream",
     "text": [
      "Warning: query IDs not mapped to any target IDs excluded: 1\n"
     ]
    },
    {
     "name": "stderr",
     "output_type": "stream",
     "text": [
      "1 Hugo symbols not mapped to Entrez gene ID ['KIAA1804']\n"
     ]
    },
    {
     "name": "stdout",
     "output_type": "stream",
     "text": [
      "Warning: query IDs not mapped to any target IDs excluded: 2\n"
     ]
    },
    {
     "name": "stderr",
     "output_type": "stream",
     "text": [
      "2 Hugo symbols not mapped to Entrez gene ID ['ENSG00000212857', 'ENSG00000228532']\n"
     ]
    },
    {
     "name": "stdout",
     "output_type": "stream",
     "text": [
      "Warning: query IDs not mapped to any target IDs excluded: 2\n"
     ]
    },
    {
     "name": "stderr",
     "output_type": "stream",
     "text": [
      "2 Hugo symbols not mapped to Entrez gene ID ['ENSG00000212857', 'MT-ND5']\n"
     ]
    },
    {
     "name": "stdout",
     "output_type": "stream",
     "text": [
      "Warning: query IDs not mapped to any target IDs excluded: 3\n"
     ]
    },
    {
     "name": "stderr",
     "output_type": "stream",
     "text": [
      "3 Hugo symbols not mapped to Entrez gene ID ['ENSG00000205018', 'MT-CO1', 'MT-ND5']\n"
     ]
    },
    {
     "name": "stdout",
     "output_type": "stream",
     "text": [
      "Warning: query IDs not mapped to any target IDs excluded: 2\n"
     ]
    },
    {
     "name": "stderr",
     "output_type": "stream",
     "text": [
      "2 Hugo symbols not mapped to Entrez gene ID ['B3GNT1', 'MT-ND5']\n"
     ]
    },
    {
     "name": "stdout",
     "output_type": "stream",
     "text": [
      "Warning: query IDs not mapped to any target IDs excluded: 4\n"
     ]
    },
    {
     "name": "stderr",
     "output_type": "stream",
     "text": [
      "4 Hugo symbols not mapped to Entrez gene ID ['ENSG00000217702', 'ENSG00000234222', 'MT-ATP6', 'MT-CO1']\n"
     ]
    },
    {
     "name": "stdout",
     "output_type": "stream",
     "text": [
      "Warning: query IDs not mapped to any target IDs excluded: 1\n"
     ]
    },
    {
     "name": "stderr",
     "output_type": "stream",
     "text": [
      "1 Hugo symbols not mapped to Entrez gene ID ['MT-ND5']\n"
     ]
    },
    {
     "name": "stdout",
     "output_type": "stream",
     "text": [
      "Warning: query IDs not mapped to any target IDs excluded: 1\n"
     ]
    },
    {
     "name": "stderr",
     "output_type": "stream",
     "text": [
      "1 Hugo symbols not mapped to Entrez gene ID ['MUM1']\n"
     ]
    },
    {
     "name": "stdout",
     "output_type": "stream",
     "text": [
      "Warning: query IDs not mapped to any target IDs excluded: 4\n"
     ]
    },
    {
     "name": "stderr",
     "output_type": "stream",
     "text": [
      "4 Hugo symbols not mapped to Entrez gene ID ['ENSG00000212884', 'ENSG00000254614', 'MT-CO1', 'MT-ND5']\n"
     ]
    },
    {
     "name": "stdout",
     "output_type": "stream",
     "text": [
      "Warning: query IDs not mapped to any target IDs excluded: 3\n"
     ]
    },
    {
     "name": "stderr",
     "output_type": "stream",
     "text": [
      "3 Hugo symbols not mapped to Entrez gene ID ['CD97', 'ENSG00000255641', 'ENSG00000268241']\n"
     ]
    },
    {
     "name": "stdout",
     "output_type": "stream",
     "text": [
      "Warning: query IDs not mapped to any target IDs excluded: 12\n"
     ]
    },
    {
     "name": "stderr",
     "output_type": "stream",
     "text": [
      "12 Hugo symbols not mapped to Entrez gene ID ['ADC', 'ENSG00000183154', 'ENSG00000212857', 'ENSG00000215428', 'ENSG00000225996', 'ENSG00000237102', 'ENSG00000255622', 'ENSG00000257743', 'ENSG00000259455', 'ENSG00000267270', 'ENSG00000268467', 'MT-ND5']\n"
     ]
    },
    {
     "name": "stdout",
     "output_type": "stream",
     "text": [
      "Warning: query IDs not mapped to any target IDs excluded: 1\n"
     ]
    },
    {
     "name": "stderr",
     "output_type": "stream",
     "text": [
      "1 Hugo symbols not mapped to Entrez gene ID ['MT-ND5']\n"
     ]
    },
    {
     "name": "stdout",
     "output_type": "stream",
     "text": [
      "Warning: query IDs not mapped to any target IDs excluded: 2\n"
     ]
    },
    {
     "name": "stderr",
     "output_type": "stream",
     "text": [
      "2 Hugo symbols not mapped to Entrez gene ID ['ENSG00000181495', 'ENSG00000255537']\n"
     ]
    },
    {
     "name": "stdout",
     "output_type": "stream",
     "text": [
      "Warning: query IDs not mapped to any target IDs excluded: 1\n"
     ]
    },
    {
     "name": "stderr",
     "output_type": "stream",
     "text": [
      "1 Hugo symbols not mapped to Entrez gene ID ['ENSG00000214305']\n"
     ]
    },
    {
     "name": "stdout",
     "output_type": "stream",
     "text": [
      "Warning: query IDs not mapped to any target IDs excluded: 3\n"
     ]
    },
    {
     "name": "stderr",
     "output_type": "stream",
     "text": [
      "3 Hugo symbols not mapped to Entrez gene ID ['ENSG00000222031', 'ENSG00000268864', 'MT-ND5']\n"
     ]
    },
    {
     "name": "stdout",
     "output_type": "stream",
     "text": [
      "Warning: query IDs not mapped to any target IDs excluded: 2\n"
     ]
    },
    {
     "name": "stderr",
     "output_type": "stream",
     "text": [
      "2 Hugo symbols not mapped to Entrez gene ID ['MT-CO1', 'MT-ND5']\n"
     ]
    },
    {
     "name": "stdout",
     "output_type": "stream",
     "text": [
      "Warning: query IDs not mapped to any target IDs excluded: 4\n"
     ]
    },
    {
     "name": "stderr",
     "output_type": "stream",
     "text": [
      "4 Hugo symbols not mapped to Entrez gene ID ['LOC100996779', 'ENSG00000217825', 'ENSG00000267848', 'ENSG00000269175']\n"
     ]
    },
    {
     "name": "stdout",
     "output_type": "stream",
     "text": [
      "Warning: query IDs not mapped to any target IDs excluded: 3\n"
     ]
    },
    {
     "name": "stderr",
     "output_type": "stream",
     "text": [
      "3 Hugo symbols not mapped to Entrez gene ID ['QARS', 'ENSG00000259357', 'ENSG00000272268']\n"
     ]
    },
    {
     "name": "stdout",
     "output_type": "stream",
     "text": [
      "Warning: query IDs not mapped to any target IDs excluded: 1\n"
     ]
    },
    {
     "name": "stderr",
     "output_type": "stream",
     "text": [
      "1 Hugo symbols not mapped to Entrez gene ID ['ENSG00000269490']\n"
     ]
    },
    {
     "name": "stdout",
     "output_type": "stream",
     "text": [
      "Warning: query IDs not mapped to any target IDs excluded: 1\n"
     ]
    },
    {
     "name": "stderr",
     "output_type": "stream",
     "text": [
      "1 Hugo symbols not mapped to Entrez gene ID ['ENSG00000255622']\n"
     ]
    },
    {
     "name": "stdout",
     "output_type": "stream",
     "text": [
      "Warning: query IDs not mapped to any target IDs excluded: 4\n"
     ]
    },
    {
     "name": "stderr",
     "output_type": "stream",
     "text": [
      "4 Hugo symbols not mapped to Entrez gene ID ['LOC101927016', 'ENSG00000169203', 'ENSG00000212857', 'ENSG00000253251']\n"
     ]
    },
    {
     "name": "stdout",
     "output_type": "stream",
     "text": [
      "Warning: query IDs not mapped to any target IDs excluded: 3\n"
     ]
    },
    {
     "name": "stderr",
     "output_type": "stream",
     "text": [
      "3 Hugo symbols not mapped to Entrez gene ID ['ENSG00000187811', 'ENSG00000267848', 'MT-CO1']\n"
     ]
    },
    {
     "name": "stdout",
     "output_type": "stream",
     "text": [
      "Warning: query IDs not mapped to any target IDs excluded: 1\n"
     ]
    },
    {
     "name": "stderr",
     "output_type": "stream",
     "text": [
      "1 Hugo symbols not mapped to Entrez gene ID ['ENSG00000232866']\n"
     ]
    },
    {
     "name": "stdout",
     "output_type": "stream",
     "text": [
      "Warning: query IDs not mapped to any target IDs excluded: 1\n"
     ]
    },
    {
     "name": "stderr",
     "output_type": "stream",
     "text": [
      "1 Hugo symbols not mapped to Entrez gene ID ['MT-CO1']\n"
     ]
    },
    {
     "name": "stdout",
     "output_type": "stream",
     "text": [
      "Warning: query IDs not mapped to any target IDs excluded: 1\n"
     ]
    },
    {
     "name": "stderr",
     "output_type": "stream",
     "text": [
      "1 Hugo symbols not mapped to Entrez gene ID ['ENSG00000249034']\n"
     ]
    },
    {
     "name": "stdout",
     "output_type": "stream",
     "text": [
      "Warning: query IDs not mapped to any target IDs excluded: 2\n"
     ]
    },
    {
     "name": "stderr",
     "output_type": "stream",
     "text": [
      "2 Hugo symbols not mapped to Entrez gene ID ['ENSG00000197182', 'ENSG00000205018']\n"
     ]
    },
    {
     "name": "stdout",
     "output_type": "stream",
     "text": [
      "Warning: query IDs not mapped to any target IDs excluded: 2\n"
     ]
    },
    {
     "name": "stderr",
     "output_type": "stream",
     "text": [
      "2 Hugo symbols not mapped to Entrez gene ID ['AIM1', 'GARS']\n"
     ]
    },
    {
     "name": "stdout",
     "output_type": "stream",
     "text": [
      "Warning: query IDs not mapped to any target IDs excluded: 2\n"
     ]
    },
    {
     "name": "stderr",
     "output_type": "stream",
     "text": [
      "2 Hugo symbols not mapped to Entrez gene ID ['STRA13', 'LOC101928102']\n"
     ]
    },
    {
     "name": "stdout",
     "output_type": "stream",
     "text": [
      "Warning: query IDs not mapped to any target IDs excluded: 1\n"
     ]
    },
    {
     "name": "stderr",
     "output_type": "stream",
     "text": [
      "1 Hugo symbols not mapped to Entrez gene ID ['GIF']\n"
     ]
    },
    {
     "name": "stdout",
     "output_type": "stream",
     "text": [
      "Warning: query IDs not mapped to any target IDs excluded: 1\n"
     ]
    },
    {
     "name": "stderr",
     "output_type": "stream",
     "text": [
      "1 Hugo symbols not mapped to Entrez gene ID ['MT-CO1']\n"
     ]
    },
    {
     "name": "stdout",
     "output_type": "stream",
     "text": [
      "Warning: query IDs not mapped to any target IDs excluded: 2\n"
     ]
    },
    {
     "name": "stderr",
     "output_type": "stream",
     "text": [
      "2 Hugo symbols not mapped to Entrez gene ID ['AIM1', 'MUM1']\n"
     ]
    },
    {
     "name": "stdout",
     "output_type": "stream",
     "text": [
      "Warning: query IDs not mapped to any target IDs excluded: 1\n",
      "Warning: query IDs not mapped to any target IDs excluded: 1\n"
     ]
    },
    {
     "name": "stderr",
     "output_type": "stream",
     "text": [
      "1 Hugo symbols not mapped to Entrez gene ID ['101928757']\n",
      "1 Hugo symbols not mapped to Entrez gene ID ['ENSG00000257743']\n"
     ]
    },
    {
     "name": "stdout",
     "output_type": "stream",
     "text": [
      "Warning: query IDs not mapped to any target IDs excluded: 1\n"
     ]
    },
    {
     "name": "stderr",
     "output_type": "stream",
     "text": [
      "1 Hugo symbols not mapped to Entrez gene ID ['ENSG00000267954']\n"
     ]
    },
    {
     "name": "stdout",
     "output_type": "stream",
     "text": [
      "Warning: query IDs not mapped to any target IDs excluded: 1\n"
     ]
    },
    {
     "name": "stderr",
     "output_type": "stream",
     "text": [
      "1 Hugo symbols not mapped to Entrez gene ID ['ENSG00000268194']\n"
     ]
    },
    {
     "name": "stdout",
     "output_type": "stream",
     "text": [
      "Warning: query IDs not mapped to any target IDs excluded: 1\n"
     ]
    },
    {
     "name": "stderr",
     "output_type": "stream",
     "text": [
      "1 Hugo symbols not mapped to Entrez gene ID ['ENSG00000247925']\n"
     ]
    },
    {
     "name": "stdout",
     "output_type": "stream",
     "text": [
      "Warning: query IDs not mapped to any target IDs excluded: 1\n"
     ]
    },
    {
     "name": "stderr",
     "output_type": "stream",
     "text": [
      "1 Hugo symbols not mapped to Entrez gene ID ['ENSG00000188474']\n"
     ]
    },
    {
     "name": "stdout",
     "output_type": "stream",
     "text": [
      "Warning: query IDs not mapped to any target IDs excluded: 1\n"
     ]
    },
    {
     "name": "stderr",
     "output_type": "stream",
     "text": [
      "1 Hugo symbols not mapped to Entrez gene ID ['ENSG00000167765']\n"
     ]
    },
    {
     "name": "stdout",
     "output_type": "stream",
     "text": [
      "Warning: query IDs not mapped to any target IDs excluded: 3\n"
     ]
    },
    {
     "name": "stderr",
     "output_type": "stream",
     "text": [
      "3 Hugo symbols not mapped to Entrez gene ID ['ENSG00000189275', 'MT-ND5', 'MT-ND6']\n"
     ]
    },
    {
     "name": "stdout",
     "output_type": "stream",
     "text": [
      "Warning: query IDs not mapped to any target IDs excluded: 1\n"
     ]
    },
    {
     "name": "stderr",
     "output_type": "stream",
     "text": [
      "1 Hugo symbols not mapped to Entrez gene ID ['HIST1H2BC']\n"
     ]
    },
    {
     "name": "stdout",
     "output_type": "stream",
     "text": [
      "Warning: query IDs not mapped to any target IDs excluded: 2\n"
     ]
    },
    {
     "name": "stderr",
     "output_type": "stream",
     "text": [
      "2 Hugo symbols not mapped to Entrez gene ID ['GARS', 'FLJ46361']\n"
     ]
    },
    {
     "name": "stdout",
     "output_type": "stream",
     "text": [
      "Warning: query IDs not mapped to any target IDs excluded: 1\n"
     ]
    },
    {
     "name": "stderr",
     "output_type": "stream",
     "text": [
      "1 Hugo symbols not mapped to Entrez gene ID ['ENSG00000167765']\n"
     ]
    },
    {
     "name": "stdout",
     "output_type": "stream",
     "text": [
      "Warning: query IDs mapping to duplicated target IDs in mapping table: 2\n",
      "Warning: query IDs not mapped to any target IDs excluded: 3\n"
     ]
    },
    {
     "name": "stderr",
     "output_type": "stream",
     "text": [
      "3 Hugo symbols not mapped to Entrez gene ID ['ENSG00000255622', 'ENSG00000257743', 'FLJ22184']\n"
     ]
    },
    {
     "name": "stdout",
     "output_type": "stream",
     "text": [
      "Warning: query IDs not mapped to any target IDs excluded: 3\n"
     ]
    },
    {
     "name": "stderr",
     "output_type": "stream",
     "text": [
      "3 Hugo symbols not mapped to Entrez gene ID ['HIST1H2BG', 'LOR', 'SEPT2']\n"
     ]
    },
    {
     "name": "stdout",
     "output_type": "stream",
     "text": [
      "Warning: query IDs not mapped to any target IDs excluded: 3\n"
     ]
    },
    {
     "name": "stderr",
     "output_type": "stream",
     "text": [
      "3 Hugo symbols not mapped to Entrez gene ID ['ENSG00000212857', 'ENSG00000233539', 'ENSG00000268948']\n"
     ]
    },
    {
     "name": "stdout",
     "output_type": "stream",
     "text": [
      "Warning: query IDs not mapped to any target IDs excluded: 1\n"
     ]
    },
    {
     "name": "stderr",
     "output_type": "stream",
     "text": [
      "1 Hugo symbols not mapped to Entrez gene ID ['ENSG00000272268']\n"
     ]
    },
    {
     "name": "stdout",
     "output_type": "stream",
     "text": [
      "Warning: query IDs not mapped to any target IDs excluded: 1\n"
     ]
    },
    {
     "name": "stderr",
     "output_type": "stream",
     "text": [
      "1 Hugo symbols not mapped to Entrez gene ID ['SARS']\n"
     ]
    },
    {
     "name": "stdout",
     "output_type": "stream",
     "text": [
      "Warning: query IDs not mapped to any target IDs excluded: 2\n"
     ]
    },
    {
     "name": "stderr",
     "output_type": "stream",
     "text": [
      "2 Hugo symbols not mapped to Entrez gene ID ['MT-CO1', 'MT-ND5']\n"
     ]
    },
    {
     "name": "stdout",
     "output_type": "stream",
     "text": [
      "Warning: query IDs not mapped to any target IDs excluded: 1\n"
     ]
    },
    {
     "name": "stderr",
     "output_type": "stream",
     "text": [
      "1 Hugo symbols not mapped to Entrez gene ID ['ENSG00000217825']\n"
     ]
    },
    {
     "name": "stdout",
     "output_type": "stream",
     "text": [
      "Warning: query IDs not mapped to any target IDs excluded: 1\n"
     ]
    },
    {
     "name": "stderr",
     "output_type": "stream",
     "text": [
      "1 Hugo symbols not mapped to Entrez gene ID ['ENSG00000173213']\n"
     ]
    },
    {
     "name": "stdout",
     "output_type": "stream",
     "text": [
      "Warning: query IDs not mapped to any target IDs excluded: 3\n"
     ]
    },
    {
     "name": "stderr",
     "output_type": "stream",
     "text": [
      "3 Hugo symbols not mapped to Entrez gene ID ['EFTUD1', 'ENSG00000212928', 'ENSG00000259966']\n"
     ]
    },
    {
     "name": "stdout",
     "output_type": "stream",
     "text": [
      "Warning: query IDs not mapped to any target IDs excluded: 1\n"
     ]
    },
    {
     "name": "stderr",
     "output_type": "stream",
     "text": [
      "1 Hugo symbols not mapped to Entrez gene ID ['ENSG00000249034']\n"
     ]
    },
    {
     "name": "stdout",
     "output_type": "stream",
     "text": [
      "Warning: query IDs not mapped to any target IDs excluded: 3\n"
     ]
    },
    {
     "name": "stderr",
     "output_type": "stream",
     "text": [
      "3 Hugo symbols not mapped to Entrez gene ID ['AZI1', 'ENSG00000237452', 'ENSG00000268467']\n"
     ]
    },
    {
     "name": "stdout",
     "output_type": "stream",
     "text": [
      "Warning: query IDs not mapped to any target IDs excluded: 3\n"
     ]
    },
    {
     "name": "stderr",
     "output_type": "stream",
     "text": [
      "3 Hugo symbols not mapped to Entrez gene ID ['ENSG00000226524', 'ENSG00000259455', 'MT-ND5']\n"
     ]
    },
    {
     "name": "stdout",
     "output_type": "stream",
     "text": [
      "Warning: query IDs not mapped to any target IDs excluded: 2\n"
     ]
    },
    {
     "name": "stderr",
     "output_type": "stream",
     "text": [
      "2 Hugo symbols not mapped to Entrez gene ID ['ENSG00000189275', 'ENSG00000215642']\n"
     ]
    },
    {
     "name": "stdout",
     "output_type": "stream",
     "text": [
      "Warning: query IDs not mapped to any target IDs excluded: 1\n"
     ]
    },
    {
     "name": "stderr",
     "output_type": "stream",
     "text": [
      "1 Hugo symbols not mapped to Entrez gene ID ['CD97']\n"
     ]
    },
    {
     "name": "stdout",
     "output_type": "stream",
     "text": [
      "Warning: query IDs not mapped to any target IDs excluded: 2\n"
     ]
    },
    {
     "name": "stderr",
     "output_type": "stream",
     "text": [
      "2 Hugo symbols not mapped to Entrez gene ID ['CXXC11', 'ENSG00000183154']\n"
     ]
    },
    {
     "name": "stdout",
     "output_type": "stream",
     "text": [
      "Warning: query IDs not mapped to any target IDs excluded: 1\n"
     ]
    },
    {
     "name": "stderr",
     "output_type": "stream",
     "text": [
      "1 Hugo symbols not mapped to Entrez gene ID ['ENSG00000229729']\n"
     ]
    },
    {
     "name": "stdout",
     "output_type": "stream",
     "text": [
      "Warning: query IDs not mapped to any target IDs excluded: 3\n"
     ]
    },
    {
     "name": "stderr",
     "output_type": "stream",
     "text": [
      "3 Hugo symbols not mapped to Entrez gene ID ['ENSG00000176593', 'ENSG00000225996', 'MT-CO1']\n"
     ]
    },
    {
     "name": "stdout",
     "output_type": "stream",
     "text": [
      "Warning: query IDs not mapped to any target IDs excluded: 2\n"
     ]
    },
    {
     "name": "stderr",
     "output_type": "stream",
     "text": [
      "2 Hugo symbols not mapped to Entrez gene ID ['MT-ATP6', 'MT-CO1']\n"
     ]
    },
    {
     "name": "stdout",
     "output_type": "stream",
     "text": [
      "Warning: query IDs not mapped to any target IDs excluded: 3\n"
     ]
    },
    {
     "name": "stderr",
     "output_type": "stream",
     "text": [
      "3 Hugo symbols not mapped to Entrez gene ID ['ENSG00000254469', 'MT-CO1', 'MT-ND5']\n"
     ]
    },
    {
     "name": "stdout",
     "output_type": "stream",
     "text": [
      "Warning: query IDs not mapped to any target IDs excluded: 1\n"
     ]
    },
    {
     "name": "stderr",
     "output_type": "stream",
     "text": [
      "1 Hugo symbols not mapped to Entrez gene ID ['LOC101928664']\n"
     ]
    },
    {
     "name": "stdout",
     "output_type": "stream",
     "text": [
      "Warning: query IDs not mapped to any target IDs excluded: 1\n"
     ]
    },
    {
     "name": "stderr",
     "output_type": "stream",
     "text": [
      "1 Hugo symbols not mapped to Entrez gene ID ['LOC101927810']\n"
     ]
    },
    {
     "name": "stdout",
     "output_type": "stream",
     "text": [
      "Warning: query IDs not mapped to any target IDs excluded: 1\n"
     ]
    },
    {
     "name": "stderr",
     "output_type": "stream",
     "text": [
      "1 Hugo symbols not mapped to Entrez gene ID ['B3GNT1']\n"
     ]
    },
    {
     "name": "stdout",
     "output_type": "stream",
     "text": [
      "Warning: query IDs not mapped to any target IDs excluded: 3\n"
     ]
    },
    {
     "name": "stderr",
     "output_type": "stream",
     "text": [
      "3 Hugo symbols not mapped to Entrez gene ID ['ENSG00000197182', 'ENSG00000228768', 'ENSG00000232748']\n"
     ]
    },
    {
     "name": "stdout",
     "output_type": "stream",
     "text": [
      "Warning: query IDs not mapped to any target IDs excluded: 1\n"
     ]
    },
    {
     "name": "stderr",
     "output_type": "stream",
     "text": [
      "1 Hugo symbols not mapped to Entrez gene ID ['MT-CO1']\n"
     ]
    },
    {
     "name": "stdout",
     "output_type": "stream",
     "text": [
      "Warning: query IDs not mapped to any target IDs excluded: 1\n"
     ]
    },
    {
     "name": "stderr",
     "output_type": "stream",
     "text": [
      "1 Hugo symbols not mapped to Entrez gene ID ['ENSG00000222031']\n"
     ]
    },
    {
     "name": "stdout",
     "output_type": "stream",
     "text": [
      "Warning: query IDs not mapped to any target IDs excluded: 1\n"
     ]
    },
    {
     "name": "stderr",
     "output_type": "stream",
     "text": [
      "1 Hugo symbols not mapped to Entrez gene ID ['C10orf2']\n"
     ]
    },
    {
     "name": "stdout",
     "output_type": "stream",
     "text": [
      "Warning: query IDs not mapped to any target IDs excluded: 3\n"
     ]
    },
    {
     "name": "stderr",
     "output_type": "stream",
     "text": [
      "3 Hugo symbols not mapped to Entrez gene ID ['CD97', 'LOC100133301', 'ENSG00000205018']\n"
     ]
    },
    {
     "name": "stdout",
     "output_type": "stream",
     "text": [
      "Warning: query IDs not mapped to any target IDs excluded: 1\n"
     ]
    },
    {
     "name": "stderr",
     "output_type": "stream",
     "text": [
      "1 Hugo symbols not mapped to Entrez gene ID ['MT-CO1']\n"
     ]
    },
    {
     "name": "stdout",
     "output_type": "stream",
     "text": [
      "Warning: query IDs not mapped to any target IDs excluded: 1\n"
     ]
    },
    {
     "name": "stderr",
     "output_type": "stream",
     "text": [
      "1 Hugo symbols not mapped to Entrez gene ID ['ENSG00000257743']\n"
     ]
    },
    {
     "name": "stdout",
     "output_type": "stream",
     "text": [
      "Warning: query IDs not mapped to any target IDs excluded: 1\n"
     ]
    },
    {
     "name": "stderr",
     "output_type": "stream",
     "text": [
      "1 Hugo symbols not mapped to Entrez gene ID ['ENSG00000212884']\n"
     ]
    },
    {
     "name": "stdout",
     "output_type": "stream",
     "text": [
      "Warning: query IDs not mapped to any target IDs excluded: 1\n"
     ]
    },
    {
     "name": "stderr",
     "output_type": "stream",
     "text": [
      "1 Hugo symbols not mapped to Entrez gene ID ['ENSG00000214999']\n"
     ]
    },
    {
     "name": "stdout",
     "output_type": "stream",
     "text": [
      "Warning: query IDs not mapped to any target IDs excluded: 1\n"
     ]
    },
    {
     "name": "stderr",
     "output_type": "stream",
     "text": [
      "1 Hugo symbols not mapped to Entrez gene ID ['ENSG00000215642']\n"
     ]
    },
    {
     "name": "stdout",
     "output_type": "stream",
     "text": [
      "Warning: query IDs not mapped to any target IDs excluded: 1\n"
     ]
    },
    {
     "name": "stderr",
     "output_type": "stream",
     "text": [
      "1 Hugo symbols not mapped to Entrez gene ID ['LOC101930611']\n"
     ]
    },
    {
     "name": "stdout",
     "output_type": "stream",
     "text": [
      "Warning: query IDs not mapped to any target IDs excluded: 2\n"
     ]
    },
    {
     "name": "stderr",
     "output_type": "stream",
     "text": [
      "2 Hugo symbols not mapped to Entrez gene ID ['ENSG00000257743', 'MT-CO1']\n"
     ]
    },
    {
     "name": "stdout",
     "output_type": "stream",
     "text": [
      "Warning: query IDs not mapped to any target IDs excluded: 2\n"
     ]
    },
    {
     "name": "stderr",
     "output_type": "stream",
     "text": [
      "2 Hugo symbols not mapped to Entrez gene ID ['ENSG00000255537', 'MT-CO1']\n"
     ]
    },
    {
     "name": "stdout",
     "output_type": "stream",
     "text": [
      "Warning: query IDs not mapped to any target IDs excluded: 1\n",
      "TGCT\n"
     ]
    },
    {
     "name": "stderr",
     "output_type": "stream",
     "text": [
      "1 Hugo symbols not mapped to Entrez gene ID ['AZI1']\n",
      "preprocessed maf 156 files;\t\traw maf: 0 files\n",
      "select processed maf file for cohort TGCT\n",
      "use path data/TCGA/data/gdac.broadinstitute.org_TGCT.Mutation_Packager_Calls.Level_3.2016012800.0.0/\n",
      "   Hugo_Symbol  Entrez_gene_ID Variant_Classification        function  \\\n",
      "59       FRG1B          284802      Missense_Mutation  point_mutation   \n",
      "0        NBPF1           55672      Missense_Mutation  point_mutation   \n",
      "55      THSD7B           80731      Missense_Mutation  point_mutation   \n",
      "\n",
      "   AAChange    aa_pos  \n",
      "59        .  (NA, NA)  \n",
      "0         .  (NA, NA)  \n",
      "55        .  (NA, NA)  \n",
      "   Hugo_Symbol  Entrez_gene_ID Variant_Classification        function  \\\n",
      "25    C13orf35          400165      Missense_Mutation  point_mutation   \n",
      "53       FRG1B          284802      Missense_Mutation  point_mutation   \n",
      "\n",
      "   AAChange    aa_pos  \n",
      "25        .  (NA, NA)  \n",
      "53        .  (NA, NA)  \n",
      "   Hugo_Symbol  Entrez_gene_ID Variant_Classification        function  \\\n",
      "65      DNAH11            8701      Missense_Mutation  point_mutation   \n",
      "66      DNAH11            8701      Missense_Mutation  point_mutation   \n",
      "14      TUBA1A            7846           In_Frame_Del  point_mutation   \n",
      "\n",
      "   AAChange    aa_pos  \n",
      "65        .  (NA, NA)  \n",
      "66        .  (NA, NA)  \n",
      "14        .  (NA, NA)  \n",
      "   Hugo_Symbol  Entrez_gene_ID Variant_Classification        function  \\\n",
      "38     FAM101B          359845      Missense_Mutation  point_mutation   \n",
      "\n",
      "   AAChange    aa_pos  \n",
      "38        .  (NA, NA)  \n",
      "   Hugo_Symbol  Entrez_gene_ID Variant_Classification        function  \\\n",
      "45       LMCD1           29995      Missense_Mutation  point_mutation   \n",
      "73       NPRL3            8131      Missense_Mutation  point_mutation   \n",
      "\n",
      "   AAChange    aa_pos  \n",
      "45        .  (NA, NA)  \n",
      "73        .  (NA, NA)  \n",
      "   Hugo_Symbol  Entrez_gene_ID Variant_Classification        function  \\\n",
      "74       MMGT1           93380      Missense_Mutation  point_mutation   \n",
      "\n",
      "   AAChange    aa_pos  \n",
      "74        .  (NA, NA)  \n",
      "   Hugo_Symbol  Entrez_gene_ID Variant_Classification        function  \\\n",
      "53           .          253143      Missense_Mutation  point_mutation   \n",
      "54           .          253143      Missense_Mutation  point_mutation   \n",
      "\n",
      "   AAChange    aa_pos  \n",
      "53        .  (NA, NA)  \n",
      "54        .  (NA, NA)  \n",
      "   Hugo_Symbol  Entrez_gene_ID Variant_Classification        function  \\\n",
      "58      NUDT10          170685      Missense_Mutation  point_mutation   \n",
      "\n",
      "   AAChange    aa_pos  \n",
      "58        .  (NA, NA)  \n",
      "   Hugo_Symbol  Entrez_gene_ID Variant_Classification        function  \\\n",
      "63           .          375748      Missense_Mutation  point_mutation   \n",
      "41       RRBP1            6238      Missense_Mutation  point_mutation   \n",
      "\n",
      "   AAChange    aa_pos  \n",
      "63        .  (NA, NA)  \n",
      "41        .  (NA, NA)  \n",
      "   Hugo_Symbol  Entrez_gene_ID Variant_Classification        function  \\\n",
      "49       FRG1B          284802      Missense_Mutation  point_mutation   \n",
      "\n",
      "   AAChange    aa_pos  \n",
      "49        .  (NA, NA)  \n",
      "   Hugo_Symbol  Entrez_gene_ID Variant_Classification        function  \\\n",
      "56           .          140731      Missense_Mutation  point_mutation   \n",
      "\n",
      "   AAChange    aa_pos  \n",
      "56        .  (NA, NA)  \n",
      "   Hugo_Symbol  Entrez_gene_ID Variant_Classification        function  \\\n",
      "38    ADAMTS10           81794      Missense_Mutation  point_mutation   \n",
      "\n",
      "   AAChange    aa_pos  \n",
      "38        .  (NA, NA)  \n",
      "   Hugo_Symbol  Entrez_gene_ID Variant_Classification        function  \\\n",
      "90       KRBA1           84626      Missense_Mutation  point_mutation   \n",
      "\n",
      "   AAChange    aa_pos  \n",
      "90        .  (NA, NA)  \n",
      "    Hugo_Symbol  Entrez_gene_ID Variant_Classification        function  \\\n",
      "119    MAPK8IP2           23542      Missense_Mutation  point_mutation   \n",
      "65       NEURL2          140825      Missense_Mutation  point_mutation   \n",
      "\n",
      "    AAChange    aa_pos  \n",
      "119        .  (NA, NA)  \n",
      "65         .  (NA, NA)  \n",
      "   Hugo_Symbol  Entrez_gene_ID Variant_Classification        function  \\\n",
      "56       RRBP1            6238      Missense_Mutation  point_mutation   \n",
      "\n",
      "   AAChange    aa_pos  \n",
      "56        .  (NA, NA)  \n",
      "    Hugo_Symbol  Entrez_gene_ID Variant_Classification        function  \\\n",
      "4             .          728841      Missense_Mutation  point_mutation   \n",
      "24        DOCK9           23348      Missense_Mutation  point_mutation   \n",
      "109       PRKDC            5591      Missense_Mutation  point_mutation   \n",
      "\n",
      "    AAChange    aa_pos  \n",
      "4          .  (NA, NA)  \n",
      "24         .  (NA, NA)  \n",
      "109        .  (NA, NA)  \n",
      "    Hugo_Symbol  Entrez_gene_ID Variant_Classification        function  \\\n",
      "107      BCYRN1            6872      Missense_Mutation  point_mutation   \n",
      "31        NPRL3            8131      Missense_Mutation  point_mutation   \n",
      "\n",
      "    AAChange    aa_pos  \n",
      "107        .  (NA, NA)  \n",
      "31         .  (NA, NA)  \n",
      "   Hugo_Symbol  Entrez_gene_ID Variant_Classification        function  \\\n",
      "94       FOXP3           50943      Missense_Mutation  point_mutation   \n",
      "\n",
      "   AAChange    aa_pos  \n",
      "94        .  (NA, NA)  \n",
      "   Hugo_Symbol  Entrez_gene_ID Variant_Classification        function  \\\n",
      "66       RRBP1            6238      Missense_Mutation  point_mutation   \n",
      "\n",
      "   AAChange    aa_pos  \n",
      "66        .  (NA, NA)  \n",
      "   Hugo_Symbol  Entrez_gene_ID Variant_Classification        function  \\\n",
      "72       FOLR3            2352      Missense_Mutation  point_mutation   \n",
      "48       RRBP1            6238      Missense_Mutation  point_mutation   \n",
      "73      SEPHS2           22928      Missense_Mutation  point_mutation   \n",
      "74     TSPAN10           83882      Missense_Mutation  point_mutation   \n",
      "\n",
      "   AAChange    aa_pos  \n",
      "72        .  (NA, NA)  \n",
      "48        .  (NA, NA)  \n",
      "73        .  (NA, NA)  \n",
      "74        .  (NA, NA)  \n",
      "   Hugo_Symbol  Entrez_gene_ID Variant_Classification        function  \\\n",
      "62           .          728441      Missense_Mutation  point_mutation   \n",
      "\n",
      "   AAChange    aa_pos  \n",
      "62        .  (NA, NA)  \n",
      "   Hugo_Symbol  Entrez_gene_ID Variant_Classification        function  \\\n",
      "89      SEPHS2           22928      Missense_Mutation  point_mutation   \n",
      "\n",
      "   AAChange    aa_pos  \n",
      "89        .  (NA, NA)  \n",
      "   Hugo_Symbol  Entrez_gene_ID Variant_Classification        function  \\\n",
      "57           .          400986      Missense_Mutation  point_mutation   \n",
      "\n",
      "   AAChange    aa_pos  \n",
      "57        .  (NA, NA)  \n",
      "   Hugo_Symbol  Entrez_gene_ID Variant_Classification        function  \\\n",
      "17         C1R             715      Missense_Mutation  point_mutation   \n",
      "\n",
      "   AAChange    aa_pos  \n",
      "17        .  (NA, NA)  \n",
      "   Hugo_Symbol  Entrez_gene_ID Variant_Classification        function  \\\n",
      "46           .          400986      Missense_Mutation  point_mutation   \n",
      "50       FRG1B          284802      Missense_Mutation  point_mutation   \n",
      "\n",
      "   AAChange    aa_pos  \n",
      "46        .  (NA, NA)  \n",
      "50        .  (NA, NA)  \n",
      "   Hugo_Symbol  Entrez_gene_ID Variant_Classification        function  \\\n",
      "51      FBXL12           54850      Missense_Mutation  point_mutation   \n",
      "53        NFIX            4784      Missense_Mutation  point_mutation   \n",
      "\n",
      "   AAChange    aa_pos  \n",
      "51        .  (NA, NA)  \n",
      "53        .  (NA, NA)  \n",
      "  Hugo_Symbol  Entrez_gene_ID Variant_Classification        function AAChange  \\\n",
      "9           .          646309      Missense_Mutation  point_mutation        .   \n",
      "\n",
      "     aa_pos  \n",
      "9  (NA, NA)  \n",
      "   Hugo_Symbol  Entrez_gene_ID Variant_Classification        function  \\\n",
      "51       FRG1B          284802      Missense_Mutation  point_mutation   \n",
      "80    MAPK8IP2           23542      Missense_Mutation  point_mutation   \n",
      "\n",
      "   AAChange    aa_pos  \n",
      "51        .  (NA, NA)  \n",
      "80        .  (NA, NA)  \n",
      "   Hugo_Symbol  Entrez_gene_ID Variant_Classification        function  \\\n",
      "65       RIBC2           26150      Missense_Mutation  point_mutation   \n",
      "\n",
      "   AAChange    aa_pos  \n",
      "65        .  (NA, NA)  \n",
      "   Hugo_Symbol  Entrez_gene_ID Variant_Classification        function  \\\n",
      "84       ATG9B          285973      Missense_Mutation  point_mutation   \n",
      "93        EPT1           85465      Missense_Mutation  point_mutation   \n",
      "94        GPX1            2876      Missense_Mutation  point_mutation   \n",
      "7       PFKFB3            5209      Missense_Mutation  point_mutation   \n",
      "\n",
      "   AAChange    aa_pos  \n",
      "84        .  (NA, NA)  \n",
      "93        .  (NA, NA)  \n",
      "94        .  (NA, NA)  \n",
      "7         .  (NA, NA)  \n",
      "   Hugo_Symbol  Entrez_gene_ID Variant_Classification        function  \\\n",
      "46           .          400986      Missense_Mutation  point_mutation   \n",
      "\n",
      "   AAChange    aa_pos  \n",
      "46        .  (NA, NA)  \n",
      "   Hugo_Symbol  Entrez_gene_ID Variant_Classification        function  \\\n",
      "44           .          400986      Missense_Mutation  point_mutation   \n",
      "84           .           84443           In_Frame_Del  point_mutation   \n",
      "\n",
      "   AAChange    aa_pos  \n",
      "44        .  (NA, NA)  \n",
      "84        .  (NA, NA)  \n",
      "   Hugo_Symbol  Entrez_gene_ID Variant_Classification        function  \\\n",
      "78     CYP21A2            1589      Missense_Mutation  point_mutation   \n",
      "33       UBFD1           56061      Missense_Mutation  point_mutation   \n",
      "\n",
      "   AAChange    aa_pos  \n",
      "78        .  (NA, NA)  \n",
      "33        .  (NA, NA)  \n",
      "   Hugo_Symbol  Entrez_gene_ID Variant_Classification        function  \\\n",
      "86       CPNE9          151835      Missense_Mutation  point_mutation   \n",
      "39       ENDOV          284131      Missense_Mutation  point_mutation   \n",
      "\n",
      "   AAChange    aa_pos  \n",
      "86        .  (NA, NA)  \n",
      "39        .  (NA, NA)  \n"
     ]
    },
    {
     "name": "stderr",
     "output_type": "stream",
     "text": [
      "   Hugo_Symbol  Entrez_gene_ID Variant_Classification        function  \\\n",
      "24           .          283685           In_Frame_Ins  point_mutation   \n",
      "\n",
      "   AAChange    aa_pos  \n",
      "24        .  (NA, NA)  \n",
      "   Hugo_Symbol  Entrez_gene_ID Variant_Classification        function  \\\n",
      "14       PELI3          246330      Missense_Mutation  point_mutation   \n",
      "\n",
      "   AAChange    aa_pos  \n",
      "14        .  (NA, NA)  \n",
      "   Hugo_Symbol  Entrez_gene_ID Variant_Classification        function  \\\n",
      "17           .          283685      Missense_Mutation  point_mutation   \n",
      "0        MST1L           11223      Missense_Mutation  point_mutation   \n",
      "\n",
      "   AAChange    aa_pos  \n",
      "17        .  (NA, NA)  \n",
      "0         .  (NA, NA)  \n",
      "   Hugo_Symbol  Entrez_gene_ID Variant_Classification        function  \\\n",
      "60           .          339766      Missense_Mutation  point_mutation   \n",
      "\n",
      "   AAChange    aa_pos  \n",
      "60        .  (NA, NA)  \n",
      "    Hugo_Symbol  Entrez_gene_ID Variant_Classification        function  \\\n",
      "155      TXNRD1            7296      Missense_Mutation  point_mutation   \n",
      "\n",
      "    AAChange    aa_pos  \n",
      "155        .  (NA, NA)  \n",
      "   Hugo_Symbol  Entrez_gene_ID Variant_Classification        function  \\\n",
      "84      ZNF274           10782      Missense_Mutation  point_mutation   \n",
      "\n",
      "   AAChange    aa_pos  \n",
      "84        .  (NA, NA)  \n",
      "   Hugo_Symbol  Entrez_gene_ID Variant_Classification        function  \\\n",
      "88        DNM1            1759      Missense_Mutation  point_mutation   \n",
      "\n",
      "   AAChange    aa_pos  \n",
      "88        .  (NA, NA)  \n",
      "   Hugo_Symbol  Entrez_gene_ID Variant_Classification        function  \\\n",
      "33      MAP2K3            5606      Missense_Mutation  point_mutation   \n",
      "\n",
      "   AAChange    aa_pos  \n",
      "33        .  (NA, NA)  \n",
      "  Hugo_Symbol  Entrez_gene_ID Variant_Classification        function AAChange  \\\n",
      "0    C1orf170           84808      Missense_Mutation  point_mutation        .   \n",
      "\n",
      "     aa_pos  \n",
      "0  (NA, NA)  \n",
      "   Hugo_Symbol  Entrez_gene_ID Variant_Classification        function  \\\n",
      "11           .          256815      Missense_Mutation  point_mutation   \n",
      "\n",
      "   AAChange    aa_pos  \n",
      "11        .  (NA, NA)  \n",
      "  Hugo_Symbol  Entrez_gene_ID Variant_Classification        function AAChange  \\\n",
      "6           .          728841      Missense_Mutation  point_mutation        .   \n",
      "\n",
      "     aa_pos  \n",
      "6  (NA, NA)  \n",
      "   Hugo_Symbol  Entrez_gene_ID Variant_Classification        function  \\\n",
      "55    MAPK8IP2           23542      Missense_Mutation  point_mutation   \n",
      "\n",
      "   AAChange    aa_pos  \n",
      "55        .  (NA, NA)  \n",
      "    Hugo_Symbol  Entrez_gene_ID Variant_Classification        function  \\\n",
      "103      INPP5D            3635      Missense_Mutation  point_mutation   \n",
      "\n",
      "    AAChange    aa_pos  \n",
      "103        .  (NA, NA)  \n",
      "   Hugo_Symbol  Entrez_gene_ID Variant_Classification        function  \\\n",
      "33           .          440348      Missense_Mutation  point_mutation   \n",
      "71       PRKDC            5591      Missense_Mutation  point_mutation   \n",
      "\n",
      "   AAChange    aa_pos  \n",
      "33        .  (NA, NA)  \n",
      "71        .  (NA, NA)  \n",
      "   Hugo_Symbol  Entrez_gene_ID Variant_Classification        function  \\\n",
      "60       LTBP4            8425      Missense_Mutation  point_mutation   \n",
      "\n",
      "   AAChange    aa_pos  \n",
      "60        .  (NA, NA)  \n",
      "   Hugo_Symbol  Entrez_gene_ID Variant_Classification        function  \\\n",
      "37           .          400986      Missense_Mutation  point_mutation   \n",
      "\n",
      "   AAChange    aa_pos  \n",
      "37        .  (NA, NA)  \n",
      "   Hugo_Symbol  Entrez_gene_ID Variant_Classification        function  \\\n",
      "76     MAP3K14            9020      Missense_Mutation  point_mutation   \n",
      "72        SAT1            6303      Missense_Mutation  point_mutation   \n",
      "\n",
      "   AAChange    aa_pos  \n",
      "76        .  (NA, NA)  \n",
      "72        .  (NA, NA)  \n",
      "   Hugo_Symbol  Entrez_gene_ID Variant_Classification        function  \\\n",
      "53       FRG1B          284802      Missense_Mutation  point_mutation   \n",
      "\n",
      "   AAChange    aa_pos  \n",
      "53        .  (NA, NA)  \n",
      "   Hugo_Symbol  Entrez_gene_ID Variant_Classification        function  \\\n",
      "23      BAHCC1           57597      Missense_Mutation  point_mutation   \n",
      "\n",
      "   AAChange    aa_pos  \n",
      "23        .  (NA, NA)  \n",
      "   Hugo_Symbol  Entrez_gene_ID Variant_Classification        function  \\\n",
      "47       FRG1B          284802      Missense_Mutation  point_mutation   \n",
      "\n",
      "   AAChange    aa_pos  \n",
      "47        .  (NA, NA)  \n",
      "   Hugo_Symbol  Entrez_gene_ID Variant_Classification        function  \\\n",
      "74      BAHCC1           57597      Missense_Mutation  point_mutation   \n",
      "\n",
      "   AAChange    aa_pos  \n",
      "74        .  (NA, NA)  \n",
      "   Hugo_Symbol  Entrez_gene_ID Variant_Classification        function  \\\n",
      "46        EPT1           85465      Missense_Mutation  point_mutation   \n",
      "\n",
      "   AAChange    aa_pos  \n",
      "46        .  (NA, NA)  \n",
      "   Hugo_Symbol  Entrez_gene_ID Variant_Classification        function  \\\n",
      "60     FAM131A          131408      Missense_Mutation  point_mutation   \n",
      "85        TAP2            6891      Missense_Mutation  point_mutation   \n",
      "\n",
      "   AAChange    aa_pos  \n",
      "60        .  (NA, NA)  \n",
      "85        .  (NA, NA)  \n",
      "   Hugo_Symbol  Entrez_gene_ID Variant_Classification        function  \\\n",
      "74      BCYRN1            6872      Missense_Mutation  point_mutation   \n",
      "\n",
      "   AAChange    aa_pos  \n",
      "74        .  (NA, NA)  \n",
      "   Hugo_Symbol  Entrez_gene_ID Variant_Classification        function  \\\n",
      "8            .       100288142      Missense_Mutation  point_mutation   \n",
      "43           .          440348      Missense_Mutation  point_mutation   \n",
      "56           .          400986      Missense_Mutation  point_mutation   \n",
      "\n",
      "   AAChange    aa_pos  \n",
      "8         .  (NA, NA)  \n",
      "43        .  (NA, NA)  \n",
      "56        .  (NA, NA)  \n",
      "   Hugo_Symbol  Entrez_gene_ID Variant_Classification        function  \\\n",
      "25           .          283685           In_Frame_Del  point_mutation   \n",
      "\n",
      "   AAChange    aa_pos  \n",
      "25        .  (NA, NA)  \n",
      "   Hugo_Symbol  Entrez_gene_ID Variant_Classification        function  \\\n",
      "52           .          388795      Missense_Mutation  point_mutation   \n",
      "84        DNM1            1759      Missense_Mutation  point_mutation   \n",
      "\n",
      "   AAChange    aa_pos  \n",
      "52        .  (NA, NA)  \n",
      "84        .  (NA, NA)  \n",
      "   Hugo_Symbol  Entrez_gene_ID Variant_Classification        function  \\\n",
      "85           .           30816      Missense_Mutation  point_mutation   \n",
      "\n",
      "   AAChange    aa_pos  \n",
      "85        .  (NA, NA)  \n",
      "   Hugo_Symbol  Entrez_gene_ID Variant_Classification        function  \\\n",
      "83     FAM86B1           85002      Missense_Mutation  point_mutation   \n",
      "17        NACA            4666      Missense_Mutation  point_mutation   \n",
      "\n",
      "   AAChange    aa_pos  \n",
      "83        .  (NA, NA)  \n",
      "17        .  (NA, NA)  \n",
      "   Hugo_Symbol  Entrez_gene_ID Variant_Classification        function  \\\n",
      "39     FAM101B          359845      Missense_Mutation  point_mutation   \n",
      "65       FRG1B          284802      Missense_Mutation  point_mutation   \n",
      "30       PCSK6            5046      Missense_Mutation  point_mutation   \n",
      "\n",
      "   AAChange    aa_pos  \n",
      "39        .  (NA, NA)  \n",
      "65        .  (NA, NA)  \n",
      "30        .  (NA, NA)  \n",
      "    Hugo_Symbol  Entrez_gene_ID Variant_Classification        function  \\\n",
      "61        CHIT1            1118      Missense_Mutation  point_mutation   \n",
      "519       PRKDC            5591      Missense_Mutation  point_mutation   \n",
      "52     RABGAP1L            9910      Missense_Mutation  point_mutation   \n",
      "\n",
      "    AAChange    aa_pos  \n",
      "61         .  (NA, NA)  \n",
      "519        .  (NA, NA)  \n",
      "52         .  (NA, NA)  \n",
      "    Hugo_Symbol  Entrez_gene_ID Variant_Classification        function  \\\n",
      "2             .          284498      Missense_Mutation  point_mutation   \n",
      "3             .          284498      Missense_Mutation  point_mutation   \n",
      "10            .          780789      Missense_Mutation  point_mutation   \n",
      "52            .          283463      Missense_Mutation  point_mutation   \n",
      "54            .          283463      Missense_Mutation  point_mutation   \n",
      "55            .          283463      Missense_Mutation  point_mutation   \n",
      "56            .          283463      Missense_Mutation  point_mutation   \n",
      "58            .          283463      Missense_Mutation  point_mutation   \n",
      "63            .          144453      Missense_Mutation  point_mutation   \n",
      "129           .            1550      Missense_Mutation  point_mutation   \n",
      "149           .          339766      Missense_Mutation  point_mutation   \n",
      "160           .          373856      Missense_Mutation  point_mutation   \n",
      "\n",
      "    AAChange    aa_pos  \n",
      "2          .  (NA, NA)  \n",
      "3          .  (NA, NA)  \n",
      "10         .  (NA, NA)  \n",
      "52         .  (NA, NA)  \n",
      "54         .  (NA, NA)  \n",
      "55         .  (NA, NA)  \n",
      "56         .  (NA, NA)  \n",
      "58         .  (NA, NA)  \n",
      "63         .  (NA, NA)  \n",
      "129        .  (NA, NA)  \n",
      "149        .  (NA, NA)  \n",
      "160        .  (NA, NA)  \n",
      "TCGA-VF-A8A9-01A-11D-A435-10 TGCT 12 point mutations without a position 43 remain\n",
      "    Hugo_Symbol  Entrez_gene_ID Variant_Classification        function  \\\n",
      "24            .          283463      Missense_Mutation  point_mutation   \n",
      "25            .          283463      Missense_Mutation  point_mutation   \n",
      "29            .          144453      Missense_Mutation  point_mutation   \n",
      "70            .          339766      Missense_Mutation  point_mutation   \n",
      "101           .            6960      Missense_Mutation  point_mutation   \n",
      "106           .          347265      Missense_Mutation  point_mutation   \n",
      "122           .          286423      Missense_Mutation  point_mutation   \n",
      "17    C10orf105          414152      Missense_Mutation  point_mutation   \n",
      "\n",
      "    AAChange    aa_pos  \n",
      "24         .  (NA, NA)  \n",
      "25         .  (NA, NA)  \n",
      "29         .  (NA, NA)  \n",
      "70         .  (NA, NA)  \n",
      "101        .  (NA, NA)  \n",
      "106        .  (NA, NA)  \n",
      "122        .  (NA, NA)  \n",
      "17         .  (NA, NA)  \n",
      "TCGA-VF-A8AA-01A-11D-A435-10 TGCT 8 point mutations without a position 27 remain\n"
     ]
    },
    {
     "name": "stderr",
     "output_type": "stream",
     "text": [
      "   Hugo_Symbol  Entrez_gene_ID Variant_Classification        function  \\\n",
      "0        MACF1           23499      Missense_Mutation  point_mutation   \n",
      "22      MRPS11           64963      Missense_Mutation  point_mutation   \n",
      "62     UGT2B10            7365      Missense_Mutation  point_mutation   \n",
      "\n",
      "   AAChange    aa_pos  \n",
      "0         .  (NA, NA)  \n",
      "22        .  (NA, NA)  \n",
      "62        .  (NA, NA)  \n",
      "   Hugo_Symbol  Entrez_gene_ID Variant_Classification        function  \\\n",
      "54           .          400986      Missense_Mutation  point_mutation   \n",
      "36     FAM101B          359845      Missense_Mutation  point_mutation   \n",
      "33       PSKH1            5681      Missense_Mutation  point_mutation   \n",
      "\n",
      "   AAChange    aa_pos  \n",
      "54        .  (NA, NA)  \n",
      "36        .  (NA, NA)  \n",
      "33        .  (NA, NA)  \n",
      "      Hugo_Symbol  Entrez_gene_ID Variant_Classification        function  \\\n",
      "0               .          339457      Missense_Mutation  point_mutation   \n",
      "1               .          339457      Missense_Mutation  point_mutation   \n",
      "2               .          284498      Missense_Mutation  point_mutation   \n",
      "3               .          284498      Missense_Mutation  point_mutation   \n",
      "6               .          284498      Missense_Mutation  point_mutation   \n",
      "38              .          388761      Missense_Mutation  point_mutation   \n",
      "39              .          388761      Missense_Mutation  point_mutation   \n",
      "44              .          653365      Missense_Mutation  point_mutation   \n",
      "45              .          653045      Missense_Mutation  point_mutation   \n",
      "52              .          340990      Missense_Mutation  point_mutation   \n",
      "53              .          340990      Missense_Mutation  point_mutation   \n",
      "55              .          340990      Missense_Mutation  point_mutation   \n",
      "68              .          283463      Missense_Mutation  point_mutation   \n",
      "70              .          283463      Missense_Mutation  point_mutation   \n",
      "71              .          283463      Missense_Mutation  point_mutation   \n",
      "94              .          319089      Missense_Mutation  point_mutation   \n",
      "126             .          400555      Missense_Mutation  point_mutation   \n",
      "127             .          400555      Missense_Mutation  point_mutation   \n",
      "149             .           10130      Missense_Mutation  point_mutation   \n",
      "151             .           10130      Missense_Mutation  point_mutation   \n",
      "234             .          200958      Missense_Mutation  point_mutation   \n",
      "255             .            9425      Missense_Mutation  point_mutation   \n",
      "262             .          729583      Missense_Mutation  point_mutation   \n",
      "338             .           84443           In_Frame_Del  point_mutation   \n",
      "340             .          286423      Missense_Mutation  point_mutation   \n",
      "146        CAPNS1             826           In_Frame_Del  point_mutation   \n",
      "186         FRG1B          284802      Missense_Mutation  point_mutation   \n",
      "178  LOC100507443            1419      Missense_Mutation  point_mutation   \n",
      "\n",
      "    AAChange    aa_pos  \n",
      "0          .  (NA, NA)  \n",
      "1          .  (NA, NA)  \n",
      "2          .  (NA, NA)  \n",
      "3          .  (NA, NA)  \n",
      "6          .  (NA, NA)  \n",
      "38         .  (NA, NA)  \n",
      "39         .  (NA, NA)  \n",
      "44         .  (NA, NA)  \n",
      "45         .  (NA, NA)  \n",
      "52         .  (NA, NA)  \n",
      "53         .  (NA, NA)  \n",
      "55         .  (NA, NA)  \n",
      "68         .  (NA, NA)  \n",
      "70         .  (NA, NA)  \n",
      "71         .  (NA, NA)  \n",
      "94         .  (NA, NA)  \n",
      "126        .  (NA, NA)  \n",
      "127        .  (NA, NA)  \n",
      "149        .  (NA, NA)  \n",
      "151        .  (NA, NA)  \n",
      "234        .  (NA, NA)  \n",
      "255        .  (NA, NA)  \n",
      "262        .  (NA, NA)  \n",
      "338        .  (NA, NA)  \n",
      "340        .  (NA, NA)  \n",
      "146        .  (NA, NA)  \n",
      "186        .  (NA, NA)  \n",
      "178        .  (NA, NA)  \n",
      "TCGA-W4-A7U2-01A-11D-A435-10 TGCT 28 point mutations without a position 39 remain\n",
      "      Hugo_Symbol  Entrez_gene_ID Variant_Classification        function  \\\n",
      "2               .          284498      Missense_Mutation  point_mutation   \n",
      "3               .          284498      Missense_Mutation  point_mutation   \n",
      "5               .          284498      Missense_Mutation  point_mutation   \n",
      "7               .          284498      Missense_Mutation  point_mutation   \n",
      "42              .          388761      Missense_Mutation  point_mutation   \n",
      "43              .          388761      Missense_Mutation  point_mutation   \n",
      "48              .          653365      Missense_Mutation  point_mutation   \n",
      "55              .            4586      Missense_Mutation  point_mutation   \n",
      "57              .          340990      Missense_Mutation  point_mutation   \n",
      "58              .          340990      Missense_Mutation  point_mutation   \n",
      "77              .          283463      Missense_Mutation  point_mutation   \n",
      "79              .          283463      Missense_Mutation  point_mutation   \n",
      "89              .          144535      Missense_Mutation  point_mutation   \n",
      "168             .           23666      Missense_Mutation  point_mutation   \n",
      "175             .           85354      Missense_Mutation  point_mutation   \n",
      "181             .            5273      Missense_Mutation  point_mutation   \n",
      "208             .           10130      Missense_Mutation  point_mutation   \n",
      "261             .          339766      Missense_Mutation  point_mutation   \n",
      "265             .          388795      Missense_Mutation  point_mutation   \n",
      "293             .          152110      Missense_Mutation  point_mutation   \n",
      "356             .            9425      Missense_Mutation  point_mutation   \n",
      "357             .            9425      Missense_Mutation  point_mutation   \n",
      "358             .            9425      Missense_Mutation  point_mutation   \n",
      "359             .            9425      Missense_Mutation  point_mutation   \n",
      "365             .          729583      Missense_Mutation  point_mutation   \n",
      "466             .          286423      Missense_Mutation  point_mutation   \n",
      "192        CAPNS1             826           In_Frame_Del  point_mutation   \n",
      "286        GAS2L1           10634      Missense_Mutation  point_mutation   \n",
      "252  LOC100507443            1419      Missense_Mutation  point_mutation   \n",
      "\n",
      "    AAChange    aa_pos  \n",
      "2          .  (NA, NA)  \n",
      "3          .  (NA, NA)  \n",
      "5          .  (NA, NA)  \n",
      "7          .  (NA, NA)  \n",
      "42         .  (NA, NA)  \n",
      "43         .  (NA, NA)  \n",
      "48         .  (NA, NA)  \n",
      "55         .  (NA, NA)  \n",
      "57         .  (NA, NA)  \n",
      "58         .  (NA, NA)  \n",
      "77         .  (NA, NA)  \n",
      "79         .  (NA, NA)  \n",
      "89         .  (NA, NA)  \n",
      "168        .  (NA, NA)  \n",
      "175        .  (NA, NA)  \n",
      "181        .  (NA, NA)  \n",
      "208        .  (NA, NA)  \n",
      "261        .  (NA, NA)  \n",
      "265        .  (NA, NA)  \n",
      "293        .  (NA, NA)  \n",
      "356        .  (NA, NA)  \n",
      "357        .  (NA, NA)  \n",
      "358        .  (NA, NA)  \n",
      "359        .  (NA, NA)  \n",
      "365        .  (NA, NA)  \n",
      "466        .  (NA, NA)  \n",
      "192        .  (NA, NA)  \n",
      "286        .  (NA, NA)  \n",
      "252        .  (NA, NA)  \n",
      "TCGA-W4-A7U3-01A-12D-A435-10 TGCT 29 point mutations without a position 67 remain\n",
      "   Hugo_Symbol  Entrez_gene_ID Variant_Classification        function  \\\n",
      "36           .            9425      Missense_Mutation  point_mutation   \n",
      "28        GYPC            2995      Missense_Mutation  point_mutation   \n",
      "13        NACA            4666      Missense_Mutation  point_mutation   \n",
      "\n",
      "   AAChange    aa_pos  \n",
      "36        .  (NA, NA)  \n",
      "28        .  (NA, NA)  \n",
      "13        .  (NA, NA)  \n",
      "   Hugo_Symbol  Entrez_gene_ID Variant_Classification        function  \\\n",
      "11           .          388761      Missense_Mutation  point_mutation   \n",
      "60           .          200958      Missense_Mutation  point_mutation   \n",
      "\n",
      "   AAChange    aa_pos  \n",
      "11        .  (NA, NA)  \n",
      "60        .  (NA, NA)  \n",
      "   Hugo_Symbol  Entrez_gene_ID Variant_Classification        function  \\\n",
      "69       CECR2           27443      Missense_Mutation  point_mutation   \n",
      "95       KRBA1           84626      Missense_Mutation  point_mutation   \n",
      "90       ULBP3           79465      Missense_Mutation  point_mutation   \n",
      "\n",
      "   AAChange    aa_pos  \n",
      "69        .  (NA, NA)  \n",
      "95        .  (NA, NA)  \n",
      "90        .  (NA, NA)  \n",
      "   Hugo_Symbol  Entrez_gene_ID Variant_Classification        function  \\\n",
      "47       OLFM2           93145      Missense_Mutation  point_mutation   \n",
      "\n",
      "   AAChange    aa_pos  \n",
      "47        .  (NA, NA)  \n",
      "  Hugo_Symbol  Entrez_gene_ID Variant_Classification        function AAChange  \\\n",
      "1      AGTRAP           57085      Missense_Mutation  point_mutation        .   \n",
      "\n",
      "     aa_pos  \n",
      "1  (NA, NA)  \n",
      "   Hugo_Symbol  Entrez_gene_ID Variant_Classification        function  \\\n",
      "56       LTBP4            8425      Missense_Mutation  point_mutation   \n",
      "\n",
      "   AAChange    aa_pos  \n",
      "56        .  (NA, NA)  \n"
     ]
    },
    {
     "name": "stderr",
     "output_type": "stream",
     "text": [
      "   Hugo_Symbol  Entrez_gene_ID Variant_Classification        function  \\\n",
      "3            .          343170      Missense_Mutation  point_mutation   \n",
      "76       SIMC1          375484      Missense_Mutation  point_mutation   \n",
      "\n",
      "   AAChange    aa_pos  \n",
      "3         .  (NA, NA)  \n",
      "76        .  (NA, NA)  \n",
      "   Hugo_Symbol  Entrez_gene_ID Variant_Classification        function  \\\n",
      "35           .          283463      Missense_Mutation  point_mutation   \n",
      "51      ANKLE1          126549           In_Frame_Del  point_mutation   \n",
      "\n",
      "   AAChange    aa_pos  \n",
      "35        .  (NA, NA)  \n",
      "51        .  (NA, NA)  \n",
      "   Hugo_Symbol  Entrez_gene_ID Variant_Classification        function  \\\n",
      "42      ZNF525          170958      Missense_Mutation  point_mutation   \n",
      "\n",
      "   AAChange    aa_pos  \n",
      "42        .  (NA, NA)  \n",
      "   Hugo_Symbol  Entrez_gene_ID Variant_Classification        function  \\\n",
      "63           .           29801      Missense_Mutation  point_mutation   \n",
      "13        GRM5            2915      Missense_Mutation  point_mutation   \n",
      "\n",
      "   AAChange    aa_pos  \n",
      "63        .  (NA, NA)  \n",
      "13        .  (NA, NA)  \n",
      "   Hugo_Symbol  Entrez_gene_ID Variant_Classification        function  \\\n",
      "72           .          378108      Missense_Mutation  point_mutation   \n",
      "\n",
      "   AAChange    aa_pos  \n",
      "72        .  (NA, NA)  \n",
      "   Hugo_Symbol  Entrez_gene_ID Variant_Classification        function  \\\n",
      "26       SKOR1          390598      Missense_Mutation  point_mutation   \n",
      "\n",
      "   AAChange    aa_pos  \n",
      "26        .  (NA, NA)  \n",
      "   Hugo_Symbol  Entrez_gene_ID Variant_Classification        function  \\\n",
      "66           .          347265      Missense_Mutation  point_mutation   \n",
      "72      BAHCC1           57597      Missense_Mutation  point_mutation   \n",
      "\n",
      "   AAChange    aa_pos  \n",
      "66        .  (NA, NA)  \n",
      "72        .  (NA, NA)  \n",
      "   Hugo_Symbol  Entrez_gene_ID Variant_Classification        function  \\\n",
      "47       FRG1B          284802      Missense_Mutation  point_mutation   \n",
      "48       FRG1B          284802      Missense_Mutation  point_mutation   \n",
      "\n",
      "   AAChange    aa_pos  \n",
      "47        .  (NA, NA)  \n",
      "48        .  (NA, NA)  \n",
      "   Hugo_Symbol  Entrez_gene_ID Variant_Classification        function  \\\n",
      "16           .          283685      Missense_Mutation  point_mutation   \n",
      "41       THADA           63892      Missense_Mutation  point_mutation   \n",
      "\n",
      "   AAChange    aa_pos  \n",
      "16        .  (NA, NA)  \n",
      "41        .  (NA, NA)  \n",
      "  Hugo_Symbol  Entrez_gene_ID Variant_Classification        function AAChange  \\\n",
      "7      NBPF10       100132406      Missense_Mutation  point_mutation        .   \n",
      "\n",
      "     aa_pos  \n",
      "7  (NA, NA)  \n",
      "   Hugo_Symbol  Entrez_gene_ID Variant_Classification        function  \\\n",
      "65      BAHCC1           57597      Missense_Mutation  point_mutation   \n",
      "41       RRBP1            6238      Missense_Mutation  point_mutation   \n",
      "\n",
      "   AAChange    aa_pos  \n",
      "65        .  (NA, NA)  \n",
      "41        .  (NA, NA)  \n",
      "   Hugo_Symbol  Entrez_gene_ID Variant_Classification        function  \\\n",
      "39       FRG1B          284802      Missense_Mutation  point_mutation   \n",
      "\n",
      "   AAChange    aa_pos  \n",
      "39        .  (NA, NA)  \n",
      "   Hugo_Symbol  Entrez_gene_ID Variant_Classification        function  \\\n",
      "62      TXNRD2           10587      Missense_Mutation  point_mutation   \n",
      "\n",
      "   AAChange    aa_pos  \n",
      "62        .  (NA, NA)  \n",
      "   Hugo_Symbol  Entrez_gene_ID Variant_Classification        function  \\\n",
      "33       EPCAM            4072      Missense_Mutation  point_mutation   \n",
      "\n",
      "   AAChange    aa_pos  \n",
      "33        .  (NA, NA)  \n",
      "   Hugo_Symbol  Entrez_gene_ID Variant_Classification        function  \\\n",
      "35     ARHGEF4           50649      Missense_Mutation  point_mutation   \n",
      "\n",
      "   AAChange    aa_pos  \n",
      "35        .  (NA, NA)  \n",
      "   Hugo_Symbol  Entrez_gene_ID Variant_Classification        function  \\\n",
      "45           .            7617      Missense_Mutation  point_mutation   \n",
      "52       PDE6D           64708      Missense_Mutation  point_mutation   \n",
      "90      TXNRD2           10587      Missense_Mutation  point_mutation   \n",
      "\n",
      "   AAChange    aa_pos  \n",
      "45        .  (NA, NA)  \n",
      "52        .  (NA, NA)  \n",
      "90        .  (NA, NA)  \n",
      "    Hugo_Symbol  Entrez_gene_ID Variant_Classification        function  \\\n",
      "114       KRBA1           84626      Missense_Mutation  point_mutation   \n",
      "\n",
      "    AAChange    aa_pos  \n",
      "114        .  (NA, NA)  \n",
      "   Hugo_Symbol  Entrez_gene_ID Variant_Classification        function  \\\n",
      "51         RYK            6259      Missense_Mutation  point_mutation   \n",
      "\n",
      "   AAChange    aa_pos  \n",
      "51        .  (NA, NA)  \n",
      "   Hugo_Symbol  Entrez_gene_ID Variant_Classification        function  \\\n",
      "36       FRG1B          284802      Missense_Mutation  point_mutation   \n",
      "\n",
      "   AAChange    aa_pos  \n",
      "36        .  (NA, NA)  \n",
      "   Hugo_Symbol  Entrez_gene_ID Variant_Classification        function  \\\n",
      "88       ATG9B          285973      Missense_Mutation  point_mutation   \n",
      "\n",
      "   AAChange    aa_pos  \n",
      "88        .  (NA, NA)  \n",
      "   Hugo_Symbol  Entrez_gene_ID Variant_Classification        function  \\\n",
      "14        NACA            4666      Missense_Mutation  point_mutation   \n",
      "\n",
      "   AAChange    aa_pos  \n",
      "14        .  (NA, NA)  \n",
      "   Hugo_Symbol  Entrez_gene_ID Variant_Classification        function  \\\n",
      "23           .          283685           In_Frame_Ins  point_mutation   \n",
      "\n",
      "   AAChange    aa_pos  \n",
      "23        .  (NA, NA)  \n",
      "   Hugo_Symbol  Entrez_gene_ID Variant_Classification        function  \\\n",
      "1  FPGT-TNNI3K       100144878      Missense_Mutation  point_mutation   \n",
      "\n",
      "  AAChange    aa_pos  \n",
      "1        .  (NA, NA)  \n",
      "    Hugo_Symbol  Entrez_gene_ID Variant_Classification        function  \\\n",
      "104       LTBP4            8425      Missense_Mutation  point_mutation   \n",
      "\n",
      "    AAChange    aa_pos  \n",
      "104        .  (NA, NA)  \n",
      "   Hugo_Symbol  Entrez_gene_ID Variant_Classification        function  \\\n",
      "64      BAHCC1           57597      Missense_Mutation  point_mutation   \n",
      "\n",
      "   AAChange    aa_pos  \n",
      "64        .  (NA, NA)  \n"
     ]
    },
    {
     "name": "stdout",
     "output_type": "stream",
     "text": [
      "THCA\n"
     ]
    },
    {
     "name": "stderr",
     "output_type": "stream",
     "text": [
      "preprocessed maf 406 files;\t\traw maf: 0 files\n",
      "select processed maf file for cohort THCA\n",
      "use path data/TCGA/data/gdac.broadinstitute.org_THCA.Mutation_Packager_Calls.Level_3.2016012800.0.0/\n"
     ]
    },
    {
     "name": "stdout",
     "output_type": "stream",
     "text": [
      "THYM\n"
     ]
    },
    {
     "name": "stderr",
     "output_type": "stream",
     "text": [
      "preprocessed maf 124 files;\t\traw maf: 0 files\n",
      "select processed maf file for cohort THYM\n",
      "use path data/TCGA/data/gdac.broadinstitute.org_THYM.Mutation_Packager_Calls.Level_3.2016012800.0.0/\n"
     ]
    },
    {
     "name": "stdout",
     "output_type": "stream",
     "text": [
      "Warning: query IDs not mapped to any target IDs excluded: 2\n",
      "Warning: query IDs not mapped to any target IDs excluded: 1\n"
     ]
    },
    {
     "name": "stderr",
     "output_type": "stream",
     "text": [
      "2 Hugo symbols not mapped to Entrez gene ID ['MT-CO1', 'MT-ND5']\n",
      "1 Hugo symbols not mapped to Entrez gene ID ['MT-ND5']\n"
     ]
    },
    {
     "name": "stdout",
     "output_type": "stream",
     "text": [
      "Warning: query IDs not mapped to any target IDs excluded: 1\n"
     ]
    },
    {
     "name": "stderr",
     "output_type": "stream",
     "text": [
      "1 Hugo symbols not mapped to Entrez gene ID ['MT-CO1']\n"
     ]
    },
    {
     "name": "stdout",
     "output_type": "stream",
     "text": [
      "Warning: query IDs not mapped to any target IDs excluded: 1\n",
      "Warning: query IDs not mapped to any target IDs excluded: 1\n"
     ]
    },
    {
     "name": "stderr",
     "output_type": "stream",
     "text": [
      "1 Hugo symbols not mapped to Entrez gene ID ['MT-CO1']\n",
      "1 Hugo symbols not mapped to Entrez gene ID ['MT-ND5']\n"
     ]
    },
    {
     "name": "stdout",
     "output_type": "stream",
     "text": [
      "Warning: query IDs not mapped to any target IDs excluded: 1\n"
     ]
    },
    {
     "name": "stderr",
     "output_type": "stream",
     "text": [
      "1 Hugo symbols not mapped to Entrez gene ID ['MT-ATP6']\n"
     ]
    },
    {
     "name": "stdout",
     "output_type": "stream",
     "text": [
      "Warning: query IDs not mapped to any target IDs excluded: 1\n"
     ]
    },
    {
     "name": "stderr",
     "output_type": "stream",
     "text": [
      "1 Hugo symbols not mapped to Entrez gene ID ['ENSG00000263264']\n"
     ]
    },
    {
     "name": "stdout",
     "output_type": "stream",
     "text": [
      "Warning: query IDs not mapped to any target IDs excluded: 2\n"
     ]
    },
    {
     "name": "stderr",
     "output_type": "stream",
     "text": [
      "2 Hugo symbols not mapped to Entrez gene ID ['LOC101930102', 'MT-ND6']\n"
     ]
    },
    {
     "name": "stdout",
     "output_type": "stream",
     "text": [
      "Warning: query IDs not mapped to any target IDs excluded: 1\n"
     ]
    },
    {
     "name": "stderr",
     "output_type": "stream",
     "text": [
      "1 Hugo symbols not mapped to Entrez gene ID ['ENSG00000256530']\n"
     ]
    },
    {
     "name": "stdout",
     "output_type": "stream",
     "text": [
      "Warning: query IDs not mapped to any target IDs excluded: 1\n"
     ]
    },
    {
     "name": "stderr",
     "output_type": "stream",
     "text": [
      "1 Hugo symbols not mapped to Entrez gene ID ['MT-ND6']\n"
     ]
    },
    {
     "name": "stdout",
     "output_type": "stream",
     "text": [
      "Warning: query IDs not mapped to any target IDs excluded: 1\n",
      "Warning: query IDs not mapped to any target IDs excluded: 2\n"
     ]
    },
    {
     "name": "stderr",
     "output_type": "stream",
     "text": [
      "1 Hugo symbols not mapped to Entrez gene ID ['MT-ND5']\n",
      "2 Hugo symbols not mapped to Entrez gene ID ['MT-ATP6', 'MT-CO1']\n"
     ]
    },
    {
     "name": "stdout",
     "output_type": "stream",
     "text": [
      "Warning: query IDs not mapped to any target IDs excluded: 1\n"
     ]
    },
    {
     "name": "stderr",
     "output_type": "stream",
     "text": [
      "1 Hugo symbols not mapped to Entrez gene ID ['ENSG00000176984']\n"
     ]
    },
    {
     "name": "stdout",
     "output_type": "stream",
     "text": [
      "Warning: query IDs not mapped to any target IDs excluded: 1\n",
      "Warning: query IDs not mapped to any target IDs excluded: 1\n"
     ]
    },
    {
     "name": "stderr",
     "output_type": "stream",
     "text": [
      "1 Hugo symbols not mapped to Entrez gene ID ['MT-ND5']\n",
      "1 Hugo symbols not mapped to Entrez gene ID ['MT-ND6']\n"
     ]
    },
    {
     "name": "stdout",
     "output_type": "stream",
     "text": [
      "Warning: query IDs not mapped to any target IDs excluded: 1\n",
      "Warning: query IDs not mapped to any target IDs excluded: 1\n",
      "Warning: query IDs not mapped to any target IDs excluded: 1\n"
     ]
    },
    {
     "name": "stderr",
     "output_type": "stream",
     "text": [
      "1 Hugo symbols not mapped to Entrez gene ID ['MT-ND5']\n",
      "1 Hugo symbols not mapped to Entrez gene ID ['MT-ND4L']\n",
      "1 Hugo symbols not mapped to Entrez gene ID ['MT-ND5']\n"
     ]
    },
    {
     "name": "stdout",
     "output_type": "stream",
     "text": [
      "Warning: query IDs not mapped to any target IDs excluded: 1\n"
     ]
    },
    {
     "name": "stderr",
     "output_type": "stream",
     "text": [
      "1 Hugo symbols not mapped to Entrez gene ID ['MT-CO1']\n"
     ]
    },
    {
     "name": "stdout",
     "output_type": "stream",
     "text": [
      "Warning: query IDs not mapped to any target IDs excluded: 1\n"
     ]
    },
    {
     "name": "stderr",
     "output_type": "stream",
     "text": [
      "1 Hugo symbols not mapped to Entrez gene ID ['ENSG00000260415']\n"
     ]
    },
    {
     "name": "stdout",
     "output_type": "stream",
     "text": [
      "Warning: query IDs not mapped to any target IDs excluded: 3\n"
     ]
    },
    {
     "name": "stderr",
     "output_type": "stream",
     "text": [
      "3 Hugo symbols not mapped to Entrez gene ID ['CSRP2BP', 'ENSG00000243501', 'ENSG00000269089']\n"
     ]
    },
    {
     "name": "stdout",
     "output_type": "stream",
     "text": [
      "Warning: query IDs not mapped to any target IDs excluded: 1\n"
     ]
    },
    {
     "name": "stderr",
     "output_type": "stream",
     "text": [
      "1 Hugo symbols not mapped to Entrez gene ID ['MT-CO1']\n"
     ]
    },
    {
     "name": "stdout",
     "output_type": "stream",
     "text": [
      "Warning: query IDs not mapped to any target IDs excluded: 1\n",
      "Warning: query IDs not mapped to any target IDs excluded: 1\n"
     ]
    },
    {
     "name": "stderr",
     "output_type": "stream",
     "text": [
      "1 Hugo symbols not mapped to Entrez gene ID ['MT-ND6']\n",
      "1 Hugo symbols not mapped to Entrez gene ID ['AIM1']\n"
     ]
    },
    {
     "name": "stdout",
     "output_type": "stream",
     "text": [
      "UCEC\n"
     ]
    },
    {
     "name": "stderr",
     "output_type": "stream",
     "text": [
      "preprocessed maf 249 files;\t\traw maf: 0 files\n",
      "select processed maf file for cohort UCEC\n",
      "use path data/TCGA/data/gdac.broadinstitute.org_UCEC.Mutation_Packager_Calls.Level_3.2016012800.0.0/\n"
     ]
    },
    {
     "name": "stdout",
     "output_type": "stream",
     "text": [
      "UCS\n"
     ]
    },
    {
     "name": "stderr",
     "output_type": "stream",
     "text": [
      "preprocessed maf 58 files;\t\traw maf: 0 files\n",
      "select processed maf file for cohort UCS\n",
      "use path data/TCGA/data/gdac.broadinstitute.org_UCS.Mutation_Packager_Calls.Level_3.2016012800.0.0/\n"
     ]
    },
    {
     "name": "stdout",
     "output_type": "stream",
     "text": [
      "UVM\n"
     ]
    },
    {
     "name": "stderr",
     "output_type": "stream",
     "text": [
      "preprocessed maf 81 files;\t\traw maf: 0 files\n",
      "select processed maf file for cohort UVM\n",
      "use path data/TCGA/data/gdac.broadinstitute.org_UVM.Mutation_Packager_Calls.Level_3.2016012800.0.0/\n"
     ]
    }
   ],
   "source": [
    "tcga_point = ['In_Frame_Del','In_Frame_Ins','Missense_Mutation']\n",
    "tcga_truncating = ['Frame_Shift_Del','Frame_Shift_Ins','Nonsense_Mutation',\n",
    "                   'Splice_Site','Translation_Start_Site','Nonstop_Mutation']\n",
    "\n",
    "vatiant_types = set()\n",
    "for cohort in cohorts: \n",
    "    print(cohort)\n",
    "    tcga = {}\n",
    "    \n",
    "    # decide which mutation file to use\n",
    "    proc_maf_path = \"data/TCGA/data/gdac.broadinstitute.org_\"+cohort+\".Mutation_Packager_Calls.Level_3.2016012800.0.0/\"\n",
    "    raw_maf_path = \"data/TCGA/data_raw/gdac.broadinstitute.org_\"+cohort+\".Mutation_Packager_Raw_Calls.Level_3.2016012800.0.0/\"\n",
    "    proc_maf_files, raw_maf_files = 0, 0 \n",
    "    if os.path.exists(proc_maf_path):\n",
    "        proc_maf_files = len(os.listdir(proc_maf_path))\n",
    "    if os.path.exists(raw_maf_path):\n",
    "        raw_maf_files =  len(os.listdir(raw_maf_path))\n",
    "    # select the one with maximal number of mutations\n",
    "    print(\"preprocessed maf\",proc_maf_files,\"files;\\t\\traw maf:\",raw_maf_files,\"files\",file = sys.stderr)\n",
    "    if raw_maf_files > proc_maf_files:\n",
    "        path = raw_maf_path\n",
    "        print(\"select raw maf file for cohort\", cohort, file =sys.stderr )\n",
    "    else:\n",
    "        path = proc_maf_path\n",
    "        print(\"select processed maf file for cohort\", cohort, file =sys.stderr )\n",
    "    print(\"use path\",path, file = sys.stderr)\n",
    "    for fname in os.listdir(path):\n",
    "        if fname.endswith(\".maf.txt\"):\n",
    "            #print(sname)\n",
    "            df = pd.read_csv(path+fname, sep = \"\\t\", encoding='latin-1')\n",
    "            sname = df[\"Tumor_Sample_Barcode\"].values[0]\n",
    "            vatiant_types = vatiant_types | set(df[\"Variant_Classification\"].values)\n",
    "            if \"Protein_Change\" in df.columns:\n",
    "                protein_change = \"Protein_Change\"\n",
    "            elif \"amino_acid_change_WU\" in df.columns:\n",
    "                protein_change = \"amino_acid_change_WU\"\n",
    "            elif \"AAChange\" in df.columns:\n",
    "                protein_change = \"AAChange\"\n",
    "            elif \"amino_acid_change\" in df.columns:\n",
    "                protein_change = \"amino_acid_change\"\n",
    "            else:\n",
    "                protein_change = \"None\"\n",
    "                print(\"Protein change columns not found in\", fname, cohort,file=sys.stderr)\n",
    "            df.fillna(value={protein_change:\"NA\"}, inplace=True)\n",
    "            df = read_broad_maf(df, tcga_point, tcga_truncating, protein_change =  protein_change)\n",
    "            # if all Entrez gene IDs are zeroes\n",
    "            if set(df[\"Entrez_gene_ID\"].values) == set([0]):\n",
    "                # remap Hugo symbols \n",
    "                df = hgnc2entrez_mapper(df,ncbi_symbols,ncbi_synonyms)\n",
    "            elif 0 in set(df[\"Entrez_gene_ID\"].values) :\n",
    "                # if zero in Entrez gene IDs, remove \n",
    "                df = df.loc[df[\"Entrez_gene_ID\"]!=0,:]\n",
    "            if df.shape[0] == 0:\n",
    "                tcga[sname] = {}\n",
    "            elif \"AAChange\" in df.columns:\n",
    "                # exlued point mutations with undefined postions \n",
    "                s = df.loc[df[\"aa_pos\"]== (\"NA\",\"NA\"),:].loc[df[\"function\"]== \"point_mutation\",:]\n",
    "                if s.shape[0] > 0:\n",
    "                    print(s[[\"Hugo_Symbol\",\"Entrez_gene_ID\",\"Variant_Classification\",\n",
    "                             \"function\",protein_change,\"aa_pos\"]],file = sys.stderr)\n",
    "                    df = df.loc[~df.index.isin(s.index.values),:]\n",
    "                    if s.shape[0] > 5:\n",
    "                        print(sname, cohort,s.shape[0],\"point mutations without a position\",df.shape[0],\"remain\",file = sys.stderr)\n",
    "                if df.shape[0] == 0:\n",
    "                    tcga[sname] = {}\n",
    "                else:\n",
    "                    tcga[sname] = mutations2score(df, TSG_entrez,OG_entrez, hotspots, w=0.05)\n",
    "    # write table\n",
    "    tcga = pd.DataFrame.from_dict(tcga)\n",
    "    tcga.fillna(0,inplace = True)\n",
    "    tcga.to_csv(\"preprocessed/TCGA-\"+cohort+\".non_bin_mutations.tsv\",sep = \"\\t\")\n",
    "    # binarize and write\n",
    "    #tcga= tcga.applymap(lambda x: binarize(x))\n",
    "    #tcga.to_csv(preprocessed_dir+\"/TCGA-\"+cohort+\".binary_mutations.tsv\",sep = \"\\t\")"
   ]
  },
  {
   "cell_type": "code",
   "execution_count": null,
   "metadata": {},
   "outputs": [],
   "source": []
  },
  {
   "cell_type": "code",
   "execution_count": null,
   "metadata": {},
   "outputs": [],
   "source": []
  },
  {
   "cell_type": "code",
   "execution_count": null,
   "metadata": {},
   "outputs": [],
   "source": []
  }
 ],
 "metadata": {
  "kernelspec": {
   "display_name": "Python 3",
   "language": "python",
   "name": "python3"
  },
  "language_info": {
   "codemirror_mode": {
    "name": "ipython",
    "version": 3
   },
   "file_extension": ".py",
   "mimetype": "text/x-python",
   "name": "python",
   "nbconvert_exporter": "python",
   "pygments_lexer": "ipython3",
   "version": "3.7.3"
  }
 },
 "nbformat": 4,
 "nbformat_minor": 2
}
